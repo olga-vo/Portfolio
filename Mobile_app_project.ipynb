{
  "cells": [
    {
      "cell_type": "markdown",
      "metadata": {
        "id": "eTsZm1NwdvPp"
      },
      "source": [
        "# Анализ поведения пользователей приложения \"Ненужные вещи\""
      ]
    },
    {
      "cell_type": "markdown",
      "metadata": {
        "id": "kDjxTX7jd-qP"
      },
      "source": [
        "## Описание проекта:\n",
        " В мобильном приложении \"Ненужные вещи\"пользователи продают свои ненужные вещи, размещая их на доске объявлений. Пользователь находят через рекомендательную, либо поисковую систему нужный ему товар, созванивается с продавцом и договаривется о факте продажи товара."
      ]
    },
    {
      "cell_type": "markdown",
      "metadata": {
        "id": "H1EjwSM_APzG"
      },
      "source": [
        "## Заказчик:\n",
        "продакт-менеджер, который занимается продвижением данного приложения как продукта"
      ]
    },
    {
      "cell_type": "markdown",
      "metadata": {
        "id": "OJMhV0qRAjB7"
      },
      "source": [
        "## Цель исследования:\n",
        "проанализировать поведение пользователей приложения. Определить, как клиенты используют его, какие сценарии есть событий, какие есть характерные черты у тех, кто совершает целевое действие, и кто не совершает"
      ]
    },
    {
      "cell_type": "markdown",
      "metadata": {
        "id": "Qa4CBqZSAy0b"
      },
      "source": [
        "## Задачи исследования:\n",
        "*   определить, какие события влияют на конверсию в целевое действие\n",
        "*   исследовать, какие сценарии использования приложения выделяются"
      ]
    },
    {
      "cell_type": "markdown",
      "metadata": {
        "id": "eyWErSEfGMRF"
      },
      "source": [
        "## 1. Предобработка данных"
      ]
    },
    {
      "cell_type": "code",
      "execution_count": 1,
      "metadata": {
        "id": "RfdrbEROIg7I"
      },
      "outputs": [],
      "source": [
        "# импортируем библиотеки\n",
        "import pandas as pd\n",
        "import scipy.stats as st\n",
        "import datetime as dt\n",
        "import numpy as np\n",
        "import matplotlib.pyplot as plt\n",
        "from pandas.plotting import register_matplotlib_converters\n",
        "import warnings\n",
        "import seaborn as sns\n",
        "from plotly import graph_objects as go\n",
        "import plotly.express as px\n",
        "import math as mth\n",
        "from statsmodels.stats.multitest import multipletests\n",
        "from numpy import median\n",
        "import requests\n",
        "from tqdm import tqdm\n",
        "from tqdm.notebook import tqdm as tqdm_notebook\n",
        "# конвертеры, которые позволяют использовать типы pandas в matplotlib\n",
        "register_matplotlib_converters()"
      ]
    },
    {
      "cell_type": "code",
      "execution_count": 2,
      "metadata": {
        "id": "_GbWTthjspXe"
      },
      "outputs": [],
      "source": [
        "#задаем размеры графиков\n",
        "sns.set(rc={'figure.figsize':(12,6)})\n",
        "# определяем палитру\n",
        "sns.set_palette('pastel')\n",
        "# задаем стиль графиков\n",
        "sns.set_style('whitegrid')"
      ]
    },
    {
      "cell_type": "code",
      "execution_count": 3,
      "metadata": {
        "id": "r6wOY8xFx0AQ"
      },
      "outputs": [],
      "source": [
        "# загружаем данные\n",
        "sources, events = (\n",
        "    pd.read_csv('/content/mobile_sourсes.csv'),\n",
        "    pd.read_csv('/content/mobile_dataset.csv'),\n",
        "    )"
      ]
    },
    {
      "cell_type": "code",
      "execution_count": 4,
      "metadata": {
        "id": "9LoJpld41aYi"
      },
      "outputs": [],
      "source": [
        "# изучим основную информацию о данных, проверим на пропуски идубликаты\n",
        "def data_info(data):\n",
        "    return (display(data.head()),\n",
        "           data.info(),\n",
        "           data.isna().sum(),\n",
        "           data.duplicated().sum(),\n",
        "           round((data.duplicated().sum()) / len(data) * 100, 2))"
      ]
    },
    {
      "cell_type": "code",
      "execution_count": 5,
      "metadata": {
        "colab": {
          "base_uri": "https://localhost:8080/",
          "height": 484
        },
        "id": "UC6Kjkjlc6g3",
        "outputId": "e2074cd9-ec75-47a2-b1ea-159bab8f210f"
      },
      "outputs": [
        {
          "output_type": "display_data",
          "data": {
            "text/plain": [
              "                                 userId  source\n",
              "0  020292ab-89bc-4156-9acf-68bc2783f894   other\n",
              "1  cf7eda61-9349-469f-ac27-e5b6f5ec475c  yandex\n",
              "2  8c356c42-3ba9-4cb6-80b8-3f868d0192c3  yandex\n",
              "3  d9b06b47-0f36-419b-bbb0-3533e582a6cb   other\n",
              "4  f32e1e2a-3027-4693-b793-b7b3ff274439  google"
            ],
            "text/html": [
              "\n",
              "\n",
              "  <div id=\"df-7db8b6db-e298-439f-9660-f34110ec8459\">\n",
              "    <div class=\"colab-df-container\">\n",
              "      <div>\n",
              "<style scoped>\n",
              "    .dataframe tbody tr th:only-of-type {\n",
              "        vertical-align: middle;\n",
              "    }\n",
              "\n",
              "    .dataframe tbody tr th {\n",
              "        vertical-align: top;\n",
              "    }\n",
              "\n",
              "    .dataframe thead th {\n",
              "        text-align: right;\n",
              "    }\n",
              "</style>\n",
              "<table border=\"1\" class=\"dataframe\">\n",
              "  <thead>\n",
              "    <tr style=\"text-align: right;\">\n",
              "      <th></th>\n",
              "      <th>userId</th>\n",
              "      <th>source</th>\n",
              "    </tr>\n",
              "  </thead>\n",
              "  <tbody>\n",
              "    <tr>\n",
              "      <th>0</th>\n",
              "      <td>020292ab-89bc-4156-9acf-68bc2783f894</td>\n",
              "      <td>other</td>\n",
              "    </tr>\n",
              "    <tr>\n",
              "      <th>1</th>\n",
              "      <td>cf7eda61-9349-469f-ac27-e5b6f5ec475c</td>\n",
              "      <td>yandex</td>\n",
              "    </tr>\n",
              "    <tr>\n",
              "      <th>2</th>\n",
              "      <td>8c356c42-3ba9-4cb6-80b8-3f868d0192c3</td>\n",
              "      <td>yandex</td>\n",
              "    </tr>\n",
              "    <tr>\n",
              "      <th>3</th>\n",
              "      <td>d9b06b47-0f36-419b-bbb0-3533e582a6cb</td>\n",
              "      <td>other</td>\n",
              "    </tr>\n",
              "    <tr>\n",
              "      <th>4</th>\n",
              "      <td>f32e1e2a-3027-4693-b793-b7b3ff274439</td>\n",
              "      <td>google</td>\n",
              "    </tr>\n",
              "  </tbody>\n",
              "</table>\n",
              "</div>\n",
              "      <button class=\"colab-df-convert\" onclick=\"convertToInteractive('df-7db8b6db-e298-439f-9660-f34110ec8459')\"\n",
              "              title=\"Convert this dataframe to an interactive table.\"\n",
              "              style=\"display:none;\">\n",
              "\n",
              "  <svg xmlns=\"http://www.w3.org/2000/svg\" height=\"24px\"viewBox=\"0 0 24 24\"\n",
              "       width=\"24px\">\n",
              "    <path d=\"M0 0h24v24H0V0z\" fill=\"none\"/>\n",
              "    <path d=\"M18.56 5.44l.94 2.06.94-2.06 2.06-.94-2.06-.94-.94-2.06-.94 2.06-2.06.94zm-11 1L8.5 8.5l.94-2.06 2.06-.94-2.06-.94L8.5 2.5l-.94 2.06-2.06.94zm10 10l.94 2.06.94-2.06 2.06-.94-2.06-.94-.94-2.06-.94 2.06-2.06.94z\"/><path d=\"M17.41 7.96l-1.37-1.37c-.4-.4-.92-.59-1.43-.59-.52 0-1.04.2-1.43.59L10.3 9.45l-7.72 7.72c-.78.78-.78 2.05 0 2.83L4 21.41c.39.39.9.59 1.41.59.51 0 1.02-.2 1.41-.59l7.78-7.78 2.81-2.81c.8-.78.8-2.07 0-2.86zM5.41 20L4 18.59l7.72-7.72 1.47 1.35L5.41 20z\"/>\n",
              "  </svg>\n",
              "      </button>\n",
              "\n",
              "\n",
              "\n",
              "    <div id=\"df-e91e8cdf-8a8c-4ae1-9a06-58d3c9faa761\">\n",
              "      <button class=\"colab-df-quickchart\" onclick=\"quickchart('df-e91e8cdf-8a8c-4ae1-9a06-58d3c9faa761')\"\n",
              "              title=\"Suggest charts.\"\n",
              "              style=\"display:none;\">\n",
              "\n",
              "<svg xmlns=\"http://www.w3.org/2000/svg\" height=\"24px\"viewBox=\"0 0 24 24\"\n",
              "     width=\"24px\">\n",
              "    <g>\n",
              "        <path d=\"M19 3H5c-1.1 0-2 .9-2 2v14c0 1.1.9 2 2 2h14c1.1 0 2-.9 2-2V5c0-1.1-.9-2-2-2zM9 17H7v-7h2v7zm4 0h-2V7h2v10zm4 0h-2v-4h2v4z\"/>\n",
              "    </g>\n",
              "</svg>\n",
              "      </button>\n",
              "    </div>\n",
              "\n",
              "<style>\n",
              "  .colab-df-quickchart {\n",
              "    background-color: #E8F0FE;\n",
              "    border: none;\n",
              "    border-radius: 50%;\n",
              "    cursor: pointer;\n",
              "    display: none;\n",
              "    fill: #1967D2;\n",
              "    height: 32px;\n",
              "    padding: 0 0 0 0;\n",
              "    width: 32px;\n",
              "  }\n",
              "\n",
              "  .colab-df-quickchart:hover {\n",
              "    background-color: #E2EBFA;\n",
              "    box-shadow: 0px 1px 2px rgba(60, 64, 67, 0.3), 0px 1px 3px 1px rgba(60, 64, 67, 0.15);\n",
              "    fill: #174EA6;\n",
              "  }\n",
              "\n",
              "  [theme=dark] .colab-df-quickchart {\n",
              "    background-color: #3B4455;\n",
              "    fill: #D2E3FC;\n",
              "  }\n",
              "\n",
              "  [theme=dark] .colab-df-quickchart:hover {\n",
              "    background-color: #434B5C;\n",
              "    box-shadow: 0px 1px 3px 1px rgba(0, 0, 0, 0.15);\n",
              "    filter: drop-shadow(0px 1px 2px rgba(0, 0, 0, 0.3));\n",
              "    fill: #FFFFFF;\n",
              "  }\n",
              "</style>\n",
              "\n",
              "    <script>\n",
              "      async function quickchart(key) {\n",
              "        const containerElement = document.querySelector('#' + key);\n",
              "        const charts = await google.colab.kernel.invokeFunction(\n",
              "            'suggestCharts', [key], {});\n",
              "      }\n",
              "    </script>\n",
              "\n",
              "\n",
              "      <script>\n",
              "\n",
              "function displayQuickchartButton(domScope) {\n",
              "  let quickchartButtonEl =\n",
              "    domScope.querySelector('#df-e91e8cdf-8a8c-4ae1-9a06-58d3c9faa761 button.colab-df-quickchart');\n",
              "  quickchartButtonEl.style.display =\n",
              "    google.colab.kernel.accessAllowed ? 'block' : 'none';\n",
              "}\n",
              "\n",
              "        displayQuickchartButton(document);\n",
              "      </script>\n",
              "      <style>\n",
              "    .colab-df-container {\n",
              "      display:flex;\n",
              "      flex-wrap:wrap;\n",
              "      gap: 12px;\n",
              "    }\n",
              "\n",
              "    .colab-df-convert {\n",
              "      background-color: #E8F0FE;\n",
              "      border: none;\n",
              "      border-radius: 50%;\n",
              "      cursor: pointer;\n",
              "      display: none;\n",
              "      fill: #1967D2;\n",
              "      height: 32px;\n",
              "      padding: 0 0 0 0;\n",
              "      width: 32px;\n",
              "    }\n",
              "\n",
              "    .colab-df-convert:hover {\n",
              "      background-color: #E2EBFA;\n",
              "      box-shadow: 0px 1px 2px rgba(60, 64, 67, 0.3), 0px 1px 3px 1px rgba(60, 64, 67, 0.15);\n",
              "      fill: #174EA6;\n",
              "    }\n",
              "\n",
              "    [theme=dark] .colab-df-convert {\n",
              "      background-color: #3B4455;\n",
              "      fill: #D2E3FC;\n",
              "    }\n",
              "\n",
              "    [theme=dark] .colab-df-convert:hover {\n",
              "      background-color: #434B5C;\n",
              "      box-shadow: 0px 1px 3px 1px rgba(0, 0, 0, 0.15);\n",
              "      filter: drop-shadow(0px 1px 2px rgba(0, 0, 0, 0.3));\n",
              "      fill: #FFFFFF;\n",
              "    }\n",
              "  </style>\n",
              "\n",
              "      <script>\n",
              "        const buttonEl =\n",
              "          document.querySelector('#df-7db8b6db-e298-439f-9660-f34110ec8459 button.colab-df-convert');\n",
              "        buttonEl.style.display =\n",
              "          google.colab.kernel.accessAllowed ? 'block' : 'none';\n",
              "\n",
              "        async function convertToInteractive(key) {\n",
              "          const element = document.querySelector('#df-7db8b6db-e298-439f-9660-f34110ec8459');\n",
              "          const dataTable =\n",
              "            await google.colab.kernel.invokeFunction('convertToInteractive',\n",
              "                                                     [key], {});\n",
              "          if (!dataTable) return;\n",
              "\n",
              "          const docLinkHtml = 'Like what you see? Visit the ' +\n",
              "            '<a target=\"_blank\" href=https://colab.research.google.com/notebooks/data_table.ipynb>data table notebook</a>'\n",
              "            + ' to learn more about interactive tables.';\n",
              "          element.innerHTML = '';\n",
              "          dataTable['output_type'] = 'display_data';\n",
              "          await google.colab.output.renderOutput(dataTable, element);\n",
              "          const docLink = document.createElement('div');\n",
              "          docLink.innerHTML = docLinkHtml;\n",
              "          element.appendChild(docLink);\n",
              "        }\n",
              "      </script>\n",
              "    </div>\n",
              "  </div>\n"
            ]
          },
          "metadata": {}
        },
        {
          "output_type": "stream",
          "name": "stdout",
          "text": [
            "<class 'pandas.core.frame.DataFrame'>\n",
            "RangeIndex: 4293 entries, 0 to 4292\n",
            "Data columns (total 2 columns):\n",
            " #   Column  Non-Null Count  Dtype \n",
            "---  ------  --------------  ----- \n",
            " 0   userId  4293 non-null   object\n",
            " 1   source  4293 non-null   object\n",
            "dtypes: object(2)\n",
            "memory usage: 67.2+ KB\n"
          ]
        },
        {
          "output_type": "execute_result",
          "data": {
            "text/plain": [
              "(None,\n",
              " None,\n",
              " userId    0\n",
              " source    0\n",
              " dtype: int64,\n",
              " 0,\n",
              " 0.0)"
            ]
          },
          "metadata": {},
          "execution_count": 5
        }
      ],
      "source": [
        "data_info(sources)"
      ]
    },
    {
      "cell_type": "code",
      "execution_count": 6,
      "metadata": {
        "colab": {
          "base_uri": "https://localhost:8080/",
          "height": 518
        },
        "id": "nfkb30xKdCxp",
        "outputId": "36fcf89f-fd0e-4f4f-ef4f-6242a9c323a1"
      },
      "outputs": [
        {
          "output_type": "display_data",
          "data": {
            "text/plain": [
              "                   event.time   event.name  \\\n",
              "0  2019-10-07 00:00:00.431357  advert_open   \n",
              "1  2019-10-07 00:00:01.236320    tips_show   \n",
              "2  2019-10-07 00:00:02.245341    tips_show   \n",
              "3  2019-10-07 00:00:07.039334    tips_show   \n",
              "4  2019-10-07 00:00:56.319813  advert_open   \n",
              "\n",
              "                                user.id  \n",
              "0  020292ab-89bc-4156-9acf-68bc2783f894  \n",
              "1  020292ab-89bc-4156-9acf-68bc2783f894  \n",
              "2  cf7eda61-9349-469f-ac27-e5b6f5ec475c  \n",
              "3  020292ab-89bc-4156-9acf-68bc2783f894  \n",
              "4  cf7eda61-9349-469f-ac27-e5b6f5ec475c  "
            ],
            "text/html": [
              "\n",
              "\n",
              "  <div id=\"df-f7011ff6-172c-4c24-b57f-94c568e48ad7\">\n",
              "    <div class=\"colab-df-container\">\n",
              "      <div>\n",
              "<style scoped>\n",
              "    .dataframe tbody tr th:only-of-type {\n",
              "        vertical-align: middle;\n",
              "    }\n",
              "\n",
              "    .dataframe tbody tr th {\n",
              "        vertical-align: top;\n",
              "    }\n",
              "\n",
              "    .dataframe thead th {\n",
              "        text-align: right;\n",
              "    }\n",
              "</style>\n",
              "<table border=\"1\" class=\"dataframe\">\n",
              "  <thead>\n",
              "    <tr style=\"text-align: right;\">\n",
              "      <th></th>\n",
              "      <th>event.time</th>\n",
              "      <th>event.name</th>\n",
              "      <th>user.id</th>\n",
              "    </tr>\n",
              "  </thead>\n",
              "  <tbody>\n",
              "    <tr>\n",
              "      <th>0</th>\n",
              "      <td>2019-10-07 00:00:00.431357</td>\n",
              "      <td>advert_open</td>\n",
              "      <td>020292ab-89bc-4156-9acf-68bc2783f894</td>\n",
              "    </tr>\n",
              "    <tr>\n",
              "      <th>1</th>\n",
              "      <td>2019-10-07 00:00:01.236320</td>\n",
              "      <td>tips_show</td>\n",
              "      <td>020292ab-89bc-4156-9acf-68bc2783f894</td>\n",
              "    </tr>\n",
              "    <tr>\n",
              "      <th>2</th>\n",
              "      <td>2019-10-07 00:00:02.245341</td>\n",
              "      <td>tips_show</td>\n",
              "      <td>cf7eda61-9349-469f-ac27-e5b6f5ec475c</td>\n",
              "    </tr>\n",
              "    <tr>\n",
              "      <th>3</th>\n",
              "      <td>2019-10-07 00:00:07.039334</td>\n",
              "      <td>tips_show</td>\n",
              "      <td>020292ab-89bc-4156-9acf-68bc2783f894</td>\n",
              "    </tr>\n",
              "    <tr>\n",
              "      <th>4</th>\n",
              "      <td>2019-10-07 00:00:56.319813</td>\n",
              "      <td>advert_open</td>\n",
              "      <td>cf7eda61-9349-469f-ac27-e5b6f5ec475c</td>\n",
              "    </tr>\n",
              "  </tbody>\n",
              "</table>\n",
              "</div>\n",
              "      <button class=\"colab-df-convert\" onclick=\"convertToInteractive('df-f7011ff6-172c-4c24-b57f-94c568e48ad7')\"\n",
              "              title=\"Convert this dataframe to an interactive table.\"\n",
              "              style=\"display:none;\">\n",
              "\n",
              "  <svg xmlns=\"http://www.w3.org/2000/svg\" height=\"24px\"viewBox=\"0 0 24 24\"\n",
              "       width=\"24px\">\n",
              "    <path d=\"M0 0h24v24H0V0z\" fill=\"none\"/>\n",
              "    <path d=\"M18.56 5.44l.94 2.06.94-2.06 2.06-.94-2.06-.94-.94-2.06-.94 2.06-2.06.94zm-11 1L8.5 8.5l.94-2.06 2.06-.94-2.06-.94L8.5 2.5l-.94 2.06-2.06.94zm10 10l.94 2.06.94-2.06 2.06-.94-2.06-.94-.94-2.06-.94 2.06-2.06.94z\"/><path d=\"M17.41 7.96l-1.37-1.37c-.4-.4-.92-.59-1.43-.59-.52 0-1.04.2-1.43.59L10.3 9.45l-7.72 7.72c-.78.78-.78 2.05 0 2.83L4 21.41c.39.39.9.59 1.41.59.51 0 1.02-.2 1.41-.59l7.78-7.78 2.81-2.81c.8-.78.8-2.07 0-2.86zM5.41 20L4 18.59l7.72-7.72 1.47 1.35L5.41 20z\"/>\n",
              "  </svg>\n",
              "      </button>\n",
              "\n",
              "\n",
              "\n",
              "    <div id=\"df-fed73071-83fd-4ca1-b9df-d1b55324bb0b\">\n",
              "      <button class=\"colab-df-quickchart\" onclick=\"quickchart('df-fed73071-83fd-4ca1-b9df-d1b55324bb0b')\"\n",
              "              title=\"Suggest charts.\"\n",
              "              style=\"display:none;\">\n",
              "\n",
              "<svg xmlns=\"http://www.w3.org/2000/svg\" height=\"24px\"viewBox=\"0 0 24 24\"\n",
              "     width=\"24px\">\n",
              "    <g>\n",
              "        <path d=\"M19 3H5c-1.1 0-2 .9-2 2v14c0 1.1.9 2 2 2h14c1.1 0 2-.9 2-2V5c0-1.1-.9-2-2-2zM9 17H7v-7h2v7zm4 0h-2V7h2v10zm4 0h-2v-4h2v4z\"/>\n",
              "    </g>\n",
              "</svg>\n",
              "      </button>\n",
              "    </div>\n",
              "\n",
              "<style>\n",
              "  .colab-df-quickchart {\n",
              "    background-color: #E8F0FE;\n",
              "    border: none;\n",
              "    border-radius: 50%;\n",
              "    cursor: pointer;\n",
              "    display: none;\n",
              "    fill: #1967D2;\n",
              "    height: 32px;\n",
              "    padding: 0 0 0 0;\n",
              "    width: 32px;\n",
              "  }\n",
              "\n",
              "  .colab-df-quickchart:hover {\n",
              "    background-color: #E2EBFA;\n",
              "    box-shadow: 0px 1px 2px rgba(60, 64, 67, 0.3), 0px 1px 3px 1px rgba(60, 64, 67, 0.15);\n",
              "    fill: #174EA6;\n",
              "  }\n",
              "\n",
              "  [theme=dark] .colab-df-quickchart {\n",
              "    background-color: #3B4455;\n",
              "    fill: #D2E3FC;\n",
              "  }\n",
              "\n",
              "  [theme=dark] .colab-df-quickchart:hover {\n",
              "    background-color: #434B5C;\n",
              "    box-shadow: 0px 1px 3px 1px rgba(0, 0, 0, 0.15);\n",
              "    filter: drop-shadow(0px 1px 2px rgba(0, 0, 0, 0.3));\n",
              "    fill: #FFFFFF;\n",
              "  }\n",
              "</style>\n",
              "\n",
              "    <script>\n",
              "      async function quickchart(key) {\n",
              "        const containerElement = document.querySelector('#' + key);\n",
              "        const charts = await google.colab.kernel.invokeFunction(\n",
              "            'suggestCharts', [key], {});\n",
              "      }\n",
              "    </script>\n",
              "\n",
              "\n",
              "      <script>\n",
              "\n",
              "function displayQuickchartButton(domScope) {\n",
              "  let quickchartButtonEl =\n",
              "    domScope.querySelector('#df-fed73071-83fd-4ca1-b9df-d1b55324bb0b button.colab-df-quickchart');\n",
              "  quickchartButtonEl.style.display =\n",
              "    google.colab.kernel.accessAllowed ? 'block' : 'none';\n",
              "}\n",
              "\n",
              "        displayQuickchartButton(document);\n",
              "      </script>\n",
              "      <style>\n",
              "    .colab-df-container {\n",
              "      display:flex;\n",
              "      flex-wrap:wrap;\n",
              "      gap: 12px;\n",
              "    }\n",
              "\n",
              "    .colab-df-convert {\n",
              "      background-color: #E8F0FE;\n",
              "      border: none;\n",
              "      border-radius: 50%;\n",
              "      cursor: pointer;\n",
              "      display: none;\n",
              "      fill: #1967D2;\n",
              "      height: 32px;\n",
              "      padding: 0 0 0 0;\n",
              "      width: 32px;\n",
              "    }\n",
              "\n",
              "    .colab-df-convert:hover {\n",
              "      background-color: #E2EBFA;\n",
              "      box-shadow: 0px 1px 2px rgba(60, 64, 67, 0.3), 0px 1px 3px 1px rgba(60, 64, 67, 0.15);\n",
              "      fill: #174EA6;\n",
              "    }\n",
              "\n",
              "    [theme=dark] .colab-df-convert {\n",
              "      background-color: #3B4455;\n",
              "      fill: #D2E3FC;\n",
              "    }\n",
              "\n",
              "    [theme=dark] .colab-df-convert:hover {\n",
              "      background-color: #434B5C;\n",
              "      box-shadow: 0px 1px 3px 1px rgba(0, 0, 0, 0.15);\n",
              "      filter: drop-shadow(0px 1px 2px rgba(0, 0, 0, 0.3));\n",
              "      fill: #FFFFFF;\n",
              "    }\n",
              "  </style>\n",
              "\n",
              "      <script>\n",
              "        const buttonEl =\n",
              "          document.querySelector('#df-f7011ff6-172c-4c24-b57f-94c568e48ad7 button.colab-df-convert');\n",
              "        buttonEl.style.display =\n",
              "          google.colab.kernel.accessAllowed ? 'block' : 'none';\n",
              "\n",
              "        async function convertToInteractive(key) {\n",
              "          const element = document.querySelector('#df-f7011ff6-172c-4c24-b57f-94c568e48ad7');\n",
              "          const dataTable =\n",
              "            await google.colab.kernel.invokeFunction('convertToInteractive',\n",
              "                                                     [key], {});\n",
              "          if (!dataTable) return;\n",
              "\n",
              "          const docLinkHtml = 'Like what you see? Visit the ' +\n",
              "            '<a target=\"_blank\" href=https://colab.research.google.com/notebooks/data_table.ipynb>data table notebook</a>'\n",
              "            + ' to learn more about interactive tables.';\n",
              "          element.innerHTML = '';\n",
              "          dataTable['output_type'] = 'display_data';\n",
              "          await google.colab.output.renderOutput(dataTable, element);\n",
              "          const docLink = document.createElement('div');\n",
              "          docLink.innerHTML = docLinkHtml;\n",
              "          element.appendChild(docLink);\n",
              "        }\n",
              "      </script>\n",
              "    </div>\n",
              "  </div>\n"
            ]
          },
          "metadata": {}
        },
        {
          "output_type": "stream",
          "name": "stdout",
          "text": [
            "<class 'pandas.core.frame.DataFrame'>\n",
            "RangeIndex: 74197 entries, 0 to 74196\n",
            "Data columns (total 3 columns):\n",
            " #   Column      Non-Null Count  Dtype \n",
            "---  ------      --------------  ----- \n",
            " 0   event.time  74197 non-null  object\n",
            " 1   event.name  74197 non-null  object\n",
            " 2   user.id     74197 non-null  object\n",
            "dtypes: object(3)\n",
            "memory usage: 1.7+ MB\n"
          ]
        },
        {
          "output_type": "execute_result",
          "data": {
            "text/plain": [
              "(None,\n",
              " None,\n",
              " event.time    0\n",
              " event.name    0\n",
              " user.id       0\n",
              " dtype: int64,\n",
              " 0,\n",
              " 0.0)"
            ]
          },
          "metadata": {},
          "execution_count": 6
        }
      ],
      "source": [
        "data_info(events)"
      ]
    },
    {
      "cell_type": "code",
      "execution_count": 7,
      "metadata": {
        "id": "IDFwtqmzdXMK"
      },
      "outputs": [],
      "source": [
        "#приведем названия столбцов к хорошему стилю\n",
        "sources.columns = ['user_id', 'source']\n",
        "events.columns = ['time', 'event', 'user_id']"
      ]
    },
    {
      "cell_type": "code",
      "execution_count": 8,
      "metadata": {
        "id": "KUPqhbaGE2mI"
      },
      "outputs": [],
      "source": [
        "# преобразование данных о времени\n",
        "events['time'] = pd.to_datetime(events['time'])"
      ]
    },
    {
      "cell_type": "markdown",
      "metadata": {
        "id": "0QB74WgLGUrI"
      },
      "source": [
        "Пропусков и явных дубликатов в данных нет. Названия столбцов приведены к хорошему стилю. Столбец с датой и временем приведен к соответствующему типу. Данные подготовлены к анализу."
      ]
    },
    {
      "cell_type": "markdown",
      "metadata": {
        "id": "xne_spfAGz1j"
      },
      "source": [
        "## 2. Исследовательский анализ данных"
      ]
    },
    {
      "cell_type": "code",
      "execution_count": 9,
      "metadata": {
        "colab": {
          "base_uri": "https://localhost:8080/"
        },
        "id": "CKEPf7ROFVaz",
        "outputId": "b2e8ffb8-e9cd-49a9-cc90-04e7341d0fb1"
      },
      "outputs": [
        {
          "output_type": "stream",
          "name": "stdout",
          "text": [
            "Общее количество пользователей в логе: 4293\n"
          ]
        }
      ],
      "source": [
        "# количество уникальных пользователей\n",
        "print('Общее количество пользователей в логе:', events['user_id'].nunique())"
      ]
    },
    {
      "cell_type": "code",
      "execution_count": 10,
      "metadata": {
        "colab": {
          "base_uri": "https://localhost:8080/"
        },
        "id": "h-qgV3ArHpem",
        "outputId": "979a93c1-1e54-4f5e-ad51-0e2f9abcb6c4"
      },
      "outputs": [
        {
          "output_type": "stream",
          "name": "stdout",
          "text": [
            "Общее количество событий в логе: 74197\n"
          ]
        }
      ],
      "source": [
        "# сколько всего событий в логе\n",
        "print('Общее количество событий в логе:', events.shape[0])"
      ]
    },
    {
      "cell_type": "code",
      "execution_count": 11,
      "metadata": {
        "colab": {
          "base_uri": "https://localhost:8080/"
        },
        "id": "WATRtcAlVv1K",
        "outputId": "7ed60171-ce52-450e-ec5e-87309a6b59b1"
      },
      "outputs": [
        {
          "output_type": "execute_result",
          "data": {
            "text/plain": [
              "array(['advert_open', 'contacts_call', 'contacts_show', 'favorites_add',\n",
              "       'map', 'photos_show', 'search_1', 'search_2', 'search_3',\n",
              "       'search_4', 'search_5', 'search_6', 'search_7', 'show_contacts',\n",
              "       'tips_click', 'tips_show'], dtype=object)"
            ]
          },
          "metadata": {},
          "execution_count": 11
        }
      ],
      "source": [
        "#какие события представлены\n",
        "events['event'].sort_values().unique()"
      ]
    },
    {
      "cell_type": "markdown",
      "metadata": {
        "id": "sN88KJyXWfVy"
      },
      "source": [
        "\n",
        "\n",
        "\n",
        "*   Contacts_show и show_contacts - это, очевидно, одно и то же событие. Объединим их в одно.\n",
        "*   Так как у нас нет детального описания действий пользователей, связанных с поиском по сайту, search_1 - search_7, объеденим их в одно действие search\n",
        "\n"
      ]
    },
    {
      "cell_type": "code",
      "execution_count": 12,
      "metadata": {
        "id": "dGRO8TumXjaB"
      },
      "outputs": [],
      "source": [
        "# переименовываем show_contacts в contacts_show\n",
        "events['event'] = events['event'].replace('show_contacts', 'contacts_show')"
      ]
    },
    {
      "cell_type": "code",
      "source": [
        "# search_1- search_7 меняем на search\n",
        "events['event'] = events['event'].str.replace('search_+\\d', 'search', regex=True)"
      ],
      "metadata": {
        "id": "5CU_13W578cL"
      },
      "execution_count": 13,
      "outputs": []
    },
    {
      "cell_type": "code",
      "execution_count": 14,
      "metadata": {
        "colab": {
          "base_uri": "https://localhost:8080/"
        },
        "id": "kh1HHlopbfFD",
        "outputId": "eceabb7f-93b3-4d1b-c934-5b109b018d0f"
      },
      "outputs": [
        {
          "output_type": "execute_result",
          "data": {
            "text/plain": [
              "array(['advert_open', 'tips_show', 'map', 'contacts_show', 'search',\n",
              "       'tips_click', 'photos_show', 'favorites_add', 'contacts_call'],\n",
              "      dtype=object)"
            ]
          },
          "metadata": {},
          "execution_count": 14
        }
      ],
      "source": [
        "events['event'].unique()"
      ]
    },
    {
      "cell_type": "markdown",
      "metadata": {
        "id": "Xl2U00YHg3ju"
      },
      "source": [
        "У нас 9 видов событий: advert_open, tips_show, map, contacts_show, search, tips_click, photos_show, favorites_add, contacts_call"
      ]
    },
    {
      "cell_type": "code",
      "execution_count": 15,
      "metadata": {
        "colab": {
          "base_uri": "https://localhost:8080/"
        },
        "id": "dI0sAVk7I5OT",
        "outputId": "9c9e9142-0a58-49ef-b77b-08ef6d49382c"
      },
      "outputs": [
        {
          "output_type": "stream",
          "name": "stdout",
          "text": [
            "Среднее количество событий на пользователя: 17.\n"
          ]
        }
      ],
      "source": [
        "# сколько в среднем событий приходится на пользователя\n",
        "print('Среднее количество событий на пользователя: %d.' % (events.shape[0]\n",
        "                                                    / events['user_id'].nunique()))"
      ]
    },
    {
      "cell_type": "code",
      "execution_count": 16,
      "metadata": {
        "colab": {
          "base_uri": "https://localhost:8080/",
          "height": 573
        },
        "id": "RV-shEIlJYCm",
        "outputId": "c4a20a45-ec6e-4304-c141-ea26b1487538"
      },
      "outputs": [
        {
          "output_type": "display_data",
          "data": {
            "text/plain": [
              "<Figure size 1200x600 with 1 Axes>"
            ],
            "image/png": "[encoded data removed]"
          },
          "metadata": {}
        }
      ],
      "source": [
        "# строим гистограмму кол-ва событий по пользователям\n",
        "events.groupby('user_id')['event'].count().hist(bins=70, ec='black')\n",
        "plt.title('Распределение событий по пользователям')\n",
        "plt.xlabel('количество событий')\n",
        "plt.ylabel('количество пользователей')\n",
        "plt.xlim(0, 150);"
      ]
    },
    {
      "cell_type": "code",
      "execution_count": 17,
      "metadata": {
        "colab": {
          "base_uri": "https://localhost:8080/"
        },
        "id": "anBgd9bfJofm",
        "outputId": "c5b768eb-60bb-46f3-e1d2-bc38f90b53e8"
      },
      "outputs": [
        {
          "output_type": "execute_result",
          "data": {
            "text/plain": [
              "count    4293.000000\n",
              "mean       17.283252\n",
              "std        29.130677\n",
              "min         1.000000\n",
              "25%         5.000000\n",
              "50%         9.000000\n",
              "75%        17.000000\n",
              "max       478.000000\n",
              "Name: event, dtype: float64"
            ]
          },
          "metadata": {},
          "execution_count": 17
        }
      ],
      "source": [
        "events.groupby('user_id')['event'].count().describe()"
      ]
    },
    {
      "cell_type": "markdown",
      "metadata": {
        "id": "FsEQGg60uN0S"
      },
      "source": [
        "Минимальное количество событий 1, есть пользователи, которые совершили больше 100 событий, но их очень немного. В среднем совершают 17 событий, а 50% пользователей осуществляют 9 событий. Чтобы не нарушать целостность эксперимента, не будем удалять слишком активных пользователей."
      ]
    },
    {
      "cell_type": "code",
      "execution_count": 18,
      "metadata": {
        "colab": {
          "base_uri": "https://localhost:8080/",
          "height": 112
        },
        "id": "SXFiemtYPUVM",
        "outputId": "15018244-f603-4d55-8080-d976076bb9f7"
      },
      "outputs": [
        {
          "output_type": "execute_result",
          "data": {
            "text/plain": [
              "                          time\n",
              "min 2019-10-07 00:00:00.431357\n",
              "max 2019-11-03 23:58:12.532487"
            ],
            "text/html": [
              "\n",
              "\n",
              "  <div id=\"df-fad0543a-f0d3-447a-8b49-4784d4fa6082\">\n",
              "    <div class=\"colab-df-container\">\n",
              "      <div>\n",
              "<style scoped>\n",
              "    .dataframe tbody tr th:only-of-type {\n",
              "        vertical-align: middle;\n",
              "    }\n",
              "\n",
              "    .dataframe tbody tr th {\n",
              "        vertical-align: top;\n",
              "    }\n",
              "\n",
              "    .dataframe thead th {\n",
              "        text-align: right;\n",
              "    }\n",
              "</style>\n",
              "<table border=\"1\" class=\"dataframe\">\n",
              "  <thead>\n",
              "    <tr style=\"text-align: right;\">\n",
              "      <th></th>\n",
              "      <th>time</th>\n",
              "    </tr>\n",
              "  </thead>\n",
              "  <tbody>\n",
              "    <tr>\n",
              "      <th>min</th>\n",
              "      <td>2019-10-07 00:00:00.431357</td>\n",
              "    </tr>\n",
              "    <tr>\n",
              "      <th>max</th>\n",
              "      <td>2019-11-03 23:58:12.532487</td>\n",
              "    </tr>\n",
              "  </tbody>\n",
              "</table>\n",
              "</div>\n",
              "      <button class=\"colab-df-convert\" onclick=\"convertToInteractive('df-fad0543a-f0d3-447a-8b49-4784d4fa6082')\"\n",
              "              title=\"Convert this dataframe to an interactive table.\"\n",
              "              style=\"display:none;\">\n",
              "\n",
              "  <svg xmlns=\"http://www.w3.org/2000/svg\" height=\"24px\"viewBox=\"0 0 24 24\"\n",
              "       width=\"24px\">\n",
              "    <path d=\"M0 0h24v24H0V0z\" fill=\"none\"/>\n",
              "    <path d=\"M18.56 5.44l.94 2.06.94-2.06 2.06-.94-2.06-.94-.94-2.06-.94 2.06-2.06.94zm-11 1L8.5 8.5l.94-2.06 2.06-.94-2.06-.94L8.5 2.5l-.94 2.06-2.06.94zm10 10l.94 2.06.94-2.06 2.06-.94-2.06-.94-.94-2.06-.94 2.06-2.06.94z\"/><path d=\"M17.41 7.96l-1.37-1.37c-.4-.4-.92-.59-1.43-.59-.52 0-1.04.2-1.43.59L10.3 9.45l-7.72 7.72c-.78.78-.78 2.05 0 2.83L4 21.41c.39.39.9.59 1.41.59.51 0 1.02-.2 1.41-.59l7.78-7.78 2.81-2.81c.8-.78.8-2.07 0-2.86zM5.41 20L4 18.59l7.72-7.72 1.47 1.35L5.41 20z\"/>\n",
              "  </svg>\n",
              "      </button>\n",
              "\n",
              "\n",
              "\n",
              "    <div id=\"df-61f3563c-6952-405c-92f7-29420edf8c57\">\n",
              "      <button class=\"colab-df-quickchart\" onclick=\"quickchart('df-61f3563c-6952-405c-92f7-29420edf8c57')\"\n",
              "              title=\"Suggest charts.\"\n",
              "              style=\"display:none;\">\n",
              "\n",
              "<svg xmlns=\"http://www.w3.org/2000/svg\" height=\"24px\"viewBox=\"0 0 24 24\"\n",
              "     width=\"24px\">\n",
              "    <g>\n",
              "        <path d=\"M19 3H5c-1.1 0-2 .9-2 2v14c0 1.1.9 2 2 2h14c1.1 0 2-.9 2-2V5c0-1.1-.9-2-2-2zM9 17H7v-7h2v7zm4 0h-2V7h2v10zm4 0h-2v-4h2v4z\"/>\n",
              "    </g>\n",
              "</svg>\n",
              "      </button>\n",
              "    </div>\n",
              "\n",
              "<style>\n",
              "  .colab-df-quickchart {\n",
              "    background-color: #E8F0FE;\n",
              "    border: none;\n",
              "    border-radius: 50%;\n",
              "    cursor: pointer;\n",
              "    display: none;\n",
              "    fill: #1967D2;\n",
              "    height: 32px;\n",
              "    padding: 0 0 0 0;\n",
              "    width: 32px;\n",
              "  }\n",
              "\n",
              "  .colab-df-quickchart:hover {\n",
              "    background-color: #E2EBFA;\n",
              "    box-shadow: 0px 1px 2px rgba(60, 64, 67, 0.3), 0px 1px 3px 1px rgba(60, 64, 67, 0.15);\n",
              "    fill: #174EA6;\n",
              "  }\n",
              "\n",
              "  [theme=dark] .colab-df-quickchart {\n",
              "    background-color: #3B4455;\n",
              "    fill: #D2E3FC;\n",
              "  }\n",
              "\n",
              "  [theme=dark] .colab-df-quickchart:hover {\n",
              "    background-color: #434B5C;\n",
              "    box-shadow: 0px 1px 3px 1px rgba(0, 0, 0, 0.15);\n",
              "    filter: drop-shadow(0px 1px 2px rgba(0, 0, 0, 0.3));\n",
              "    fill: #FFFFFF;\n",
              "  }\n",
              "</style>\n",
              "\n",
              "    <script>\n",
              "      async function quickchart(key) {\n",
              "        const containerElement = document.querySelector('#' + key);\n",
              "        const charts = await google.colab.kernel.invokeFunction(\n",
              "            'suggestCharts', [key], {});\n",
              "      }\n",
              "    </script>\n",
              "\n",
              "\n",
              "      <script>\n",
              "\n",
              "function displayQuickchartButton(domScope) {\n",
              "  let quickchartButtonEl =\n",
              "    domScope.querySelector('#df-61f3563c-6952-405c-92f7-29420edf8c57 button.colab-df-quickchart');\n",
              "  quickchartButtonEl.style.display =\n",
              "    google.colab.kernel.accessAllowed ? 'block' : 'none';\n",
              "}\n",
              "\n",
              "        displayQuickchartButton(document);\n",
              "      </script>\n",
              "      <style>\n",
              "    .colab-df-container {\n",
              "      display:flex;\n",
              "      flex-wrap:wrap;\n",
              "      gap: 12px;\n",
              "    }\n",
              "\n",
              "    .colab-df-convert {\n",
              "      background-color: #E8F0FE;\n",
              "      border: none;\n",
              "      border-radius: 50%;\n",
              "      cursor: pointer;\n",
              "      display: none;\n",
              "      fill: #1967D2;\n",
              "      height: 32px;\n",
              "      padding: 0 0 0 0;\n",
              "      width: 32px;\n",
              "    }\n",
              "\n",
              "    .colab-df-convert:hover {\n",
              "      background-color: #E2EBFA;\n",
              "      box-shadow: 0px 1px 2px rgba(60, 64, 67, 0.3), 0px 1px 3px 1px rgba(60, 64, 67, 0.15);\n",
              "      fill: #174EA6;\n",
              "    }\n",
              "\n",
              "    [theme=dark] .colab-df-convert {\n",
              "      background-color: #3B4455;\n",
              "      fill: #D2E3FC;\n",
              "    }\n",
              "\n",
              "    [theme=dark] .colab-df-convert:hover {\n",
              "      background-color: #434B5C;\n",
              "      box-shadow: 0px 1px 3px 1px rgba(0, 0, 0, 0.15);\n",
              "      filter: drop-shadow(0px 1px 2px rgba(0, 0, 0, 0.3));\n",
              "      fill: #FFFFFF;\n",
              "    }\n",
              "  </style>\n",
              "\n",
              "      <script>\n",
              "        const buttonEl =\n",
              "          document.querySelector('#df-fad0543a-f0d3-447a-8b49-4784d4fa6082 button.colab-df-convert');\n",
              "        buttonEl.style.display =\n",
              "          google.colab.kernel.accessAllowed ? 'block' : 'none';\n",
              "\n",
              "        async function convertToInteractive(key) {\n",
              "          const element = document.querySelector('#df-fad0543a-f0d3-447a-8b49-4784d4fa6082');\n",
              "          const dataTable =\n",
              "            await google.colab.kernel.invokeFunction('convertToInteractive',\n",
              "                                                     [key], {});\n",
              "          if (!dataTable) return;\n",
              "\n",
              "          const docLinkHtml = 'Like what you see? Visit the ' +\n",
              "            '<a target=\"_blank\" href=https://colab.research.google.com/notebooks/data_table.ipynb>data table notebook</a>'\n",
              "            + ' to learn more about interactive tables.';\n",
              "          element.innerHTML = '';\n",
              "          dataTable['output_type'] = 'display_data';\n",
              "          await google.colab.output.renderOutput(dataTable, element);\n",
              "          const docLink = document.createElement('div');\n",
              "          docLink.innerHTML = docLinkHtml;\n",
              "          element.appendChild(docLink);\n",
              "        }\n",
              "      </script>\n",
              "    </div>\n",
              "  </div>\n"
            ]
          },
          "metadata": {},
          "execution_count": 18
        }
      ],
      "source": [
        " # определяем максимальную и минимальную дату\n",
        "events.agg({'time':[min, max]})"
      ]
    },
    {
      "cell_type": "markdown",
      "metadata": {
        "id": "qV-Sa-7nui83"
      },
      "source": [
        "Мы распологаем данными с 7 октября 2019 по 3 ноября 2019, то есть почти за месяц использования приложения"
      ]
    },
    {
      "cell_type": "code",
      "execution_count": 19,
      "metadata": {
        "id": "UkhBOb6sKDD5"
      },
      "outputs": [],
      "source": [
        "# добавим отдельный столбец с датой\n",
        "events['date'] = pd.to_datetime(events['time'].dt.date)"
      ]
    },
    {
      "cell_type": "code",
      "execution_count": 20,
      "metadata": {
        "colab": {
          "base_uri": "https://localhost:8080/",
          "height": 631
        },
        "id": "VKCrrSepRTwo",
        "outputId": "68d6f105-e552-4dbe-965e-91b567953de1"
      },
      "outputs": [
        {
          "output_type": "display_data",
          "data": {
            "text/plain": [
              "<Figure size 1200x600 with 1 Axes>"
            ],
            "image/png": "[encoded data removed]"
          },
          "metadata": {}
        }
      ],
      "source": [
        "# график распределения событий по дням\n",
        "events['date'].hist(bins=28, ec='black')\n",
        "plt.title('Распределение событий по дням')\n",
        "plt.xlabel('Дата')\n",
        "plt.ylabel('Количество событий')\n",
        "plt.xticks(rotation=45);"
      ]
    },
    {
      "cell_type": "markdown",
      "metadata": {
        "id": "s1XHzLmhvg68"
      },
      "source": [
        "В течении периода исследования количество событий в день колебалось, но не падало ниже примерно 1900 событий в день, в определенные дни достигало более 3000. Очень резких спадов или всплесков не было."
      ]
    },
    {
      "cell_type": "code",
      "execution_count": 21,
      "metadata": {
        "colab": {
          "base_uri": "https://localhost:8080/",
          "height": 363
        },
        "id": "qP3A8jAblomX",
        "outputId": "6698abad-4d08-4235-fe18-f2fa28e1dcf2"
      },
      "outputs": [
        {
          "output_type": "execute_result",
          "data": {
            "text/plain": [
              "               user_id\n",
              "event                 \n",
              "tips_show        40055\n",
              "photos_show      10012\n",
              "search            6784\n",
              "advert_open       6164\n",
              "contacts_show     4529\n",
              "map               3881\n",
              "favorites_add     1417\n",
              "tips_click         814\n",
              "contacts_call      541"
            ],
            "text/html": [
              "\n",
              "\n",
              "  <div id=\"df-f877ce15-115b-4deb-899b-c32c30fa8ddd\">\n",
              "    <div class=\"colab-df-container\">\n",
              "      <div>\n",
              "<style scoped>\n",
              "    .dataframe tbody tr th:only-of-type {\n",
              "        vertical-align: middle;\n",
              "    }\n",
              "\n",
              "    .dataframe tbody tr th {\n",
              "        vertical-align: top;\n",
              "    }\n",
              "\n",
              "    .dataframe thead th {\n",
              "        text-align: right;\n",
              "    }\n",
              "</style>\n",
              "<table border=\"1\" class=\"dataframe\">\n",
              "  <thead>\n",
              "    <tr style=\"text-align: right;\">\n",
              "      <th></th>\n",
              "      <th>user_id</th>\n",
              "    </tr>\n",
              "    <tr>\n",
              "      <th>event</th>\n",
              "      <th></th>\n",
              "    </tr>\n",
              "  </thead>\n",
              "  <tbody>\n",
              "    <tr>\n",
              "      <th>tips_show</th>\n",
              "      <td>40055</td>\n",
              "    </tr>\n",
              "    <tr>\n",
              "      <th>photos_show</th>\n",
              "      <td>10012</td>\n",
              "    </tr>\n",
              "    <tr>\n",
              "      <th>search</th>\n",
              "      <td>6784</td>\n",
              "    </tr>\n",
              "    <tr>\n",
              "      <th>advert_open</th>\n",
              "      <td>6164</td>\n",
              "    </tr>\n",
              "    <tr>\n",
              "      <th>contacts_show</th>\n",
              "      <td>4529</td>\n",
              "    </tr>\n",
              "    <tr>\n",
              "      <th>map</th>\n",
              "      <td>3881</td>\n",
              "    </tr>\n",
              "    <tr>\n",
              "      <th>favorites_add</th>\n",
              "      <td>1417</td>\n",
              "    </tr>\n",
              "    <tr>\n",
              "      <th>tips_click</th>\n",
              "      <td>814</td>\n",
              "    </tr>\n",
              "    <tr>\n",
              "      <th>contacts_call</th>\n",
              "      <td>541</td>\n",
              "    </tr>\n",
              "  </tbody>\n",
              "</table>\n",
              "</div>\n",
              "      <button class=\"colab-df-convert\" onclick=\"convertToInteractive('df-f877ce15-115b-4deb-899b-c32c30fa8ddd')\"\n",
              "              title=\"Convert this dataframe to an interactive table.\"\n",
              "              style=\"display:none;\">\n",
              "\n",
              "  <svg xmlns=\"http://www.w3.org/2000/svg\" height=\"24px\"viewBox=\"0 0 24 24\"\n",
              "       width=\"24px\">\n",
              "    <path d=\"M0 0h24v24H0V0z\" fill=\"none\"/>\n",
              "    <path d=\"M18.56 5.44l.94 2.06.94-2.06 2.06-.94-2.06-.94-.94-2.06-.94 2.06-2.06.94zm-11 1L8.5 8.5l.94-2.06 2.06-.94-2.06-.94L8.5 2.5l-.94 2.06-2.06.94zm10 10l.94 2.06.94-2.06 2.06-.94-2.06-.94-.94-2.06-.94 2.06-2.06.94z\"/><path d=\"M17.41 7.96l-1.37-1.37c-.4-.4-.92-.59-1.43-.59-.52 0-1.04.2-1.43.59L10.3 9.45l-7.72 7.72c-.78.78-.78 2.05 0 2.83L4 21.41c.39.39.9.59 1.41.59.51 0 1.02-.2 1.41-.59l7.78-7.78 2.81-2.81c.8-.78.8-2.07 0-2.86zM5.41 20L4 18.59l7.72-7.72 1.47 1.35L5.41 20z\"/>\n",
              "  </svg>\n",
              "      </button>\n",
              "\n",
              "\n",
              "\n",
              "    <div id=\"df-e5107c68-6040-4f08-9e8b-3afc8d90c3c6\">\n",
              "      <button class=\"colab-df-quickchart\" onclick=\"quickchart('df-e5107c68-6040-4f08-9e8b-3afc8d90c3c6')\"\n",
              "              title=\"Suggest charts.\"\n",
              "              style=\"display:none;\">\n",
              "\n",
              "<svg xmlns=\"http://www.w3.org/2000/svg\" height=\"24px\"viewBox=\"0 0 24 24\"\n",
              "     width=\"24px\">\n",
              "    <g>\n",
              "        <path d=\"M19 3H5c-1.1 0-2 .9-2 2v14c0 1.1.9 2 2 2h14c1.1 0 2-.9 2-2V5c0-1.1-.9-2-2-2zM9 17H7v-7h2v7zm4 0h-2V7h2v10zm4 0h-2v-4h2v4z\"/>\n",
              "    </g>\n",
              "</svg>\n",
              "      </button>\n",
              "    </div>\n",
              "\n",
              "<style>\n",
              "  .colab-df-quickchart {\n",
              "    background-color: #E8F0FE;\n",
              "    border: none;\n",
              "    border-radius: 50%;\n",
              "    cursor: pointer;\n",
              "    display: none;\n",
              "    fill: #1967D2;\n",
              "    height: 32px;\n",
              "    padding: 0 0 0 0;\n",
              "    width: 32px;\n",
              "  }\n",
              "\n",
              "  .colab-df-quickchart:hover {\n",
              "    background-color: #E2EBFA;\n",
              "    box-shadow: 0px 1px 2px rgba(60, 64, 67, 0.3), 0px 1px 3px 1px rgba(60, 64, 67, 0.15);\n",
              "    fill: #174EA6;\n",
              "  }\n",
              "\n",
              "  [theme=dark] .colab-df-quickchart {\n",
              "    background-color: #3B4455;\n",
              "    fill: #D2E3FC;\n",
              "  }\n",
              "\n",
              "  [theme=dark] .colab-df-quickchart:hover {\n",
              "    background-color: #434B5C;\n",
              "    box-shadow: 0px 1px 3px 1px rgba(0, 0, 0, 0.15);\n",
              "    filter: drop-shadow(0px 1px 2px rgba(0, 0, 0, 0.3));\n",
              "    fill: #FFFFFF;\n",
              "  }\n",
              "</style>\n",
              "\n",
              "    <script>\n",
              "      async function quickchart(key) {\n",
              "        const containerElement = document.querySelector('#' + key);\n",
              "        const charts = await google.colab.kernel.invokeFunction(\n",
              "            'suggestCharts', [key], {});\n",
              "      }\n",
              "    </script>\n",
              "\n",
              "\n",
              "      <script>\n",
              "\n",
              "function displayQuickchartButton(domScope) {\n",
              "  let quickchartButtonEl =\n",
              "    domScope.querySelector('#df-e5107c68-6040-4f08-9e8b-3afc8d90c3c6 button.colab-df-quickchart');\n",
              "  quickchartButtonEl.style.display =\n",
              "    google.colab.kernel.accessAllowed ? 'block' : 'none';\n",
              "}\n",
              "\n",
              "        displayQuickchartButton(document);\n",
              "      </script>\n",
              "      <style>\n",
              "    .colab-df-container {\n",
              "      display:flex;\n",
              "      flex-wrap:wrap;\n",
              "      gap: 12px;\n",
              "    }\n",
              "\n",
              "    .colab-df-convert {\n",
              "      background-color: #E8F0FE;\n",
              "      border: none;\n",
              "      border-radius: 50%;\n",
              "      cursor: pointer;\n",
              "      display: none;\n",
              "      fill: #1967D2;\n",
              "      height: 32px;\n",
              "      padding: 0 0 0 0;\n",
              "      width: 32px;\n",
              "    }\n",
              "\n",
              "    .colab-df-convert:hover {\n",
              "      background-color: #E2EBFA;\n",
              "      box-shadow: 0px 1px 2px rgba(60, 64, 67, 0.3), 0px 1px 3px 1px rgba(60, 64, 67, 0.15);\n",
              "      fill: #174EA6;\n",
              "    }\n",
              "\n",
              "    [theme=dark] .colab-df-convert {\n",
              "      background-color: #3B4455;\n",
              "      fill: #D2E3FC;\n",
              "    }\n",
              "\n",
              "    [theme=dark] .colab-df-convert:hover {\n",
              "      background-color: #434B5C;\n",
              "      box-shadow: 0px 1px 3px 1px rgba(0, 0, 0, 0.15);\n",
              "      filter: drop-shadow(0px 1px 2px rgba(0, 0, 0, 0.3));\n",
              "      fill: #FFFFFF;\n",
              "    }\n",
              "  </style>\n",
              "\n",
              "      <script>\n",
              "        const buttonEl =\n",
              "          document.querySelector('#df-f877ce15-115b-4deb-899b-c32c30fa8ddd button.colab-df-convert');\n",
              "        buttonEl.style.display =\n",
              "          google.colab.kernel.accessAllowed ? 'block' : 'none';\n",
              "\n",
              "        async function convertToInteractive(key) {\n",
              "          const element = document.querySelector('#df-f877ce15-115b-4deb-899b-c32c30fa8ddd');\n",
              "          const dataTable =\n",
              "            await google.colab.kernel.invokeFunction('convertToInteractive',\n",
              "                                                     [key], {});\n",
              "          if (!dataTable) return;\n",
              "\n",
              "          const docLinkHtml = 'Like what you see? Visit the ' +\n",
              "            '<a target=\"_blank\" href=https://colab.research.google.com/notebooks/data_table.ipynb>data table notebook</a>'\n",
              "            + ' to learn more about interactive tables.';\n",
              "          element.innerHTML = '';\n",
              "          dataTable['output_type'] = 'display_data';\n",
              "          await google.colab.output.renderOutput(dataTable, element);\n",
              "          const docLink = document.createElement('div');\n",
              "          docLink.innerHTML = docLinkHtml;\n",
              "          element.appendChild(docLink);\n",
              "        }\n",
              "      </script>\n",
              "    </div>\n",
              "  </div>\n"
            ]
          },
          "metadata": {},
          "execution_count": 21
        }
      ],
      "source": [
        "# посмотрим, какие события есть в логах, сколько их\n",
        "(events\n",
        "    .pivot_table(index='event', values='user_id', aggfunc='count')\n",
        "      .sort_values('user_id', ascending=False)\n",
        ")"
      ]
    },
    {
      "cell_type": "markdown",
      "metadata": {
        "id": "WMEQUfDTwJEr"
      },
      "source": [
        "Действие tips_show самое популярное, за ним следует photos_show, search и advert_open. Целевое действие contacts_show осуществилось 4529 раз"
      ]
    },
    {
      "cell_type": "code",
      "execution_count": 22,
      "metadata": {
        "colab": {
          "base_uri": "https://localhost:8080/",
          "height": 551
        },
        "id": "IEakFfKOWZOM",
        "outputId": "9d9a5838-2497-423d-a34c-5a486a47526e"
      },
      "outputs": [
        {
          "output_type": "display_data",
          "data": {
            "text/plain": [
              "<Figure size 1500x500 with 1 Axes>"
            ],
            "image/png": "[encoded data removed]"
          },
          "metadata": {}
        }
      ],
      "source": [
        "# количество уникальных пользователей по дням, график\n",
        "events.pivot_table(index='date', values='user_id', aggfunc='nunique').plot(kind='bar', y='user_id', figsize=(15, 5), ec='black')\n",
        "plt.title('Распределение уникальных пользователей по дням')\n",
        "plt.xlabel('Дата')\n",
        "plt.ylabel('Количество пользователей');\n"
      ]
    },
    {
      "cell_type": "markdown",
      "metadata": {
        "id": "VhBR9VuixTP5"
      },
      "source": [
        "Количество уникальных пользователей в день с небольшими колебаниями растет со второй недели"
      ]
    },
    {
      "cell_type": "code",
      "execution_count": 23,
      "metadata": {
        "colab": {
          "base_uri": "https://localhost:8080/",
          "height": 547
        },
        "id": "uplpOneBni81",
        "outputId": "414d1068-7b8e-4d3a-8c2c-00c07eb5cf5b"
      },
      "outputs": [
        {
          "output_type": "display_data",
          "data": {
            "text/plain": [
              "<Figure size 1500x500 with 1 Axes>"
            ],
            "image/png": "[encoded data removed]"
          },
          "metadata": {}
        }
      ],
      "source": [
        "# распределение событий на пользователя по дням\n",
        "events.pivot_table(index='date', values='user_id', aggfunc='count').plot(kind='bar', y='user_id', figsize=(15, 5), ec='black')\n",
        "plt.title('Количество событий на пользователя по дням')\n",
        "plt.xlabel('Дата')\n",
        "plt.ylabel('Количество событий');"
      ]
    },
    {
      "cell_type": "markdown",
      "metadata": {
        "id": "Vz0XhZeNyY13"
      },
      "source": [
        "Также резких всплесков и падений нет, но наблюдаются колебания. В основном 2000 и более событий в день на пользователя.\n",
        "> Стоит отметить снижение 2019-11-02 как по количеству событий, так и по количеству пользователей и количеству событий на пользователя"
      ]
    },
    {
      "cell_type": "code",
      "execution_count": 24,
      "metadata": {
        "id": "tXgU9e9c3O4F"
      },
      "outputs": [],
      "source": [
        "# действия, которые совершали уникальные пользователи, совершившие целевое действие\n",
        "target = (\n",
        "         events[events['user_id'].isin(events.query('event == \"contacts_show\"')['user_id']\n",
        "         .unique())].reset_index(drop=True)\n",
        ")"
      ]
    },
    {
      "cell_type": "code",
      "execution_count": 25,
      "metadata": {
        "id": "NkGZ4bDR_Yyv"
      },
      "outputs": [],
      "source": [
        "# количество уникальных пользователей по событиям\n",
        "fnl2= (events\n",
        "     .pivot_table(index='event', values='user_id', aggfunc='nunique')\n",
        "     .reset_index()\n",
        ")\n",
        "fnl2.columns = ['event', 'users']"
      ]
    },
    {
      "cell_type": "code",
      "execution_count": 26,
      "metadata": {
        "id": "1bW5PXE97W9B"
      },
      "outputs": [],
      "source": [
        "# переходы в целевое действие с разных этапов\n",
        "fnl= (target\n",
        "     .pivot_table(index='event', values='user_id', aggfunc='nunique')\n",
        "     .reset_index()\n",
        ")\n",
        "fnl.columns = ['event', 'users']\n",
        "fnl['share'] = round(fnl['users'] / fnl2['users'] * 100, 2)\n",
        "fnl['loss'] = 100 - fnl['share']\n",
        "fnl = fnl.sort_values('share', ascending=False)"
      ]
    },
    {
      "cell_type": "code",
      "execution_count": 27,
      "metadata": {
        "colab": {
          "base_uri": "https://localhost:8080/",
          "height": 331
        },
        "id": "wUVsjXzCosUc",
        "outputId": "b0cee9dd-85a1-4ce6-b89f-07edfa8fb8c9"
      },
      "outputs": [
        {
          "output_type": "execute_result",
          "data": {
            "text/plain": [
              "           event  users   share   loss\n",
              "1  contacts_call    213  100.00   0.00\n",
              "2  contacts_show    981  100.00   0.00\n",
              "3  favorites_add    136   38.75  61.25\n",
              "7     tips_click    100   31.06  68.94\n",
              "5    photos_show    339   30.96  69.04\n",
              "6         search    377   22.63  77.37\n",
              "4            map    289   19.85  80.15\n",
              "8      tips_show    516   18.42  81.58\n",
              "0    advert_open    138   18.38  81.62"
            ],
            "text/html": [
              "\n",
              "\n",
              "  <div id=\"df-a16fec6f-e775-460e-baa3-d9211030583a\">\n",
              "    <div class=\"colab-df-container\">\n",
              "      <div>\n",
              "<style scoped>\n",
              "    .dataframe tbody tr th:only-of-type {\n",
              "        vertical-align: middle;\n",
              "    }\n",
              "\n",
              "    .dataframe tbody tr th {\n",
              "        vertical-align: top;\n",
              "    }\n",
              "\n",
              "    .dataframe thead th {\n",
              "        text-align: right;\n",
              "    }\n",
              "</style>\n",
              "<table border=\"1\" class=\"dataframe\">\n",
              "  <thead>\n",
              "    <tr style=\"text-align: right;\">\n",
              "      <th></th>\n",
              "      <th>event</th>\n",
              "      <th>users</th>\n",
              "      <th>share</th>\n",
              "      <th>loss</th>\n",
              "    </tr>\n",
              "  </thead>\n",
              "  <tbody>\n",
              "    <tr>\n",
              "      <th>1</th>\n",
              "      <td>contacts_call</td>\n",
              "      <td>213</td>\n",
              "      <td>100.00</td>\n",
              "      <td>0.00</td>\n",
              "    </tr>\n",
              "    <tr>\n",
              "      <th>2</th>\n",
              "      <td>contacts_show</td>\n",
              "      <td>981</td>\n",
              "      <td>100.00</td>\n",
              "      <td>0.00</td>\n",
              "    </tr>\n",
              "    <tr>\n",
              "      <th>3</th>\n",
              "      <td>favorites_add</td>\n",
              "      <td>136</td>\n",
              "      <td>38.75</td>\n",
              "      <td>61.25</td>\n",
              "    </tr>\n",
              "    <tr>\n",
              "      <th>7</th>\n",
              "      <td>tips_click</td>\n",
              "      <td>100</td>\n",
              "      <td>31.06</td>\n",
              "      <td>68.94</td>\n",
              "    </tr>\n",
              "    <tr>\n",
              "      <th>5</th>\n",
              "      <td>photos_show</td>\n",
              "      <td>339</td>\n",
              "      <td>30.96</td>\n",
              "      <td>69.04</td>\n",
              "    </tr>\n",
              "    <tr>\n",
              "      <th>6</th>\n",
              "      <td>search</td>\n",
              "      <td>377</td>\n",
              "      <td>22.63</td>\n",
              "      <td>77.37</td>\n",
              "    </tr>\n",
              "    <tr>\n",
              "      <th>4</th>\n",
              "      <td>map</td>\n",
              "      <td>289</td>\n",
              "      <td>19.85</td>\n",
              "      <td>80.15</td>\n",
              "    </tr>\n",
              "    <tr>\n",
              "      <th>8</th>\n",
              "      <td>tips_show</td>\n",
              "      <td>516</td>\n",
              "      <td>18.42</td>\n",
              "      <td>81.58</td>\n",
              "    </tr>\n",
              "    <tr>\n",
              "      <th>0</th>\n",
              "      <td>advert_open</td>\n",
              "      <td>138</td>\n",
              "      <td>18.38</td>\n",
              "      <td>81.62</td>\n",
              "    </tr>\n",
              "  </tbody>\n",
              "</table>\n",
              "</div>\n",
              "      <button class=\"colab-df-convert\" onclick=\"convertToInteractive('df-a16fec6f-e775-460e-baa3-d9211030583a')\"\n",
              "              title=\"Convert this dataframe to an interactive table.\"\n",
              "              style=\"display:none;\">\n",
              "\n",
              "  <svg xmlns=\"http://www.w3.org/2000/svg\" height=\"24px\"viewBox=\"0 0 24 24\"\n",
              "       width=\"24px\">\n",
              "    <path d=\"M0 0h24v24H0V0z\" fill=\"none\"/>\n",
              "    <path d=\"M18.56 5.44l.94 2.06.94-2.06 2.06-.94-2.06-.94-.94-2.06-.94 2.06-2.06.94zm-11 1L8.5 8.5l.94-2.06 2.06-.94-2.06-.94L8.5 2.5l-.94 2.06-2.06.94zm10 10l.94 2.06.94-2.06 2.06-.94-2.06-.94-.94-2.06-.94 2.06-2.06.94z\"/><path d=\"M17.41 7.96l-1.37-1.37c-.4-.4-.92-.59-1.43-.59-.52 0-1.04.2-1.43.59L10.3 9.45l-7.72 7.72c-.78.78-.78 2.05 0 2.83L4 21.41c.39.39.9.59 1.41.59.51 0 1.02-.2 1.41-.59l7.78-7.78 2.81-2.81c.8-.78.8-2.07 0-2.86zM5.41 20L4 18.59l7.72-7.72 1.47 1.35L5.41 20z\"/>\n",
              "  </svg>\n",
              "      </button>\n",
              "\n",
              "\n",
              "\n",
              "    <div id=\"df-1012d77c-d1b0-4f3f-8f4e-5b0434d5bb9b\">\n",
              "      <button class=\"colab-df-quickchart\" onclick=\"quickchart('df-1012d77c-d1b0-4f3f-8f4e-5b0434d5bb9b')\"\n",
              "              title=\"Suggest charts.\"\n",
              "              style=\"display:none;\">\n",
              "\n",
              "<svg xmlns=\"http://www.w3.org/2000/svg\" height=\"24px\"viewBox=\"0 0 24 24\"\n",
              "     width=\"24px\">\n",
              "    <g>\n",
              "        <path d=\"M19 3H5c-1.1 0-2 .9-2 2v14c0 1.1.9 2 2 2h14c1.1 0 2-.9 2-2V5c0-1.1-.9-2-2-2zM9 17H7v-7h2v7zm4 0h-2V7h2v10zm4 0h-2v-4h2v4z\"/>\n",
              "    </g>\n",
              "</svg>\n",
              "      </button>\n",
              "    </div>\n",
              "\n",
              "<style>\n",
              "  .colab-df-quickchart {\n",
              "    background-color: #E8F0FE;\n",
              "    border: none;\n",
              "    border-radius: 50%;\n",
              "    cursor: pointer;\n",
              "    display: none;\n",
              "    fill: #1967D2;\n",
              "    height: 32px;\n",
              "    padding: 0 0 0 0;\n",
              "    width: 32px;\n",
              "  }\n",
              "\n",
              "  .colab-df-quickchart:hover {\n",
              "    background-color: #E2EBFA;\n",
              "    box-shadow: 0px 1px 2px rgba(60, 64, 67, 0.3), 0px 1px 3px 1px rgba(60, 64, 67, 0.15);\n",
              "    fill: #174EA6;\n",
              "  }\n",
              "\n",
              "  [theme=dark] .colab-df-quickchart {\n",
              "    background-color: #3B4455;\n",
              "    fill: #D2E3FC;\n",
              "  }\n",
              "\n",
              "  [theme=dark] .colab-df-quickchart:hover {\n",
              "    background-color: #434B5C;\n",
              "    box-shadow: 0px 1px 3px 1px rgba(0, 0, 0, 0.15);\n",
              "    filter: drop-shadow(0px 1px 2px rgba(0, 0, 0, 0.3));\n",
              "    fill: #FFFFFF;\n",
              "  }\n",
              "</style>\n",
              "\n",
              "    <script>\n",
              "      async function quickchart(key) {\n",
              "        const containerElement = document.querySelector('#' + key);\n",
              "        const charts = await google.colab.kernel.invokeFunction(\n",
              "            'suggestCharts', [key], {});\n",
              "      }\n",
              "    </script>\n",
              "\n",
              "\n",
              "      <script>\n",
              "\n",
              "function displayQuickchartButton(domScope) {\n",
              "  let quickchartButtonEl =\n",
              "    domScope.querySelector('#df-1012d77c-d1b0-4f3f-8f4e-5b0434d5bb9b button.colab-df-quickchart');\n",
              "  quickchartButtonEl.style.display =\n",
              "    google.colab.kernel.accessAllowed ? 'block' : 'none';\n",
              "}\n",
              "\n",
              "        displayQuickchartButton(document);\n",
              "      </script>\n",
              "      <style>\n",
              "    .colab-df-container {\n",
              "      display:flex;\n",
              "      flex-wrap:wrap;\n",
              "      gap: 12px;\n",
              "    }\n",
              "\n",
              "    .colab-df-convert {\n",
              "      background-color: #E8F0FE;\n",
              "      border: none;\n",
              "      border-radius: 50%;\n",
              "      cursor: pointer;\n",
              "      display: none;\n",
              "      fill: #1967D2;\n",
              "      height: 32px;\n",
              "      padding: 0 0 0 0;\n",
              "      width: 32px;\n",
              "    }\n",
              "\n",
              "    .colab-df-convert:hover {\n",
              "      background-color: #E2EBFA;\n",
              "      box-shadow: 0px 1px 2px rgba(60, 64, 67, 0.3), 0px 1px 3px 1px rgba(60, 64, 67, 0.15);\n",
              "      fill: #174EA6;\n",
              "    }\n",
              "\n",
              "    [theme=dark] .colab-df-convert {\n",
              "      background-color: #3B4455;\n",
              "      fill: #D2E3FC;\n",
              "    }\n",
              "\n",
              "    [theme=dark] .colab-df-convert:hover {\n",
              "      background-color: #434B5C;\n",
              "      box-shadow: 0px 1px 3px 1px rgba(0, 0, 0, 0.15);\n",
              "      filter: drop-shadow(0px 1px 2px rgba(0, 0, 0, 0.3));\n",
              "      fill: #FFFFFF;\n",
              "    }\n",
              "  </style>\n",
              "\n",
              "      <script>\n",
              "        const buttonEl =\n",
              "          document.querySelector('#df-a16fec6f-e775-460e-baa3-d9211030583a button.colab-df-convert');\n",
              "        buttonEl.style.display =\n",
              "          google.colab.kernel.accessAllowed ? 'block' : 'none';\n",
              "\n",
              "        async function convertToInteractive(key) {\n",
              "          const element = document.querySelector('#df-a16fec6f-e775-460e-baa3-d9211030583a');\n",
              "          const dataTable =\n",
              "            await google.colab.kernel.invokeFunction('convertToInteractive',\n",
              "                                                     [key], {});\n",
              "          if (!dataTable) return;\n",
              "\n",
              "          const docLinkHtml = 'Like what you see? Visit the ' +\n",
              "            '<a target=\"_blank\" href=https://colab.research.google.com/notebooks/data_table.ipynb>data table notebook</a>'\n",
              "            + ' to learn more about interactive tables.';\n",
              "          element.innerHTML = '';\n",
              "          dataTable['output_type'] = 'display_data';\n",
              "          await google.colab.output.renderOutput(dataTable, element);\n",
              "          const docLink = document.createElement('div');\n",
              "          docLink.innerHTML = docLinkHtml;\n",
              "          element.appendChild(docLink);\n",
              "        }\n",
              "      </script>\n",
              "    </div>\n",
              "  </div>\n"
            ]
          },
          "metadata": {},
          "execution_count": 27
        }
      ],
      "source": [
        "fnl"
      ]
    },
    {
      "cell_type": "markdown",
      "metadata": {
        "id": "5wt98dJE7JFF"
      },
      "source": [
        "Все пользователи, которые звонили продавцам, заходили в контакты, что логично.  981 пользователь осуществил целевое действие. Топ 3 этапов с которых переходят в контакты: добавление в избранное, клик по рекомендованному объявлению, просмотр фото. Меньше всего из карточки объявления."
      ]
    },
    {
      "cell_type": "markdown",
      "metadata": {
        "id": "giduwO8E1wun"
      },
      "source": [
        "### Создадим сценарии поведения пользователей"
      ]
    },
    {
      "cell_type": "code",
      "execution_count": 28,
      "metadata": {
        "id": "jcdLJB5jwxFm"
      },
      "outputs": [],
      "source": [
        "events = events.sort_values(['user_id', 'time']).reset_index(drop=True)"
      ]
    },
    {
      "cell_type": "code",
      "execution_count": 29,
      "metadata": {
        "id": "xvyxj5HGnNAu"
      },
      "outputs": [],
      "source": [
        "# считаем время между событиями\n",
        "events['diff'] = round(events.groupby('user_id')['time'].diff().dt.total_seconds().fillna(0) / 60, 2)"
      ]
    },
    {
      "cell_type": "code",
      "execution_count": 30,
      "metadata": {
        "colab": {
          "base_uri": "https://localhost:8080/",
          "height": 573
        },
        "id": "TsaicZxpqUqZ",
        "outputId": "c1a84059-581c-4a0e-a874-c60cf46e3fc6"
      },
      "outputs": [
        {
          "output_type": "display_data",
          "data": {
            "text/plain": [
              "<Figure size 1200x600 with 1 Axes>"
            ],
            "image/png": "[encoded data removed]"
          },
          "metadata": {}
        }
      ],
      "source": [
        "# график распределения времени между событиями\n",
        "events['diff'].hist(bins=100, range=(1, 60), ec='black')\n",
        "plt.xlim(0, 40)\n",
        "plt.title('Распределение времени между событиями')\n",
        "plt.xlabel('Минуты')\n",
        "plt.ylabel('Количество событий');\n",
        "plt.ticklabel_format(axis='x',style='plain');"
      ]
    },
    {
      "cell_type": "code",
      "execution_count": 31,
      "metadata": {
        "colab": {
          "base_uri": "https://localhost:8080/"
        },
        "id": "JfXSrZGasiIL",
        "outputId": "ffede572-4219-46ab-daad-1a777de67614"
      },
      "outputs": [
        {
          "output_type": "execute_result",
          "data": {
            "text/plain": [
              "count    74197.000000\n",
              "mean       219.537099\n",
              "std       1488.939287\n",
              "min          0.000000\n",
              "25%          0.270000\n",
              "50%          1.060000\n",
              "75%          2.790000\n",
              "max      38269.910000\n",
              "Name: diff, dtype: float64"
            ]
          },
          "metadata": {},
          "execution_count": 31
        }
      ],
      "source": [
        "events['diff'].describe()"
      ]
    },
    {
      "cell_type": "markdown",
      "metadata": {
        "id": "QhW8wVUl_ot3"
      },
      "source": [
        "В основном время между событиями составляет до 20 минут, есть пользователи у которых доходит до 30 минут. Очень большая разница во времени, скорее всего, у пользователей, которые редко используют приложение, тем не менее они его используют, поэтому мы не будем их удалять. Стандартно тайм-аут также устанавливают от 30 минут, что мы и сделаем.\n"
      ]
    },
    {
      "cell_type": "code",
      "execution_count": 32,
      "metadata": {
        "id": "qfLD56Y9etVz"
      },
      "outputs": [],
      "source": [
        "# датафрейм для сессий\n",
        "sessions = events.sort_values(['user_id', 'time']).reset_index(drop=True)"
      ]
    },
    {
      "cell_type": "code",
      "execution_count": 33,
      "metadata": {
        "colab": {
          "base_uri": "https://localhost:8080/",
          "height": 423
        },
        "id": "DjMMwA43gcnq",
        "outputId": "b016dafe-4e27-4a6e-9018-eab402d3ef43"
      },
      "outputs": [
        {
          "output_type": "execute_result",
          "data": {
            "text/plain": [
              "                            time          event  \\\n",
              "0     2019-10-07 13:39:45.989359      tips_show   \n",
              "1     2019-10-07 13:40:31.052909      tips_show   \n",
              "2     2019-10-07 13:41:05.722489      tips_show   \n",
              "3     2019-10-07 13:43:20.735461      tips_show   \n",
              "4     2019-10-07 13:45:30.917502      tips_show   \n",
              "...                          ...            ...   \n",
              "74192 2019-11-03 15:51:23.959572      tips_show   \n",
              "74193 2019-11-03 15:51:57.899997  contacts_show   \n",
              "74194 2019-11-03 16:07:40.932077      tips_show   \n",
              "74195 2019-11-03 16:08:18.202734      tips_show   \n",
              "74196 2019-11-03 16:08:25.388712      tips_show   \n",
              "\n",
              "                                    user_id       date   diff  session_id  \n",
              "0      0001b1d5-b74a-4cbf-aeb0-7df5947bf349 2019-10-07   0.00           1  \n",
              "1      0001b1d5-b74a-4cbf-aeb0-7df5947bf349 2019-10-07   0.75           1  \n",
              "2      0001b1d5-b74a-4cbf-aeb0-7df5947bf349 2019-10-07   0.58           1  \n",
              "3      0001b1d5-b74a-4cbf-aeb0-7df5947bf349 2019-10-07   2.25           1  \n",
              "4      0001b1d5-b74a-4cbf-aeb0-7df5947bf349 2019-10-07   2.17           1  \n",
              "...                                     ...        ...    ...         ...  \n",
              "74192  fffb9e79-b927-4dbb-9b48-7fd09b23a62b 2019-11-03   0.46       10368  \n",
              "74193  fffb9e79-b927-4dbb-9b48-7fd09b23a62b 2019-11-03   0.57       10368  \n",
              "74194  fffb9e79-b927-4dbb-9b48-7fd09b23a62b 2019-11-03  15.72       10368  \n",
              "74195  fffb9e79-b927-4dbb-9b48-7fd09b23a62b 2019-11-03   0.62       10368  \n",
              "74196  fffb9e79-b927-4dbb-9b48-7fd09b23a62b 2019-11-03   0.12       10368  \n",
              "\n",
              "[74197 rows x 6 columns]"
            ],
            "text/html": [
              "\n",
              "\n",
              "  <div id=\"df-8666b040-a97b-499b-8d15-16acb5492f13\">\n",
              "    <div class=\"colab-df-container\">\n",
              "      <div>\n",
              "<style scoped>\n",
              "    .dataframe tbody tr th:only-of-type {\n",
              "        vertical-align: middle;\n",
              "    }\n",
              "\n",
              "    .dataframe tbody tr th {\n",
              "        vertical-align: top;\n",
              "    }\n",
              "\n",
              "    .dataframe thead th {\n",
              "        text-align: right;\n",
              "    }\n",
              "</style>\n",
              "<table border=\"1\" class=\"dataframe\">\n",
              "  <thead>\n",
              "    <tr style=\"text-align: right;\">\n",
              "      <th></th>\n",
              "      <th>time</th>\n",
              "      <th>event</th>\n",
              "      <th>user_id</th>\n",
              "      <th>date</th>\n",
              "      <th>diff</th>\n",
              "      <th>session_id</th>\n",
              "    </tr>\n",
              "  </thead>\n",
              "  <tbody>\n",
              "    <tr>\n",
              "      <th>0</th>\n",
              "      <td>2019-10-07 13:39:45.989359</td>\n",
              "      <td>tips_show</td>\n",
              "      <td>0001b1d5-b74a-4cbf-aeb0-7df5947bf349</td>\n",
              "      <td>2019-10-07</td>\n",
              "      <td>0.00</td>\n",
              "      <td>1</td>\n",
              "    </tr>\n",
              "    <tr>\n",
              "      <th>1</th>\n",
              "      <td>2019-10-07 13:40:31.052909</td>\n",
              "      <td>tips_show</td>\n",
              "      <td>0001b1d5-b74a-4cbf-aeb0-7df5947bf349</td>\n",
              "      <td>2019-10-07</td>\n",
              "      <td>0.75</td>\n",
              "      <td>1</td>\n",
              "    </tr>\n",
              "    <tr>\n",
              "      <th>2</th>\n",
              "      <td>2019-10-07 13:41:05.722489</td>\n",
              "      <td>tips_show</td>\n",
              "      <td>0001b1d5-b74a-4cbf-aeb0-7df5947bf349</td>\n",
              "      <td>2019-10-07</td>\n",
              "      <td>0.58</td>\n",
              "      <td>1</td>\n",
              "    </tr>\n",
              "    <tr>\n",
              "      <th>3</th>\n",
              "      <td>2019-10-07 13:43:20.735461</td>\n",
              "      <td>tips_show</td>\n",
              "      <td>0001b1d5-b74a-4cbf-aeb0-7df5947bf349</td>\n",
              "      <td>2019-10-07</td>\n",
              "      <td>2.25</td>\n",
              "      <td>1</td>\n",
              "    </tr>\n",
              "    <tr>\n",
              "      <th>4</th>\n",
              "      <td>2019-10-07 13:45:30.917502</td>\n",
              "      <td>tips_show</td>\n",
              "      <td>0001b1d5-b74a-4cbf-aeb0-7df5947bf349</td>\n",
              "      <td>2019-10-07</td>\n",
              "      <td>2.17</td>\n",
              "      <td>1</td>\n",
              "    </tr>\n",
              "    <tr>\n",
              "      <th>...</th>\n",
              "      <td>...</td>\n",
              "      <td>...</td>\n",
              "      <td>...</td>\n",
              "      <td>...</td>\n",
              "      <td>...</td>\n",
              "      <td>...</td>\n",
              "    </tr>\n",
              "    <tr>\n",
              "      <th>74192</th>\n",
              "      <td>2019-11-03 15:51:23.959572</td>\n",
              "      <td>tips_show</td>\n",
              "      <td>fffb9e79-b927-4dbb-9b48-7fd09b23a62b</td>\n",
              "      <td>2019-11-03</td>\n",
              "      <td>0.46</td>\n",
              "      <td>10368</td>\n",
              "    </tr>\n",
              "    <tr>\n",
              "      <th>74193</th>\n",
              "      <td>2019-11-03 15:51:57.899997</td>\n",
              "      <td>contacts_show</td>\n",
              "      <td>fffb9e79-b927-4dbb-9b48-7fd09b23a62b</td>\n",
              "      <td>2019-11-03</td>\n",
              "      <td>0.57</td>\n",
              "      <td>10368</td>\n",
              "    </tr>\n",
              "    <tr>\n",
              "      <th>74194</th>\n",
              "      <td>2019-11-03 16:07:40.932077</td>\n",
              "      <td>tips_show</td>\n",
              "      <td>fffb9e79-b927-4dbb-9b48-7fd09b23a62b</td>\n",
              "      <td>2019-11-03</td>\n",
              "      <td>15.72</td>\n",
              "      <td>10368</td>\n",
              "    </tr>\n",
              "    <tr>\n",
              "      <th>74195</th>\n",
              "      <td>2019-11-03 16:08:18.202734</td>\n",
              "      <td>tips_show</td>\n",
              "      <td>fffb9e79-b927-4dbb-9b48-7fd09b23a62b</td>\n",
              "      <td>2019-11-03</td>\n",
              "      <td>0.62</td>\n",
              "      <td>10368</td>\n",
              "    </tr>\n",
              "    <tr>\n",
              "      <th>74196</th>\n",
              "      <td>2019-11-03 16:08:25.388712</td>\n",
              "      <td>tips_show</td>\n",
              "      <td>fffb9e79-b927-4dbb-9b48-7fd09b23a62b</td>\n",
              "      <td>2019-11-03</td>\n",
              "      <td>0.12</td>\n",
              "      <td>10368</td>\n",
              "    </tr>\n",
              "  </tbody>\n",
              "</table>\n",
              "<p>74197 rows × 6 columns</p>\n",
              "</div>\n",
              "      <button class=\"colab-df-convert\" onclick=\"convertToInteractive('df-8666b040-a97b-499b-8d15-16acb5492f13')\"\n",
              "              title=\"Convert this dataframe to an interactive table.\"\n",
              "              style=\"display:none;\">\n",
              "\n",
              "  <svg xmlns=\"http://www.w3.org/2000/svg\" height=\"24px\"viewBox=\"0 0 24 24\"\n",
              "       width=\"24px\">\n",
              "    <path d=\"M0 0h24v24H0V0z\" fill=\"none\"/>\n",
              "    <path d=\"M18.56 5.44l.94 2.06.94-2.06 2.06-.94-2.06-.94-.94-2.06-.94 2.06-2.06.94zm-11 1L8.5 8.5l.94-2.06 2.06-.94-2.06-.94L8.5 2.5l-.94 2.06-2.06.94zm10 10l.94 2.06.94-2.06 2.06-.94-2.06-.94-.94-2.06-.94 2.06-2.06.94z\"/><path d=\"M17.41 7.96l-1.37-1.37c-.4-.4-.92-.59-1.43-.59-.52 0-1.04.2-1.43.59L10.3 9.45l-7.72 7.72c-.78.78-.78 2.05 0 2.83L4 21.41c.39.39.9.59 1.41.59.51 0 1.02-.2 1.41-.59l7.78-7.78 2.81-2.81c.8-.78.8-2.07 0-2.86zM5.41 20L4 18.59l7.72-7.72 1.47 1.35L5.41 20z\"/>\n",
              "  </svg>\n",
              "      </button>\n",
              "\n",
              "\n",
              "\n",
              "    <div id=\"df-6f47449c-7273-4e53-8c25-b67b1bc7c8d7\">\n",
              "      <button class=\"colab-df-quickchart\" onclick=\"quickchart('df-6f47449c-7273-4e53-8c25-b67b1bc7c8d7')\"\n",
              "              title=\"Suggest charts.\"\n",
              "              style=\"display:none;\">\n",
              "\n",
              "<svg xmlns=\"http://www.w3.org/2000/svg\" height=\"24px\"viewBox=\"0 0 24 24\"\n",
              "     width=\"24px\">\n",
              "    <g>\n",
              "        <path d=\"M19 3H5c-1.1 0-2 .9-2 2v14c0 1.1.9 2 2 2h14c1.1 0 2-.9 2-2V5c0-1.1-.9-2-2-2zM9 17H7v-7h2v7zm4 0h-2V7h2v10zm4 0h-2v-4h2v4z\"/>\n",
              "    </g>\n",
              "</svg>\n",
              "      </button>\n",
              "    </div>\n",
              "\n",
              "<style>\n",
              "  .colab-df-quickchart {\n",
              "    background-color: #E8F0FE;\n",
              "    border: none;\n",
              "    border-radius: 50%;\n",
              "    cursor: pointer;\n",
              "    display: none;\n",
              "    fill: #1967D2;\n",
              "    height: 32px;\n",
              "    padding: 0 0 0 0;\n",
              "    width: 32px;\n",
              "  }\n",
              "\n",
              "  .colab-df-quickchart:hover {\n",
              "    background-color: #E2EBFA;\n",
              "    box-shadow: 0px 1px 2px rgba(60, 64, 67, 0.3), 0px 1px 3px 1px rgba(60, 64, 67, 0.15);\n",
              "    fill: #174EA6;\n",
              "  }\n",
              "\n",
              "  [theme=dark] .colab-df-quickchart {\n",
              "    background-color: #3B4455;\n",
              "    fill: #D2E3FC;\n",
              "  }\n",
              "\n",
              "  [theme=dark] .colab-df-quickchart:hover {\n",
              "    background-color: #434B5C;\n",
              "    box-shadow: 0px 1px 3px 1px rgba(0, 0, 0, 0.15);\n",
              "    filter: drop-shadow(0px 1px 2px rgba(0, 0, 0, 0.3));\n",
              "    fill: #FFFFFF;\n",
              "  }\n",
              "</style>\n",
              "\n",
              "    <script>\n",
              "      async function quickchart(key) {\n",
              "        const containerElement = document.querySelector('#' + key);\n",
              "        const charts = await google.colab.kernel.invokeFunction(\n",
              "            'suggestCharts', [key], {});\n",
              "      }\n",
              "    </script>\n",
              "\n",
              "\n",
              "      <script>\n",
              "\n",
              "function displayQuickchartButton(domScope) {\n",
              "  let quickchartButtonEl =\n",
              "    domScope.querySelector('#df-6f47449c-7273-4e53-8c25-b67b1bc7c8d7 button.colab-df-quickchart');\n",
              "  quickchartButtonEl.style.display =\n",
              "    google.colab.kernel.accessAllowed ? 'block' : 'none';\n",
              "}\n",
              "\n",
              "        displayQuickchartButton(document);\n",
              "      </script>\n",
              "      <style>\n",
              "    .colab-df-container {\n",
              "      display:flex;\n",
              "      flex-wrap:wrap;\n",
              "      gap: 12px;\n",
              "    }\n",
              "\n",
              "    .colab-df-convert {\n",
              "      background-color: #E8F0FE;\n",
              "      border: none;\n",
              "      border-radius: 50%;\n",
              "      cursor: pointer;\n",
              "      display: none;\n",
              "      fill: #1967D2;\n",
              "      height: 32px;\n",
              "      padding: 0 0 0 0;\n",
              "      width: 32px;\n",
              "    }\n",
              "\n",
              "    .colab-df-convert:hover {\n",
              "      background-color: #E2EBFA;\n",
              "      box-shadow: 0px 1px 2px rgba(60, 64, 67, 0.3), 0px 1px 3px 1px rgba(60, 64, 67, 0.15);\n",
              "      fill: #174EA6;\n",
              "    }\n",
              "\n",
              "    [theme=dark] .colab-df-convert {\n",
              "      background-color: #3B4455;\n",
              "      fill: #D2E3FC;\n",
              "    }\n",
              "\n",
              "    [theme=dark] .colab-df-convert:hover {\n",
              "      background-color: #434B5C;\n",
              "      box-shadow: 0px 1px 3px 1px rgba(0, 0, 0, 0.15);\n",
              "      filter: drop-shadow(0px 1px 2px rgba(0, 0, 0, 0.3));\n",
              "      fill: #FFFFFF;\n",
              "    }\n",
              "  </style>\n",
              "\n",
              "      <script>\n",
              "        const buttonEl =\n",
              "          document.querySelector('#df-8666b040-a97b-499b-8d15-16acb5492f13 button.colab-df-convert');\n",
              "        buttonEl.style.display =\n",
              "          google.colab.kernel.accessAllowed ? 'block' : 'none';\n",
              "\n",
              "        async function convertToInteractive(key) {\n",
              "          const element = document.querySelector('#df-8666b040-a97b-499b-8d15-16acb5492f13');\n",
              "          const dataTable =\n",
              "            await google.colab.kernel.invokeFunction('convertToInteractive',\n",
              "                                                     [key], {});\n",
              "          if (!dataTable) return;\n",
              "\n",
              "          const docLinkHtml = 'Like what you see? Visit the ' +\n",
              "            '<a target=\"_blank\" href=https://colab.research.google.com/notebooks/data_table.ipynb>data table notebook</a>'\n",
              "            + ' to learn more about interactive tables.';\n",
              "          element.innerHTML = '';\n",
              "          dataTable['output_type'] = 'display_data';\n",
              "          await google.colab.output.renderOutput(dataTable, element);\n",
              "          const docLink = document.createElement('div');\n",
              "          docLink.innerHTML = docLinkHtml;\n",
              "          element.appendChild(docLink);\n",
              "        }\n",
              "      </script>\n",
              "    </div>\n",
              "  </div>\n"
            ]
          },
          "metadata": {},
          "execution_count": 33
        }
      ],
      "source": [
        "# установим тайм-аут 30 минут\n",
        "g = (sessions.groupby('user_id')['time'].diff() > pd.Timedelta('30Min')).cumsum()\n",
        "# создаем счетчик групп\n",
        "sessions['session_id'] = sessions.groupby(['user_id', g], sort=False).ngroup() + 1\n",
        "sessions"
      ]
    },
    {
      "cell_type": "code",
      "execution_count": 34,
      "metadata": {
        "colab": {
          "base_uri": "https://localhost:8080/",
          "height": 573
        },
        "id": "uwFMpKAeqRu1",
        "outputId": "9a59643b-75e1-4048-aa26-b97dd3d4c679"
      },
      "outputs": [
        {
          "output_type": "display_data",
          "data": {
            "text/plain": [
              "<Figure size 1200x600 with 1 Axes>"
            ],
            "image/png": "[encoded data removed]"
          },
          "metadata": {}
        }
      ],
      "source": [
        "# посмотрим, сколько шагов проходит пользователь за сессию\n",
        "sessions.groupby('session_id')['event'].nunique().hist(ec='black')\n",
        "plt.title('Распределение уникальных событий по сессиям')\n",
        "plt.xlabel('Количество событий')\n",
        "plt.ylabel('Количество сессий');"
      ]
    },
    {
      "cell_type": "code",
      "execution_count": 35,
      "metadata": {
        "colab": {
          "base_uri": "https://localhost:8080/"
        },
        "id": "KXAG-YTG_MZj",
        "outputId": "e396d1e9-4075-4aa5-be5f-2ed7fc93f58e"
      },
      "outputs": [
        {
          "output_type": "stream",
          "name": "stdout",
          "text": [
            "Среднее количество сессий на пользователя: 2.0\n"
          ]
        }
      ],
      "source": [
        "# среднее количество сессий на пользователя\n",
        "print('Среднее количество сессий на пользователя:', round(sessions.groupby('user_id')['session_id'].nunique().mean(), 0))"
      ]
    },
    {
      "cell_type": "markdown",
      "metadata": {
        "id": "TiurHMTAAm6H"
      },
      "source": [
        "В среднем на пользователя приходится 2 сессии. Количество уникальных шагов за сессию от 1 до 5."
      ]
    },
    {
      "cell_type": "code",
      "execution_count": 36,
      "metadata": {
        "id": "EoAtRCtu29jG"
      },
      "outputs": [],
      "source": [
        "# начало и конец сессии\n",
        "ses_dur= sessions.groupby(['user_id', 'session_id']).agg({'time':['first', 'last']}).reset_index()\n",
        "ses_dur.columns = ['user_id', 'session_id', 'first', 'last']"
      ]
    },
    {
      "cell_type": "code",
      "execution_count": 37,
      "metadata": {
        "id": "8wYb4oJRAg2C"
      },
      "outputs": [],
      "source": [
        "# длительность сессий\n",
        "ses_dur['duration'] = round((ses_dur['last'] - ses_dur['first']).dt.total_seconds()/60, 2)"
      ]
    },
    {
      "cell_type": "code",
      "execution_count": 38,
      "metadata": {
        "colab": {
          "base_uri": "https://localhost:8080/",
          "height": 573
        },
        "id": "_nXYKMDABfnM",
        "outputId": "a3d763fe-46da-4167-c1a0-ee25edc6f2a2"
      },
      "outputs": [
        {
          "output_type": "display_data",
          "data": {
            "text/plain": [
              "<Figure size 1200x600 with 1 Axes>"
            ],
            "image/png": "[encoded data removed]"
          },
          "metadata": {}
        }
      ],
      "source": [
        "# график распределения длительности сессий\n",
        "ses_dur['duration'].hist(bins=20, ec='black')\n",
        "plt.xlim(0, 110)\n",
        "plt.title('Распределение продолжительности сессий')\n",
        "plt.xlabel('Длина сессии')\n",
        "plt.ylabel('Количество сессий')\n",
        "plt.ticklabel_format(axis='x',style='plain');"
      ]
    },
    {
      "cell_type": "code",
      "execution_count": 39,
      "metadata": {
        "colab": {
          "base_uri": "https://localhost:8080/"
        },
        "id": "eef0vF0lEg5p",
        "outputId": "bde4d8c3-de90-4473-c720-04d33315d5b7"
      },
      "outputs": [
        {
          "output_type": "execute_result",
          "data": {
            "text/plain": [
              "count    10368.000000\n",
              "mean        12.877825\n",
              "std         19.860204\n",
              "min          0.000000\n",
              "25%          0.350000\n",
              "50%          5.590000\n",
              "75%         17.422500\n",
              "max        321.970000\n",
              "Name: duration, dtype: float64"
            ]
          },
          "metadata": {},
          "execution_count": 39
        }
      ],
      "source": [
        "ses_dur['duration'].describe()"
      ]
    },
    {
      "cell_type": "markdown",
      "metadata": {
        "id": "yL_JHxgoA9yk"
      },
      "source": [
        "В среднем длительность сессии составляет 12 минут. Есть также и нулевые сессии."
      ]
    },
    {
      "cell_type": "code",
      "execution_count": 40,
      "metadata": {
        "id": "C9SZV5aE0fo4"
      },
      "outputs": [],
      "source": [
        "# добавляем столбец с длительностью сессии\n",
        "sessions2 = sessions.merge(ses_dur, on='session_id', how='left')"
      ]
    },
    {
      "cell_type": "code",
      "execution_count": 41,
      "metadata": {
        "colab": {
          "base_uri": "https://localhost:8080/",
          "height": 112
        },
        "id": "1XxdW3Vw2tuR",
        "outputId": "1295b8c1-3a8a-43f8-f42a-eab1d2abadf3"
      },
      "outputs": [
        {
          "output_type": "execute_result",
          "data": {
            "text/plain": [
              "         duration\n",
              "mean    36.602058\n",
              "median  21.960000"
            ],
            "text/html": [
              "\n",
              "\n",
              "  <div id=\"df-c894d8e5-b24a-4b84-986d-d2616ffe429d\">\n",
              "    <div class=\"colab-df-container\">\n",
              "      <div>\n",
              "<style scoped>\n",
              "    .dataframe tbody tr th:only-of-type {\n",
              "        vertical-align: middle;\n",
              "    }\n",
              "\n",
              "    .dataframe tbody tr th {\n",
              "        vertical-align: top;\n",
              "    }\n",
              "\n",
              "    .dataframe thead th {\n",
              "        text-align: right;\n",
              "    }\n",
              "</style>\n",
              "<table border=\"1\" class=\"dataframe\">\n",
              "  <thead>\n",
              "    <tr style=\"text-align: right;\">\n",
              "      <th></th>\n",
              "      <th>duration</th>\n",
              "    </tr>\n",
              "  </thead>\n",
              "  <tbody>\n",
              "    <tr>\n",
              "      <th>mean</th>\n",
              "      <td>36.602058</td>\n",
              "    </tr>\n",
              "    <tr>\n",
              "      <th>median</th>\n",
              "      <td>21.960000</td>\n",
              "    </tr>\n",
              "  </tbody>\n",
              "</table>\n",
              "</div>\n",
              "      <button class=\"colab-df-convert\" onclick=\"convertToInteractive('df-c894d8e5-b24a-4b84-986d-d2616ffe429d')\"\n",
              "              title=\"Convert this dataframe to an interactive table.\"\n",
              "              style=\"display:none;\">\n",
              "\n",
              "  <svg xmlns=\"http://www.w3.org/2000/svg\" height=\"24px\"viewBox=\"0 0 24 24\"\n",
              "       width=\"24px\">\n",
              "    <path d=\"M0 0h24v24H0V0z\" fill=\"none\"/>\n",
              "    <path d=\"M18.56 5.44l.94 2.06.94-2.06 2.06-.94-2.06-.94-.94-2.06-.94 2.06-2.06.94zm-11 1L8.5 8.5l.94-2.06 2.06-.94-2.06-.94L8.5 2.5l-.94 2.06-2.06.94zm10 10l.94 2.06.94-2.06 2.06-.94-2.06-.94-.94-2.06-.94 2.06-2.06.94z\"/><path d=\"M17.41 7.96l-1.37-1.37c-.4-.4-.92-.59-1.43-.59-.52 0-1.04.2-1.43.59L10.3 9.45l-7.72 7.72c-.78.78-.78 2.05 0 2.83L4 21.41c.39.39.9.59 1.41.59.51 0 1.02-.2 1.41-.59l7.78-7.78 2.81-2.81c.8-.78.8-2.07 0-2.86zM5.41 20L4 18.59l7.72-7.72 1.47 1.35L5.41 20z\"/>\n",
              "  </svg>\n",
              "      </button>\n",
              "\n",
              "\n",
              "\n",
              "    <div id=\"df-c62c150e-507b-42d4-ac68-d7173f251731\">\n",
              "      <button class=\"colab-df-quickchart\" onclick=\"quickchart('df-c62c150e-507b-42d4-ac68-d7173f251731')\"\n",
              "              title=\"Suggest charts.\"\n",
              "              style=\"display:none;\">\n",
              "\n",
              "<svg xmlns=\"http://www.w3.org/2000/svg\" height=\"24px\"viewBox=\"0 0 24 24\"\n",
              "     width=\"24px\">\n",
              "    <g>\n",
              "        <path d=\"M19 3H5c-1.1 0-2 .9-2 2v14c0 1.1.9 2 2 2h14c1.1 0 2-.9 2-2V5c0-1.1-.9-2-2-2zM9 17H7v-7h2v7zm4 0h-2V7h2v10zm4 0h-2v-4h2v4z\"/>\n",
              "    </g>\n",
              "</svg>\n",
              "      </button>\n",
              "    </div>\n",
              "\n",
              "<style>\n",
              "  .colab-df-quickchart {\n",
              "    background-color: #E8F0FE;\n",
              "    border: none;\n",
              "    border-radius: 50%;\n",
              "    cursor: pointer;\n",
              "    display: none;\n",
              "    fill: #1967D2;\n",
              "    height: 32px;\n",
              "    padding: 0 0 0 0;\n",
              "    width: 32px;\n",
              "  }\n",
              "\n",
              "  .colab-df-quickchart:hover {\n",
              "    background-color: #E2EBFA;\n",
              "    box-shadow: 0px 1px 2px rgba(60, 64, 67, 0.3), 0px 1px 3px 1px rgba(60, 64, 67, 0.15);\n",
              "    fill: #174EA6;\n",
              "  }\n",
              "\n",
              "  [theme=dark] .colab-df-quickchart {\n",
              "    background-color: #3B4455;\n",
              "    fill: #D2E3FC;\n",
              "  }\n",
              "\n",
              "  [theme=dark] .colab-df-quickchart:hover {\n",
              "    background-color: #434B5C;\n",
              "    box-shadow: 0px 1px 3px 1px rgba(0, 0, 0, 0.15);\n",
              "    filter: drop-shadow(0px 1px 2px rgba(0, 0, 0, 0.3));\n",
              "    fill: #FFFFFF;\n",
              "  }\n",
              "</style>\n",
              "\n",
              "    <script>\n",
              "      async function quickchart(key) {\n",
              "        const containerElement = document.querySelector('#' + key);\n",
              "        const charts = await google.colab.kernel.invokeFunction(\n",
              "            'suggestCharts', [key], {});\n",
              "      }\n",
              "    </script>\n",
              "\n",
              "\n",
              "      <script>\n",
              "\n",
              "function displayQuickchartButton(domScope) {\n",
              "  let quickchartButtonEl =\n",
              "    domScope.querySelector('#df-c62c150e-507b-42d4-ac68-d7173f251731 button.colab-df-quickchart');\n",
              "  quickchartButtonEl.style.display =\n",
              "    google.colab.kernel.accessAllowed ? 'block' : 'none';\n",
              "}\n",
              "\n",
              "        displayQuickchartButton(document);\n",
              "      </script>\n",
              "      <style>\n",
              "    .colab-df-container {\n",
              "      display:flex;\n",
              "      flex-wrap:wrap;\n",
              "      gap: 12px;\n",
              "    }\n",
              "\n",
              "    .colab-df-convert {\n",
              "      background-color: #E8F0FE;\n",
              "      border: none;\n",
              "      border-radius: 50%;\n",
              "      cursor: pointer;\n",
              "      display: none;\n",
              "      fill: #1967D2;\n",
              "      height: 32px;\n",
              "      padding: 0 0 0 0;\n",
              "      width: 32px;\n",
              "    }\n",
              "\n",
              "    .colab-df-convert:hover {\n",
              "      background-color: #E2EBFA;\n",
              "      box-shadow: 0px 1px 2px rgba(60, 64, 67, 0.3), 0px 1px 3px 1px rgba(60, 64, 67, 0.15);\n",
              "      fill: #174EA6;\n",
              "    }\n",
              "\n",
              "    [theme=dark] .colab-df-convert {\n",
              "      background-color: #3B4455;\n",
              "      fill: #D2E3FC;\n",
              "    }\n",
              "\n",
              "    [theme=dark] .colab-df-convert:hover {\n",
              "      background-color: #434B5C;\n",
              "      box-shadow: 0px 1px 3px 1px rgba(0, 0, 0, 0.15);\n",
              "      filter: drop-shadow(0px 1px 2px rgba(0, 0, 0, 0.3));\n",
              "      fill: #FFFFFF;\n",
              "    }\n",
              "  </style>\n",
              "\n",
              "      <script>\n",
              "        const buttonEl =\n",
              "          document.querySelector('#df-c894d8e5-b24a-4b84-986d-d2616ffe429d button.colab-df-convert');\n",
              "        buttonEl.style.display =\n",
              "          google.colab.kernel.accessAllowed ? 'block' : 'none';\n",
              "\n",
              "        async function convertToInteractive(key) {\n",
              "          const element = document.querySelector('#df-c894d8e5-b24a-4b84-986d-d2616ffe429d');\n",
              "          const dataTable =\n",
              "            await google.colab.kernel.invokeFunction('convertToInteractive',\n",
              "                                                     [key], {});\n",
              "          if (!dataTable) return;\n",
              "\n",
              "          const docLinkHtml = 'Like what you see? Visit the ' +\n",
              "            '<a target=\"_blank\" href=https://colab.research.google.com/notebooks/data_table.ipynb>data table notebook</a>'\n",
              "            + ' to learn more about interactive tables.';\n",
              "          element.innerHTML = '';\n",
              "          dataTable['output_type'] = 'display_data';\n",
              "          await google.colab.output.renderOutput(dataTable, element);\n",
              "          const docLink = document.createElement('div');\n",
              "          docLink.innerHTML = docLinkHtml;\n",
              "          element.appendChild(docLink);\n",
              "        }\n",
              "      </script>\n",
              "    </div>\n",
              "  </div>\n"
            ]
          },
          "metadata": {},
          "execution_count": 41
        }
      ],
      "source": [
        "# средняя и медианная длина сессии для тех, кто совершил целевое действие\n",
        "sessions2.query('event == \"contacts_show\"').agg({'duration':['mean', 'median']})"
      ]
    },
    {
      "cell_type": "code",
      "execution_count": 42,
      "metadata": {
        "colab": {
          "base_uri": "https://localhost:8080/",
          "height": 112
        },
        "id": "j32oOC0D34Of",
        "outputId": "55d6b1ba-a7ed-4323-e3d3-d2694f84d726"
      },
      "outputs": [
        {
          "output_type": "execute_result",
          "data": {
            "text/plain": [
              "         duration\n",
              "mean    32.369056\n",
              "median  21.060000"
            ],
            "text/html": [
              "\n",
              "\n",
              "  <div id=\"df-87c0dcd7-0e66-4f8b-b411-128564df7a50\">\n",
              "    <div class=\"colab-df-container\">\n",
              "      <div>\n",
              "<style scoped>\n",
              "    .dataframe tbody tr th:only-of-type {\n",
              "        vertical-align: middle;\n",
              "    }\n",
              "\n",
              "    .dataframe tbody tr th {\n",
              "        vertical-align: top;\n",
              "    }\n",
              "\n",
              "    .dataframe thead th {\n",
              "        text-align: right;\n",
              "    }\n",
              "</style>\n",
              "<table border=\"1\" class=\"dataframe\">\n",
              "  <thead>\n",
              "    <tr style=\"text-align: right;\">\n",
              "      <th></th>\n",
              "      <th>duration</th>\n",
              "    </tr>\n",
              "  </thead>\n",
              "  <tbody>\n",
              "    <tr>\n",
              "      <th>mean</th>\n",
              "      <td>32.369056</td>\n",
              "    </tr>\n",
              "    <tr>\n",
              "      <th>median</th>\n",
              "      <td>21.060000</td>\n",
              "    </tr>\n",
              "  </tbody>\n",
              "</table>\n",
              "</div>\n",
              "      <button class=\"colab-df-convert\" onclick=\"convertToInteractive('df-87c0dcd7-0e66-4f8b-b411-128564df7a50')\"\n",
              "              title=\"Convert this dataframe to an interactive table.\"\n",
              "              style=\"display:none;\">\n",
              "\n",
              "  <svg xmlns=\"http://www.w3.org/2000/svg\" height=\"24px\"viewBox=\"0 0 24 24\"\n",
              "       width=\"24px\">\n",
              "    <path d=\"M0 0h24v24H0V0z\" fill=\"none\"/>\n",
              "    <path d=\"M18.56 5.44l.94 2.06.94-2.06 2.06-.94-2.06-.94-.94-2.06-.94 2.06-2.06.94zm-11 1L8.5 8.5l.94-2.06 2.06-.94-2.06-.94L8.5 2.5l-.94 2.06-2.06.94zm10 10l.94 2.06.94-2.06 2.06-.94-2.06-.94-.94-2.06-.94 2.06-2.06.94z\"/><path d=\"M17.41 7.96l-1.37-1.37c-.4-.4-.92-.59-1.43-.59-.52 0-1.04.2-1.43.59L10.3 9.45l-7.72 7.72c-.78.78-.78 2.05 0 2.83L4 21.41c.39.39.9.59 1.41.59.51 0 1.02-.2 1.41-.59l7.78-7.78 2.81-2.81c.8-.78.8-2.07 0-2.86zM5.41 20L4 18.59l7.72-7.72 1.47 1.35L5.41 20z\"/>\n",
              "  </svg>\n",
              "      </button>\n",
              "\n",
              "\n",
              "\n",
              "    <div id=\"df-956d98c9-bafd-4ece-869f-9702d7953fe4\">\n",
              "      <button class=\"colab-df-quickchart\" onclick=\"quickchart('df-956d98c9-bafd-4ece-869f-9702d7953fe4')\"\n",
              "              title=\"Suggest charts.\"\n",
              "              style=\"display:none;\">\n",
              "\n",
              "<svg xmlns=\"http://www.w3.org/2000/svg\" height=\"24px\"viewBox=\"0 0 24 24\"\n",
              "     width=\"24px\">\n",
              "    <g>\n",
              "        <path d=\"M19 3H5c-1.1 0-2 .9-2 2v14c0 1.1.9 2 2 2h14c1.1 0 2-.9 2-2V5c0-1.1-.9-2-2-2zM9 17H7v-7h2v7zm4 0h-2V7h2v10zm4 0h-2v-4h2v4z\"/>\n",
              "    </g>\n",
              "</svg>\n",
              "      </button>\n",
              "    </div>\n",
              "\n",
              "<style>\n",
              "  .colab-df-quickchart {\n",
              "    background-color: #E8F0FE;\n",
              "    border: none;\n",
              "    border-radius: 50%;\n",
              "    cursor: pointer;\n",
              "    display: none;\n",
              "    fill: #1967D2;\n",
              "    height: 32px;\n",
              "    padding: 0 0 0 0;\n",
              "    width: 32px;\n",
              "  }\n",
              "\n",
              "  .colab-df-quickchart:hover {\n",
              "    background-color: #E2EBFA;\n",
              "    box-shadow: 0px 1px 2px rgba(60, 64, 67, 0.3), 0px 1px 3px 1px rgba(60, 64, 67, 0.15);\n",
              "    fill: #174EA6;\n",
              "  }\n",
              "\n",
              "  [theme=dark] .colab-df-quickchart {\n",
              "    background-color: #3B4455;\n",
              "    fill: #D2E3FC;\n",
              "  }\n",
              "\n",
              "  [theme=dark] .colab-df-quickchart:hover {\n",
              "    background-color: #434B5C;\n",
              "    box-shadow: 0px 1px 3px 1px rgba(0, 0, 0, 0.15);\n",
              "    filter: drop-shadow(0px 1px 2px rgba(0, 0, 0, 0.3));\n",
              "    fill: #FFFFFF;\n",
              "  }\n",
              "</style>\n",
              "\n",
              "    <script>\n",
              "      async function quickchart(key) {\n",
              "        const containerElement = document.querySelector('#' + key);\n",
              "        const charts = await google.colab.kernel.invokeFunction(\n",
              "            'suggestCharts', [key], {});\n",
              "      }\n",
              "    </script>\n",
              "\n",
              "\n",
              "      <script>\n",
              "\n",
              "function displayQuickchartButton(domScope) {\n",
              "  let quickchartButtonEl =\n",
              "    domScope.querySelector('#df-956d98c9-bafd-4ece-869f-9702d7953fe4 button.colab-df-quickchart');\n",
              "  quickchartButtonEl.style.display =\n",
              "    google.colab.kernel.accessAllowed ? 'block' : 'none';\n",
              "}\n",
              "\n",
              "        displayQuickchartButton(document);\n",
              "      </script>\n",
              "      <style>\n",
              "    .colab-df-container {\n",
              "      display:flex;\n",
              "      flex-wrap:wrap;\n",
              "      gap: 12px;\n",
              "    }\n",
              "\n",
              "    .colab-df-convert {\n",
              "      background-color: #E8F0FE;\n",
              "      border: none;\n",
              "      border-radius: 50%;\n",
              "      cursor: pointer;\n",
              "      display: none;\n",
              "      fill: #1967D2;\n",
              "      height: 32px;\n",
              "      padding: 0 0 0 0;\n",
              "      width: 32px;\n",
              "    }\n",
              "\n",
              "    .colab-df-convert:hover {\n",
              "      background-color: #E2EBFA;\n",
              "      box-shadow: 0px 1px 2px rgba(60, 64, 67, 0.3), 0px 1px 3px 1px rgba(60, 64, 67, 0.15);\n",
              "      fill: #174EA6;\n",
              "    }\n",
              "\n",
              "    [theme=dark] .colab-df-convert {\n",
              "      background-color: #3B4455;\n",
              "      fill: #D2E3FC;\n",
              "    }\n",
              "\n",
              "    [theme=dark] .colab-df-convert:hover {\n",
              "      background-color: #434B5C;\n",
              "      box-shadow: 0px 1px 3px 1px rgba(0, 0, 0, 0.15);\n",
              "      filter: drop-shadow(0px 1px 2px rgba(0, 0, 0, 0.3));\n",
              "      fill: #FFFFFF;\n",
              "    }\n",
              "  </style>\n",
              "\n",
              "      <script>\n",
              "        const buttonEl =\n",
              "          document.querySelector('#df-87c0dcd7-0e66-4f8b-b411-128564df7a50 button.colab-df-convert');\n",
              "        buttonEl.style.display =\n",
              "          google.colab.kernel.accessAllowed ? 'block' : 'none';\n",
              "\n",
              "        async function convertToInteractive(key) {\n",
              "          const element = document.querySelector('#df-87c0dcd7-0e66-4f8b-b411-128564df7a50');\n",
              "          const dataTable =\n",
              "            await google.colab.kernel.invokeFunction('convertToInteractive',\n",
              "                                                     [key], {});\n",
              "          if (!dataTable) return;\n",
              "\n",
              "          const docLinkHtml = 'Like what you see? Visit the ' +\n",
              "            '<a target=\"_blank\" href=https://colab.research.google.com/notebooks/data_table.ipynb>data table notebook</a>'\n",
              "            + ' to learn more about interactive tables.';\n",
              "          element.innerHTML = '';\n",
              "          dataTable['output_type'] = 'display_data';\n",
              "          await google.colab.output.renderOutput(dataTable, element);\n",
              "          const docLink = document.createElement('div');\n",
              "          docLink.innerHTML = docLinkHtml;\n",
              "          element.appendChild(docLink);\n",
              "        }\n",
              "      </script>\n",
              "    </div>\n",
              "  </div>\n"
            ]
          },
          "metadata": {},
          "execution_count": 42
        }
      ],
      "source": [
        "# средняя и медианная длина сессии для тех, кто не совершал целевое действие\n",
        "sessions2.query('event != \"contacts_show\"').agg({'duration':['mean', 'median']})"
      ]
    },
    {
      "cell_type": "markdown",
      "metadata": {
        "id": "-x9hKb02BXrJ"
      },
      "source": [
        "Как видим, медианная длина сессии для пользователей совершивших целевое и действие, и для тех, кто его не совершал, почти не различаются. Средняя длина сессии у тех, кто смотрел контакты, примерно, на 4 минуты дольше."
      ]
    },
    {
      "cell_type": "code",
      "execution_count": 43,
      "metadata": {
        "id": "htz2GB0jH0qB"
      },
      "outputs": [],
      "source": [
        "# отберем сессии с нулевой продолжительностью\n",
        "bad_ses = sessions2[sessions2['session_id'].isin(ses_dur.query('duration == 0')['session_id'])]"
      ]
    },
    {
      "cell_type": "code",
      "execution_count": 44,
      "metadata": {
        "colab": {
          "base_uri": "https://localhost:8080/"
        },
        "id": "AMjS0lLGxNIc",
        "outputId": "c0af9b58-33d7-4385-a2cf-287338b5a367"
      },
      "outputs": [
        {
          "output_type": "stream",
          "name": "stdout",
          "text": [
            "Количество и доля нулевых сессий: 2205 , 0.03\n"
          ]
        }
      ],
      "source": [
        "print('Количество и доля нулевых сессий:', len(bad_ses),',',round(len(bad_ses) / len(sessions), 2))"
      ]
    },
    {
      "cell_type": "code",
      "execution_count": 45,
      "metadata": {
        "colab": {
          "base_uri": "https://localhost:8080/",
          "height": 556
        },
        "id": "DKb1QT1YmnFg",
        "outputId": "4cc1270a-1ab8-450e-b637-fb0a8bd6eed9"
      },
      "outputs": [
        {
          "output_type": "display_data",
          "data": {
            "text/plain": [
              "<Figure size 1200x600 with 1 Axes>"
            ],
            "image/png": "[encoded data removed]"
          },
          "metadata": {}
        }
      ],
      "source": [
        "# график распределения нулевых сессий по событиям\n",
        "bad_ses.groupby('event').count().sort_values('session_id').plot(kind='barh', y='session_id', ec='black')\n",
        "plt.title('Распределение нулевых сессий по событиям')\n",
        "plt.xlabel('Количество нулевых сессий')\n",
        "plt.ylabel('Событие')\n",
        "plt.ticklabel_format(axis='x',style='plain');"
      ]
    },
    {
      "cell_type": "markdown",
      "metadata": {
        "id": "YQHTc291Cca1"
      },
      "source": [
        "Доля нулевых сессий небольшая, менее 1%. Это пользователи, которые совершили 1 событие, тем не менее, они использовали приложение, и среди нулевых сессий есть целевое действие, поэтом их не будем удалять."
      ]
    },
    {
      "cell_type": "markdown",
      "metadata": {
        "id": "JjRYnadEC4uz"
      },
      "source": [
        "### Для определения наиболее популярных сценариев поведения пользователей построим диаграмму Санкея"
      ]
    },
    {
      "cell_type": "code",
      "execution_count": 46,
      "metadata": {
        "colab": {
          "base_uri": "https://localhost:8080/",
          "height": 206
        },
        "id": "jh4JjAr2DByC",
        "outputId": "8615aa88-a849-4100-f85d-121659b669c8"
      },
      "outputs": [
        {
          "output_type": "execute_result",
          "data": {
            "text/plain": [
              "                         time                               user_id  \\\n",
              "8  2019-10-07 13:49:41.716617  0001b1d5-b74a-4cbf-aeb0-7df5947bf349   \n",
              "10 2019-10-09 18:35:28.260975  0001b1d5-b74a-4cbf-aeb0-7df5947bf349   \n",
              "12 2019-10-09 18:42:22.963948  0001b1d5-b74a-4cbf-aeb0-7df5947bf349   \n",
              "14 2019-10-21 19:53:17.165009  0001b1d5-b74a-4cbf-aeb0-7df5947bf349   \n",
              "15 2019-10-21 19:53:38.767230  0001b1d5-b74a-4cbf-aeb0-7df5947bf349   \n",
              "\n",
              "         date  diff  session_id  step     source     target  \n",
              "8  2019-10-07  2.15           1     9  tips_show        NaN  \n",
              "10 2019-10-09  1.54           2     2        map  tips_show  \n",
              "12 2019-10-09  1.90           2     4  tips_show        NaN  \n",
              "14 2019-10-21  0.77           3     2  tips_show        map  \n",
              "15 2019-10-21  0.36           3     3        map  tips_show  "
            ],
            "text/html": [
              "\n",
              "\n",
              "  <div id=\"df-92229a86-d262-48f2-9d82-2a7c93c9fd48\">\n",
              "    <div class=\"colab-df-container\">\n",
              "      <div>\n",
              "<style scoped>\n",
              "    .dataframe tbody tr th:only-of-type {\n",
              "        vertical-align: middle;\n",
              "    }\n",
              "\n",
              "    .dataframe tbody tr th {\n",
              "        vertical-align: top;\n",
              "    }\n",
              "\n",
              "    .dataframe thead th {\n",
              "        text-align: right;\n",
              "    }\n",
              "</style>\n",
              "<table border=\"1\" class=\"dataframe\">\n",
              "  <thead>\n",
              "    <tr style=\"text-align: right;\">\n",
              "      <th></th>\n",
              "      <th>time</th>\n",
              "      <th>user_id</th>\n",
              "      <th>date</th>\n",
              "      <th>diff</th>\n",
              "      <th>session_id</th>\n",
              "      <th>step</th>\n",
              "      <th>source</th>\n",
              "      <th>target</th>\n",
              "    </tr>\n",
              "  </thead>\n",
              "  <tbody>\n",
              "    <tr>\n",
              "      <th>8</th>\n",
              "      <td>2019-10-07 13:49:41.716617</td>\n",
              "      <td>0001b1d5-b74a-4cbf-aeb0-7df5947bf349</td>\n",
              "      <td>2019-10-07</td>\n",
              "      <td>2.15</td>\n",
              "      <td>1</td>\n",
              "      <td>9</td>\n",
              "      <td>tips_show</td>\n",
              "      <td>NaN</td>\n",
              "    </tr>\n",
              "    <tr>\n",
              "      <th>10</th>\n",
              "      <td>2019-10-09 18:35:28.260975</td>\n",
              "      <td>0001b1d5-b74a-4cbf-aeb0-7df5947bf349</td>\n",
              "      <td>2019-10-09</td>\n",
              "      <td>1.54</td>\n",
              "      <td>2</td>\n",
              "      <td>2</td>\n",
              "      <td>map</td>\n",
              "      <td>tips_show</td>\n",
              "    </tr>\n",
              "    <tr>\n",
              "      <th>12</th>\n",
              "      <td>2019-10-09 18:42:22.963948</td>\n",
              "      <td>0001b1d5-b74a-4cbf-aeb0-7df5947bf349</td>\n",
              "      <td>2019-10-09</td>\n",
              "      <td>1.90</td>\n",
              "      <td>2</td>\n",
              "      <td>4</td>\n",
              "      <td>tips_show</td>\n",
              "      <td>NaN</td>\n",
              "    </tr>\n",
              "    <tr>\n",
              "      <th>14</th>\n",
              "      <td>2019-10-21 19:53:17.165009</td>\n",
              "      <td>0001b1d5-b74a-4cbf-aeb0-7df5947bf349</td>\n",
              "      <td>2019-10-21</td>\n",
              "      <td>0.77</td>\n",
              "      <td>3</td>\n",
              "      <td>2</td>\n",
              "      <td>tips_show</td>\n",
              "      <td>map</td>\n",
              "    </tr>\n",
              "    <tr>\n",
              "      <th>15</th>\n",
              "      <td>2019-10-21 19:53:38.767230</td>\n",
              "      <td>0001b1d5-b74a-4cbf-aeb0-7df5947bf349</td>\n",
              "      <td>2019-10-21</td>\n",
              "      <td>0.36</td>\n",
              "      <td>3</td>\n",
              "      <td>3</td>\n",
              "      <td>map</td>\n",
              "      <td>tips_show</td>\n",
              "    </tr>\n",
              "  </tbody>\n",
              "</table>\n",
              "</div>\n",
              "      <button class=\"colab-df-convert\" onclick=\"convertToInteractive('df-92229a86-d262-48f2-9d82-2a7c93c9fd48')\"\n",
              "              title=\"Convert this dataframe to an interactive table.\"\n",
              "              style=\"display:none;\">\n",
              "\n",
              "  <svg xmlns=\"http://www.w3.org/2000/svg\" height=\"24px\"viewBox=\"0 0 24 24\"\n",
              "       width=\"24px\">\n",
              "    <path d=\"M0 0h24v24H0V0z\" fill=\"none\"/>\n",
              "    <path d=\"M18.56 5.44l.94 2.06.94-2.06 2.06-.94-2.06-.94-.94-2.06-.94 2.06-2.06.94zm-11 1L8.5 8.5l.94-2.06 2.06-.94-2.06-.94L8.5 2.5l-.94 2.06-2.06.94zm10 10l.94 2.06.94-2.06 2.06-.94-2.06-.94-.94-2.06-.94 2.06-2.06.94z\"/><path d=\"M17.41 7.96l-1.37-1.37c-.4-.4-.92-.59-1.43-.59-.52 0-1.04.2-1.43.59L10.3 9.45l-7.72 7.72c-.78.78-.78 2.05 0 2.83L4 21.41c.39.39.9.59 1.41.59.51 0 1.02-.2 1.41-.59l7.78-7.78 2.81-2.81c.8-.78.8-2.07 0-2.86zM5.41 20L4 18.59l7.72-7.72 1.47 1.35L5.41 20z\"/>\n",
              "  </svg>\n",
              "      </button>\n",
              "\n",
              "\n",
              "\n",
              "    <div id=\"df-8998d3bc-a68f-4651-bad2-9bad162baaae\">\n",
              "      <button class=\"colab-df-quickchart\" onclick=\"quickchart('df-8998d3bc-a68f-4651-bad2-9bad162baaae')\"\n",
              "              title=\"Suggest charts.\"\n",
              "              style=\"display:none;\">\n",
              "\n",
              "<svg xmlns=\"http://www.w3.org/2000/svg\" height=\"24px\"viewBox=\"0 0 24 24\"\n",
              "     width=\"24px\">\n",
              "    <g>\n",
              "        <path d=\"M19 3H5c-1.1 0-2 .9-2 2v14c0 1.1.9 2 2 2h14c1.1 0 2-.9 2-2V5c0-1.1-.9-2-2-2zM9 17H7v-7h2v7zm4 0h-2V7h2v10zm4 0h-2v-4h2v4z\"/>\n",
              "    </g>\n",
              "</svg>\n",
              "      </button>\n",
              "    </div>\n",
              "\n",
              "<style>\n",
              "  .colab-df-quickchart {\n",
              "    background-color: #E8F0FE;\n",
              "    border: none;\n",
              "    border-radius: 50%;\n",
              "    cursor: pointer;\n",
              "    display: none;\n",
              "    fill: #1967D2;\n",
              "    height: 32px;\n",
              "    padding: 0 0 0 0;\n",
              "    width: 32px;\n",
              "  }\n",
              "\n",
              "  .colab-df-quickchart:hover {\n",
              "    background-color: #E2EBFA;\n",
              "    box-shadow: 0px 1px 2px rgba(60, 64, 67, 0.3), 0px 1px 3px 1px rgba(60, 64, 67, 0.15);\n",
              "    fill: #174EA6;\n",
              "  }\n",
              "\n",
              "  [theme=dark] .colab-df-quickchart {\n",
              "    background-color: #3B4455;\n",
              "    fill: #D2E3FC;\n",
              "  }\n",
              "\n",
              "  [theme=dark] .colab-df-quickchart:hover {\n",
              "    background-color: #434B5C;\n",
              "    box-shadow: 0px 1px 3px 1px rgba(0, 0, 0, 0.15);\n",
              "    filter: drop-shadow(0px 1px 2px rgba(0, 0, 0, 0.3));\n",
              "    fill: #FFFFFF;\n",
              "  }\n",
              "</style>\n",
              "\n",
              "    <script>\n",
              "      async function quickchart(key) {\n",
              "        const containerElement = document.querySelector('#' + key);\n",
              "        const charts = await google.colab.kernel.invokeFunction(\n",
              "            'suggestCharts', [key], {});\n",
              "      }\n",
              "    </script>\n",
              "\n",
              "\n",
              "      <script>\n",
              "\n",
              "function displayQuickchartButton(domScope) {\n",
              "  let quickchartButtonEl =\n",
              "    domScope.querySelector('#df-8998d3bc-a68f-4651-bad2-9bad162baaae button.colab-df-quickchart');\n",
              "  quickchartButtonEl.style.display =\n",
              "    google.colab.kernel.accessAllowed ? 'block' : 'none';\n",
              "}\n",
              "\n",
              "        displayQuickchartButton(document);\n",
              "      </script>\n",
              "      <style>\n",
              "    .colab-df-container {\n",
              "      display:flex;\n",
              "      flex-wrap:wrap;\n",
              "      gap: 12px;\n",
              "    }\n",
              "\n",
              "    .colab-df-convert {\n",
              "      background-color: #E8F0FE;\n",
              "      border: none;\n",
              "      border-radius: 50%;\n",
              "      cursor: pointer;\n",
              "      display: none;\n",
              "      fill: #1967D2;\n",
              "      height: 32px;\n",
              "      padding: 0 0 0 0;\n",
              "      width: 32px;\n",
              "    }\n",
              "\n",
              "    .colab-df-convert:hover {\n",
              "      background-color: #E2EBFA;\n",
              "      box-shadow: 0px 1px 2px rgba(60, 64, 67, 0.3), 0px 1px 3px 1px rgba(60, 64, 67, 0.15);\n",
              "      fill: #174EA6;\n",
              "    }\n",
              "\n",
              "    [theme=dark] .colab-df-convert {\n",
              "      background-color: #3B4455;\n",
              "      fill: #D2E3FC;\n",
              "    }\n",
              "\n",
              "    [theme=dark] .colab-df-convert:hover {\n",
              "      background-color: #434B5C;\n",
              "      box-shadow: 0px 1px 3px 1px rgba(0, 0, 0, 0.15);\n",
              "      filter: drop-shadow(0px 1px 2px rgba(0, 0, 0, 0.3));\n",
              "      fill: #FFFFFF;\n",
              "    }\n",
              "  </style>\n",
              "\n",
              "      <script>\n",
              "        const buttonEl =\n",
              "          document.querySelector('#df-92229a86-d262-48f2-9d82-2a7c93c9fd48 button.colab-df-convert');\n",
              "        buttonEl.style.display =\n",
              "          google.colab.kernel.accessAllowed ? 'block' : 'none';\n",
              "\n",
              "        async function convertToInteractive(key) {\n",
              "          const element = document.querySelector('#df-92229a86-d262-48f2-9d82-2a7c93c9fd48');\n",
              "          const dataTable =\n",
              "            await google.colab.kernel.invokeFunction('convertToInteractive',\n",
              "                                                     [key], {});\n",
              "          if (!dataTable) return;\n",
              "\n",
              "          const docLinkHtml = 'Like what you see? Visit the ' +\n",
              "            '<a target=\"_blank\" href=https://colab.research.google.com/notebooks/data_table.ipynb>data table notebook</a>'\n",
              "            + ' to learn more about interactive tables.';\n",
              "          element.innerHTML = '';\n",
              "          dataTable['output_type'] = 'display_data';\n",
              "          await google.colab.output.renderOutput(dataTable, element);\n",
              "          const docLink = document.createElement('div');\n",
              "          docLink.innerHTML = docLinkHtml;\n",
              "          element.appendChild(docLink);\n",
              "        }\n",
              "      </script>\n",
              "    </div>\n",
              "  </div>\n"
            ]
          },
          "metadata": {},
          "execution_count": 46
        }
      ],
      "source": [
        "def add_features(df):\n",
        "\n",
        "    \"\"\"Функция генерации новых столбцов для исходной таблицы\n",
        "\n",
        "    Args:\n",
        "        df (pd.DataFrame): исходная таблица.\n",
        "    Returns:\n",
        "        pd.DataFrame: таблица с новыми признаками.\n",
        "    \"\"\"\n",
        "\n",
        "    # сортируем по id и времени\n",
        "    sorted_df = df.sort_values(by=['session_id', 'time']).copy()\n",
        "    # добавляем шаги событий\n",
        "    sorted_df['step'] = sorted_df.groupby('session_id').cumcount() + 1\n",
        "\n",
        "    # добавляем узлы-источники и целевые узлы\n",
        "    # узлы-источники - это сами события\n",
        "    sorted_df['source'] = sorted_df['event']\n",
        "    # добавляем целевые узлы\n",
        "    sorted_df['target'] = sorted_df.groupby('session_id')['source'].shift(-1)\n",
        "    # убираем повторяющиеся события\n",
        "    sorted_df = sorted_df.query('source != target')\n",
        "    # возврат таблицы без имени событий\n",
        "    return sorted_df.drop(['event'], axis=1)\n",
        "\n",
        "# преобразуем таблицу\n",
        "sessions = add_features(sessions)\n",
        "sessions.head()"
      ]
    },
    {
      "cell_type": "code",
      "execution_count": 47,
      "metadata": {
        "id": "xGXnxNGHKEjm"
      },
      "outputs": [],
      "source": [
        "# удалим все пары source-target, шаг которых превышает 5\n",
        "# и сохраним полученную таблицу в отдельную переменную\n",
        "df_comp = sessions[sessions['step'] <= 5].copy().reset_index(drop=True)"
      ]
    },
    {
      "cell_type": "code",
      "execution_count": 48,
      "metadata": {
        "id": "kx2TsA__IUZx"
      },
      "outputs": [],
      "source": [
        "def get_source_index(df):\n",
        "\n",
        "    \"\"\"Функция генерации индексов source\n",
        "\n",
        "    Args:\n",
        "        df (pd.DataFrame): исходная таблица с признаками step, source, target.\n",
        "    Returns:\n",
        "        dict: словарь с индексами, именами и соответсвиями индексов именам source.\n",
        "    \"\"\"\n",
        "\n",
        "    res_dict = {}\n",
        "\n",
        "    count = 0\n",
        "    # получаем индексы источников\n",
        "    for no, step in enumerate(df['step'].unique().tolist()):\n",
        "        # получаем уникальные наименования для шага\n",
        "        res_dict[no+1] = {}\n",
        "        res_dict[no+1]['sources'] = df[df['step'] == step]['source'].unique().tolist()\n",
        "        res_dict[no+1]['sources_index'] = []\n",
        "        for i in range(len(res_dict[no+1]['sources'])):\n",
        "            res_dict[no+1]['sources_index'].append(count)\n",
        "            count += 1\n",
        "\n",
        "    # соединим списки\n",
        "    for key in res_dict:\n",
        "        res_dict[key]['sources_dict'] = {}\n",
        "        for name, no in zip(res_dict[key]['sources'], res_dict[key]['sources_index']):\n",
        "            res_dict[key]['sources_dict'][name] = no\n",
        "    return res_dict\n",
        "\n",
        "\n",
        "# создаем словарь\n",
        "source_indexes = get_source_index(df_comp)"
      ]
    },
    {
      "cell_type": "code",
      "execution_count": 49,
      "metadata": {
        "id": "W_IkVoa9KTyF"
      },
      "outputs": [],
      "source": [
        "def colors_for_sources(mode):\n",
        "\n",
        "    \"\"\"Генерация цветов rgba\n",
        "\n",
        "    Args:\n",
        "        mode (str): сгенерировать случайные цвета, если 'random', а если 'custom' -\n",
        "                    использовать заранее подготовленные\n",
        "    Returns:\n",
        "        dict: словарь с цветами, соответствующими каждому индексу\n",
        "    \"\"\"\n",
        "    # словарь, в который сложим цвета в соответствии с индексом\n",
        "    colors_dict = {}\n",
        "\n",
        "    if mode == 'random':\n",
        "        # генерим случайные цвета\n",
        "        for label in df_comp['source'].unique():\n",
        "            r, g, b = np.random.randint(255, size=3)\n",
        "            colors_dict[label] = f'rgba({r}, {g}, {b}, 1)'\n",
        "\n",
        "    elif mode == 'custom':\n",
        "        # присваиваем ранее подготовленные цвета\n",
        "        colors = requests.get('https://raw.githubusercontent.com/rusantsovsv/senkey_tutorial/main/json/colors_senkey.json').json()\n",
        "        for no, label in enumerate(df_comp['source'].unique()):\n",
        "            colors_dict[label] = colors['custom_colors'][no]\n",
        "\n",
        "    return colors_dict\n",
        "\n",
        "\n",
        "# генерю цвета из своего списка\n",
        "colors_dict = colors_for_sources(mode='custom')"
      ]
    },
    {
      "cell_type": "code",
      "execution_count": 50,
      "metadata": {
        "id": "SCavNALJLU9g"
      },
      "outputs": [],
      "source": [
        "def percent_users(sources, targets, values):\n",
        "\n",
        "    \"\"\"\n",
        "    Расчет уникальных id в процентах (для вывода в hover text каждого узла)\n",
        "\n",
        "    Args:\n",
        "        sources (list): список с индексами source.\n",
        "        targets (list): список с индексами target.\n",
        "        values (list): список с \"объемами\" потоков.\n",
        "\n",
        "    Returns:\n",
        "        list: список с \"объемами\" потоков в процентах\n",
        "    \"\"\"\n",
        "\n",
        "    # объединим источники и метки и найдем пары\n",
        "    zip_lists = list(zip(sources, targets, values))\n",
        "\n",
        "    new_list = []\n",
        "\n",
        "    # подготовим список словарь с общим объемом трафика в узлах\n",
        "    unique_dict = {}\n",
        "\n",
        "    # проходим по каждому узлу\n",
        "    for source, target, value in zip_lists:\n",
        "        if source not in unique_dict:\n",
        "            # находим все источники и считаем общий трафик\n",
        "            unique_dict[source] = 0\n",
        "            for sr, tg, vl in zip_lists:\n",
        "                if sr == source:\n",
        "                    unique_dict[source] += vl\n",
        "\n",
        "    # считаем проценты\n",
        "    for source, target, value in zip_lists:\n",
        "        new_list.append(round(100 * value / unique_dict[source], 1))\n",
        "\n",
        "    return new_list"
      ]
    },
    {
      "cell_type": "code",
      "execution_count": 51,
      "metadata": {
        "colab": {
          "base_uri": "https://localhost:8080/",
          "height": 177,
          "referenced_widgets": [
            "869dff362d704986b91d1be7b3f33302",
            "30c33a88352c45299eb24a82f14d6836",
            "09c6e1d6fc0a43a0859176102a61fa09",
            "0e40ebbccfb74a91956063e6aff6086f",
            "1bdc89ef0f434facba793389ac73421f",
            "c4def4d936d940e09e92f12b2881e117",
            "0eeea02e0cd9435892491926d9d49e2e",
            "948df454f9b5439a80cde6069809a675",
            "bcc3054bb9c04df5af5291a63bbfe519",
            "87c7053972f149f5965bef7cef818d2f",
            "9ccd27b290734673af2061d975056a69",
            "4e2df37882354dc5b3ebdb9f6277c12b",
            "cbe6566fa9e14d68b9aea415367f015f",
            "11dbe28bb9834785a5e67e4b781e9e49",
            "ac31856d88224e298c829cd1ade45fec",
            "233f56679336417798e25506dd7b44b9",
            "68e47dffdcc043b0bc0af1081fbb3f72",
            "80834b33ccb840e1a77e1e69418611e5",
            "f63ae54a5dd04fd1bceef9e2333e4a38",
            "dc4e235e487a4e82bd2fd71d9589c962",
            "d10070ac6a034cf29f31d6f5c9b5e0b1",
            "c31c381e53fa472ca94586f21aa58854",
            "919f956555d0460b88a441391c58002b",
            "9cdfe04f79194f6ba5339558e306afb2",
            "ced90e320e934c2a9a08cbde49544af1",
            "78e98343ec1e45df8dc5495396833a62",
            "f78360e8c3dd4054a1eaa76ddcffb3e2",
            "46711f12478045699a82d800acb7813d",
            "128b37babe4747c1a3532f577b8b93ab",
            "4f23c87c9c324d24bb4bdd0277a55fcc",
            "11066235bb0f47e2bd5817243f855aae",
            "e8b3868b19434c48959eecda015f37e6",
            "8251155d60ee4823b5b74ed457f1e510",
            "c6c44b05c464432099d2c4b49fedb31e",
            "d92b2ff326a64ae09fd65580a74eb24a",
            "7386c636c8e7432fba2022741a61b15e",
            "6726223485764501a02fca7bc803b7c6",
            "c3d6ec0949784f5b8f1e6db0ef6b1350",
            "2b75f9d2e7e74474bb943005984ef75c",
            "b0227d889cf044c5869844c7e3ea699d",
            "cf1a9efa403f402f9bfdcb2b8ad9ce79",
            "cd504988e4c740f0ab4cea752d45bbb5",
            "4a6e4eac891045af86e70865ababc66e",
            "c1b5bc6eea3144968e2b5665b8c3e469",
            "d8f9317d53964a419689de0eaf4a4395",
            "ac80b02a45f24704b9a32b32db05d484",
            "115bb3d6ac4d451887ea336402e34baa",
            "b462e265d27348809c848fb46ae6eaf7",
            "c99b58930f734612ae224dfcfd905480",
            "b54ad37c36364111b415104caf0463d9",
            "b41ce5d103ab4784b22b4e2b4bc4feb4",
            "3a5d89245e984e1b8da4b2c0a5de8dcc",
            "96f89ce589554769a34af1897235e3bc",
            "8a74f2dd833a4dae96a41f5d8579c486",
            "c2f1808b0de84fbebb025ffbedd827d3"
          ]
        },
        "id": "USx0YKoNLdC3",
        "outputId": "89b8dbc7-116b-413d-aea3-03548a83b0e2"
      },
      "outputs": [
        {
          "output_type": "display_data",
          "data": {
            "text/plain": [
              "Шаг:   0%|          | 0/5 [00:00<?, ?it/s]"
            ],
            "application/vnd.jupyter.widget-view+json": {
              "version_major": 2,
              "version_minor": 0,
              "model_id": "869dff362d704986b91d1be7b3f33302"
            }
          },
          "metadata": {}
        },
        {
          "output_type": "display_data",
          "data": {
            "text/plain": [
              "  0%|          | 0/9 [00:00<?, ?it/s]"
            ],
            "application/vnd.jupyter.widget-view+json": {
              "version_major": 2,
              "version_minor": 0,
              "model_id": "4e2df37882354dc5b3ebdb9f6277c12b"
            }
          },
          "metadata": {}
        },
        {
          "output_type": "display_data",
          "data": {
            "text/plain": [
              "  0%|          | 0/9 [00:00<?, ?it/s]"
            ],
            "application/vnd.jupyter.widget-view+json": {
              "version_major": 2,
              "version_minor": 0,
              "model_id": "919f956555d0460b88a441391c58002b"
            }
          },
          "metadata": {}
        },
        {
          "output_type": "display_data",
          "data": {
            "text/plain": [
              "  0%|          | 0/9 [00:00<?, ?it/s]"
            ],
            "application/vnd.jupyter.widget-view+json": {
              "version_major": 2,
              "version_minor": 0,
              "model_id": "c6c44b05c464432099d2c4b49fedb31e"
            }
          },
          "metadata": {}
        },
        {
          "output_type": "display_data",
          "data": {
            "text/plain": [
              "  0%|          | 0/9 [00:00<?, ?it/s]"
            ],
            "application/vnd.jupyter.widget-view+json": {
              "version_major": 2,
              "version_minor": 0,
              "model_id": "d8f9317d53964a419689de0eaf4a4395"
            }
          },
          "metadata": {}
        }
      ],
      "source": [
        "def lists_for_plot(source_indexes=source_indexes, colors=colors_dict, frac=10):\n",
        "\n",
        "    \"\"\"\n",
        "    Создаем необходимые для отрисовки диаграммы переменные списков и возвращаем\n",
        "    их в виде словаря\n",
        "\n",
        "    Args:\n",
        "        source_indexes (dict): словарь с именами и индексами source.\n",
        "        colors (dict): словарь с цветами source.\n",
        "        frac (int): ограничение на минимальный \"объем\" между узлами.\n",
        "\n",
        "    Returns:\n",
        "        dict: словарь со списками, необходимыми для диаграммы.\n",
        "    \"\"\"\n",
        "\n",
        "    sources = []\n",
        "    targets = []\n",
        "    values = []\n",
        "    labels = []\n",
        "    link_color = []\n",
        "    link_text = []\n",
        "\n",
        "    # проходим по каждому шагу\n",
        "    for step in tqdm_notebook(sorted(df_comp['step'].unique()), desc='Шаг'):\n",
        "        if step + 1 not in source_indexes:\n",
        "            continue\n",
        "\n",
        "        # получаем индекс источника\n",
        "        temp_dict_source = source_indexes[step]['sources_dict']\n",
        "\n",
        "        # получаем индексы цели\n",
        "        temp_dict_target = source_indexes[step+1]['sources_dict']\n",
        "\n",
        "        # проходим по каждой возможной паре, считаем количество таких пар\n",
        "        for source, index_source in tqdm_notebook(temp_dict_source.items()):\n",
        "            for target, index_target in temp_dict_target.items():\n",
        "                # делаем срез данных и считаем количество id\n",
        "                temp_df = df_comp[(df_comp['step'] == step)&(df_comp['source'] == source)&(df_comp['target'] == target)]\n",
        "                value = len(temp_df)\n",
        "                # проверяем минимальный объем потока и добавляем нужные данные\n",
        "                if value > frac:\n",
        "                    sources.append(index_source)\n",
        "                    targets.append(index_target)\n",
        "                    values.append(value)\n",
        "                    # делаем поток прозрачным для лучшего отображения\n",
        "                    link_color.append(colors[source].replace(', 1)', ', 0.2)'))\n",
        "\n",
        "    labels = []\n",
        "    colors_labels = []\n",
        "    for key in source_indexes:\n",
        "        for name in source_indexes[key]['sources']:\n",
        "            labels.append(name)\n",
        "            colors_labels.append(colors[name])\n",
        "\n",
        "    # посчитаем проценты всех потоков\n",
        "    perc_values = percent_users(sources, targets, values)\n",
        "\n",
        "    # добавим значения процентов для howertext\n",
        "    link_text = []\n",
        "    for perc in perc_values:\n",
        "        link_text.append(f\"{perc}%\")\n",
        "\n",
        "    # возвратим словарь с вложенными списками\n",
        "    return {'sources': sources,\n",
        "            'targets': targets,\n",
        "            'values': values,\n",
        "            'labels': labels,\n",
        "            'colors_labels': colors_labels,\n",
        "            'link_color': link_color,\n",
        "            'link_text': link_text}\n",
        "\n",
        "\n",
        "# создаем словарь\n",
        "data_for_plot = lists_for_plot()"
      ]
    },
    {
      "cell_type": "code",
      "execution_count": 52,
      "metadata": {
        "id": "2cL6QAW0LjUV"
      },
      "outputs": [],
      "source": [
        "def plot_senkey_diagram(data_dict=data_for_plot):\n",
        "\n",
        "    \"\"\"\n",
        "    Функция для генерации объекта диаграммы Сенкей\n",
        "\n",
        "    Args:\n",
        "        data_dict (dict): словарь со списками данных для построения.\n",
        "\n",
        "    Returns:\n",
        "        plotly.graph_objs._figure.Figure: объект изображения.\n",
        "    \"\"\"\n",
        "\n",
        "    fig = go.Figure(data=[go.Sankey(\n",
        "        domain = dict(\n",
        "          x =  [0,1],\n",
        "          y =  [0,1]\n",
        "        ),\n",
        "        orientation = \"h\",\n",
        "        valueformat = \".0f\",\n",
        "        node = dict(\n",
        "          pad = 50,\n",
        "          thickness = 15,\n",
        "          line = dict(color = \"black\", width = 0.1),\n",
        "          label = data_dict['labels'],\n",
        "          color = data_dict['colors_labels']\n",
        "        ),\n",
        "        link = dict(\n",
        "          source = data_dict['sources'],\n",
        "          target = data_dict['targets'],\n",
        "          value = data_dict['values'],\n",
        "          label = data_dict['link_text'],\n",
        "          color = data_dict['link_color']\n",
        "      ))])\n",
        "    fig.update_layout(title_text=\"Sankey Diagram\", font_size=10, width=1000, height=600)\n",
        "\n",
        "    # возвращаем объект диаграммы\n",
        "    return fig\n",
        "\n",
        "\n",
        "# сохраняем диаграмму в переменную\n",
        "senkey_diagram = plot_senkey_diagram()"
      ]
    },
    {
      "cell_type": "code",
      "execution_count": 53,
      "metadata": {
        "colab": {
          "base_uri": "https://localhost:8080/",
          "height": 617
        },
        "id": "XD24yysSOgDX",
        "outputId": "53b9d8f2-cd71-4961-f21a-e468321d3a66"
      },
      "outputs": [
        {
          "output_type": "display_data",
          "data": {
            "text/html": [
              "<html>\n",
              "<head><meta charset=\"utf-8\" /></head>\n",
              "<body>\n",
              "    <div>            <script src=\"https://cdnjs.cloudflare.com/ajax/libs/mathjax/2.7.5/MathJax.js?config=TeX-AMS-MML_SVG\"></script><script type=\"text/javascript\">if (window.MathJax && window.MathJax.Hub && window.MathJax.Hub.Config) {window.MathJax.Hub.Config({SVG: {font: \"STIX-Web\"}});}</script>                <script type=\"text/javascript\">window.PlotlyConfig = {MathJaxConfig: 'local'};</script>\n",
              "        <script charset=\"utf-8\" src=\"https://cdn.plot.ly/plotly-2.24.1.min.js\"></script>                <div id=\"5399b0e7-fa8a-4f0a-8298-fbadcf1eaf98\" class=\"plotly-graph-div\" style=\"height:600px; width:1000px;\"></div>            <script type=\"text/javascript\">                                    window.PLOTLYENV=window.PLOTLYENV || {};                                    if (document.getElementById(\"5399b0e7-fa8a-4f0a-8298-fbadcf1eaf98\")) {                    Plotly.newPlot(                        \"5399b0e7-fa8a-4f0a-8298-fbadcf1eaf98\",                        [{\"domain\":{\"x\":[0,1],\"y\":[0,1]},\"link\":{\"color\":[\"rgba(42, 157, 143, 0.2)\",\"rgba(42, 157, 143, 0.2)\",\"rgba(42, 157, 143, 0.2)\",\"rgba(42, 157, 143, 0.2)\",\"rgba(38, 70, 83, 0.2)\",\"rgba(38, 70, 83, 0.2)\",\"rgba(38, 70, 83, 0.2)\",\"rgba(38, 70, 83, 0.2)\",\"rgba(38, 70, 83, 0.2)\",\"rgba(38, 70, 83, 0.2)\",\"rgba(244, 162, 97, 0.2)\",\"rgba(244, 162, 97, 0.2)\",\"rgba(244, 162, 97, 0.2)\",\"rgba(233, 196, 106, 0.2)\",\"rgba(233, 196, 106, 0.2)\",\"rgba(233, 196, 106, 0.2)\",\"rgba(233, 196, 106, 0.2)\",\"rgba(233, 196, 106, 0.2)\",\"rgba(233, 196, 106, 0.2)\",\"rgba(168, 218, 220, 0.2)\",\"rgba(168, 218, 220, 0.2)\",\"rgba(168, 218, 220, 0.2)\",\"rgba(168, 218, 220, 0.2)\",\"rgba(230, 57, 70, 0.2)\",\"rgba(230, 57, 70, 0.2)\",\"rgba(230, 57, 70, 0.2)\",\"rgba(230, 57, 70, 0.2)\",\"rgba(231, 111, 81, 0.2)\",\"rgba(38, 70, 83, 0.2)\",\"rgba(38, 70, 83, 0.2)\",\"rgba(38, 70, 83, 0.2)\",\"rgba(38, 70, 83, 0.2)\",\"rgba(38, 70, 83, 0.2)\",\"rgba(38, 70, 83, 0.2)\",\"rgba(233, 196, 106, 0.2)\",\"rgba(233, 196, 106, 0.2)\",\"rgba(233, 196, 106, 0.2)\",\"rgba(233, 196, 106, 0.2)\",\"rgba(233, 196, 106, 0.2)\",\"rgba(233, 196, 106, 0.2)\",\"rgba(42, 157, 143, 0.2)\",\"rgba(42, 157, 143, 0.2)\",\"rgba(42, 157, 143, 0.2)\",\"rgba(168, 218, 220, 0.2)\",\"rgba(168, 218, 220, 0.2)\",\"rgba(168, 218, 220, 0.2)\",\"rgba(168, 218, 220, 0.2)\",\"rgba(244, 162, 97, 0.2)\",\"rgba(244, 162, 97, 0.2)\",\"rgba(244, 162, 97, 0.2)\",\"rgba(244, 162, 97, 0.2)\",\"rgba(230, 57, 70, 0.2)\",\"rgba(230, 57, 70, 0.2)\",\"rgba(29, 53, 87, 0.2)\",\"rgba(69, 123, 157, 0.2)\",\"rgba(69, 123, 157, 0.2)\",\"rgba(231, 111, 81, 0.2)\",\"rgba(42, 157, 143, 0.2)\",\"rgba(42, 157, 143, 0.2)\",\"rgba(42, 157, 143, 0.2)\",\"rgba(233, 196, 106, 0.2)\",\"rgba(233, 196, 106, 0.2)\",\"rgba(233, 196, 106, 0.2)\",\"rgba(233, 196, 106, 0.2)\",\"rgba(233, 196, 106, 0.2)\",\"rgba(233, 196, 106, 0.2)\",\"rgba(231, 111, 81, 0.2)\",\"rgba(231, 111, 81, 0.2)\",\"rgba(230, 57, 70, 0.2)\",\"rgba(230, 57, 70, 0.2)\",\"rgba(244, 162, 97, 0.2)\",\"rgba(244, 162, 97, 0.2)\",\"rgba(244, 162, 97, 0.2)\",\"rgba(69, 123, 157, 0.2)\",\"rgba(38, 70, 83, 0.2)\",\"rgba(38, 70, 83, 0.2)\",\"rgba(38, 70, 83, 0.2)\",\"rgba(38, 70, 83, 0.2)\",\"rgba(38, 70, 83, 0.2)\",\"rgba(38, 70, 83, 0.2)\",\"rgba(168, 218, 220, 0.2)\",\"rgba(168, 218, 220, 0.2)\",\"rgba(168, 218, 220, 0.2)\",\"rgba(168, 218, 220, 0.2)\",\"rgba(29, 53, 87, 0.2)\",\"rgba(38, 70, 83, 0.2)\",\"rgba(38, 70, 83, 0.2)\",\"rgba(38, 70, 83, 0.2)\",\"rgba(38, 70, 83, 0.2)\",\"rgba(38, 70, 83, 0.2)\",\"rgba(38, 70, 83, 0.2)\",\"rgba(42, 157, 143, 0.2)\",\"rgba(42, 157, 143, 0.2)\",\"rgba(42, 157, 143, 0.2)\",\"rgba(244, 162, 97, 0.2)\",\"rgba(244, 162, 97, 0.2)\",\"rgba(244, 162, 97, 0.2)\",\"rgba(233, 196, 106, 0.2)\",\"rgba(233, 196, 106, 0.2)\",\"rgba(233, 196, 106, 0.2)\",\"rgba(233, 196, 106, 0.2)\",\"rgba(233, 196, 106, 0.2)\",\"rgba(233, 196, 106, 0.2)\",\"rgba(69, 123, 157, 0.2)\",\"rgba(69, 123, 157, 0.2)\",\"rgba(230, 57, 70, 0.2)\",\"rgba(29, 53, 87, 0.2)\",\"rgba(168, 218, 220, 0.2)\",\"rgba(168, 218, 220, 0.2)\",\"rgba(231, 111, 81, 0.2)\",\"rgba(231, 111, 81, 0.2)\"],\"label\":[\"66.5%\",\"7.7%\",\"3.0%\",\"22.8%\",\"5.6%\",\"28.0%\",\"38.7%\",\"9.2%\",\"15.4%\",\"3.2%\",\"36.3%\",\"42.2%\",\"21.5%\",\"9.3%\",\"17.0%\",\"10.4%\",\"52.5%\",\"5.5%\",\"5.3%\",\"28.1%\",\"5.2%\",\"14.7%\",\"51.9%\",\"68.3%\",\"6.4%\",\"5.9%\",\"19.3%\",\"100.0%\",\"23.7%\",\"4.0%\",\"4.5%\",\"24.3%\",\"29.9%\",\"13.6%\",\"19.2%\",\"3.4%\",\"6.5%\",\"28.2%\",\"36.1%\",\"6.5%\",\"9.9%\",\"26.9%\",\"63.2%\",\"6.7%\",\"9.1%\",\"34.3%\",\"50.0%\",\"44.3%\",\"14.6%\",\"10.9%\",\"30.2%\",\"5.1%\",\"94.9%\",\"100.0%\",\"32.7%\",\"67.3%\",\"100.0%\",\"62.8%\",\"11.5%\",\"25.6%\",\"45.3%\",\"15.3%\",\"23.4%\",\"5.9%\",\"5.9%\",\"4.3%\",\"38.1%\",\"61.9%\",\"94.2%\",\"5.8%\",\"50.0%\",\"33.1%\",\"16.9%\",\"100.0%\",\"19.9%\",\"5.9%\",\"32.7%\",\"11.8%\",\"26.8%\",\"2.8%\",\"51.3%\",\"8.1%\",\"7.1%\",\"33.5%\",\"100.0%\",\"18.8%\",\"3.5%\",\"27.1%\",\"34.4%\",\"3.7%\",\"12.6%\",\"12.4%\",\"63.4%\",\"24.1%\",\"51.4%\",\"27.5%\",\"21.1%\",\"9.4%\",\"7.7%\",\"24.3%\",\"42.1%\",\"10.6%\",\"6.0%\",\"53.8%\",\"46.2%\",\"100.0%\",\"100.0%\",\"21.1%\",\"78.9%\",\"58.1%\",\"41.9%\"],\"source\":[0,0,0,0,1,1,1,1,1,1,2,2,2,3,3,3,3,3,3,5,5,5,5,6,6,6,6,8,9,9,9,9,9,9,10,10,10,10,10,10,11,11,11,12,12,12,12,13,13,13,13,14,14,15,16,16,17,18,18,18,19,19,19,19,19,19,20,20,21,21,22,22,22,23,24,24,24,24,24,24,25,25,25,25,26,27,27,27,27,27,27,28,28,28,29,29,29,30,30,30,30,30,30,31,31,32,33,34,34,35,35],\"target\":[9,10,12,14,10,11,12,14,15,17,10,12,17,9,11,12,13,14,17,9,10,13,16,9,10,12,13,13,18,19,20,21,25,26,18,20,21,22,24,25,19,21,24,19,22,23,24,19,20,21,25,19,24,24,22,25,22,27,30,32,27,28,29,32,34,35,27,29,27,29,30,34,35,34,28,30,32,33,34,35,27,29,30,31,27,36,37,38,41,42,43,37,40,41,37,38,42,36,38,39,40,41,42,38,39,40,40,39,40,39,40],\"value\":[619,72,28,212,26,131,181,43,72,15,49,57,29,73,134,82,414,43,42,65,12,34,120,138,13,12,39,15,106,18,20,109,134,61,118,21,40,173,221,40,35,95,223,17,23,87,127,85,28,21,58,12,223,72,16,33,26,147,27,60,178,60,92,23,23,17,16,26,229,14,80,53,27,27,84,25,138,50,113,12,101,16,14,66,63,87,16,125,159,17,58,18,92,35,56,30,23,22,18,57,99,25,14,14,12,208,54,23,86,18,13]},\"node\":{\"color\":[\"rgba(42, 157, 143, 1)\",\"rgba(38, 70, 83, 1)\",\"rgba(244, 162, 97, 1)\",\"rgba(233, 196, 106, 1)\",\"rgba(69, 123, 157, 1)\",\"rgba(168, 218, 220, 1)\",\"rgba(230, 57, 70, 1)\",\"rgba(29, 53, 87, 1)\",\"rgba(231, 111, 81, 1)\",\"rgba(38, 70, 83, 1)\",\"rgba(233, 196, 106, 1)\",\"rgba(42, 157, 143, 1)\",\"rgba(168, 218, 220, 1)\",\"rgba(244, 162, 97, 1)\",\"rgba(230, 57, 70, 1)\",\"rgba(29, 53, 87, 1)\",\"rgba(69, 123, 157, 1)\",\"rgba(231, 111, 81, 1)\",\"rgba(42, 157, 143, 1)\",\"rgba(233, 196, 106, 1)\",\"rgba(231, 111, 81, 1)\",\"rgba(230, 57, 70, 1)\",\"rgba(244, 162, 97, 1)\",\"rgba(69, 123, 157, 1)\",\"rgba(38, 70, 83, 1)\",\"rgba(168, 218, 220, 1)\",\"rgba(29, 53, 87, 1)\",\"rgba(38, 70, 83, 1)\",\"rgba(42, 157, 143, 1)\",\"rgba(244, 162, 97, 1)\",\"rgba(233, 196, 106, 1)\",\"rgba(69, 123, 157, 1)\",\"rgba(230, 57, 70, 1)\",\"rgba(29, 53, 87, 1)\",\"rgba(168, 218, 220, 1)\",\"rgba(231, 111, 81, 1)\",\"rgba(42, 157, 143, 1)\",\"rgba(233, 196, 106, 1)\",\"rgba(168, 218, 220, 1)\",\"rgba(244, 162, 97, 1)\",\"rgba(38, 70, 83, 1)\",\"rgba(230, 57, 70, 1)\",\"rgba(231, 111, 81, 1)\",\"rgba(29, 53, 87, 1)\"],\"label\":[\"map\",\"tips_show\",\"photos_show\",\"search\",\"contacts_call\",\"contacts_show\",\"advert_open\",\"tips_click\",\"favorites_add\",\"tips_show\",\"search\",\"map\",\"contacts_show\",\"photos_show\",\"advert_open\",\"tips_click\",\"contacts_call\",\"favorites_add\",\"map\",\"search\",\"favorites_add\",\"advert_open\",\"photos_show\",\"contacts_call\",\"tips_show\",\"contacts_show\",\"tips_click\",\"tips_show\",\"map\",\"photos_show\",\"search\",\"contacts_call\",\"advert_open\",\"tips_click\",\"contacts_show\",\"favorites_add\",\"map\",\"search\",\"contacts_show\",\"photos_show\",\"tips_show\",\"advert_open\",\"favorites_add\",\"tips_click\"],\"line\":{\"color\":\"black\",\"width\":0.1},\"pad\":50,\"thickness\":15},\"orientation\":\"h\",\"valueformat\":\".0f\",\"type\":\"sankey\"}],                        {\"template\":{\"data\":{\"histogram2dcontour\":[{\"type\":\"histogram2dcontour\",\"colorbar\":{\"outlinewidth\":0,\"ticks\":\"\"},\"colorscale\":[[0.0,\"#0d0887\"],[0.1111111111111111,\"#46039f\"],[0.2222222222222222,\"#7201a8\"],[0.3333333333333333,\"#9c179e\"],[0.4444444444444444,\"#bd3786\"],[0.5555555555555556,\"#d8576b\"],[0.6666666666666666,\"#ed7953\"],[0.7777777777777778,\"#fb9f3a\"],[0.8888888888888888,\"#fdca26\"],[1.0,\"#f0f921\"]]}],\"choropleth\":[{\"type\":\"choropleth\",\"colorbar\":{\"outlinewidth\":0,\"ticks\":\"\"}}],\"histogram2d\":[{\"type\":\"histogram2d\",\"colorbar\":{\"outlinewidth\":0,\"ticks\":\"\"},\"colorscale\":[[0.0,\"#0d0887\"],[0.1111111111111111,\"#46039f\"],[0.2222222222222222,\"#7201a8\"],[0.3333333333333333,\"#9c179e\"],[0.4444444444444444,\"#bd3786\"],[0.5555555555555556,\"#d8576b\"],[0.6666666666666666,\"#ed7953\"],[0.7777777777777778,\"#fb9f3a\"],[0.8888888888888888,\"#fdca26\"],[1.0,\"#f0f921\"]]}],\"heatmap\":[{\"type\":\"heatmap\",\"colorbar\":{\"outlinewidth\":0,\"ticks\":\"\"},\"colorscale\":[[0.0,\"#0d0887\"],[0.1111111111111111,\"#46039f\"],[0.2222222222222222,\"#7201a8\"],[0.3333333333333333,\"#9c179e\"],[0.4444444444444444,\"#bd3786\"],[0.5555555555555556,\"#d8576b\"],[0.6666666666666666,\"#ed7953\"],[0.7777777777777778,\"#fb9f3a\"],[0.8888888888888888,\"#fdca26\"],[1.0,\"#f0f921\"]]}],\"heatmapgl\":[{\"type\":\"heatmapgl\",\"colorbar\":{\"outlinewidth\":0,\"ticks\":\"\"},\"colorscale\":[[0.0,\"#0d0887\"],[0.1111111111111111,\"#46039f\"],[0.2222222222222222,\"#7201a8\"],[0.3333333333333333,\"#9c179e\"],[0.4444444444444444,\"#bd3786\"],[0.5555555555555556,\"#d8576b\"],[0.6666666666666666,\"#ed7953\"],[0.7777777777777778,\"#fb9f3a\"],[0.8888888888888888,\"#fdca26\"],[1.0,\"#f0f921\"]]}],\"contourcarpet\":[{\"type\":\"contourcarpet\",\"colorbar\":{\"outlinewidth\":0,\"ticks\":\"\"}}],\"contour\":[{\"type\":\"contour\",\"colorbar\":{\"outlinewidth\":0,\"ticks\":\"\"},\"colorscale\":[[0.0,\"#0d0887\"],[0.1111111111111111,\"#46039f\"],[0.2222222222222222,\"#7201a8\"],[0.3333333333333333,\"#9c179e\"],[0.4444444444444444,\"#bd3786\"],[0.5555555555555556,\"#d8576b\"],[0.6666666666666666,\"#ed7953\"],[0.7777777777777778,\"#fb9f3a\"],[0.8888888888888888,\"#fdca26\"],[1.0,\"#f0f921\"]]}],\"surface\":[{\"type\":\"surface\",\"colorbar\":{\"outlinewidth\":0,\"ticks\":\"\"},\"colorscale\":[[0.0,\"#0d0887\"],[0.1111111111111111,\"#46039f\"],[0.2222222222222222,\"#7201a8\"],[0.3333333333333333,\"#9c179e\"],[0.4444444444444444,\"#bd3786\"],[0.5555555555555556,\"#d8576b\"],[0.6666666666666666,\"#ed7953\"],[0.7777777777777778,\"#fb9f3a\"],[0.8888888888888888,\"#fdca26\"],[1.0,\"#f0f921\"]]}],\"mesh3d\":[{\"type\":\"mesh3d\",\"colorbar\":{\"outlinewidth\":0,\"ticks\":\"\"}}],\"scatter\":[{\"fillpattern\":{\"fillmode\":\"overlay\",\"size\":10,\"solidity\":0.2},\"type\":\"scatter\"}],\"parcoords\":[{\"type\":\"parcoords\",\"line\":{\"colorbar\":{\"outlinewidth\":0,\"ticks\":\"\"}}}],\"scatterpolargl\":[{\"type\":\"scatterpolargl\",\"marker\":{\"colorbar\":{\"outlinewidth\":0,\"ticks\":\"\"}}}],\"bar\":[{\"error_x\":{\"color\":\"#2a3f5f\"},\"error_y\":{\"color\":\"#2a3f5f\"},\"marker\":{\"line\":{\"color\":\"#E5ECF6\",\"width\":0.5},\"pattern\":{\"fillmode\":\"overlay\",\"size\":10,\"solidity\":0.2}},\"type\":\"bar\"}],\"scattergeo\":[{\"type\":\"scattergeo\",\"marker\":{\"colorbar\":{\"outlinewidth\":0,\"ticks\":\"\"}}}],\"scatterpolar\":[{\"type\":\"scatterpolar\",\"marker\":{\"colorbar\":{\"outlinewidth\":0,\"ticks\":\"\"}}}],\"histogram\":[{\"marker\":{\"pattern\":{\"fillmode\":\"overlay\",\"size\":10,\"solidity\":0.2}},\"type\":\"histogram\"}],\"scattergl\":[{\"type\":\"scattergl\",\"marker\":{\"colorbar\":{\"outlinewidth\":0,\"ticks\":\"\"}}}],\"scatter3d\":[{\"type\":\"scatter3d\",\"line\":{\"colorbar\":{\"outlinewidth\":0,\"ticks\":\"\"}},\"marker\":{\"colorbar\":{\"outlinewidth\":0,\"ticks\":\"\"}}}],\"scattermapbox\":[{\"type\":\"scattermapbox\",\"marker\":{\"colorbar\":{\"outlinewidth\":0,\"ticks\":\"\"}}}],\"scatterternary\":[{\"type\":\"scatterternary\",\"marker\":{\"colorbar\":{\"outlinewidth\":0,\"ticks\":\"\"}}}],\"scattercarpet\":[{\"type\":\"scattercarpet\",\"marker\":{\"colorbar\":{\"outlinewidth\":0,\"ticks\":\"\"}}}],\"carpet\":[{\"aaxis\":{\"endlinecolor\":\"#2a3f5f\",\"gridcolor\":\"white\",\"linecolor\":\"white\",\"minorgridcolor\":\"white\",\"startlinecolor\":\"#2a3f5f\"},\"baxis\":{\"endlinecolor\":\"#2a3f5f\",\"gridcolor\":\"white\",\"linecolor\":\"white\",\"minorgridcolor\":\"white\",\"startlinecolor\":\"#2a3f5f\"},\"type\":\"carpet\"}],\"table\":[{\"cells\":{\"fill\":{\"color\":\"#EBF0F8\"},\"line\":{\"color\":\"white\"}},\"header\":{\"fill\":{\"color\":\"#C8D4E3\"},\"line\":{\"color\":\"white\"}},\"type\":\"table\"}],\"barpolar\":[{\"marker\":{\"line\":{\"color\":\"#E5ECF6\",\"width\":0.5},\"pattern\":{\"fillmode\":\"overlay\",\"size\":10,\"solidity\":0.2}},\"type\":\"barpolar\"}],\"pie\":[{\"automargin\":true,\"type\":\"pie\"}]},\"layout\":{\"autotypenumbers\":\"strict\",\"colorway\":[\"#636efa\",\"#EF553B\",\"#00cc96\",\"#ab63fa\",\"#FFA15A\",\"#19d3f3\",\"#FF6692\",\"#B6E880\",\"#FF97FF\",\"#FECB52\"],\"font\":{\"color\":\"#2a3f5f\"},\"hovermode\":\"closest\",\"hoverlabel\":{\"align\":\"left\"},\"paper_bgcolor\":\"white\",\"plot_bgcolor\":\"#E5ECF6\",\"polar\":{\"bgcolor\":\"#E5ECF6\",\"angularaxis\":{\"gridcolor\":\"white\",\"linecolor\":\"white\",\"ticks\":\"\"},\"radialaxis\":{\"gridcolor\":\"white\",\"linecolor\":\"white\",\"ticks\":\"\"}},\"ternary\":{\"bgcolor\":\"#E5ECF6\",\"aaxis\":{\"gridcolor\":\"white\",\"linecolor\":\"white\",\"ticks\":\"\"},\"baxis\":{\"gridcolor\":\"white\",\"linecolor\":\"white\",\"ticks\":\"\"},\"caxis\":{\"gridcolor\":\"white\",\"linecolor\":\"white\",\"ticks\":\"\"}},\"coloraxis\":{\"colorbar\":{\"outlinewidth\":0,\"ticks\":\"\"}},\"colorscale\":{\"sequential\":[[0.0,\"#0d0887\"],[0.1111111111111111,\"#46039f\"],[0.2222222222222222,\"#7201a8\"],[0.3333333333333333,\"#9c179e\"],[0.4444444444444444,\"#bd3786\"],[0.5555555555555556,\"#d8576b\"],[0.6666666666666666,\"#ed7953\"],[0.7777777777777778,\"#fb9f3a\"],[0.8888888888888888,\"#fdca26\"],[1.0,\"#f0f921\"]],\"sequentialminus\":[[0.0,\"#0d0887\"],[0.1111111111111111,\"#46039f\"],[0.2222222222222222,\"#7201a8\"],[0.3333333333333333,\"#9c179e\"],[0.4444444444444444,\"#bd3786\"],[0.5555555555555556,\"#d8576b\"],[0.6666666666666666,\"#ed7953\"],[0.7777777777777778,\"#fb9f3a\"],[0.8888888888888888,\"#fdca26\"],[1.0,\"#f0f921\"]],\"diverging\":[[0,\"#8e0152\"],[0.1,\"#c51b7d\"],[0.2,\"#de77ae\"],[0.3,\"#f1b6da\"],[0.4,\"#fde0ef\"],[0.5,\"#f7f7f7\"],[0.6,\"#e6f5d0\"],[0.7,\"#b8e186\"],[0.8,\"#7fbc41\"],[0.9,\"#4d9221\"],[1,\"#276419\"]]},\"xaxis\":{\"gridcolor\":\"white\",\"linecolor\":\"white\",\"ticks\":\"\",\"title\":{\"standoff\":15},\"zerolinecolor\":\"white\",\"automargin\":true,\"zerolinewidth\":2},\"yaxis\":{\"gridcolor\":\"white\",\"linecolor\":\"white\",\"ticks\":\"\",\"title\":{\"standoff\":15},\"zerolinecolor\":\"white\",\"automargin\":true,\"zerolinewidth\":2},\"scene\":{\"xaxis\":{\"backgroundcolor\":\"#E5ECF6\",\"gridcolor\":\"white\",\"linecolor\":\"white\",\"showbackground\":true,\"ticks\":\"\",\"zerolinecolor\":\"white\",\"gridwidth\":2},\"yaxis\":{\"backgroundcolor\":\"#E5ECF6\",\"gridcolor\":\"white\",\"linecolor\":\"white\",\"showbackground\":true,\"ticks\":\"\",\"zerolinecolor\":\"white\",\"gridwidth\":2},\"zaxis\":{\"backgroundcolor\":\"#E5ECF6\",\"gridcolor\":\"white\",\"linecolor\":\"white\",\"showbackground\":true,\"ticks\":\"\",\"zerolinecolor\":\"white\",\"gridwidth\":2}},\"shapedefaults\":{\"line\":{\"color\":\"#2a3f5f\"}},\"annotationdefaults\":{\"arrowcolor\":\"#2a3f5f\",\"arrowhead\":0,\"arrowwidth\":1},\"geo\":{\"bgcolor\":\"white\",\"landcolor\":\"#E5ECF6\",\"subunitcolor\":\"white\",\"showland\":true,\"showlakes\":true,\"lakecolor\":\"white\"},\"title\":{\"x\":0.05},\"mapbox\":{\"style\":\"light\"}}},\"title\":{\"text\":\"Sankey Diagram\"},\"font\":{\"size\":10},\"width\":1000,\"height\":600},                        {\"responsive\": true}                    ).then(function(){\n",
              "                            \n",
              "var gd = document.getElementById('5399b0e7-fa8a-4f0a-8298-fbadcf1eaf98');\n",
              "var x = new MutationObserver(function (mutations, observer) {{\n",
              "        var display = window.getComputedStyle(gd).display;\n",
              "        if (!display || display === 'none') {{\n",
              "            console.log([gd, 'removed!']);\n",
              "            Plotly.purge(gd);\n",
              "            observer.disconnect();\n",
              "        }}\n",
              "}});\n",
              "\n",
              "// Listen for the removal of the full notebook cells\n",
              "var notebookContainer = gd.closest('#notebook-container');\n",
              "if (notebookContainer) {{\n",
              "    x.observe(notebookContainer, {childList: true});\n",
              "}}\n",
              "\n",
              "// Listen for the clearing of the current output cell\n",
              "var outputEl = gd.closest('.output');\n",
              "if (outputEl) {{\n",
              "    x.observe(outputEl, {childList: true});\n",
              "}}\n",
              "\n",
              "                        })                };                            </script>        </div>\n",
              "</body>\n",
              "</html>"
            ]
          },
          "metadata": {}
        }
      ],
      "source": [
        "senkey_diagram.show()"
      ]
    },
    {
      "cell_type": "markdown",
      "metadata": {
        "id": "4paE0RfYG_9G"
      },
      "source": [
        "Наиболее популярные сценарии, которые ведут к целевому дествию:\n",
        "\n",
        "\n",
        "*   map - tips_show - contacts_show\n",
        "*   tips_show - contacts_show\n",
        "*   search - photos_show - contacts_show\n",
        "\n"
      ]
    },
    {
      "cell_type": "markdown",
      "metadata": {
        "id": "la9h6lUPXXJW"
      },
      "source": [
        "### Построим воронки по событиям этих сценариев"
      ]
    },
    {
      "cell_type": "code",
      "execution_count": 54,
      "metadata": {
        "id": "q04HaaBBOiAe"
      },
      "outputs": [],
      "source": [
        "# пользователи, совершившие событие map\n",
        "map_users = events.query('event == \"map\"')['user_id'].unique()"
      ]
    },
    {
      "cell_type": "code",
      "execution_count": 55,
      "metadata": {
        "id": "mN7KmZFJYqAK"
      },
      "outputs": [],
      "source": [
        "# пользователи, совершившие событие tips_show из тех, кто совершил map\n",
        "map = events.query('event == \"tips_show\" and user_id in @map_users')['user_id'].unique()"
      ]
    },
    {
      "cell_type": "code",
      "execution_count": 56,
      "metadata": {
        "id": "_RjVdRbDZZVV"
      },
      "outputs": [],
      "source": [
        "# пользователи, совершившие contacts_show из тех, кто совершил tips_show\n",
        "contacts_show = events.query('event == \"contacts_show\" and user_id in @map')['user_id'].unique()"
      ]
    },
    {
      "cell_type": "code",
      "execution_count": 57,
      "metadata": {
        "id": "OyI13kEaaugg"
      },
      "outputs": [],
      "source": [
        "# создаем датафрейм\n",
        "first_fnl = pd.DataFrame(columns = ['event', 'users'], data = [\n",
        "    ['map', len(map_users)],\n",
        "    ['tips_show', len(map)],\n",
        "    ['contacts_show', len(contacts_show)]\n",
        "])"
      ]
    },
    {
      "cell_type": "code",
      "execution_count": 58,
      "metadata": {
        "colab": {
          "base_uri": "https://localhost:8080/",
          "height": 617
        },
        "id": "wedsUwc0fU41",
        "outputId": "db4f1940-18b4-4888-fe25-c65bad433694"
      },
      "outputs": [
        {
          "output_type": "display_data",
          "data": {
            "text/html": [
              "<html>\n",
              "<head><meta charset=\"utf-8\" /></head>\n",
              "<body>\n",
              "    <div>            <script src=\"https://cdnjs.cloudflare.com/ajax/libs/mathjax/2.7.5/MathJax.js?config=TeX-AMS-MML_SVG\"></script><script type=\"text/javascript\">if (window.MathJax && window.MathJax.Hub && window.MathJax.Hub.Config) {window.MathJax.Hub.Config({SVG: {font: \"STIX-Web\"}});}</script>                <script type=\"text/javascript\">window.PlotlyConfig = {MathJaxConfig: 'local'};</script>\n",
              "        <script charset=\"utf-8\" src=\"https://cdn.plot.ly/plotly-2.24.1.min.js\"></script>                <div id=\"0320202c-0578-4285-a5d3-4ceacebb71b4\" class=\"plotly-graph-div\" style=\"height:600px; width:800px;\"></div>            <script type=\"text/javascript\">                                    window.PLOTLYENV=window.PLOTLYENV || {};                                    if (document.getElementById(\"0320202c-0578-4285-a5d3-4ceacebb71b4\")) {                    Plotly.newPlot(                        \"0320202c-0578-4285-a5d3-4ceacebb71b4\",                        [{\"connector\":{\"line\":{\"color\":\"royalblue\",\"dash\":\"dot\",\"width\":3}},\"marker\":{\"color\":[\"deepskyblue\",\"lightsalmon\",\"tan\"],\"line\":{\"color\":[\"wheat\",\"wheat\",\"blue\"],\"width\":[4,2,2,3,1]}},\"opacity\":0.7,\"textinfo\":\"value+percent initial\",\"textposition\":\"inside\",\"x\":[1456,1352,275],\"y\":[\"map\",\"tips_show\",\"contacts_show\"],\"type\":\"funnel\"}],                        {\"template\":{\"data\":{\"histogram2dcontour\":[{\"type\":\"histogram2dcontour\",\"colorbar\":{\"outlinewidth\":0,\"ticks\":\"\"},\"colorscale\":[[0.0,\"#0d0887\"],[0.1111111111111111,\"#46039f\"],[0.2222222222222222,\"#7201a8\"],[0.3333333333333333,\"#9c179e\"],[0.4444444444444444,\"#bd3786\"],[0.5555555555555556,\"#d8576b\"],[0.6666666666666666,\"#ed7953\"],[0.7777777777777778,\"#fb9f3a\"],[0.8888888888888888,\"#fdca26\"],[1.0,\"#f0f921\"]]}],\"choropleth\":[{\"type\":\"choropleth\",\"colorbar\":{\"outlinewidth\":0,\"ticks\":\"\"}}],\"histogram2d\":[{\"type\":\"histogram2d\",\"colorbar\":{\"outlinewidth\":0,\"ticks\":\"\"},\"colorscale\":[[0.0,\"#0d0887\"],[0.1111111111111111,\"#46039f\"],[0.2222222222222222,\"#7201a8\"],[0.3333333333333333,\"#9c179e\"],[0.4444444444444444,\"#bd3786\"],[0.5555555555555556,\"#d8576b\"],[0.6666666666666666,\"#ed7953\"],[0.7777777777777778,\"#fb9f3a\"],[0.8888888888888888,\"#fdca26\"],[1.0,\"#f0f921\"]]}],\"heatmap\":[{\"type\":\"heatmap\",\"colorbar\":{\"outlinewidth\":0,\"ticks\":\"\"},\"colorscale\":[[0.0,\"#0d0887\"],[0.1111111111111111,\"#46039f\"],[0.2222222222222222,\"#7201a8\"],[0.3333333333333333,\"#9c179e\"],[0.4444444444444444,\"#bd3786\"],[0.5555555555555556,\"#d8576b\"],[0.6666666666666666,\"#ed7953\"],[0.7777777777777778,\"#fb9f3a\"],[0.8888888888888888,\"#fdca26\"],[1.0,\"#f0f921\"]]}],\"heatmapgl\":[{\"type\":\"heatmapgl\",\"colorbar\":{\"outlinewidth\":0,\"ticks\":\"\"},\"colorscale\":[[0.0,\"#0d0887\"],[0.1111111111111111,\"#46039f\"],[0.2222222222222222,\"#7201a8\"],[0.3333333333333333,\"#9c179e\"],[0.4444444444444444,\"#bd3786\"],[0.5555555555555556,\"#d8576b\"],[0.6666666666666666,\"#ed7953\"],[0.7777777777777778,\"#fb9f3a\"],[0.8888888888888888,\"#fdca26\"],[1.0,\"#f0f921\"]]}],\"contourcarpet\":[{\"type\":\"contourcarpet\",\"colorbar\":{\"outlinewidth\":0,\"ticks\":\"\"}}],\"contour\":[{\"type\":\"contour\",\"colorbar\":{\"outlinewidth\":0,\"ticks\":\"\"},\"colorscale\":[[0.0,\"#0d0887\"],[0.1111111111111111,\"#46039f\"],[0.2222222222222222,\"#7201a8\"],[0.3333333333333333,\"#9c179e\"],[0.4444444444444444,\"#bd3786\"],[0.5555555555555556,\"#d8576b\"],[0.6666666666666666,\"#ed7953\"],[0.7777777777777778,\"#fb9f3a\"],[0.8888888888888888,\"#fdca26\"],[1.0,\"#f0f921\"]]}],\"surface\":[{\"type\":\"surface\",\"colorbar\":{\"outlinewidth\":0,\"ticks\":\"\"},\"colorscale\":[[0.0,\"#0d0887\"],[0.1111111111111111,\"#46039f\"],[0.2222222222222222,\"#7201a8\"],[0.3333333333333333,\"#9c179e\"],[0.4444444444444444,\"#bd3786\"],[0.5555555555555556,\"#d8576b\"],[0.6666666666666666,\"#ed7953\"],[0.7777777777777778,\"#fb9f3a\"],[0.8888888888888888,\"#fdca26\"],[1.0,\"#f0f921\"]]}],\"mesh3d\":[{\"type\":\"mesh3d\",\"colorbar\":{\"outlinewidth\":0,\"ticks\":\"\"}}],\"scatter\":[{\"fillpattern\":{\"fillmode\":\"overlay\",\"size\":10,\"solidity\":0.2},\"type\":\"scatter\"}],\"parcoords\":[{\"type\":\"parcoords\",\"line\":{\"colorbar\":{\"outlinewidth\":0,\"ticks\":\"\"}}}],\"scatterpolargl\":[{\"type\":\"scatterpolargl\",\"marker\":{\"colorbar\":{\"outlinewidth\":0,\"ticks\":\"\"}}}],\"bar\":[{\"error_x\":{\"color\":\"#2a3f5f\"},\"error_y\":{\"color\":\"#2a3f5f\"},\"marker\":{\"line\":{\"color\":\"#E5ECF6\",\"width\":0.5},\"pattern\":{\"fillmode\":\"overlay\",\"size\":10,\"solidity\":0.2}},\"type\":\"bar\"}],\"scattergeo\":[{\"type\":\"scattergeo\",\"marker\":{\"colorbar\":{\"outlinewidth\":0,\"ticks\":\"\"}}}],\"scatterpolar\":[{\"type\":\"scatterpolar\",\"marker\":{\"colorbar\":{\"outlinewidth\":0,\"ticks\":\"\"}}}],\"histogram\":[{\"marker\":{\"pattern\":{\"fillmode\":\"overlay\",\"size\":10,\"solidity\":0.2}},\"type\":\"histogram\"}],\"scattergl\":[{\"type\":\"scattergl\",\"marker\":{\"colorbar\":{\"outlinewidth\":0,\"ticks\":\"\"}}}],\"scatter3d\":[{\"type\":\"scatter3d\",\"line\":{\"colorbar\":{\"outlinewidth\":0,\"ticks\":\"\"}},\"marker\":{\"colorbar\":{\"outlinewidth\":0,\"ticks\":\"\"}}}],\"scattermapbox\":[{\"type\":\"scattermapbox\",\"marker\":{\"colorbar\":{\"outlinewidth\":0,\"ticks\":\"\"}}}],\"scatterternary\":[{\"type\":\"scatterternary\",\"marker\":{\"colorbar\":{\"outlinewidth\":0,\"ticks\":\"\"}}}],\"scattercarpet\":[{\"type\":\"scattercarpet\",\"marker\":{\"colorbar\":{\"outlinewidth\":0,\"ticks\":\"\"}}}],\"carpet\":[{\"aaxis\":{\"endlinecolor\":\"#2a3f5f\",\"gridcolor\":\"white\",\"linecolor\":\"white\",\"minorgridcolor\":\"white\",\"startlinecolor\":\"#2a3f5f\"},\"baxis\":{\"endlinecolor\":\"#2a3f5f\",\"gridcolor\":\"white\",\"linecolor\":\"white\",\"minorgridcolor\":\"white\",\"startlinecolor\":\"#2a3f5f\"},\"type\":\"carpet\"}],\"table\":[{\"cells\":{\"fill\":{\"color\":\"#EBF0F8\"},\"line\":{\"color\":\"white\"}},\"header\":{\"fill\":{\"color\":\"#C8D4E3\"},\"line\":{\"color\":\"white\"}},\"type\":\"table\"}],\"barpolar\":[{\"marker\":{\"line\":{\"color\":\"#E5ECF6\",\"width\":0.5},\"pattern\":{\"fillmode\":\"overlay\",\"size\":10,\"solidity\":0.2}},\"type\":\"barpolar\"}],\"pie\":[{\"automargin\":true,\"type\":\"pie\"}]},\"layout\":{\"autotypenumbers\":\"strict\",\"colorway\":[\"#636efa\",\"#EF553B\",\"#00cc96\",\"#ab63fa\",\"#FFA15A\",\"#19d3f3\",\"#FF6692\",\"#B6E880\",\"#FF97FF\",\"#FECB52\"],\"font\":{\"color\":\"#2a3f5f\"},\"hovermode\":\"closest\",\"hoverlabel\":{\"align\":\"left\"},\"paper_bgcolor\":\"white\",\"plot_bgcolor\":\"#E5ECF6\",\"polar\":{\"bgcolor\":\"#E5ECF6\",\"angularaxis\":{\"gridcolor\":\"white\",\"linecolor\":\"white\",\"ticks\":\"\"},\"radialaxis\":{\"gridcolor\":\"white\",\"linecolor\":\"white\",\"ticks\":\"\"}},\"ternary\":{\"bgcolor\":\"#E5ECF6\",\"aaxis\":{\"gridcolor\":\"white\",\"linecolor\":\"white\",\"ticks\":\"\"},\"baxis\":{\"gridcolor\":\"white\",\"linecolor\":\"white\",\"ticks\":\"\"},\"caxis\":{\"gridcolor\":\"white\",\"linecolor\":\"white\",\"ticks\":\"\"}},\"coloraxis\":{\"colorbar\":{\"outlinewidth\":0,\"ticks\":\"\"}},\"colorscale\":{\"sequential\":[[0.0,\"#0d0887\"],[0.1111111111111111,\"#46039f\"],[0.2222222222222222,\"#7201a8\"],[0.3333333333333333,\"#9c179e\"],[0.4444444444444444,\"#bd3786\"],[0.5555555555555556,\"#d8576b\"],[0.6666666666666666,\"#ed7953\"],[0.7777777777777778,\"#fb9f3a\"],[0.8888888888888888,\"#fdca26\"],[1.0,\"#f0f921\"]],\"sequentialminus\":[[0.0,\"#0d0887\"],[0.1111111111111111,\"#46039f\"],[0.2222222222222222,\"#7201a8\"],[0.3333333333333333,\"#9c179e\"],[0.4444444444444444,\"#bd3786\"],[0.5555555555555556,\"#d8576b\"],[0.6666666666666666,\"#ed7953\"],[0.7777777777777778,\"#fb9f3a\"],[0.8888888888888888,\"#fdca26\"],[1.0,\"#f0f921\"]],\"diverging\":[[0,\"#8e0152\"],[0.1,\"#c51b7d\"],[0.2,\"#de77ae\"],[0.3,\"#f1b6da\"],[0.4,\"#fde0ef\"],[0.5,\"#f7f7f7\"],[0.6,\"#e6f5d0\"],[0.7,\"#b8e186\"],[0.8,\"#7fbc41\"],[0.9,\"#4d9221\"],[1,\"#276419\"]]},\"xaxis\":{\"gridcolor\":\"white\",\"linecolor\":\"white\",\"ticks\":\"\",\"title\":{\"standoff\":15},\"zerolinecolor\":\"white\",\"automargin\":true,\"zerolinewidth\":2},\"yaxis\":{\"gridcolor\":\"white\",\"linecolor\":\"white\",\"ticks\":\"\",\"title\":{\"standoff\":15},\"zerolinecolor\":\"white\",\"automargin\":true,\"zerolinewidth\":2},\"scene\":{\"xaxis\":{\"backgroundcolor\":\"#E5ECF6\",\"gridcolor\":\"white\",\"linecolor\":\"white\",\"showbackground\":true,\"ticks\":\"\",\"zerolinecolor\":\"white\",\"gridwidth\":2},\"yaxis\":{\"backgroundcolor\":\"#E5ECF6\",\"gridcolor\":\"white\",\"linecolor\":\"white\",\"showbackground\":true,\"ticks\":\"\",\"zerolinecolor\":\"white\",\"gridwidth\":2},\"zaxis\":{\"backgroundcolor\":\"#E5ECF6\",\"gridcolor\":\"white\",\"linecolor\":\"white\",\"showbackground\":true,\"ticks\":\"\",\"zerolinecolor\":\"white\",\"gridwidth\":2}},\"shapedefaults\":{\"line\":{\"color\":\"#2a3f5f\"}},\"annotationdefaults\":{\"arrowcolor\":\"#2a3f5f\",\"arrowhead\":0,\"arrowwidth\":1},\"geo\":{\"bgcolor\":\"white\",\"landcolor\":\"#E5ECF6\",\"subunitcolor\":\"white\",\"showland\":true,\"showlakes\":true,\"lakecolor\":\"white\"},\"title\":{\"x\":0.05},\"mapbox\":{\"style\":\"light\"}}},\"title\":{\"text\":\"\\u0412\\u043e\\u0440\\u043e\\u043d\\u043a\\u0430 \\u043f\\u043e \\u0441\\u0446\\u0435\\u043d\\u0430\\u0440\\u0438\\u044e map - tips_show - contacts_show\"},\"autosize\":false,\"width\":800,\"height\":600},                        {\"responsive\": true}                    ).then(function(){\n",
              "                            \n",
              "var gd = document.getElementById('0320202c-0578-4285-a5d3-4ceacebb71b4');\n",
              "var x = new MutationObserver(function (mutations, observer) {{\n",
              "        var display = window.getComputedStyle(gd).display;\n",
              "        if (!display || display === 'none') {{\n",
              "            console.log([gd, 'removed!']);\n",
              "            Plotly.purge(gd);\n",
              "            observer.disconnect();\n",
              "        }}\n",
              "}});\n",
              "\n",
              "// Listen for the removal of the full notebook cells\n",
              "var notebookContainer = gd.closest('#notebook-container');\n",
              "if (notebookContainer) {{\n",
              "    x.observe(notebookContainer, {childList: true});\n",
              "}}\n",
              "\n",
              "// Listen for the clearing of the current output cell\n",
              "var outputEl = gd.closest('.output');\n",
              "if (outputEl) {{\n",
              "    x.observe(outputEl, {childList: true});\n",
              "}}\n",
              "\n",
              "                        })                };                            </script>        </div>\n",
              "</body>\n",
              "</html>"
            ]
          },
          "metadata": {}
        }
      ],
      "source": [
        "# строим воронку\n",
        "fig = go.Figure(go.Funnel(\n",
        "    y = first_fnl['event'],\n",
        "    x = first_fnl['users'],\n",
        "    textposition = \"inside\",\n",
        "    textinfo = \"value+percent initial\",\n",
        "    opacity = 0.7, marker = {\"color\": [\"deepskyblue\", \"lightsalmon\", \"tan\"],\n",
        "    \"line\": {\"width\": [4, 2, 2, 3, 1], \"color\": [\"wheat\", \"wheat\",\"blue\"]}},\n",
        "    connector = {\"line\": {\"color\": \"royalblue\", \"dash\": \"dot\", \"width\": 3}})\n",
        "    )\n",
        "fig.update_layout(\n",
        "    autosize=False,\n",
        "    width=800,\n",
        "    height=600,\n",
        "    title_text='Воронка по сценарию map - tips_show - contacts_show')\n",
        "\n",
        "fig.show()"
      ]
    },
    {
      "cell_type": "markdown",
      "metadata": {
        "id": "XgahgCp7oJNH"
      },
      "source": [
        "Пользователи хорошо конвертируются со страницы карты в просмотр рекомендованных объявлений (93%), но из них до целевого действия доходят 19%"
      ]
    },
    {
      "cell_type": "code",
      "execution_count": 59,
      "metadata": {
        "id": "PcoscPiviAc3"
      },
      "outputs": [],
      "source": [
        "# пользователи, совершившие tips_show\n",
        "tips_show = events.query('event == \"tips_show\"')['user_id'].unique()"
      ]
    },
    {
      "cell_type": "code",
      "execution_count": 60,
      "metadata": {
        "id": "HzJH55Mtlcml"
      },
      "outputs": [],
      "source": [
        "# пользователи, совершившие contacts_show из тех, кто совершил tips_show\n",
        "tips_show2 = events.query('event == \"contacts_show\" and user_id in @tips_show')['user_id'].unique()"
      ]
    },
    {
      "cell_type": "code",
      "execution_count": 61,
      "metadata": {
        "id": "N6W_PDX8l2Ix"
      },
      "outputs": [],
      "source": [
        "# создаем датафрейм\n",
        "second_fnl = pd.DataFrame(columns = ['event', 'users'], data = [\n",
        "    ['tips_show', len(tips_show)],\n",
        "    ['contacts_show', len(tips_show2)]\n",
        "])"
      ]
    },
    {
      "cell_type": "code",
      "execution_count": 62,
      "metadata": {
        "colab": {
          "base_uri": "https://localhost:8080/",
          "height": 617
        },
        "id": "-ckqGd8DmNGU",
        "outputId": "d508ceee-6052-4624-c701-33d8da23b6a1"
      },
      "outputs": [
        {
          "output_type": "display_data",
          "data": {
            "text/html": [
              "<html>\n",
              "<head><meta charset=\"utf-8\" /></head>\n",
              "<body>\n",
              "    <div>            <script src=\"https://cdnjs.cloudflare.com/ajax/libs/mathjax/2.7.5/MathJax.js?config=TeX-AMS-MML_SVG\"></script><script type=\"text/javascript\">if (window.MathJax && window.MathJax.Hub && window.MathJax.Hub.Config) {window.MathJax.Hub.Config({SVG: {font: \"STIX-Web\"}});}</script>                <script type=\"text/javascript\">window.PlotlyConfig = {MathJaxConfig: 'local'};</script>\n",
              "        <script charset=\"utf-8\" src=\"https://cdn.plot.ly/plotly-2.24.1.min.js\"></script>                <div id=\"15a14393-2daf-43a0-87e0-d4dbd9672119\" class=\"plotly-graph-div\" style=\"height:600px; width:800px;\"></div>            <script type=\"text/javascript\">                                    window.PLOTLYENV=window.PLOTLYENV || {};                                    if (document.getElementById(\"15a14393-2daf-43a0-87e0-d4dbd9672119\")) {                    Plotly.newPlot(                        \"15a14393-2daf-43a0-87e0-d4dbd9672119\",                        [{\"connector\":{\"line\":{\"color\":\"royalblue\",\"dash\":\"dot\",\"width\":3}},\"marker\":{\"color\":[\"deepskyblue\",\"lightsalmon\"],\"line\":{\"color\":[\"wheat\",\"blue\"],\"width\":[4,2,2,3,1]}},\"opacity\":0.7,\"textinfo\":\"value+percent initial\",\"textposition\":\"inside\",\"x\":[2801,516],\"y\":[\"tips_show\",\"contacts_show\"],\"type\":\"funnel\"}],                        {\"template\":{\"data\":{\"histogram2dcontour\":[{\"type\":\"histogram2dcontour\",\"colorbar\":{\"outlinewidth\":0,\"ticks\":\"\"},\"colorscale\":[[0.0,\"#0d0887\"],[0.1111111111111111,\"#46039f\"],[0.2222222222222222,\"#7201a8\"],[0.3333333333333333,\"#9c179e\"],[0.4444444444444444,\"#bd3786\"],[0.5555555555555556,\"#d8576b\"],[0.6666666666666666,\"#ed7953\"],[0.7777777777777778,\"#fb9f3a\"],[0.8888888888888888,\"#fdca26\"],[1.0,\"#f0f921\"]]}],\"choropleth\":[{\"type\":\"choropleth\",\"colorbar\":{\"outlinewidth\":0,\"ticks\":\"\"}}],\"histogram2d\":[{\"type\":\"histogram2d\",\"colorbar\":{\"outlinewidth\":0,\"ticks\":\"\"},\"colorscale\":[[0.0,\"#0d0887\"],[0.1111111111111111,\"#46039f\"],[0.2222222222222222,\"#7201a8\"],[0.3333333333333333,\"#9c179e\"],[0.4444444444444444,\"#bd3786\"],[0.5555555555555556,\"#d8576b\"],[0.6666666666666666,\"#ed7953\"],[0.7777777777777778,\"#fb9f3a\"],[0.8888888888888888,\"#fdca26\"],[1.0,\"#f0f921\"]]}],\"heatmap\":[{\"type\":\"heatmap\",\"colorbar\":{\"outlinewidth\":0,\"ticks\":\"\"},\"colorscale\":[[0.0,\"#0d0887\"],[0.1111111111111111,\"#46039f\"],[0.2222222222222222,\"#7201a8\"],[0.3333333333333333,\"#9c179e\"],[0.4444444444444444,\"#bd3786\"],[0.5555555555555556,\"#d8576b\"],[0.6666666666666666,\"#ed7953\"],[0.7777777777777778,\"#fb9f3a\"],[0.8888888888888888,\"#fdca26\"],[1.0,\"#f0f921\"]]}],\"heatmapgl\":[{\"type\":\"heatmapgl\",\"colorbar\":{\"outlinewidth\":0,\"ticks\":\"\"},\"colorscale\":[[0.0,\"#0d0887\"],[0.1111111111111111,\"#46039f\"],[0.2222222222222222,\"#7201a8\"],[0.3333333333333333,\"#9c179e\"],[0.4444444444444444,\"#bd3786\"],[0.5555555555555556,\"#d8576b\"],[0.6666666666666666,\"#ed7953\"],[0.7777777777777778,\"#fb9f3a\"],[0.8888888888888888,\"#fdca26\"],[1.0,\"#f0f921\"]]}],\"contourcarpet\":[{\"type\":\"contourcarpet\",\"colorbar\":{\"outlinewidth\":0,\"ticks\":\"\"}}],\"contour\":[{\"type\":\"contour\",\"colorbar\":{\"outlinewidth\":0,\"ticks\":\"\"},\"colorscale\":[[0.0,\"#0d0887\"],[0.1111111111111111,\"#46039f\"],[0.2222222222222222,\"#7201a8\"],[0.3333333333333333,\"#9c179e\"],[0.4444444444444444,\"#bd3786\"],[0.5555555555555556,\"#d8576b\"],[0.6666666666666666,\"#ed7953\"],[0.7777777777777778,\"#fb9f3a\"],[0.8888888888888888,\"#fdca26\"],[1.0,\"#f0f921\"]]}],\"surface\":[{\"type\":\"surface\",\"colorbar\":{\"outlinewidth\":0,\"ticks\":\"\"},\"colorscale\":[[0.0,\"#0d0887\"],[0.1111111111111111,\"#46039f\"],[0.2222222222222222,\"#7201a8\"],[0.3333333333333333,\"#9c179e\"],[0.4444444444444444,\"#bd3786\"],[0.5555555555555556,\"#d8576b\"],[0.6666666666666666,\"#ed7953\"],[0.7777777777777778,\"#fb9f3a\"],[0.8888888888888888,\"#fdca26\"],[1.0,\"#f0f921\"]]}],\"mesh3d\":[{\"type\":\"mesh3d\",\"colorbar\":{\"outlinewidth\":0,\"ticks\":\"\"}}],\"scatter\":[{\"fillpattern\":{\"fillmode\":\"overlay\",\"size\":10,\"solidity\":0.2},\"type\":\"scatter\"}],\"parcoords\":[{\"type\":\"parcoords\",\"line\":{\"colorbar\":{\"outlinewidth\":0,\"ticks\":\"\"}}}],\"scatterpolargl\":[{\"type\":\"scatterpolargl\",\"marker\":{\"colorbar\":{\"outlinewidth\":0,\"ticks\":\"\"}}}],\"bar\":[{\"error_x\":{\"color\":\"#2a3f5f\"},\"error_y\":{\"color\":\"#2a3f5f\"},\"marker\":{\"line\":{\"color\":\"#E5ECF6\",\"width\":0.5},\"pattern\":{\"fillmode\":\"overlay\",\"size\":10,\"solidity\":0.2}},\"type\":\"bar\"}],\"scattergeo\":[{\"type\":\"scattergeo\",\"marker\":{\"colorbar\":{\"outlinewidth\":0,\"ticks\":\"\"}}}],\"scatterpolar\":[{\"type\":\"scatterpolar\",\"marker\":{\"colorbar\":{\"outlinewidth\":0,\"ticks\":\"\"}}}],\"histogram\":[{\"marker\":{\"pattern\":{\"fillmode\":\"overlay\",\"size\":10,\"solidity\":0.2}},\"type\":\"histogram\"}],\"scattergl\":[{\"type\":\"scattergl\",\"marker\":{\"colorbar\":{\"outlinewidth\":0,\"ticks\":\"\"}}}],\"scatter3d\":[{\"type\":\"scatter3d\",\"line\":{\"colorbar\":{\"outlinewidth\":0,\"ticks\":\"\"}},\"marker\":{\"colorbar\":{\"outlinewidth\":0,\"ticks\":\"\"}}}],\"scattermapbox\":[{\"type\":\"scattermapbox\",\"marker\":{\"colorbar\":{\"outlinewidth\":0,\"ticks\":\"\"}}}],\"scatterternary\":[{\"type\":\"scatterternary\",\"marker\":{\"colorbar\":{\"outlinewidth\":0,\"ticks\":\"\"}}}],\"scattercarpet\":[{\"type\":\"scattercarpet\",\"marker\":{\"colorbar\":{\"outlinewidth\":0,\"ticks\":\"\"}}}],\"carpet\":[{\"aaxis\":{\"endlinecolor\":\"#2a3f5f\",\"gridcolor\":\"white\",\"linecolor\":\"white\",\"minorgridcolor\":\"white\",\"startlinecolor\":\"#2a3f5f\"},\"baxis\":{\"endlinecolor\":\"#2a3f5f\",\"gridcolor\":\"white\",\"linecolor\":\"white\",\"minorgridcolor\":\"white\",\"startlinecolor\":\"#2a3f5f\"},\"type\":\"carpet\"}],\"table\":[{\"cells\":{\"fill\":{\"color\":\"#EBF0F8\"},\"line\":{\"color\":\"white\"}},\"header\":{\"fill\":{\"color\":\"#C8D4E3\"},\"line\":{\"color\":\"white\"}},\"type\":\"table\"}],\"barpolar\":[{\"marker\":{\"line\":{\"color\":\"#E5ECF6\",\"width\":0.5},\"pattern\":{\"fillmode\":\"overlay\",\"size\":10,\"solidity\":0.2}},\"type\":\"barpolar\"}],\"pie\":[{\"automargin\":true,\"type\":\"pie\"}]},\"layout\":{\"autotypenumbers\":\"strict\",\"colorway\":[\"#636efa\",\"#EF553B\",\"#00cc96\",\"#ab63fa\",\"#FFA15A\",\"#19d3f3\",\"#FF6692\",\"#B6E880\",\"#FF97FF\",\"#FECB52\"],\"font\":{\"color\":\"#2a3f5f\"},\"hovermode\":\"closest\",\"hoverlabel\":{\"align\":\"left\"},\"paper_bgcolor\":\"white\",\"plot_bgcolor\":\"#E5ECF6\",\"polar\":{\"bgcolor\":\"#E5ECF6\",\"angularaxis\":{\"gridcolor\":\"white\",\"linecolor\":\"white\",\"ticks\":\"\"},\"radialaxis\":{\"gridcolor\":\"white\",\"linecolor\":\"white\",\"ticks\":\"\"}},\"ternary\":{\"bgcolor\":\"#E5ECF6\",\"aaxis\":{\"gridcolor\":\"white\",\"linecolor\":\"white\",\"ticks\":\"\"},\"baxis\":{\"gridcolor\":\"white\",\"linecolor\":\"white\",\"ticks\":\"\"},\"caxis\":{\"gridcolor\":\"white\",\"linecolor\":\"white\",\"ticks\":\"\"}},\"coloraxis\":{\"colorbar\":{\"outlinewidth\":0,\"ticks\":\"\"}},\"colorscale\":{\"sequential\":[[0.0,\"#0d0887\"],[0.1111111111111111,\"#46039f\"],[0.2222222222222222,\"#7201a8\"],[0.3333333333333333,\"#9c179e\"],[0.4444444444444444,\"#bd3786\"],[0.5555555555555556,\"#d8576b\"],[0.6666666666666666,\"#ed7953\"],[0.7777777777777778,\"#fb9f3a\"],[0.8888888888888888,\"#fdca26\"],[1.0,\"#f0f921\"]],\"sequentialminus\":[[0.0,\"#0d0887\"],[0.1111111111111111,\"#46039f\"],[0.2222222222222222,\"#7201a8\"],[0.3333333333333333,\"#9c179e\"],[0.4444444444444444,\"#bd3786\"],[0.5555555555555556,\"#d8576b\"],[0.6666666666666666,\"#ed7953\"],[0.7777777777777778,\"#fb9f3a\"],[0.8888888888888888,\"#fdca26\"],[1.0,\"#f0f921\"]],\"diverging\":[[0,\"#8e0152\"],[0.1,\"#c51b7d\"],[0.2,\"#de77ae\"],[0.3,\"#f1b6da\"],[0.4,\"#fde0ef\"],[0.5,\"#f7f7f7\"],[0.6,\"#e6f5d0\"],[0.7,\"#b8e186\"],[0.8,\"#7fbc41\"],[0.9,\"#4d9221\"],[1,\"#276419\"]]},\"xaxis\":{\"gridcolor\":\"white\",\"linecolor\":\"white\",\"ticks\":\"\",\"title\":{\"standoff\":15},\"zerolinecolor\":\"white\",\"automargin\":true,\"zerolinewidth\":2},\"yaxis\":{\"gridcolor\":\"white\",\"linecolor\":\"white\",\"ticks\":\"\",\"title\":{\"standoff\":15},\"zerolinecolor\":\"white\",\"automargin\":true,\"zerolinewidth\":2},\"scene\":{\"xaxis\":{\"backgroundcolor\":\"#E5ECF6\",\"gridcolor\":\"white\",\"linecolor\":\"white\",\"showbackground\":true,\"ticks\":\"\",\"zerolinecolor\":\"white\",\"gridwidth\":2},\"yaxis\":{\"backgroundcolor\":\"#E5ECF6\",\"gridcolor\":\"white\",\"linecolor\":\"white\",\"showbackground\":true,\"ticks\":\"\",\"zerolinecolor\":\"white\",\"gridwidth\":2},\"zaxis\":{\"backgroundcolor\":\"#E5ECF6\",\"gridcolor\":\"white\",\"linecolor\":\"white\",\"showbackground\":true,\"ticks\":\"\",\"zerolinecolor\":\"white\",\"gridwidth\":2}},\"shapedefaults\":{\"line\":{\"color\":\"#2a3f5f\"}},\"annotationdefaults\":{\"arrowcolor\":\"#2a3f5f\",\"arrowhead\":0,\"arrowwidth\":1},\"geo\":{\"bgcolor\":\"white\",\"landcolor\":\"#E5ECF6\",\"subunitcolor\":\"white\",\"showland\":true,\"showlakes\":true,\"lakecolor\":\"white\"},\"title\":{\"x\":0.05},\"mapbox\":{\"style\":\"light\"}}},\"title\":{\"text\":\"\\u0412\\u043e\\u0440\\u043e\\u043d\\u043a\\u0430 \\u043f\\u043e \\u0441\\u0446\\u0435\\u043d\\u0430\\u0440\\u0438\\u044e tips_show - contacts_show\"},\"autosize\":false,\"width\":800,\"height\":600},                        {\"responsive\": true}                    ).then(function(){\n",
              "                            \n",
              "var gd = document.getElementById('15a14393-2daf-43a0-87e0-d4dbd9672119');\n",
              "var x = new MutationObserver(function (mutations, observer) {{\n",
              "        var display = window.getComputedStyle(gd).display;\n",
              "        if (!display || display === 'none') {{\n",
              "            console.log([gd, 'removed!']);\n",
              "            Plotly.purge(gd);\n",
              "            observer.disconnect();\n",
              "        }}\n",
              "}});\n",
              "\n",
              "// Listen for the removal of the full notebook cells\n",
              "var notebookContainer = gd.closest('#notebook-container');\n",
              "if (notebookContainer) {{\n",
              "    x.observe(notebookContainer, {childList: true});\n",
              "}}\n",
              "\n",
              "// Listen for the clearing of the current output cell\n",
              "var outputEl = gd.closest('.output');\n",
              "if (outputEl) {{\n",
              "    x.observe(outputEl, {childList: true});\n",
              "}}\n",
              "\n",
              "                        })                };                            </script>        </div>\n",
              "</body>\n",
              "</html>"
            ]
          },
          "metadata": {}
        }
      ],
      "source": [
        "# строим воронку\n",
        "fig = go.Figure(go.Funnel(\n",
        "    y = second_fnl['event'],\n",
        "    x = second_fnl['users'],\n",
        "    textposition = \"inside\",\n",
        "    textinfo = \"value+percent initial\",\n",
        "    opacity = 0.7, marker = {\"color\": [\"deepskyblue\", \"lightsalmon\"],\n",
        "    \"line\": {\"width\": [4, 2, 2, 3, 1], \"color\": [\"wheat\", \"blue\"]}},\n",
        "    connector = {\"line\": {\"color\": \"royalblue\", \"dash\": \"dot\", \"width\": 3}})\n",
        "    )\n",
        "fig.update_layout(\n",
        "    autosize=False,\n",
        "    width=800,\n",
        "    height=600,\n",
        "    title_text='Воронка по сценарию tips_show - contacts_show')\n",
        "\n",
        "fig.show()"
      ]
    },
    {
      "cell_type": "markdown",
      "metadata": {
        "id": "ve_mFB9hpAgi"
      },
      "source": [
        "С 1го шага \"просмотр рекомедованных объявлений\" из 2801 пользователя в показ контактов переходит 516, то есть 18%"
      ]
    },
    {
      "cell_type": "code",
      "execution_count": 63,
      "metadata": {
        "id": "b_T2D-7WmmC4"
      },
      "outputs": [],
      "source": [
        "# пользователи, совершившие действие search\n",
        "search = events.query('event == \"search\"')['user_id'].unique()"
      ]
    },
    {
      "cell_type": "code",
      "execution_count": 64,
      "metadata": {
        "id": "Q8g_1y0pm-Xm"
      },
      "outputs": [],
      "source": [
        "# пользователи, перешедшие в photos_show, из search\n",
        "search2 = events.query('event == \"photos_show\" and user_id in @search')['user_id'].unique()"
      ]
    },
    {
      "cell_type": "code",
      "execution_count": 65,
      "metadata": {
        "id": "vDBVA0xbnVZm"
      },
      "outputs": [],
      "source": [
        "# пользователи, перешедшие в contacts_show, из photas_show\n",
        "search3 = events.query('event == \"contacts_show\" and user_id in @search2')['user_id'].unique()"
      ]
    },
    {
      "cell_type": "code",
      "execution_count": 66,
      "metadata": {
        "id": "3MfM4gbxniCD"
      },
      "outputs": [],
      "source": [
        "# создаем датафрейм\n",
        "third_fnl = pd.DataFrame(columns = ['event', 'users'], data = [\n",
        "    ['search', len(search)],\n",
        "    ['photos_show', len(search2)],\n",
        "    ['contacts_show', len(search3)]\n",
        "])"
      ]
    },
    {
      "cell_type": "code",
      "execution_count": 67,
      "metadata": {
        "colab": {
          "base_uri": "https://localhost:8080/",
          "height": 617
        },
        "id": "yNdTn-2VoAdC",
        "outputId": "67f4720b-c559-4b45-ea2a-62830f1fe289"
      },
      "outputs": [
        {
          "output_type": "display_data",
          "data": {
            "text/html": [
              "<html>\n",
              "<head><meta charset=\"utf-8\" /></head>\n",
              "<body>\n",
              "    <div>            <script src=\"https://cdnjs.cloudflare.com/ajax/libs/mathjax/2.7.5/MathJax.js?config=TeX-AMS-MML_SVG\"></script><script type=\"text/javascript\">if (window.MathJax && window.MathJax.Hub && window.MathJax.Hub.Config) {window.MathJax.Hub.Config({SVG: {font: \"STIX-Web\"}});}</script>                <script type=\"text/javascript\">window.PlotlyConfig = {MathJaxConfig: 'local'};</script>\n",
              "        <script charset=\"utf-8\" src=\"https://cdn.plot.ly/plotly-2.24.1.min.js\"></script>                <div id=\"0f96cc26-1739-4e68-85e2-ad5972657d01\" class=\"plotly-graph-div\" style=\"height:600px; width:800px;\"></div>            <script type=\"text/javascript\">                                    window.PLOTLYENV=window.PLOTLYENV || {};                                    if (document.getElementById(\"0f96cc26-1739-4e68-85e2-ad5972657d01\")) {                    Plotly.newPlot(                        \"0f96cc26-1739-4e68-85e2-ad5972657d01\",                        [{\"connector\":{\"line\":{\"color\":\"royalblue\",\"dash\":\"dot\",\"width\":3}},\"marker\":{\"color\":[\"deepskyblue\",\"lightsalmon\",\"tan\"],\"line\":{\"color\":[\"wheat\",\"wheat\",\"blue\"],\"width\":[4,2,2,3,1]}},\"opacity\":0.7,\"textinfo\":\"value+percent initial\",\"textposition\":\"inside\",\"x\":[1666,647,192],\"y\":[\"search\",\"photos_show\",\"contacts_show\"],\"type\":\"funnel\"}],                        {\"template\":{\"data\":{\"histogram2dcontour\":[{\"type\":\"histogram2dcontour\",\"colorbar\":{\"outlinewidth\":0,\"ticks\":\"\"},\"colorscale\":[[0.0,\"#0d0887\"],[0.1111111111111111,\"#46039f\"],[0.2222222222222222,\"#7201a8\"],[0.3333333333333333,\"#9c179e\"],[0.4444444444444444,\"#bd3786\"],[0.5555555555555556,\"#d8576b\"],[0.6666666666666666,\"#ed7953\"],[0.7777777777777778,\"#fb9f3a\"],[0.8888888888888888,\"#fdca26\"],[1.0,\"#f0f921\"]]}],\"choropleth\":[{\"type\":\"choropleth\",\"colorbar\":{\"outlinewidth\":0,\"ticks\":\"\"}}],\"histogram2d\":[{\"type\":\"histogram2d\",\"colorbar\":{\"outlinewidth\":0,\"ticks\":\"\"},\"colorscale\":[[0.0,\"#0d0887\"],[0.1111111111111111,\"#46039f\"],[0.2222222222222222,\"#7201a8\"],[0.3333333333333333,\"#9c179e\"],[0.4444444444444444,\"#bd3786\"],[0.5555555555555556,\"#d8576b\"],[0.6666666666666666,\"#ed7953\"],[0.7777777777777778,\"#fb9f3a\"],[0.8888888888888888,\"#fdca26\"],[1.0,\"#f0f921\"]]}],\"heatmap\":[{\"type\":\"heatmap\",\"colorbar\":{\"outlinewidth\":0,\"ticks\":\"\"},\"colorscale\":[[0.0,\"#0d0887\"],[0.1111111111111111,\"#46039f\"],[0.2222222222222222,\"#7201a8\"],[0.3333333333333333,\"#9c179e\"],[0.4444444444444444,\"#bd3786\"],[0.5555555555555556,\"#d8576b\"],[0.6666666666666666,\"#ed7953\"],[0.7777777777777778,\"#fb9f3a\"],[0.8888888888888888,\"#fdca26\"],[1.0,\"#f0f921\"]]}],\"heatmapgl\":[{\"type\":\"heatmapgl\",\"colorbar\":{\"outlinewidth\":0,\"ticks\":\"\"},\"colorscale\":[[0.0,\"#0d0887\"],[0.1111111111111111,\"#46039f\"],[0.2222222222222222,\"#7201a8\"],[0.3333333333333333,\"#9c179e\"],[0.4444444444444444,\"#bd3786\"],[0.5555555555555556,\"#d8576b\"],[0.6666666666666666,\"#ed7953\"],[0.7777777777777778,\"#fb9f3a\"],[0.8888888888888888,\"#fdca26\"],[1.0,\"#f0f921\"]]}],\"contourcarpet\":[{\"type\":\"contourcarpet\",\"colorbar\":{\"outlinewidth\":0,\"ticks\":\"\"}}],\"contour\":[{\"type\":\"contour\",\"colorbar\":{\"outlinewidth\":0,\"ticks\":\"\"},\"colorscale\":[[0.0,\"#0d0887\"],[0.1111111111111111,\"#46039f\"],[0.2222222222222222,\"#7201a8\"],[0.3333333333333333,\"#9c179e\"],[0.4444444444444444,\"#bd3786\"],[0.5555555555555556,\"#d8576b\"],[0.6666666666666666,\"#ed7953\"],[0.7777777777777778,\"#fb9f3a\"],[0.8888888888888888,\"#fdca26\"],[1.0,\"#f0f921\"]]}],\"surface\":[{\"type\":\"surface\",\"colorbar\":{\"outlinewidth\":0,\"ticks\":\"\"},\"colorscale\":[[0.0,\"#0d0887\"],[0.1111111111111111,\"#46039f\"],[0.2222222222222222,\"#7201a8\"],[0.3333333333333333,\"#9c179e\"],[0.4444444444444444,\"#bd3786\"],[0.5555555555555556,\"#d8576b\"],[0.6666666666666666,\"#ed7953\"],[0.7777777777777778,\"#fb9f3a\"],[0.8888888888888888,\"#fdca26\"],[1.0,\"#f0f921\"]]}],\"mesh3d\":[{\"type\":\"mesh3d\",\"colorbar\":{\"outlinewidth\":0,\"ticks\":\"\"}}],\"scatter\":[{\"fillpattern\":{\"fillmode\":\"overlay\",\"size\":10,\"solidity\":0.2},\"type\":\"scatter\"}],\"parcoords\":[{\"type\":\"parcoords\",\"line\":{\"colorbar\":{\"outlinewidth\":0,\"ticks\":\"\"}}}],\"scatterpolargl\":[{\"type\":\"scatterpolargl\",\"marker\":{\"colorbar\":{\"outlinewidth\":0,\"ticks\":\"\"}}}],\"bar\":[{\"error_x\":{\"color\":\"#2a3f5f\"},\"error_y\":{\"color\":\"#2a3f5f\"},\"marker\":{\"line\":{\"color\":\"#E5ECF6\",\"width\":0.5},\"pattern\":{\"fillmode\":\"overlay\",\"size\":10,\"solidity\":0.2}},\"type\":\"bar\"}],\"scattergeo\":[{\"type\":\"scattergeo\",\"marker\":{\"colorbar\":{\"outlinewidth\":0,\"ticks\":\"\"}}}],\"scatterpolar\":[{\"type\":\"scatterpolar\",\"marker\":{\"colorbar\":{\"outlinewidth\":0,\"ticks\":\"\"}}}],\"histogram\":[{\"marker\":{\"pattern\":{\"fillmode\":\"overlay\",\"size\":10,\"solidity\":0.2}},\"type\":\"histogram\"}],\"scattergl\":[{\"type\":\"scattergl\",\"marker\":{\"colorbar\":{\"outlinewidth\":0,\"ticks\":\"\"}}}],\"scatter3d\":[{\"type\":\"scatter3d\",\"line\":{\"colorbar\":{\"outlinewidth\":0,\"ticks\":\"\"}},\"marker\":{\"colorbar\":{\"outlinewidth\":0,\"ticks\":\"\"}}}],\"scattermapbox\":[{\"type\":\"scattermapbox\",\"marker\":{\"colorbar\":{\"outlinewidth\":0,\"ticks\":\"\"}}}],\"scatterternary\":[{\"type\":\"scatterternary\",\"marker\":{\"colorbar\":{\"outlinewidth\":0,\"ticks\":\"\"}}}],\"scattercarpet\":[{\"type\":\"scattercarpet\",\"marker\":{\"colorbar\":{\"outlinewidth\":0,\"ticks\":\"\"}}}],\"carpet\":[{\"aaxis\":{\"endlinecolor\":\"#2a3f5f\",\"gridcolor\":\"white\",\"linecolor\":\"white\",\"minorgridcolor\":\"white\",\"startlinecolor\":\"#2a3f5f\"},\"baxis\":{\"endlinecolor\":\"#2a3f5f\",\"gridcolor\":\"white\",\"linecolor\":\"white\",\"minorgridcolor\":\"white\",\"startlinecolor\":\"#2a3f5f\"},\"type\":\"carpet\"}],\"table\":[{\"cells\":{\"fill\":{\"color\":\"#EBF0F8\"},\"line\":{\"color\":\"white\"}},\"header\":{\"fill\":{\"color\":\"#C8D4E3\"},\"line\":{\"color\":\"white\"}},\"type\":\"table\"}],\"barpolar\":[{\"marker\":{\"line\":{\"color\":\"#E5ECF6\",\"width\":0.5},\"pattern\":{\"fillmode\":\"overlay\",\"size\":10,\"solidity\":0.2}},\"type\":\"barpolar\"}],\"pie\":[{\"automargin\":true,\"type\":\"pie\"}]},\"layout\":{\"autotypenumbers\":\"strict\",\"colorway\":[\"#636efa\",\"#EF553B\",\"#00cc96\",\"#ab63fa\",\"#FFA15A\",\"#19d3f3\",\"#FF6692\",\"#B6E880\",\"#FF97FF\",\"#FECB52\"],\"font\":{\"color\":\"#2a3f5f\"},\"hovermode\":\"closest\",\"hoverlabel\":{\"align\":\"left\"},\"paper_bgcolor\":\"white\",\"plot_bgcolor\":\"#E5ECF6\",\"polar\":{\"bgcolor\":\"#E5ECF6\",\"angularaxis\":{\"gridcolor\":\"white\",\"linecolor\":\"white\",\"ticks\":\"\"},\"radialaxis\":{\"gridcolor\":\"white\",\"linecolor\":\"white\",\"ticks\":\"\"}},\"ternary\":{\"bgcolor\":\"#E5ECF6\",\"aaxis\":{\"gridcolor\":\"white\",\"linecolor\":\"white\",\"ticks\":\"\"},\"baxis\":{\"gridcolor\":\"white\",\"linecolor\":\"white\",\"ticks\":\"\"},\"caxis\":{\"gridcolor\":\"white\",\"linecolor\":\"white\",\"ticks\":\"\"}},\"coloraxis\":{\"colorbar\":{\"outlinewidth\":0,\"ticks\":\"\"}},\"colorscale\":{\"sequential\":[[0.0,\"#0d0887\"],[0.1111111111111111,\"#46039f\"],[0.2222222222222222,\"#7201a8\"],[0.3333333333333333,\"#9c179e\"],[0.4444444444444444,\"#bd3786\"],[0.5555555555555556,\"#d8576b\"],[0.6666666666666666,\"#ed7953\"],[0.7777777777777778,\"#fb9f3a\"],[0.8888888888888888,\"#fdca26\"],[1.0,\"#f0f921\"]],\"sequentialminus\":[[0.0,\"#0d0887\"],[0.1111111111111111,\"#46039f\"],[0.2222222222222222,\"#7201a8\"],[0.3333333333333333,\"#9c179e\"],[0.4444444444444444,\"#bd3786\"],[0.5555555555555556,\"#d8576b\"],[0.6666666666666666,\"#ed7953\"],[0.7777777777777778,\"#fb9f3a\"],[0.8888888888888888,\"#fdca26\"],[1.0,\"#f0f921\"]],\"diverging\":[[0,\"#8e0152\"],[0.1,\"#c51b7d\"],[0.2,\"#de77ae\"],[0.3,\"#f1b6da\"],[0.4,\"#fde0ef\"],[0.5,\"#f7f7f7\"],[0.6,\"#e6f5d0\"],[0.7,\"#b8e186\"],[0.8,\"#7fbc41\"],[0.9,\"#4d9221\"],[1,\"#276419\"]]},\"xaxis\":{\"gridcolor\":\"white\",\"linecolor\":\"white\",\"ticks\":\"\",\"title\":{\"standoff\":15},\"zerolinecolor\":\"white\",\"automargin\":true,\"zerolinewidth\":2},\"yaxis\":{\"gridcolor\":\"white\",\"linecolor\":\"white\",\"ticks\":\"\",\"title\":{\"standoff\":15},\"zerolinecolor\":\"white\",\"automargin\":true,\"zerolinewidth\":2},\"scene\":{\"xaxis\":{\"backgroundcolor\":\"#E5ECF6\",\"gridcolor\":\"white\",\"linecolor\":\"white\",\"showbackground\":true,\"ticks\":\"\",\"zerolinecolor\":\"white\",\"gridwidth\":2},\"yaxis\":{\"backgroundcolor\":\"#E5ECF6\",\"gridcolor\":\"white\",\"linecolor\":\"white\",\"showbackground\":true,\"ticks\":\"\",\"zerolinecolor\":\"white\",\"gridwidth\":2},\"zaxis\":{\"backgroundcolor\":\"#E5ECF6\",\"gridcolor\":\"white\",\"linecolor\":\"white\",\"showbackground\":true,\"ticks\":\"\",\"zerolinecolor\":\"white\",\"gridwidth\":2}},\"shapedefaults\":{\"line\":{\"color\":\"#2a3f5f\"}},\"annotationdefaults\":{\"arrowcolor\":\"#2a3f5f\",\"arrowhead\":0,\"arrowwidth\":1},\"geo\":{\"bgcolor\":\"white\",\"landcolor\":\"#E5ECF6\",\"subunitcolor\":\"white\",\"showland\":true,\"showlakes\":true,\"lakecolor\":\"white\"},\"title\":{\"x\":0.05},\"mapbox\":{\"style\":\"light\"}}},\"title\":{\"text\":\"search - photos_show - contacts_show\"},\"autosize\":false,\"width\":800,\"height\":600},                        {\"responsive\": true}                    ).then(function(){\n",
              "                            \n",
              "var gd = document.getElementById('0f96cc26-1739-4e68-85e2-ad5972657d01');\n",
              "var x = new MutationObserver(function (mutations, observer) {{\n",
              "        var display = window.getComputedStyle(gd).display;\n",
              "        if (!display || display === 'none') {{\n",
              "            console.log([gd, 'removed!']);\n",
              "            Plotly.purge(gd);\n",
              "            observer.disconnect();\n",
              "        }}\n",
              "}});\n",
              "\n",
              "// Listen for the removal of the full notebook cells\n",
              "var notebookContainer = gd.closest('#notebook-container');\n",
              "if (notebookContainer) {{\n",
              "    x.observe(notebookContainer, {childList: true});\n",
              "}}\n",
              "\n",
              "// Listen for the clearing of the current output cell\n",
              "var outputEl = gd.closest('.output');\n",
              "if (outputEl) {{\n",
              "    x.observe(outputEl, {childList: true});\n",
              "}}\n",
              "\n",
              "                        })                };                            </script>        </div>\n",
              "</body>\n",
              "</html>"
            ]
          },
          "metadata": {}
        }
      ],
      "source": [
        "# строим воронку\n",
        "fig = go.Figure(go.Funnel(\n",
        "    y = third_fnl['event'],\n",
        "    x = third_fnl['users'],\n",
        "    textposition = \"inside\",\n",
        "    textinfo = \"value+percent initial\",\n",
        "    opacity = 0.7, marker = {\"color\": [\"deepskyblue\", \"lightsalmon\", \"tan\"],\n",
        "    \"line\": {\"width\": [4, 2, 2, 3, 1], \"color\": [\"wheat\", \"wheat\",\"blue\"]}},\n",
        "    connector = {\"line\": {\"color\": \"royalblue\", \"dash\": \"dot\", \"width\": 3}})\n",
        "    )\n",
        "fig.update_layout(\n",
        "    autosize=False,\n",
        "    width=800,\n",
        "    height=600,\n",
        "    title_text='search - photos_show - contacts_show')\n",
        "\n",
        "fig.show()"
      ]
    },
    {
      "cell_type": "markdown",
      "metadata": {
        "id": "EA-pZCg6qki1"
      },
      "source": [
        "Из 1666 пользователей, воспользовавшихся поиском, 647, то есть 39% процентов перешли в просмотр фотографий, из них 192, то есть 12% доходит до просмотра контактов."
      ]
    },
    {
      "cell_type": "markdown",
      "metadata": {
        "id": "grelAmNprMED"
      },
      "source": [
        "Итак, мы проанализировали динамику пользователей по дням и событиям. Установили события, влияющие на переход в целевое событие:\n",
        "\n",
        "*   добавление в избранное\n",
        "*   клик по рекомендованному объявлению\n",
        "*   просмотр фото\n",
        "\n",
        "определили популярные сценарии поведения пользователей:\n",
        "\n",
        "*   map - tips_show - contacts_show\n",
        "*   tips_show - contacts_show\n",
        "*   search - photos_show - contacts_show\n",
        "\n",
        "\n",
        "\n",
        "\n",
        "\n",
        "\n",
        "\n",
        "\n",
        "\n"
      ]
    },
    {
      "cell_type": "markdown",
      "metadata": {
        "id": "M-ZFMlCl3RMI"
      },
      "source": [
        "## Формулировка и проверка гипотез"
      ]
    },
    {
      "cell_type": "markdown",
      "metadata": {
        "id": "ub4pyfJ9rlFZ"
      },
      "source": [
        "### Гипотеза 1:\n",
        "Одни пользователи совершают действия tips_show и tips_click, другие — только tips_show\n",
        "    \n",
        "\n",
        "*   H0: конверсия в просмотры контактов у этих двух групп одинаковая\n",
        "*   H1: конверсия в просмотры у этих двух групп различается\n",
        "\n"
      ]
    },
    {
      "cell_type": "code",
      "execution_count": 68,
      "metadata": {
        "colab": {
          "base_uri": "https://localhost:8080/"
        },
        "id": "1Zgf6e6ZUbzO",
        "outputId": "42fc11bf-e8ef-4af0-b6a4-1bfb135d8d9e"
      },
      "outputs": [
        {
          "output_type": "stream",
          "name": "stdout",
          "text": [
            "Количество уникальных пользователей, совершивших дествие tips_show: 2801\n"
          ]
        }
      ],
      "source": [
        "# пользователи, совершившие действие tips_show\n",
        "tips_show = events.query('event == \"tips_show\"')['user_id'].unique()\n",
        "print('Количество уникальных пользователей, совершивших дествие tips_show:', len(tips_show))"
      ]
    },
    {
      "cell_type": "code",
      "execution_count": 69,
      "metadata": {
        "colab": {
          "base_uri": "https://localhost:8080/"
        },
        "id": "MQT5X7ajMAZ3",
        "outputId": "fddaf6c9-cc51-4e6b-c9e1-14175435ed3e"
      },
      "outputs": [
        {
          "output_type": "stream",
          "name": "stdout",
          "text": [
            "Количество уникальных пользователей, совершивших оба действия: tips_show и tips_click: 297\n"
          ]
        }
      ],
      "source": [
        "# пользователи, совершившие оба действия: tips_show и tips_click\n",
        "show_click = events.query('event == \"tips_click\" and user_id in @tips_show')['user_id'].unique()\n",
        "print('Количество уникальных пользователей, совершивших оба действия: tips_show и tips_click:', len(show_click))"
      ]
    },
    {
      "cell_type": "code",
      "execution_count": 70,
      "metadata": {
        "colab": {
          "base_uri": "https://localhost:8080/"
        },
        "id": "cpQnEOOgYPV7",
        "outputId": "aa1bf559-2f2f-4829-e16e-d9156578b1de"
      },
      "outputs": [
        {
          "output_type": "stream",
          "name": "stdout",
          "text": [
            "Количество уникальных пользователей, совершивших только действие tips_show: 2504\n"
          ]
        }
      ],
      "source": [
        "# пользователи, совершившие только действие tips_show\n",
        "only_show = events.query('event == \"tips_show\" and user_id not in @show_click')['user_id'].unique()\n",
        "print('Количество уникальных пользователей, совершивших только действие tips_show:', len(only_show))"
      ]
    },
    {
      "cell_type": "code",
      "execution_count": 71,
      "metadata": {
        "colab": {
          "base_uri": "https://localhost:8080/"
        },
        "id": "3gGQo5m9Z-dr",
        "outputId": "16033f1f-faa4-455c-bfd7-25dc47376f19"
      },
      "outputs": [
        {
          "output_type": "stream",
          "name": "stdout",
          "text": [
            "Количество уникальных пользователей, совершивших действие tips_show и перешедшие в contacts_show: 425\n"
          ]
        }
      ],
      "source": [
        "# пользователи, совершившие действие только tips_show и перешедшие в contacts_show\n",
        "tips_show_cont = events.query('event == \"contacts_show\" and user_id in @only_show')['user_id'].nunique()\n",
        "print('Количество уникальных пользователей, совершивших действие tips_show и перешедшие в contacts_show:', tips_show_cont)"
      ]
    },
    {
      "cell_type": "code",
      "execution_count": 72,
      "metadata": {
        "colab": {
          "base_uri": "https://localhost:8080/"
        },
        "id": "98oaxnKzfssA",
        "outputId": "2a403b47-b08e-41b1-c9f2-65252483b47f"
      },
      "outputs": [
        {
          "output_type": "stream",
          "name": "stdout",
          "text": [
            "Количество уникальных пользователей, совершивших оба действия tips_show, tips_click и перешедшие в contacts_show: 91\n"
          ]
        }
      ],
      "source": [
        "# пользователи, совершившие оба действия tips_show, tips_click и перешедшие в contacts_show\n",
        "click_show_cont = events.query('event == \"contacts_show\" and user_id in @show_click')['user_id'].nunique()\n",
        "print('Количество уникальных пользователей, совершивших оба действия tips_show, tips_click и перешедшие в contacts_show:', click_show_cont)"
      ]
    },
    {
      "cell_type": "markdown",
      "metadata": {
        "id": "u8cGE4tXshJL"
      },
      "source": [
        "Установим уровень статистической значимости 0.05.\n",
        "> Применим z-test для проверки гипотезы о равенстве долей."
      ]
    },
    {
      "cell_type": "code",
      "execution_count": 73,
      "metadata": {
        "colab": {
          "base_uri": "https://localhost:8080/"
        },
        "id": "ztKoA7aLHCqD",
        "outputId": "7496eb54-856e-4520-cbf8-ce328fc9499f"
      },
      "outputs": [
        {
          "output_type": "stream",
          "name": "stdout",
          "text": [
            "P-value: 9.218316554537864e-09\n",
            "Отвергаем нулевую гипотезу: между долями есть значимая разница\n"
          ]
        }
      ],
      "source": [
        "# проверка гипотезы z-test\n",
        "trials = np.array([len(only_show), len(show_click)])\n",
        "successes = np.array([tips_show_cont, click_show_cont])\n",
        "# пропорция успехов в первой группе:\n",
        "p1 = successes[0]/trials[0]\n",
        "# пропорция успехов во второй группе:\n",
        "p2 = successes[1]/trials[1]\n",
        "# пропорция успехов в комбинированном датасете:\n",
        "p_combined = (successes[0] + successes[1]) / (trials[0] + trials[1])\n",
        "# разница пропорций в датасетах\n",
        "difference = p1 - p2\n",
        "# считаем статистику в ст.отклонениях стандартного нормального распределения\n",
        "z_value = difference / mth.sqrt(p_combined * (1 - p_combined) * (1/trials[0] + 1/trials[1]))\n",
        "# задаем стандартное нормальное распределение (среднее 0, ст.отклонение 1)\n",
        "distr = st.norm(0, 1)\n",
        "p_value = (1 - distr.cdf(abs(z_value))) * 2\n",
        "# задаем критический уровень статистической значимости\n",
        "alpha = 0.05\n",
        "print('P-value:', p_value)\n",
        "if (p_value < alpha):\n",
        "    print('Отвергаем нулевую гипотезу: между долями есть значимая разница')\n",
        "else:\n",
        "    print('Не получилось отвергнуть нулевую гипотезу, нет оснований считать доли разными')"
      ]
    },
    {
      "cell_type": "markdown",
      "metadata": {
        "id": "yzyqJ2jBsyef"
      },
      "source": [
        "Для данных групп P-value меньше 0.05.\n",
        "Значит, на имеющихся данных, на уровне значимости 5% есть основания отвергнуть нулевую гипотезу о равенстве между группами.\n",
        "\n",
        "> Вывод: конверсия в просмотры контактов у тех пользователей, кто совершают действия tips_show и tips_click, и у тех, кто совершает только tips_show различается\n",
        "    ."
      ]
    },
    {
      "cell_type": "markdown",
      "metadata": {
        "id": "Q2TENM0Iw49f"
      },
      "source": [
        "### Гипотеза 2:\n",
        "\n",
        "\n",
        "\n",
        "\n",
        "*   Н0: добавление объявления в избранное не влияет на конверсию в целевое действие\n",
        "\n",
        "*   Н1: добавление объявления в избранное влияет на конверсию в целевое действие\n",
        "\n",
        "\n",
        "\n"
      ]
    },
    {
      "cell_type": "code",
      "execution_count": 74,
      "metadata": {
        "colab": {
          "base_uri": "https://localhost:8080/"
        },
        "id": "rVlGvmXTsZxV",
        "outputId": "2dee9fb5-58f0-4c54-87ab-018942529d49"
      },
      "outputs": [
        {
          "output_type": "stream",
          "name": "stdout",
          "text": [
            "Количество пользователей, совершивших событие favorites_add: 351\n"
          ]
        }
      ],
      "source": [
        "# пользователи, совершившие действие favorites_add\n",
        "fav = events.query('event == \"favorites_add\"')['user_id'].unique()\n",
        "print('Количество пользователей, совершивших событие favorites_add:', len(fav))"
      ]
    },
    {
      "cell_type": "code",
      "execution_count": 75,
      "metadata": {
        "colab": {
          "base_uri": "https://localhost:8080/"
        },
        "id": "J-X9s0pNHN9f",
        "outputId": "5fb88a1d-a5e6-469b-c0e4-5639151ece69"
      },
      "outputs": [
        {
          "output_type": "stream",
          "name": "stdout",
          "text": [
            "Количество пользователей совершивших событие favorites_add и contacts_show: 136\n"
          ]
        }
      ],
      "source": [
        "# пользователи, совершившие действие favorites_add и contacts_show\n",
        "fav_contacts = events.query('event == \"contacts_show\" and user_id in @fav')['user_id'].nunique()\n",
        "print('Количество пользователей совершивших событие favorites_add и contacts_show:', fav_contacts)"
      ]
    },
    {
      "cell_type": "code",
      "execution_count": 76,
      "metadata": {
        "colab": {
          "base_uri": "https://localhost:8080/"
        },
        "id": "8y7Na98DIAaj",
        "outputId": "f7b2174c-fa35-4edf-fbd7-cfbb2d3e485a"
      },
      "outputs": [
        {
          "output_type": "stream",
          "name": "stdout",
          "text": [
            "Количество пользователей, совершивших только событие contacts_show: 845\n"
          ]
        }
      ],
      "source": [
        "# пользователи, совершившие действие contacts_show и не совершавшие действие favorites_add\n",
        "not_fav = events.query('event == \"contacts_show\" and user_id not in @fav')['user_id'].nunique()\n",
        "print('Количество пользователей, совершивших только событие contacts_show:', not_fav)"
      ]
    },
    {
      "cell_type": "code",
      "execution_count": 77,
      "metadata": {
        "colab": {
          "base_uri": "https://localhost:8080/"
        },
        "id": "6UR01V-9JJ3X",
        "outputId": "9b0eab1a-d1e8-4bfa-9994-5fde587370a0"
      },
      "outputs": [
        {
          "output_type": "stream",
          "name": "stdout",
          "text": [
            "количество пользователей не совершавших событие favorites_add: 3942\n"
          ]
        }
      ],
      "source": [
        "# пользователи, не совершавшие действие favorites_add\n",
        "users = events.query('user_id not in @fav')['user_id'].nunique()\n",
        "print('количество пользователей не совершавших событие favorites_add:', users)"
      ]
    },
    {
      "cell_type": "markdown",
      "metadata": {
        "id": "aBsJ6RhUyVTE"
      },
      "source": [
        "Установим уровень статистической значимости 0.05.\n",
        "> Применим z-test для проверки гипотезы о равенстве долей."
      ]
    },
    {
      "cell_type": "code",
      "execution_count": 78,
      "metadata": {
        "colab": {
          "base_uri": "https://localhost:8080/"
        },
        "id": "NL9-mHPmN3BY",
        "outputId": "03345ca1-0aba-4267-ceee-c15759f973ed"
      },
      "outputs": [
        {
          "output_type": "stream",
          "name": "stdout",
          "text": [
            "P-value: 1.3455903058456897e-13\n",
            "Отвергаем нулевую гипотезу: между долями есть значимая разница\n"
          ]
        }
      ],
      "source": [
        "# проверка гипотезы z-test\n",
        "trials = np.array([len(fav), users])\n",
        "successes = np.array([fav_contacts, not_fav])\n",
        "# пропорция успехов в первой группе:\n",
        "p1 = successes[0]/trials[0]\n",
        "# пропорция успехов во второй группе:\n",
        "p2 = successes[1]/trials[1]\n",
        "# пропорция успехов в комбинированном датасете:\n",
        "p_combined = (successes[0] + successes[1]) / (trials[0] + trials[1])\n",
        "# разница пропорций в датасетах\n",
        "difference = p1 - p2\n",
        "# считаем статистику в ст.отклонениях стандартного нормального распределения\n",
        "z_value = difference / mth.sqrt(p_combined * (1 - p_combined) * (1/trials[0] + 1/trials[1]))\n",
        "# задаем стандартное нормальное распределение (среднее 0, ст.отклонение 1)\n",
        "distr = st.norm(0, 1)\n",
        "p_value = (1 - distr.cdf(abs(z_value))) * 2\n",
        "# задаем критический уровень статистической значимости\n",
        "alpha = 0.05\n",
        "print('P-value:', p_value)\n",
        "if (p_value < alpha):\n",
        "    print('Отвергаем нулевую гипотезу: между долями есть значимая разница')\n",
        "else:\n",
        "    print('Не получилось отвергнуть нулевую гипотезу, нет оснований считать доли разными')"
      ]
    },
    {
      "cell_type": "markdown",
      "metadata": {
        "id": "TZYwQh44ydXn"
      },
      "source": [
        "Для данных групп P-value меньше 0.05.\n",
        "Значит, на имеющихся данных, на уровне значимости 5% есть основания отвергнуть нулевую гипотезу о равенстве между группами.\n",
        "\n",
        "> Вывод: конверсия в просмотры контактов у тех пользователей, кто совершают действия favorites_add, и у тех, кто его не совершает  различается"
      ]
    },
    {
      "cell_type": "markdown",
      "metadata": {
        "id": "5N73R0IXytcY"
      },
      "source": [
        "## Выводы:\n",
        "\n",
        "\n",
        "*   Период исследования: с 7 октября 2019 года по 3 ноября 2019\n",
        "\n",
        "*   Проанализировано поведение 4293 уникальных пользователей приложения \"Ненужные вещи\"\n",
        "\n",
        "*   Общее количество событий: 74197, 9 видов событий: advert_open, tips_show, map, contacts_show, search, tips_click, photos_show, favorites_add, contacts_call\n",
        "\n",
        "*   Среднее количество событий на пользователя: 17\n",
        "\n",
        "*   В основном у приложения больше 200 уникальных пользователей в день и больше 2000 событий на пользователя в день\n",
        "\n",
        "*   Установлен тайм-аут 30 минут на основе распределения времени между событиями\n",
        "*   В целом пользователи проходят 5 уникальных событий за сессию\n",
        "\n",
        "\n",
        "*   Среднее количество сессий на пользователя: 2\n",
        "\n",
        "*   Средняя продолжительность сессии с целевым событием 36 минут, без него - 32 минуты\n",
        "\n",
        "\n",
        "\n",
        "\n",
        "\n",
        "\n",
        "---\n",
        "\n",
        "\n",
        "*   **События, влияющие на переход в целевое:**\n",
        "      *   favorites_add\n",
        "      *   tips_click\n",
        "      *   photos_show\n",
        "\n",
        "\n",
        "\n",
        "*   **Наиболее популярные сценарии поведения пользователей, ведущие к целевому действию:**\n",
        "      *   map - tips_show - contacts_show\n",
        "      *   tips_show - contacts_show\n",
        "      *   search - photos_show - contacts_show\n",
        "\n",
        "\n",
        "\n",
        "---\n",
        "Есть основания отвергнуть обе выдвинутые гипотезы:\n",
        "\n",
        "*   конверсия в просмотры контактов у тех пользователей, кто совершают действия tips_show и tips_click, и у тех, кто совершает только tips_show различается\n",
        "*   конверсия в просмотры контактов у тех пользователей, кто совершают действия favorites_add, и у тех, кто его не совершает  различается\n",
        "\n",
        "\n",
        "\n",
        "\n",
        "\n",
        "\n",
        "\n",
        "\n"
      ]
    },
    {
      "cell_type": "markdown",
      "metadata": {
        "id": "AenxMELC5DZb"
      },
      "source": [
        "## Рекомендации:\n",
        "\n",
        "\n",
        "*   Усовершенствовать показ рекламных объявлений и рекомендованных объявлений, проверить таргетированность\n",
        "\n",
        "*   Пользователям, которые редко пользуются приложением направлять push-уведомления\n",
        "\n",
        "*   Так как просмотр карты влияет на конверсию, рассмотреть возможность доставки в постаматы по районам\n",
        "*   Подсвечивать возможность перехода в контакты из любого действия\n",
        "\n",
        "\n",
        "*   Увеличить количество таргетированной рекламы с целью увеличения количества пользователей\n",
        "\n",
        "\n",
        "\n",
        "\n"
      ]
    }
  ],
  "metadata": {
    "ExecuteTimeLog": [
      {
        "duration": 1457,
        "start_time": "2023-03-29T08:31:20.547Z"
      },
      {
        "duration": 4,
        "start_time": "2023-03-29T08:31:22.006Z"
      },
      {
        "duration": 1330,
        "start_time": "2023-03-29T08:31:22.013Z"
      },
      {
        "duration": 4,
        "start_time": "2023-03-29T08:31:23.345Z"
      },
      {
        "duration": 34,
        "start_time": "2023-03-29T08:31:23.351Z"
      },
      {
        "duration": 126,
        "start_time": "2023-03-29T08:31:23.387Z"
      },
      {
        "duration": 3,
        "start_time": "2023-03-29T08:31:23.515Z"
      },
      {
        "duration": 34,
        "start_time": "2023-03-29T08:31:23.520Z"
      },
      {
        "duration": 23,
        "start_time": "2023-03-29T08:31:23.556Z"
      },
      {
        "duration": 4,
        "start_time": "2023-03-29T08:31:23.582Z"
      },
      {
        "duration": 75,
        "start_time": "2023-03-29T08:31:23.588Z"
      },
      {
        "duration": 6,
        "start_time": "2023-03-29T08:31:23.665Z"
      },
      {
        "duration": 459,
        "start_time": "2023-03-29T08:31:23.672Z"
      },
      {
        "duration": 9,
        "start_time": "2023-03-29T08:31:24.134Z"
      },
      {
        "duration": 15,
        "start_time": "2023-03-29T08:31:24.145Z"
      },
      {
        "duration": 368,
        "start_time": "2023-03-29T08:31:24.162Z"
      },
      {
        "duration": 22,
        "start_time": "2023-03-29T08:31:24.534Z"
      },
      {
        "duration": 9,
        "start_time": "2023-03-29T08:31:24.558Z"
      },
      {
        "duration": 65,
        "start_time": "2023-03-29T08:31:24.569Z"
      },
      {
        "duration": 410,
        "start_time": "2023-03-29T08:31:24.635Z"
      },
      {
        "duration": 26,
        "start_time": "2023-03-29T08:31:25.047Z"
      },
      {
        "duration": 485,
        "start_time": "2023-03-29T08:31:25.075Z"
      },
      {
        "duration": 472,
        "start_time": "2023-03-29T08:31:25.563Z"
      },
      {
        "duration": 17,
        "start_time": "2023-03-29T08:31:26.037Z"
      },
      {
        "duration": 36,
        "start_time": "2023-03-29T08:31:26.057Z"
      },
      {
        "duration": 144,
        "start_time": "2023-03-29T08:31:26.095Z"
      },
      {
        "duration": 11,
        "start_time": "2023-03-29T08:31:26.241Z"
      },
      {
        "duration": 41,
        "start_time": "2023-03-29T08:31:26.256Z"
      },
      {
        "duration": 801,
        "start_time": "2023-03-29T08:31:26.299Z"
      },
      {
        "duration": 459,
        "start_time": "2023-03-29T08:31:27.102Z"
      },
      {
        "duration": 13,
        "start_time": "2023-03-29T08:31:27.563Z"
      },
      {
        "duration": 59,
        "start_time": "2023-03-29T08:31:27.578Z"
      },
      {
        "duration": 772,
        "start_time": "2023-03-29T08:31:27.638Z"
      },
      {
        "duration": 296,
        "start_time": "2023-03-29T08:31:28.411Z"
      },
      {
        "duration": 27,
        "start_time": "2023-03-29T08:31:28.709Z"
      },
      {
        "duration": 28,
        "start_time": "2023-03-29T08:31:28.738Z"
      },
      {
        "duration": 5,
        "start_time": "2023-03-29T08:31:28.768Z"
      },
      {
        "duration": 246,
        "start_time": "2023-03-29T08:31:28.775Z"
      },
      {
        "duration": 11,
        "start_time": "2023-03-29T08:31:29.023Z"
      },
      {
        "duration": 21,
        "start_time": "2023-03-29T08:31:29.036Z"
      },
      {
        "duration": 25,
        "start_time": "2023-03-29T08:31:29.058Z"
      },
      {
        "duration": 54,
        "start_time": "2023-03-29T08:31:29.085Z"
      },
      {
        "duration": 10,
        "start_time": "2023-03-29T08:31:29.141Z"
      },
      {
        "duration": 24,
        "start_time": "2023-03-29T08:31:29.153Z"
      },
      {
        "duration": 236,
        "start_time": "2023-03-29T08:31:29.179Z"
      },
      {
        "duration": 87,
        "start_time": "2023-03-29T08:31:29.416Z"
      },
      {
        "duration": 8,
        "start_time": "2023-03-29T08:31:29.505Z"
      },
      {
        "duration": 28,
        "start_time": "2023-03-29T08:31:29.516Z"
      },
      {
        "duration": 291,
        "start_time": "2023-03-29T08:31:29.546Z"
      },
      {
        "duration": 6,
        "start_time": "2023-03-29T08:31:29.839Z"
      },
      {
        "duration": 1200,
        "start_time": "2023-03-29T08:31:29.847Z"
      },
      {
        "duration": 39,
        "start_time": "2023-03-29T08:31:31.049Z"
      },
      {
        "duration": 402,
        "start_time": "2023-03-29T08:31:31.090Z"
      },
      {
        "duration": 9,
        "start_time": "2023-03-29T08:31:31.494Z"
      },
      {
        "duration": 55,
        "start_time": "2023-03-29T08:31:31.505Z"
      },
      {
        "duration": 19,
        "start_time": "2023-03-29T08:31:31.563Z"
      },
      {
        "duration": 4,
        "start_time": "2023-03-29T08:31:31.633Z"
      },
      {
        "duration": 68,
        "start_time": "2023-03-29T08:31:31.640Z"
      },
      {
        "duration": 24,
        "start_time": "2023-03-29T08:31:31.710Z"
      },
      {
        "duration": 13,
        "start_time": "2023-03-29T08:31:31.736Z"
      },
      {
        "duration": 23,
        "start_time": "2023-03-29T08:31:31.751Z"
      },
      {
        "duration": 36,
        "start_time": "2023-03-29T08:31:31.776Z"
      },
      {
        "duration": 35,
        "start_time": "2023-03-29T08:31:31.813Z"
      },
      {
        "duration": 43,
        "start_time": "2023-03-29T08:31:31.850Z"
      },
      {
        "duration": 33,
        "start_time": "2023-03-29T08:31:31.895Z"
      },
      {
        "duration": 20,
        "start_time": "2023-03-29T08:31:31.931Z"
      },
      {
        "duration": 33,
        "start_time": "2023-03-29T08:31:31.954Z"
      },
      {
        "duration": 41,
        "start_time": "2023-03-29T08:31:31.989Z"
      },
      {
        "duration": 22,
        "start_time": "2023-03-29T08:31:32.033Z"
      },
      {
        "duration": 60,
        "start_time": "2023-03-29T08:31:32.057Z"
      },
      {
        "duration": 31,
        "start_time": "2023-03-29T08:31:32.119Z"
      },
      {
        "duration": 45,
        "start_time": "2023-03-29T08:31:32.151Z"
      },
      {
        "duration": 11,
        "start_time": "2023-03-29T08:31:32.198Z"
      },
      {
        "duration": 41,
        "start_time": "2023-03-29T08:31:32.211Z"
      },
      {
        "duration": 29,
        "start_time": "2023-03-29T08:31:32.254Z"
      },
      {
        "duration": 36,
        "start_time": "2023-03-29T08:31:32.286Z"
      },
      {
        "duration": 38,
        "start_time": "2023-03-29T08:31:32.324Z"
      },
      {
        "duration": 20,
        "start_time": "2023-03-29T08:31:32.364Z"
      }
    ],
    "colab": {
      "provenance": [],
      "toc_visible": true
    },
    "kernelspec": {
      "display_name": "Python 3 (ipykernel)",
      "language": "python",
      "name": "python3"
    },
    "language_info": {
      "codemirror_mode": {
        "name": "ipython",
        "version": 3
      },
      "file_extension": ".py",
      "mimetype": "text/x-python",
      "name": "python",
      "nbconvert_exporter": "python",
      "pygments_lexer": "ipython3",
      "version": "3.9.5"
    },
    "toc": {
      "base_numbering": 1,
      "nav_menu": {},
      "number_sections": true,
      "sideBar": true,
      "skip_h1_title": true,
      "title_cell": "Table of Contents",
      "title_sidebar": "Contents",
      "toc_cell": false,
      "toc_position": {},
      "toc_section_display": true,
      "toc_window_display": false
    },
    "widgets": {
      "application/vnd.jupyter.widget-state+json": {
        "869dff362d704986b91d1be7b3f33302": {
          "model_module": "@jupyter-widgets/controls",
          "model_name": "HBoxModel",
          "model_module_version": "1.5.0",
          "state": {
            "_dom_classes": [],
            "_model_module": "@jupyter-widgets/controls",
            "_model_module_version": "1.5.0",
            "_model_name": "HBoxModel",
            "_view_count": null,
            "_view_module": "@jupyter-widgets/controls",
            "_view_module_version": "1.5.0",
            "_view_name": "HBoxView",
            "box_style": "",
            "children": [
              "IPY_MODEL_30c33a88352c45299eb24a82f14d6836",
              "IPY_MODEL_09c6e1d6fc0a43a0859176102a61fa09",
              "IPY_MODEL_0e40ebbccfb74a91956063e6aff6086f"
            ],
            "layout": "IPY_MODEL_1bdc89ef0f434facba793389ac73421f"
          }
        },
        "30c33a88352c45299eb24a82f14d6836": {
          "model_module": "@jupyter-widgets/controls",
          "model_name": "HTMLModel",
          "model_module_version": "1.5.0",
          "state": {
            "_dom_classes": [],
            "_model_module": "@jupyter-widgets/controls",
            "_model_module_version": "1.5.0",
            "_model_name": "HTMLModel",
            "_view_count": null,
            "_view_module": "@jupyter-widgets/controls",
            "_view_module_version": "1.5.0",
            "_view_name": "HTMLView",
            "description": "",
            "description_tooltip": null,
            "layout": "IPY_MODEL_c4def4d936d940e09e92f12b2881e117",
            "placeholder": "​",
            "style": "IPY_MODEL_0eeea02e0cd9435892491926d9d49e2e",
            "value": "Шаг: 100%"
          }
        },
        "09c6e1d6fc0a43a0859176102a61fa09": {
          "model_module": "@jupyter-widgets/controls",
          "model_name": "FloatProgressModel",
          "model_module_version": "1.5.0",
          "state": {
            "_dom_classes": [],
            "_model_module": "@jupyter-widgets/controls",
            "_model_module_version": "1.5.0",
            "_model_name": "FloatProgressModel",
            "_view_count": null,
            "_view_module": "@jupyter-widgets/controls",
            "_view_module_version": "1.5.0",
            "_view_name": "ProgressView",
            "bar_style": "success",
            "description": "",
            "description_tooltip": null,
            "layout": "IPY_MODEL_948df454f9b5439a80cde6069809a675",
            "max": 5,
            "min": 0,
            "orientation": "horizontal",
            "style": "IPY_MODEL_bcc3054bb9c04df5af5291a63bbfe519",
            "value": 5
          }
        },
        "0e40ebbccfb74a91956063e6aff6086f": {
          "model_module": "@jupyter-widgets/controls",
          "model_name": "HTMLModel",
          "model_module_version": "1.5.0",
          "state": {
            "_dom_classes": [],
            "_model_module": "@jupyter-widgets/controls",
            "_model_module_version": "1.5.0",
            "_model_name": "HTMLModel",
            "_view_count": null,
            "_view_module": "@jupyter-widgets/controls",
            "_view_module_version": "1.5.0",
            "_view_name": "HTMLView",
            "description": "",
            "description_tooltip": null,
            "layout": "IPY_MODEL_87c7053972f149f5965bef7cef818d2f",
            "placeholder": "​",
            "style": "IPY_MODEL_9ccd27b290734673af2061d975056a69",
            "value": " 5/5 [00:01&lt;00:00,  2.15it/s]"
          }
        },
        "1bdc89ef0f434facba793389ac73421f": {
          "model_module": "@jupyter-widgets/base",
          "model_name": "LayoutModel",
          "model_module_version": "1.2.0",
          "state": {
            "_model_module": "@jupyter-widgets/base",
            "_model_module_version": "1.2.0",
            "_model_name": "LayoutModel",
            "_view_count": null,
            "_view_module": "@jupyter-widgets/base",
            "_view_module_version": "1.2.0",
            "_view_name": "LayoutView",
            "align_content": null,
            "align_items": null,
            "align_self": null,
            "border": null,
            "bottom": null,
            "display": null,
            "flex": null,
            "flex_flow": null,
            "grid_area": null,
            "grid_auto_columns": null,
            "grid_auto_flow": null,
            "grid_auto_rows": null,
            "grid_column": null,
            "grid_gap": null,
            "grid_row": null,
            "grid_template_areas": null,
            "grid_template_columns": null,
            "grid_template_rows": null,
            "height": null,
            "justify_content": null,
            "justify_items": null,
            "left": null,
            "margin": null,
            "max_height": null,
            "max_width": null,
            "min_height": null,
            "min_width": null,
            "object_fit": null,
            "object_position": null,
            "order": null,
            "overflow": null,
            "overflow_x": null,
            "overflow_y": null,
            "padding": null,
            "right": null,
            "top": null,
            "visibility": null,
            "width": null
          }
        },
        "c4def4d936d940e09e92f12b2881e117": {
          "model_module": "@jupyter-widgets/base",
          "model_name": "LayoutModel",
          "model_module_version": "1.2.0",
          "state": {
            "_model_module": "@jupyter-widgets/base",
            "_model_module_version": "1.2.0",
            "_model_name": "LayoutModel",
            "_view_count": null,
            "_view_module": "@jupyter-widgets/base",
            "_view_module_version": "1.2.0",
            "_view_name": "LayoutView",
            "align_content": null,
            "align_items": null,
            "align_self": null,
            "border": null,
            "bottom": null,
            "display": null,
            "flex": null,
            "flex_flow": null,
            "grid_area": null,
            "grid_auto_columns": null,
            "grid_auto_flow": null,
            "grid_auto_rows": null,
            "grid_column": null,
            "grid_gap": null,
            "grid_row": null,
            "grid_template_areas": null,
            "grid_template_columns": null,
            "grid_template_rows": null,
            "height": null,
            "justify_content": null,
            "justify_items": null,
            "left": null,
            "margin": null,
            "max_height": null,
            "max_width": null,
            "min_height": null,
            "min_width": null,
            "object_fit": null,
            "object_position": null,
            "order": null,
            "overflow": null,
            "overflow_x": null,
            "overflow_y": null,
            "padding": null,
            "right": null,
            "top": null,
            "visibility": null,
            "width": null
          }
        },
        "0eeea02e0cd9435892491926d9d49e2e": {
          "model_module": "@jupyter-widgets/controls",
          "model_name": "DescriptionStyleModel",
          "model_module_version": "1.5.0",
          "state": {
            "_model_module": "@jupyter-widgets/controls",
            "_model_module_version": "1.5.0",
            "_model_name": "DescriptionStyleModel",
            "_view_count": null,
            "_view_module": "@jupyter-widgets/base",
            "_view_module_version": "1.2.0",
            "_view_name": "StyleView",
            "description_width": ""
          }
        },
        "948df454f9b5439a80cde6069809a675": {
          "model_module": "@jupyter-widgets/base",
          "model_name": "LayoutModel",
          "model_module_version": "1.2.0",
          "state": {
            "_model_module": "@jupyter-widgets/base",
            "_model_module_version": "1.2.0",
            "_model_name": "LayoutModel",
            "_view_count": null,
            "_view_module": "@jupyter-widgets/base",
            "_view_module_version": "1.2.0",
            "_view_name": "LayoutView",
            "align_content": null,
            "align_items": null,
            "align_self": null,
            "border": null,
            "bottom": null,
            "display": null,
            "flex": null,
            "flex_flow": null,
            "grid_area": null,
            "grid_auto_columns": null,
            "grid_auto_flow": null,
            "grid_auto_rows": null,
            "grid_column": null,
            "grid_gap": null,
            "grid_row": null,
            "grid_template_areas": null,
            "grid_template_columns": null,
            "grid_template_rows": null,
            "height": null,
            "justify_content": null,
            "justify_items": null,
            "left": null,
            "margin": null,
            "max_height": null,
            "max_width": null,
            "min_height": null,
            "min_width": null,
            "object_fit": null,
            "object_position": null,
            "order": null,
            "overflow": null,
            "overflow_x": null,
            "overflow_y": null,
            "padding": null,
            "right": null,
            "top": null,
            "visibility": null,
            "width": null
          }
        },
        "bcc3054bb9c04df5af5291a63bbfe519": {
          "model_module": "@jupyter-widgets/controls",
          "model_name": "ProgressStyleModel",
          "model_module_version": "1.5.0",
          "state": {
            "_model_module": "@jupyter-widgets/controls",
            "_model_module_version": "1.5.0",
            "_model_name": "ProgressStyleModel",
            "_view_count": null,
            "_view_module": "@jupyter-widgets/base",
            "_view_module_version": "1.2.0",
            "_view_name": "StyleView",
            "bar_color": null,
            "description_width": ""
          }
        },
        "87c7053972f149f5965bef7cef818d2f": {
          "model_module": "@jupyter-widgets/base",
          "model_name": "LayoutModel",
          "model_module_version": "1.2.0",
          "state": {
            "_model_module": "@jupyter-widgets/base",
            "_model_module_version": "1.2.0",
            "_model_name": "LayoutModel",
            "_view_count": null,
            "_view_module": "@jupyter-widgets/base",
            "_view_module_version": "1.2.0",
            "_view_name": "LayoutView",
            "align_content": null,
            "align_items": null,
            "align_self": null,
            "border": null,
            "bottom": null,
            "display": null,
            "flex": null,
            "flex_flow": null,
            "grid_area": null,
            "grid_auto_columns": null,
            "grid_auto_flow": null,
            "grid_auto_rows": null,
            "grid_column": null,
            "grid_gap": null,
            "grid_row": null,
            "grid_template_areas": null,
            "grid_template_columns": null,
            "grid_template_rows": null,
            "height": null,
            "justify_content": null,
            "justify_items": null,
            "left": null,
            "margin": null,
            "max_height": null,
            "max_width": null,
            "min_height": null,
            "min_width": null,
            "object_fit": null,
            "object_position": null,
            "order": null,
            "overflow": null,
            "overflow_x": null,
            "overflow_y": null,
            "padding": null,
            "right": null,
            "top": null,
            "visibility": null,
            "width": null
          }
        },
        "9ccd27b290734673af2061d975056a69": {
          "model_module": "@jupyter-widgets/controls",
          "model_name": "DescriptionStyleModel",
          "model_module_version": "1.5.0",
          "state": {
            "_model_module": "@jupyter-widgets/controls",
            "_model_module_version": "1.5.0",
            "_model_name": "DescriptionStyleModel",
            "_view_count": null,
            "_view_module": "@jupyter-widgets/base",
            "_view_module_version": "1.2.0",
            "_view_name": "StyleView",
            "description_width": ""
          }
        },
        "4e2df37882354dc5b3ebdb9f6277c12b": {
          "model_module": "@jupyter-widgets/controls",
          "model_name": "HBoxModel",
          "model_module_version": "1.5.0",
          "state": {
            "_dom_classes": [],
            "_model_module": "@jupyter-widgets/controls",
            "_model_module_version": "1.5.0",
            "_model_name": "HBoxModel",
            "_view_count": null,
            "_view_module": "@jupyter-widgets/controls",
            "_view_module_version": "1.5.0",
            "_view_name": "HBoxView",
            "box_style": "",
            "children": [
              "IPY_MODEL_cbe6566fa9e14d68b9aea415367f015f",
              "IPY_MODEL_11dbe28bb9834785a5e67e4b781e9e49",
              "IPY_MODEL_ac31856d88224e298c829cd1ade45fec"
            ],
            "layout": "IPY_MODEL_233f56679336417798e25506dd7b44b9"
          }
        },
        "cbe6566fa9e14d68b9aea415367f015f": {
          "model_module": "@jupyter-widgets/controls",
          "model_name": "HTMLModel",
          "model_module_version": "1.5.0",
          "state": {
            "_dom_classes": [],
            "_model_module": "@jupyter-widgets/controls",
            "_model_module_version": "1.5.0",
            "_model_name": "HTMLModel",
            "_view_count": null,
            "_view_module": "@jupyter-widgets/controls",
            "_view_module_version": "1.5.0",
            "_view_name": "HTMLView",
            "description": "",
            "description_tooltip": null,
            "layout": "IPY_MODEL_68e47dffdcc043b0bc0af1081fbb3f72",
            "placeholder": "​",
            "style": "IPY_MODEL_80834b33ccb840e1a77e1e69418611e5",
            "value": "100%"
          }
        },
        "11dbe28bb9834785a5e67e4b781e9e49": {
          "model_module": "@jupyter-widgets/controls",
          "model_name": "FloatProgressModel",
          "model_module_version": "1.5.0",
          "state": {
            "_dom_classes": [],
            "_model_module": "@jupyter-widgets/controls",
            "_model_module_version": "1.5.0",
            "_model_name": "FloatProgressModel",
            "_view_count": null,
            "_view_module": "@jupyter-widgets/controls",
            "_view_module_version": "1.5.0",
            "_view_name": "ProgressView",
            "bar_style": "success",
            "description": "",
            "description_tooltip": null,
            "layout": "IPY_MODEL_f63ae54a5dd04fd1bceef9e2333e4a38",
            "max": 9,
            "min": 0,
            "orientation": "horizontal",
            "style": "IPY_MODEL_dc4e235e487a4e82bd2fd71d9589c962",
            "value": 9
          }
        },
        "ac31856d88224e298c829cd1ade45fec": {
          "model_module": "@jupyter-widgets/controls",
          "model_name": "HTMLModel",
          "model_module_version": "1.5.0",
          "state": {
            "_dom_classes": [],
            "_model_module": "@jupyter-widgets/controls",
            "_model_module_version": "1.5.0",
            "_model_name": "HTMLModel",
            "_view_count": null,
            "_view_module": "@jupyter-widgets/controls",
            "_view_module_version": "1.5.0",
            "_view_name": "HTMLView",
            "description": "",
            "description_tooltip": null,
            "layout": "IPY_MODEL_d10070ac6a034cf29f31d6f5c9b5e0b1",
            "placeholder": "​",
            "style": "IPY_MODEL_c31c381e53fa472ca94586f21aa58854",
            "value": " 9/9 [00:00&lt;00:00, 22.08it/s]"
          }
        },
        "233f56679336417798e25506dd7b44b9": {
          "model_module": "@jupyter-widgets/base",
          "model_name": "LayoutModel",
          "model_module_version": "1.2.0",
          "state": {
            "_model_module": "@jupyter-widgets/base",
            "_model_module_version": "1.2.0",
            "_model_name": "LayoutModel",
            "_view_count": null,
            "_view_module": "@jupyter-widgets/base",
            "_view_module_version": "1.2.0",
            "_view_name": "LayoutView",
            "align_content": null,
            "align_items": null,
            "align_self": null,
            "border": null,
            "bottom": null,
            "display": null,
            "flex": null,
            "flex_flow": null,
            "grid_area": null,
            "grid_auto_columns": null,
            "grid_auto_flow": null,
            "grid_auto_rows": null,
            "grid_column": null,
            "grid_gap": null,
            "grid_row": null,
            "grid_template_areas": null,
            "grid_template_columns": null,
            "grid_template_rows": null,
            "height": null,
            "justify_content": null,
            "justify_items": null,
            "left": null,
            "margin": null,
            "max_height": null,
            "max_width": null,
            "min_height": null,
            "min_width": null,
            "object_fit": null,
            "object_position": null,
            "order": null,
            "overflow": null,
            "overflow_x": null,
            "overflow_y": null,
            "padding": null,
            "right": null,
            "top": null,
            "visibility": null,
            "width": null
          }
        },
        "68e47dffdcc043b0bc0af1081fbb3f72": {
          "model_module": "@jupyter-widgets/base",
          "model_name": "LayoutModel",
          "model_module_version": "1.2.0",
          "state": {
            "_model_module": "@jupyter-widgets/base",
            "_model_module_version": "1.2.0",
            "_model_name": "LayoutModel",
            "_view_count": null,
            "_view_module": "@jupyter-widgets/base",
            "_view_module_version": "1.2.0",
            "_view_name": "LayoutView",
            "align_content": null,
            "align_items": null,
            "align_self": null,
            "border": null,
            "bottom": null,
            "display": null,
            "flex": null,
            "flex_flow": null,
            "grid_area": null,
            "grid_auto_columns": null,
            "grid_auto_flow": null,
            "grid_auto_rows": null,
            "grid_column": null,
            "grid_gap": null,
            "grid_row": null,
            "grid_template_areas": null,
            "grid_template_columns": null,
            "grid_template_rows": null,
            "height": null,
            "justify_content": null,
            "justify_items": null,
            "left": null,
            "margin": null,
            "max_height": null,
            "max_width": null,
            "min_height": null,
            "min_width": null,
            "object_fit": null,
            "object_position": null,
            "order": null,
            "overflow": null,
            "overflow_x": null,
            "overflow_y": null,
            "padding": null,
            "right": null,
            "top": null,
            "visibility": null,
            "width": null
          }
        },
        "80834b33ccb840e1a77e1e69418611e5": {
          "model_module": "@jupyter-widgets/controls",
          "model_name": "DescriptionStyleModel",
          "model_module_version": "1.5.0",
          "state": {
            "_model_module": "@jupyter-widgets/controls",
            "_model_module_version": "1.5.0",
            "_model_name": "DescriptionStyleModel",
            "_view_count": null,
            "_view_module": "@jupyter-widgets/base",
            "_view_module_version": "1.2.0",
            "_view_name": "StyleView",
            "description_width": ""
          }
        },
        "f63ae54a5dd04fd1bceef9e2333e4a38": {
          "model_module": "@jupyter-widgets/base",
          "model_name": "LayoutModel",
          "model_module_version": "1.2.0",
          "state": {
            "_model_module": "@jupyter-widgets/base",
            "_model_module_version": "1.2.0",
            "_model_name": "LayoutModel",
            "_view_count": null,
            "_view_module": "@jupyter-widgets/base",
            "_view_module_version": "1.2.0",
            "_view_name": "LayoutView",
            "align_content": null,
            "align_items": null,
            "align_self": null,
            "border": null,
            "bottom": null,
            "display": null,
            "flex": null,
            "flex_flow": null,
            "grid_area": null,
            "grid_auto_columns": null,
            "grid_auto_flow": null,
            "grid_auto_rows": null,
            "grid_column": null,
            "grid_gap": null,
            "grid_row": null,
            "grid_template_areas": null,
            "grid_template_columns": null,
            "grid_template_rows": null,
            "height": null,
            "justify_content": null,
            "justify_items": null,
            "left": null,
            "margin": null,
            "max_height": null,
            "max_width": null,
            "min_height": null,
            "min_width": null,
            "object_fit": null,
            "object_position": null,
            "order": null,
            "overflow": null,
            "overflow_x": null,
            "overflow_y": null,
            "padding": null,
            "right": null,
            "top": null,
            "visibility": null,
            "width": null
          }
        },
        "dc4e235e487a4e82bd2fd71d9589c962": {
          "model_module": "@jupyter-widgets/controls",
          "model_name": "ProgressStyleModel",
          "model_module_version": "1.5.0",
          "state": {
            "_model_module": "@jupyter-widgets/controls",
            "_model_module_version": "1.5.0",
            "_model_name": "ProgressStyleModel",
            "_view_count": null,
            "_view_module": "@jupyter-widgets/base",
            "_view_module_version": "1.2.0",
            "_view_name": "StyleView",
            "bar_color": null,
            "description_width": ""
          }
        },
        "d10070ac6a034cf29f31d6f5c9b5e0b1": {
          "model_module": "@jupyter-widgets/base",
          "model_name": "LayoutModel",
          "model_module_version": "1.2.0",
          "state": {
            "_model_module": "@jupyter-widgets/base",
            "_model_module_version": "1.2.0",
            "_model_name": "LayoutModel",
            "_view_count": null,
            "_view_module": "@jupyter-widgets/base",
            "_view_module_version": "1.2.0",
            "_view_name": "LayoutView",
            "align_content": null,
            "align_items": null,
            "align_self": null,
            "border": null,
            "bottom": null,
            "display": null,
            "flex": null,
            "flex_flow": null,
            "grid_area": null,
            "grid_auto_columns": null,
            "grid_auto_flow": null,
            "grid_auto_rows": null,
            "grid_column": null,
            "grid_gap": null,
            "grid_row": null,
            "grid_template_areas": null,
            "grid_template_columns": null,
            "grid_template_rows": null,
            "height": null,
            "justify_content": null,
            "justify_items": null,
            "left": null,
            "margin": null,
            "max_height": null,
            "max_width": null,
            "min_height": null,
            "min_width": null,
            "object_fit": null,
            "object_position": null,
            "order": null,
            "overflow": null,
            "overflow_x": null,
            "overflow_y": null,
            "padding": null,
            "right": null,
            "top": null,
            "visibility": null,
            "width": null
          }
        },
        "c31c381e53fa472ca94586f21aa58854": {
          "model_module": "@jupyter-widgets/controls",
          "model_name": "DescriptionStyleModel",
          "model_module_version": "1.5.0",
          "state": {
            "_model_module": "@jupyter-widgets/controls",
            "_model_module_version": "1.5.0",
            "_model_name": "DescriptionStyleModel",
            "_view_count": null,
            "_view_module": "@jupyter-widgets/base",
            "_view_module_version": "1.2.0",
            "_view_name": "StyleView",
            "description_width": ""
          }
        },
        "919f956555d0460b88a441391c58002b": {
          "model_module": "@jupyter-widgets/controls",
          "model_name": "HBoxModel",
          "model_module_version": "1.5.0",
          "state": {
            "_dom_classes": [],
            "_model_module": "@jupyter-widgets/controls",
            "_model_module_version": "1.5.0",
            "_model_name": "HBoxModel",
            "_view_count": null,
            "_view_module": "@jupyter-widgets/controls",
            "_view_module_version": "1.5.0",
            "_view_name": "HBoxView",
            "box_style": "",
            "children": [
              "IPY_MODEL_9cdfe04f79194f6ba5339558e306afb2",
              "IPY_MODEL_ced90e320e934c2a9a08cbde49544af1",
              "IPY_MODEL_78e98343ec1e45df8dc5495396833a62"
            ],
            "layout": "IPY_MODEL_f78360e8c3dd4054a1eaa76ddcffb3e2"
          }
        },
        "9cdfe04f79194f6ba5339558e306afb2": {
          "model_module": "@jupyter-widgets/controls",
          "model_name": "HTMLModel",
          "model_module_version": "1.5.0",
          "state": {
            "_dom_classes": [],
            "_model_module": "@jupyter-widgets/controls",
            "_model_module_version": "1.5.0",
            "_model_name": "HTMLModel",
            "_view_count": null,
            "_view_module": "@jupyter-widgets/controls",
            "_view_module_version": "1.5.0",
            "_view_name": "HTMLView",
            "description": "",
            "description_tooltip": null,
            "layout": "IPY_MODEL_46711f12478045699a82d800acb7813d",
            "placeholder": "​",
            "style": "IPY_MODEL_128b37babe4747c1a3532f577b8b93ab",
            "value": "100%"
          }
        },
        "ced90e320e934c2a9a08cbde49544af1": {
          "model_module": "@jupyter-widgets/controls",
          "model_name": "FloatProgressModel",
          "model_module_version": "1.5.0",
          "state": {
            "_dom_classes": [],
            "_model_module": "@jupyter-widgets/controls",
            "_model_module_version": "1.5.0",
            "_model_name": "FloatProgressModel",
            "_view_count": null,
            "_view_module": "@jupyter-widgets/controls",
            "_view_module_version": "1.5.0",
            "_view_name": "ProgressView",
            "bar_style": "success",
            "description": "",
            "description_tooltip": null,
            "layout": "IPY_MODEL_4f23c87c9c324d24bb4bdd0277a55fcc",
            "max": 9,
            "min": 0,
            "orientation": "horizontal",
            "style": "IPY_MODEL_11066235bb0f47e2bd5817243f855aae",
            "value": 9
          }
        },
        "78e98343ec1e45df8dc5495396833a62": {
          "model_module": "@jupyter-widgets/controls",
          "model_name": "HTMLModel",
          "model_module_version": "1.5.0",
          "state": {
            "_dom_classes": [],
            "_model_module": "@jupyter-widgets/controls",
            "_model_module_version": "1.5.0",
            "_model_name": "HTMLModel",
            "_view_count": null,
            "_view_module": "@jupyter-widgets/controls",
            "_view_module_version": "1.5.0",
            "_view_name": "HTMLView",
            "description": "",
            "description_tooltip": null,
            "layout": "IPY_MODEL_e8b3868b19434c48959eecda015f37e6",
            "placeholder": "​",
            "style": "IPY_MODEL_8251155d60ee4823b5b74ed457f1e510",
            "value": " 9/9 [00:00&lt;00:00, 22.86it/s]"
          }
        },
        "f78360e8c3dd4054a1eaa76ddcffb3e2": {
          "model_module": "@jupyter-widgets/base",
          "model_name": "LayoutModel",
          "model_module_version": "1.2.0",
          "state": {
            "_model_module": "@jupyter-widgets/base",
            "_model_module_version": "1.2.0",
            "_model_name": "LayoutModel",
            "_view_count": null,
            "_view_module": "@jupyter-widgets/base",
            "_view_module_version": "1.2.0",
            "_view_name": "LayoutView",
            "align_content": null,
            "align_items": null,
            "align_self": null,
            "border": null,
            "bottom": null,
            "display": null,
            "flex": null,
            "flex_flow": null,
            "grid_area": null,
            "grid_auto_columns": null,
            "grid_auto_flow": null,
            "grid_auto_rows": null,
            "grid_column": null,
            "grid_gap": null,
            "grid_row": null,
            "grid_template_areas": null,
            "grid_template_columns": null,
            "grid_template_rows": null,
            "height": null,
            "justify_content": null,
            "justify_items": null,
            "left": null,
            "margin": null,
            "max_height": null,
            "max_width": null,
            "min_height": null,
            "min_width": null,
            "object_fit": null,
            "object_position": null,
            "order": null,
            "overflow": null,
            "overflow_x": null,
            "overflow_y": null,
            "padding": null,
            "right": null,
            "top": null,
            "visibility": null,
            "width": null
          }
        },
        "46711f12478045699a82d800acb7813d": {
          "model_module": "@jupyter-widgets/base",
          "model_name": "LayoutModel",
          "model_module_version": "1.2.0",
          "state": {
            "_model_module": "@jupyter-widgets/base",
            "_model_module_version": "1.2.0",
            "_model_name": "LayoutModel",
            "_view_count": null,
            "_view_module": "@jupyter-widgets/base",
            "_view_module_version": "1.2.0",
            "_view_name": "LayoutView",
            "align_content": null,
            "align_items": null,
            "align_self": null,
            "border": null,
            "bottom": null,
            "display": null,
            "flex": null,
            "flex_flow": null,
            "grid_area": null,
            "grid_auto_columns": null,
            "grid_auto_flow": null,
            "grid_auto_rows": null,
            "grid_column": null,
            "grid_gap": null,
            "grid_row": null,
            "grid_template_areas": null,
            "grid_template_columns": null,
            "grid_template_rows": null,
            "height": null,
            "justify_content": null,
            "justify_items": null,
            "left": null,
            "margin": null,
            "max_height": null,
            "max_width": null,
            "min_height": null,
            "min_width": null,
            "object_fit": null,
            "object_position": null,
            "order": null,
            "overflow": null,
            "overflow_x": null,
            "overflow_y": null,
            "padding": null,
            "right": null,
            "top": null,
            "visibility": null,
            "width": null
          }
        },
        "128b37babe4747c1a3532f577b8b93ab": {
          "model_module": "@jupyter-widgets/controls",
          "model_name": "DescriptionStyleModel",
          "model_module_version": "1.5.0",
          "state": {
            "_model_module": "@jupyter-widgets/controls",
            "_model_module_version": "1.5.0",
            "_model_name": "DescriptionStyleModel",
            "_view_count": null,
            "_view_module": "@jupyter-widgets/base",
            "_view_module_version": "1.2.0",
            "_view_name": "StyleView",
            "description_width": ""
          }
        },
        "4f23c87c9c324d24bb4bdd0277a55fcc": {
          "model_module": "@jupyter-widgets/base",
          "model_name": "LayoutModel",
          "model_module_version": "1.2.0",
          "state": {
            "_model_module": "@jupyter-widgets/base",
            "_model_module_version": "1.2.0",
            "_model_name": "LayoutModel",
            "_view_count": null,
            "_view_module": "@jupyter-widgets/base",
            "_view_module_version": "1.2.0",
            "_view_name": "LayoutView",
            "align_content": null,
            "align_items": null,
            "align_self": null,
            "border": null,
            "bottom": null,
            "display": null,
            "flex": null,
            "flex_flow": null,
            "grid_area": null,
            "grid_auto_columns": null,
            "grid_auto_flow": null,
            "grid_auto_rows": null,
            "grid_column": null,
            "grid_gap": null,
            "grid_row": null,
            "grid_template_areas": null,
            "grid_template_columns": null,
            "grid_template_rows": null,
            "height": null,
            "justify_content": null,
            "justify_items": null,
            "left": null,
            "margin": null,
            "max_height": null,
            "max_width": null,
            "min_height": null,
            "min_width": null,
            "object_fit": null,
            "object_position": null,
            "order": null,
            "overflow": null,
            "overflow_x": null,
            "overflow_y": null,
            "padding": null,
            "right": null,
            "top": null,
            "visibility": null,
            "width": null
          }
        },
        "11066235bb0f47e2bd5817243f855aae": {
          "model_module": "@jupyter-widgets/controls",
          "model_name": "ProgressStyleModel",
          "model_module_version": "1.5.0",
          "state": {
            "_model_module": "@jupyter-widgets/controls",
            "_model_module_version": "1.5.0",
            "_model_name": "ProgressStyleModel",
            "_view_count": null,
            "_view_module": "@jupyter-widgets/base",
            "_view_module_version": "1.2.0",
            "_view_name": "StyleView",
            "bar_color": null,
            "description_width": ""
          }
        },
        "e8b3868b19434c48959eecda015f37e6": {
          "model_module": "@jupyter-widgets/base",
          "model_name": "LayoutModel",
          "model_module_version": "1.2.0",
          "state": {
            "_model_module": "@jupyter-widgets/base",
            "_model_module_version": "1.2.0",
            "_model_name": "LayoutModel",
            "_view_count": null,
            "_view_module": "@jupyter-widgets/base",
            "_view_module_version": "1.2.0",
            "_view_name": "LayoutView",
            "align_content": null,
            "align_items": null,
            "align_self": null,
            "border": null,
            "bottom": null,
            "display": null,
            "flex": null,
            "flex_flow": null,
            "grid_area": null,
            "grid_auto_columns": null,
            "grid_auto_flow": null,
            "grid_auto_rows": null,
            "grid_column": null,
            "grid_gap": null,
            "grid_row": null,
            "grid_template_areas": null,
            "grid_template_columns": null,
            "grid_template_rows": null,
            "height": null,
            "justify_content": null,
            "justify_items": null,
            "left": null,
            "margin": null,
            "max_height": null,
            "max_width": null,
            "min_height": null,
            "min_width": null,
            "object_fit": null,
            "object_position": null,
            "order": null,
            "overflow": null,
            "overflow_x": null,
            "overflow_y": null,
            "padding": null,
            "right": null,
            "top": null,
            "visibility": null,
            "width": null
          }
        },
        "8251155d60ee4823b5b74ed457f1e510": {
          "model_module": "@jupyter-widgets/controls",
          "model_name": "DescriptionStyleModel",
          "model_module_version": "1.5.0",
          "state": {
            "_model_module": "@jupyter-widgets/controls",
            "_model_module_version": "1.5.0",
            "_model_name": "DescriptionStyleModel",
            "_view_count": null,
            "_view_module": "@jupyter-widgets/base",
            "_view_module_version": "1.2.0",
            "_view_name": "StyleView",
            "description_width": ""
          }
        },
        "c6c44b05c464432099d2c4b49fedb31e": {
          "model_module": "@jupyter-widgets/controls",
          "model_name": "HBoxModel",
          "model_module_version": "1.5.0",
          "state": {
            "_dom_classes": [],
            "_model_module": "@jupyter-widgets/controls",
            "_model_module_version": "1.5.0",
            "_model_name": "HBoxModel",
            "_view_count": null,
            "_view_module": "@jupyter-widgets/controls",
            "_view_module_version": "1.5.0",
            "_view_name": "HBoxView",
            "box_style": "",
            "children": [
              "IPY_MODEL_d92b2ff326a64ae09fd65580a74eb24a",
              "IPY_MODEL_7386c636c8e7432fba2022741a61b15e",
              "IPY_MODEL_6726223485764501a02fca7bc803b7c6"
            ],
            "layout": "IPY_MODEL_c3d6ec0949784f5b8f1e6db0ef6b1350"
          }
        },
        "d92b2ff326a64ae09fd65580a74eb24a": {
          "model_module": "@jupyter-widgets/controls",
          "model_name": "HTMLModel",
          "model_module_version": "1.5.0",
          "state": {
            "_dom_classes": [],
            "_model_module": "@jupyter-widgets/controls",
            "_model_module_version": "1.5.0",
            "_model_name": "HTMLModel",
            "_view_count": null,
            "_view_module": "@jupyter-widgets/controls",
            "_view_module_version": "1.5.0",
            "_view_name": "HTMLView",
            "description": "",
            "description_tooltip": null,
            "layout": "IPY_MODEL_2b75f9d2e7e74474bb943005984ef75c",
            "placeholder": "​",
            "style": "IPY_MODEL_b0227d889cf044c5869844c7e3ea699d",
            "value": "100%"
          }
        },
        "7386c636c8e7432fba2022741a61b15e": {
          "model_module": "@jupyter-widgets/controls",
          "model_name": "FloatProgressModel",
          "model_module_version": "1.5.0",
          "state": {
            "_dom_classes": [],
            "_model_module": "@jupyter-widgets/controls",
            "_model_module_version": "1.5.0",
            "_model_name": "FloatProgressModel",
            "_view_count": null,
            "_view_module": "@jupyter-widgets/controls",
            "_view_module_version": "1.5.0",
            "_view_name": "ProgressView",
            "bar_style": "success",
            "description": "",
            "description_tooltip": null,
            "layout": "IPY_MODEL_cf1a9efa403f402f9bfdcb2b8ad9ce79",
            "max": 9,
            "min": 0,
            "orientation": "horizontal",
            "style": "IPY_MODEL_cd504988e4c740f0ab4cea752d45bbb5",
            "value": 9
          }
        },
        "6726223485764501a02fca7bc803b7c6": {
          "model_module": "@jupyter-widgets/controls",
          "model_name": "HTMLModel",
          "model_module_version": "1.5.0",
          "state": {
            "_dom_classes": [],
            "_model_module": "@jupyter-widgets/controls",
            "_model_module_version": "1.5.0",
            "_model_name": "HTMLModel",
            "_view_count": null,
            "_view_module": "@jupyter-widgets/controls",
            "_view_module_version": "1.5.0",
            "_view_name": "HTMLView",
            "description": "",
            "description_tooltip": null,
            "layout": "IPY_MODEL_4a6e4eac891045af86e70865ababc66e",
            "placeholder": "​",
            "style": "IPY_MODEL_c1b5bc6eea3144968e2b5665b8c3e469",
            "value": " 9/9 [00:00&lt;00:00, 14.18it/s]"
          }
        },
        "c3d6ec0949784f5b8f1e6db0ef6b1350": {
          "model_module": "@jupyter-widgets/base",
          "model_name": "LayoutModel",
          "model_module_version": "1.2.0",
          "state": {
            "_model_module": "@jupyter-widgets/base",
            "_model_module_version": "1.2.0",
            "_model_name": "LayoutModel",
            "_view_count": null,
            "_view_module": "@jupyter-widgets/base",
            "_view_module_version": "1.2.0",
            "_view_name": "LayoutView",
            "align_content": null,
            "align_items": null,
            "align_self": null,
            "border": null,
            "bottom": null,
            "display": null,
            "flex": null,
            "flex_flow": null,
            "grid_area": null,
            "grid_auto_columns": null,
            "grid_auto_flow": null,
            "grid_auto_rows": null,
            "grid_column": null,
            "grid_gap": null,
            "grid_row": null,
            "grid_template_areas": null,
            "grid_template_columns": null,
            "grid_template_rows": null,
            "height": null,
            "justify_content": null,
            "justify_items": null,
            "left": null,
            "margin": null,
            "max_height": null,
            "max_width": null,
            "min_height": null,
            "min_width": null,
            "object_fit": null,
            "object_position": null,
            "order": null,
            "overflow": null,
            "overflow_x": null,
            "overflow_y": null,
            "padding": null,
            "right": null,
            "top": null,
            "visibility": null,
            "width": null
          }
        },
        "2b75f9d2e7e74474bb943005984ef75c": {
          "model_module": "@jupyter-widgets/base",
          "model_name": "LayoutModel",
          "model_module_version": "1.2.0",
          "state": {
            "_model_module": "@jupyter-widgets/base",
            "_model_module_version": "1.2.0",
            "_model_name": "LayoutModel",
            "_view_count": null,
            "_view_module": "@jupyter-widgets/base",
            "_view_module_version": "1.2.0",
            "_view_name": "LayoutView",
            "align_content": null,
            "align_items": null,
            "align_self": null,
            "border": null,
            "bottom": null,
            "display": null,
            "flex": null,
            "flex_flow": null,
            "grid_area": null,
            "grid_auto_columns": null,
            "grid_auto_flow": null,
            "grid_auto_rows": null,
            "grid_column": null,
            "grid_gap": null,
            "grid_row": null,
            "grid_template_areas": null,
            "grid_template_columns": null,
            "grid_template_rows": null,
            "height": null,
            "justify_content": null,
            "justify_items": null,
            "left": null,
            "margin": null,
            "max_height": null,
            "max_width": null,
            "min_height": null,
            "min_width": null,
            "object_fit": null,
            "object_position": null,
            "order": null,
            "overflow": null,
            "overflow_x": null,
            "overflow_y": null,
            "padding": null,
            "right": null,
            "top": null,
            "visibility": null,
            "width": null
          }
        },
        "b0227d889cf044c5869844c7e3ea699d": {
          "model_module": "@jupyter-widgets/controls",
          "model_name": "DescriptionStyleModel",
          "model_module_version": "1.5.0",
          "state": {
            "_model_module": "@jupyter-widgets/controls",
            "_model_module_version": "1.5.0",
            "_model_name": "DescriptionStyleModel",
            "_view_count": null,
            "_view_module": "@jupyter-widgets/base",
            "_view_module_version": "1.2.0",
            "_view_name": "StyleView",
            "description_width": ""
          }
        },
        "cf1a9efa403f402f9bfdcb2b8ad9ce79": {
          "model_module": "@jupyter-widgets/base",
          "model_name": "LayoutModel",
          "model_module_version": "1.2.0",
          "state": {
            "_model_module": "@jupyter-widgets/base",
            "_model_module_version": "1.2.0",
            "_model_name": "LayoutModel",
            "_view_count": null,
            "_view_module": "@jupyter-widgets/base",
            "_view_module_version": "1.2.0",
            "_view_name": "LayoutView",
            "align_content": null,
            "align_items": null,
            "align_self": null,
            "border": null,
            "bottom": null,
            "display": null,
            "flex": null,
            "flex_flow": null,
            "grid_area": null,
            "grid_auto_columns": null,
            "grid_auto_flow": null,
            "grid_auto_rows": null,
            "grid_column": null,
            "grid_gap": null,
            "grid_row": null,
            "grid_template_areas": null,
            "grid_template_columns": null,
            "grid_template_rows": null,
            "height": null,
            "justify_content": null,
            "justify_items": null,
            "left": null,
            "margin": null,
            "max_height": null,
            "max_width": null,
            "min_height": null,
            "min_width": null,
            "object_fit": null,
            "object_position": null,
            "order": null,
            "overflow": null,
            "overflow_x": null,
            "overflow_y": null,
            "padding": null,
            "right": null,
            "top": null,
            "visibility": null,
            "width": null
          }
        },
        "cd504988e4c740f0ab4cea752d45bbb5": {
          "model_module": "@jupyter-widgets/controls",
          "model_name": "ProgressStyleModel",
          "model_module_version": "1.5.0",
          "state": {
            "_model_module": "@jupyter-widgets/controls",
            "_model_module_version": "1.5.0",
            "_model_name": "ProgressStyleModel",
            "_view_count": null,
            "_view_module": "@jupyter-widgets/base",
            "_view_module_version": "1.2.0",
            "_view_name": "StyleView",
            "bar_color": null,
            "description_width": ""
          }
        },
        "4a6e4eac891045af86e70865ababc66e": {
          "model_module": "@jupyter-widgets/base",
          "model_name": "LayoutModel",
          "model_module_version": "1.2.0",
          "state": {
            "_model_module": "@jupyter-widgets/base",
            "_model_module_version": "1.2.0",
            "_model_name": "LayoutModel",
            "_view_count": null,
            "_view_module": "@jupyter-widgets/base",
            "_view_module_version": "1.2.0",
            "_view_name": "LayoutView",
            "align_content": null,
            "align_items": null,
            "align_self": null,
            "border": null,
            "bottom": null,
            "display": null,
            "flex": null,
            "flex_flow": null,
            "grid_area": null,
            "grid_auto_columns": null,
            "grid_auto_flow": null,
            "grid_auto_rows": null,
            "grid_column": null,
            "grid_gap": null,
            "grid_row": null,
            "grid_template_areas": null,
            "grid_template_columns": null,
            "grid_template_rows": null,
            "height": null,
            "justify_content": null,
            "justify_items": null,
            "left": null,
            "margin": null,
            "max_height": null,
            "max_width": null,
            "min_height": null,
            "min_width": null,
            "object_fit": null,
            "object_position": null,
            "order": null,
            "overflow": null,
            "overflow_x": null,
            "overflow_y": null,
            "padding": null,
            "right": null,
            "top": null,
            "visibility": null,
            "width": null
          }
        },
        "c1b5bc6eea3144968e2b5665b8c3e469": {
          "model_module": "@jupyter-widgets/controls",
          "model_name": "DescriptionStyleModel",
          "model_module_version": "1.5.0",
          "state": {
            "_model_module": "@jupyter-widgets/controls",
            "_model_module_version": "1.5.0",
            "_model_name": "DescriptionStyleModel",
            "_view_count": null,
            "_view_module": "@jupyter-widgets/base",
            "_view_module_version": "1.2.0",
            "_view_name": "StyleView",
            "description_width": ""
          }
        },
        "d8f9317d53964a419689de0eaf4a4395": {
          "model_module": "@jupyter-widgets/controls",
          "model_name": "HBoxModel",
          "model_module_version": "1.5.0",
          "state": {
            "_dom_classes": [],
            "_model_module": "@jupyter-widgets/controls",
            "_model_module_version": "1.5.0",
            "_model_name": "HBoxModel",
            "_view_count": null,
            "_view_module": "@jupyter-widgets/controls",
            "_view_module_version": "1.5.0",
            "_view_name": "HBoxView",
            "box_style": "",
            "children": [
              "IPY_MODEL_ac80b02a45f24704b9a32b32db05d484",
              "IPY_MODEL_115bb3d6ac4d451887ea336402e34baa",
              "IPY_MODEL_b462e265d27348809c848fb46ae6eaf7"
            ],
            "layout": "IPY_MODEL_c99b58930f734612ae224dfcfd905480"
          }
        },
        "ac80b02a45f24704b9a32b32db05d484": {
          "model_module": "@jupyter-widgets/controls",
          "model_name": "HTMLModel",
          "model_module_version": "1.5.0",
          "state": {
            "_dom_classes": [],
            "_model_module": "@jupyter-widgets/controls",
            "_model_module_version": "1.5.0",
            "_model_name": "HTMLModel",
            "_view_count": null,
            "_view_module": "@jupyter-widgets/controls",
            "_view_module_version": "1.5.0",
            "_view_name": "HTMLView",
            "description": "",
            "description_tooltip": null,
            "layout": "IPY_MODEL_b54ad37c36364111b415104caf0463d9",
            "placeholder": "​",
            "style": "IPY_MODEL_b41ce5d103ab4784b22b4e2b4bc4feb4",
            "value": "100%"
          }
        },
        "115bb3d6ac4d451887ea336402e34baa": {
          "model_module": "@jupyter-widgets/controls",
          "model_name": "FloatProgressModel",
          "model_module_version": "1.5.0",
          "state": {
            "_dom_classes": [],
            "_model_module": "@jupyter-widgets/controls",
            "_model_module_version": "1.5.0",
            "_model_name": "FloatProgressModel",
            "_view_count": null,
            "_view_module": "@jupyter-widgets/controls",
            "_view_module_version": "1.5.0",
            "_view_name": "ProgressView",
            "bar_style": "success",
            "description": "",
            "description_tooltip": null,
            "layout": "IPY_MODEL_3a5d89245e984e1b8da4b2c0a5de8dcc",
            "max": 9,
            "min": 0,
            "orientation": "horizontal",
            "style": "IPY_MODEL_96f89ce589554769a34af1897235e3bc",
            "value": 9
          }
        },
        "b462e265d27348809c848fb46ae6eaf7": {
          "model_module": "@jupyter-widgets/controls",
          "model_name": "HTMLModel",
          "model_module_version": "1.5.0",
          "state": {
            "_dom_classes": [],
            "_model_module": "@jupyter-widgets/controls",
            "_model_module_version": "1.5.0",
            "_model_name": "HTMLModel",
            "_view_count": null,
            "_view_module": "@jupyter-widgets/controls",
            "_view_module_version": "1.5.0",
            "_view_name": "HTMLView",
            "description": "",
            "description_tooltip": null,
            "layout": "IPY_MODEL_8a74f2dd833a4dae96a41f5d8579c486",
            "placeholder": "​",
            "style": "IPY_MODEL_c2f1808b0de84fbebb025ffbedd827d3",
            "value": " 9/9 [00:00&lt;00:00, 25.42it/s]"
          }
        },
        "c99b58930f734612ae224dfcfd905480": {
          "model_module": "@jupyter-widgets/base",
          "model_name": "LayoutModel",
          "model_module_version": "1.2.0",
          "state": {
            "_model_module": "@jupyter-widgets/base",
            "_model_module_version": "1.2.0",
            "_model_name": "LayoutModel",
            "_view_count": null,
            "_view_module": "@jupyter-widgets/base",
            "_view_module_version": "1.2.0",
            "_view_name": "LayoutView",
            "align_content": null,
            "align_items": null,
            "align_self": null,
            "border": null,
            "bottom": null,
            "display": null,
            "flex": null,
            "flex_flow": null,
            "grid_area": null,
            "grid_auto_columns": null,
            "grid_auto_flow": null,
            "grid_auto_rows": null,
            "grid_column": null,
            "grid_gap": null,
            "grid_row": null,
            "grid_template_areas": null,
            "grid_template_columns": null,
            "grid_template_rows": null,
            "height": null,
            "justify_content": null,
            "justify_items": null,
            "left": null,
            "margin": null,
            "max_height": null,
            "max_width": null,
            "min_height": null,
            "min_width": null,
            "object_fit": null,
            "object_position": null,
            "order": null,
            "overflow": null,
            "overflow_x": null,
            "overflow_y": null,
            "padding": null,
            "right": null,
            "top": null,
            "visibility": null,
            "width": null
          }
        },
        "b54ad37c36364111b415104caf0463d9": {
          "model_module": "@jupyter-widgets/base",
          "model_name": "LayoutModel",
          "model_module_version": "1.2.0",
          "state": {
            "_model_module": "@jupyter-widgets/base",
            "_model_module_version": "1.2.0",
            "_model_name": "LayoutModel",
            "_view_count": null,
            "_view_module": "@jupyter-widgets/base",
            "_view_module_version": "1.2.0",
            "_view_name": "LayoutView",
            "align_content": null,
            "align_items": null,
            "align_self": null,
            "border": null,
            "bottom": null,
            "display": null,
            "flex": null,
            "flex_flow": null,
            "grid_area": null,
            "grid_auto_columns": null,
            "grid_auto_flow": null,
            "grid_auto_rows": null,
            "grid_column": null,
            "grid_gap": null,
            "grid_row": null,
            "grid_template_areas": null,
            "grid_template_columns": null,
            "grid_template_rows": null,
            "height": null,
            "justify_content": null,
            "justify_items": null,
            "left": null,
            "margin": null,
            "max_height": null,
            "max_width": null,
            "min_height": null,
            "min_width": null,
            "object_fit": null,
            "object_position": null,
            "order": null,
            "overflow": null,
            "overflow_x": null,
            "overflow_y": null,
            "padding": null,
            "right": null,
            "top": null,
            "visibility": null,
            "width": null
          }
        },
        "b41ce5d103ab4784b22b4e2b4bc4feb4": {
          "model_module": "@jupyter-widgets/controls",
          "model_name": "DescriptionStyleModel",
          "model_module_version": "1.5.0",
          "state": {
            "_model_module": "@jupyter-widgets/controls",
            "_model_module_version": "1.5.0",
            "_model_name": "DescriptionStyleModel",
            "_view_count": null,
            "_view_module": "@jupyter-widgets/base",
            "_view_module_version": "1.2.0",
            "_view_name": "StyleView",
            "description_width": ""
          }
        },
        "3a5d89245e984e1b8da4b2c0a5de8dcc": {
          "model_module": "@jupyter-widgets/base",
          "model_name": "LayoutModel",
          "model_module_version": "1.2.0",
          "state": {
            "_model_module": "@jupyter-widgets/base",
            "_model_module_version": "1.2.0",
            "_model_name": "LayoutModel",
            "_view_count": null,
            "_view_module": "@jupyter-widgets/base",
            "_view_module_version": "1.2.0",
            "_view_name": "LayoutView",
            "align_content": null,
            "align_items": null,
            "align_self": null,
            "border": null,
            "bottom": null,
            "display": null,
            "flex": null,
            "flex_flow": null,
            "grid_area": null,
            "grid_auto_columns": null,
            "grid_auto_flow": null,
            "grid_auto_rows": null,
            "grid_column": null,
            "grid_gap": null,
            "grid_row": null,
            "grid_template_areas": null,
            "grid_template_columns": null,
            "grid_template_rows": null,
            "height": null,
            "justify_content": null,
            "justify_items": null,
            "left": null,
            "margin": null,
            "max_height": null,
            "max_width": null,
            "min_height": null,
            "min_width": null,
            "object_fit": null,
            "object_position": null,
            "order": null,
            "overflow": null,
            "overflow_x": null,
            "overflow_y": null,
            "padding": null,
            "right": null,
            "top": null,
            "visibility": null,
            "width": null
          }
        },
        "96f89ce589554769a34af1897235e3bc": {
          "model_module": "@jupyter-widgets/controls",
          "model_name": "ProgressStyleModel",
          "model_module_version": "1.5.0",
          "state": {
            "_model_module": "@jupyter-widgets/controls",
            "_model_module_version": "1.5.0",
            "_model_name": "ProgressStyleModel",
            "_view_count": null,
            "_view_module": "@jupyter-widgets/base",
            "_view_module_version": "1.2.0",
            "_view_name": "StyleView",
            "bar_color": null,
            "description_width": ""
          }
        },
        "8a74f2dd833a4dae96a41f5d8579c486": {
          "model_module": "@jupyter-widgets/base",
          "model_name": "LayoutModel",
          "model_module_version": "1.2.0",
          "state": {
            "_model_module": "@jupyter-widgets/base",
            "_model_module_version": "1.2.0",
            "_model_name": "LayoutModel",
            "_view_count": null,
            "_view_module": "@jupyter-widgets/base",
            "_view_module_version": "1.2.0",
            "_view_name": "LayoutView",
            "align_content": null,
            "align_items": null,
            "align_self": null,
            "border": null,
            "bottom": null,
            "display": null,
            "flex": null,
            "flex_flow": null,
            "grid_area": null,
            "grid_auto_columns": null,
            "grid_auto_flow": null,
            "grid_auto_rows": null,
            "grid_column": null,
            "grid_gap": null,
            "grid_row": null,
            "grid_template_areas": null,
            "grid_template_columns": null,
            "grid_template_rows": null,
            "height": null,
            "justify_content": null,
            "justify_items": null,
            "left": null,
            "margin": null,
            "max_height": null,
            "max_width": null,
            "min_height": null,
            "min_width": null,
            "object_fit": null,
            "object_position": null,
            "order": null,
            "overflow": null,
            "overflow_x": null,
            "overflow_y": null,
            "padding": null,
            "right": null,
            "top": null,
            "visibility": null,
            "width": null
          }
        },
        "c2f1808b0de84fbebb025ffbedd827d3": {
          "model_module": "@jupyter-widgets/controls",
          "model_name": "DescriptionStyleModel",
          "model_module_version": "1.5.0",
          "state": {
            "_model_module": "@jupyter-widgets/controls",
            "_model_module_version": "1.5.0",
            "_model_name": "DescriptionStyleModel",
            "_view_count": null,
            "_view_module": "@jupyter-widgets/base",
            "_view_module_version": "1.2.0",
            "_view_name": "StyleView",
            "description_width": ""
          }
        }
      }
    }
  },
  "nbformat": 4,
  "nbformat_minor": 0
}