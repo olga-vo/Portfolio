{
  "cells": [
    {
      "cell_type": "markdown",
      "metadata": {
        "id": "ewjXTt5NmOLq"
      },
      "source": [
        "# Проект А/B тестирование"
      ]
    },
    {
      "cell_type": "markdown",
      "metadata": {
        "id": "MNCdQVMomg06"
      },
      "source": [
        "## Цель:\n",
        "проанализировать влияние изменения рекомендательной системы на конверсию в целевое действие для пользователей Европейского союза"
      ]
    },
    {
      "cell_type": "markdown",
      "metadata": {
        "id": "NeOKQkPMnJXH"
      },
      "source": [
        "## Задачи:\n",
        "\n",
        "\n",
        "*   оценить корректность проведения теста\n",
        "\n",
        "\n",
        "*   проанализировать результаты теста\n",
        "\n",
        "\n",
        "\n"
      ]
    },
    {
      "cell_type": "markdown",
      "metadata": {
        "id": "hn_v_QyHnlke"
      },
      "source": [
        "## Техническое задание:\n",
        "* Название теста: recommender_system_test;\n",
        "* Группы: А (контрольная), B (новая платёжная воронка);\n",
        "* Дата запуска: 2020-12-07;\n",
        "* Дата остановки набора новых пользователей: 2020-12-21;\n",
        "* Дата остановки: 2021-01-04;\n",
        "* Аудитория: 15% новых пользователей из региона EU;\n",
        "* Назначение теста: тестирование изменений, связанных с внедрением улучшенной рекомендательной системы;\n",
        "* Ожидаемое количество участников теста: 6000.\n",
        "* Ожидаемый эффект: за 14 дней с момента регистрации в системе пользователи покажут улучшение каждой метрики не менее, чем на 10%:\n",
        "конверсии в просмотр карточек товаров — событие product_page\n",
        "просмотры корзины — product_cart\n",
        "покупки — purchase."
      ]
    },
    {
      "cell_type": "markdown",
      "metadata": {
        "id": "yWl3TD5aqt7j"
      },
      "source": [
        "## 1. Предобработка данных"
      ]
    },
    {
      "cell_type": "code",
      "execution_count": 1,
      "metadata": {
        "colab": {
          "base_uri": "https://localhost:8080/"
        },
        "id": "2P9JyCpDZbP6",
        "outputId": "790a1026-608b-46c8-af4f-266d3870c201"
      },
      "outputs": [
        {
          "output_type": "stream",
          "name": "stdout",
          "text": [
            "Collecting plotly==5.7.0\n",
            "  Downloading plotly-5.7.0-py2.py3-none-any.whl (28.8 MB)\n",
            "\u001b[2K     \u001b[90m━━━━━━━━━━━━━━━━━━━━━━━━━━━━━━━━━━━━━━━━\u001b[0m \u001b[32m28.8/28.8 MB\u001b[0m \u001b[31m37.9 MB/s\u001b[0m eta \u001b[36m0:00:00\u001b[0m\n",
            "\u001b[?25hRequirement already satisfied: tenacity>=6.2.0 in /usr/local/lib/python3.10/dist-packages (from plotly==5.7.0) (8.2.3)\n",
            "Requirement already satisfied: six in /usr/local/lib/python3.10/dist-packages (from plotly==5.7.0) (1.16.0)\n",
            "Installing collected packages: plotly\n",
            "  Attempting uninstall: plotly\n",
            "    Found existing installation: plotly 5.15.0\n",
            "    Uninstalling plotly-5.15.0:\n",
            "      Successfully uninstalled plotly-5.15.0\n",
            "Successfully installed plotly-5.7.0\n"
          ]
        }
      ],
      "source": [
        "#обновляем библиотеку\n",
        "! pip install plotly==5.7.0"
      ]
    },
    {
      "cell_type": "code",
      "execution_count": 2,
      "metadata": {
        "id": "RfdrbEROIg7I"
      },
      "outputs": [],
      "source": [
        "# импортируем библиотеки\n",
        "import pandas as pd\n",
        "import scipy.stats as st\n",
        "import datetime as dt\n",
        "import numpy as np\n",
        "import matplotlib.pyplot as plt\n",
        "from pandas.plotting import register_matplotlib_converters\n",
        "import warnings\n",
        "warnings.filterwarnings('ignore')\n",
        "import seaborn as sns\n",
        "from plotly import graph_objects as go\n",
        "import plotly.express as px\n",
        "import math as mth\n",
        "from statsmodels.stats.multitest import multipletests\n",
        "from numpy import median\n",
        "import requests\n",
        "from tqdm import tqdm\n",
        "from tqdm.notebook import tqdm as tqdm_notebook\n",
        "# конвертеры, которые позволяют использовать типы pandas в matplotlib\n",
        "register_matplotlib_converters()"
      ]
    },
    {
      "cell_type": "code",
      "execution_count": 3,
      "metadata": {
        "colab": {
          "base_uri": "https://localhost:8080/",
          "height": 36
        },
        "id": "Jfe_xALcZbP9",
        "outputId": "c2bc2bb1-a12e-41ee-ce67-dc8a4af0bfa6"
      },
      "outputs": [
        {
          "output_type": "execute_result",
          "data": {
            "text/plain": [
              "'5.7.0'"
            ],
            "application/vnd.google.colaboratory.intrinsic+json": {
              "type": "string"
            }
          },
          "metadata": {},
          "execution_count": 3
        }
      ],
      "source": [
        "import plotly\n",
        "plotly.__version__"
      ]
    },
    {
      "cell_type": "code",
      "execution_count": 4,
      "metadata": {
        "id": "_GbWTthjspXe"
      },
      "outputs": [],
      "source": [
        "#задаем размеры графиков\n",
        "sns.set(rc={'figure.figsize':(12,6)})\n",
        "# определяем палитру\n",
        "sns.set_palette('pastel')\n",
        "# задаем стиль графиков\n",
        "sns.set_style('whitegrid')"
      ]
    },
    {
      "cell_type": "code",
      "execution_count": 5,
      "metadata": {
        "id": "Ekw05W5FOqMb"
      },
      "outputs": [],
      "source": [
        "# загружаем данные\n",
        "events, participants, new_users, marketing = (\n",
        "    pd.read_csv('/content/final_ab_events.csv'),\n",
        "    pd.read_csv('/content/final_ab_participants.csv'),\n",
        "    pd.read_csv('/content/final_ab_new_users.csv'),\n",
        "    pd.read_csv('/content/ab_project_marketing_events.csv')\n",
        "    )"
      ]
    },
    {
      "cell_type": "code",
      "execution_count": 6,
      "metadata": {
        "id": "NTL69SomTmu2"
      },
      "outputs": [],
      "source": [
        "# функция для изучения основной информации о данных, проверки на пропуски и дубликаты\n",
        "def data_info(data):\n",
        "    return (display(data.head()),\n",
        "           data.info(),\n",
        "           print('Количество пропусков:', data.isna().sum()),\n",
        "           print('Количество явных дубликатов:', data.duplicated().sum()),\n",
        "           print('Доля явных дубликатов', round((data.duplicated().sum()) / len(data) * 100, 2)))"
      ]
    },
    {
      "cell_type": "code",
      "execution_count": 7,
      "metadata": {
        "colab": {
          "base_uri": "https://localhost:8080/",
          "height": 536
        },
        "id": "vYZbfvJOYLDh",
        "outputId": "c95d8dc4-240c-4c34-c2ec-1012bb2a0d0f"
      },
      "outputs": [
        {
          "output_type": "display_data",
          "data": {
            "text/plain": [
              "            user_id             event_dt event_name  details\n",
              "0  E1BDDCE0DAFA2679  2020-12-07 20:22:03   purchase    99.99\n",
              "1  7B6452F081F49504  2020-12-07 09:22:53   purchase     9.99\n",
              "2  9CD9F34546DF254C  2020-12-07 12:59:29   purchase     4.99\n",
              "3  96F27A054B191457  2020-12-07 04:02:40   purchase     4.99\n",
              "4  1FD7660FDF94CA1F  2020-12-07 10:15:09   purchase     4.99"
            ],
            "text/html": [
              "\n",
              "  <div id=\"df-f4dfcb08-560a-4199-a180-d5e250a8d1f1\" class=\"colab-df-container\">\n",
              "    <div>\n",
              "<style scoped>\n",
              "    .dataframe tbody tr th:only-of-type {\n",
              "        vertical-align: middle;\n",
              "    }\n",
              "\n",
              "    .dataframe tbody tr th {\n",
              "        vertical-align: top;\n",
              "    }\n",
              "\n",
              "    .dataframe thead th {\n",
              "        text-align: right;\n",
              "    }\n",
              "</style>\n",
              "<table border=\"1\" class=\"dataframe\">\n",
              "  <thead>\n",
              "    <tr style=\"text-align: right;\">\n",
              "      <th></th>\n",
              "      <th>user_id</th>\n",
              "      <th>event_dt</th>\n",
              "      <th>event_name</th>\n",
              "      <th>details</th>\n",
              "    </tr>\n",
              "  </thead>\n",
              "  <tbody>\n",
              "    <tr>\n",
              "      <th>0</th>\n",
              "      <td>E1BDDCE0DAFA2679</td>\n",
              "      <td>2020-12-07 20:22:03</td>\n",
              "      <td>purchase</td>\n",
              "      <td>99.99</td>\n",
              "    </tr>\n",
              "    <tr>\n",
              "      <th>1</th>\n",
              "      <td>7B6452F081F49504</td>\n",
              "      <td>2020-12-07 09:22:53</td>\n",
              "      <td>purchase</td>\n",
              "      <td>9.99</td>\n",
              "    </tr>\n",
              "    <tr>\n",
              "      <th>2</th>\n",
              "      <td>9CD9F34546DF254C</td>\n",
              "      <td>2020-12-07 12:59:29</td>\n",
              "      <td>purchase</td>\n",
              "      <td>4.99</td>\n",
              "    </tr>\n",
              "    <tr>\n",
              "      <th>3</th>\n",
              "      <td>96F27A054B191457</td>\n",
              "      <td>2020-12-07 04:02:40</td>\n",
              "      <td>purchase</td>\n",
              "      <td>4.99</td>\n",
              "    </tr>\n",
              "    <tr>\n",
              "      <th>4</th>\n",
              "      <td>1FD7660FDF94CA1F</td>\n",
              "      <td>2020-12-07 10:15:09</td>\n",
              "      <td>purchase</td>\n",
              "      <td>4.99</td>\n",
              "    </tr>\n",
              "  </tbody>\n",
              "</table>\n",
              "</div>\n",
              "    <div class=\"colab-df-buttons\">\n",
              "\n",
              "  <div class=\"colab-df-container\">\n",
              "    <button class=\"colab-df-convert\" onclick=\"convertToInteractive('df-f4dfcb08-560a-4199-a180-d5e250a8d1f1')\"\n",
              "            title=\"Convert this dataframe to an interactive table.\"\n",
              "            style=\"display:none;\">\n",
              "\n",
              "  <svg xmlns=\"http://www.w3.org/2000/svg\" height=\"24px\" viewBox=\"0 -960 960 960\">\n",
              "    <path d=\"M120-120v-720h720v720H120Zm60-500h600v-160H180v160Zm220 220h160v-160H400v160Zm0 220h160v-160H400v160ZM180-400h160v-160H180v160Zm440 0h160v-160H620v160ZM180-180h160v-160H180v160Zm440 0h160v-160H620v160Z\"/>\n",
              "  </svg>\n",
              "    </button>\n",
              "\n",
              "  <style>\n",
              "    .colab-df-container {\n",
              "      display:flex;\n",
              "      gap: 12px;\n",
              "    }\n",
              "\n",
              "    .colab-df-convert {\n",
              "      background-color: #E8F0FE;\n",
              "      border: none;\n",
              "      border-radius: 50%;\n",
              "      cursor: pointer;\n",
              "      display: none;\n",
              "      fill: #1967D2;\n",
              "      height: 32px;\n",
              "      padding: 0 0 0 0;\n",
              "      width: 32px;\n",
              "    }\n",
              "\n",
              "    .colab-df-convert:hover {\n",
              "      background-color: #E2EBFA;\n",
              "      box-shadow: 0px 1px 2px rgba(60, 64, 67, 0.3), 0px 1px 3px 1px rgba(60, 64, 67, 0.15);\n",
              "      fill: #174EA6;\n",
              "    }\n",
              "\n",
              "    .colab-df-buttons div {\n",
              "      margin-bottom: 4px;\n",
              "    }\n",
              "\n",
              "    [theme=dark] .colab-df-convert {\n",
              "      background-color: #3B4455;\n",
              "      fill: #D2E3FC;\n",
              "    }\n",
              "\n",
              "    [theme=dark] .colab-df-convert:hover {\n",
              "      background-color: #434B5C;\n",
              "      box-shadow: 0px 1px 3px 1px rgba(0, 0, 0, 0.15);\n",
              "      filter: drop-shadow(0px 1px 2px rgba(0, 0, 0, 0.3));\n",
              "      fill: #FFFFFF;\n",
              "    }\n",
              "  </style>\n",
              "\n",
              "    <script>\n",
              "      const buttonEl =\n",
              "        document.querySelector('#df-f4dfcb08-560a-4199-a180-d5e250a8d1f1 button.colab-df-convert');\n",
              "      buttonEl.style.display =\n",
              "        google.colab.kernel.accessAllowed ? 'block' : 'none';\n",
              "\n",
              "      async function convertToInteractive(key) {\n",
              "        const element = document.querySelector('#df-f4dfcb08-560a-4199-a180-d5e250a8d1f1');\n",
              "        const dataTable =\n",
              "          await google.colab.kernel.invokeFunction('convertToInteractive',\n",
              "                                                    [key], {});\n",
              "        if (!dataTable) return;\n",
              "\n",
              "        const docLinkHtml = 'Like what you see? Visit the ' +\n",
              "          '<a target=\"_blank\" href=https://colab.research.google.com/notebooks/data_table.ipynb>data table notebook</a>'\n",
              "          + ' to learn more about interactive tables.';\n",
              "        element.innerHTML = '';\n",
              "        dataTable['output_type'] = 'display_data';\n",
              "        await google.colab.output.renderOutput(dataTable, element);\n",
              "        const docLink = document.createElement('div');\n",
              "        docLink.innerHTML = docLinkHtml;\n",
              "        element.appendChild(docLink);\n",
              "      }\n",
              "    </script>\n",
              "  </div>\n",
              "\n",
              "\n",
              "<div id=\"df-7f559053-3e83-477a-9733-c2151c6f8ecc\">\n",
              "  <button class=\"colab-df-quickchart\" onclick=\"quickchart('df-7f559053-3e83-477a-9733-c2151c6f8ecc')\"\n",
              "            title=\"Suggest charts.\"\n",
              "            style=\"display:none;\">\n",
              "\n",
              "<svg xmlns=\"http://www.w3.org/2000/svg\" height=\"24px\"viewBox=\"0 0 24 24\"\n",
              "     width=\"24px\">\n",
              "    <g>\n",
              "        <path d=\"M19 3H5c-1.1 0-2 .9-2 2v14c0 1.1.9 2 2 2h14c1.1 0 2-.9 2-2V5c0-1.1-.9-2-2-2zM9 17H7v-7h2v7zm4 0h-2V7h2v10zm4 0h-2v-4h2v4z\"/>\n",
              "    </g>\n",
              "</svg>\n",
              "  </button>\n",
              "\n",
              "<style>\n",
              "  .colab-df-quickchart {\n",
              "    background-color: #E8F0FE;\n",
              "    border: none;\n",
              "    border-radius: 50%;\n",
              "    cursor: pointer;\n",
              "    display: none;\n",
              "    fill: #1967D2;\n",
              "    height: 32px;\n",
              "    padding: 0 0 0 0;\n",
              "    width: 32px;\n",
              "  }\n",
              "\n",
              "  .colab-df-quickchart:hover {\n",
              "    background-color: #E2EBFA;\n",
              "    box-shadow: 0px 1px 2px rgba(60, 64, 67, 0.3), 0px 1px 3px 1px rgba(60, 64, 67, 0.15);\n",
              "    fill: #174EA6;\n",
              "  }\n",
              "\n",
              "  [theme=dark] .colab-df-quickchart {\n",
              "    background-color: #3B4455;\n",
              "    fill: #D2E3FC;\n",
              "  }\n",
              "\n",
              "  [theme=dark] .colab-df-quickchart:hover {\n",
              "    background-color: #434B5C;\n",
              "    box-shadow: 0px 1px 3px 1px rgba(0, 0, 0, 0.15);\n",
              "    filter: drop-shadow(0px 1px 2px rgba(0, 0, 0, 0.3));\n",
              "    fill: #FFFFFF;\n",
              "  }\n",
              "</style>\n",
              "\n",
              "  <script>\n",
              "    async function quickchart(key) {\n",
              "      const charts = await google.colab.kernel.invokeFunction(\n",
              "          'suggestCharts', [key], {});\n",
              "    }\n",
              "    (() => {\n",
              "      let quickchartButtonEl =\n",
              "        document.querySelector('#df-7f559053-3e83-477a-9733-c2151c6f8ecc button');\n",
              "      quickchartButtonEl.style.display =\n",
              "        google.colab.kernel.accessAllowed ? 'block' : 'none';\n",
              "    })();\n",
              "  </script>\n",
              "</div>\n",
              "    </div>\n",
              "  </div>\n"
            ]
          },
          "metadata": {}
        },
        {
          "output_type": "stream",
          "name": "stdout",
          "text": [
            "<class 'pandas.core.frame.DataFrame'>\n",
            "RangeIndex: 440317 entries, 0 to 440316\n",
            "Data columns (total 4 columns):\n",
            " #   Column      Non-Null Count   Dtype  \n",
            "---  ------      --------------   -----  \n",
            " 0   user_id     440317 non-null  object \n",
            " 1   event_dt    440317 non-null  object \n",
            " 2   event_name  440317 non-null  object \n",
            " 3   details     62740 non-null   float64\n",
            "dtypes: float64(1), object(3)\n",
            "memory usage: 13.4+ MB\n",
            "Количество пропусков: user_id            0\n",
            "event_dt           0\n",
            "event_name         0\n",
            "details       377577\n",
            "dtype: int64\n",
            "Количество явных дубликатов: 0\n",
            "Доля явных дубликатов 0.0\n"
          ]
        },
        {
          "output_type": "execute_result",
          "data": {
            "text/plain": [
              "(None, None, None, None, None)"
            ]
          },
          "metadata": {},
          "execution_count": 7
        }
      ],
      "source": [
        "data_info(events)"
      ]
    },
    {
      "cell_type": "code",
      "execution_count": 8,
      "metadata": {
        "colab": {
          "base_uri": "https://localhost:8080/"
        },
        "id": "unf-iJTLa8bS",
        "outputId": "0080c34f-645d-429d-e86d-16c4c1563c1d"
      },
      "outputs": [
        {
          "output_type": "execute_result",
          "data": {
            "text/plain": [
              "login           189552\n",
              "product_page    125563\n",
              "purchase         62740\n",
              "product_cart     62462\n",
              "Name: event_name, dtype: int64"
            ]
          },
          "metadata": {},
          "execution_count": 8
        }
      ],
      "source": [
        "# уникальные события в данных\n",
        "events['event_name'].value_counts()"
      ]
    },
    {
      "cell_type": "code",
      "execution_count": 9,
      "metadata": {
        "colab": {
          "base_uri": "https://localhost:8080/"
        },
        "id": "diY7j9VAdho1",
        "outputId": "f4d506df-6411-45cb-c147-a965976f429f"
      },
      "outputs": [
        {
          "output_type": "execute_result",
          "data": {
            "text/plain": [
              "4.99      46362\n",
              "9.99       9530\n",
              "99.99      5631\n",
              "499.99     1217\n",
              "Name: details, dtype: int64"
            ]
          },
          "metadata": {},
          "execution_count": 9
        }
      ],
      "source": [
        "# значения в столюце details\n",
        "events['details'].value_counts()"
      ]
    },
    {
      "cell_type": "code",
      "execution_count": 10,
      "metadata": {
        "id": "bZj_GWk-t234"
      },
      "outputs": [],
      "source": [
        "# преобразование данных о времени и дате\n",
        "events['event_dt'] = pd.to_datetime(events['event_dt'])"
      ]
    },
    {
      "cell_type": "markdown",
      "metadata": {
        "id": "0s6ZWDalcTYw"
      },
      "source": [
        "В данных по событиям явных дубликатов нет. Пропуски только в столбце c доп. данными о событиях, так как в нем, как видим, только информация о стоимости покупки для события purchase, которой нет у других категорий событий. Столбец с датой и временем приведен к соответствующему формату"
      ]
    },
    {
      "cell_type": "code",
      "execution_count": 11,
      "metadata": {
        "colab": {
          "base_uri": "https://localhost:8080/",
          "height": 501
        },
        "id": "eD_WyNmqd0pN",
        "outputId": "8aa7ff5d-d449-4286-86eb-1bc677d4f91f"
      },
      "outputs": [
        {
          "output_type": "display_data",
          "data": {
            "text/plain": [
              "            user_id group                  ab_test\n",
              "0  D1ABA3E2887B6A73     A  recommender_system_test\n",
              "1  A7A3664BD6242119     A  recommender_system_test\n",
              "2  DABC14FDDFADD29E     A  recommender_system_test\n",
              "3  04988C5DF189632E     A  recommender_system_test\n",
              "4  482F14783456D21B     B  recommender_system_test"
            ],
            "text/html": [
              "\n",
              "  <div id=\"df-70ca5784-042f-4d65-8364-5a76c9c3a08f\" class=\"colab-df-container\">\n",
              "    <div>\n",
              "<style scoped>\n",
              "    .dataframe tbody tr th:only-of-type {\n",
              "        vertical-align: middle;\n",
              "    }\n",
              "\n",
              "    .dataframe tbody tr th {\n",
              "        vertical-align: top;\n",
              "    }\n",
              "\n",
              "    .dataframe thead th {\n",
              "        text-align: right;\n",
              "    }\n",
              "</style>\n",
              "<table border=\"1\" class=\"dataframe\">\n",
              "  <thead>\n",
              "    <tr style=\"text-align: right;\">\n",
              "      <th></th>\n",
              "      <th>user_id</th>\n",
              "      <th>group</th>\n",
              "      <th>ab_test</th>\n",
              "    </tr>\n",
              "  </thead>\n",
              "  <tbody>\n",
              "    <tr>\n",
              "      <th>0</th>\n",
              "      <td>D1ABA3E2887B6A73</td>\n",
              "      <td>A</td>\n",
              "      <td>recommender_system_test</td>\n",
              "    </tr>\n",
              "    <tr>\n",
              "      <th>1</th>\n",
              "      <td>A7A3664BD6242119</td>\n",
              "      <td>A</td>\n",
              "      <td>recommender_system_test</td>\n",
              "    </tr>\n",
              "    <tr>\n",
              "      <th>2</th>\n",
              "      <td>DABC14FDDFADD29E</td>\n",
              "      <td>A</td>\n",
              "      <td>recommender_system_test</td>\n",
              "    </tr>\n",
              "    <tr>\n",
              "      <th>3</th>\n",
              "      <td>04988C5DF189632E</td>\n",
              "      <td>A</td>\n",
              "      <td>recommender_system_test</td>\n",
              "    </tr>\n",
              "    <tr>\n",
              "      <th>4</th>\n",
              "      <td>482F14783456D21B</td>\n",
              "      <td>B</td>\n",
              "      <td>recommender_system_test</td>\n",
              "    </tr>\n",
              "  </tbody>\n",
              "</table>\n",
              "</div>\n",
              "    <div class=\"colab-df-buttons\">\n",
              "\n",
              "  <div class=\"colab-df-container\">\n",
              "    <button class=\"colab-df-convert\" onclick=\"convertToInteractive('df-70ca5784-042f-4d65-8364-5a76c9c3a08f')\"\n",
              "            title=\"Convert this dataframe to an interactive table.\"\n",
              "            style=\"display:none;\">\n",
              "\n",
              "  <svg xmlns=\"http://www.w3.org/2000/svg\" height=\"24px\" viewBox=\"0 -960 960 960\">\n",
              "    <path d=\"M120-120v-720h720v720H120Zm60-500h600v-160H180v160Zm220 220h160v-160H400v160Zm0 220h160v-160H400v160ZM180-400h160v-160H180v160Zm440 0h160v-160H620v160ZM180-180h160v-160H180v160Zm440 0h160v-160H620v160Z\"/>\n",
              "  </svg>\n",
              "    </button>\n",
              "\n",
              "  <style>\n",
              "    .colab-df-container {\n",
              "      display:flex;\n",
              "      gap: 12px;\n",
              "    }\n",
              "\n",
              "    .colab-df-convert {\n",
              "      background-color: #E8F0FE;\n",
              "      border: none;\n",
              "      border-radius: 50%;\n",
              "      cursor: pointer;\n",
              "      display: none;\n",
              "      fill: #1967D2;\n",
              "      height: 32px;\n",
              "      padding: 0 0 0 0;\n",
              "      width: 32px;\n",
              "    }\n",
              "\n",
              "    .colab-df-convert:hover {\n",
              "      background-color: #E2EBFA;\n",
              "      box-shadow: 0px 1px 2px rgba(60, 64, 67, 0.3), 0px 1px 3px 1px rgba(60, 64, 67, 0.15);\n",
              "      fill: #174EA6;\n",
              "    }\n",
              "\n",
              "    .colab-df-buttons div {\n",
              "      margin-bottom: 4px;\n",
              "    }\n",
              "\n",
              "    [theme=dark] .colab-df-convert {\n",
              "      background-color: #3B4455;\n",
              "      fill: #D2E3FC;\n",
              "    }\n",
              "\n",
              "    [theme=dark] .colab-df-convert:hover {\n",
              "      background-color: #434B5C;\n",
              "      box-shadow: 0px 1px 3px 1px rgba(0, 0, 0, 0.15);\n",
              "      filter: drop-shadow(0px 1px 2px rgba(0, 0, 0, 0.3));\n",
              "      fill: #FFFFFF;\n",
              "    }\n",
              "  </style>\n",
              "\n",
              "    <script>\n",
              "      const buttonEl =\n",
              "        document.querySelector('#df-70ca5784-042f-4d65-8364-5a76c9c3a08f button.colab-df-convert');\n",
              "      buttonEl.style.display =\n",
              "        google.colab.kernel.accessAllowed ? 'block' : 'none';\n",
              "\n",
              "      async function convertToInteractive(key) {\n",
              "        const element = document.querySelector('#df-70ca5784-042f-4d65-8364-5a76c9c3a08f');\n",
              "        const dataTable =\n",
              "          await google.colab.kernel.invokeFunction('convertToInteractive',\n",
              "                                                    [key], {});\n",
              "        if (!dataTable) return;\n",
              "\n",
              "        const docLinkHtml = 'Like what you see? Visit the ' +\n",
              "          '<a target=\"_blank\" href=https://colab.research.google.com/notebooks/data_table.ipynb>data table notebook</a>'\n",
              "          + ' to learn more about interactive tables.';\n",
              "        element.innerHTML = '';\n",
              "        dataTable['output_type'] = 'display_data';\n",
              "        await google.colab.output.renderOutput(dataTable, element);\n",
              "        const docLink = document.createElement('div');\n",
              "        docLink.innerHTML = docLinkHtml;\n",
              "        element.appendChild(docLink);\n",
              "      }\n",
              "    </script>\n",
              "  </div>\n",
              "\n",
              "\n",
              "<div id=\"df-50e7c159-f6ba-4daa-8616-324b44d9ec4c\">\n",
              "  <button class=\"colab-df-quickchart\" onclick=\"quickchart('df-50e7c159-f6ba-4daa-8616-324b44d9ec4c')\"\n",
              "            title=\"Suggest charts.\"\n",
              "            style=\"display:none;\">\n",
              "\n",
              "<svg xmlns=\"http://www.w3.org/2000/svg\" height=\"24px\"viewBox=\"0 0 24 24\"\n",
              "     width=\"24px\">\n",
              "    <g>\n",
              "        <path d=\"M19 3H5c-1.1 0-2 .9-2 2v14c0 1.1.9 2 2 2h14c1.1 0 2-.9 2-2V5c0-1.1-.9-2-2-2zM9 17H7v-7h2v7zm4 0h-2V7h2v10zm4 0h-2v-4h2v4z\"/>\n",
              "    </g>\n",
              "</svg>\n",
              "  </button>\n",
              "\n",
              "<style>\n",
              "  .colab-df-quickchart {\n",
              "    background-color: #E8F0FE;\n",
              "    border: none;\n",
              "    border-radius: 50%;\n",
              "    cursor: pointer;\n",
              "    display: none;\n",
              "    fill: #1967D2;\n",
              "    height: 32px;\n",
              "    padding: 0 0 0 0;\n",
              "    width: 32px;\n",
              "  }\n",
              "\n",
              "  .colab-df-quickchart:hover {\n",
              "    background-color: #E2EBFA;\n",
              "    box-shadow: 0px 1px 2px rgba(60, 64, 67, 0.3), 0px 1px 3px 1px rgba(60, 64, 67, 0.15);\n",
              "    fill: #174EA6;\n",
              "  }\n",
              "\n",
              "  [theme=dark] .colab-df-quickchart {\n",
              "    background-color: #3B4455;\n",
              "    fill: #D2E3FC;\n",
              "  }\n",
              "\n",
              "  [theme=dark] .colab-df-quickchart:hover {\n",
              "    background-color: #434B5C;\n",
              "    box-shadow: 0px 1px 3px 1px rgba(0, 0, 0, 0.15);\n",
              "    filter: drop-shadow(0px 1px 2px rgba(0, 0, 0, 0.3));\n",
              "    fill: #FFFFFF;\n",
              "  }\n",
              "</style>\n",
              "\n",
              "  <script>\n",
              "    async function quickchart(key) {\n",
              "      const charts = await google.colab.kernel.invokeFunction(\n",
              "          'suggestCharts', [key], {});\n",
              "    }\n",
              "    (() => {\n",
              "      let quickchartButtonEl =\n",
              "        document.querySelector('#df-50e7c159-f6ba-4daa-8616-324b44d9ec4c button');\n",
              "      quickchartButtonEl.style.display =\n",
              "        google.colab.kernel.accessAllowed ? 'block' : 'none';\n",
              "    })();\n",
              "  </script>\n",
              "</div>\n",
              "    </div>\n",
              "  </div>\n"
            ]
          },
          "metadata": {}
        },
        {
          "output_type": "stream",
          "name": "stdout",
          "text": [
            "<class 'pandas.core.frame.DataFrame'>\n",
            "RangeIndex: 18268 entries, 0 to 18267\n",
            "Data columns (total 3 columns):\n",
            " #   Column   Non-Null Count  Dtype \n",
            "---  ------   --------------  ----- \n",
            " 0   user_id  18268 non-null  object\n",
            " 1   group    18268 non-null  object\n",
            " 2   ab_test  18268 non-null  object\n",
            "dtypes: object(3)\n",
            "memory usage: 428.3+ KB\n",
            "Количество пропусков: user_id    0\n",
            "group      0\n",
            "ab_test    0\n",
            "dtype: int64\n",
            "Количество явных дубликатов: 0\n",
            "Доля явных дубликатов 0.0\n"
          ]
        },
        {
          "output_type": "execute_result",
          "data": {
            "text/plain": [
              "(None, None, None, None, None)"
            ]
          },
          "metadata": {},
          "execution_count": 11
        }
      ],
      "source": [
        "data_info(participants)"
      ]
    },
    {
      "cell_type": "markdown",
      "metadata": {
        "id": "um0xTi20tBkJ"
      },
      "source": [
        "В таблице участников теста явных дубликатов и пропусков нет. Здесь в данных 2 группы участников теста и 2 вида теста"
      ]
    },
    {
      "cell_type": "code",
      "execution_count": 12,
      "metadata": {
        "colab": {
          "base_uri": "https://localhost:8080/",
          "height": 536
        },
        "id": "lD0O2c469AO3",
        "outputId": "59dca76d-37cc-4bd2-fced-aaefbc96ee88"
      },
      "outputs": [
        {
          "output_type": "display_data",
          "data": {
            "text/plain": [
              "            user_id  first_date     region   device\n",
              "0  D72A72121175D8BE  2020-12-07         EU       PC\n",
              "1  F1C668619DFE6E65  2020-12-07  N.America  Android\n",
              "2  2E1BF1D4C37EA01F  2020-12-07         EU       PC\n",
              "3  50734A22C0C63768  2020-12-07         EU   iPhone\n",
              "4  E1BDDCE0DAFA2679  2020-12-07  N.America   iPhone"
            ],
            "text/html": [
              "\n",
              "  <div id=\"df-8e3b5503-34cd-4d3b-a7b6-2dc1ebc237e2\" class=\"colab-df-container\">\n",
              "    <div>\n",
              "<style scoped>\n",
              "    .dataframe tbody tr th:only-of-type {\n",
              "        vertical-align: middle;\n",
              "    }\n",
              "\n",
              "    .dataframe tbody tr th {\n",
              "        vertical-align: top;\n",
              "    }\n",
              "\n",
              "    .dataframe thead th {\n",
              "        text-align: right;\n",
              "    }\n",
              "</style>\n",
              "<table border=\"1\" class=\"dataframe\">\n",
              "  <thead>\n",
              "    <tr style=\"text-align: right;\">\n",
              "      <th></th>\n",
              "      <th>user_id</th>\n",
              "      <th>first_date</th>\n",
              "      <th>region</th>\n",
              "      <th>device</th>\n",
              "    </tr>\n",
              "  </thead>\n",
              "  <tbody>\n",
              "    <tr>\n",
              "      <th>0</th>\n",
              "      <td>D72A72121175D8BE</td>\n",
              "      <td>2020-12-07</td>\n",
              "      <td>EU</td>\n",
              "      <td>PC</td>\n",
              "    </tr>\n",
              "    <tr>\n",
              "      <th>1</th>\n",
              "      <td>F1C668619DFE6E65</td>\n",
              "      <td>2020-12-07</td>\n",
              "      <td>N.America</td>\n",
              "      <td>Android</td>\n",
              "    </tr>\n",
              "    <tr>\n",
              "      <th>2</th>\n",
              "      <td>2E1BF1D4C37EA01F</td>\n",
              "      <td>2020-12-07</td>\n",
              "      <td>EU</td>\n",
              "      <td>PC</td>\n",
              "    </tr>\n",
              "    <tr>\n",
              "      <th>3</th>\n",
              "      <td>50734A22C0C63768</td>\n",
              "      <td>2020-12-07</td>\n",
              "      <td>EU</td>\n",
              "      <td>iPhone</td>\n",
              "    </tr>\n",
              "    <tr>\n",
              "      <th>4</th>\n",
              "      <td>E1BDDCE0DAFA2679</td>\n",
              "      <td>2020-12-07</td>\n",
              "      <td>N.America</td>\n",
              "      <td>iPhone</td>\n",
              "    </tr>\n",
              "  </tbody>\n",
              "</table>\n",
              "</div>\n",
              "    <div class=\"colab-df-buttons\">\n",
              "\n",
              "  <div class=\"colab-df-container\">\n",
              "    <button class=\"colab-df-convert\" onclick=\"convertToInteractive('df-8e3b5503-34cd-4d3b-a7b6-2dc1ebc237e2')\"\n",
              "            title=\"Convert this dataframe to an interactive table.\"\n",
              "            style=\"display:none;\">\n",
              "\n",
              "  <svg xmlns=\"http://www.w3.org/2000/svg\" height=\"24px\" viewBox=\"0 -960 960 960\">\n",
              "    <path d=\"M120-120v-720h720v720H120Zm60-500h600v-160H180v160Zm220 220h160v-160H400v160Zm0 220h160v-160H400v160ZM180-400h160v-160H180v160Zm440 0h160v-160H620v160ZM180-180h160v-160H180v160Zm440 0h160v-160H620v160Z\"/>\n",
              "  </svg>\n",
              "    </button>\n",
              "\n",
              "  <style>\n",
              "    .colab-df-container {\n",
              "      display:flex;\n",
              "      gap: 12px;\n",
              "    }\n",
              "\n",
              "    .colab-df-convert {\n",
              "      background-color: #E8F0FE;\n",
              "      border: none;\n",
              "      border-radius: 50%;\n",
              "      cursor: pointer;\n",
              "      display: none;\n",
              "      fill: #1967D2;\n",
              "      height: 32px;\n",
              "      padding: 0 0 0 0;\n",
              "      width: 32px;\n",
              "    }\n",
              "\n",
              "    .colab-df-convert:hover {\n",
              "      background-color: #E2EBFA;\n",
              "      box-shadow: 0px 1px 2px rgba(60, 64, 67, 0.3), 0px 1px 3px 1px rgba(60, 64, 67, 0.15);\n",
              "      fill: #174EA6;\n",
              "    }\n",
              "\n",
              "    .colab-df-buttons div {\n",
              "      margin-bottom: 4px;\n",
              "    }\n",
              "\n",
              "    [theme=dark] .colab-df-convert {\n",
              "      background-color: #3B4455;\n",
              "      fill: #D2E3FC;\n",
              "    }\n",
              "\n",
              "    [theme=dark] .colab-df-convert:hover {\n",
              "      background-color: #434B5C;\n",
              "      box-shadow: 0px 1px 3px 1px rgba(0, 0, 0, 0.15);\n",
              "      filter: drop-shadow(0px 1px 2px rgba(0, 0, 0, 0.3));\n",
              "      fill: #FFFFFF;\n",
              "    }\n",
              "  </style>\n",
              "\n",
              "    <script>\n",
              "      const buttonEl =\n",
              "        document.querySelector('#df-8e3b5503-34cd-4d3b-a7b6-2dc1ebc237e2 button.colab-df-convert');\n",
              "      buttonEl.style.display =\n",
              "        google.colab.kernel.accessAllowed ? 'block' : 'none';\n",
              "\n",
              "      async function convertToInteractive(key) {\n",
              "        const element = document.querySelector('#df-8e3b5503-34cd-4d3b-a7b6-2dc1ebc237e2');\n",
              "        const dataTable =\n",
              "          await google.colab.kernel.invokeFunction('convertToInteractive',\n",
              "                                                    [key], {});\n",
              "        if (!dataTable) return;\n",
              "\n",
              "        const docLinkHtml = 'Like what you see? Visit the ' +\n",
              "          '<a target=\"_blank\" href=https://colab.research.google.com/notebooks/data_table.ipynb>data table notebook</a>'\n",
              "          + ' to learn more about interactive tables.';\n",
              "        element.innerHTML = '';\n",
              "        dataTable['output_type'] = 'display_data';\n",
              "        await google.colab.output.renderOutput(dataTable, element);\n",
              "        const docLink = document.createElement('div');\n",
              "        docLink.innerHTML = docLinkHtml;\n",
              "        element.appendChild(docLink);\n",
              "      }\n",
              "    </script>\n",
              "  </div>\n",
              "\n",
              "\n",
              "<div id=\"df-722d7931-8aa8-4b13-a335-053d449ccd74\">\n",
              "  <button class=\"colab-df-quickchart\" onclick=\"quickchart('df-722d7931-8aa8-4b13-a335-053d449ccd74')\"\n",
              "            title=\"Suggest charts.\"\n",
              "            style=\"display:none;\">\n",
              "\n",
              "<svg xmlns=\"http://www.w3.org/2000/svg\" height=\"24px\"viewBox=\"0 0 24 24\"\n",
              "     width=\"24px\">\n",
              "    <g>\n",
              "        <path d=\"M19 3H5c-1.1 0-2 .9-2 2v14c0 1.1.9 2 2 2h14c1.1 0 2-.9 2-2V5c0-1.1-.9-2-2-2zM9 17H7v-7h2v7zm4 0h-2V7h2v10zm4 0h-2v-4h2v4z\"/>\n",
              "    </g>\n",
              "</svg>\n",
              "  </button>\n",
              "\n",
              "<style>\n",
              "  .colab-df-quickchart {\n",
              "    background-color: #E8F0FE;\n",
              "    border: none;\n",
              "    border-radius: 50%;\n",
              "    cursor: pointer;\n",
              "    display: none;\n",
              "    fill: #1967D2;\n",
              "    height: 32px;\n",
              "    padding: 0 0 0 0;\n",
              "    width: 32px;\n",
              "  }\n",
              "\n",
              "  .colab-df-quickchart:hover {\n",
              "    background-color: #E2EBFA;\n",
              "    box-shadow: 0px 1px 2px rgba(60, 64, 67, 0.3), 0px 1px 3px 1px rgba(60, 64, 67, 0.15);\n",
              "    fill: #174EA6;\n",
              "  }\n",
              "\n",
              "  [theme=dark] .colab-df-quickchart {\n",
              "    background-color: #3B4455;\n",
              "    fill: #D2E3FC;\n",
              "  }\n",
              "\n",
              "  [theme=dark] .colab-df-quickchart:hover {\n",
              "    background-color: #434B5C;\n",
              "    box-shadow: 0px 1px 3px 1px rgba(0, 0, 0, 0.15);\n",
              "    filter: drop-shadow(0px 1px 2px rgba(0, 0, 0, 0.3));\n",
              "    fill: #FFFFFF;\n",
              "  }\n",
              "</style>\n",
              "\n",
              "  <script>\n",
              "    async function quickchart(key) {\n",
              "      const charts = await google.colab.kernel.invokeFunction(\n",
              "          'suggestCharts', [key], {});\n",
              "    }\n",
              "    (() => {\n",
              "      let quickchartButtonEl =\n",
              "        document.querySelector('#df-722d7931-8aa8-4b13-a335-053d449ccd74 button');\n",
              "      quickchartButtonEl.style.display =\n",
              "        google.colab.kernel.accessAllowed ? 'block' : 'none';\n",
              "    })();\n",
              "  </script>\n",
              "</div>\n",
              "    </div>\n",
              "  </div>\n"
            ]
          },
          "metadata": {}
        },
        {
          "output_type": "stream",
          "name": "stdout",
          "text": [
            "<class 'pandas.core.frame.DataFrame'>\n",
            "RangeIndex: 61733 entries, 0 to 61732\n",
            "Data columns (total 4 columns):\n",
            " #   Column      Non-Null Count  Dtype \n",
            "---  ------      --------------  ----- \n",
            " 0   user_id     61733 non-null  object\n",
            " 1   first_date  61733 non-null  object\n",
            " 2   region      61733 non-null  object\n",
            " 3   device      61733 non-null  object\n",
            "dtypes: object(4)\n",
            "memory usage: 1.9+ MB\n",
            "Количество пропусков: user_id       0\n",
            "first_date    0\n",
            "region        0\n",
            "device        0\n",
            "dtype: int64\n",
            "Количество явных дубликатов: 0\n",
            "Доля явных дубликатов 0.0\n"
          ]
        },
        {
          "output_type": "execute_result",
          "data": {
            "text/plain": [
              "(None, None, None, None, None)"
            ]
          },
          "metadata": {},
          "execution_count": 12
        }
      ],
      "source": [
        "data_info(new_users)"
      ]
    },
    {
      "cell_type": "code",
      "execution_count": 13,
      "metadata": {
        "id": "Er_CbLVx-I2o"
      },
      "outputs": [],
      "source": [
        "# преобразование даты в нужный формат\n",
        "new_users['first_date'] = pd.to_datetime(new_users['first_date'])"
      ]
    },
    {
      "cell_type": "markdown",
      "metadata": {
        "id": "BtoZwLbR9Urm"
      },
      "source": [
        "В данном датафрейме пропусков и явных дубликатов нет. Столбец с датой преобразован в соответствующий формат"
      ]
    },
    {
      "cell_type": "code",
      "execution_count": 14,
      "metadata": {
        "colab": {
          "base_uri": "https://localhost:8080/",
          "height": 536
        },
        "id": "nzl0k7B1-w99",
        "outputId": "27b31a1b-92ed-4326-97ab-b60caaf5e98a"
      },
      "outputs": [
        {
          "output_type": "display_data",
          "data": {
            "text/plain": [
              "                           name                   regions    start_dt  \\\n",
              "0      Christmas&New Year Promo             EU, N.America  2020-12-25   \n",
              "1  St. Valentine's Day Giveaway  EU, CIS, APAC, N.America  2020-02-14   \n",
              "2        St. Patric's Day Promo             EU, N.America  2020-03-17   \n",
              "3                  Easter Promo  EU, CIS, APAC, N.America  2020-04-12   \n",
              "4             4th of July Promo                 N.America  2020-07-04   \n",
              "\n",
              "    finish_dt  \n",
              "0  2021-01-03  \n",
              "1  2020-02-16  \n",
              "2  2020-03-19  \n",
              "3  2020-04-19  \n",
              "4  2020-07-11  "
            ],
            "text/html": [
              "\n",
              "  <div id=\"df-2ceeb401-c7c2-4347-8f18-b4fe43d44c3e\" class=\"colab-df-container\">\n",
              "    <div>\n",
              "<style scoped>\n",
              "    .dataframe tbody tr th:only-of-type {\n",
              "        vertical-align: middle;\n",
              "    }\n",
              "\n",
              "    .dataframe tbody tr th {\n",
              "        vertical-align: top;\n",
              "    }\n",
              "\n",
              "    .dataframe thead th {\n",
              "        text-align: right;\n",
              "    }\n",
              "</style>\n",
              "<table border=\"1\" class=\"dataframe\">\n",
              "  <thead>\n",
              "    <tr style=\"text-align: right;\">\n",
              "      <th></th>\n",
              "      <th>name</th>\n",
              "      <th>regions</th>\n",
              "      <th>start_dt</th>\n",
              "      <th>finish_dt</th>\n",
              "    </tr>\n",
              "  </thead>\n",
              "  <tbody>\n",
              "    <tr>\n",
              "      <th>0</th>\n",
              "      <td>Christmas&amp;New Year Promo</td>\n",
              "      <td>EU, N.America</td>\n",
              "      <td>2020-12-25</td>\n",
              "      <td>2021-01-03</td>\n",
              "    </tr>\n",
              "    <tr>\n",
              "      <th>1</th>\n",
              "      <td>St. Valentine's Day Giveaway</td>\n",
              "      <td>EU, CIS, APAC, N.America</td>\n",
              "      <td>2020-02-14</td>\n",
              "      <td>2020-02-16</td>\n",
              "    </tr>\n",
              "    <tr>\n",
              "      <th>2</th>\n",
              "      <td>St. Patric's Day Promo</td>\n",
              "      <td>EU, N.America</td>\n",
              "      <td>2020-03-17</td>\n",
              "      <td>2020-03-19</td>\n",
              "    </tr>\n",
              "    <tr>\n",
              "      <th>3</th>\n",
              "      <td>Easter Promo</td>\n",
              "      <td>EU, CIS, APAC, N.America</td>\n",
              "      <td>2020-04-12</td>\n",
              "      <td>2020-04-19</td>\n",
              "    </tr>\n",
              "    <tr>\n",
              "      <th>4</th>\n",
              "      <td>4th of July Promo</td>\n",
              "      <td>N.America</td>\n",
              "      <td>2020-07-04</td>\n",
              "      <td>2020-07-11</td>\n",
              "    </tr>\n",
              "  </tbody>\n",
              "</table>\n",
              "</div>\n",
              "    <div class=\"colab-df-buttons\">\n",
              "\n",
              "  <div class=\"colab-df-container\">\n",
              "    <button class=\"colab-df-convert\" onclick=\"convertToInteractive('df-2ceeb401-c7c2-4347-8f18-b4fe43d44c3e')\"\n",
              "            title=\"Convert this dataframe to an interactive table.\"\n",
              "            style=\"display:none;\">\n",
              "\n",
              "  <svg xmlns=\"http://www.w3.org/2000/svg\" height=\"24px\" viewBox=\"0 -960 960 960\">\n",
              "    <path d=\"M120-120v-720h720v720H120Zm60-500h600v-160H180v160Zm220 220h160v-160H400v160Zm0 220h160v-160H400v160ZM180-400h160v-160H180v160Zm440 0h160v-160H620v160ZM180-180h160v-160H180v160Zm440 0h160v-160H620v160Z\"/>\n",
              "  </svg>\n",
              "    </button>\n",
              "\n",
              "  <style>\n",
              "    .colab-df-container {\n",
              "      display:flex;\n",
              "      gap: 12px;\n",
              "    }\n",
              "\n",
              "    .colab-df-convert {\n",
              "      background-color: #E8F0FE;\n",
              "      border: none;\n",
              "      border-radius: 50%;\n",
              "      cursor: pointer;\n",
              "      display: none;\n",
              "      fill: #1967D2;\n",
              "      height: 32px;\n",
              "      padding: 0 0 0 0;\n",
              "      width: 32px;\n",
              "    }\n",
              "\n",
              "    .colab-df-convert:hover {\n",
              "      background-color: #E2EBFA;\n",
              "      box-shadow: 0px 1px 2px rgba(60, 64, 67, 0.3), 0px 1px 3px 1px rgba(60, 64, 67, 0.15);\n",
              "      fill: #174EA6;\n",
              "    }\n",
              "\n",
              "    .colab-df-buttons div {\n",
              "      margin-bottom: 4px;\n",
              "    }\n",
              "\n",
              "    [theme=dark] .colab-df-convert {\n",
              "      background-color: #3B4455;\n",
              "      fill: #D2E3FC;\n",
              "    }\n",
              "\n",
              "    [theme=dark] .colab-df-convert:hover {\n",
              "      background-color: #434B5C;\n",
              "      box-shadow: 0px 1px 3px 1px rgba(0, 0, 0, 0.15);\n",
              "      filter: drop-shadow(0px 1px 2px rgba(0, 0, 0, 0.3));\n",
              "      fill: #FFFFFF;\n",
              "    }\n",
              "  </style>\n",
              "\n",
              "    <script>\n",
              "      const buttonEl =\n",
              "        document.querySelector('#df-2ceeb401-c7c2-4347-8f18-b4fe43d44c3e button.colab-df-convert');\n",
              "      buttonEl.style.display =\n",
              "        google.colab.kernel.accessAllowed ? 'block' : 'none';\n",
              "\n",
              "      async function convertToInteractive(key) {\n",
              "        const element = document.querySelector('#df-2ceeb401-c7c2-4347-8f18-b4fe43d44c3e');\n",
              "        const dataTable =\n",
              "          await google.colab.kernel.invokeFunction('convertToInteractive',\n",
              "                                                    [key], {});\n",
              "        if (!dataTable) return;\n",
              "\n",
              "        const docLinkHtml = 'Like what you see? Visit the ' +\n",
              "          '<a target=\"_blank\" href=https://colab.research.google.com/notebooks/data_table.ipynb>data table notebook</a>'\n",
              "          + ' to learn more about interactive tables.';\n",
              "        element.innerHTML = '';\n",
              "        dataTable['output_type'] = 'display_data';\n",
              "        await google.colab.output.renderOutput(dataTable, element);\n",
              "        const docLink = document.createElement('div');\n",
              "        docLink.innerHTML = docLinkHtml;\n",
              "        element.appendChild(docLink);\n",
              "      }\n",
              "    </script>\n",
              "  </div>\n",
              "\n",
              "\n",
              "<div id=\"df-8ba28a0f-eb2a-49be-8924-39ee83cb9d5a\">\n",
              "  <button class=\"colab-df-quickchart\" onclick=\"quickchart('df-8ba28a0f-eb2a-49be-8924-39ee83cb9d5a')\"\n",
              "            title=\"Suggest charts.\"\n",
              "            style=\"display:none;\">\n",
              "\n",
              "<svg xmlns=\"http://www.w3.org/2000/svg\" height=\"24px\"viewBox=\"0 0 24 24\"\n",
              "     width=\"24px\">\n",
              "    <g>\n",
              "        <path d=\"M19 3H5c-1.1 0-2 .9-2 2v14c0 1.1.9 2 2 2h14c1.1 0 2-.9 2-2V5c0-1.1-.9-2-2-2zM9 17H7v-7h2v7zm4 0h-2V7h2v10zm4 0h-2v-4h2v4z\"/>\n",
              "    </g>\n",
              "</svg>\n",
              "  </button>\n",
              "\n",
              "<style>\n",
              "  .colab-df-quickchart {\n",
              "    background-color: #E8F0FE;\n",
              "    border: none;\n",
              "    border-radius: 50%;\n",
              "    cursor: pointer;\n",
              "    display: none;\n",
              "    fill: #1967D2;\n",
              "    height: 32px;\n",
              "    padding: 0 0 0 0;\n",
              "    width: 32px;\n",
              "  }\n",
              "\n",
              "  .colab-df-quickchart:hover {\n",
              "    background-color: #E2EBFA;\n",
              "    box-shadow: 0px 1px 2px rgba(60, 64, 67, 0.3), 0px 1px 3px 1px rgba(60, 64, 67, 0.15);\n",
              "    fill: #174EA6;\n",
              "  }\n",
              "\n",
              "  [theme=dark] .colab-df-quickchart {\n",
              "    background-color: #3B4455;\n",
              "    fill: #D2E3FC;\n",
              "  }\n",
              "\n",
              "  [theme=dark] .colab-df-quickchart:hover {\n",
              "    background-color: #434B5C;\n",
              "    box-shadow: 0px 1px 3px 1px rgba(0, 0, 0, 0.15);\n",
              "    filter: drop-shadow(0px 1px 2px rgba(0, 0, 0, 0.3));\n",
              "    fill: #FFFFFF;\n",
              "  }\n",
              "</style>\n",
              "\n",
              "  <script>\n",
              "    async function quickchart(key) {\n",
              "      const charts = await google.colab.kernel.invokeFunction(\n",
              "          'suggestCharts', [key], {});\n",
              "    }\n",
              "    (() => {\n",
              "      let quickchartButtonEl =\n",
              "        document.querySelector('#df-8ba28a0f-eb2a-49be-8924-39ee83cb9d5a button');\n",
              "      quickchartButtonEl.style.display =\n",
              "        google.colab.kernel.accessAllowed ? 'block' : 'none';\n",
              "    })();\n",
              "  </script>\n",
              "</div>\n",
              "    </div>\n",
              "  </div>\n"
            ]
          },
          "metadata": {}
        },
        {
          "output_type": "stream",
          "name": "stdout",
          "text": [
            "<class 'pandas.core.frame.DataFrame'>\n",
            "RangeIndex: 14 entries, 0 to 13\n",
            "Data columns (total 4 columns):\n",
            " #   Column     Non-Null Count  Dtype \n",
            "---  ------     --------------  ----- \n",
            " 0   name       14 non-null     object\n",
            " 1   regions    14 non-null     object\n",
            " 2   start_dt   14 non-null     object\n",
            " 3   finish_dt  14 non-null     object\n",
            "dtypes: object(4)\n",
            "memory usage: 576.0+ bytes\n",
            "Количество пропусков: name         0\n",
            "regions      0\n",
            "start_dt     0\n",
            "finish_dt    0\n",
            "dtype: int64\n",
            "Количество явных дубликатов: 0\n",
            "Доля явных дубликатов 0.0\n"
          ]
        },
        {
          "output_type": "execute_result",
          "data": {
            "text/plain": [
              "(None, None, None, None, None)"
            ]
          },
          "metadata": {},
          "execution_count": 14
        }
      ],
      "source": [
        "data_info(marketing)"
      ]
    },
    {
      "cell_type": "code",
      "execution_count": 15,
      "metadata": {
        "id": "hrp0opT2_UjK"
      },
      "outputs": [],
      "source": [
        "# преобразование даты в нужный формат\n",
        "marketing['start_dt'] = pd.to_datetime(marketing['start_dt'])\n",
        "marketing['finish_dt'] = pd.to_datetime(marketing['finish_dt'])"
      ]
    },
    {
      "cell_type": "markdown",
      "metadata": {
        "id": "OVMasjt2_Cos"
      },
      "source": [
        " В данных о маркетинговых мероприятих пропусков и явных дубликатов также нет. Столбцы с датами преобразованы в соответствующий формат"
      ]
    },
    {
      "cell_type": "markdown",
      "metadata": {
        "id": "mR_XHYo495_H"
      },
      "source": [
        "Данные подготовлены к анализу"
      ]
    },
    {
      "cell_type": "markdown",
      "metadata": {
        "id": "hot7dVrKCHwu"
      },
      "source": [
        "## 2. Оценка корректности проведения теста"
      ]
    },
    {
      "cell_type": "code",
      "execution_count": 16,
      "metadata": {
        "id": "s9Gq2i5dCcdI"
      },
      "outputs": [],
      "source": [
        "# объединяем таблицы\n",
        "df = new_users.merge(events, on='user_id', how='outer')"
      ]
    },
    {
      "cell_type": "code",
      "execution_count": 17,
      "metadata": {
        "colab": {
          "base_uri": "https://localhost:8080/",
          "height": 423
        },
        "id": "LnBljorezHdq",
        "outputId": "461ef199-5466-4b56-cce3-0b387a8cab95"
      },
      "outputs": [
        {
          "output_type": "execute_result",
          "data": {
            "text/plain": [
              "                 user_id first_date     region   device            event_dt  \\\n",
              "0       D72A72121175D8BE 2020-12-07         EU       PC 2020-12-07 21:52:10   \n",
              "1       D72A72121175D8BE 2020-12-07         EU       PC 2020-12-07 21:52:07   \n",
              "2       F1C668619DFE6E65 2020-12-07  N.America  Android 2020-12-07 16:38:09   \n",
              "3       F1C668619DFE6E65 2020-12-07  N.America  Android 2020-12-08 02:02:34   \n",
              "4       F1C668619DFE6E65 2020-12-07  N.America  Android 2020-12-23 14:35:41   \n",
              "...                  ...        ...        ...      ...                 ...   \n",
              "443342  1C7D23927835213F 2020-12-20         EU   iPhone 2020-12-23 15:47:23   \n",
              "443343  1C7D23927835213F 2020-12-20         EU   iPhone 2020-12-25 12:31:04   \n",
              "443344  1C7D23927835213F 2020-12-20         EU   iPhone 2020-12-27 03:51:35   \n",
              "443345  8F04273BB2860229 2020-12-20         EU  Android 2020-12-20 03:17:17   \n",
              "443346  8F04273BB2860229 2020-12-20         EU  Android 2020-12-20 03:17:17   \n",
              "\n",
              "          event_name  details  \n",
              "0       product_page      NaN  \n",
              "1              login      NaN  \n",
              "2       product_page      NaN  \n",
              "3       product_page      NaN  \n",
              "4       product_page      NaN  \n",
              "...              ...      ...  \n",
              "443342         login      NaN  \n",
              "443343         login      NaN  \n",
              "443344         login      NaN  \n",
              "443345  product_cart      NaN  \n",
              "443346         login      NaN  \n",
              "\n",
              "[443347 rows x 7 columns]"
            ],
            "text/html": [
              "\n",
              "  <div id=\"df-ef6029f5-cfd9-4e83-8a8d-d6f659c79755\" class=\"colab-df-container\">\n",
              "    <div>\n",
              "<style scoped>\n",
              "    .dataframe tbody tr th:only-of-type {\n",
              "        vertical-align: middle;\n",
              "    }\n",
              "\n",
              "    .dataframe tbody tr th {\n",
              "        vertical-align: top;\n",
              "    }\n",
              "\n",
              "    .dataframe thead th {\n",
              "        text-align: right;\n",
              "    }\n",
              "</style>\n",
              "<table border=\"1\" class=\"dataframe\">\n",
              "  <thead>\n",
              "    <tr style=\"text-align: right;\">\n",
              "      <th></th>\n",
              "      <th>user_id</th>\n",
              "      <th>first_date</th>\n",
              "      <th>region</th>\n",
              "      <th>device</th>\n",
              "      <th>event_dt</th>\n",
              "      <th>event_name</th>\n",
              "      <th>details</th>\n",
              "    </tr>\n",
              "  </thead>\n",
              "  <tbody>\n",
              "    <tr>\n",
              "      <th>0</th>\n",
              "      <td>D72A72121175D8BE</td>\n",
              "      <td>2020-12-07</td>\n",
              "      <td>EU</td>\n",
              "      <td>PC</td>\n",
              "      <td>2020-12-07 21:52:10</td>\n",
              "      <td>product_page</td>\n",
              "      <td>NaN</td>\n",
              "    </tr>\n",
              "    <tr>\n",
              "      <th>1</th>\n",
              "      <td>D72A72121175D8BE</td>\n",
              "      <td>2020-12-07</td>\n",
              "      <td>EU</td>\n",
              "      <td>PC</td>\n",
              "      <td>2020-12-07 21:52:07</td>\n",
              "      <td>login</td>\n",
              "      <td>NaN</td>\n",
              "    </tr>\n",
              "    <tr>\n",
              "      <th>2</th>\n",
              "      <td>F1C668619DFE6E65</td>\n",
              "      <td>2020-12-07</td>\n",
              "      <td>N.America</td>\n",
              "      <td>Android</td>\n",
              "      <td>2020-12-07 16:38:09</td>\n",
              "      <td>product_page</td>\n",
              "      <td>NaN</td>\n",
              "    </tr>\n",
              "    <tr>\n",
              "      <th>3</th>\n",
              "      <td>F1C668619DFE6E65</td>\n",
              "      <td>2020-12-07</td>\n",
              "      <td>N.America</td>\n",
              "      <td>Android</td>\n",
              "      <td>2020-12-08 02:02:34</td>\n",
              "      <td>product_page</td>\n",
              "      <td>NaN</td>\n",
              "    </tr>\n",
              "    <tr>\n",
              "      <th>4</th>\n",
              "      <td>F1C668619DFE6E65</td>\n",
              "      <td>2020-12-07</td>\n",
              "      <td>N.America</td>\n",
              "      <td>Android</td>\n",
              "      <td>2020-12-23 14:35:41</td>\n",
              "      <td>product_page</td>\n",
              "      <td>NaN</td>\n",
              "    </tr>\n",
              "    <tr>\n",
              "      <th>...</th>\n",
              "      <td>...</td>\n",
              "      <td>...</td>\n",
              "      <td>...</td>\n",
              "      <td>...</td>\n",
              "      <td>...</td>\n",
              "      <td>...</td>\n",
              "      <td>...</td>\n",
              "    </tr>\n",
              "    <tr>\n",
              "      <th>443342</th>\n",
              "      <td>1C7D23927835213F</td>\n",
              "      <td>2020-12-20</td>\n",
              "      <td>EU</td>\n",
              "      <td>iPhone</td>\n",
              "      <td>2020-12-23 15:47:23</td>\n",
              "      <td>login</td>\n",
              "      <td>NaN</td>\n",
              "    </tr>\n",
              "    <tr>\n",
              "      <th>443343</th>\n",
              "      <td>1C7D23927835213F</td>\n",
              "      <td>2020-12-20</td>\n",
              "      <td>EU</td>\n",
              "      <td>iPhone</td>\n",
              "      <td>2020-12-25 12:31:04</td>\n",
              "      <td>login</td>\n",
              "      <td>NaN</td>\n",
              "    </tr>\n",
              "    <tr>\n",
              "      <th>443344</th>\n",
              "      <td>1C7D23927835213F</td>\n",
              "      <td>2020-12-20</td>\n",
              "      <td>EU</td>\n",
              "      <td>iPhone</td>\n",
              "      <td>2020-12-27 03:51:35</td>\n",
              "      <td>login</td>\n",
              "      <td>NaN</td>\n",
              "    </tr>\n",
              "    <tr>\n",
              "      <th>443345</th>\n",
              "      <td>8F04273BB2860229</td>\n",
              "      <td>2020-12-20</td>\n",
              "      <td>EU</td>\n",
              "      <td>Android</td>\n",
              "      <td>2020-12-20 03:17:17</td>\n",
              "      <td>product_cart</td>\n",
              "      <td>NaN</td>\n",
              "    </tr>\n",
              "    <tr>\n",
              "      <th>443346</th>\n",
              "      <td>8F04273BB2860229</td>\n",
              "      <td>2020-12-20</td>\n",
              "      <td>EU</td>\n",
              "      <td>Android</td>\n",
              "      <td>2020-12-20 03:17:17</td>\n",
              "      <td>login</td>\n",
              "      <td>NaN</td>\n",
              "    </tr>\n",
              "  </tbody>\n",
              "</table>\n",
              "<p>443347 rows × 7 columns</p>\n",
              "</div>\n",
              "    <div class=\"colab-df-buttons\">\n",
              "\n",
              "  <div class=\"colab-df-container\">\n",
              "    <button class=\"colab-df-convert\" onclick=\"convertToInteractive('df-ef6029f5-cfd9-4e83-8a8d-d6f659c79755')\"\n",
              "            title=\"Convert this dataframe to an interactive table.\"\n",
              "            style=\"display:none;\">\n",
              "\n",
              "  <svg xmlns=\"http://www.w3.org/2000/svg\" height=\"24px\" viewBox=\"0 -960 960 960\">\n",
              "    <path d=\"M120-120v-720h720v720H120Zm60-500h600v-160H180v160Zm220 220h160v-160H400v160Zm0 220h160v-160H400v160ZM180-400h160v-160H180v160Zm440 0h160v-160H620v160ZM180-180h160v-160H180v160Zm440 0h160v-160H620v160Z\"/>\n",
              "  </svg>\n",
              "    </button>\n",
              "\n",
              "  <style>\n",
              "    .colab-df-container {\n",
              "      display:flex;\n",
              "      gap: 12px;\n",
              "    }\n",
              "\n",
              "    .colab-df-convert {\n",
              "      background-color: #E8F0FE;\n",
              "      border: none;\n",
              "      border-radius: 50%;\n",
              "      cursor: pointer;\n",
              "      display: none;\n",
              "      fill: #1967D2;\n",
              "      height: 32px;\n",
              "      padding: 0 0 0 0;\n",
              "      width: 32px;\n",
              "    }\n",
              "\n",
              "    .colab-df-convert:hover {\n",
              "      background-color: #E2EBFA;\n",
              "      box-shadow: 0px 1px 2px rgba(60, 64, 67, 0.3), 0px 1px 3px 1px rgba(60, 64, 67, 0.15);\n",
              "      fill: #174EA6;\n",
              "    }\n",
              "\n",
              "    .colab-df-buttons div {\n",
              "      margin-bottom: 4px;\n",
              "    }\n",
              "\n",
              "    [theme=dark] .colab-df-convert {\n",
              "      background-color: #3B4455;\n",
              "      fill: #D2E3FC;\n",
              "    }\n",
              "\n",
              "    [theme=dark] .colab-df-convert:hover {\n",
              "      background-color: #434B5C;\n",
              "      box-shadow: 0px 1px 3px 1px rgba(0, 0, 0, 0.15);\n",
              "      filter: drop-shadow(0px 1px 2px rgba(0, 0, 0, 0.3));\n",
              "      fill: #FFFFFF;\n",
              "    }\n",
              "  </style>\n",
              "\n",
              "    <script>\n",
              "      const buttonEl =\n",
              "        document.querySelector('#df-ef6029f5-cfd9-4e83-8a8d-d6f659c79755 button.colab-df-convert');\n",
              "      buttonEl.style.display =\n",
              "        google.colab.kernel.accessAllowed ? 'block' : 'none';\n",
              "\n",
              "      async function convertToInteractive(key) {\n",
              "        const element = document.querySelector('#df-ef6029f5-cfd9-4e83-8a8d-d6f659c79755');\n",
              "        const dataTable =\n",
              "          await google.colab.kernel.invokeFunction('convertToInteractive',\n",
              "                                                    [key], {});\n",
              "        if (!dataTable) return;\n",
              "\n",
              "        const docLinkHtml = 'Like what you see? Visit the ' +\n",
              "          '<a target=\"_blank\" href=https://colab.research.google.com/notebooks/data_table.ipynb>data table notebook</a>'\n",
              "          + ' to learn more about interactive tables.';\n",
              "        element.innerHTML = '';\n",
              "        dataTable['output_type'] = 'display_data';\n",
              "        await google.colab.output.renderOutput(dataTable, element);\n",
              "        const docLink = document.createElement('div');\n",
              "        docLink.innerHTML = docLinkHtml;\n",
              "        element.appendChild(docLink);\n",
              "      }\n",
              "    </script>\n",
              "  </div>\n",
              "\n",
              "\n",
              "<div id=\"df-17142301-fb9e-441b-8ad9-21fa63326d6a\">\n",
              "  <button class=\"colab-df-quickchart\" onclick=\"quickchart('df-17142301-fb9e-441b-8ad9-21fa63326d6a')\"\n",
              "            title=\"Suggest charts.\"\n",
              "            style=\"display:none;\">\n",
              "\n",
              "<svg xmlns=\"http://www.w3.org/2000/svg\" height=\"24px\"viewBox=\"0 0 24 24\"\n",
              "     width=\"24px\">\n",
              "    <g>\n",
              "        <path d=\"M19 3H5c-1.1 0-2 .9-2 2v14c0 1.1.9 2 2 2h14c1.1 0 2-.9 2-2V5c0-1.1-.9-2-2-2zM9 17H7v-7h2v7zm4 0h-2V7h2v10zm4 0h-2v-4h2v4z\"/>\n",
              "    </g>\n",
              "</svg>\n",
              "  </button>\n",
              "\n",
              "<style>\n",
              "  .colab-df-quickchart {\n",
              "    background-color: #E8F0FE;\n",
              "    border: none;\n",
              "    border-radius: 50%;\n",
              "    cursor: pointer;\n",
              "    display: none;\n",
              "    fill: #1967D2;\n",
              "    height: 32px;\n",
              "    padding: 0 0 0 0;\n",
              "    width: 32px;\n",
              "  }\n",
              "\n",
              "  .colab-df-quickchart:hover {\n",
              "    background-color: #E2EBFA;\n",
              "    box-shadow: 0px 1px 2px rgba(60, 64, 67, 0.3), 0px 1px 3px 1px rgba(60, 64, 67, 0.15);\n",
              "    fill: #174EA6;\n",
              "  }\n",
              "\n",
              "  [theme=dark] .colab-df-quickchart {\n",
              "    background-color: #3B4455;\n",
              "    fill: #D2E3FC;\n",
              "  }\n",
              "\n",
              "  [theme=dark] .colab-df-quickchart:hover {\n",
              "    background-color: #434B5C;\n",
              "    box-shadow: 0px 1px 3px 1px rgba(0, 0, 0, 0.15);\n",
              "    filter: drop-shadow(0px 1px 2px rgba(0, 0, 0, 0.3));\n",
              "    fill: #FFFFFF;\n",
              "  }\n",
              "</style>\n",
              "\n",
              "  <script>\n",
              "    async function quickchart(key) {\n",
              "      const charts = await google.colab.kernel.invokeFunction(\n",
              "          'suggestCharts', [key], {});\n",
              "    }\n",
              "    (() => {\n",
              "      let quickchartButtonEl =\n",
              "        document.querySelector('#df-17142301-fb9e-441b-8ad9-21fa63326d6a button');\n",
              "      quickchartButtonEl.style.display =\n",
              "        google.colab.kernel.accessAllowed ? 'block' : 'none';\n",
              "    })();\n",
              "  </script>\n",
              "</div>\n",
              "    </div>\n",
              "  </div>\n"
            ]
          },
          "metadata": {},
          "execution_count": 17
        }
      ],
      "source": [
        "df"
      ]
    },
    {
      "cell_type": "code",
      "execution_count": 18,
      "metadata": {
        "id": "c5LbHGQyoalS"
      },
      "outputs": [],
      "source": [
        "df = df.merge(participants, on='user_id', how='outer')"
      ]
    },
    {
      "cell_type": "code",
      "execution_count": 19,
      "metadata": {
        "colab": {
          "base_uri": "https://localhost:8080/",
          "height": 423
        },
        "id": "CoCNVBmZoz4g",
        "outputId": "aa5f0ab1-18d7-4524-a850-f3a463b93c4f"
      },
      "outputs": [
        {
          "output_type": "execute_result",
          "data": {
            "text/plain": [
              "                 user_id first_date     region   device            event_dt  \\\n",
              "0       D72A72121175D8BE 2020-12-07         EU       PC 2020-12-07 21:52:10   \n",
              "1       D72A72121175D8BE 2020-12-07         EU       PC 2020-12-07 21:52:07   \n",
              "2       F1C668619DFE6E65 2020-12-07  N.America  Android 2020-12-07 16:38:09   \n",
              "3       F1C668619DFE6E65 2020-12-07  N.America  Android 2020-12-08 02:02:34   \n",
              "4       F1C668619DFE6E65 2020-12-07  N.America  Android 2020-12-23 14:35:41   \n",
              "...                  ...        ...        ...      ...                 ...   \n",
              "449951  1C7D23927835213F 2020-12-20         EU   iPhone 2020-12-23 15:47:23   \n",
              "449952  1C7D23927835213F 2020-12-20         EU   iPhone 2020-12-25 12:31:04   \n",
              "449953  1C7D23927835213F 2020-12-20         EU   iPhone 2020-12-27 03:51:35   \n",
              "449954  8F04273BB2860229 2020-12-20         EU  Android 2020-12-20 03:17:17   \n",
              "449955  8F04273BB2860229 2020-12-20         EU  Android 2020-12-20 03:17:17   \n",
              "\n",
              "          event_name  details group                  ab_test  \n",
              "0       product_page      NaN     A  recommender_system_test  \n",
              "1              login      NaN     A  recommender_system_test  \n",
              "2       product_page      NaN   NaN                      NaN  \n",
              "3       product_page      NaN   NaN                      NaN  \n",
              "4       product_page      NaN   NaN                      NaN  \n",
              "...              ...      ...   ...                      ...  \n",
              "449951         login      NaN     B        interface_eu_test  \n",
              "449952         login      NaN     B        interface_eu_test  \n",
              "449953         login      NaN     B        interface_eu_test  \n",
              "449954  product_cart      NaN   NaN                      NaN  \n",
              "449955         login      NaN   NaN                      NaN  \n",
              "\n",
              "[449956 rows x 9 columns]"
            ],
            "text/html": [
              "\n",
              "  <div id=\"df-cd9f06d5-25c6-4df0-a1f7-f79b79d20b36\" class=\"colab-df-container\">\n",
              "    <div>\n",
              "<style scoped>\n",
              "    .dataframe tbody tr th:only-of-type {\n",
              "        vertical-align: middle;\n",
              "    }\n",
              "\n",
              "    .dataframe tbody tr th {\n",
              "        vertical-align: top;\n",
              "    }\n",
              "\n",
              "    .dataframe thead th {\n",
              "        text-align: right;\n",
              "    }\n",
              "</style>\n",
              "<table border=\"1\" class=\"dataframe\">\n",
              "  <thead>\n",
              "    <tr style=\"text-align: right;\">\n",
              "      <th></th>\n",
              "      <th>user_id</th>\n",
              "      <th>first_date</th>\n",
              "      <th>region</th>\n",
              "      <th>device</th>\n",
              "      <th>event_dt</th>\n",
              "      <th>event_name</th>\n",
              "      <th>details</th>\n",
              "      <th>group</th>\n",
              "      <th>ab_test</th>\n",
              "    </tr>\n",
              "  </thead>\n",
              "  <tbody>\n",
              "    <tr>\n",
              "      <th>0</th>\n",
              "      <td>D72A72121175D8BE</td>\n",
              "      <td>2020-12-07</td>\n",
              "      <td>EU</td>\n",
              "      <td>PC</td>\n",
              "      <td>2020-12-07 21:52:10</td>\n",
              "      <td>product_page</td>\n",
              "      <td>NaN</td>\n",
              "      <td>A</td>\n",
              "      <td>recommender_system_test</td>\n",
              "    </tr>\n",
              "    <tr>\n",
              "      <th>1</th>\n",
              "      <td>D72A72121175D8BE</td>\n",
              "      <td>2020-12-07</td>\n",
              "      <td>EU</td>\n",
              "      <td>PC</td>\n",
              "      <td>2020-12-07 21:52:07</td>\n",
              "      <td>login</td>\n",
              "      <td>NaN</td>\n",
              "      <td>A</td>\n",
              "      <td>recommender_system_test</td>\n",
              "    </tr>\n",
              "    <tr>\n",
              "      <th>2</th>\n",
              "      <td>F1C668619DFE6E65</td>\n",
              "      <td>2020-12-07</td>\n",
              "      <td>N.America</td>\n",
              "      <td>Android</td>\n",
              "      <td>2020-12-07 16:38:09</td>\n",
              "      <td>product_page</td>\n",
              "      <td>NaN</td>\n",
              "      <td>NaN</td>\n",
              "      <td>NaN</td>\n",
              "    </tr>\n",
              "    <tr>\n",
              "      <th>3</th>\n",
              "      <td>F1C668619DFE6E65</td>\n",
              "      <td>2020-12-07</td>\n",
              "      <td>N.America</td>\n",
              "      <td>Android</td>\n",
              "      <td>2020-12-08 02:02:34</td>\n",
              "      <td>product_page</td>\n",
              "      <td>NaN</td>\n",
              "      <td>NaN</td>\n",
              "      <td>NaN</td>\n",
              "    </tr>\n",
              "    <tr>\n",
              "      <th>4</th>\n",
              "      <td>F1C668619DFE6E65</td>\n",
              "      <td>2020-12-07</td>\n",
              "      <td>N.America</td>\n",
              "      <td>Android</td>\n",
              "      <td>2020-12-23 14:35:41</td>\n",
              "      <td>product_page</td>\n",
              "      <td>NaN</td>\n",
              "      <td>NaN</td>\n",
              "      <td>NaN</td>\n",
              "    </tr>\n",
              "    <tr>\n",
              "      <th>...</th>\n",
              "      <td>...</td>\n",
              "      <td>...</td>\n",
              "      <td>...</td>\n",
              "      <td>...</td>\n",
              "      <td>...</td>\n",
              "      <td>...</td>\n",
              "      <td>...</td>\n",
              "      <td>...</td>\n",
              "      <td>...</td>\n",
              "    </tr>\n",
              "    <tr>\n",
              "      <th>449951</th>\n",
              "      <td>1C7D23927835213F</td>\n",
              "      <td>2020-12-20</td>\n",
              "      <td>EU</td>\n",
              "      <td>iPhone</td>\n",
              "      <td>2020-12-23 15:47:23</td>\n",
              "      <td>login</td>\n",
              "      <td>NaN</td>\n",
              "      <td>B</td>\n",
              "      <td>interface_eu_test</td>\n",
              "    </tr>\n",
              "    <tr>\n",
              "      <th>449952</th>\n",
              "      <td>1C7D23927835213F</td>\n",
              "      <td>2020-12-20</td>\n",
              "      <td>EU</td>\n",
              "      <td>iPhone</td>\n",
              "      <td>2020-12-25 12:31:04</td>\n",
              "      <td>login</td>\n",
              "      <td>NaN</td>\n",
              "      <td>B</td>\n",
              "      <td>interface_eu_test</td>\n",
              "    </tr>\n",
              "    <tr>\n",
              "      <th>449953</th>\n",
              "      <td>1C7D23927835213F</td>\n",
              "      <td>2020-12-20</td>\n",
              "      <td>EU</td>\n",
              "      <td>iPhone</td>\n",
              "      <td>2020-12-27 03:51:35</td>\n",
              "      <td>login</td>\n",
              "      <td>NaN</td>\n",
              "      <td>B</td>\n",
              "      <td>interface_eu_test</td>\n",
              "    </tr>\n",
              "    <tr>\n",
              "      <th>449954</th>\n",
              "      <td>8F04273BB2860229</td>\n",
              "      <td>2020-12-20</td>\n",
              "      <td>EU</td>\n",
              "      <td>Android</td>\n",
              "      <td>2020-12-20 03:17:17</td>\n",
              "      <td>product_cart</td>\n",
              "      <td>NaN</td>\n",
              "      <td>NaN</td>\n",
              "      <td>NaN</td>\n",
              "    </tr>\n",
              "    <tr>\n",
              "      <th>449955</th>\n",
              "      <td>8F04273BB2860229</td>\n",
              "      <td>2020-12-20</td>\n",
              "      <td>EU</td>\n",
              "      <td>Android</td>\n",
              "      <td>2020-12-20 03:17:17</td>\n",
              "      <td>login</td>\n",
              "      <td>NaN</td>\n",
              "      <td>NaN</td>\n",
              "      <td>NaN</td>\n",
              "    </tr>\n",
              "  </tbody>\n",
              "</table>\n",
              "<p>449956 rows × 9 columns</p>\n",
              "</div>\n",
              "    <div class=\"colab-df-buttons\">\n",
              "\n",
              "  <div class=\"colab-df-container\">\n",
              "    <button class=\"colab-df-convert\" onclick=\"convertToInteractive('df-cd9f06d5-25c6-4df0-a1f7-f79b79d20b36')\"\n",
              "            title=\"Convert this dataframe to an interactive table.\"\n",
              "            style=\"display:none;\">\n",
              "\n",
              "  <svg xmlns=\"http://www.w3.org/2000/svg\" height=\"24px\" viewBox=\"0 -960 960 960\">\n",
              "    <path d=\"M120-120v-720h720v720H120Zm60-500h600v-160H180v160Zm220 220h160v-160H400v160Zm0 220h160v-160H400v160ZM180-400h160v-160H180v160Zm440 0h160v-160H620v160ZM180-180h160v-160H180v160Zm440 0h160v-160H620v160Z\"/>\n",
              "  </svg>\n",
              "    </button>\n",
              "\n",
              "  <style>\n",
              "    .colab-df-container {\n",
              "      display:flex;\n",
              "      gap: 12px;\n",
              "    }\n",
              "\n",
              "    .colab-df-convert {\n",
              "      background-color: #E8F0FE;\n",
              "      border: none;\n",
              "      border-radius: 50%;\n",
              "      cursor: pointer;\n",
              "      display: none;\n",
              "      fill: #1967D2;\n",
              "      height: 32px;\n",
              "      padding: 0 0 0 0;\n",
              "      width: 32px;\n",
              "    }\n",
              "\n",
              "    .colab-df-convert:hover {\n",
              "      background-color: #E2EBFA;\n",
              "      box-shadow: 0px 1px 2px rgba(60, 64, 67, 0.3), 0px 1px 3px 1px rgba(60, 64, 67, 0.15);\n",
              "      fill: #174EA6;\n",
              "    }\n",
              "\n",
              "    .colab-df-buttons div {\n",
              "      margin-bottom: 4px;\n",
              "    }\n",
              "\n",
              "    [theme=dark] .colab-df-convert {\n",
              "      background-color: #3B4455;\n",
              "      fill: #D2E3FC;\n",
              "    }\n",
              "\n",
              "    [theme=dark] .colab-df-convert:hover {\n",
              "      background-color: #434B5C;\n",
              "      box-shadow: 0px 1px 3px 1px rgba(0, 0, 0, 0.15);\n",
              "      filter: drop-shadow(0px 1px 2px rgba(0, 0, 0, 0.3));\n",
              "      fill: #FFFFFF;\n",
              "    }\n",
              "  </style>\n",
              "\n",
              "    <script>\n",
              "      const buttonEl =\n",
              "        document.querySelector('#df-cd9f06d5-25c6-4df0-a1f7-f79b79d20b36 button.colab-df-convert');\n",
              "      buttonEl.style.display =\n",
              "        google.colab.kernel.accessAllowed ? 'block' : 'none';\n",
              "\n",
              "      async function convertToInteractive(key) {\n",
              "        const element = document.querySelector('#df-cd9f06d5-25c6-4df0-a1f7-f79b79d20b36');\n",
              "        const dataTable =\n",
              "          await google.colab.kernel.invokeFunction('convertToInteractive',\n",
              "                                                    [key], {});\n",
              "        if (!dataTable) return;\n",
              "\n",
              "        const docLinkHtml = 'Like what you see? Visit the ' +\n",
              "          '<a target=\"_blank\" href=https://colab.research.google.com/notebooks/data_table.ipynb>data table notebook</a>'\n",
              "          + ' to learn more about interactive tables.';\n",
              "        element.innerHTML = '';\n",
              "        dataTable['output_type'] = 'display_data';\n",
              "        await google.colab.output.renderOutput(dataTable, element);\n",
              "        const docLink = document.createElement('div');\n",
              "        docLink.innerHTML = docLinkHtml;\n",
              "        element.appendChild(docLink);\n",
              "      }\n",
              "    </script>\n",
              "  </div>\n",
              "\n",
              "\n",
              "<div id=\"df-d4eee0f7-228b-4045-bddd-8ff052f4eccf\">\n",
              "  <button class=\"colab-df-quickchart\" onclick=\"quickchart('df-d4eee0f7-228b-4045-bddd-8ff052f4eccf')\"\n",
              "            title=\"Suggest charts.\"\n",
              "            style=\"display:none;\">\n",
              "\n",
              "<svg xmlns=\"http://www.w3.org/2000/svg\" height=\"24px\"viewBox=\"0 0 24 24\"\n",
              "     width=\"24px\">\n",
              "    <g>\n",
              "        <path d=\"M19 3H5c-1.1 0-2 .9-2 2v14c0 1.1.9 2 2 2h14c1.1 0 2-.9 2-2V5c0-1.1-.9-2-2-2zM9 17H7v-7h2v7zm4 0h-2V7h2v10zm4 0h-2v-4h2v4z\"/>\n",
              "    </g>\n",
              "</svg>\n",
              "  </button>\n",
              "\n",
              "<style>\n",
              "  .colab-df-quickchart {\n",
              "    background-color: #E8F0FE;\n",
              "    border: none;\n",
              "    border-radius: 50%;\n",
              "    cursor: pointer;\n",
              "    display: none;\n",
              "    fill: #1967D2;\n",
              "    height: 32px;\n",
              "    padding: 0 0 0 0;\n",
              "    width: 32px;\n",
              "  }\n",
              "\n",
              "  .colab-df-quickchart:hover {\n",
              "    background-color: #E2EBFA;\n",
              "    box-shadow: 0px 1px 2px rgba(60, 64, 67, 0.3), 0px 1px 3px 1px rgba(60, 64, 67, 0.15);\n",
              "    fill: #174EA6;\n",
              "  }\n",
              "\n",
              "  [theme=dark] .colab-df-quickchart {\n",
              "    background-color: #3B4455;\n",
              "    fill: #D2E3FC;\n",
              "  }\n",
              "\n",
              "  [theme=dark] .colab-df-quickchart:hover {\n",
              "    background-color: #434B5C;\n",
              "    box-shadow: 0px 1px 3px 1px rgba(0, 0, 0, 0.15);\n",
              "    filter: drop-shadow(0px 1px 2px rgba(0, 0, 0, 0.3));\n",
              "    fill: #FFFFFF;\n",
              "  }\n",
              "</style>\n",
              "\n",
              "  <script>\n",
              "    async function quickchart(key) {\n",
              "      const charts = await google.colab.kernel.invokeFunction(\n",
              "          'suggestCharts', [key], {});\n",
              "    }\n",
              "    (() => {\n",
              "      let quickchartButtonEl =\n",
              "        document.querySelector('#df-d4eee0f7-228b-4045-bddd-8ff052f4eccf button');\n",
              "      quickchartButtonEl.style.display =\n",
              "        google.colab.kernel.accessAllowed ? 'block' : 'none';\n",
              "    })();\n",
              "  </script>\n",
              "</div>\n",
              "    </div>\n",
              "  </div>\n"
            ]
          },
          "metadata": {},
          "execution_count": 19
        }
      ],
      "source": [
        "df"
      ]
    },
    {
      "cell_type": "code",
      "execution_count": 20,
      "metadata": {
        "colab": {
          "base_uri": "https://localhost:8080/",
          "height": 112
        },
        "id": "QkfPqvBN8mWq",
        "outputId": "95129116-ff44-473e-9990-b13c67f7527a"
      },
      "outputs": [
        {
          "output_type": "execute_result",
          "data": {
            "text/plain": [
              "    first_date\n",
              "min 2020-12-07\n",
              "max 2020-12-23"
            ],
            "text/html": [
              "\n",
              "  <div id=\"df-be770db5-8f08-45cb-90ca-825d0d7df180\" class=\"colab-df-container\">\n",
              "    <div>\n",
              "<style scoped>\n",
              "    .dataframe tbody tr th:only-of-type {\n",
              "        vertical-align: middle;\n",
              "    }\n",
              "\n",
              "    .dataframe tbody tr th {\n",
              "        vertical-align: top;\n",
              "    }\n",
              "\n",
              "    .dataframe thead th {\n",
              "        text-align: right;\n",
              "    }\n",
              "</style>\n",
              "<table border=\"1\" class=\"dataframe\">\n",
              "  <thead>\n",
              "    <tr style=\"text-align: right;\">\n",
              "      <th></th>\n",
              "      <th>first_date</th>\n",
              "    </tr>\n",
              "  </thead>\n",
              "  <tbody>\n",
              "    <tr>\n",
              "      <th>min</th>\n",
              "      <td>2020-12-07</td>\n",
              "    </tr>\n",
              "    <tr>\n",
              "      <th>max</th>\n",
              "      <td>2020-12-23</td>\n",
              "    </tr>\n",
              "  </tbody>\n",
              "</table>\n",
              "</div>\n",
              "    <div class=\"colab-df-buttons\">\n",
              "\n",
              "  <div class=\"colab-df-container\">\n",
              "    <button class=\"colab-df-convert\" onclick=\"convertToInteractive('df-be770db5-8f08-45cb-90ca-825d0d7df180')\"\n",
              "            title=\"Convert this dataframe to an interactive table.\"\n",
              "            style=\"display:none;\">\n",
              "\n",
              "  <svg xmlns=\"http://www.w3.org/2000/svg\" height=\"24px\" viewBox=\"0 -960 960 960\">\n",
              "    <path d=\"M120-120v-720h720v720H120Zm60-500h600v-160H180v160Zm220 220h160v-160H400v160Zm0 220h160v-160H400v160ZM180-400h160v-160H180v160Zm440 0h160v-160H620v160ZM180-180h160v-160H180v160Zm440 0h160v-160H620v160Z\"/>\n",
              "  </svg>\n",
              "    </button>\n",
              "\n",
              "  <style>\n",
              "    .colab-df-container {\n",
              "      display:flex;\n",
              "      gap: 12px;\n",
              "    }\n",
              "\n",
              "    .colab-df-convert {\n",
              "      background-color: #E8F0FE;\n",
              "      border: none;\n",
              "      border-radius: 50%;\n",
              "      cursor: pointer;\n",
              "      display: none;\n",
              "      fill: #1967D2;\n",
              "      height: 32px;\n",
              "      padding: 0 0 0 0;\n",
              "      width: 32px;\n",
              "    }\n",
              "\n",
              "    .colab-df-convert:hover {\n",
              "      background-color: #E2EBFA;\n",
              "      box-shadow: 0px 1px 2px rgba(60, 64, 67, 0.3), 0px 1px 3px 1px rgba(60, 64, 67, 0.15);\n",
              "      fill: #174EA6;\n",
              "    }\n",
              "\n",
              "    .colab-df-buttons div {\n",
              "      margin-bottom: 4px;\n",
              "    }\n",
              "\n",
              "    [theme=dark] .colab-df-convert {\n",
              "      background-color: #3B4455;\n",
              "      fill: #D2E3FC;\n",
              "    }\n",
              "\n",
              "    [theme=dark] .colab-df-convert:hover {\n",
              "      background-color: #434B5C;\n",
              "      box-shadow: 0px 1px 3px 1px rgba(0, 0, 0, 0.15);\n",
              "      filter: drop-shadow(0px 1px 2px rgba(0, 0, 0, 0.3));\n",
              "      fill: #FFFFFF;\n",
              "    }\n",
              "  </style>\n",
              "\n",
              "    <script>\n",
              "      const buttonEl =\n",
              "        document.querySelector('#df-be770db5-8f08-45cb-90ca-825d0d7df180 button.colab-df-convert');\n",
              "      buttonEl.style.display =\n",
              "        google.colab.kernel.accessAllowed ? 'block' : 'none';\n",
              "\n",
              "      async function convertToInteractive(key) {\n",
              "        const element = document.querySelector('#df-be770db5-8f08-45cb-90ca-825d0d7df180');\n",
              "        const dataTable =\n",
              "          await google.colab.kernel.invokeFunction('convertToInteractive',\n",
              "                                                    [key], {});\n",
              "        if (!dataTable) return;\n",
              "\n",
              "        const docLinkHtml = 'Like what you see? Visit the ' +\n",
              "          '<a target=\"_blank\" href=https://colab.research.google.com/notebooks/data_table.ipynb>data table notebook</a>'\n",
              "          + ' to learn more about interactive tables.';\n",
              "        element.innerHTML = '';\n",
              "        dataTable['output_type'] = 'display_data';\n",
              "        await google.colab.output.renderOutput(dataTable, element);\n",
              "        const docLink = document.createElement('div');\n",
              "        docLink.innerHTML = docLinkHtml;\n",
              "        element.appendChild(docLink);\n",
              "      }\n",
              "    </script>\n",
              "  </div>\n",
              "\n",
              "\n",
              "<div id=\"df-3cec883a-5a7e-43c3-a394-471a8c615735\">\n",
              "  <button class=\"colab-df-quickchart\" onclick=\"quickchart('df-3cec883a-5a7e-43c3-a394-471a8c615735')\"\n",
              "            title=\"Suggest charts.\"\n",
              "            style=\"display:none;\">\n",
              "\n",
              "<svg xmlns=\"http://www.w3.org/2000/svg\" height=\"24px\"viewBox=\"0 0 24 24\"\n",
              "     width=\"24px\">\n",
              "    <g>\n",
              "        <path d=\"M19 3H5c-1.1 0-2 .9-2 2v14c0 1.1.9 2 2 2h14c1.1 0 2-.9 2-2V5c0-1.1-.9-2-2-2zM9 17H7v-7h2v7zm4 0h-2V7h2v10zm4 0h-2v-4h2v4z\"/>\n",
              "    </g>\n",
              "</svg>\n",
              "  </button>\n",
              "\n",
              "<style>\n",
              "  .colab-df-quickchart {\n",
              "    background-color: #E8F0FE;\n",
              "    border: none;\n",
              "    border-radius: 50%;\n",
              "    cursor: pointer;\n",
              "    display: none;\n",
              "    fill: #1967D2;\n",
              "    height: 32px;\n",
              "    padding: 0 0 0 0;\n",
              "    width: 32px;\n",
              "  }\n",
              "\n",
              "  .colab-df-quickchart:hover {\n",
              "    background-color: #E2EBFA;\n",
              "    box-shadow: 0px 1px 2px rgba(60, 64, 67, 0.3), 0px 1px 3px 1px rgba(60, 64, 67, 0.15);\n",
              "    fill: #174EA6;\n",
              "  }\n",
              "\n",
              "  [theme=dark] .colab-df-quickchart {\n",
              "    background-color: #3B4455;\n",
              "    fill: #D2E3FC;\n",
              "  }\n",
              "\n",
              "  [theme=dark] .colab-df-quickchart:hover {\n",
              "    background-color: #434B5C;\n",
              "    box-shadow: 0px 1px 3px 1px rgba(0, 0, 0, 0.15);\n",
              "    filter: drop-shadow(0px 1px 2px rgba(0, 0, 0, 0.3));\n",
              "    fill: #FFFFFF;\n",
              "  }\n",
              "</style>\n",
              "\n",
              "  <script>\n",
              "    async function quickchart(key) {\n",
              "      const charts = await google.colab.kernel.invokeFunction(\n",
              "          'suggestCharts', [key], {});\n",
              "    }\n",
              "    (() => {\n",
              "      let quickchartButtonEl =\n",
              "        document.querySelector('#df-3cec883a-5a7e-43c3-a394-471a8c615735 button');\n",
              "      quickchartButtonEl.style.display =\n",
              "        google.colab.kernel.accessAllowed ? 'block' : 'none';\n",
              "    })();\n",
              "  </script>\n",
              "</div>\n",
              "    </div>\n",
              "  </div>\n"
            ]
          },
          "metadata": {},
          "execution_count": 20
        }
      ],
      "source": [
        "# определяем максимальную и минимальную дату регистрации\n",
        "df.agg({'first_date':[min, max]})"
      ]
    },
    {
      "cell_type": "markdown",
      "metadata": {
        "id": "0N8r4iFG89XU"
      },
      "source": [
        "Согласно ТЗ, период регистрации должен быть с 7 по 21 декабря 2020. У нас данные с регистрацией до 23 декабря 2020. В таблице выше видно, что у нас несколько тестов, проверим даты регистрации именно в наш тест"
      ]
    },
    {
      "cell_type": "code",
      "execution_count": 21,
      "metadata": {
        "colab": {
          "base_uri": "https://localhost:8080/",
          "height": 112
        },
        "id": "zCN3RRcwAXsK",
        "outputId": "6b5c67aa-2606-4193-db7a-b8cd2443b820"
      },
      "outputs": [
        {
          "output_type": "execute_result",
          "data": {
            "text/plain": [
              "    first_date\n",
              "min 2020-12-07\n",
              "max 2020-12-21"
            ],
            "text/html": [
              "\n",
              "  <div id=\"df-634010e5-37c9-41d1-a1d0-246f3939fed0\" class=\"colab-df-container\">\n",
              "    <div>\n",
              "<style scoped>\n",
              "    .dataframe tbody tr th:only-of-type {\n",
              "        vertical-align: middle;\n",
              "    }\n",
              "\n",
              "    .dataframe tbody tr th {\n",
              "        vertical-align: top;\n",
              "    }\n",
              "\n",
              "    .dataframe thead th {\n",
              "        text-align: right;\n",
              "    }\n",
              "</style>\n",
              "<table border=\"1\" class=\"dataframe\">\n",
              "  <thead>\n",
              "    <tr style=\"text-align: right;\">\n",
              "      <th></th>\n",
              "      <th>first_date</th>\n",
              "    </tr>\n",
              "  </thead>\n",
              "  <tbody>\n",
              "    <tr>\n",
              "      <th>min</th>\n",
              "      <td>2020-12-07</td>\n",
              "    </tr>\n",
              "    <tr>\n",
              "      <th>max</th>\n",
              "      <td>2020-12-21</td>\n",
              "    </tr>\n",
              "  </tbody>\n",
              "</table>\n",
              "</div>\n",
              "    <div class=\"colab-df-buttons\">\n",
              "\n",
              "  <div class=\"colab-df-container\">\n",
              "    <button class=\"colab-df-convert\" onclick=\"convertToInteractive('df-634010e5-37c9-41d1-a1d0-246f3939fed0')\"\n",
              "            title=\"Convert this dataframe to an interactive table.\"\n",
              "            style=\"display:none;\">\n",
              "\n",
              "  <svg xmlns=\"http://www.w3.org/2000/svg\" height=\"24px\" viewBox=\"0 -960 960 960\">\n",
              "    <path d=\"M120-120v-720h720v720H120Zm60-500h600v-160H180v160Zm220 220h160v-160H400v160Zm0 220h160v-160H400v160ZM180-400h160v-160H180v160Zm440 0h160v-160H620v160ZM180-180h160v-160H180v160Zm440 0h160v-160H620v160Z\"/>\n",
              "  </svg>\n",
              "    </button>\n",
              "\n",
              "  <style>\n",
              "    .colab-df-container {\n",
              "      display:flex;\n",
              "      gap: 12px;\n",
              "    }\n",
              "\n",
              "    .colab-df-convert {\n",
              "      background-color: #E8F0FE;\n",
              "      border: none;\n",
              "      border-radius: 50%;\n",
              "      cursor: pointer;\n",
              "      display: none;\n",
              "      fill: #1967D2;\n",
              "      height: 32px;\n",
              "      padding: 0 0 0 0;\n",
              "      width: 32px;\n",
              "    }\n",
              "\n",
              "    .colab-df-convert:hover {\n",
              "      background-color: #E2EBFA;\n",
              "      box-shadow: 0px 1px 2px rgba(60, 64, 67, 0.3), 0px 1px 3px 1px rgba(60, 64, 67, 0.15);\n",
              "      fill: #174EA6;\n",
              "    }\n",
              "\n",
              "    .colab-df-buttons div {\n",
              "      margin-bottom: 4px;\n",
              "    }\n",
              "\n",
              "    [theme=dark] .colab-df-convert {\n",
              "      background-color: #3B4455;\n",
              "      fill: #D2E3FC;\n",
              "    }\n",
              "\n",
              "    [theme=dark] .colab-df-convert:hover {\n",
              "      background-color: #434B5C;\n",
              "      box-shadow: 0px 1px 3px 1px rgba(0, 0, 0, 0.15);\n",
              "      filter: drop-shadow(0px 1px 2px rgba(0, 0, 0, 0.3));\n",
              "      fill: #FFFFFF;\n",
              "    }\n",
              "  </style>\n",
              "\n",
              "    <script>\n",
              "      const buttonEl =\n",
              "        document.querySelector('#df-634010e5-37c9-41d1-a1d0-246f3939fed0 button.colab-df-convert');\n",
              "      buttonEl.style.display =\n",
              "        google.colab.kernel.accessAllowed ? 'block' : 'none';\n",
              "\n",
              "      async function convertToInteractive(key) {\n",
              "        const element = document.querySelector('#df-634010e5-37c9-41d1-a1d0-246f3939fed0');\n",
              "        const dataTable =\n",
              "          await google.colab.kernel.invokeFunction('convertToInteractive',\n",
              "                                                    [key], {});\n",
              "        if (!dataTable) return;\n",
              "\n",
              "        const docLinkHtml = 'Like what you see? Visit the ' +\n",
              "          '<a target=\"_blank\" href=https://colab.research.google.com/notebooks/data_table.ipynb>data table notebook</a>'\n",
              "          + ' to learn more about interactive tables.';\n",
              "        element.innerHTML = '';\n",
              "        dataTable['output_type'] = 'display_data';\n",
              "        await google.colab.output.renderOutput(dataTable, element);\n",
              "        const docLink = document.createElement('div');\n",
              "        docLink.innerHTML = docLinkHtml;\n",
              "        element.appendChild(docLink);\n",
              "      }\n",
              "    </script>\n",
              "  </div>\n",
              "\n",
              "\n",
              "<div id=\"df-1d496a14-8b3a-4789-b97c-510be34a4fd7\">\n",
              "  <button class=\"colab-df-quickchart\" onclick=\"quickchart('df-1d496a14-8b3a-4789-b97c-510be34a4fd7')\"\n",
              "            title=\"Suggest charts.\"\n",
              "            style=\"display:none;\">\n",
              "\n",
              "<svg xmlns=\"http://www.w3.org/2000/svg\" height=\"24px\"viewBox=\"0 0 24 24\"\n",
              "     width=\"24px\">\n",
              "    <g>\n",
              "        <path d=\"M19 3H5c-1.1 0-2 .9-2 2v14c0 1.1.9 2 2 2h14c1.1 0 2-.9 2-2V5c0-1.1-.9-2-2-2zM9 17H7v-7h2v7zm4 0h-2V7h2v10zm4 0h-2v-4h2v4z\"/>\n",
              "    </g>\n",
              "</svg>\n",
              "  </button>\n",
              "\n",
              "<style>\n",
              "  .colab-df-quickchart {\n",
              "    background-color: #E8F0FE;\n",
              "    border: none;\n",
              "    border-radius: 50%;\n",
              "    cursor: pointer;\n",
              "    display: none;\n",
              "    fill: #1967D2;\n",
              "    height: 32px;\n",
              "    padding: 0 0 0 0;\n",
              "    width: 32px;\n",
              "  }\n",
              "\n",
              "  .colab-df-quickchart:hover {\n",
              "    background-color: #E2EBFA;\n",
              "    box-shadow: 0px 1px 2px rgba(60, 64, 67, 0.3), 0px 1px 3px 1px rgba(60, 64, 67, 0.15);\n",
              "    fill: #174EA6;\n",
              "  }\n",
              "\n",
              "  [theme=dark] .colab-df-quickchart {\n",
              "    background-color: #3B4455;\n",
              "    fill: #D2E3FC;\n",
              "  }\n",
              "\n",
              "  [theme=dark] .colab-df-quickchart:hover {\n",
              "    background-color: #434B5C;\n",
              "    box-shadow: 0px 1px 3px 1px rgba(0, 0, 0, 0.15);\n",
              "    filter: drop-shadow(0px 1px 2px rgba(0, 0, 0, 0.3));\n",
              "    fill: #FFFFFF;\n",
              "  }\n",
              "</style>\n",
              "\n",
              "  <script>\n",
              "    async function quickchart(key) {\n",
              "      const charts = await google.colab.kernel.invokeFunction(\n",
              "          'suggestCharts', [key], {});\n",
              "    }\n",
              "    (() => {\n",
              "      let quickchartButtonEl =\n",
              "        document.querySelector('#df-1d496a14-8b3a-4789-b97c-510be34a4fd7 button');\n",
              "      quickchartButtonEl.style.display =\n",
              "        google.colab.kernel.accessAllowed ? 'block' : 'none';\n",
              "    })();\n",
              "  </script>\n",
              "</div>\n",
              "    </div>\n",
              "  </div>\n"
            ]
          },
          "metadata": {},
          "execution_count": 21
        }
      ],
      "source": [
        "# даты регистрации в наш тест\n",
        "df.query('ab_test == \"recommender_system_test\"').agg({'first_date':[min, max]})"
      ]
    },
    {
      "cell_type": "markdown",
      "metadata": {
        "id": "3C4mMY8VE54Y"
      },
      "source": [
        "Здесь даты регистрации совпадают с ТЗ"
      ]
    },
    {
      "cell_type": "code",
      "execution_count": 22,
      "metadata": {
        "colab": {
          "base_uri": "https://localhost:8080/"
        },
        "id": "p0QBSn4YBN3C",
        "outputId": "f4dd9b0e-bd7c-461a-c3a0-dcfe22ca2611"
      },
      "outputs": [
        {
          "output_type": "execute_result",
          "data": {
            "text/plain": [
              "0.15"
            ]
          },
          "metadata": {},
          "execution_count": 22
        }
      ],
      "source": [
        "# доля европейцев, попавших в наш тест\n",
        "((df.query('region == \"EU\" and ab_test == \"recommender_system_test\"')['user_id'].nunique()) /\n",
        " (df.query('region == \"EU\" and first_date <= \"2020-12-21\"')['user_id'].nunique()))"
      ]
    },
    {
      "cell_type": "markdown",
      "metadata": {
        "id": "ZJR0NMOCFKjS"
      },
      "source": [
        "Аудитория теста: 15% новых пользователей из региона EU, что соответствует ТЗ"
      ]
    },
    {
      "cell_type": "code",
      "execution_count": 23,
      "metadata": {
        "colab": {
          "base_uri": "https://localhost:8080/"
        },
        "id": "UzVl2gyuFk_2",
        "outputId": "e4aa8249-a597-4efa-fcb2-3bcf7e41e48b"
      },
      "outputs": [
        {
          "output_type": "execute_result",
          "data": {
            "text/plain": [
              "6351"
            ]
          },
          "metadata": {},
          "execution_count": 23
        }
      ],
      "source": [
        "# количество участников теста\n",
        "(df.query('region == \"EU\" and ab_test == \"recommender_system_test\"')['user_id'].nunique())"
      ]
    },
    {
      "cell_type": "markdown",
      "metadata": {
        "id": "OtFeo413IuS8"
      },
      "source": [
        "На данном этапе количество пользователей в нашем тесте немного больше, чем ТЗ, но нам еще нужно проверить другие критерии"
      ]
    },
    {
      "cell_type": "code",
      "execution_count": 24,
      "metadata": {
        "colab": {
          "base_uri": "https://localhost:8080/"
        },
        "id": "RMrjqwDXrpU-",
        "outputId": "95f3c122-eb49-4d82-9966-09044777077d"
      },
      "outputs": [
        {
          "output_type": "execute_result",
          "data": {
            "text/plain": [
              "array(['recommender_system_test', nan, 'interface_eu_test'], dtype=object)"
            ]
          },
          "metadata": {},
          "execution_count": 24
        }
      ],
      "source": [
        "# посмотрим, сколько у нас тестов\n",
        "df['ab_test'].unique()"
      ]
    },
    {
      "cell_type": "markdown",
      "metadata": {
        "id": "zRmPPgoQOnca"
      },
      "source": [
        "В данных 2 вида тестов и есть пользователи, которые не попали ни в один тест"
      ]
    },
    {
      "cell_type": "code",
      "execution_count": 25,
      "metadata": {
        "id": "uArp2_t1NwL_"
      },
      "outputs": [],
      "source": [
        "# уберем пользователей которые не попали ни в один тест\n",
        "df = df.query('ab_test == \"recommender_system_test\" or ab_test == \"interface_eu_test\"')"
      ]
    },
    {
      "cell_type": "code",
      "execution_count": 26,
      "metadata": {
        "colab": {
          "base_uri": "https://localhost:8080/"
        },
        "id": "ks8v3aX_OxoJ",
        "outputId": "84a106d6-a885-4cdc-cd99-931f20ea9360"
      },
      "outputs": [
        {
          "output_type": "execute_result",
          "data": {
            "text/plain": [
              "array(['A', 'B'], dtype=object)"
            ]
          },
          "metadata": {},
          "execution_count": 26
        }
      ],
      "source": [
        "# проверим, сколько у нас групп\n",
        "df['group'].unique()"
      ]
    },
    {
      "cell_type": "markdown",
      "metadata": {
        "id": "niSULR4oPRqP"
      },
      "source": [
        "У нас в данных 2 группы:А (контрольная), B (новая платёжная воронка), что соответствует ТЗ"
      ]
    },
    {
      "cell_type": "markdown",
      "metadata": {
        "id": "NikTyK6iPx_K"
      },
      "source": [
        "Проверим, нет ли пересечения пользователей между экспериментальными группами 2х тестов. Также проверим, не попали ли пользователи из группы В второго теста в нашу группу А. Так как обе группы А видят неизмененную версию сайта, то пересечение А-А не страшно"
      ]
    },
    {
      "cell_type": "code",
      "execution_count": 27,
      "metadata": {
        "id": "Rgh6wCUSPz0S"
      },
      "outputs": [],
      "source": [
        "# отбираем пользователей группы В из теста interface_eu_test\n",
        "interface_b = df.query('group == \"B\" and ab_test == \"interface_eu_test\"')['user_id'].unique()"
      ]
    },
    {
      "cell_type": "code",
      "execution_count": 28,
      "metadata": {
        "colab": {
          "base_uri": "https://localhost:8080/"
        },
        "id": "4dmIo8d9QFe-",
        "outputId": "56b6c943-e29c-4ac0-a7e0-9a8e00f217c0"
      },
      "outputs": [
        {
          "output_type": "execute_result",
          "data": {
            "text/plain": [
              "344"
            ]
          },
          "metadata": {},
          "execution_count": 28
        }
      ],
      "source": [
        "# проверим, есть ли песечения в группах В 2х тестов\n",
        "df.query('group == \"B\" and ab_test == \"recommender_system_test\" and user_id in @interface_b')['user_id'].nunique()"
      ]
    },
    {
      "cell_type": "markdown",
      "metadata": {
        "id": "9tz81wvDQT01"
      },
      "source": [
        "344 пользователя попали в экспериментальные группы обоих тестов. Проверим, не попали ли пользователи из группы В второго теста в нашу группу А"
      ]
    },
    {
      "cell_type": "code",
      "execution_count": 29,
      "metadata": {
        "colab": {
          "base_uri": "https://localhost:8080/"
        },
        "id": "F5q1jSQdZbQL",
        "outputId": "da081887-4825-40a7-e8cc-f20990d269b0"
      },
      "outputs": [
        {
          "output_type": "execute_result",
          "data": {
            "text/plain": [
              "439"
            ]
          },
          "metadata": {},
          "execution_count": 29
        }
      ],
      "source": [
        "# проверим, есть ли пересечения между группой А нашего теста и группой В второго теста\n",
        "df.query('group == \"A\" and ab_test == \"recommender_system_test\" and user_id in @interface_b')['user_id'].nunique()"
      ]
    },
    {
      "cell_type": "markdown",
      "metadata": {
        "id": "vcydPKnAcFTM"
      },
      "source": [
        "439 пользователей из группы В второго теста попали в группу А нашего теста"
      ]
    },
    {
      "cell_type": "markdown",
      "metadata": {
        "id": "sRcFYq20cIv9"
      },
      "source": [
        "Чтобы избежать влияния на наши результаты второго теста, удалим пересекащихся пользователей."
      ]
    },
    {
      "cell_type": "code",
      "execution_count": 30,
      "metadata": {
        "id": "MrSRx1MkQuZE"
      },
      "outputs": [],
      "source": [
        "# отберем пользователей, попавших в наш тест и не попавших в группу В второго теста\n",
        "df = df.query('ab_test == \"recommender_system_test\" and user_id not in @interface_b')"
      ]
    },
    {
      "cell_type": "code",
      "execution_count": 31,
      "metadata": {
        "colab": {
          "base_uri": "https://localhost:8080/"
        },
        "id": "xmWghEqQRvig",
        "outputId": "5223faea-819e-4d47-8b1c-d9f427b508be"
      },
      "outputs": [
        {
          "output_type": "execute_result",
          "data": {
            "text/plain": [
              "group    0\n",
              "dtype: int64"
            ]
          },
          "metadata": {},
          "execution_count": 31
        }
      ],
      "source": [
        "# проверяем нет ли пересечения между группами нашего теста\n",
        "df.groupby('user_id').agg({'group':'nunique'}).query('group > 1').count()"
      ]
    },
    {
      "cell_type": "markdown",
      "metadata": {
        "id": "dgFOREllRzEW"
      },
      "source": [
        "Пользователи между группами не пересекаются"
      ]
    },
    {
      "cell_type": "code",
      "execution_count": 32,
      "metadata": {
        "colab": {
          "base_uri": "https://localhost:8080/",
          "height": 112
        },
        "id": "pW-AnDgKXDIC",
        "outputId": "77202d29-b1f1-47bd-a06a-868221eb3551"
      },
      "outputs": [
        {
          "output_type": "execute_result",
          "data": {
            "text/plain": [
              "               event_dt\n",
              "min 2020-12-07 00:05:57\n",
              "max 2020-12-30 12:42:57"
            ],
            "text/html": [
              "\n",
              "  <div id=\"df-44166518-499e-482d-8821-448f646e2b7c\" class=\"colab-df-container\">\n",
              "    <div>\n",
              "<style scoped>\n",
              "    .dataframe tbody tr th:only-of-type {\n",
              "        vertical-align: middle;\n",
              "    }\n",
              "\n",
              "    .dataframe tbody tr th {\n",
              "        vertical-align: top;\n",
              "    }\n",
              "\n",
              "    .dataframe thead th {\n",
              "        text-align: right;\n",
              "    }\n",
              "</style>\n",
              "<table border=\"1\" class=\"dataframe\">\n",
              "  <thead>\n",
              "    <tr style=\"text-align: right;\">\n",
              "      <th></th>\n",
              "      <th>event_dt</th>\n",
              "    </tr>\n",
              "  </thead>\n",
              "  <tbody>\n",
              "    <tr>\n",
              "      <th>min</th>\n",
              "      <td>2020-12-07 00:05:57</td>\n",
              "    </tr>\n",
              "    <tr>\n",
              "      <th>max</th>\n",
              "      <td>2020-12-30 12:42:57</td>\n",
              "    </tr>\n",
              "  </tbody>\n",
              "</table>\n",
              "</div>\n",
              "    <div class=\"colab-df-buttons\">\n",
              "\n",
              "  <div class=\"colab-df-container\">\n",
              "    <button class=\"colab-df-convert\" onclick=\"convertToInteractive('df-44166518-499e-482d-8821-448f646e2b7c')\"\n",
              "            title=\"Convert this dataframe to an interactive table.\"\n",
              "            style=\"display:none;\">\n",
              "\n",
              "  <svg xmlns=\"http://www.w3.org/2000/svg\" height=\"24px\" viewBox=\"0 -960 960 960\">\n",
              "    <path d=\"M120-120v-720h720v720H120Zm60-500h600v-160H180v160Zm220 220h160v-160H400v160Zm0 220h160v-160H400v160ZM180-400h160v-160H180v160Zm440 0h160v-160H620v160ZM180-180h160v-160H180v160Zm440 0h160v-160H620v160Z\"/>\n",
              "  </svg>\n",
              "    </button>\n",
              "\n",
              "  <style>\n",
              "    .colab-df-container {\n",
              "      display:flex;\n",
              "      gap: 12px;\n",
              "    }\n",
              "\n",
              "    .colab-df-convert {\n",
              "      background-color: #E8F0FE;\n",
              "      border: none;\n",
              "      border-radius: 50%;\n",
              "      cursor: pointer;\n",
              "      display: none;\n",
              "      fill: #1967D2;\n",
              "      height: 32px;\n",
              "      padding: 0 0 0 0;\n",
              "      width: 32px;\n",
              "    }\n",
              "\n",
              "    .colab-df-convert:hover {\n",
              "      background-color: #E2EBFA;\n",
              "      box-shadow: 0px 1px 2px rgba(60, 64, 67, 0.3), 0px 1px 3px 1px rgba(60, 64, 67, 0.15);\n",
              "      fill: #174EA6;\n",
              "    }\n",
              "\n",
              "    .colab-df-buttons div {\n",
              "      margin-bottom: 4px;\n",
              "    }\n",
              "\n",
              "    [theme=dark] .colab-df-convert {\n",
              "      background-color: #3B4455;\n",
              "      fill: #D2E3FC;\n",
              "    }\n",
              "\n",
              "    [theme=dark] .colab-df-convert:hover {\n",
              "      background-color: #434B5C;\n",
              "      box-shadow: 0px 1px 3px 1px rgba(0, 0, 0, 0.15);\n",
              "      filter: drop-shadow(0px 1px 2px rgba(0, 0, 0, 0.3));\n",
              "      fill: #FFFFFF;\n",
              "    }\n",
              "  </style>\n",
              "\n",
              "    <script>\n",
              "      const buttonEl =\n",
              "        document.querySelector('#df-44166518-499e-482d-8821-448f646e2b7c button.colab-df-convert');\n",
              "      buttonEl.style.display =\n",
              "        google.colab.kernel.accessAllowed ? 'block' : 'none';\n",
              "\n",
              "      async function convertToInteractive(key) {\n",
              "        const element = document.querySelector('#df-44166518-499e-482d-8821-448f646e2b7c');\n",
              "        const dataTable =\n",
              "          await google.colab.kernel.invokeFunction('convertToInteractive',\n",
              "                                                    [key], {});\n",
              "        if (!dataTable) return;\n",
              "\n",
              "        const docLinkHtml = 'Like what you see? Visit the ' +\n",
              "          '<a target=\"_blank\" href=https://colab.research.google.com/notebooks/data_table.ipynb>data table notebook</a>'\n",
              "          + ' to learn more about interactive tables.';\n",
              "        element.innerHTML = '';\n",
              "        dataTable['output_type'] = 'display_data';\n",
              "        await google.colab.output.renderOutput(dataTable, element);\n",
              "        const docLink = document.createElement('div');\n",
              "        docLink.innerHTML = docLinkHtml;\n",
              "        element.appendChild(docLink);\n",
              "      }\n",
              "    </script>\n",
              "  </div>\n",
              "\n",
              "\n",
              "<div id=\"df-9cc5c9ff-165c-4f61-8583-a6d761d883d3\">\n",
              "  <button class=\"colab-df-quickchart\" onclick=\"quickchart('df-9cc5c9ff-165c-4f61-8583-a6d761d883d3')\"\n",
              "            title=\"Suggest charts.\"\n",
              "            style=\"display:none;\">\n",
              "\n",
              "<svg xmlns=\"http://www.w3.org/2000/svg\" height=\"24px\"viewBox=\"0 0 24 24\"\n",
              "     width=\"24px\">\n",
              "    <g>\n",
              "        <path d=\"M19 3H5c-1.1 0-2 .9-2 2v14c0 1.1.9 2 2 2h14c1.1 0 2-.9 2-2V5c0-1.1-.9-2-2-2zM9 17H7v-7h2v7zm4 0h-2V7h2v10zm4 0h-2v-4h2v4z\"/>\n",
              "    </g>\n",
              "</svg>\n",
              "  </button>\n",
              "\n",
              "<style>\n",
              "  .colab-df-quickchart {\n",
              "    background-color: #E8F0FE;\n",
              "    border: none;\n",
              "    border-radius: 50%;\n",
              "    cursor: pointer;\n",
              "    display: none;\n",
              "    fill: #1967D2;\n",
              "    height: 32px;\n",
              "    padding: 0 0 0 0;\n",
              "    width: 32px;\n",
              "  }\n",
              "\n",
              "  .colab-df-quickchart:hover {\n",
              "    background-color: #E2EBFA;\n",
              "    box-shadow: 0px 1px 2px rgba(60, 64, 67, 0.3), 0px 1px 3px 1px rgba(60, 64, 67, 0.15);\n",
              "    fill: #174EA6;\n",
              "  }\n",
              "\n",
              "  [theme=dark] .colab-df-quickchart {\n",
              "    background-color: #3B4455;\n",
              "    fill: #D2E3FC;\n",
              "  }\n",
              "\n",
              "  [theme=dark] .colab-df-quickchart:hover {\n",
              "    background-color: #434B5C;\n",
              "    box-shadow: 0px 1px 3px 1px rgba(0, 0, 0, 0.15);\n",
              "    filter: drop-shadow(0px 1px 2px rgba(0, 0, 0, 0.3));\n",
              "    fill: #FFFFFF;\n",
              "  }\n",
              "</style>\n",
              "\n",
              "  <script>\n",
              "    async function quickchart(key) {\n",
              "      const charts = await google.colab.kernel.invokeFunction(\n",
              "          'suggestCharts', [key], {});\n",
              "    }\n",
              "    (() => {\n",
              "      let quickchartButtonEl =\n",
              "        document.querySelector('#df-9cc5c9ff-165c-4f61-8583-a6d761d883d3 button');\n",
              "      quickchartButtonEl.style.display =\n",
              "        google.colab.kernel.accessAllowed ? 'block' : 'none';\n",
              "    })();\n",
              "  </script>\n",
              "</div>\n",
              "    </div>\n",
              "  </div>\n"
            ]
          },
          "metadata": {},
          "execution_count": 32
        }
      ],
      "source": [
        "# определяем максимальную и минимальную дату событий\n",
        "df.agg({'event_dt':[min, max]})"
      ]
    },
    {
      "cell_type": "markdown",
      "metadata": {
        "id": "HCCE10lJX0Y7"
      },
      "source": [
        "Очевидно, тест был остановлен на 5 дней раньше, чем указано в ТЗ, значит, не все пользователи успеют прожить заданный в ТЗ период 14 дней"
      ]
    },
    {
      "cell_type": "code",
      "execution_count": 33,
      "metadata": {
        "colab": {
          "base_uri": "https://localhost:8080/"
        },
        "id": "k320B5hoWE4o",
        "outputId": "b260415e-f56c-4316-c0df-797ec5a36903"
      },
      "outputs": [
        {
          "output_type": "execute_result",
          "data": {
            "text/plain": [
              "2674"
            ]
          },
          "metadata": {},
          "execution_count": 33
        }
      ],
      "source": [
        "# проверим, есть ли пользователи не совершившие ни одного события\n",
        "df['event_dt'].isna().sum()"
      ]
    },
    {
      "cell_type": "markdown",
      "metadata": {
        "id": "vlXrv8u4YRkM"
      },
      "source": [
        "2674 пользователя не совершали событий, а только зарегистрировались. Влияние изменения рекомендательной системы на их поведение мы не можем оценить, поэтому их нужно исключить их исследования\n",
        "\n"
      ]
    },
    {
      "cell_type": "code",
      "execution_count": 34,
      "metadata": {
        "id": "RDbooTesOqir"
      },
      "outputs": [],
      "source": [
        "# считаем лайфтайм\n",
        "df['lifetime'] = (df['event_dt'] - df['first_date']).dt.days"
      ]
    },
    {
      "cell_type": "code",
      "execution_count": 35,
      "metadata": {
        "colab": {
          "base_uri": "https://localhost:8080/"
        },
        "id": "2BKznXvG_F3-",
        "outputId": "eff56c1a-9a34-48ba-e1a9-282f99f605f2"
      },
      "outputs": [
        {
          "output_type": "execute_result",
          "data": {
            "text/plain": [
              "array([ 0.,  1.,  3.,  9., 11., 23.,  2.,  5., 21., 10., 13., 19., nan,\n",
              "        4.,  7.,  6., 22., 15.,  8., 20., 18., 12., 17., 16., 14.])"
            ]
          },
          "metadata": {},
          "execution_count": 35
        }
      ],
      "source": [
        "df['lifetime'].unique()"
      ]
    },
    {
      "cell_type": "code",
      "execution_count": 36,
      "metadata": {
        "id": "alnXW1XTHRPG"
      },
      "outputs": [],
      "source": [
        "# отбираем события, у которых лайфтайм не больше 14 дней и избавляемся от неактивных пользователей\n",
        "df = df.query('lifetime <= 14')"
      ]
    },
    {
      "cell_type": "code",
      "execution_count": 37,
      "metadata": {
        "colab": {
          "base_uri": "https://localhost:8080/"
        },
        "id": "FpCPxUmwQfuP",
        "outputId": "5bfe687c-7396-4f06-dc51-bd3c2b265910"
      },
      "outputs": [
        {
          "output_type": "execute_result",
          "data": {
            "text/plain": [
              "array(['EU', 'APAC', 'CIS', 'N.America'], dtype=object)"
            ]
          },
          "metadata": {},
          "execution_count": 37
        }
      ],
      "source": [
        "# посмотрим, какие у нас есть регионы\n",
        "df['region'].unique()"
      ]
    },
    {
      "cell_type": "markdown",
      "metadata": {
        "id": "LF7u3VVgFwnQ"
      },
      "source": [
        "Так как по ТЗ у нас должны быть пользователи только из Европейского союза, уберем пользователей из других регионов"
      ]
    },
    {
      "cell_type": "code",
      "execution_count": 38,
      "metadata": {
        "id": "cmkVNKlFHSd_"
      },
      "outputs": [],
      "source": [
        "# отбираем пользователей только из EU\n",
        "df = df.query('region == \"EU\"')"
      ]
    },
    {
      "cell_type": "code",
      "execution_count": 39,
      "metadata": {
        "colab": {
          "base_uri": "https://localhost:8080/"
        },
        "id": "wZX7X0fLIkux",
        "outputId": "55051513-1ce9-479a-f9aa-298f37d1b36a"
      },
      "outputs": [
        {
          "output_type": "stream",
          "name": "stdout",
          "text": [
            "Количество уникальных пользователей: 3050\n"
          ]
        }
      ],
      "source": [
        "# уникальные пользователи\n",
        "(print('Количество уникальных пользователей:', df['user_id'].nunique()))"
      ]
    },
    {
      "cell_type": "code",
      "execution_count": 40,
      "metadata": {
        "colab": {
          "base_uri": "https://localhost:8080/"
        },
        "id": "VIjSKpkfIC9U",
        "outputId": "6e26ebb2-a47d-4a48-c533-4f108feaa56d"
      },
      "outputs": [
        {
          "output_type": "execute_result",
          "data": {
            "text/plain": [
              "group\n",
              "A    2279\n",
              "B     771\n",
              "Name: user_id, dtype: int64"
            ]
          },
          "metadata": {},
          "execution_count": 40
        }
      ],
      "source": [
        "# уникальные пользователи по группам\n",
        "df.groupby('group')['user_id'].nunique()"
      ]
    },
    {
      "cell_type": "markdown",
      "metadata": {
        "id": "50NKYxQ4Te7K"
      },
      "source": [
        "Распределение по группам неравномерное. В группе А почти в 3 раза больше пользователей, чем в группе В"
      ]
    },
    {
      "cell_type": "markdown",
      "metadata": {
        "id": "Bpf63l8FWfz0"
      },
      "source": [
        "Проверим, были ли маркетинговые события в период проведения теста\n"
      ]
    },
    {
      "cell_type": "code",
      "execution_count": 41,
      "metadata": {
        "id": "JFtTn4OAWuPb"
      },
      "outputs": [],
      "source": [
        "# создадим переменные с временным периодом теста\n",
        "start = df['event_dt'].min()\n",
        "finish = df['event_dt'].max()"
      ]
    },
    {
      "cell_type": "code",
      "execution_count": 42,
      "metadata": {
        "colab": {
          "base_uri": "https://localhost:8080/",
          "height": 112
        },
        "id": "J8dwk0xYUu2i",
        "outputId": "bb7b13c7-c776-4c72-a750-576f4d10e3dc"
      },
      "outputs": [
        {
          "output_type": "execute_result",
          "data": {
            "text/plain": [
              "                         name        regions   start_dt  finish_dt\n",
              "0    Christmas&New Year Promo  EU, N.America 2020-12-25 2021-01-03\n",
              "10  CIS New Year Gift Lottery            CIS 2020-12-30 2021-01-07"
            ],
            "text/html": [
              "\n",
              "  <div id=\"df-c26b6f50-a909-4a75-a05f-bff53d33cdbc\" class=\"colab-df-container\">\n",
              "    <div>\n",
              "<style scoped>\n",
              "    .dataframe tbody tr th:only-of-type {\n",
              "        vertical-align: middle;\n",
              "    }\n",
              "\n",
              "    .dataframe tbody tr th {\n",
              "        vertical-align: top;\n",
              "    }\n",
              "\n",
              "    .dataframe thead th {\n",
              "        text-align: right;\n",
              "    }\n",
              "</style>\n",
              "<table border=\"1\" class=\"dataframe\">\n",
              "  <thead>\n",
              "    <tr style=\"text-align: right;\">\n",
              "      <th></th>\n",
              "      <th>name</th>\n",
              "      <th>regions</th>\n",
              "      <th>start_dt</th>\n",
              "      <th>finish_dt</th>\n",
              "    </tr>\n",
              "  </thead>\n",
              "  <tbody>\n",
              "    <tr>\n",
              "      <th>0</th>\n",
              "      <td>Christmas&amp;New Year Promo</td>\n",
              "      <td>EU, N.America</td>\n",
              "      <td>2020-12-25</td>\n",
              "      <td>2021-01-03</td>\n",
              "    </tr>\n",
              "    <tr>\n",
              "      <th>10</th>\n",
              "      <td>CIS New Year Gift Lottery</td>\n",
              "      <td>CIS</td>\n",
              "      <td>2020-12-30</td>\n",
              "      <td>2021-01-07</td>\n",
              "    </tr>\n",
              "  </tbody>\n",
              "</table>\n",
              "</div>\n",
              "    <div class=\"colab-df-buttons\">\n",
              "\n",
              "  <div class=\"colab-df-container\">\n",
              "    <button class=\"colab-df-convert\" onclick=\"convertToInteractive('df-c26b6f50-a909-4a75-a05f-bff53d33cdbc')\"\n",
              "            title=\"Convert this dataframe to an interactive table.\"\n",
              "            style=\"display:none;\">\n",
              "\n",
              "  <svg xmlns=\"http://www.w3.org/2000/svg\" height=\"24px\" viewBox=\"0 -960 960 960\">\n",
              "    <path d=\"M120-120v-720h720v720H120Zm60-500h600v-160H180v160Zm220 220h160v-160H400v160Zm0 220h160v-160H400v160ZM180-400h160v-160H180v160Zm440 0h160v-160H620v160ZM180-180h160v-160H180v160Zm440 0h160v-160H620v160Z\"/>\n",
              "  </svg>\n",
              "    </button>\n",
              "\n",
              "  <style>\n",
              "    .colab-df-container {\n",
              "      display:flex;\n",
              "      gap: 12px;\n",
              "    }\n",
              "\n",
              "    .colab-df-convert {\n",
              "      background-color: #E8F0FE;\n",
              "      border: none;\n",
              "      border-radius: 50%;\n",
              "      cursor: pointer;\n",
              "      display: none;\n",
              "      fill: #1967D2;\n",
              "      height: 32px;\n",
              "      padding: 0 0 0 0;\n",
              "      width: 32px;\n",
              "    }\n",
              "\n",
              "    .colab-df-convert:hover {\n",
              "      background-color: #E2EBFA;\n",
              "      box-shadow: 0px 1px 2px rgba(60, 64, 67, 0.3), 0px 1px 3px 1px rgba(60, 64, 67, 0.15);\n",
              "      fill: #174EA6;\n",
              "    }\n",
              "\n",
              "    .colab-df-buttons div {\n",
              "      margin-bottom: 4px;\n",
              "    }\n",
              "\n",
              "    [theme=dark] .colab-df-convert {\n",
              "      background-color: #3B4455;\n",
              "      fill: #D2E3FC;\n",
              "    }\n",
              "\n",
              "    [theme=dark] .colab-df-convert:hover {\n",
              "      background-color: #434B5C;\n",
              "      box-shadow: 0px 1px 3px 1px rgba(0, 0, 0, 0.15);\n",
              "      filter: drop-shadow(0px 1px 2px rgba(0, 0, 0, 0.3));\n",
              "      fill: #FFFFFF;\n",
              "    }\n",
              "  </style>\n",
              "\n",
              "    <script>\n",
              "      const buttonEl =\n",
              "        document.querySelector('#df-c26b6f50-a909-4a75-a05f-bff53d33cdbc button.colab-df-convert');\n",
              "      buttonEl.style.display =\n",
              "        google.colab.kernel.accessAllowed ? 'block' : 'none';\n",
              "\n",
              "      async function convertToInteractive(key) {\n",
              "        const element = document.querySelector('#df-c26b6f50-a909-4a75-a05f-bff53d33cdbc');\n",
              "        const dataTable =\n",
              "          await google.colab.kernel.invokeFunction('convertToInteractive',\n",
              "                                                    [key], {});\n",
              "        if (!dataTable) return;\n",
              "\n",
              "        const docLinkHtml = 'Like what you see? Visit the ' +\n",
              "          '<a target=\"_blank\" href=https://colab.research.google.com/notebooks/data_table.ipynb>data table notebook</a>'\n",
              "          + ' to learn more about interactive tables.';\n",
              "        element.innerHTML = '';\n",
              "        dataTable['output_type'] = 'display_data';\n",
              "        await google.colab.output.renderOutput(dataTable, element);\n",
              "        const docLink = document.createElement('div');\n",
              "        docLink.innerHTML = docLinkHtml;\n",
              "        element.appendChild(docLink);\n",
              "      }\n",
              "    </script>\n",
              "  </div>\n",
              "\n",
              "\n",
              "<div id=\"df-5eb37f08-e072-4e61-826c-27f15188f2a3\">\n",
              "  <button class=\"colab-df-quickchart\" onclick=\"quickchart('df-5eb37f08-e072-4e61-826c-27f15188f2a3')\"\n",
              "            title=\"Suggest charts.\"\n",
              "            style=\"display:none;\">\n",
              "\n",
              "<svg xmlns=\"http://www.w3.org/2000/svg\" height=\"24px\"viewBox=\"0 0 24 24\"\n",
              "     width=\"24px\">\n",
              "    <g>\n",
              "        <path d=\"M19 3H5c-1.1 0-2 .9-2 2v14c0 1.1.9 2 2 2h14c1.1 0 2-.9 2-2V5c0-1.1-.9-2-2-2zM9 17H7v-7h2v7zm4 0h-2V7h2v10zm4 0h-2v-4h2v4z\"/>\n",
              "    </g>\n",
              "</svg>\n",
              "  </button>\n",
              "\n",
              "<style>\n",
              "  .colab-df-quickchart {\n",
              "    background-color: #E8F0FE;\n",
              "    border: none;\n",
              "    border-radius: 50%;\n",
              "    cursor: pointer;\n",
              "    display: none;\n",
              "    fill: #1967D2;\n",
              "    height: 32px;\n",
              "    padding: 0 0 0 0;\n",
              "    width: 32px;\n",
              "  }\n",
              "\n",
              "  .colab-df-quickchart:hover {\n",
              "    background-color: #E2EBFA;\n",
              "    box-shadow: 0px 1px 2px rgba(60, 64, 67, 0.3), 0px 1px 3px 1px rgba(60, 64, 67, 0.15);\n",
              "    fill: #174EA6;\n",
              "  }\n",
              "\n",
              "  [theme=dark] .colab-df-quickchart {\n",
              "    background-color: #3B4455;\n",
              "    fill: #D2E3FC;\n",
              "  }\n",
              "\n",
              "  [theme=dark] .colab-df-quickchart:hover {\n",
              "    background-color: #434B5C;\n",
              "    box-shadow: 0px 1px 3px 1px rgba(0, 0, 0, 0.15);\n",
              "    filter: drop-shadow(0px 1px 2px rgba(0, 0, 0, 0.3));\n",
              "    fill: #FFFFFF;\n",
              "  }\n",
              "</style>\n",
              "\n",
              "  <script>\n",
              "    async function quickchart(key) {\n",
              "      const charts = await google.colab.kernel.invokeFunction(\n",
              "          'suggestCharts', [key], {});\n",
              "    }\n",
              "    (() => {\n",
              "      let quickchartButtonEl =\n",
              "        document.querySelector('#df-5eb37f08-e072-4e61-826c-27f15188f2a3 button');\n",
              "      quickchartButtonEl.style.display =\n",
              "        google.colab.kernel.accessAllowed ? 'block' : 'none';\n",
              "    })();\n",
              "  </script>\n",
              "</div>\n",
              "    </div>\n",
              "  </div>\n"
            ]
          },
          "metadata": {},
          "execution_count": 42
        }
      ],
      "source": [
        "# совпадающие маркетинговые мероприятия\n",
        "marketing.query('start_dt > @start or finish_dt > @start')"
      ]
    },
    {
      "cell_type": "markdown",
      "metadata": {
        "id": "4vJ7SXM4dACj"
      },
      "source": [
        "С периодом проведения теста совпали 2 маркетинговые мероприятия, но одно из них проводилось для региона СНГ. Для Евросоюза проводилось в этот период только Рождественская акция, что могло повлиять на поведение пользователей в последние 6 дней. Однако, она влияла как на поведение пользователей группы А, так и на поведение пользователей группы В, поэтому на конверсию не повлияет. Однако, об этой акции стоит помнить при расчете абсолютных показателей\n"
      ]
    },
    {
      "cell_type": "markdown",
      "metadata": {
        "id": "mDTzhisWeuXe"
      },
      "source": [
        "Данные были собраны с нарушением ТЗ, с пересечением с конкурирующим тестом и праздниками. После очистки данных количество пользователей сократилось до 3050"
      ]
    },
    {
      "cell_type": "markdown",
      "metadata": {
        "id": "6JGt1P90fNUX"
      },
      "source": [
        "## 3. Исследовательский анализ данных\n"
      ]
    },
    {
      "cell_type": "markdown",
      "metadata": {
        "id": "R0ukXRr9_ViK"
      },
      "source": [
        "### Количество событий на пользователя в выборках"
      ]
    },
    {
      "cell_type": "code",
      "execution_count": 43,
      "metadata": {
        "id": "CHcjJV-CcuVn"
      },
      "outputs": [],
      "source": [
        "# собираем данные по группам для графиков\n",
        "group_a = df.query('group == \"A\"').groupby('user_id').agg({'event_name':'count'}).reset_index()\n",
        "group_b = df.query('group == \"B\"').groupby('user_id').agg({'event_name':'count'}).reset_index()"
      ]
    },
    {
      "cell_type": "code",
      "execution_count": 44,
      "metadata": {
        "colab": {
          "base_uri": "https://localhost:8080/",
          "height": 573
        },
        "id": "S20MgL4zcvSs",
        "outputId": "00ec8c95-0b9a-4576-afdf-304c15341ad5"
      },
      "outputs": [
        {
          "output_type": "display_data",
          "data": {
            "text/plain": [
              "<Figure size 1200x600 with 1 Axes>"
            ],
            "image/png": "[encoded data removed]"
          },
          "metadata": {}
        }
      ],
      "source": [
        "# строим график\n",
        "group_a['event_name'].hist(label='group A')\n",
        "group_b['event_name'].hist(label='group B')\n",
        "plt.title('Распределение количества событий на пользователя по группам')\n",
        "plt.xlabel('количество событий')\n",
        "plt.ylabel('количество пользователей')\n",
        "plt.legend()\n",
        "plt.show();"
      ]
    },
    {
      "cell_type": "code",
      "execution_count": 45,
      "metadata": {
        "colab": {
          "base_uri": "https://localhost:8080/"
        },
        "id": "bWdCfaK_c4Gb",
        "outputId": "b20f3d61-8ee9-4b65-a3a2-e9911264762b"
      },
      "outputs": [
        {
          "output_type": "stream",
          "name": "stdout",
          "text": [
            "count    2279.000000\n",
            "mean        6.955244\n",
            "std         3.852837\n",
            "min         1.000000\n",
            "25%         4.000000\n",
            "50%         6.000000\n",
            "75%         9.000000\n",
            "max        24.000000\n",
            "Name: event_name, dtype: float64\n",
            "count    771.000000\n",
            "mean       5.425422\n",
            "std        3.249068\n",
            "min        1.000000\n",
            "25%        3.000000\n",
            "50%        4.000000\n",
            "75%        7.000000\n",
            "max       24.000000\n",
            "Name: event_name, dtype: float64\n"
          ]
        }
      ],
      "source": [
        "# кол-во событий на пользователя по группам\n",
        "print(group_a['event_name'].describe())\n",
        "print(group_b['event_name'].describe())"
      ]
    },
    {
      "cell_type": "markdown",
      "metadata": {
        "id": "IJWDXh8ac8GV"
      },
      "source": [
        "Как видим, события на пользователя по группам распределены неравномерно. В группе А их больше и количество растет. В группе В событий на пользователя в целом меньше и количество падает. Совпадает только минимальное (1) и максимальное (24) количество событий. Среднее количество в группе А выше, медианное тоже."
      ]
    },
    {
      "cell_type": "markdown",
      "metadata": {
        "id": "E0MykKPyc9eH"
      },
      "source": [
        "Посмотрим на распределение событий по этапам"
      ]
    },
    {
      "cell_type": "code",
      "execution_count": 46,
      "metadata": {
        "colab": {
          "base_uri": "https://localhost:8080/",
          "height": 542
        },
        "id": "7UuUzN4Q4CXM",
        "outputId": "82987307-87a1-4b80-ed6f-6fe7d78807a1"
      },
      "outputs": [
        {
          "output_type": "display_data",
          "data": {
            "text/html": [
              "<html>\n",
              "<head><meta charset=\"utf-8\" /></head>\n",
              "<body>\n",
              "    <div>            <script src=\"https://cdnjs.cloudflare.com/ajax/libs/mathjax/2.7.5/MathJax.js?config=TeX-AMS-MML_SVG\"></script><script type=\"text/javascript\">if (window.MathJax) {MathJax.Hub.Config({SVG: {font: \"STIX-Web\"}});}</script>                <script type=\"text/javascript\">window.PlotlyConfig = {MathJaxConfig: 'local'};</script>\n",
              "        <script src=\"https://cdn.plot.ly/plotly-2.11.1.min.js\"></script>                <div id=\"8e0b050c-4ee2-452c-bf7c-237065063364\" class=\"plotly-graph-div\" style=\"height:525px; width:100%;\"></div>            <script type=\"text/javascript\">                                    window.PLOTLYENV=window.PLOTLYENV || {};                                    if (document.getElementById(\"8e0b050c-4ee2-452c-bf7c-237065063364\")) {                    Plotly.newPlot(                        \"8e0b050c-4ee2-452c-bf7c-237065063364\",                        [{\"alignmentgroup\":\"True\",\"bingroup\":\"x\",\"hovertemplate\":\"group=A<br>event_name=%{x}<br>count=%{y}<extra></extra>\",\"legendgroup\":\"A\",\"marker\":{\"color\":\"#636efa\",\"pattern\":{\"shape\":\"\"}},\"name\":\"A\",\"offsetgroup\":\"A\",\"orientation\":\"v\",\"showlegend\":true,\"texttemplate\":\"%{value}\",\"x\":[\"product_page\",\"login\",\"purchase\",\"purchase\",\"product_cart\",\"product_cart\",\"product_cart\",\"login\",\"login\",\"login\",\"purchase\",\"product_page\",\"login\",\"product_page\",\"product_page\",\"product_page\",\"login\",\"login\",\"login\",\"product_page\",\"product_page\",\"product_page\",\"product_page\",\"product_page\",\"login\",\"login\",\"login\",\"login\",\"login\",\"product_cart\",\"product_cart\",\"product_cart\",\"product_page\",\"product_page\",\"product_page\",\"login\",\"login\",\"login\",\"purchase\",\"purchase\",\"product_cart\",\"product_cart\",\"product_page\",\"product_page\",\"login\",\"login\",\"product_page\",\"product_page\",\"login\",\"login\",\"login\",\"login\",\"login\",\"purchase\",\"purchase\",\"purchase\",\"product_page\",\"product_page\",\"product_page\",\"login\",\"login\",\"login\",\"product_page\",\"product_page\",\"login\",\"login\",\"login\",\"login\",\"login\",\"login\",\"login\",\"login\",\"login\",\"login\",\"product_page\",\"product_page\",\"login\",\"login\",\"product_cart\",\"product_cart\",\"login\",\"login\",\"product_cart\",\"product_cart\",\"product_cart\",\"login\",\"login\",\"login\",\"product_cart\",\"product_cart\",\"product_cart\",\"product_cart\",\"product_cart\",\"product_page\",\"product_page\",\"product_page\",\"product_page\",\"product_page\",\"login\",\"login\",\"login\",\"login\",\"login\",\"product_page\",\"product_page\",\"login\",\"login\",\"product_page\",\"product_page\",\"product_page\",\"product_page\",\"product_page\",\"login\",\"login\",\"login\",\"login\",\"login\",\"purchase\",\"purchase\",\"purchase\",\"product_page\",\"product_page\",\"product_page\",\"login\",\"login\",\"login\",\"product_cart\",\"product_cart\",\"product_cart\",\"product_cart\",\"product_page\",\"product_page\",\"product_page\",\"product_page\",\"login\",\"login\",\"login\",\"login\",\"purchase\",\"purchase\",\"purchase\",\"purchase\",\"product_page\",\"product_page\",\"product_page\",\"product_page\",\"login\",\"login\",\"login\",\"login\",\"product_cart\",\"product_page\",\"login\",\"purchase\",\"purchase\",\"purchase\",\"purchase\",\"purchase\",\"product_page\",\"product_page\",\"product_page\",\"product_page\",\"product_page\",\"login\",\"login\",\"login\",\"login\",\"login\",\"purchase\",\"purchase\",\"purchase\",\"product_cart\",\"product_cart\",\"product_cart\",\"product_cart\",\"login\",\"login\",\"login\",\"login\",\"product_cart\",\"product_cart\",\"product_cart\",\"product_cart\",\"login\",\"login\",\"login\",\"login\",\"product_cart\",\"product_cart\",\"product_cart\",\"product_cart\",\"product_page\",\"product_page\",\"product_page\",\"product_page\",\"login\",\"login\",\"login\",\"login\",\"product_cart\",\"product_cart\",\"login\",\"login\",\"product_page\",\"product_page\",\"product_page\",\"login\",\"login\",\"login\",\"purchase\",\"purchase\",\"product_page\",\"product_page\",\"login\",\"login\",\"purchase\",\"purchase\",\"purchase\",\"login\",\"login\",\"login\",\"product_page\",\"product_page\",\"product_page\",\"login\",\"login\",\"login\",\"purchase\",\"purchase\",\"product_page\",\"product_page\",\"login\",\"login\",\"purchase\",\"purchase\",\"purchase\",\"product_page\",\"product_page\",\"product_page\",\"login\",\"login\",\"login\",\"login\",\"login\",\"product_page\",\"product_page\",\"login\",\"login\",\"product_cart\",\"product_cart\",\"product_cart\",\"product_page\",\"product_page\",\"product_page\",\"login\",\"login\",\"login\",\"purchase\",\"purchase\",\"purchase\",\"purchase\",\"purchase\",\"product_cart\",\"product_cart\",\"product_cart\",\"product_cart\",\"product_cart\",\"product_page\",\"product_page\",\"product_page\",\"product_page\",\"product_page\",\"login\",\"login\",\"login\",\"login\",\"login\",\"product_page\",\"product_page\",\"product_page\",\"login\",\"login\",\"login\",\"purchase\",\"purchase\",\"product_page\",\"product_page\",\"login\",\"login\",\"purchase\",\"purchase\",\"login\",\"login\",\"purchase\",\"purchase\",\"purchase\",\"login\",\"login\",\"login\",\"login\",\"product_page\",\"product_page\",\"product_page\",\"product_page\",\"login\",\"login\",\"login\",\"login\",\"product_page\",\"product_page\",\"login\",\"login\",\"product_page\",\"product_page\",\"product_page\",\"product_page\",\"login\",\"login\",\"login\",\"login\",\"product_page\",\"product_page\",\"product_page\",\"login\",\"login\",\"login\",\"login\",\"product_cart\",\"product_cart\",\"product_cart\",\"product_page\",\"product_page\",\"product_page\",\"login\",\"login\",\"login\",\"product_page\",\"product_page\",\"product_page\",\"product_page\",\"login\",\"login\",\"login\",\"login\",\"login\",\"login\",\"product_cart\",\"product_cart\",\"product_cart\",\"product_page\",\"product_page\",\"product_page\",\"login\",\"login\",\"login\",\"product_page\",\"product_page\",\"login\",\"login\",\"purchase\",\"product_page\",\"login\",\"product_page\",\"product_page\",\"product_page\",\"login\",\"login\",\"login\",\"login\",\"login\",\"login\",\"product_cart\",\"product_cart\",\"product_cart\",\"product_page\",\"product_page\",\"product_page\",\"login\",\"login\",\"login\",\"product_cart\",\"product_cart\",\"product_cart\",\"product_cart\",\"login\",\"login\",\"login\",\"login\",\"login\",\"login\",\"login\",\"login\",\"product_cart\",\"product_cart\",\"product_cart\",\"product_cart\",\"login\",\"login\",\"login\",\"login\",\"product_page\",\"product_page\",\"login\",\"login\",\"purchase\",\"purchase\",\"purchase\",\"purchase\",\"product_page\",\"product_page\",\"product_page\",\"product_page\",\"login\",\"login\",\"login\",\"login\",\"product_cart\",\"product_cart\",\"product_cart\",\"product_cart\",\"product_page\",\"product_page\",\"product_page\",\"product_page\",\"login\",\"login\",\"login\",\"login\",\"product_page\",\"login\",\"login\",\"login\",\"login\",\"login\",\"login\",\"login\",\"login\",\"login\",\"login\",\"login\",\"login\",\"product_cart\",\"product_cart\",\"product_page\",\"product_page\",\"login\",\"login\",\"product_page\",\"product_page\",\"product_page\",\"product_page\",\"product_page\",\"login\",\"login\",\"login\",\"login\",\"login\",\"product_page\",\"product_page\",\"login\",\"login\",\"purchase\",\"purchase\",\"purchase\",\"product_page\",\"product_page\",\"product_page\",\"login\",\"login\",\"login\",\"login\",\"login\",\"login\",\"login\",\"login\",\"login\",\"login\",\"login\",\"product_page\",\"product_page\",\"login\",\"login\",\"purchase\",\"purchase\",\"purchase\",\"purchase\",\"purchase\",\"product_page\",\"product_page\",\"product_page\",\"product_page\",\"product_page\",\"login\",\"login\",\"login\",\"login\",\"login\",\"purchase\",\"login\",\"purchase\",\"login\",\"product_page\",\"product_page\",\"product_page\",\"login\",\"login\",\"login\",\"purchase\",\"purchase\",\"product_cart\",\"product_cart\",\"login\",\"login\",\"product_page\",\"product_page\",\"product_page\",\"product_page\",\"product_page\",\"login\",\"login\",\"login\",\"login\",\"login\",\"purchase\",\"product_page\",\"login\",\"product_page\",\"product_page\",\"login\",\"login\",\"product_page\",\"product_page\",\"product_page\",\"login\",\"login\",\"login\",\"login\",\"login\",\"login\",\"login\",\"login\",\"login\",\"login\",\"product_cart\",\"product_cart\",\"product_cart\",\"product_cart\",\"product_cart\",\"product_page\",\"product_page\",\"product_page\",\"product_page\",\"product_page\",\"login\",\"login\",\"login\",\"login\",\"login\",\"purchase\",\"purchase\",\"purchase\",\"product_cart\",\"product_cart\",\"product_cart\",\"login\",\"login\",\"login\",\"login\",\"login\",\"login\",\"login\",\"purchase\",\"purchase\",\"purchase\",\"purchase\",\"purchase\",\"product_page\",\"product_page\",\"product_page\",\"product_page\",\"product_page\",\"login\",\"login\",\"login\",\"login\",\"login\",\"product_page\",\"product_page\",\"product_page\",\"login\",\"login\",\"login\",\"purchase\",\"purchase\",\"purchase\",\"login\",\"login\",\"login\",\"login\",\"login\",\"product_cart\",\"product_cart\",\"product_cart\",\"product_page\",\"product_page\",\"product_page\",\"login\",\"login\",\"login\",\"product_page\",\"product_page\",\"product_page\",\"login\",\"login\",\"login\",\"purchase\",\"purchase\",\"purchase\",\"purchase\",\"purchase\",\"product_page\",\"product_page\",\"product_page\",\"product_page\",\"login\",\"login\",\"login\",\"login\",\"login\",\"purchase\",\"purchase\",\"purchase\",\"product_page\",\"product_page\",\"product_page\",\"login\",\"login\",\"login\",\"product_page\",\"login\",\"purchase\",\"purchase\",\"purchase\",\"purchase\",\"product_page\",\"product_page\",\"product_page\",\"product_page\",\"login\",\"login\",\"login\",\"login\",\"purchase\",\"purchase\",\"login\",\"login\",\"product_page\",\"product_page\",\"product_page\",\"product_page\",\"product_page\",\"login\",\"login\",\"login\",\"login\",\"login\",\"purchase\",\"purchase\",\"login\",\"login\",\"product_cart\",\"product_cart\",\"product_cart\",\"product_page\",\"product_page\",\"product_page\",\"login\",\"login\",\"login\",\"login\",\"product_page\",\"product_page\",\"login\",\"login\",\"product_page\",\"product_page\",\"product_page\",\"product_page\",\"login\",\"login\",\"login\",\"login\",\"product_page\",\"product_page\",\"product_page\",\"product_page\",\"login\",\"login\",\"login\",\"login\",\"purchase\",\"purchase\",\"purchase\",\"purchase\",\"login\",\"login\",\"login\",\"login\",\"product_cart\",\"product_cart\",\"product_cart\",\"product_page\",\"product_page\",\"product_page\",\"login\",\"login\",\"login\",\"product_page\",\"product_page\",\"login\",\"login\",\"product_page\",\"login\",\"login\",\"login\",\"login\",\"login\",\"login\",\"product_page\",\"product_page\",\"product_page\",\"login\",\"login\",\"login\",\"product_cart\",\"product_cart\",\"product_cart\",\"login\",\"login\",\"login\",\"login\",\"login\",\"purchase\",\"purchase\",\"purchase\",\"product_cart\",\"product_cart\",\"product_cart\",\"login\",\"login\",\"login\",\"login\",\"login\",\"product_cart\",\"product_page\",\"login\",\"product_page\",\"product_page\",\"product_page\",\"product_page\",\"login\",\"login\",\"login\",\"login\",\"login\",\"login\",\"login\",\"login\",\"product_page\",\"product_page\",\"product_page\",\"login\",\"login\",\"login\",\"purchase\",\"product_cart\",\"product_page\",\"login\",\"purchase\",\"purchase\",\"purchase\",\"product_page\",\"product_page\",\"product_page\",\"login\",\"login\",\"login\",\"login\",\"login\",\"login\",\"product_page\",\"product_page\",\"login\",\"login\",\"login\",\"login\",\"login\",\"login\",\"login\",\"login\",\"purchase\",\"purchase\",\"login\",\"login\",\"product_page\",\"product_page\",\"product_page\",\"product_page\",\"login\",\"login\",\"login\",\"login\",\"product_page\",\"product_page\",\"login\",\"login\",\"product_page\",\"product_page\",\"product_page\",\"product_page\",\"product_page\",\"product_page\",\"product_page\",\"login\",\"login\",\"login\",\"login\",\"login\",\"login\",\"login\",\"product_cart\",\"product_cart\",\"product_cart\",\"product_page\",\"product_page\",\"product_page\",\"login\",\"login\",\"login\",\"product_cart\",\"product_cart\",\"product_cart\",\"product_cart\",\"product_page\",\"product_page\",\"product_page\",\"product_page\",\"login\",\"login\",\"login\",\"login\",\"product_cart\",\"product_cart\",\"product_cart\",\"product_cart\",\"product_page\",\"product_page\",\"product_page\",\"product_page\",\"login\",\"login\",\"login\",\"login\",\"login\",\"login\",\"login\",\"login\",\"login\",\"product_cart\",\"product_cart\",\"product_cart\",\"product_cart\",\"product_page\",\"product_page\",\"product_page\",\"product_page\",\"login\",\"login\",\"login\",\"login\",\"product_page\",\"product_page\",\"login\",\"login\",\"purchase\",\"purchase\",\"product_page\",\"product_page\",\"login\",\"login\",\"purchase\",\"purchase\",\"purchase\",\"product_page\",\"product_page\",\"product_page\",\"login\",\"login\",\"login\",\"product_cart\",\"product_cart\",\"product_cart\",\"product_cart\",\"product_page\",\"product_page\",\"product_page\",\"product_page\",\"login\",\"login\",\"login\",\"login\",\"product_page\",\"product_page\",\"product_page\",\"product_page\",\"login\",\"login\",\"login\",\"login\",\"purchase\",\"purchase\",\"purchase\",\"login\",\"login\",\"login\",\"purchase\",\"purchase\",\"purchase\",\"purchase\",\"product_page\",\"product_page\",\"product_page\",\"product_page\",\"login\",\"login\",\"login\",\"login\",\"purchase\",\"purchase\",\"purchase\",\"purchase\",\"purchase\",\"product_page\",\"product_page\",\"product_page\",\"product_page\",\"product_page\",\"login\",\"login\",\"login\",\"login\",\"login\",\"login\",\"login\",\"login\",\"purchase\",\"purchase\",\"purchase\",\"purchase\",\"product_page\",\"product_page\",\"product_page\",\"product_page\",\"login\",\"login\",\"login\",\"login\",\"product_cart\",\"product_cart\",\"product_cart\",\"product_page\",\"product_page\",\"product_page\",\"login\",\"login\",\"login\",\"product_page\",\"product_page\",\"product_page\",\"product_page\",\"product_page\",\"login\",\"login\",\"login\",\"login\",\"login\",\"product_page\",\"product_page\",\"login\",\"login\",\"product_cart\",\"product_cart\",\"product_page\",\"product_page\",\"login\",\"login\",\"product_page\",\"product_page\",\"product_page\",\"login\",\"login\",\"login\",\"purchase\",\"purchase\",\"purchase\",\"product_cart\",\"product_cart\",\"product_cart\",\"login\",\"login\",\"login\",\"purchase\",\"purchase\",\"purchase\",\"purchase\",\"product_page\",\"product_page\",\"product_page\",\"product_page\",\"login\",\"login\",\"login\",\"login\",\"product_cart\",\"product_cart\",\"product_cart\",\"product_page\",\"product_page\",\"product_page\",\"login\",\"login\",\"login\",\"product_page\",\"product_page\",\"product_page\",\"product_page\",\"product_page\",\"product_page\",\"product_page\",\"login\",\"login\",\"login\",\"login\",\"login\",\"login\",\"login\",\"purchase\",\"purchase\",\"purchase\",\"purchase\",\"purchase\",\"product_cart\",\"product_cart\",\"product_cart\",\"product_cart\",\"product_cart\",\"product_page\",\"product_page\",\"product_page\",\"product_page\",\"product_page\",\"login\",\"login\",\"login\",\"login\",\"login\",\"product_page\",\"product_page\",\"product_page\",\"product_page\",\"login\",\"login\",\"login\",\"login\",\"purchase\",\"purchase\",\"purchase\",\"purchase\",\"purchase\",\"product_cart\",\"product_cart\",\"product_cart\",\"product_cart\",\"product_cart\",\"login\",\"login\",\"login\",\"login\",\"login\",\"purchase\",\"purchase\",\"purchase\",\"purchase\",\"purchase\",\"product_cart\",\"product_cart\",\"product_cart\",\"product_cart\",\"product_cart\",\"login\",\"login\",\"login\",\"login\",\"login\",\"purchase\",\"purchase\",\"purchase\",\"purchase\",\"purchase\",\"product_page\",\"product_page\",\"product_page\",\"product_page\",\"product_page\",\"login\",\"login\",\"login\",\"login\",\"login\",\"purchase\",\"purchase\",\"purchase\",\"purchase\",\"product_page\",\"product_page\",\"product_page\",\"product_page\",\"login\",\"login\",\"login\",\"login\",\"product_cart\",\"product_cart\",\"login\",\"login\",\"product_page\",\"login\",\"product_cart\",\"product_cart\",\"product_page\",\"product_page\",\"login\",\"login\",\"product_cart\",\"product_cart\",\"login\",\"login\",\"login\",\"login\",\"login\",\"login\",\"login\",\"login\",\"purchase\",\"purchase\",\"product_cart\",\"product_cart\",\"login\",\"login\",\"product_cart\",\"product_cart\",\"product_cart\",\"login\",\"login\",\"login\",\"purchase\",\"purchase\",\"purchase\",\"purchase\",\"purchase\",\"product_page\",\"product_page\",\"product_page\",\"product_page\",\"product_page\",\"login\",\"login\",\"login\",\"login\",\"login\",\"product_cart\",\"product_cart\",\"product_cart\",\"product_page\",\"product_page\",\"product_page\",\"login\",\"login\",\"login\",\"login\",\"login\",\"login\",\"product_page\",\"login\",\"login\",\"login\",\"login\",\"login\",\"login\",\"login\",\"purchase\",\"purchase\",\"purchase\",\"purchase\",\"login\",\"login\",\"login\",\"login\",\"product_cart\",\"product_cart\",\"product_cart\",\"product_cart\",\"login\",\"login\",\"login\",\"login\",\"purchase\",\"product_cart\",\"product_page\",\"login\",\"product_page\",\"product_page\",\"product_page\",\"product_page\",\"product_page\",\"product_page\",\"login\",\"login\",\"login\",\"login\",\"login\",\"login\",\"purchase\",\"purchase\",\"purchase\",\"purchase\",\"purchase\",\"product_page\",\"product_page\",\"product_page\",\"product_page\",\"product_page\",\"login\",\"login\",\"login\",\"login\",\"login\",\"purchase\",\"purchase\",\"purchase\",\"purchase\",\"purchase\",\"purchase\",\"product_page\",\"product_page\",\"product_page\",\"product_page\",\"product_page\",\"product_page\",\"login\",\"login\",\"login\",\"login\",\"login\",\"login\",\"product_page\",\"product_page\",\"product_page\",\"product_page\",\"login\",\"login\",\"login\",\"login\",\"product_cart\",\"product_cart\",\"login\",\"login\",\"purchase\",\"purchase\",\"purchase\",\"purchase\",\"product_page\",\"product_page\",\"product_page\",\"product_page\",\"login\",\"login\",\"login\",\"login\",\"login\",\"login\",\"login\",\"login\",\"login\",\"login\",\"login\",\"purchase\",\"purchase\",\"purchase\",\"purchase\",\"product_cart\",\"product_cart\",\"product_cart\",\"product_cart\",\"product_page\",\"product_page\",\"product_page\",\"product_page\",\"login\",\"login\",\"login\",\"login\",\"login\",\"login\",\"login\",\"login\",\"purchase\",\"purchase\",\"purchase\",\"purchase\",\"product_cart\",\"product_cart\",\"product_cart\",\"product_cart\",\"product_page\",\"product_page\",\"product_page\",\"product_page\",\"login\",\"login\",\"login\",\"login\",\"login\",\"login\",\"login\",\"login\",\"product_cart\",\"product_cart\",\"product_cart\",\"product_cart\",\"login\",\"login\",\"login\",\"login\",\"product_page\",\"product_page\",\"login\",\"login\",\"purchase\",\"purchase\",\"product_page\",\"product_page\",\"login\",\"login\",\"purchase\",\"purchase\",\"purchase\",\"purchase\",\"product_cart\",\"product_cart\",\"product_cart\",\"product_cart\",\"product_page\",\"product_page\",\"product_page\",\"product_page\",\"login\",\"login\",\"login\",\"login\",\"product_page\",\"product_page\",\"product_page\",\"login\",\"login\",\"login\",\"product_cart\",\"product_cart\",\"product_cart\",\"product_cart\",\"login\",\"login\",\"login\",\"login\",\"product_cart\",\"product_cart\",\"product_cart\",\"product_cart\",\"product_page\",\"product_page\",\"product_page\",\"product_page\",\"login\",\"login\",\"login\",\"login\",\"product_page\",\"login\",\"product_page\",\"product_page\",\"login\",\"login\",\"product_page\",\"product_page\",\"product_page\",\"product_page\",\"login\",\"login\",\"login\",\"login\",\"purchase\",\"purchase\",\"login\",\"login\",\"product_cart\",\"product_cart\",\"product_cart\",\"product_cart\",\"product_cart\",\"product_page\",\"product_page\",\"product_page\",\"product_page\",\"product_page\",\"login\",\"login\",\"login\",\"login\",\"login\",\"product_page\",\"product_page\",\"product_page\",\"product_page\",\"login\",\"login\",\"login\",\"login\",\"purchase\",\"purchase\",\"purchase\",\"purchase\",\"purchase\",\"login\",\"login\",\"login\",\"login\",\"login\",\"login\",\"login\",\"product_page\",\"product_page\",\"product_page\",\"login\",\"login\",\"login\",\"product_page\",\"product_page\",\"product_page\",\"login\",\"login\",\"login\",\"product_cart\",\"product_cart\",\"product_cart\",\"product_cart\",\"product_cart\",\"product_cart\",\"product_cart\",\"product_page\",\"product_page\",\"product_page\",\"product_page\",\"product_page\",\"product_page\",\"product_page\",\"login\",\"login\",\"login\",\"login\",\"login\",\"login\",\"login\",\"product_cart\",\"product_cart\",\"product_cart\",\"product_cart\",\"product_page\",\"product_page\",\"product_page\",\"product_page\",\"login\",\"login\",\"login\",\"login\",\"purchase\",\"purchase\",\"login\",\"login\",\"login\",\"login\",\"login\",\"product_cart\",\"product_cart\",\"product_cart\",\"product_page\",\"product_page\",\"product_page\",\"login\",\"login\",\"login\",\"product_page\",\"product_page\",\"login\",\"login\",\"login\",\"login\",\"login\",\"product_page\",\"product_page\",\"product_page\",\"product_page\",\"login\",\"login\",\"login\",\"login\",\"product_page\",\"product_page\",\"product_page\",\"product_page\",\"login\",\"login\",\"login\",\"login\",\"product_cart\",\"login\",\"product_cart\",\"product_cart\",\"login\",\"login\",\"purchase\",\"purchase\",\"purchase\",\"purchase\",\"purchase\",\"purchase\",\"product_page\",\"product_page\",\"product_page\",\"product_page\",\"product_page\",\"product_page\",\"login\",\"login\",\"login\",\"login\",\"login\",\"login\",\"purchase\",\"purchase\",\"purchase\",\"purchase\",\"product_page\",\"product_page\",\"product_page\",\"product_page\",\"login\",\"login\",\"login\",\"login\",\"product_cart\",\"product_cart\",\"product_cart\",\"login\",\"login\",\"login\",\"purchase\",\"purchase\",\"product_page\",\"product_page\",\"login\",\"login\",\"product_cart\",\"product_cart\",\"product_page\",\"product_page\",\"login\",\"login\",\"product_page\",\"product_page\",\"product_page\",\"login\",\"login\",\"login\",\"purchase\",\"purchase\",\"purchase\",\"purchase\",\"purchase\",\"product_page\",\"product_page\",\"product_page\",\"product_page\",\"product_page\",\"login\",\"login\",\"login\",\"login\",\"login\",\"product_page\",\"product_page\",\"login\",\"login\",\"login\",\"login\",\"login\",\"login\",\"product_page\",\"product_page\",\"product_page\",\"product_page\",\"login\",\"login\",\"login\",\"login\",\"login\",\"login\",\"purchase\",\"purchase\",\"product_cart\",\"product_cart\",\"login\",\"login\",\"product_page\",\"product_page\",\"product_page\",\"product_page\",\"product_page\",\"product_page\",\"login\",\"login\",\"login\",\"login\",\"login\",\"login\",\"product_cart\",\"product_cart\",\"product_cart\",\"product_page\",\"product_page\",\"product_page\",\"login\",\"login\",\"login\",\"product_cart\",\"product_cart\",\"product_cart\",\"product_cart\",\"product_page\",\"product_page\",\"product_page\",\"product_page\",\"login\",\"login\",\"login\",\"login\",\"product_cart\",\"product_cart\",\"product_cart\",\"product_page\",\"product_page\",\"product_page\",\"login\",\"login\",\"login\",\"product_cart\",\"product_cart\",\"login\",\"login\",\"login\",\"login\",\"login\",\"login\",\"login\",\"product_page\",\"product_page\",\"product_page\",\"product_page\",\"product_page\",\"login\",\"login\",\"login\",\"login\",\"login\",\"product_cart\",\"product_cart\",\"product_cart\",\"product_cart\",\"product_cart\",\"product_page\",\"product_page\",\"product_page\",\"product_page\",\"product_page\",\"login\",\"login\",\"login\",\"login\",\"login\",\"login\",\"login\",\"purchase\",\"purchase\",\"purchase\",\"login\",\"login\",\"login\",\"purchase\",\"purchase\",\"purchase\",\"purchase\",\"product_page\",\"product_page\",\"product_page\",\"product_page\",\"login\",\"login\",\"login\",\"login\",\"product_cart\",\"product_cart\",\"product_cart\",\"login\",\"login\",\"login\",\"login\",\"product_page\",\"product_page\",\"product_page\",\"login\",\"login\",\"login\",\"product_cart\",\"product_cart\",\"product_cart\",\"product_cart\",\"product_page\",\"product_page\",\"product_page\",\"product_page\",\"login\",\"login\",\"login\",\"login\",\"login\",\"login\",\"product_page\",\"product_page\",\"product_page\",\"product_page\",\"product_page\",\"product_page\",\"product_page\",\"login\",\"login\",\"login\",\"login\",\"login\",\"login\",\"login\",\"product_cart\",\"product_cart\",\"product_cart\",\"product_cart\",\"product_cart\",\"product_cart\",\"login\",\"login\",\"login\",\"login\",\"login\",\"login\",\"purchase\",\"purchase\",\"purchase\",\"product_cart\",\"product_cart\",\"product_cart\",\"product_page\",\"product_page\",\"product_page\",\"login\",\"login\",\"login\",\"purchase\",\"purchase\",\"purchase\",\"purchase\",\"purchase\",\"product_page\",\"product_page\",\"product_page\",\"product_page\",\"product_page\",\"login\",\"login\",\"login\",\"login\",\"login\",\"product_cart\",\"product_cart\",\"product_cart\",\"login\",\"login\",\"login\",\"purchase\",\"purchase\",\"purchase\",\"product_page\",\"product_page\",\"product_page\",\"login\",\"login\",\"login\",\"product_page\",\"product_page\",\"product_page\",\"product_page\",\"product_page\",\"product_page\",\"login\",\"login\",\"login\",\"login\",\"login\",\"login\",\"product_cart\",\"product_cart\",\"product_cart\",\"product_cart\",\"product_cart\",\"product_page\",\"product_page\",\"product_page\",\"product_page\",\"product_page\",\"login\",\"login\",\"login\",\"login\",\"login\",\"login\",\"login\",\"product_cart\",\"product_cart\",\"product_cart\",\"product_page\",\"product_page\",\"product_page\",\"login\",\"login\",\"login\",\"login\",\"login\",\"login\",\"login\",\"login\",\"product_page\",\"product_page\",\"product_page\",\"product_page\",\"login\",\"login\",\"login\",\"login\",\"login\",\"login\",\"login\",\"product_cart\",\"product_cart\",\"product_cart\",\"product_cart\",\"product_page\",\"product_page\",\"product_page\",\"product_page\",\"login\",\"login\",\"login\",\"login\",\"login\",\"login\",\"login\",\"purchase\",\"purchase\",\"product_cart\",\"product_cart\",\"product_page\",\"product_page\",\"login\",\"login\",\"product_cart\",\"product_cart\",\"product_cart\",\"product_page\",\"product_page\",\"product_page\",\"login\",\"login\",\"login\",\"product_cart\",\"product_cart\",\"product_cart\",\"product_page\",\"product_page\",\"product_page\",\"login\",\"login\",\"login\",\"product_page\",\"product_page\",\"product_page\",\"product_page\",\"login\",\"login\",\"login\",\"login\",\"product_page\",\"product_page\",\"product_page\",\"product_page\",\"login\",\"login\",\"login\",\"login\",\"product_page\",\"product_page\",\"product_page\",\"login\",\"login\",\"login\",\"product_page\",\"product_page\",\"product_page\",\"login\",\"login\",\"login\",\"login\",\"login\",\"login\",\"login\",\"purchase\",\"purchase\",\"purchase\",\"product_page\",\"product_page\",\"product_page\",\"login\",\"login\",\"login\",\"product_cart\",\"product_cart\",\"product_cart\",\"product_page\",\"product_page\",\"product_page\",\"login\",\"login\",\"login\",\"product_page\",\"product_page\",\"login\",\"login\",\"purchase\",\"purchase\",\"product_page\",\"product_page\",\"login\",\"login\",\"purchase\",\"purchase\",\"purchase\",\"purchase\",\"login\",\"login\",\"login\",\"login\",\"product_cart\",\"product_cart\",\"product_cart\",\"product_cart\",\"product_cart\",\"product_page\",\"product_page\",\"product_page\",\"product_page\",\"product_page\",\"login\",\"login\",\"login\",\"login\",\"login\",\"login\",\"login\",\"login\",\"product_cart\",\"product_cart\",\"product_cart\",\"product_cart\",\"product_page\",\"product_page\",\"product_page\",\"product_page\",\"login\",\"login\",\"login\",\"login\",\"purchase\",\"purchase\",\"purchase\",\"purchase\",\"purchase\",\"product_page\",\"product_page\",\"product_page\",\"product_page\",\"product_page\",\"login\",\"login\",\"login\",\"login\",\"login\",\"purchase\",\"purchase\",\"product_page\",\"product_page\",\"login\",\"login\",\"login\",\"login\",\"purchase\",\"purchase\",\"purchase\",\"purchase\",\"purchase\",\"product_page\",\"product_page\",\"product_page\",\"product_page\",\"product_page\",\"login\",\"login\",\"login\",\"login\",\"login\",\"login\",\"login\",\"login\",\"login\",\"login\",\"purchase\",\"purchase\",\"product_page\",\"product_page\",\"login\",\"login\",\"product_page\",\"product_page\",\"product_page\",\"product_page\",\"login\",\"login\",\"login\",\"login\",\"product_cart\",\"product_cart\",\"product_cart\",\"product_cart\",\"product_cart\",\"product_page\",\"product_page\",\"product_page\",\"product_page\",\"product_page\",\"login\",\"login\",\"login\",\"login\",\"login\",\"product_cart\",\"product_cart\",\"product_cart\",\"product_cart\",\"product_cart\",\"login\",\"login\",\"login\",\"login\",\"login\",\"product_page\",\"product_page\",\"login\",\"login\",\"product_page\",\"product_page\",\"product_page\",\"login\",\"login\",\"login\",\"product_cart\",\"product_page\",\"login\",\"purchase\",\"purchase\",\"purchase\",\"purchase\",\"purchase\",\"product_page\",\"product_page\",\"product_page\",\"product_page\",\"product_page\",\"login\",\"login\",\"login\",\"login\",\"login\",\"product_page\",\"product_page\",\"product_page\",\"product_page\",\"login\",\"login\",\"login\",\"login\",\"product_page\",\"product_page\",\"product_page\",\"product_page\",\"login\",\"login\",\"login\",\"login\",\"product_page\",\"product_page\",\"product_page\",\"product_page\",\"product_page\",\"login\",\"login\",\"login\",\"login\",\"login\",\"product_page\",\"product_page\",\"product_page\",\"product_page\",\"product_page\",\"product_page\",\"login\",\"login\",\"login\",\"login\",\"login\",\"login\",\"purchase\",\"purchase\",\"purchase\",\"product_cart\",\"product_cart\",\"product_cart\",\"product_page\",\"product_page\",\"product_page\",\"login\",\"login\",\"login\",\"product_page\",\"product_page\",\"product_page\",\"product_page\",\"product_page\",\"login\",\"login\",\"login\",\"login\",\"login\",\"product_page\",\"product_page\",\"login\",\"login\",\"login\",\"login\",\"login\",\"login\",\"login\",\"login\",\"purchase\",\"purchase\",\"product_page\",\"product_page\",\"login\",\"login\",\"login\",\"login\",\"product_page\",\"product_page\",\"product_page\",\"product_page\",\"product_page\",\"login\",\"login\",\"login\",\"login\",\"login\",\"product_cart\",\"product_cart\",\"product_cart\",\"product_cart\",\"product_cart\",\"login\",\"login\",\"login\",\"login\",\"login\",\"login\",\"login\",\"login\",\"login\",\"login\",\"login\",\"purchase\",\"purchase\",\"purchase\",\"product_cart\",\"product_cart\",\"product_cart\",\"product_page\",\"product_page\",\"product_page\",\"login\",\"login\",\"login\",\"product_page\",\"product_page\",\"login\",\"login\",\"product_page\",\"product_page\",\"product_page\",\"product_page\",\"login\",\"login\",\"login\",\"login\",\"purchase\",\"purchase\",\"purchase\",\"purchase\",\"product_cart\",\"product_cart\",\"product_cart\",\"product_cart\",\"product_page\",\"product_page\",\"product_page\",\"product_page\",\"login\",\"login\",\"login\",\"login\",\"product_page\",\"product_page\",\"product_page\",\"login\",\"login\",\"login\",\"login\",\"login\",\"login\",\"purchase\",\"purchase\",\"purchase\",\"purchase\",\"purchase\",\"product_cart\",\"product_cart\",\"product_cart\",\"product_cart\",\"product_cart\",\"login\",\"login\",\"login\",\"login\",\"login\",\"product_page\",\"product_page\",\"product_page\",\"product_page\",\"product_page\",\"login\",\"login\",\"login\",\"login\",\"login\",\"login\",\"login\",\"product_page\",\"login\",\"purchase\",\"purchase\",\"purchase\",\"product_page\",\"product_page\",\"product_page\",\"login\",\"login\",\"login\",\"login\",\"login\",\"login\",\"login\",\"login\",\"login\",\"login\",\"login\",\"login\",\"purchase\",\"purchase\",\"purchase\",\"purchase\",\"product_cart\",\"product_cart\",\"product_cart\",\"product_cart\",\"login\",\"login\",\"login\",\"login\",\"purchase\",\"purchase\",\"login\",\"login\",\"purchase\",\"purchase\",\"purchase\",\"purchase\",\"product_page\",\"product_page\",\"product_page\",\"product_page\",\"login\",\"login\",\"login\",\"login\",\"purchase\",\"purchase\",\"purchase\",\"login\",\"login\",\"login\",\"product_page\",\"product_page\",\"login\",\"login\",\"purchase\",\"purchase\",\"purchase\",\"purchase\",\"purchase\",\"purchase\",\"product_cart\",\"product_cart\",\"product_cart\",\"product_cart\",\"product_cart\",\"product_cart\",\"product_page\",\"product_page\",\"product_page\",\"product_page\",\"product_page\",\"product_page\",\"login\",\"login\",\"login\",\"login\",\"login\",\"login\",\"purchase\",\"purchase\",\"purchase\",\"product_page\",\"product_page\",\"product_page\",\"login\",\"login\",\"login\",\"login\",\"login\",\"login\",\"login\",\"login\",\"purchase\",\"purchase\",\"purchase\",\"purchase\",\"product_cart\",\"product_cart\",\"product_cart\",\"product_cart\",\"product_page\",\"product_page\",\"product_page\",\"product_page\",\"login\",\"login\",\"login\",\"login\",\"product_page\",\"product_page\",\"product_page\",\"login\",\"login\",\"login\",\"product_page\",\"product_page\",\"product_page\",\"login\",\"login\",\"login\",\"product_cart\",\"product_cart\",\"product_cart\",\"product_cart\",\"product_cart\",\"product_cart\",\"product_page\",\"product_page\",\"product_page\",\"product_page\",\"product_page\",\"product_page\",\"login\",\"login\",\"login\",\"login\",\"login\",\"login\",\"product_page\",\"product_page\",\"product_page\",\"product_page\",\"login\",\"login\",\"login\",\"login\",\"login\",\"login\",\"login\",\"login\",\"login\",\"product_cart\",\"product_cart\",\"product_cart\",\"product_page\",\"product_page\",\"product_page\",\"login\",\"login\",\"login\",\"product_page\",\"product_page\",\"login\",\"login\",\"product_cart\",\"product_cart\",\"product_cart\",\"product_page\",\"product_page\",\"product_page\",\"login\",\"login\",\"login\",\"product_page\",\"product_page\",\"product_page\",\"login\",\"login\",\"login\",\"product_cart\",\"product_cart\",\"product_cart\",\"product_cart\",\"login\",\"login\",\"login\",\"login\",\"product_page\",\"product_page\",\"login\",\"login\",\"login\",\"login\",\"login\",\"login\",\"login\",\"purchase\",\"purchase\",\"purchase\",\"purchase\",\"product_cart\",\"product_cart\",\"product_cart\",\"product_cart\",\"product_page\",\"product_page\",\"product_page\",\"product_page\",\"login\",\"login\",\"login\",\"login\",\"product_cart\",\"product_cart\",\"login\",\"login\",\"purchase\",\"purchase\",\"product_page\",\"product_page\",\"login\",\"login\",\"login\",\"login\",\"purchase\",\"purchase\",\"login\",\"login\",\"login\",\"login\",\"login\",\"login\",\"login\",\"login\",\"login\",\"login\",\"login\",\"login\",\"login\",\"login\",\"login\",\"product_page\",\"product_page\",\"product_page\",\"product_page\",\"product_page\",\"product_page\",\"login\",\"login\",\"login\",\"login\",\"login\",\"login\",\"product_page\",\"product_page\",\"login\",\"login\",\"purchase\",\"purchase\",\"purchase\",\"purchase\",\"product_page\",\"product_page\",\"product_page\",\"product_page\",\"login\",\"login\",\"login\",\"login\",\"product_page\",\"product_page\",\"product_page\",\"login\",\"login\",\"login\",\"purchase\",\"purchase\",\"purchase\",\"purchase\",\"purchase\",\"product_cart\",\"product_cart\",\"product_cart\",\"product_cart\",\"product_cart\",\"product_page\",\"product_page\",\"product_page\",\"product_page\",\"product_page\",\"login\",\"login\",\"login\",\"login\",\"login\",\"product_cart\",\"product_cart\",\"product_cart\",\"product_cart\",\"login\",\"login\",\"login\",\"login\",\"login\",\"login\",\"login\",\"login\",\"login\",\"login\",\"product_page\",\"product_page\",\"product_page\",\"product_page\",\"login\",\"login\",\"login\",\"login\",\"product_cart\",\"product_cart\",\"product_page\",\"product_page\",\"login\",\"login\",\"purchase\",\"purchase\",\"purchase\",\"purchase\",\"product_cart\",\"product_cart\",\"product_cart\",\"product_cart\",\"login\",\"login\",\"login\",\"login\",\"product_page\",\"product_page\",\"login\",\"login\",\"login\",\"login\",\"login\",\"login\",\"product_cart\",\"product_cart\",\"product_cart\",\"product_page\",\"product_page\",\"product_page\",\"login\",\"login\",\"login\",\"purchase\",\"purchase\",\"purchase\",\"product_page\",\"product_page\",\"product_page\",\"login\",\"login\",\"login\",\"login\",\"login\",\"login\",\"login\",\"login\",\"login\",\"login\",\"login\",\"product_page\",\"product_page\",\"login\",\"login\",\"purchase\",\"purchase\",\"purchase\",\"purchase\",\"product_page\",\"product_page\",\"product_page\",\"product_page\",\"login\",\"login\",\"login\",\"login\",\"purchase\",\"purchase\",\"purchase\",\"purchase\",\"purchase\",\"login\",\"login\",\"login\",\"login\",\"login\",\"product_page\",\"product_page\",\"product_page\",\"product_page\",\"product_page\",\"login\",\"login\",\"login\",\"login\",\"login\",\"product_page\",\"product_page\",\"product_page\",\"login\",\"login\",\"login\",\"product_cart\",\"product_cart\",\"product_page\",\"product_page\",\"login\",\"login\",\"login\",\"login\",\"login\",\"product_page\",\"product_page\",\"product_page\",\"login\",\"login\",\"login\",\"product_page\",\"product_page\",\"login\",\"login\",\"product_cart\",\"product_cart\",\"product_cart\",\"product_page\",\"product_page\",\"product_page\",\"login\",\"login\",\"login\",\"product_cart\",\"product_cart\",\"product_cart\",\"product_page\",\"product_page\",\"product_page\",\"login\",\"login\",\"login\",\"login\",\"login\",\"login\",\"login\",\"login\",\"login\",\"product_cart\",\"product_page\",\"login\",\"product_page\",\"product_page\",\"login\",\"login\",\"product_cart\",\"product_cart\",\"product_cart\",\"product_cart\",\"login\",\"login\",\"login\",\"login\",\"purchase\",\"purchase\",\"product_cart\",\"product_cart\",\"product_page\",\"product_page\",\"login\",\"login\",\"product_cart\",\"product_cart\",\"product_cart\",\"product_cart\",\"product_cart\",\"product_page\",\"product_page\",\"product_page\",\"product_page\",\"product_page\",\"login\",\"login\",\"login\",\"login\",\"login\",\"purchase\",\"purchase\",\"purchase\",\"login\",\"login\",\"login\",\"product_page\",\"product_page\",\"product_page\",\"product_page\",\"login\",\"login\",\"login\",\"login\",\"product_page\",\"product_page\",\"product_page\",\"login\",\"login\",\"login\",\"purchase\",\"purchase\",\"purchase\",\"purchase\",\"purchase\",\"product_cart\",\"product_cart\",\"product_cart\",\"product_cart\",\"product_cart\",\"login\",\"login\",\"login\",\"login\",\"login\",\"product_page\",\"product_page\",\"product_page\",\"login\",\"login\",\"login\",\"product_page\",\"product_page\",\"login\",\"login\",\"product_page\",\"product_page\",\"product_page\",\"product_page\",\"login\",\"login\",\"login\",\"login\",\"purchase\",\"purchase\",\"purchase\",\"product_page\",\"product_page\",\"product_page\",\"login\",\"login\",\"login\",\"product_cart\",\"product_cart\",\"product_cart\",\"product_cart\",\"login\",\"login\",\"login\",\"login\",\"login\",\"login\",\"login\",\"login\",\"purchase\",\"purchase\",\"purchase\",\"product_page\",\"product_page\",\"product_page\",\"login\",\"login\",\"login\",\"product_page\",\"product_page\",\"login\",\"login\",\"login\",\"login\",\"login\",\"login\",\"product_page\",\"product_page\",\"product_page\",\"login\",\"login\",\"login\",\"purchase\",\"purchase\",\"purchase\",\"purchase\",\"product_cart\",\"product_cart\",\"product_cart\",\"product_cart\",\"product_page\",\"product_page\",\"product_page\",\"product_page\",\"login\",\"login\",\"login\",\"login\",\"product_page\",\"product_page\",\"product_page\",\"login\",\"login\",\"login\",\"login\",\"login\",\"login\",\"login\",\"purchase\",\"purchase\",\"purchase\",\"purchase\",\"purchase\",\"purchase\",\"login\",\"login\",\"login\",\"login\",\"login\",\"login\",\"product_page\",\"product_page\",\"product_page\",\"login\",\"login\",\"login\",\"purchase\",\"purchase\",\"purchase\",\"product_page\",\"product_page\",\"product_page\",\"login\",\"login\",\"login\",\"login\",\"login\",\"login\",\"login\",\"product_cart\",\"product_cart\",\"product_cart\",\"product_cart\",\"product_page\",\"product_page\",\"product_page\",\"product_page\",\"login\",\"login\",\"login\",\"login\",\"product_page\",\"product_page\",\"login\",\"login\",\"purchase\",\"purchase\",\"purchase\",\"product_page\",\"product_page\",\"product_page\",\"login\",\"login\",\"login\",\"product_cart\",\"product_page\",\"login\",\"product_cart\",\"product_cart\",\"product_cart\",\"product_page\",\"product_page\",\"product_page\",\"login\",\"login\",\"login\",\"product_page\",\"product_page\",\"product_page\",\"login\",\"login\",\"login\",\"login\",\"login\",\"login\",\"login\",\"purchase\",\"product_page\",\"login\",\"product_page\",\"product_page\",\"product_page\",\"product_page\",\"login\",\"login\",\"login\",\"login\",\"product_cart\",\"product_cart\",\"product_cart\",\"product_cart\",\"login\",\"login\",\"login\",\"login\",\"product_page\",\"product_page\",\"product_page\",\"product_page\",\"login\",\"login\",\"login\",\"login\",\"product_page\",\"product_page\",\"product_page\",\"login\",\"login\",\"login\",\"purchase\",\"purchase\",\"purchase\",\"product_page\",\"product_page\",\"product_page\",\"login\",\"login\",\"login\",\"product_cart\",\"product_cart\",\"product_cart\",\"login\",\"login\",\"login\",\"purchase\",\"purchase\",\"purchase\",\"product_cart\",\"product_cart\",\"product_cart\",\"product_page\",\"product_page\",\"product_page\",\"login\",\"login\",\"login\",\"purchase\",\"purchase\",\"product_page\",\"product_page\",\"login\",\"login\",\"purchase\",\"purchase\",\"purchase\",\"purchase\",\"purchase\",\"product_page\",\"product_page\",\"product_page\",\"product_page\",\"product_page\",\"login\",\"login\",\"login\",\"login\",\"login\",\"purchase\",\"purchase\",\"purchase\",\"purchase\",\"product_page\",\"product_page\",\"product_page\",\"product_page\",\"login\",\"login\",\"login\",\"login\",\"product_cart\",\"product_cart\",\"product_cart\",\"login\",\"login\",\"login\",\"product_page\",\"product_page\",\"product_page\",\"product_page\",\"login\",\"login\",\"login\",\"login\",\"product_page\",\"product_page\",\"login\",\"login\",\"purchase\",\"purchase\",\"purchase\",\"product_cart\",\"product_cart\",\"product_cart\",\"product_page\",\"product_page\",\"product_page\",\"login\",\"login\",\"login\",\"product_page\",\"product_page\",\"product_page\",\"product_page\",\"login\",\"login\",\"login\",\"login\",\"purchase\",\"purchase\",\"purchase\",\"login\",\"login\",\"login\",\"purchase\",\"purchase\",\"product_cart\",\"product_cart\",\"product_page\",\"product_page\",\"login\",\"login\",\"purchase\",\"purchase\",\"purchase\",\"purchase\",\"purchase\",\"product_cart\",\"product_cart\",\"product_cart\",\"product_cart\",\"product_cart\",\"product_page\",\"product_page\",\"product_page\",\"product_page\",\"product_page\",\"login\",\"login\",\"login\",\"login\",\"login\",\"product_page\",\"product_page\",\"login\",\"login\",\"purchase\",\"purchase\",\"purchase\",\"purchase\",\"product_page\",\"product_page\",\"product_page\",\"product_page\",\"login\",\"login\",\"login\",\"login\",\"login\",\"login\",\"purchase\",\"purchase\",\"purchase\",\"purchase\",\"product_cart\",\"product_cart\",\"product_cart\",\"product_cart\",\"login\",\"login\",\"login\",\"login\",\"purchase\",\"purchase\",\"product_cart\",\"product_cart\",\"login\",\"login\",\"purchase\",\"purchase\",\"purchase\",\"purchase\",\"product_page\",\"product_page\",\"product_page\",\"product_page\",\"login\",\"login\",\"login\",\"login\",\"product_page\",\"product_page\",\"login\",\"login\",\"purchase\",\"purchase\",\"purchase\",\"product_page\",\"product_page\",\"product_page\",\"login\",\"login\",\"login\",\"product_cart\",\"product_cart\",\"product_cart\",\"product_page\",\"product_page\",\"product_page\",\"login\",\"login\",\"login\",\"login\",\"login\",\"login\",\"login\",\"login\",\"login\",\"login\",\"login\",\"purchase\",\"purchase\",\"purchase\",\"purchase\",\"product_page\",\"product_page\",\"product_page\",\"product_page\",\"login\",\"login\",\"login\",\"login\",\"purchase\",\"purchase\",\"purchase\",\"login\",\"login\",\"login\",\"purchase\",\"purchase\",\"purchase\",\"purchase\",\"purchase\",\"product_page\",\"product_page\",\"product_page\",\"product_page\",\"product_page\",\"login\",\"login\",\"login\",\"login\",\"login\",\"product_page\",\"product_page\",\"login\",\"login\",\"product_page\",\"product_page\",\"login\",\"login\",\"product_page\",\"product_page\",\"product_page\",\"login\",\"login\",\"login\",\"purchase\",\"purchase\",\"purchase\",\"product_cart\",\"product_cart\",\"product_cart\",\"product_page\",\"product_page\",\"product_page\",\"login\",\"login\",\"login\",\"purchase\",\"purchase\",\"purchase\",\"product_cart\",\"product_cart\",\"product_cart\",\"product_page\",\"product_page\",\"product_page\",\"login\",\"login\",\"login\",\"product_page\",\"product_page\",\"product_page\",\"product_page\",\"login\",\"login\",\"login\",\"login\",\"product_page\",\"product_page\",\"product_page\",\"product_page\",\"login\",\"login\",\"login\",\"login\",\"product_page\",\"product_page\",\"login\",\"login\",\"product_cart\",\"product_cart\",\"product_cart\",\"product_page\",\"product_page\",\"product_page\",\"login\",\"login\",\"login\",\"purchase\",\"purchase\",\"purchase\",\"purchase\",\"purchase\",\"product_page\",\"product_page\",\"product_page\",\"product_page\",\"product_page\",\"login\",\"login\",\"login\",\"login\",\"login\",\"purchase\",\"purchase\",\"purchase\",\"product_page\",\"product_page\",\"product_page\",\"login\",\"login\",\"login\",\"purchase\",\"purchase\",\"login\",\"login\",\"purchase\",\"purchase\",\"product_page\",\"product_page\",\"login\",\"login\",\"product_page\",\"product_page\",\"product_page\",\"product_page\",\"login\",\"login\",\"login\",\"login\",\"product_page\",\"product_page\",\"login\",\"login\",\"product_page\",\"product_page\",\"product_page\",\"login\",\"login\",\"login\",\"product_cart\",\"product_cart\",\"product_cart\",\"login\",\"login\",\"login\",\"purchase\",\"purchase\",\"purchase\",\"purchase\",\"product_cart\",\"product_cart\",\"product_cart\",\"product_cart\",\"login\",\"login\",\"login\",\"login\",\"product_page\",\"product_page\",\"product_page\",\"login\",\"login\",\"login\",\"login\",\"login\",\"login\",\"login\",\"purchase\",\"purchase\",\"product_page\",\"product_page\",\"login\",\"login\",\"login\",\"login\",\"login\",\"product_page\",\"product_page\",\"product_page\",\"login\",\"login\",\"login\",\"purchase\",\"purchase\",\"purchase\",\"purchase\",\"login\",\"login\",\"login\",\"login\",\"product_cart\",\"product_cart\",\"product_cart\",\"product_page\",\"product_page\",\"product_page\",\"login\",\"login\",\"login\",\"purchase\",\"purchase\",\"product_page\",\"product_page\",\"login\",\"login\",\"purchase\",\"product_page\",\"login\",\"purchase\",\"purchase\",\"purchase\",\"product_cart\",\"product_cart\",\"product_cart\",\"product_page\",\"product_page\",\"product_page\",\"login\",\"login\",\"login\",\"login\",\"login\",\"login\",\"product_cart\",\"product_cart\",\"product_cart\",\"login\",\"login\",\"login\",\"product_cart\",\"product_cart\",\"product_cart\",\"product_cart\",\"product_page\",\"product_page\",\"product_page\",\"product_page\",\"login\",\"login\",\"login\",\"login\",\"login\",\"login\",\"login\",\"product_page\",\"product_page\",\"product_page\",\"product_page\",\"login\",\"login\",\"login\",\"login\",\"product_cart\",\"product_cart\",\"product_cart\",\"product_page\",\"product_page\",\"product_page\",\"login\",\"login\",\"login\",\"purchase\",\"purchase\",\"purchase\",\"product_cart\",\"product_cart\",\"product_cart\",\"product_page\",\"product_page\",\"product_page\",\"login\",\"login\",\"login\",\"product_page\",\"product_page\",\"product_page\",\"login\",\"login\",\"login\",\"product_page\",\"product_page\",\"login\",\"login\",\"purchase\",\"purchase\",\"product_page\",\"product_page\",\"login\",\"login\",\"product_page\",\"product_page\",\"login\",\"login\",\"product_page\",\"product_page\",\"login\",\"login\",\"login\",\"login\",\"login\",\"login\",\"product_page\",\"product_page\",\"login\",\"login\",\"product_page\",\"product_page\",\"product_page\",\"product_page\",\"product_page\",\"product_page\",\"login\",\"login\",\"login\",\"login\",\"login\",\"login\",\"product_cart\",\"product_cart\",\"product_cart\",\"product_cart\",\"login\",\"login\",\"login\",\"login\",\"product_page\",\"login\",\"purchase\",\"purchase\",\"login\",\"login\",\"product_cart\",\"product_cart\",\"product_cart\",\"product_page\",\"product_page\",\"product_page\",\"login\",\"login\",\"login\",\"purchase\",\"purchase\",\"purchase\",\"purchase\",\"product_cart\",\"product_cart\",\"product_cart\",\"product_cart\",\"product_page\",\"product_page\",\"product_page\",\"product_page\",\"login\",\"login\",\"login\",\"login\",\"product_page\",\"product_page\",\"product_page\",\"login\",\"login\",\"login\",\"login\",\"login\",\"login\",\"login\",\"login\",\"product_page\",\"product_page\",\"product_page\",\"login\",\"login\",\"login\",\"purchase\",\"product_page\",\"login\",\"product_page\",\"product_page\",\"login\",\"login\",\"product_page\",\"product_page\",\"login\",\"login\",\"purchase\",\"purchase\",\"login\",\"login\",\"purchase\",\"purchase\",\"purchase\",\"purchase\",\"purchase\",\"purchase\",\"login\",\"login\",\"login\",\"login\",\"login\",\"login\",\"purchase\",\"purchase\",\"purchase\",\"product_page\",\"product_page\",\"product_page\",\"login\",\"login\",\"login\",\"purchase\",\"purchase\",\"login\",\"login\",\"login\",\"login\",\"product_cart\",\"product_cart\",\"product_cart\",\"product_page\",\"product_page\",\"product_page\",\"login\",\"login\",\"login\",\"login\",\"login\",\"login\",\"product_cart\",\"product_cart\",\"product_cart\",\"product_page\",\"product_page\",\"product_page\",\"login\",\"login\",\"login\",\"purchase\",\"purchase\",\"login\",\"login\",\"product_cart\",\"product_cart\",\"product_page\",\"product_page\",\"login\",\"login\",\"product_cart\",\"product_cart\",\"product_cart\",\"product_cart\",\"product_page\",\"product_page\",\"product_page\",\"product_page\",\"login\",\"login\",\"login\",\"login\",\"product_cart\",\"product_cart\",\"product_page\",\"product_page\",\"login\",\"login\",\"login\",\"login\",\"login\",\"product_page\",\"login\",\"product_page\",\"product_page\",\"login\",\"login\",\"product_cart\",\"product_cart\",\"product_cart\",\"product_cart\",\"product_cart\",\"login\",\"login\",\"login\",\"login\",\"login\",\"product_cart\",\"product_cart\",\"product_cart\",\"login\",\"login\",\"login\",\"purchase\",\"purchase\",\"product_page\",\"product_page\",\"login\",\"login\",\"product_page\",\"product_page\",\"login\",\"login\",\"purchase\",\"login\",\"login\",\"login\",\"login\",\"login\",\"purchase\",\"purchase\",\"purchase\",\"product_page\",\"product_page\",\"product_page\",\"login\",\"login\",\"login\",\"product_cart\",\"product_cart\",\"product_cart\",\"product_page\",\"product_page\",\"product_page\",\"login\",\"login\",\"login\",\"product_page\",\"product_page\",\"product_page\",\"login\",\"login\",\"login\",\"product_page\",\"product_page\",\"product_page\",\"login\",\"login\",\"login\",\"product_page\",\"product_page\",\"product_page\",\"login\",\"login\",\"login\",\"product_page\",\"product_page\",\"product_page\",\"login\",\"login\",\"login\",\"purchase\",\"purchase\",\"purchase\",\"purchase\",\"login\",\"login\",\"login\",\"login\",\"purchase\",\"purchase\",\"purchase\",\"purchase\",\"purchase\",\"product_page\",\"product_page\",\"product_page\",\"product_page\",\"product_page\",\"login\",\"login\",\"login\",\"login\",\"login\",\"login\",\"login\",\"login\",\"login\",\"product_cart\",\"product_cart\",\"product_cart\",\"product_cart\",\"product_page\",\"product_page\",\"product_page\",\"product_page\",\"login\",\"login\",\"login\",\"login\",\"login\",\"login\",\"login\",\"login\",\"product_page\",\"product_page\",\"product_page\",\"login\",\"login\",\"login\",\"product_cart\",\"product_cart\",\"product_cart\",\"product_cart\",\"product_page\",\"product_page\",\"product_page\",\"product_page\",\"login\",\"login\",\"login\",\"login\",\"login\",\"login\",\"login\",\"login\",\"purchase\",\"purchase\",\"purchase\",\"product_cart\",\"product_cart\",\"product_cart\",\"product_page\",\"product_page\",\"product_page\",\"login\",\"login\",\"login\",\"product_page\",\"product_page\",\"product_page\",\"login\",\"login\",\"login\",\"purchase\",\"purchase\",\"purchase\",\"product_page\",\"product_page\",\"product_page\",\"login\",\"login\",\"login\",\"product_page\",\"product_page\",\"product_page\",\"product_page\",\"login\",\"login\",\"login\",\"login\",\"purchase\",\"purchase\",\"purchase\",\"purchase\",\"product_cart\",\"product_cart\",\"product_cart\",\"product_cart\",\"product_page\",\"product_page\",\"product_page\",\"product_page\",\"login\",\"login\",\"login\",\"login\",\"purchase\",\"purchase\",\"purchase\",\"purchase\",\"purchase\",\"product_cart\",\"product_cart\",\"product_cart\",\"product_cart\",\"product_cart\",\"product_page\",\"product_page\",\"product_page\",\"product_page\",\"product_page\",\"login\",\"login\",\"login\",\"login\",\"login\",\"login\",\"login\",\"product_page\",\"product_page\",\"product_page\",\"login\",\"login\",\"login\",\"product_page\",\"product_page\",\"product_page\",\"product_page\",\"product_page\",\"login\",\"login\",\"login\",\"login\",\"login\",\"login\",\"login\",\"login\",\"product_page\",\"product_page\",\"product_page\",\"product_page\",\"product_page\",\"login\",\"login\",\"login\",\"login\",\"login\",\"purchase\",\"purchase\",\"purchase\",\"purchase\",\"product_cart\",\"product_cart\",\"product_cart\",\"product_cart\",\"login\",\"login\",\"login\",\"login\",\"product_page\",\"product_page\",\"product_page\",\"login\",\"login\",\"login\",\"product_page\",\"product_page\",\"product_page\",\"login\",\"login\",\"login\",\"product_cart\",\"product_cart\",\"product_cart\",\"login\",\"login\",\"login\",\"purchase\",\"purchase\",\"purchase\",\"product_page\",\"product_page\",\"product_page\",\"login\",\"login\",\"login\",\"product_page\",\"product_page\",\"login\",\"login\",\"purchase\",\"purchase\",\"purchase\",\"product_page\",\"product_page\",\"product_page\",\"login\",\"login\",\"login\",\"login\",\"login\",\"login\",\"product_page\",\"product_page\",\"product_page\",\"login\",\"login\",\"login\",\"product_cart\",\"product_cart\",\"product_cart\",\"product_cart\",\"product_cart\",\"product_page\",\"product_page\",\"product_page\",\"product_page\",\"product_page\",\"login\",\"login\",\"login\",\"login\",\"login\",\"login\",\"login\",\"login\",\"login\",\"login\",\"login\",\"login\",\"product_cart\",\"product_cart\",\"product_cart\",\"product_cart\",\"product_cart\",\"product_cart\",\"product_page\",\"product_page\",\"product_page\",\"product_page\",\"product_page\",\"product_page\",\"login\",\"login\",\"login\",\"login\",\"login\",\"login\",\"purchase\",\"purchase\",\"product_page\",\"product_page\",\"login\",\"login\",\"purchase\",\"purchase\",\"purchase\",\"purchase\",\"product_page\",\"product_page\",\"product_page\",\"product_page\",\"login\",\"login\",\"login\",\"login\",\"product_page\",\"product_page\",\"product_page\",\"login\",\"login\",\"login\",\"login\",\"login\",\"login\",\"login\",\"login\",\"login\",\"product_cart\",\"product_cart\",\"login\",\"login\",\"product_page\",\"product_page\",\"product_page\",\"product_page\",\"login\",\"login\",\"login\",\"login\",\"login\",\"login\",\"product_cart\",\"product_page\",\"login\",\"purchase\",\"purchase\",\"product_page\",\"product_page\",\"login\",\"login\",\"login\",\"login\",\"product_page\",\"product_page\",\"login\",\"login\",\"product_page\",\"product_page\",\"login\",\"login\",\"login\",\"login\",\"login\",\"login\",\"product_page\",\"product_page\",\"login\",\"login\",\"product_cart\",\"product_cart\",\"product_cart\",\"product_cart\",\"product_page\",\"product_page\",\"product_page\",\"product_page\",\"login\",\"login\",\"login\",\"login\",\"login\",\"login\",\"login\",\"login\",\"purchase\",\"purchase\",\"product_page\",\"product_page\",\"login\",\"login\",\"product_page\",\"product_page\",\"login\",\"login\",\"purchase\",\"purchase\",\"purchase\",\"purchase\",\"purchase\",\"product_page\",\"product_page\",\"product_page\",\"product_page\",\"product_page\",\"login\",\"login\",\"login\",\"login\",\"login\",\"product_page\",\"product_page\",\"product_page\",\"product_page\",\"product_page\",\"login\",\"login\",\"login\",\"login\",\"login\",\"product_cart\",\"product_cart\",\"product_page\",\"product_page\",\"login\",\"login\",\"purchase\",\"product_cart\",\"login\",\"purchase\",\"purchase\",\"product_cart\",\"product_cart\",\"product_page\",\"product_page\",\"login\",\"login\",\"purchase\",\"purchase\",\"product_page\",\"product_page\",\"login\",\"login\",\"product_page\",\"product_page\",\"product_page\",\"login\",\"login\",\"login\",\"purchase\",\"purchase\",\"product_page\",\"product_page\",\"login\",\"login\",\"product_page\",\"product_page\",\"product_page\",\"login\",\"login\",\"login\",\"purchase\",\"purchase\",\"purchase\",\"purchase\",\"product_page\",\"product_page\",\"product_page\",\"product_page\",\"login\",\"login\",\"login\",\"login\",\"purchase\",\"purchase\",\"purchase\",\"purchase\",\"purchase\",\"purchase\",\"login\",\"login\",\"login\",\"login\",\"login\",\"login\",\"product_page\",\"product_page\",\"product_page\",\"login\",\"login\",\"login\",\"login\",\"login\",\"product_cart\",\"product_cart\",\"product_cart\",\"login\",\"login\",\"login\",\"purchase\",\"purchase\",\"product_page\",\"product_page\",\"login\",\"login\",\"product_page\",\"product_page\",\"product_page\",\"product_page\",\"login\",\"login\",\"login\",\"login\",\"purchase\",\"purchase\",\"product_page\",\"product_page\",\"login\",\"login\",\"product_page\",\"product_page\",\"login\",\"login\",\"purchase\",\"purchase\",\"product_cart\",\"product_cart\",\"product_page\",\"product_page\",\"login\",\"login\",\"product_cart\",\"product_cart\",\"product_cart\",\"product_cart\",\"product_page\",\"product_page\",\"product_page\",\"product_page\",\"login\",\"login\",\"login\",\"login\",\"product_page\",\"product_page\",\"product_page\",\"product_page\",\"login\",\"login\",\"login\",\"login\",\"login\",\"login\",\"login\",\"login\",\"product_page\",\"product_page\",\"product_page\",\"login\",\"login\",\"login\",\"purchase\",\"purchase\",\"purchase\",\"purchase\",\"purchase\",\"product_cart\",\"product_cart\",\"product_cart\",\"product_cart\",\"product_cart\",\"product_page\",\"product_page\",\"product_page\",\"product_page\",\"product_page\",\"login\",\"login\",\"login\",\"login\",\"login\",\"product_cart\",\"product_cart\",\"product_cart\",\"login\",\"login\",\"login\",\"product_cart\",\"product_cart\",\"product_page\",\"product_page\",\"login\",\"login\",\"login\",\"login\",\"login\",\"login\",\"product_page\",\"product_page\",\"login\",\"login\",\"login\",\"login\",\"product_cart\",\"product_cart\",\"product_page\",\"product_page\",\"login\",\"login\",\"purchase\",\"purchase\",\"purchase\",\"product_page\",\"product_page\",\"product_page\",\"login\",\"login\",\"login\",\"product_cart\",\"product_cart\",\"product_cart\",\"login\",\"login\",\"login\",\"product_page\",\"product_page\",\"login\",\"login\",\"login\",\"login\",\"purchase\",\"purchase\",\"purchase\",\"purchase\",\"purchase\",\"login\",\"login\",\"login\",\"login\",\"login\",\"purchase\",\"purchase\",\"purchase\",\"purchase\",\"product_page\",\"product_page\",\"product_page\",\"product_page\",\"login\",\"login\",\"login\",\"login\",\"login\",\"login\",\"login\",\"purchase\",\"purchase\",\"product_page\",\"product_page\",\"login\",\"login\",\"login\",\"login\",\"purchase\",\"purchase\",\"purchase\",\"purchase\",\"product_cart\",\"product_cart\",\"product_cart\",\"product_cart\",\"product_page\",\"product_page\",\"product_page\",\"product_page\",\"login\",\"login\",\"login\",\"login\",\"login\",\"login\",\"login\",\"login\",\"purchase\",\"purchase\",\"product_page\",\"product_page\",\"login\",\"login\",\"purchase\",\"purchase\",\"purchase\",\"product_cart\",\"product_cart\",\"product_cart\",\"login\",\"login\",\"login\",\"login\",\"login\",\"login\",\"purchase\",\"purchase\",\"purchase\",\"purchase\",\"product_page\",\"product_page\",\"product_page\",\"product_page\",\"login\",\"login\",\"login\",\"login\",\"product_cart\",\"product_page\",\"login\",\"purchase\",\"purchase\",\"purchase\",\"product_cart\",\"product_cart\",\"product_cart\",\"product_page\",\"product_page\",\"product_page\",\"login\",\"login\",\"login\",\"product_cart\",\"product_cart\",\"product_cart\",\"product_page\",\"product_page\",\"product_page\",\"login\",\"login\",\"login\",\"product_page\",\"login\",\"login\",\"login\",\"purchase\",\"purchase\",\"purchase\",\"purchase\",\"product_cart\",\"product_cart\",\"product_cart\",\"product_cart\",\"product_cart\",\"login\",\"login\",\"login\",\"login\",\"login\",\"product_page\",\"login\",\"product_cart\",\"product_cart\",\"product_cart\",\"login\",\"login\",\"login\",\"purchase\",\"purchase\",\"purchase\",\"product_page\",\"product_page\",\"product_page\",\"login\",\"login\",\"login\",\"login\",\"login\",\"login\",\"login\",\"login\",\"purchase\",\"purchase\",\"purchase\",\"product_page\",\"product_page\",\"product_page\",\"login\",\"login\",\"login\",\"product_page\",\"product_page\",\"product_page\",\"product_page\",\"login\",\"login\",\"login\",\"login\",\"purchase\",\"purchase\",\"purchase\",\"purchase\",\"login\",\"login\",\"login\",\"login\",\"product_page\",\"product_page\",\"product_page\",\"login\",\"login\",\"login\",\"product_page\",\"product_page\",\"product_page\",\"product_page\",\"login\",\"login\",\"login\",\"login\",\"product_page\",\"product_page\",\"login\",\"login\",\"login\",\"login\",\"login\",\"login\",\"purchase\",\"login\",\"product_cart\",\"product_page\",\"login\",\"purchase\",\"purchase\",\"product_cart\",\"product_cart\",\"product_page\",\"product_page\",\"login\",\"login\",\"login\",\"login\",\"login\",\"product_page\",\"product_page\",\"product_page\",\"product_page\",\"login\",\"login\",\"login\",\"login\",\"product_page\",\"product_page\",\"login\",\"login\",\"purchase\",\"purchase\",\"purchase\",\"product_page\",\"product_page\",\"product_page\",\"login\",\"login\",\"login\",\"product_page\",\"product_page\",\"product_page\",\"login\",\"login\",\"login\",\"product_cart\",\"product_cart\",\"product_cart\",\"product_page\",\"product_page\",\"product_page\",\"login\",\"login\",\"login\",\"purchase\",\"purchase\",\"purchase\",\"product_cart\",\"product_cart\",\"product_cart\",\"product_page\",\"product_page\",\"product_page\",\"login\",\"login\",\"login\",\"purchase\",\"purchase\",\"purchase\",\"product_page\",\"product_page\",\"product_page\",\"login\",\"login\",\"login\",\"product_cart\",\"login\",\"purchase\",\"product_page\",\"login\",\"login\",\"login\",\"login\",\"login\",\"purchase\",\"purchase\",\"purchase\",\"purchase\",\"product_page\",\"product_page\",\"product_page\",\"product_page\",\"login\",\"login\",\"login\",\"login\",\"purchase\",\"purchase\",\"purchase\",\"purchase\",\"product_page\",\"product_page\",\"product_page\",\"product_page\",\"login\",\"login\",\"login\",\"login\",\"product_cart\",\"product_cart\",\"product_cart\",\"product_page\",\"product_page\",\"product_page\",\"login\",\"login\",\"login\",\"product_page\",\"product_page\",\"login\",\"login\",\"product_page\",\"product_page\",\"product_page\",\"product_page\",\"login\",\"login\",\"login\",\"login\",\"purchase\",\"product_cart\",\"product_page\",\"login\",\"product_cart\",\"product_cart\",\"product_cart\",\"product_cart\",\"product_page\",\"product_page\",\"product_page\",\"product_page\",\"login\",\"login\",\"login\",\"login\",\"product_cart\",\"product_cart\",\"product_cart\",\"login\",\"login\",\"login\",\"purchase\",\"purchase\",\"purchase\",\"purchase\",\"product_page\",\"product_page\",\"product_page\",\"product_page\",\"product_page\",\"login\",\"login\",\"login\",\"login\",\"login\",\"purchase\",\"purchase\",\"purchase\",\"product_page\",\"product_page\",\"product_page\",\"login\",\"login\",\"login\",\"product_page\",\"product_page\",\"product_page\",\"login\",\"login\",\"login\",\"purchase\",\"product_cart\",\"product_page\",\"login\",\"login\",\"login\",\"login\",\"product_page\",\"product_page\",\"product_page\",\"product_page\",\"login\",\"login\",\"login\",\"login\",\"product_page\",\"product_page\",\"product_page\",\"login\",\"login\",\"login\",\"product_page\",\"product_page\",\"login\",\"login\",\"product_page\",\"product_page\",\"product_page\",\"product_page\",\"login\",\"login\",\"login\",\"login\",\"login\",\"login\",\"login\",\"login\",\"login\",\"login\",\"purchase\",\"purchase\",\"purchase\",\"product_page\",\"product_page\",\"product_page\",\"login\",\"login\",\"login\",\"purchase\",\"purchase\",\"product_page\",\"product_page\",\"login\",\"login\",\"product_page\",\"login\",\"product_page\",\"product_page\",\"product_page\",\"product_page\",\"product_page\",\"login\",\"login\",\"login\",\"login\",\"login\",\"product_page\",\"product_page\",\"product_page\",\"product_page\",\"login\",\"login\",\"login\",\"login\",\"purchase\",\"product_page\",\"login\",\"product_cart\",\"product_cart\",\"product_cart\",\"product_cart\",\"product_page\",\"product_page\",\"product_page\",\"product_page\",\"login\",\"login\",\"login\",\"login\",\"purchase\",\"purchase\",\"purchase\",\"login\",\"login\",\"login\",\"purchase\",\"purchase\",\"purchase\",\"purchase\",\"product_cart\",\"product_cart\",\"product_cart\",\"product_cart\",\"product_page\",\"product_page\",\"product_page\",\"product_page\",\"login\",\"login\",\"login\",\"login\",\"purchase\",\"purchase\",\"purchase\",\"product_page\",\"product_page\",\"product_page\",\"login\",\"login\",\"login\",\"purchase\",\"purchase\",\"purchase\",\"purchase\",\"login\",\"login\",\"login\",\"login\",\"purchase\",\"purchase\",\"purchase\",\"product_page\",\"product_page\",\"product_page\",\"login\",\"login\",\"login\",\"purchase\",\"purchase\",\"purchase\",\"purchase\",\"product_cart\",\"product_cart\",\"product_cart\",\"product_cart\",\"login\",\"login\",\"login\",\"login\",\"purchase\",\"purchase\",\"product_page\",\"product_page\",\"login\",\"login\",\"product_cart\",\"product_cart\",\"product_page\",\"product_page\",\"login\",\"login\",\"login\",\"login\",\"login\",\"product_cart\",\"product_cart\",\"product_cart\",\"product_cart\",\"product_page\",\"product_page\",\"product_page\",\"product_page\",\"login\",\"login\",\"login\",\"login\",\"product_page\",\"product_page\",\"login\",\"login\",\"purchase\",\"purchase\",\"purchase\",\"product_cart\",\"product_cart\",\"product_cart\",\"login\",\"login\",\"login\",\"purchase\",\"purchase\",\"purchase\",\"product_page\",\"product_page\",\"product_page\",\"login\",\"login\",\"login\",\"product_page\",\"product_page\",\"login\",\"login\",\"purchase\",\"purchase\",\"product_cart\",\"product_cart\",\"product_page\",\"product_page\",\"login\",\"login\",\"purchase\",\"purchase\",\"purchase\",\"product_cart\",\"product_cart\",\"product_cart\",\"login\",\"login\",\"login\",\"login\",\"login\",\"login\",\"product_cart\",\"product_cart\",\"product_page\",\"product_page\",\"login\",\"login\",\"purchase\",\"login\",\"purchase\",\"purchase\",\"purchase\",\"product_cart\",\"product_cart\",\"product_cart\",\"product_page\",\"product_page\",\"product_page\",\"login\",\"login\",\"login\",\"login\",\"login\",\"login\",\"login\",\"product_page\",\"product_page\",\"product_page\",\"login\",\"login\",\"login\",\"purchase\",\"purchase\",\"login\",\"login\",\"login\",\"login\",\"product_cart\",\"product_cart\",\"product_cart\",\"product_page\",\"product_page\",\"product_page\",\"login\",\"login\",\"login\",\"login\",\"login\",\"product_page\",\"product_page\",\"login\",\"login\",\"purchase\",\"purchase\",\"product_page\",\"product_page\",\"login\",\"login\",\"product_page\",\"product_page\",\"product_page\",\"product_page\",\"login\",\"login\",\"login\",\"login\",\"product_page\",\"product_page\",\"product_page\",\"login\",\"login\",\"login\",\"product_page\",\"product_page\",\"product_page\",\"product_page\",\"product_page\",\"product_page\",\"product_page\",\"login\",\"login\",\"login\",\"login\",\"login\",\"login\",\"login\",\"product_page\",\"product_page\",\"product_page\",\"product_page\",\"login\",\"login\",\"login\",\"login\",\"product_cart\",\"product_cart\",\"product_cart\",\"product_page\",\"product_page\",\"product_page\",\"login\",\"login\",\"login\",\"product_cart\",\"product_page\",\"login\",\"purchase\",\"purchase\",\"purchase\",\"product_page\",\"product_page\",\"product_page\",\"login\",\"login\",\"login\",\"purchase\",\"purchase\",\"product_page\",\"product_page\",\"login\",\"login\",\"product_cart\",\"product_cart\",\"product_cart\",\"product_cart\",\"product_page\",\"product_page\",\"product_page\",\"product_page\",\"login\",\"login\",\"login\",\"login\",\"product_cart\",\"product_cart\",\"product_cart\",\"login\",\"login\",\"login\",\"product_cart\",\"product_cart\",\"product_page\",\"product_page\",\"login\",\"login\",\"purchase\",\"purchase\",\"purchase\",\"product_page\",\"product_page\",\"product_page\",\"login\",\"login\",\"login\",\"purchase\",\"purchase\",\"product_page\",\"product_page\",\"login\",\"login\",\"login\",\"login\",\"login\",\"login\",\"login\",\"login\",\"login\",\"login\",\"login\",\"login\",\"purchase\",\"purchase\",\"purchase\",\"product_page\",\"product_page\",\"product_page\",\"login\",\"login\",\"login\",\"purchase\",\"purchase\",\"product_cart\",\"product_cart\",\"product_page\",\"product_page\",\"login\",\"login\",\"product_page\",\"product_page\",\"product_page\",\"login\",\"login\",\"login\",\"product_page\",\"product_page\",\"product_page\",\"product_page\",\"login\",\"login\",\"login\",\"login\",\"login\",\"login\",\"login\",\"product_cart\",\"product_cart\",\"product_cart\",\"product_page\",\"product_page\",\"product_page\",\"login\",\"login\",\"login\",\"product_cart\",\"product_cart\",\"product_cart\",\"product_page\",\"product_page\",\"product_page\",\"login\",\"login\",\"login\",\"product_page\",\"product_page\",\"product_page\",\"product_page\",\"product_page\",\"login\",\"login\",\"login\",\"login\",\"login\",\"login\",\"login\",\"login\",\"purchase\",\"purchase\",\"product_page\",\"product_page\",\"login\",\"login\",\"product_cart\",\"product_cart\",\"product_cart\",\"product_page\",\"product_page\",\"product_page\",\"login\",\"login\",\"login\",\"product_cart\",\"product_cart\",\"product_page\",\"product_page\",\"login\",\"login\",\"product_cart\",\"product_cart\",\"product_page\",\"product_page\",\"login\",\"login\",\"purchase\",\"purchase\",\"purchase\",\"product_page\",\"product_page\",\"product_page\",\"login\",\"login\",\"login\",\"purchase\",\"purchase\",\"login\",\"login\",\"product_cart\",\"product_cart\",\"product_cart\",\"login\",\"login\",\"login\",\"product_page\",\"product_page\",\"product_page\",\"login\",\"login\",\"login\",\"login\",\"login\",\"login\",\"login\",\"product_cart\",\"product_cart\",\"product_cart\",\"product_page\",\"product_page\",\"product_page\",\"login\",\"login\",\"login\",\"product_page\",\"product_page\",\"product_page\",\"login\",\"login\",\"login\",\"product_page\",\"product_page\",\"product_page\",\"product_page\",\"login\",\"login\",\"login\",\"login\",\"product_page\",\"product_page\",\"login\",\"login\",\"login\",\"login\",\"login\",\"purchase\",\"purchase\",\"product_page\",\"product_page\",\"login\",\"login\",\"purchase\",\"purchase\",\"purchase\",\"login\",\"login\",\"login\",\"purchase\",\"purchase\",\"purchase\",\"login\",\"login\",\"login\",\"purchase\",\"purchase\",\"purchase\",\"login\",\"login\",\"login\",\"product_page\",\"product_page\",\"product_page\",\"login\",\"login\",\"login\",\"login\",\"purchase\",\"purchase\",\"purchase\",\"purchase\",\"login\",\"login\",\"login\",\"login\",\"purchase\",\"product_page\",\"login\",\"product_page\",\"product_page\",\"product_page\",\"product_page\",\"login\",\"login\",\"login\",\"login\",\"product_page\",\"product_page\",\"product_page\",\"login\",\"login\",\"login\",\"product_page\",\"product_page\",\"login\",\"login\",\"product_cart\",\"product_page\",\"login\",\"login\",\"login\",\"login\",\"login\",\"product_page\",\"product_page\",\"product_page\",\"product_page\",\"login\",\"login\",\"login\",\"login\",\"product_cart\",\"product_cart\",\"product_cart\",\"product_cart\",\"product_page\",\"product_page\",\"product_page\",\"product_page\",\"login\",\"login\",\"login\",\"login\",\"product_page\",\"login\",\"login\",\"login\",\"login\",\"login\",\"product_cart\",\"product_cart\",\"product_page\",\"product_page\",\"login\",\"login\",\"purchase\",\"purchase\",\"purchase\",\"product_page\",\"product_page\",\"product_page\",\"login\",\"login\",\"login\",\"purchase\",\"purchase\",\"product_page\",\"product_page\",\"login\",\"login\",\"login\",\"login\",\"product_cart\",\"login\",\"purchase\",\"purchase\",\"login\",\"login\",\"product_page\",\"product_page\",\"product_page\",\"login\",\"login\",\"login\",\"product_page\",\"product_page\",\"product_page\",\"login\",\"login\",\"login\",\"product_page\",\"product_page\",\"product_page\",\"product_page\",\"login\",\"login\",\"login\",\"login\",\"product_page\",\"product_page\",\"product_page\",\"product_page\",\"login\",\"login\",\"login\",\"login\",\"purchase\",\"purchase\",\"purchase\",\"purchase\",\"login\",\"login\",\"login\",\"login\",\"purchase\",\"purchase\",\"product_page\",\"product_page\",\"login\",\"login\",\"product_page\",\"product_page\",\"product_page\",\"product_page\",\"login\",\"login\",\"login\",\"login\",\"product_page\",\"product_page\",\"login\",\"login\",\"purchase\",\"purchase\",\"purchase\",\"purchase\",\"product_page\",\"product_page\",\"product_page\",\"product_page\",\"login\",\"login\",\"login\",\"login\",\"purchase\",\"purchase\",\"purchase\",\"product_page\",\"product_page\",\"product_page\",\"login\",\"login\",\"login\",\"product_cart\",\"product_cart\",\"product_cart\",\"product_page\",\"product_page\",\"product_page\",\"login\",\"login\",\"login\",\"product_page\",\"product_page\",\"product_page\",\"login\",\"login\",\"login\",\"login\",\"login\",\"login\",\"login\",\"login\",\"login\",\"login\",\"login\",\"product_page\",\"product_page\",\"product_page\",\"product_page\",\"product_page\",\"login\",\"login\",\"login\",\"login\",\"login\",\"product_page\",\"product_page\",\"product_page\",\"product_page\",\"product_page\",\"login\",\"login\",\"login\",\"login\",\"login\",\"product_page\",\"product_page\",\"product_page\",\"product_page\",\"login\",\"login\",\"login\",\"login\",\"login\",\"login\",\"login\",\"purchase\",\"purchase\",\"purchase\",\"purchase\",\"purchase\",\"login\",\"login\",\"login\",\"login\",\"login\",\"product_cart\",\"product_page\",\"login\",\"purchase\",\"purchase\",\"purchase\",\"product_page\",\"product_page\",\"product_page\",\"login\",\"login\",\"login\",\"product_cart\",\"product_cart\",\"product_page\",\"product_page\",\"login\",\"login\",\"product_cart\",\"product_cart\",\"product_cart\",\"product_cart\",\"product_cart\",\"login\",\"login\",\"login\",\"login\",\"login\",\"login\",\"login\",\"login\",\"login\",\"product_page\",\"product_page\",\"product_page\",\"login\",\"login\",\"login\",\"product_page\",\"login\",\"purchase\",\"purchase\",\"purchase\",\"purchase\",\"purchase\",\"purchase\",\"product_page\",\"product_page\",\"product_page\",\"product_page\",\"product_page\",\"product_page\",\"login\",\"login\",\"login\",\"login\",\"login\",\"login\",\"product_page\",\"login\",\"product_cart\",\"product_cart\",\"product_cart\",\"login\",\"login\",\"login\",\"product_cart\",\"product_cart\",\"product_cart\",\"login\",\"login\",\"login\",\"product_page\",\"product_page\",\"product_page\",\"product_page\",\"login\",\"login\",\"login\",\"login\",\"purchase\",\"purchase\",\"purchase\",\"purchase\",\"login\",\"login\",\"login\",\"login\",\"product_page\",\"product_page\",\"product_page\",\"login\",\"login\",\"login\",\"login\",\"login\",\"login\",\"login\",\"login\",\"product_cart\",\"product_page\",\"login\",\"login\",\"login\",\"login\",\"product_page\",\"product_page\",\"product_page\",\"product_page\",\"login\",\"login\",\"login\",\"login\",\"product_page\",\"product_page\",\"product_page\",\"login\",\"login\",\"login\",\"purchase\",\"purchase\",\"purchase\",\"login\",\"login\",\"login\",\"product_cart\",\"product_cart\",\"product_cart\",\"product_cart\",\"product_page\",\"product_page\",\"product_page\",\"product_page\",\"login\",\"login\",\"login\",\"login\",\"product_page\",\"product_page\",\"product_page\",\"product_page\",\"login\",\"login\",\"login\",\"login\",\"login\",\"login\",\"login\",\"product_cart\",\"product_cart\",\"product_cart\",\"product_cart\",\"login\",\"login\",\"login\",\"login\",\"purchase\",\"purchase\",\"login\",\"login\",\"purchase\",\"purchase\",\"login\",\"login\",\"product_page\",\"product_page\",\"product_page\",\"login\",\"login\",\"login\",\"login\",\"login\",\"product_cart\",\"product_cart\",\"login\",\"login\",\"purchase\",\"purchase\",\"purchase\",\"purchase\",\"product_cart\",\"product_cart\",\"product_cart\",\"product_cart\",\"product_page\",\"product_page\",\"product_page\",\"product_page\",\"login\",\"login\",\"login\",\"login\",\"product_page\",\"product_page\",\"login\",\"login\",\"login\",\"login\",\"login\",\"purchase\",\"purchase\",\"product_page\",\"product_page\",\"login\",\"login\",\"product_page\",\"product_page\",\"product_page\",\"product_page\",\"login\",\"login\",\"login\",\"login\",\"purchase\",\"login\",\"product_cart\",\"login\",\"product_cart\",\"product_cart\",\"product_cart\",\"product_cart\",\"product_page\",\"product_page\",\"product_page\",\"product_page\",\"login\",\"login\",\"login\",\"login\",\"product_cart\",\"product_cart\",\"product_cart\",\"product_page\",\"product_page\",\"product_page\",\"login\",\"login\",\"login\",\"login\",\"login\",\"product_page\",\"login\",\"product_cart\",\"product_cart\",\"product_cart\",\"product_page\",\"product_page\",\"product_page\",\"login\",\"login\",\"login\",\"product_page\",\"product_page\",\"login\",\"login\",\"product_page\",\"product_page\",\"product_page\",\"login\",\"login\",\"login\",\"purchase\",\"purchase\",\"purchase\",\"purchase\",\"login\",\"login\",\"login\",\"login\",\"product_cart\",\"product_cart\",\"product_page\",\"product_page\",\"login\",\"login\",\"product_page\",\"product_page\",\"product_page\",\"login\",\"login\",\"login\",\"purchase\",\"purchase\",\"purchase\",\"purchase\",\"purchase\",\"purchase\",\"product_page\",\"product_page\",\"product_page\",\"product_page\",\"product_page\",\"product_page\",\"login\",\"login\",\"login\",\"login\",\"login\",\"login\",\"product_page\",\"product_page\",\"login\",\"login\",\"product_page\",\"product_page\",\"product_page\",\"login\",\"login\",\"login\",\"product_page\",\"product_page\",\"product_page\",\"login\",\"login\",\"login\",\"login\",\"login\",\"login\",\"login\",\"product_page\",\"product_page\",\"product_page\",\"login\",\"login\",\"login\",\"purchase\",\"purchase\",\"purchase\",\"purchase\",\"login\",\"login\",\"login\",\"login\",\"product_page\",\"product_page\",\"product_page\",\"login\",\"login\",\"login\",\"purchase\",\"product_cart\",\"product_page\",\"login\",\"product_page\",\"product_page\",\"product_page\",\"product_page\",\"product_page\",\"login\",\"login\",\"login\",\"login\",\"login\",\"login\",\"login\",\"login\",\"login\",\"login\",\"login\",\"product_cart\",\"product_cart\",\"product_cart\",\"product_page\",\"product_page\",\"product_page\",\"login\",\"login\",\"login\",\"product_page\",\"product_page\",\"login\",\"login\",\"product_cart\",\"product_cart\",\"product_cart\",\"login\",\"login\",\"login\",\"login\",\"login\",\"login\",\"login\",\"product_page\",\"product_page\",\"product_page\",\"product_page\",\"login\",\"login\",\"login\",\"login\",\"product_cart\",\"product_cart\",\"product_cart\",\"product_page\",\"product_page\",\"product_page\",\"login\",\"login\",\"login\",\"product_cart\",\"product_cart\",\"product_page\",\"product_page\",\"login\",\"login\",\"product_cart\",\"product_cart\",\"product_cart\",\"product_cart\",\"product_page\",\"product_page\",\"product_page\",\"product_page\",\"login\",\"login\",\"login\",\"login\",\"purchase\",\"purchase\",\"product_page\",\"product_page\",\"login\",\"login\",\"product_page\",\"product_page\",\"product_page\",\"product_page\",\"login\",\"login\",\"login\",\"login\",\"product_page\",\"product_page\",\"product_page\",\"login\",\"login\",\"login\",\"login\",\"login\",\"login\",\"login\",\"product_cart\",\"product_cart\",\"product_cart\",\"product_page\",\"product_page\",\"product_page\",\"login\",\"login\",\"login\",\"product_cart\",\"product_cart\",\"product_cart\",\"product_cart\",\"product_page\",\"product_page\",\"product_page\",\"product_page\",\"login\",\"login\",\"login\",\"login\",\"product_page\",\"product_page\",\"product_page\",\"product_page\",\"login\",\"login\",\"login\",\"login\",\"purchase\",\"purchase\",\"product_page\",\"product_page\",\"login\",\"login\",\"product_page\",\"product_page\",\"login\",\"login\",\"product_page\",\"product_page\",\"product_page\",\"product_page\",\"login\",\"login\",\"login\",\"login\",\"product_page\",\"login\",\"purchase\",\"product_cart\",\"product_page\",\"login\",\"product_page\",\"product_page\",\"product_page\",\"product_page\",\"product_page\",\"product_page\",\"login\",\"login\",\"login\",\"login\",\"login\",\"login\",\"product_page\",\"product_page\",\"product_page\",\"login\",\"login\",\"login\",\"purchase\",\"purchase\",\"product_cart\",\"product_cart\",\"product_page\",\"product_page\",\"login\",\"login\",\"product_page\",\"product_page\",\"product_page\",\"login\",\"login\",\"login\",\"purchase\",\"purchase\",\"purchase\",\"product_page\",\"product_page\",\"product_page\",\"login\",\"login\",\"login\",\"purchase\",\"purchase\",\"product_cart\",\"product_cart\",\"product_cart\",\"login\",\"login\",\"login\",\"product_page\",\"product_page\",\"product_page\",\"product_page\",\"login\",\"login\",\"login\",\"login\",\"login\",\"login\",\"login\",\"product_page\",\"product_page\",\"product_page\",\"product_page\",\"login\",\"login\",\"login\",\"login\",\"purchase\",\"login\",\"product_cart\",\"product_cart\",\"product_page\",\"product_page\",\"login\",\"login\",\"purchase\",\"purchase\",\"purchase\",\"purchase\",\"purchase\",\"login\",\"login\",\"login\",\"login\",\"login\",\"product_cart\",\"product_cart\",\"product_cart\",\"product_cart\",\"product_cart\",\"login\",\"login\",\"login\",\"login\",\"login\",\"purchase\",\"purchase\",\"purchase\",\"product_cart\",\"product_cart\",\"product_cart\",\"login\",\"login\",\"login\",\"login\",\"login\",\"product_page\",\"product_page\",\"product_page\",\"product_page\",\"product_page\",\"product_page\",\"login\",\"login\",\"login\",\"login\",\"login\",\"login\",\"purchase\",\"purchase\",\"purchase\",\"purchase\",\"product_page\",\"product_page\",\"product_page\",\"product_page\",\"login\",\"login\",\"login\",\"login\",\"product_cart\",\"product_page\",\"login\",\"login\",\"login\",\"login\",\"login\",\"purchase\",\"purchase\",\"purchase\",\"purchase\",\"product_cart\",\"product_cart\",\"product_cart\",\"product_cart\",\"login\",\"login\",\"login\",\"login\",\"product_page\",\"product_page\",\"login\",\"login\",\"product_cart\",\"product_cart\",\"product_cart\",\"product_cart\",\"product_cart\",\"product_page\",\"product_page\",\"product_page\",\"product_page\",\"product_page\",\"login\",\"login\",\"login\",\"login\",\"login\",\"login\",\"login\",\"login\",\"purchase\",\"product_cart\",\"product_page\",\"login\",\"product_cart\",\"product_cart\",\"product_page\",\"product_page\",\"login\",\"login\",\"product_page\",\"product_page\",\"login\",\"login\",\"purchase\",\"purchase\",\"purchase\",\"product_cart\",\"product_cart\",\"product_cart\",\"product_page\",\"product_page\",\"product_page\",\"login\",\"login\",\"login\",\"product_cart\",\"product_cart\",\"product_cart\",\"product_cart\",\"product_cart\",\"product_page\",\"product_page\",\"product_page\",\"product_page\",\"product_page\",\"login\",\"login\",\"login\",\"login\",\"login\",\"product_cart\",\"product_cart\",\"product_page\",\"product_page\",\"login\",\"login\",\"purchase\",\"purchase\",\"login\",\"login\",\"purchase\",\"purchase\",\"purchase\",\"product_cart\",\"product_cart\",\"product_cart\",\"login\",\"login\",\"login\",\"product_page\",\"product_page\",\"product_page\",\"product_page\",\"login\",\"login\",\"login\",\"login\",\"purchase\",\"purchase\",\"product_cart\",\"product_cart\",\"login\",\"login\",\"login\",\"login\",\"login\",\"login\",\"login\",\"login\",\"product_cart\",\"product_cart\",\"product_cart\",\"product_page\",\"product_page\",\"product_page\",\"login\",\"login\",\"login\",\"purchase\",\"purchase\",\"purchase\",\"purchase\",\"purchase\",\"product_cart\",\"product_cart\",\"product_cart\",\"product_cart\",\"product_cart\",\"login\",\"login\",\"login\",\"login\",\"login\",\"purchase\",\"purchase\",\"product_page\",\"product_page\",\"login\",\"login\",\"login\",\"login\",\"login\",\"login\",\"login\",\"login\",\"purchase\",\"purchase\",\"purchase\",\"purchase\",\"product_cart\",\"product_cart\",\"product_cart\",\"product_cart\",\"product_page\",\"product_page\",\"product_page\",\"product_page\",\"login\",\"login\",\"login\",\"login\",\"purchase\",\"purchase\",\"purchase\",\"product_page\",\"product_page\",\"product_page\",\"login\",\"login\",\"login\",\"product_cart\",\"product_page\",\"login\",\"purchase\",\"purchase\",\"product_cart\",\"product_cart\",\"login\",\"login\",\"purchase\",\"purchase\",\"product_cart\",\"product_cart\",\"product_page\",\"product_page\",\"login\",\"login\",\"product_cart\",\"product_cart\",\"product_cart\",\"product_page\",\"product_page\",\"product_page\",\"login\",\"login\",\"login\",\"product_cart\",\"product_cart\",\"product_cart\",\"product_cart\",\"product_cart\",\"product_page\",\"product_page\",\"product_page\",\"product_page\",\"product_page\",\"login\",\"login\",\"login\",\"login\",\"login\",\"login\",\"login\",\"product_page\",\"product_page\",\"login\",\"login\",\"product_cart\",\"product_cart\",\"product_cart\",\"product_page\",\"product_page\",\"product_page\",\"login\",\"login\",\"login\",\"purchase\",\"purchase\",\"purchase\",\"purchase\",\"purchase\",\"product_page\",\"product_page\",\"product_page\",\"product_page\",\"product_page\",\"login\",\"login\",\"login\",\"login\",\"login\",\"product_page\",\"login\",\"product_cart\",\"product_cart\",\"product_cart\",\"product_page\",\"product_page\",\"product_page\",\"login\",\"login\",\"login\",\"product_page\",\"product_page\",\"product_page\",\"login\",\"login\",\"login\",\"purchase\",\"purchase\",\"purchase\",\"product_page\",\"product_page\",\"product_page\",\"login\",\"login\",\"login\",\"product_page\",\"product_page\",\"product_page\",\"login\",\"login\",\"login\",\"purchase\",\"purchase\",\"purchase\",\"purchase\",\"purchase\",\"product_cart\",\"product_cart\",\"product_cart\",\"product_cart\",\"product_cart\",\"product_page\",\"product_page\",\"product_page\",\"product_page\",\"product_page\",\"login\",\"login\",\"login\",\"login\",\"login\",\"product_cart\",\"product_cart\",\"login\",\"login\",\"purchase\",\"purchase\",\"purchase\",\"purchase\",\"purchase\",\"product_page\",\"product_page\",\"product_page\",\"product_page\",\"product_page\",\"login\",\"login\",\"login\",\"login\",\"login\",\"product_cart\",\"product_page\",\"login\",\"product_page\",\"product_page\",\"product_page\",\"product_page\",\"product_page\",\"product_page\",\"login\",\"login\",\"login\",\"login\",\"login\",\"login\",\"product_cart\",\"product_cart\",\"login\",\"login\",\"purchase\",\"purchase\",\"purchase\",\"purchase\",\"product_page\",\"product_page\",\"product_page\",\"product_page\",\"login\",\"login\",\"login\",\"login\",\"product_page\",\"product_page\",\"login\",\"login\",\"product_cart\",\"product_cart\",\"product_cart\",\"product_cart\",\"product_page\",\"product_page\",\"product_page\",\"product_page\",\"login\",\"login\",\"login\",\"login\",\"product_page\",\"product_page\",\"product_page\",\"login\",\"login\",\"login\",\"product_page\",\"product_page\",\"product_page\",\"login\",\"login\",\"login\",\"login\",\"login\",\"login\",\"product_cart\",\"product_cart\",\"product_page\",\"product_page\",\"login\",\"login\",\"login\",\"login\",\"login\",\"login\",\"login\",\"purchase\",\"purchase\",\"product_cart\",\"product_cart\",\"product_page\",\"product_page\",\"login\",\"login\",\"product_page\",\"product_page\",\"product_page\",\"product_page\",\"product_page\",\"product_page\",\"login\",\"login\",\"login\",\"login\",\"login\",\"login\",\"login\",\"login\",\"login\",\"login\",\"purchase\",\"purchase\",\"purchase\",\"purchase\",\"login\",\"login\",\"login\",\"login\",\"purchase\",\"purchase\",\"purchase\",\"product_page\",\"product_page\",\"product_page\",\"login\",\"login\",\"login\",\"purchase\",\"purchase\",\"purchase\",\"product_cart\",\"product_cart\",\"product_cart\",\"login\",\"login\",\"login\",\"purchase\",\"purchase\",\"purchase\",\"login\",\"login\",\"login\",\"product_page\",\"product_page\",\"login\",\"login\",\"product_page\",\"product_page\",\"product_page\",\"login\",\"login\",\"login\",\"purchase\",\"purchase\",\"purchase\",\"product_page\",\"product_page\",\"product_page\",\"login\",\"login\",\"login\",\"purchase\",\"purchase\",\"purchase\",\"purchase\",\"product_cart\",\"product_cart\",\"product_cart\",\"product_cart\",\"product_page\",\"product_page\",\"product_page\",\"product_page\",\"login\",\"login\",\"login\",\"login\",\"purchase\",\"purchase\",\"login\",\"login\",\"product_page\",\"product_page\",\"login\",\"login\",\"product_cart\",\"product_cart\",\"product_cart\",\"product_cart\",\"product_page\",\"product_page\",\"product_page\",\"product_page\",\"login\",\"login\",\"login\",\"login\",\"login\",\"login\",\"login\",\"login\",\"product_page\",\"product_page\",\"product_page\",\"login\",\"login\",\"login\",\"login\",\"login\",\"login\",\"login\",\"login\",\"login\",\"product_cart\",\"product_cart\",\"product_cart\",\"product_cart\",\"product_cart\",\"product_cart\",\"login\",\"login\",\"login\",\"login\",\"login\",\"login\",\"purchase\",\"purchase\",\"purchase\",\"product_cart\",\"product_cart\",\"product_cart\",\"product_page\",\"product_page\",\"product_page\",\"login\",\"login\",\"login\",\"product_page\",\"product_page\",\"product_page\",\"product_page\",\"login\",\"login\",\"login\",\"login\",\"purchase\",\"purchase\",\"purchase\",\"product_page\",\"product_page\",\"product_page\",\"login\",\"login\",\"login\",\"product_page\",\"product_page\",\"product_page\",\"login\",\"login\",\"login\",\"login\",\"login\",\"login\",\"product_page\",\"product_page\",\"product_page\",\"product_page\",\"product_page\",\"login\",\"login\",\"login\",\"login\",\"login\",\"product_page\",\"product_page\",\"product_page\",\"login\",\"login\",\"login\",\"purchase\",\"purchase\",\"product_page\",\"product_page\",\"login\",\"login\",\"product_page\",\"product_page\",\"product_page\",\"product_page\",\"login\",\"login\",\"login\",\"login\",\"login\",\"login\",\"login\",\"login\",\"purchase\",\"purchase\",\"product_cart\",\"product_cart\",\"login\",\"login\",\"product_page\",\"product_page\",\"product_page\",\"product_page\",\"product_page\",\"product_page\",\"login\",\"login\",\"login\",\"login\",\"login\",\"login\",\"product_cart\",\"product_cart\",\"product_cart\",\"product_cart\",\"product_page\",\"product_page\",\"product_page\",\"product_page\",\"login\",\"login\",\"login\",\"login\",\"login\",\"login\",\"login\",\"login\",\"login\",\"login\",\"purchase\",\"purchase\",\"login\",\"login\",\"product_page\",\"product_page\",\"product_page\",\"product_page\",\"login\",\"login\",\"login\",\"login\",\"login\",\"login\",\"login\",\"login\",\"login\",\"login\",\"purchase\",\"purchase\",\"purchase\",\"purchase\",\"product_cart\",\"product_cart\",\"product_cart\",\"product_cart\",\"product_page\",\"product_page\",\"product_page\",\"product_page\",\"login\",\"login\",\"login\",\"login\",\"purchase\",\"purchase\",\"product_page\",\"product_page\",\"login\",\"login\",\"product_cart\",\"product_cart\",\"product_cart\",\"login\",\"login\",\"login\",\"product_cart\",\"product_cart\",\"product_cart\",\"product_cart\",\"login\",\"login\",\"login\",\"login\",\"login\",\"login\",\"login\",\"login\",\"product_page\",\"product_page\",\"product_page\",\"product_page\",\"login\",\"login\",\"login\",\"login\",\"purchase\",\"purchase\",\"purchase\",\"product_cart\",\"product_cart\",\"product_cart\",\"login\",\"login\",\"login\",\"purchase\",\"purchase\",\"product_cart\",\"product_cart\",\"product_page\",\"product_page\",\"login\",\"login\",\"purchase\",\"login\",\"login\",\"login\",\"login\",\"product_page\",\"product_page\",\"product_page\",\"login\",\"login\",\"login\",\"product_page\",\"product_page\",\"product_page\",\"product_page\",\"login\",\"login\",\"login\",\"login\",\"product_cart\",\"product_cart\",\"product_cart\",\"product_page\",\"product_page\",\"product_page\",\"login\",\"login\",\"login\",\"product_page\",\"product_page\",\"product_page\",\"product_page\",\"login\",\"login\",\"login\",\"login\",\"product_cart\",\"product_cart\",\"product_cart\",\"login\",\"login\",\"login\",\"purchase\",\"purchase\",\"purchase\",\"purchase\",\"purchase\",\"purchase\",\"product_page\",\"product_page\",\"product_page\",\"product_page\",\"product_page\",\"product_page\",\"login\",\"login\",\"login\",\"login\",\"login\",\"login\",\"product_page\",\"product_page\",\"product_page\",\"login\",\"login\",\"login\",\"login\",\"login\",\"login\",\"login\",\"login\",\"product_page\",\"product_page\",\"login\",\"login\",\"product_page\",\"product_page\",\"product_page\",\"product_page\",\"product_page\",\"login\",\"login\",\"login\",\"login\",\"login\",\"login\",\"login\",\"login\",\"login\",\"login\",\"login\",\"login\",\"login\",\"login\",\"login\",\"login\",\"login\",\"product_page\",\"product_page\",\"product_page\",\"product_page\",\"login\",\"login\",\"login\",\"login\",\"login\",\"login\",\"login\",\"login\",\"login\",\"login\",\"product_cart\",\"product_cart\",\"product_cart\",\"product_page\",\"product_page\",\"product_page\",\"login\",\"login\",\"login\",\"product_cart\",\"product_cart\",\"product_cart\",\"product_cart\",\"login\",\"login\",\"login\",\"login\",\"purchase\",\"purchase\",\"login\",\"login\",\"product_page\",\"product_page\",\"product_page\",\"product_page\",\"product_page\",\"login\",\"login\",\"login\",\"login\",\"login\",\"product_cart\",\"product_cart\",\"product_cart\",\"product_cart\",\"product_cart\",\"login\",\"login\",\"login\",\"login\",\"login\",\"product_page\",\"product_page\",\"product_page\",\"login\",\"login\",\"login\",\"product_cart\",\"product_cart\",\"product_cart\",\"product_page\",\"product_page\",\"product_page\",\"login\",\"login\",\"login\",\"purchase\",\"purchase\",\"purchase\",\"purchase\",\"product_page\",\"product_page\",\"product_page\",\"product_page\",\"login\",\"login\",\"login\",\"login\",\"product_page\",\"product_page\",\"product_page\",\"product_page\",\"product_page\",\"product_page\",\"login\",\"login\",\"login\",\"login\",\"login\",\"login\",\"product_page\",\"product_page\",\"product_page\",\"product_page\",\"product_page\",\"product_page\",\"product_page\",\"login\",\"login\",\"login\",\"login\",\"login\",\"login\",\"login\",\"product_cart\",\"product_page\",\"login\",\"purchase\",\"purchase\",\"purchase\",\"purchase\",\"product_cart\",\"product_cart\",\"product_cart\",\"product_cart\",\"product_page\",\"product_page\",\"product_page\",\"product_page\",\"login\",\"login\",\"login\",\"login\",\"product_cart\",\"product_cart\",\"product_cart\",\"product_cart\",\"product_page\",\"product_page\",\"product_page\",\"product_page\",\"login\",\"login\",\"login\",\"login\",\"purchase\",\"purchase\",\"login\",\"login\",\"product_page\",\"product_page\",\"product_page\",\"product_page\",\"product_page\",\"product_page\",\"login\",\"login\",\"login\",\"login\",\"login\",\"login\",\"product_cart\",\"product_cart\",\"product_cart\",\"product_cart\",\"product_cart\",\"product_cart\",\"product_page\",\"product_page\",\"product_page\",\"product_page\",\"product_page\",\"product_page\",\"login\",\"login\",\"login\",\"login\",\"login\",\"login\",\"product_page\",\"product_page\",\"product_page\",\"login\",\"login\",\"login\",\"purchase\",\"purchase\",\"purchase\",\"purchase\",\"purchase\",\"login\",\"login\",\"login\",\"login\",\"login\",\"purchase\",\"purchase\",\"product_page\",\"product_page\",\"login\",\"login\",\"purchase\",\"purchase\",\"purchase\",\"product_cart\",\"product_cart\",\"product_cart\",\"product_page\",\"product_page\",\"product_page\",\"login\",\"login\",\"login\",\"product_cart\",\"product_cart\",\"product_page\",\"product_page\",\"login\",\"login\",\"purchase\",\"purchase\",\"purchase\",\"product_cart\",\"product_cart\",\"product_cart\",\"product_page\",\"product_page\",\"product_page\",\"login\",\"login\",\"login\",\"product_cart\",\"product_cart\",\"product_cart\",\"product_page\",\"product_page\",\"product_page\",\"login\",\"login\",\"login\",\"purchase\",\"purchase\",\"product_cart\",\"product_cart\",\"product_page\",\"product_page\",\"login\",\"login\",\"product_page\",\"product_page\",\"login\",\"login\",\"purchase\",\"purchase\",\"purchase\",\"purchase\",\"purchase\",\"product_cart\",\"product_cart\",\"product_cart\",\"product_cart\",\"product_cart\",\"product_page\",\"product_page\",\"product_page\",\"product_page\",\"product_page\",\"login\",\"login\",\"login\",\"login\",\"login\",\"purchase\",\"purchase\",\"product_page\",\"product_page\",\"login\",\"login\",\"product_cart\",\"product_cart\",\"product_cart\",\"product_cart\",\"product_page\",\"product_page\",\"product_page\",\"product_page\",\"login\",\"login\",\"login\",\"login\",\"purchase\",\"purchase\",\"product_cart\",\"product_cart\",\"product_page\",\"product_page\",\"login\",\"login\",\"product_page\",\"product_page\",\"product_page\",\"login\",\"login\",\"login\",\"purchase\",\"purchase\",\"purchase\",\"purchase\",\"product_cart\",\"product_cart\",\"product_cart\",\"product_cart\",\"product_page\",\"product_page\",\"product_page\",\"product_page\",\"login\",\"login\",\"login\",\"login\",\"purchase\",\"purchase\",\"purchase\",\"purchase\",\"product_cart\",\"product_cart\",\"product_cart\",\"product_cart\",\"product_page\",\"product_page\",\"product_page\",\"product_page\",\"login\",\"login\",\"login\",\"login\",\"product_cart\",\"product_cart\",\"product_cart\",\"login\",\"login\",\"login\",\"product_page\",\"product_page\",\"product_page\",\"product_page\",\"product_page\",\"login\",\"login\",\"login\",\"login\",\"login\",\"purchase\",\"purchase\",\"purchase\",\"purchase\",\"login\",\"login\",\"login\",\"login\",\"purchase\",\"purchase\",\"product_page\",\"product_page\",\"login\",\"login\",\"product_page\",\"product_page\",\"login\",\"login\",\"purchase\",\"purchase\",\"purchase\",\"product_cart\",\"product_cart\",\"product_cart\",\"login\",\"login\",\"login\",\"login\",\"login\",\"login\",\"purchase\",\"purchase\",\"product_cart\",\"product_cart\",\"login\",\"login\",\"product_cart\",\"product_cart\",\"product_page\",\"product_page\",\"login\",\"login\",\"purchase\",\"purchase\",\"purchase\",\"purchase\",\"product_page\",\"product_page\",\"product_page\",\"product_page\",\"login\",\"login\",\"login\",\"login\",\"purchase\",\"purchase\",\"purchase\",\"product_page\",\"product_page\",\"product_page\",\"login\",\"login\",\"login\",\"product_cart\",\"product_cart\",\"login\",\"login\",\"login\",\"login\",\"product_page\",\"login\",\"purchase\",\"purchase\",\"purchase\",\"purchase\",\"product_page\",\"product_page\",\"product_page\",\"product_page\",\"login\",\"login\",\"login\",\"login\",\"login\",\"login\",\"login\",\"login\",\"product_page\",\"product_page\",\"product_page\",\"login\",\"login\",\"login\",\"purchase\",\"purchase\",\"product_cart\",\"product_cart\",\"login\",\"login\",\"product_cart\",\"product_cart\",\"product_cart\",\"product_cart\",\"product_page\",\"product_page\",\"product_page\",\"product_page\",\"login\",\"login\",\"login\",\"login\",\"product_cart\",\"product_cart\",\"login\",\"login\",\"purchase\",\"purchase\",\"purchase\",\"purchase\",\"product_cart\",\"product_cart\",\"product_cart\",\"product_cart\",\"login\",\"login\",\"login\",\"login\",\"purchase\",\"purchase\",\"purchase\",\"purchase\",\"product_cart\",\"product_cart\",\"product_cart\",\"product_cart\",\"product_page\",\"product_page\",\"product_page\",\"product_page\",\"login\",\"login\",\"login\",\"login\",\"purchase\",\"purchase\",\"purchase\",\"product_cart\",\"product_cart\",\"product_cart\",\"product_page\",\"product_page\",\"product_page\",\"login\",\"login\",\"login\",\"product_page\",\"product_page\",\"product_page\",\"login\",\"login\",\"login\",\"login\",\"login\",\"login\",\"product_cart\",\"product_cart\",\"product_page\",\"product_page\",\"login\",\"login\",\"product_page\",\"product_page\",\"product_page\",\"product_page\",\"product_page\",\"login\",\"login\",\"login\",\"login\",\"login\",\"login\",\"login\",\"login\",\"product_page\",\"product_page\",\"login\",\"login\",\"product_cart\",\"product_cart\",\"product_cart\",\"product_cart\",\"login\",\"login\",\"login\",\"login\",\"product_page\",\"product_page\",\"product_page\",\"product_page\",\"product_page\",\"login\",\"login\",\"login\",\"login\",\"login\",\"purchase\",\"purchase\",\"purchase\",\"purchase\",\"purchase\",\"product_page\",\"product_page\",\"product_page\",\"product_page\",\"product_page\",\"login\",\"login\",\"login\",\"login\",\"login\",\"login\",\"login\",\"product_cart\",\"product_cart\",\"product_cart\",\"product_cart\",\"product_page\",\"product_page\",\"product_page\",\"product_page\",\"login\",\"login\",\"login\",\"login\",\"purchase\",\"purchase\",\"purchase\",\"purchase\",\"product_page\",\"product_page\",\"product_page\",\"product_page\",\"login\",\"login\",\"login\",\"login\",\"product_page\",\"product_page\",\"login\",\"login\",\"product_cart\",\"product_cart\",\"login\",\"login\",\"product_page\",\"product_page\",\"product_page\",\"product_page\",\"login\",\"login\",\"login\",\"login\",\"product_cart\",\"product_cart\",\"product_cart\",\"product_cart\",\"login\",\"login\",\"login\",\"login\",\"product_page\",\"product_page\",\"product_page\",\"product_page\",\"login\",\"login\",\"login\",\"login\",\"login\",\"login\",\"login\",\"login\",\"login\",\"product_page\",\"product_page\",\"login\",\"login\",\"product_cart\",\"product_cart\",\"product_page\",\"product_page\",\"login\",\"login\",\"product_page\",\"product_page\",\"product_page\",\"login\",\"login\",\"login\",\"product_page\",\"login\",\"purchase\",\"purchase\",\"product_page\",\"product_page\",\"login\",\"login\",\"login\",\"login\",\"login\",\"login\",\"login\",\"product_page\",\"product_page\",\"product_page\",\"login\",\"login\",\"login\",\"product_cart\",\"product_cart\",\"product_cart\",\"product_cart\",\"product_cart\",\"product_page\",\"product_page\",\"product_page\",\"product_page\",\"product_page\",\"login\",\"login\",\"login\",\"login\",\"login\",\"purchase\",\"purchase\",\"purchase\",\"product_cart\",\"product_cart\",\"product_cart\",\"product_page\",\"product_page\",\"product_page\",\"login\",\"login\",\"login\",\"purchase\",\"purchase\",\"product_page\",\"product_page\",\"login\",\"login\",\"login\",\"login\",\"login\",\"login\",\"product_cart\",\"product_cart\",\"login\",\"login\",\"login\",\"login\",\"login\",\"login\",\"product_cart\",\"product_cart\",\"product_cart\",\"login\",\"login\",\"login\",\"purchase\",\"purchase\",\"product_page\",\"product_page\",\"login\",\"login\",\"purchase\",\"purchase\",\"purchase\",\"purchase\",\"login\",\"login\",\"login\",\"login\",\"product_page\",\"product_page\",\"login\",\"login\",\"login\",\"login\",\"login\",\"purchase\",\"purchase\",\"purchase\",\"product_cart\",\"product_cart\",\"product_cart\",\"product_page\",\"product_page\",\"product_page\",\"login\",\"login\",\"login\",\"purchase\",\"purchase\",\"purchase\",\"product_page\",\"product_page\",\"product_page\",\"login\",\"login\",\"login\",\"product_page\",\"product_page\",\"login\",\"login\",\"product_page\",\"login\",\"purchase\",\"purchase\",\"product_cart\",\"product_cart\",\"product_page\",\"product_page\",\"login\",\"login\",\"product_page\",\"product_page\",\"login\",\"login\",\"product_cart\",\"product_cart\",\"product_cart\",\"product_page\",\"product_page\",\"product_page\",\"login\",\"login\",\"login\",\"login\",\"login\",\"login\",\"login\",\"purchase\",\"purchase\",\"purchase\",\"product_cart\",\"product_cart\",\"product_cart\",\"product_page\",\"product_page\",\"product_page\",\"login\",\"login\",\"login\",\"login\",\"login\",\"product_cart\",\"product_cart\",\"product_cart\",\"product_page\",\"product_page\",\"product_page\",\"login\",\"login\",\"login\",\"purchase\",\"purchase\",\"purchase\",\"login\",\"login\",\"login\",\"product_page\",\"product_page\",\"login\",\"login\",\"product_page\",\"product_page\",\"login\",\"login\",\"product_cart\",\"product_cart\",\"product_cart\",\"product_cart\",\"product_page\",\"product_page\",\"product_page\",\"product_page\",\"login\",\"login\",\"login\",\"login\",\"login\",\"login\",\"login\",\"product_cart\",\"product_cart\",\"product_cart\",\"product_cart\",\"product_cart\",\"product_cart\",\"product_page\",\"product_page\",\"product_page\",\"product_page\",\"product_page\",\"product_page\",\"login\",\"login\",\"login\",\"login\",\"login\",\"login\",\"product_page\",\"product_page\",\"product_page\",\"product_page\",\"login\",\"login\",\"login\",\"login\",\"login\",\"login\",\"login\",\"login\",\"login\",\"login\",\"login\",\"login\",\"login\",\"login\",\"product_cart\",\"product_cart\",\"product_cart\",\"product_cart\",\"product_cart\",\"login\",\"login\",\"login\",\"login\",\"login\",\"purchase\",\"purchase\",\"purchase\",\"purchase\",\"product_cart\",\"product_cart\",\"product_cart\",\"product_cart\",\"login\",\"login\",\"login\",\"login\",\"purchase\",\"product_page\",\"login\",\"product_cart\",\"product_cart\",\"product_cart\",\"product_page\",\"product_page\",\"product_page\",\"login\",\"login\",\"login\",\"purchase\",\"purchase\",\"purchase\",\"purchase\",\"login\",\"login\",\"login\",\"login\",\"purchase\",\"purchase\",\"purchase\",\"purchase\",\"product_page\",\"product_page\",\"product_page\",\"product_page\",\"login\",\"login\",\"login\",\"login\",\"product_cart\",\"product_cart\",\"product_cart\",\"login\",\"login\",\"login\",\"purchase\",\"purchase\",\"product_page\",\"product_page\",\"login\",\"login\",\"purchase\",\"purchase\",\"purchase\",\"purchase\",\"product_page\",\"product_page\",\"product_page\",\"product_page\",\"login\",\"login\",\"login\",\"login\",\"purchase\",\"purchase\",\"purchase\",\"login\",\"login\",\"login\",\"purchase\",\"product_page\",\"login\",\"purchase\",\"purchase\",\"purchase\",\"product_cart\",\"product_cart\",\"product_cart\",\"login\",\"login\",\"login\",\"product_page\",\"login\",\"product_cart\",\"product_cart\",\"product_cart\",\"product_cart\",\"product_cart\",\"product_page\",\"product_page\",\"product_page\",\"product_page\",\"product_page\",\"login\",\"login\",\"login\",\"login\",\"login\",\"product_page\",\"product_page\",\"product_page\",\"product_page\",\"login\",\"login\",\"login\",\"login\",\"product_page\",\"product_page\",\"login\",\"login\",\"login\",\"login\",\"login\",\"product_cart\",\"product_cart\",\"product_cart\",\"login\",\"login\",\"login\",\"product_cart\",\"product_cart\",\"product_cart\",\"product_page\",\"product_page\",\"product_page\",\"login\",\"login\",\"login\",\"purchase\",\"purchase\",\"login\",\"login\",\"purchase\",\"purchase\",\"purchase\",\"purchase\",\"purchase\",\"login\",\"login\",\"login\",\"login\",\"login\",\"login\",\"login\",\"login\",\"purchase\",\"purchase\",\"purchase\",\"product_page\",\"product_page\",\"product_page\",\"login\",\"login\",\"login\",\"product_cart\",\"product_cart\",\"product_cart\",\"product_cart\",\"product_page\",\"product_page\",\"product_page\",\"product_page\",\"login\",\"login\",\"login\",\"login\",\"product_page\",\"product_page\",\"product_page\",\"login\",\"login\",\"login\",\"product_page\",\"product_page\",\"login\",\"login\",\"purchase\",\"purchase\",\"purchase\",\"purchase\",\"login\",\"login\",\"login\",\"login\",\"purchase\",\"purchase\",\"purchase\",\"purchase\",\"purchase\",\"purchase\",\"product_page\",\"product_page\",\"product_page\",\"product_page\",\"product_page\",\"product_page\",\"login\",\"login\",\"login\",\"login\",\"login\",\"login\",\"login\",\"login\",\"login\",\"login\",\"product_cart\",\"product_cart\",\"product_cart\",\"product_cart\",\"product_cart\",\"product_cart\",\"product_page\",\"product_page\",\"product_page\",\"product_page\",\"product_page\",\"product_page\",\"login\",\"login\",\"login\",\"login\",\"login\",\"login\",\"login\",\"product_page\",\"product_page\",\"product_page\",\"product_page\",\"login\",\"login\",\"login\",\"login\",\"product_page\",\"product_page\",\"product_page\",\"login\",\"login\",\"login\",\"purchase\",\"purchase\",\"purchase\",\"purchase\",\"purchase\",\"product_page\",\"product_page\",\"product_page\",\"product_page\",\"product_page\",\"login\",\"login\",\"login\",\"login\",\"login\",\"purchase\",\"purchase\",\"product_cart\",\"product_cart\",\"login\",\"login\",\"purchase\",\"product_page\",\"login\",\"purchase\",\"purchase\",\"product_cart\",\"product_cart\",\"product_page\",\"product_page\",\"login\",\"login\",\"product_page\",\"product_page\",\"product_page\",\"product_page\",\"login\",\"login\",\"login\",\"login\",\"product_page\",\"product_page\",\"product_page\",\"product_page\",\"login\",\"login\",\"login\",\"login\",\"product_cart\",\"product_cart\",\"product_cart\",\"product_cart\",\"product_page\",\"product_page\",\"product_page\",\"product_page\",\"login\",\"login\",\"login\",\"login\",\"purchase\",\"purchase\",\"purchase\",\"product_page\",\"product_page\",\"product_page\",\"login\",\"login\",\"login\",\"product_cart\",\"product_cart\",\"product_cart\",\"product_cart\",\"product_cart\",\"login\",\"login\",\"login\",\"login\",\"login\",\"purchase\",\"purchase\",\"purchase\",\"purchase\",\"purchase\",\"product_cart\",\"product_cart\",\"product_cart\",\"product_cart\",\"product_cart\",\"product_page\",\"product_page\",\"product_page\",\"product_page\",\"product_page\",\"login\",\"login\",\"login\",\"login\",\"login\",\"product_page\",\"product_page\",\"product_page\",\"product_page\",\"login\",\"login\",\"login\",\"login\",\"purchase\",\"purchase\",\"product_cart\",\"product_cart\",\"product_page\",\"product_page\",\"login\",\"login\",\"purchase\",\"product_page\",\"login\",\"purchase\",\"purchase\",\"purchase\",\"purchase\",\"purchase\",\"purchase\",\"login\",\"login\",\"login\",\"login\",\"login\",\"login\",\"purchase\",\"purchase\",\"purchase\",\"product_page\",\"product_page\",\"product_page\",\"login\",\"login\",\"login\",\"product_page\",\"product_page\",\"login\",\"login\",\"purchase\",\"purchase\",\"product_cart\",\"product_cart\",\"product_page\",\"product_page\",\"login\",\"login\",\"product_page\",\"product_page\",\"product_page\",\"login\",\"login\",\"login\",\"product_cart\",\"product_page\",\"login\",\"login\",\"login\",\"login\",\"login\",\"product_cart\",\"product_cart\",\"product_cart\",\"login\",\"login\",\"login\",\"product_page\",\"product_page\",\"login\",\"login\",\"login\",\"login\",\"purchase\",\"purchase\",\"purchase\",\"purchase\",\"product_page\",\"product_page\",\"product_page\",\"product_page\",\"login\",\"login\",\"login\",\"login\",\"product_cart\",\"product_cart\",\"product_cart\",\"product_cart\",\"login\",\"login\",\"login\",\"login\",\"product_cart\",\"product_cart\",\"product_cart\",\"login\",\"login\",\"login\",\"product_page\",\"product_page\",\"login\",\"login\",\"purchase\",\"purchase\",\"product_page\",\"product_page\",\"login\",\"login\",\"purchase\",\"purchase\",\"purchase\",\"login\",\"login\",\"login\",\"purchase\",\"purchase\",\"purchase\",\"purchase\",\"purchase\",\"product_cart\",\"product_cart\",\"product_cart\",\"product_cart\",\"product_cart\",\"product_page\",\"product_page\",\"product_page\",\"product_page\",\"product_page\",\"login\",\"login\",\"login\",\"login\",\"login\",\"product_cart\",\"product_cart\",\"product_cart\",\"product_page\",\"product_page\",\"product_page\",\"login\",\"login\",\"login\",\"purchase\",\"purchase\",\"product_page\",\"product_page\",\"login\",\"login\",\"product_page\",\"product_page\",\"product_page\",\"login\",\"login\",\"login\",\"login\",\"login\",\"login\",\"product_page\",\"product_page\",\"product_page\",\"login\",\"login\",\"login\",\"purchase\",\"purchase\",\"purchase\",\"purchase\",\"purchase\",\"product_page\",\"product_page\",\"product_page\",\"product_page\",\"product_page\",\"login\",\"login\",\"login\",\"login\",\"login\",\"purchase\",\"purchase\",\"login\",\"login\",\"purchase\",\"purchase\",\"purchase\",\"product_page\",\"product_page\",\"product_page\",\"login\",\"login\",\"login\",\"product_cart\",\"product_cart\",\"product_cart\",\"login\",\"login\",\"login\",\"purchase\",\"purchase\",\"purchase\",\"product_page\",\"product_page\",\"product_page\",\"login\",\"login\",\"login\",\"product_page\",\"product_page\",\"product_page\",\"product_page\",\"login\",\"login\",\"login\",\"login\",\"login\",\"login\",\"login\",\"login\",\"purchase\",\"purchase\",\"product_page\",\"product_page\",\"login\",\"login\",\"purchase\",\"purchase\",\"product_cart\",\"product_cart\",\"login\",\"login\",\"purchase\",\"product_page\",\"login\",\"product_page\",\"product_page\",\"login\",\"login\",\"purchase\",\"purchase\",\"purchase\",\"product_page\",\"product_page\",\"product_page\",\"login\",\"login\",\"login\",\"purchase\",\"purchase\",\"purchase\",\"login\",\"login\",\"login\",\"product_page\",\"product_page\",\"product_page\",\"login\",\"login\",\"login\",\"product_page\",\"product_page\",\"product_page\",\"product_page\",\"product_page\",\"login\",\"login\",\"login\",\"login\",\"login\",\"purchase\",\"purchase\",\"purchase\",\"purchase\",\"purchase\",\"product_cart\",\"product_cart\",\"product_cart\",\"product_cart\",\"product_cart\",\"product_page\",\"product_page\",\"product_page\",\"product_page\",\"product_page\",\"login\",\"login\",\"login\",\"login\",\"login\",\"purchase\",\"purchase\",\"product_page\",\"product_page\",\"login\",\"login\",\"login\",\"login\",\"login\",\"product_cart\",\"product_cart\",\"product_cart\",\"login\",\"login\",\"login\",\"login\",\"product_cart\",\"product_cart\",\"product_cart\",\"login\",\"login\",\"login\",\"purchase\",\"product_page\",\"login\",\"product_page\",\"product_page\",\"product_page\",\"product_page\",\"login\",\"login\",\"login\",\"login\",\"product_cart\",\"product_cart\",\"login\",\"login\",\"purchase\",\"product_page\",\"login\",\"login\",\"login\",\"login\",\"purchase\",\"purchase\",\"purchase\",\"purchase\",\"product_page\",\"product_page\",\"product_page\",\"product_page\",\"login\",\"login\",\"login\",\"login\",\"purchase\",\"purchase\",\"purchase\",\"product_page\",\"product_page\",\"product_page\",\"login\",\"login\",\"login\",\"product_page\",\"product_page\",\"product_page\",\"product_page\",\"login\",\"login\",\"login\",\"login\",\"product_page\",\"product_page\",\"product_page\",\"login\",\"login\",\"login\",\"product_cart\",\"product_cart\",\"product_cart\",\"product_page\",\"product_page\",\"product_page\",\"login\",\"login\",\"login\",\"product_cart\",\"login\",\"product_page\",\"product_page\",\"login\",\"login\",\"product_page\",\"product_page\",\"product_page\",\"product_page\",\"product_page\",\"login\",\"login\",\"login\",\"login\",\"login\",\"login\",\"login\",\"login\",\"product_page\",\"product_page\",\"product_page\",\"login\",\"login\",\"login\",\"purchase\",\"purchase\",\"product_cart\",\"product_cart\",\"product_page\",\"product_page\",\"login\",\"login\",\"product_cart\",\"product_cart\",\"product_cart\",\"product_page\",\"product_page\",\"product_page\",\"login\",\"login\",\"login\",\"purchase\",\"purchase\",\"purchase\",\"login\",\"login\",\"login\",\"purchase\",\"purchase\",\"purchase\",\"purchase\",\"login\",\"login\",\"login\",\"login\",\"product_page\",\"product_page\",\"product_page\",\"login\",\"login\",\"login\",\"product_page\",\"product_page\",\"product_page\",\"product_page\",\"login\",\"login\",\"login\",\"login\",\"product_page\",\"product_page\",\"product_page\",\"login\",\"login\",\"login\",\"product_page\",\"product_page\",\"product_page\",\"product_page\",\"login\",\"login\",\"login\",\"login\",\"purchase\",\"purchase\",\"product_page\",\"product_page\",\"login\",\"login\",\"product_page\",\"product_page\",\"product_page\",\"login\",\"login\",\"login\",\"purchase\",\"purchase\",\"purchase\",\"login\",\"login\",\"login\",\"product_page\",\"product_page\",\"product_page\",\"product_page\",\"login\",\"login\",\"login\",\"login\",\"purchase\",\"purchase\",\"product_cart\",\"product_cart\",\"login\",\"login\",\"product_page\",\"product_page\",\"product_page\",\"product_page\",\"login\",\"login\",\"login\",\"login\",\"product_page\",\"product_page\",\"product_page\",\"product_page\",\"login\",\"login\",\"login\",\"login\",\"product_page\",\"product_page\",\"product_page\",\"product_page\",\"login\",\"login\",\"login\",\"login\",\"purchase\",\"purchase\",\"purchase\",\"product_cart\",\"product_cart\",\"product_cart\",\"product_page\",\"product_page\",\"product_page\",\"login\",\"login\",\"login\",\"product_cart\",\"product_cart\",\"product_cart\",\"product_cart\",\"product_page\",\"product_page\",\"product_page\",\"product_page\",\"login\",\"login\",\"login\",\"login\",\"product_page\",\"login\",\"login\",\"login\",\"login\",\"login\",\"product_cart\",\"product_cart\",\"product_cart\",\"product_page\",\"product_page\",\"product_page\",\"login\",\"login\",\"login\",\"product_page\",\"product_page\",\"product_page\",\"product_page\",\"product_page\",\"login\",\"login\",\"login\",\"login\",\"login\",\"purchase\",\"purchase\",\"login\",\"login\",\"product_cart\",\"product_cart\",\"product_cart\",\"product_cart\",\"login\",\"login\",\"login\",\"login\",\"purchase\",\"purchase\",\"purchase\",\"purchase\",\"product_page\",\"product_page\",\"product_page\",\"product_page\",\"login\",\"login\",\"login\",\"login\",\"purchase\",\"purchase\",\"login\",\"login\",\"purchase\",\"purchase\",\"product_cart\",\"product_cart\",\"product_page\",\"product_page\",\"login\",\"login\",\"product_page\",\"product_page\",\"product_page\",\"login\",\"login\",\"login\",\"purchase\",\"purchase\",\"purchase\",\"purchase\",\"product_page\",\"product_page\",\"product_page\",\"product_page\",\"login\",\"login\",\"login\",\"login\",\"login\",\"login\",\"login\",\"login\",\"product_cart\",\"product_cart\",\"product_cart\",\"product_cart\",\"product_page\",\"product_page\",\"product_page\",\"product_page\",\"login\",\"login\",\"login\",\"login\",\"login\",\"login\",\"login\",\"product_cart\",\"product_cart\",\"product_cart\",\"product_cart\",\"product_page\",\"product_page\",\"product_page\",\"product_page\",\"login\",\"login\",\"login\",\"login\",\"login\",\"login\",\"login\",\"login\",\"login\",\"product_cart\",\"product_cart\",\"product_cart\",\"product_cart\",\"product_cart\",\"product_page\",\"product_page\",\"product_page\",\"product_page\",\"product_page\",\"login\",\"login\",\"login\",\"login\",\"login\",\"purchase\",\"purchase\",\"purchase\",\"purchase\",\"product_cart\",\"product_cart\",\"product_cart\",\"product_cart\",\"product_page\",\"product_page\",\"product_page\",\"product_page\",\"login\",\"login\",\"login\",\"login\",\"purchase\",\"purchase\",\"purchase\",\"purchase\",\"login\",\"login\",\"login\",\"login\",\"product_cart\",\"product_cart\",\"product_cart\",\"product_page\",\"product_page\",\"product_page\",\"login\",\"login\",\"login\",\"login\",\"login\",\"login\",\"product_page\",\"product_page\",\"product_page\",\"product_page\",\"product_page\",\"login\",\"login\",\"login\",\"login\",\"login\",\"purchase\",\"purchase\",\"purchase\",\"purchase\",\"product_page\",\"product_page\",\"product_page\",\"product_page\",\"login\",\"login\",\"login\",\"login\",\"purchase\",\"purchase\",\"purchase\",\"login\",\"login\",\"login\",\"product_cart\",\"login\",\"login\",\"login\",\"login\",\"login\",\"login\",\"purchase\",\"purchase\",\"purchase\",\"purchase\",\"purchase\",\"product_page\",\"product_page\",\"product_page\",\"product_page\",\"product_page\",\"login\",\"login\",\"login\",\"login\",\"login\",\"login\",\"login\",\"login\",\"purchase\",\"purchase\",\"product_cart\",\"product_cart\",\"product_page\",\"product_page\",\"login\",\"login\",\"login\",\"login\",\"login\",\"product_page\",\"product_page\",\"product_page\",\"login\",\"login\",\"login\",\"product_cart\",\"product_cart\",\"product_cart\",\"product_page\",\"product_page\",\"product_page\",\"login\",\"login\",\"login\",\"purchase\",\"purchase\",\"product_page\",\"product_page\",\"login\",\"login\",\"product_page\",\"login\",\"purchase\",\"purchase\",\"login\",\"login\",\"purchase\",\"purchase\",\"product_cart\",\"product_cart\",\"login\",\"login\",\"purchase\",\"purchase\",\"purchase\",\"login\",\"login\",\"login\",\"product_page\",\"product_page\",\"product_page\",\"login\",\"login\",\"login\",\"product_page\",\"product_page\",\"product_page\",\"product_page\",\"product_page\",\"login\",\"login\",\"login\",\"login\",\"login\",\"product_page\",\"login\",\"purchase\",\"purchase\",\"product_page\",\"product_page\",\"login\",\"login\",\"purchase\",\"product_cart\",\"login\",\"login\",\"login\",\"login\",\"login\",\"product_page\",\"product_page\",\"product_page\",\"login\",\"login\",\"login\",\"purchase\",\"product_cart\",\"product_page\",\"login\",\"product_cart\",\"product_cart\",\"product_page\",\"product_page\",\"login\",\"login\",\"product_page\",\"product_page\",\"login\",\"login\",\"purchase\",\"purchase\",\"product_page\",\"product_page\",\"login\",\"login\",\"purchase\",\"product_page\",\"login\",\"product_page\",\"product_page\",\"product_page\",\"product_page\",\"login\",\"login\",\"login\",\"login\",\"product_page\",\"login\",\"product_page\",\"login\",\"product_cart\",\"product_cart\",\"product_cart\",\"product_cart\",\"product_page\",\"product_page\",\"product_page\",\"product_page\",\"login\",\"login\",\"login\",\"login\",\"purchase\",\"purchase\",\"product_page\",\"product_page\",\"login\",\"login\",\"login\",\"product_page\",\"product_page\",\"product_page\",\"product_page\",\"login\",\"login\",\"login\",\"login\",\"product_cart\",\"product_cart\",\"product_cart\",\"login\",\"login\",\"login\",\"product_page\",\"product_page\",\"login\",\"login\",\"product_page\",\"product_page\",\"login\",\"login\",\"product_cart\",\"product_page\",\"login\",\"purchase\",\"purchase\",\"purchase\",\"product_page\",\"product_page\",\"product_page\",\"login\",\"login\",\"login\",\"login\",\"login\",\"login\",\"login\",\"login\",\"login\",\"login\",\"product_cart\",\"product_cart\",\"login\",\"login\",\"login\",\"login\",\"login\",\"login\",\"login\",\"product_cart\",\"product_cart\",\"product_cart\",\"login\",\"login\",\"login\",\"login\",\"login\",\"login\",\"purchase\",\"purchase\",\"purchase\",\"purchase\",\"product_cart\",\"product_cart\",\"product_cart\",\"product_cart\",\"login\",\"login\",\"login\",\"login\",\"login\",\"login\",\"purchase\",\"purchase\",\"purchase\",\"product_page\",\"product_page\",\"product_page\",\"login\",\"login\",\"login\",\"product_page\",\"product_page\",\"product_page\",\"login\",\"login\",\"login\",\"login\",\"login\",\"login\",\"login\",\"purchase\",\"product_page\",\"login\",\"login\",\"login\",\"login\",\"login\",\"purchase\",\"purchase\",\"product_page\",\"product_page\",\"login\",\"login\",\"login\",\"login\",\"login\",\"login\",\"login\",\"product_cart\",\"product_page\",\"login\",\"product_page\",\"product_page\",\"product_page\",\"product_page\",\"login\",\"login\",\"login\",\"login\",\"product_cart\",\"product_cart\",\"product_cart\",\"product_cart\",\"login\",\"login\",\"login\",\"login\",\"purchase\",\"purchase\",\"purchase\",\"product_cart\",\"product_cart\",\"product_cart\",\"login\",\"login\",\"login\",\"login\",\"login\",\"login\",\"login\",\"purchase\",\"purchase\",\"login\",\"login\",\"product_cart\",\"product_cart\",\"product_cart\",\"product_page\",\"product_page\",\"product_page\",\"login\",\"login\",\"login\",\"purchase\",\"purchase\",\"purchase\",\"login\",\"login\",\"login\",\"purchase\",\"product_cart\",\"product_page\",\"login\",\"purchase\",\"purchase\",\"purchase\",\"purchase\",\"product_page\",\"product_page\",\"product_page\",\"product_page\",\"login\",\"login\",\"login\",\"login\",\"product_page\",\"product_page\",\"product_page\",\"login\",\"login\",\"login\",\"purchase\",\"purchase\",\"product_cart\",\"product_cart\",\"product_page\",\"product_page\",\"login\",\"login\",\"purchase\",\"purchase\",\"purchase\",\"product_page\",\"product_page\",\"product_page\",\"login\",\"login\",\"login\",\"product_page\",\"product_page\",\"product_page\",\"product_page\",\"login\",\"login\",\"login\",\"login\",\"purchase\",\"purchase\",\"purchase\",\"purchase\",\"purchase\",\"login\",\"login\",\"login\",\"login\",\"login\",\"product_page\",\"product_page\",\"product_page\",\"product_page\",\"login\",\"login\",\"login\",\"login\",\"product_page\",\"product_page\",\"product_page\",\"product_page\",\"login\",\"login\",\"login\",\"login\",\"product_page\",\"product_page\",\"product_page\",\"login\",\"login\",\"login\",\"product_cart\",\"login\",\"product_cart\",\"product_cart\",\"product_cart\",\"product_cart\",\"product_page\",\"product_page\",\"product_page\",\"product_page\",\"login\",\"login\",\"login\",\"login\",\"purchase\",\"purchase\",\"product_page\",\"product_page\",\"login\",\"login\",\"product_page\",\"product_page\",\"product_page\",\"product_page\",\"product_page\",\"product_page\",\"product_page\",\"login\",\"login\",\"login\",\"login\",\"login\",\"login\",\"login\",\"product_cart\",\"product_cart\",\"product_page\",\"product_page\",\"login\",\"login\",\"product_cart\",\"product_cart\",\"product_cart\",\"product_cart\",\"product_cart\",\"product_cart\",\"product_cart\",\"login\",\"login\",\"login\",\"login\",\"login\",\"login\",\"login\",\"product_page\",\"product_page\",\"product_page\",\"product_page\",\"login\",\"login\",\"login\",\"login\",\"purchase\",\"purchase\",\"purchase\",\"purchase\",\"product_cart\",\"product_cart\",\"product_cart\",\"product_cart\",\"product_page\",\"product_page\",\"product_page\",\"product_page\",\"login\",\"login\",\"login\",\"login\",\"product_cart\",\"product_cart\",\"product_cart\",\"login\",\"login\",\"login\",\"login\",\"login\",\"login\",\"product_cart\",\"product_cart\",\"login\",\"login\",\"product_page\",\"product_page\",\"login\",\"login\",\"login\",\"login\",\"login\",\"purchase\",\"purchase\",\"purchase\",\"product_cart\",\"product_cart\",\"product_cart\",\"product_page\",\"product_page\",\"product_page\",\"login\",\"login\",\"login\",\"product_cart\",\"product_cart\",\"product_cart\",\"product_page\",\"product_page\",\"product_page\",\"login\",\"login\",\"login\",\"product_page\",\"product_page\",\"product_page\",\"product_page\",\"login\",\"login\",\"login\",\"login\",\"purchase\",\"purchase\",\"product_page\",\"product_page\",\"login\",\"login\",\"product_cart\",\"product_cart\",\"product_page\",\"product_page\",\"login\",\"login\",\"product_page\",\"product_page\",\"product_page\",\"login\",\"login\",\"login\",\"product_page\",\"product_page\",\"product_page\",\"product_page\",\"login\",\"login\",\"login\",\"login\",\"product_cart\",\"product_cart\",\"product_cart\",\"product_cart\",\"product_page\",\"product_page\",\"product_page\",\"product_page\",\"login\",\"login\",\"login\",\"login\",\"product_cart\",\"product_cart\",\"product_cart\",\"product_page\",\"product_page\",\"product_page\",\"login\",\"login\",\"login\",\"purchase\",\"purchase\",\"purchase\",\"purchase\",\"purchase\",\"product_page\",\"product_page\",\"product_page\",\"product_page\",\"product_page\",\"login\",\"login\",\"login\",\"login\",\"login\",\"product_cart\",\"product_cart\",\"login\",\"login\",\"login\",\"login\",\"login\",\"login\",\"purchase\",\"purchase\",\"product_page\",\"product_page\",\"login\",\"login\",\"product_cart\",\"product_cart\",\"login\",\"login\",\"product_cart\",\"product_cart\",\"product_cart\",\"product_cart\",\"login\",\"login\",\"login\",\"login\",\"product_cart\",\"product_cart\",\"product_page\",\"product_page\",\"login\",\"login\",\"purchase\",\"purchase\",\"product_page\",\"product_page\",\"login\",\"login\",\"product_page\",\"product_page\",\"login\",\"login\",\"purchase\",\"purchase\",\"purchase\",\"purchase\",\"purchase\",\"product_cart\",\"product_cart\",\"product_cart\",\"product_cart\",\"product_cart\",\"product_page\",\"product_page\",\"product_page\",\"product_page\",\"product_page\",\"login\",\"login\",\"login\",\"login\",\"login\",\"purchase\",\"purchase\",\"purchase\",\"login\",\"login\",\"login\",\"login\",\"login\",\"login\",\"product_page\",\"product_page\",\"product_page\",\"login\",\"login\",\"login\",\"product_page\",\"product_page\",\"login\",\"login\",\"product_cart\",\"product_cart\",\"product_page\",\"product_page\",\"login\",\"login\",\"login\",\"login\",\"login\",\"login\",\"product_cart\",\"product_cart\",\"product_cart\",\"login\",\"login\",\"login\",\"product_cart\",\"product_cart\",\"login\",\"login\",\"product_page\",\"product_page\",\"product_page\",\"product_page\",\"login\",\"login\",\"login\",\"login\",\"login\",\"login\",\"login\",\"login\",\"login\",\"purchase\",\"purchase\",\"purchase\",\"product_page\",\"product_page\",\"product_page\",\"login\",\"login\",\"login\",\"login\",\"login\",\"login\",\"login\",\"login\",\"login\",\"purchase\",\"purchase\",\"product_cart\",\"product_cart\",\"product_page\",\"product_page\",\"login\",\"login\",\"product_cart\",\"product_cart\",\"product_cart\",\"product_cart\",\"login\",\"login\",\"login\",\"login\",\"product_cart\",\"product_cart\",\"product_cart\",\"product_cart\",\"login\",\"login\",\"login\",\"login\",\"purchase\",\"purchase\",\"purchase\",\"purchase\",\"product_cart\",\"product_cart\",\"product_cart\",\"product_cart\",\"product_page\",\"product_page\",\"product_page\",\"product_page\",\"login\",\"login\",\"login\",\"login\",\"purchase\",\"purchase\",\"purchase\",\"purchase\",\"product_page\",\"product_page\",\"product_page\",\"product_page\",\"login\",\"login\",\"login\",\"login\",\"product_cart\",\"product_cart\",\"product_cart\",\"product_cart\",\"product_page\",\"product_page\",\"product_page\",\"product_page\",\"login\",\"login\",\"login\",\"login\",\"product_cart\",\"product_cart\",\"product_cart\",\"product_page\",\"product_page\",\"product_page\",\"login\",\"login\",\"login\",\"product_page\",\"login\",\"product_cart\",\"product_cart\",\"product_cart\",\"product_page\",\"product_page\",\"product_page\",\"login\",\"login\",\"login\",\"purchase\",\"purchase\",\"purchase\",\"product_page\",\"product_page\",\"product_page\",\"login\",\"login\",\"login\",\"product_page\",\"product_page\",\"product_page\",\"login\",\"login\",\"login\",\"product_page\",\"product_page\",\"product_page\",\"login\",\"login\",\"login\",\"product_page\",\"product_page\",\"product_page\",\"product_page\",\"product_page\",\"login\",\"login\",\"login\",\"login\",\"login\",\"product_page\",\"product_page\",\"product_page\",\"login\",\"login\",\"login\",\"purchase\",\"purchase\",\"product_page\",\"product_page\",\"login\",\"login\",\"product_page\",\"product_page\",\"product_page\",\"login\",\"login\",\"login\",\"product_cart\",\"product_cart\",\"product_page\",\"product_page\",\"login\",\"login\",\"purchase\",\"purchase\",\"purchase\",\"product_page\",\"product_page\",\"product_page\",\"login\",\"login\",\"login\",\"purchase\",\"product_page\",\"login\",\"purchase\",\"purchase\",\"purchase\",\"purchase\",\"product_page\",\"product_page\",\"product_page\",\"product_page\",\"login\",\"login\",\"login\",\"login\",\"purchase\",\"purchase\",\"purchase\",\"product_cart\",\"product_cart\",\"product_cart\",\"product_page\",\"product_page\",\"product_page\",\"login\",\"login\",\"login\",\"purchase\",\"purchase\",\"product_page\",\"product_page\",\"login\",\"login\",\"product_page\",\"product_page\",\"product_page\",\"product_page\",\"login\",\"login\",\"login\",\"login\",\"purchase\",\"purchase\",\"purchase\",\"login\",\"login\",\"login\",\"login\",\"login\",\"product_page\",\"product_page\",\"login\",\"login\",\"login\",\"purchase\",\"purchase\",\"product_page\",\"product_page\",\"login\",\"login\",\"purchase\",\"product_page\",\"login\",\"purchase\",\"login\",\"product_cart\",\"product_cart\",\"login\",\"login\",\"login\",\"login\",\"login\",\"login\",\"product_page\",\"product_page\",\"login\",\"login\",\"product_page\",\"product_page\",\"product_page\",\"product_page\",\"product_page\",\"login\",\"login\",\"login\",\"login\",\"login\",\"login\",\"login\",\"login\",\"login\",\"product_page\",\"product_page\",\"product_page\",\"product_page\",\"login\",\"login\",\"login\",\"login\",\"purchase\",\"purchase\",\"purchase\",\"purchase\",\"product_page\",\"product_page\",\"product_page\",\"product_page\",\"login\",\"login\",\"login\",\"login\",\"purchase\",\"purchase\",\"purchase\",\"purchase\",\"product_page\",\"product_page\",\"product_page\",\"product_page\",\"login\",\"login\",\"login\",\"login\",\"product_page\",\"product_page\",\"product_page\",\"product_page\",\"login\",\"login\",\"login\",\"login\",\"purchase\",\"purchase\",\"purchase\",\"purchase\",\"product_page\",\"product_page\",\"product_page\",\"product_page\",\"login\",\"login\",\"login\",\"login\",\"product_page\",\"product_page\",\"product_page\",\"login\",\"login\",\"login\",\"product_page\",\"product_page\",\"product_page\",\"product_page\",\"product_page\",\"login\",\"login\",\"login\",\"login\",\"login\",\"login\",\"login\",\"login\",\"purchase\",\"purchase\",\"purchase\",\"product_page\",\"product_page\",\"product_page\",\"login\",\"login\",\"login\",\"product_cart\",\"product_cart\",\"product_cart\",\"product_page\",\"product_page\",\"product_page\",\"login\",\"login\",\"login\",\"purchase\",\"purchase\",\"product_page\",\"product_page\",\"login\",\"login\",\"product_page\",\"product_page\",\"product_page\",\"product_page\",\"product_page\",\"product_page\",\"login\",\"login\",\"login\",\"login\",\"login\",\"login\",\"purchase\",\"purchase\",\"purchase\",\"purchase\",\"purchase\",\"login\",\"login\",\"login\",\"login\",\"login\",\"purchase\",\"purchase\",\"purchase\",\"purchase\",\"product_page\",\"product_page\",\"product_page\",\"product_page\",\"login\",\"login\",\"login\",\"login\",\"product_cart\",\"product_cart\",\"product_page\",\"product_page\",\"login\",\"login\",\"product_cart\",\"product_cart\",\"product_cart\",\"product_page\",\"product_page\",\"product_page\",\"login\",\"login\",\"login\",\"purchase\",\"purchase\",\"purchase\",\"purchase\",\"product_page\",\"product_page\",\"product_page\",\"product_page\",\"login\",\"login\",\"login\",\"login\",\"product_cart\",\"product_cart\",\"product_page\",\"product_page\",\"login\",\"login\",\"purchase\",\"purchase\",\"purchase\",\"product_cart\",\"product_cart\",\"product_cart\",\"product_page\",\"product_page\",\"product_page\",\"login\",\"login\",\"login\",\"purchase\",\"purchase\",\"purchase\",\"purchase\",\"product_page\",\"product_page\",\"product_page\",\"product_page\",\"login\",\"login\",\"login\",\"login\",\"product_page\",\"product_page\",\"login\",\"login\",\"product_page\",\"product_page\",\"product_page\",\"login\",\"login\",\"login\",\"product_page\",\"product_page\",\"product_page\",\"login\",\"login\",\"login\",\"login\",\"login\",\"login\",\"login\",\"login\",\"login\",\"login\",\"purchase\",\"purchase\",\"purchase\",\"purchase\",\"login\",\"login\",\"login\",\"login\",\"product_page\",\"product_page\",\"product_page\",\"login\",\"login\",\"login\",\"purchase\",\"purchase\",\"product_cart\",\"product_cart\",\"login\",\"login\",\"product_page\",\"product_page\",\"product_page\",\"login\",\"login\",\"login\",\"product_cart\",\"product_cart\",\"product_cart\",\"product_page\",\"product_page\",\"product_page\",\"login\",\"login\",\"login\",\"product_page\",\"product_page\",\"product_page\",\"product_page\",\"login\",\"login\",\"login\",\"login\",\"purchase\",\"purchase\",\"purchase\",\"purchase\",\"product_page\",\"product_page\",\"product_page\",\"product_page\",\"login\",\"login\",\"login\",\"login\",\"purchase\",\"purchase\",\"product_page\",\"product_page\",\"login\",\"login\",\"purchase\",\"purchase\",\"purchase\",\"purchase\",\"product_page\",\"product_page\",\"product_page\",\"product_page\",\"login\",\"login\",\"login\",\"login\",\"product_cart\",\"product_cart\",\"product_cart\",\"product_cart\",\"product_cart\",\"product_page\",\"product_page\",\"product_page\",\"product_page\",\"product_page\",\"login\",\"login\",\"login\",\"login\",\"login\",\"login\",\"login\",\"login\",\"purchase\",\"purchase\",\"product_cart\",\"product_cart\",\"login\",\"login\",\"product_page\",\"product_page\",\"login\",\"login\",\"product_cart\",\"product_cart\",\"product_cart\",\"product_cart\",\"product_page\",\"product_page\",\"product_page\",\"product_page\",\"login\",\"login\",\"login\",\"login\",\"login\",\"product_page\",\"product_page\",\"product_page\",\"login\",\"login\",\"login\",\"purchase\",\"purchase\",\"purchase\",\"product_cart\",\"product_cart\",\"product_cart\",\"product_page\",\"product_page\",\"product_page\",\"login\",\"login\",\"login\",\"product_cart\",\"product_cart\",\"product_cart\",\"product_cart\",\"product_cart\",\"product_page\",\"product_page\",\"product_page\",\"product_page\",\"product_page\",\"login\",\"login\",\"login\",\"login\",\"login\",\"product_cart\",\"product_cart\",\"product_cart\",\"product_cart\",\"product_page\",\"product_page\",\"product_page\",\"product_page\",\"login\",\"login\",\"login\",\"login\",\"login\",\"login\",\"login\",\"login\",\"login\",\"login\",\"login\",\"login\",\"login\",\"product_page\",\"login\",\"login\",\"login\",\"login\",\"login\",\"login\",\"login\",\"product_page\",\"product_page\",\"product_page\",\"product_page\",\"login\",\"login\",\"login\",\"login\",\"purchase\",\"purchase\",\"product_page\",\"product_page\",\"login\",\"login\",\"purchase\",\"purchase\",\"purchase\",\"product_page\",\"product_page\",\"product_page\",\"product_page\",\"login\",\"login\",\"login\",\"login\",\"product_page\",\"product_page\",\"product_page\",\"product_page\",\"product_page\",\"login\",\"login\",\"login\",\"login\",\"login\",\"purchase\",\"purchase\",\"product_cart\",\"product_cart\",\"product_page\",\"product_page\",\"login\",\"login\",\"purchase\",\"purchase\",\"login\",\"login\",\"purchase\",\"purchase\",\"purchase\",\"login\",\"login\",\"login\",\"purchase\",\"purchase\",\"purchase\",\"product_cart\",\"product_cart\",\"product_cart\",\"product_page\",\"product_page\",\"product_page\",\"login\",\"login\",\"login\",\"purchase\",\"purchase\",\"purchase\",\"product_page\",\"product_page\",\"product_page\",\"login\",\"login\",\"login\",\"purchase\",\"purchase\",\"purchase\",\"purchase\",\"purchase\",\"product_cart\",\"product_cart\",\"product_cart\",\"product_cart\",\"product_cart\",\"login\",\"login\",\"login\",\"login\",\"login\",\"purchase\",\"purchase\",\"purchase\",\"purchase\",\"product_cart\",\"product_cart\",\"product_cart\",\"product_cart\",\"product_page\",\"product_page\",\"product_page\",\"product_page\",\"login\",\"login\",\"login\",\"login\",\"product_page\",\"product_page\",\"login\",\"login\",\"product_page\",\"product_page\",\"login\",\"login\",\"product_page\",\"product_page\",\"product_page\",\"login\",\"login\",\"login\",\"login\",\"login\",\"login\",\"product_cart\",\"product_cart\",\"product_cart\",\"product_cart\",\"login\",\"login\",\"login\",\"login\",\"product_cart\",\"product_cart\",\"login\",\"login\",\"product_page\",\"product_page\",\"product_page\",\"product_page\",\"login\",\"login\",\"login\",\"login\",\"product_page\",\"product_page\",\"login\",\"login\",\"product_cart\",\"product_cart\",\"product_cart\",\"product_cart\",\"product_cart\",\"login\",\"login\",\"login\",\"login\",\"login\",\"product_page\",\"product_page\",\"product_page\",\"product_page\",\"login\",\"login\",\"login\",\"login\",\"purchase\",\"purchase\",\"purchase\",\"login\",\"login\",\"login\",\"purchase\",\"purchase\",\"purchase\",\"product_page\",\"product_page\",\"product_page\",\"login\",\"login\",\"login\",\"product_cart\",\"product_cart\",\"product_cart\",\"product_cart\",\"login\",\"login\",\"login\",\"login\",\"purchase\",\"purchase\",\"product_page\",\"product_page\",\"login\",\"login\",\"login\",\"login\",\"purchase\",\"purchase\",\"purchase\",\"purchase\",\"product_page\",\"product_page\",\"product_page\",\"product_page\",\"login\",\"login\",\"login\",\"login\",\"product_page\",\"product_page\",\"product_page\",\"product_page\",\"login\",\"login\",\"login\",\"login\",\"product_page\",\"product_page\",\"product_page\",\"product_page\",\"product_page\",\"login\",\"login\",\"login\",\"login\",\"login\",\"purchase\",\"purchase\",\"purchase\",\"purchase\",\"product_cart\",\"product_cart\",\"product_cart\",\"product_cart\",\"login\",\"login\",\"login\",\"login\",\"product_page\",\"product_page\",\"login\",\"login\",\"purchase\",\"purchase\",\"purchase\",\"product_cart\",\"product_cart\",\"product_cart\",\"product_page\",\"product_page\",\"product_page\",\"login\",\"login\",\"login\",\"product_cart\",\"product_cart\",\"product_cart\",\"product_cart\",\"product_cart\",\"login\",\"login\",\"login\",\"login\",\"login\",\"product_page\",\"product_page\",\"product_page\",\"login\",\"login\",\"login\",\"product_page\",\"login\",\"purchase\",\"purchase\",\"purchase\",\"login\",\"login\",\"login\",\"product_page\",\"product_page\",\"product_page\",\"product_page\",\"login\",\"login\",\"login\",\"login\",\"purchase\",\"purchase\",\"login\",\"login\",\"login\",\"login\",\"login\",\"login\",\"login\",\"product_cart\",\"product_cart\",\"login\",\"login\",\"product_cart\",\"product_cart\",\"product_cart\",\"product_page\",\"product_page\",\"product_page\",\"login\",\"login\",\"login\",\"product_page\",\"product_page\",\"login\",\"login\",\"purchase\",\"purchase\",\"purchase\",\"login\",\"login\",\"login\",\"product_cart\",\"product_cart\",\"product_page\",\"product_page\",\"login\",\"login\",\"product_page\",\"product_page\",\"login\",\"login\",\"purchase\",\"purchase\",\"product_page\",\"product_page\",\"login\",\"login\",\"product_page\",\"product_page\",\"product_page\",\"login\",\"login\",\"login\",\"login\",\"login\",\"login\",\"purchase\",\"purchase\",\"product_cart\",\"product_cart\",\"login\",\"login\",\"purchase\",\"purchase\",\"product_page\",\"product_page\",\"login\",\"login\",\"login\",\"login\",\"login\",\"login\",\"purchase\",\"product_page\",\"login\",\"product_page\",\"product_page\",\"product_page\",\"product_page\",\"login\",\"login\",\"login\",\"login\",\"login\",\"login\",\"login\",\"product_page\",\"product_page\",\"product_page\",\"login\",\"login\",\"login\",\"product_cart\",\"product_cart\",\"product_cart\",\"product_page\",\"product_page\",\"product_page\",\"login\",\"login\",\"login\",\"product_page\",\"login\",\"purchase\",\"purchase\",\"purchase\",\"purchase\",\"purchase\",\"product_page\",\"product_page\",\"product_page\",\"product_page\",\"product_page\",\"login\",\"login\",\"login\",\"login\",\"login\",\"login\",\"login\",\"login\",\"product_cart\",\"product_cart\",\"product_cart\",\"product_cart\",\"login\",\"login\",\"login\",\"login\",\"login\",\"login\",\"login\",\"product_cart\",\"product_cart\",\"product_cart\",\"product_cart\",\"login\",\"login\",\"login\",\"login\",\"product_page\",\"product_page\",\"product_page\",\"login\",\"login\",\"login\",\"login\",\"login\",\"login\",\"login\",\"product_page\",\"product_page\",\"login\",\"login\",\"login\",\"login\",\"login\",\"login\",\"login\",\"login\",\"login\",\"login\",\"product_cart\",\"product_cart\",\"product_cart\",\"product_cart\",\"login\",\"login\",\"login\",\"login\",\"product_cart\",\"product_cart\",\"product_cart\",\"product_cart\",\"login\",\"login\",\"login\",\"login\",\"login\",\"login\",\"product_cart\",\"product_cart\",\"product_cart\",\"product_page\",\"product_page\",\"product_page\",\"login\",\"login\",\"login\",\"product_page\",\"product_page\",\"product_page\",\"login\",\"login\",\"login\",\"product_cart\",\"product_cart\",\"product_cart\",\"product_cart\",\"login\",\"login\",\"login\",\"login\",\"purchase\",\"purchase\",\"product_cart\",\"product_cart\",\"product_page\",\"product_page\",\"login\",\"login\",\"product_page\",\"product_page\",\"product_page\",\"login\",\"login\",\"login\",\"purchase\",\"purchase\",\"purchase\",\"login\",\"login\",\"login\",\"login\",\"login\",\"product_page\",\"product_page\",\"login\",\"login\",\"product_page\",\"product_page\",\"product_page\",\"login\",\"login\",\"login\",\"product_page\",\"product_page\",\"product_page\",\"product_page\",\"login\",\"login\",\"login\",\"login\",\"product_page\",\"login\",\"product_page\",\"product_page\",\"login\",\"login\",\"login\",\"login\",\"login\",\"login\",\"product_cart\",\"product_cart\",\"product_page\",\"product_page\",\"login\",\"login\",\"product_cart\",\"product_cart\",\"product_cart\",\"login\",\"login\",\"login\",\"product_cart\",\"login\",\"login\",\"login\",\"login\",\"login\",\"login\",\"login\",\"login\",\"product_cart\",\"product_cart\",\"product_cart\",\"product_cart\",\"product_cart\",\"product_cart\",\"product_page\",\"product_page\",\"product_page\",\"product_page\",\"product_page\",\"product_page\",\"login\",\"login\",\"login\",\"login\",\"login\",\"login\",\"product_page\",\"product_page\",\"login\",\"login\",\"purchase\",\"purchase\",\"purchase\",\"product_page\",\"product_page\",\"product_page\",\"login\",\"login\",\"login\",\"product_cart\",\"product_cart\",\"product_cart\",\"product_page\",\"product_page\",\"product_page\",\"login\",\"login\",\"login\",\"product_cart\",\"product_cart\",\"product_cart\",\"login\",\"login\",\"login\",\"product_page\",\"product_page\",\"login\",\"login\",\"login\",\"login\",\"login\",\"login\",\"login\",\"product_page\",\"product_page\",\"product_page\",\"login\",\"login\",\"login\",\"login\",\"login\",\"login\",\"login\",\"product_cart\",\"product_cart\",\"login\",\"login\",\"product_page\",\"product_page\",\"product_page\",\"product_page\",\"login\",\"login\",\"login\",\"login\",\"product_cart\",\"product_cart\",\"product_cart\",\"product_cart\",\"product_cart\",\"product_page\",\"product_page\",\"product_page\",\"product_page\",\"product_page\",\"login\",\"login\",\"login\",\"login\",\"login\",\"product_page\",\"product_page\",\"login\",\"login\",\"purchase\",\"purchase\",\"purchase\",\"product_cart\",\"product_cart\",\"product_cart\",\"product_page\",\"product_page\",\"product_page\",\"login\",\"login\",\"login\",\"purchase\",\"purchase\",\"product_cart\",\"product_cart\",\"login\",\"login\",\"product_page\",\"product_page\",\"login\",\"login\",\"purchase\",\"purchase\",\"purchase\",\"product_cart\",\"product_cart\",\"product_cart\",\"product_page\",\"product_page\",\"product_page\",\"login\",\"login\",\"login\",\"product_page\",\"product_page\",\"login\",\"login\",\"product_cart\",\"product_cart\",\"product_cart\",\"product_page\",\"product_page\",\"product_page\",\"login\",\"login\",\"login\",\"login\",\"login\",\"login\",\"product_cart\",\"product_cart\",\"product_cart\",\"product_cart\",\"product_page\",\"product_page\",\"product_page\",\"product_page\",\"login\",\"login\",\"login\",\"login\",\"login\",\"login\",\"login\",\"product_cart\",\"product_cart\",\"product_cart\",\"product_page\",\"product_page\",\"product_page\",\"login\",\"login\",\"login\",\"product_cart\",\"product_cart\",\"product_cart\",\"product_cart\",\"product_cart\",\"product_page\",\"product_page\",\"product_page\",\"product_page\",\"product_page\",\"login\",\"login\",\"login\",\"login\",\"login\",\"product_cart\",\"product_cart\",\"product_cart\",\"product_page\",\"product_page\",\"product_page\",\"login\",\"login\",\"login\",\"product_page\",\"product_page\",\"product_page\",\"product_page\",\"product_page\",\"login\",\"login\",\"login\",\"login\",\"login\",\"purchase\",\"purchase\",\"login\",\"login\",\"product_page\",\"product_page\",\"login\",\"login\",\"product_page\",\"product_page\",\"login\",\"login\",\"login\",\"login\",\"login\",\"login\",\"product_page\",\"product_page\",\"product_page\",\"login\",\"login\",\"login\",\"product_cart\",\"product_cart\",\"product_cart\",\"product_cart\",\"product_cart\",\"login\",\"login\",\"login\",\"login\",\"login\",\"product_page\",\"login\",\"product_page\",\"product_page\",\"product_page\",\"product_page\",\"product_page\",\"login\",\"login\",\"login\",\"login\",\"login\",\"purchase\",\"purchase\",\"product_page\",\"product_page\",\"login\",\"login\",\"product_page\",\"product_page\",\"product_page\",\"product_page\",\"login\",\"login\",\"login\",\"login\",\"purchase\",\"purchase\",\"purchase\",\"purchase\",\"purchase\",\"purchase\",\"product_page\",\"product_page\",\"product_page\",\"product_page\",\"product_page\",\"product_page\",\"login\",\"login\",\"login\",\"login\",\"login\",\"login\",\"product_page\",\"product_page\",\"product_page\",\"product_page\",\"product_page\",\"login\",\"login\",\"login\",\"login\",\"login\",\"purchase\",\"purchase\",\"purchase\",\"product_page\",\"product_page\",\"product_page\",\"login\",\"login\",\"login\",\"product_page\",\"product_page\",\"product_page\",\"login\",\"login\",\"login\",\"product_page\",\"product_page\",\"login\",\"login\",\"purchase\",\"purchase\",\"purchase\",\"product_page\",\"product_page\",\"product_page\",\"login\",\"login\",\"login\",\"purchase\",\"purchase\",\"product_page\",\"product_page\",\"login\",\"login\",\"login\",\"login\",\"product_page\",\"product_page\",\"login\",\"login\",\"product_page\",\"product_page\",\"product_page\",\"product_page\",\"login\",\"login\",\"login\",\"login\",\"product_page\",\"login\",\"product_page\",\"product_page\",\"login\",\"login\",\"purchase\",\"purchase\",\"product_cart\",\"product_cart\",\"product_page\",\"product_page\",\"login\",\"login\",\"product_cart\",\"product_cart\",\"product_cart\",\"product_cart\",\"product_cart\",\"product_page\",\"product_page\",\"product_page\",\"product_page\",\"product_page\",\"login\",\"login\",\"login\",\"login\",\"login\",\"purchase\",\"purchase\",\"purchase\",\"product_cart\",\"product_cart\",\"product_cart\",\"product_page\",\"product_page\",\"product_page\",\"login\",\"login\",\"login\",\"product_cart\",\"product_cart\",\"product_page\",\"product_page\",\"login\",\"login\",\"login\",\"login\",\"login\",\"purchase\",\"purchase\",\"purchase\",\"purchase\",\"purchase\",\"product_cart\",\"product_cart\",\"product_cart\",\"product_cart\",\"product_cart\",\"product_page\",\"product_page\",\"product_page\",\"product_page\",\"product_page\",\"login\",\"login\",\"login\",\"login\",\"login\",\"product_cart\",\"product_cart\",\"product_cart\",\"product_cart\",\"product_cart\",\"product_page\",\"product_page\",\"product_page\",\"product_page\",\"product_page\",\"login\",\"login\",\"login\",\"login\",\"login\",\"product_cart\",\"product_cart\",\"product_cart\",\"product_cart\",\"product_cart\",\"login\",\"login\",\"login\",\"login\",\"login\",\"product_cart\",\"product_cart\",\"product_cart\",\"product_cart\",\"product_page\",\"product_page\",\"product_page\",\"product_page\",\"login\",\"login\",\"login\",\"login\",\"product_page\",\"product_page\",\"product_page\",\"product_page\",\"login\",\"login\",\"login\",\"login\",\"login\",\"login\",\"login\",\"login\",\"purchase\",\"purchase\",\"purchase\",\"purchase\",\"login\",\"login\",\"login\",\"login\",\"purchase\",\"purchase\",\"purchase\",\"purchase\",\"purchase\",\"product_page\",\"product_page\",\"product_page\",\"product_page\",\"product_page\",\"login\",\"login\",\"login\",\"login\",\"login\",\"purchase\",\"purchase\",\"purchase\",\"purchase\",\"product_page\",\"product_page\",\"product_page\",\"product_page\",\"login\",\"login\",\"login\",\"login\",\"product_page\",\"product_page\",\"product_page\",\"product_page\",\"login\",\"login\",\"login\",\"login\",\"product_cart\",\"product_cart\",\"product_cart\",\"product_page\",\"product_page\",\"product_page\",\"login\",\"login\",\"login\",\"product_page\",\"product_page\",\"product_page\",\"product_page\",\"login\",\"login\",\"login\",\"login\",\"product_cart\",\"product_cart\",\"product_cart\",\"product_cart\",\"product_cart\",\"product_cart\",\"product_page\",\"product_page\",\"product_page\",\"product_page\",\"product_page\",\"product_page\",\"login\",\"login\",\"login\",\"login\",\"login\",\"login\",\"login\",\"login\",\"purchase\",\"purchase\",\"product_page\",\"product_page\",\"login\",\"login\",\"purchase\",\"purchase\",\"product_cart\",\"product_cart\",\"product_page\",\"product_page\",\"login\",\"login\",\"product_cart\",\"product_cart\",\"product_page\",\"product_page\",\"login\",\"login\",\"purchase\",\"purchase\",\"purchase\",\"purchase\",\"purchase\",\"product_page\",\"product_page\",\"product_page\",\"product_page\",\"product_page\",\"login\",\"login\",\"login\",\"login\",\"login\",\"product_cart\",\"product_cart\",\"product_cart\",\"product_page\",\"product_page\",\"product_page\",\"login\",\"login\",\"login\",\"product_cart\",\"product_cart\",\"product_cart\",\"product_cart\",\"login\",\"login\",\"login\",\"login\",\"purchase\",\"purchase\",\"purchase\",\"purchase\",\"purchase\",\"product_cart\",\"product_cart\",\"product_cart\",\"product_cart\",\"product_cart\",\"product_page\",\"product_page\",\"product_page\",\"product_page\",\"product_page\",\"login\",\"login\",\"login\",\"login\",\"login\",\"login\",\"login\",\"purchase\",\"purchase\",\"purchase\",\"purchase\",\"purchase\",\"purchase\",\"product_page\",\"product_page\",\"product_page\",\"product_page\",\"product_page\",\"product_page\",\"login\",\"login\",\"login\",\"login\",\"login\",\"login\",\"purchase\",\"purchase\",\"purchase\",\"purchase\",\"purchase\",\"login\",\"login\",\"login\",\"login\",\"login\",\"product_cart\",\"product_cart\",\"product_cart\",\"login\",\"login\",\"login\",\"product_page\",\"product_page\",\"product_page\",\"product_page\",\"login\",\"login\",\"login\",\"login\",\"purchase\",\"purchase\",\"purchase\",\"product_page\",\"product_page\",\"product_page\",\"login\",\"login\",\"login\",\"product_cart\",\"product_cart\",\"login\",\"login\",\"purchase\",\"purchase\",\"purchase\",\"purchase\",\"login\",\"login\",\"login\",\"login\",\"product_cart\",\"product_cart\",\"product_page\",\"product_page\",\"login\",\"login\",\"product_page\",\"product_page\",\"product_page\",\"product_page\",\"login\",\"login\",\"login\",\"login\",\"purchase\",\"product_page\",\"login\",\"product_cart\",\"product_cart\",\"product_cart\",\"product_page\",\"product_page\",\"product_page\",\"login\",\"login\",\"login\",\"purchase\",\"purchase\",\"purchase\",\"product_cart\",\"product_cart\",\"product_cart\",\"product_page\",\"product_page\",\"product_page\",\"login\",\"login\",\"login\",\"product_cart\",\"product_cart\",\"product_cart\",\"product_cart\",\"login\",\"login\",\"login\",\"login\",\"product_cart\",\"product_cart\",\"product_cart\",\"product_cart\",\"product_cart\",\"product_cart\",\"product_page\",\"product_page\",\"product_page\",\"product_page\",\"product_page\",\"product_page\",\"login\",\"login\",\"login\",\"login\",\"login\",\"login\",\"login\",\"product_page\",\"product_page\",\"product_page\",\"login\",\"login\",\"login\",\"purchase\",\"purchase\",\"purchase\",\"purchase\",\"product_cart\",\"product_cart\",\"product_cart\",\"product_cart\",\"product_page\",\"product_page\",\"product_page\",\"product_page\",\"login\",\"login\",\"login\",\"login\",\"product_page\",\"product_page\",\"product_page\",\"product_page\",\"login\",\"login\",\"login\",\"login\",\"purchase\",\"purchase\",\"purchase\",\"purchase\",\"product_page\",\"product_page\",\"product_page\",\"product_page\",\"login\",\"login\",\"login\",\"login\",\"purchase\",\"purchase\",\"purchase\",\"product_cart\",\"product_cart\",\"product_cart\",\"login\",\"login\",\"login\",\"product_page\",\"product_page\",\"product_page\",\"product_page\",\"product_page\",\"product_page\",\"login\",\"login\",\"login\",\"login\",\"login\",\"login\",\"product_cart\",\"product_cart\",\"product_cart\",\"product_cart\",\"product_cart\",\"product_page\",\"product_page\",\"product_page\",\"product_page\",\"product_page\",\"login\",\"login\",\"login\",\"login\",\"login\",\"product_cart\",\"product_cart\",\"login\",\"login\",\"product_page\",\"product_page\",\"product_page\",\"product_page\",\"product_page\",\"product_page\",\"login\",\"login\",\"login\",\"login\",\"login\",\"login\",\"purchase\",\"purchase\",\"purchase\",\"product_page\",\"product_page\",\"product_page\",\"login\",\"login\",\"login\",\"product_page\",\"product_page\",\"product_page\",\"product_page\",\"login\",\"login\",\"login\",\"login\",\"product_cart\",\"product_cart\",\"product_cart\",\"product_cart\",\"login\",\"login\",\"login\",\"login\",\"product_page\",\"product_page\",\"login\",\"login\",\"product_cart\",\"product_cart\",\"product_cart\",\"product_cart\",\"product_cart\",\"product_page\",\"product_page\",\"product_page\",\"product_page\",\"product_page\",\"login\",\"login\",\"login\",\"login\",\"login\",\"purchase\",\"purchase\",\"purchase\",\"login\",\"login\",\"login\",\"purchase\",\"purchase\",\"product_cart\",\"product_cart\",\"product_page\",\"product_page\",\"login\",\"login\",\"product_page\",\"product_page\",\"login\",\"login\",\"product_cart\",\"product_cart\",\"product_page\",\"product_page\",\"login\",\"login\",\"product_page\",\"product_page\",\"product_page\",\"login\",\"login\",\"login\",\"product_page\",\"product_page\",\"product_page\",\"login\",\"login\",\"login\",\"purchase\",\"purchase\",\"purchase\",\"purchase\",\"purchase\",\"product_cart\",\"product_cart\",\"product_cart\",\"product_cart\",\"product_cart\",\"login\",\"login\",\"login\",\"login\",\"login\",\"purchase\",\"purchase\",\"purchase\",\"purchase\",\"product_page\",\"product_page\",\"product_page\",\"product_page\",\"login\",\"login\",\"login\",\"login\",\"purchase\",\"purchase\",\"purchase\",\"purchase\",\"purchase\",\"product_cart\",\"product_cart\",\"product_cart\",\"product_cart\",\"product_cart\",\"product_page\",\"product_page\",\"product_page\",\"product_page\",\"product_page\",\"login\",\"login\",\"login\",\"login\",\"login\",\"login\",\"login\",\"login\",\"login\",\"login\",\"product_page\",\"product_page\",\"login\",\"login\",\"login\",\"login\",\"login\",\"login\",\"product_cart\",\"product_cart\",\"product_cart\",\"product_page\",\"product_page\",\"product_page\",\"login\",\"login\",\"login\",\"product_cart\",\"product_cart\",\"product_cart\",\"product_page\",\"product_page\",\"product_page\",\"login\",\"login\",\"login\",\"purchase\",\"purchase\",\"purchase\",\"purchase\",\"purchase\",\"purchase\",\"product_cart\",\"product_cart\",\"product_cart\",\"product_cart\",\"product_cart\",\"product_cart\",\"product_page\",\"product_page\",\"product_page\",\"product_page\",\"product_page\",\"product_page\",\"login\",\"login\",\"login\",\"login\",\"login\",\"login\",\"product_cart\",\"product_page\",\"login\",\"product_cart\",\"product_cart\",\"product_cart\",\"product_cart\",\"login\",\"login\",\"login\",\"login\",\"purchase\",\"purchase\",\"product_cart\",\"product_cart\",\"product_page\",\"product_page\",\"login\",\"login\",\"product_page\",\"product_page\",\"product_page\",\"login\",\"login\",\"login\",\"purchase\",\"purchase\",\"purchase\",\"purchase\",\"login\",\"login\",\"login\",\"login\",\"product_page\",\"product_page\",\"login\",\"login\",\"product_page\",\"product_page\",\"login\",\"login\",\"login\",\"login\",\"login\",\"login\",\"login\",\"product_cart\",\"product_cart\",\"product_cart\",\"product_cart\",\"product_page\",\"product_page\",\"product_page\",\"product_page\",\"login\",\"login\",\"login\",\"login\",\"login\",\"login\",\"login\",\"product_page\",\"product_page\",\"product_page\",\"login\",\"login\",\"login\",\"product_page\",\"login\",\"purchase\",\"purchase\",\"purchase\",\"product_page\",\"product_page\",\"product_page\",\"login\",\"login\",\"login\",\"purchase\",\"purchase\",\"purchase\",\"purchase\",\"purchase\",\"product_cart\",\"product_cart\",\"product_cart\",\"product_cart\",\"product_cart\",\"product_page\",\"product_page\",\"product_page\",\"product_page\",\"product_page\",\"login\",\"login\",\"login\",\"login\",\"login\",\"product_page\",\"product_page\",\"product_page\",\"login\",\"login\",\"login\",\"purchase\",\"purchase\",\"purchase\",\"product_page\",\"product_page\",\"product_page\",\"login\",\"login\",\"login\",\"product_cart\",\"product_cart\",\"product_page\",\"product_page\",\"login\",\"login\",\"login\",\"login\",\"login\",\"login\",\"login\",\"login\",\"login\",\"login\",\"login\",\"login\",\"login\",\"purchase\",\"purchase\",\"purchase\",\"purchase\",\"purchase\",\"product_cart\",\"product_cart\",\"product_cart\",\"product_cart\",\"product_cart\",\"product_page\",\"product_page\",\"product_page\",\"product_page\",\"product_page\",\"login\",\"login\",\"login\",\"login\",\"login\",\"product_cart\",\"product_cart\",\"product_cart\",\"product_cart\",\"product_cart\",\"login\",\"login\",\"login\",\"login\",\"login\",\"login\",\"login\",\"product_page\",\"product_page\",\"product_page\",\"login\",\"login\",\"login\",\"product_page\",\"product_page\",\"product_page\",\"product_page\",\"login\",\"login\",\"login\",\"login\",\"purchase\",\"purchase\",\"product_cart\",\"product_cart\",\"product_page\",\"product_page\",\"login\",\"login\",\"purchase\",\"purchase\",\"purchase\",\"purchase\",\"product_page\",\"product_page\",\"product_page\",\"product_page\",\"login\",\"login\",\"login\",\"login\",\"product_cart\",\"product_cart\",\"product_cart\",\"product_cart\",\"product_page\",\"product_page\",\"product_page\",\"product_page\",\"login\",\"login\",\"login\",\"login\",\"product_cart\",\"product_cart\",\"product_cart\",\"product_page\",\"product_page\",\"product_page\",\"login\",\"login\",\"login\",\"login\",\"login\",\"login\",\"login\",\"product_page\",\"product_page\",\"product_page\",\"login\",\"login\",\"login\",\"purchase\",\"purchase\",\"purchase\",\"purchase\",\"product_page\",\"product_page\",\"product_page\",\"product_page\",\"login\",\"login\",\"login\",\"login\",\"product_page\",\"product_page\",\"product_page\",\"login\",\"login\",\"login\",\"product_cart\",\"product_cart\",\"product_cart\",\"product_cart\",\"product_page\",\"product_page\",\"product_page\",\"product_page\",\"login\",\"login\",\"login\",\"login\",\"product_page\",\"product_page\",\"product_page\",\"product_page\",\"login\",\"login\",\"login\",\"login\",\"login\",\"login\",\"product_page\",\"login\",\"purchase\",\"purchase\",\"product_cart\",\"product_cart\",\"product_page\",\"product_page\",\"login\",\"login\",\"purchase\",\"purchase\",\"login\",\"login\",\"login\",\"product_cart\",\"product_cart\",\"product_page\",\"product_page\",\"login\",\"login\",\"login\",\"login\",\"login\",\"login\",\"login\",\"product_page\",\"product_page\",\"login\",\"login\",\"product_page\",\"product_page\",\"product_page\",\"login\",\"login\",\"login\",\"product_page\",\"product_page\",\"product_page\",\"product_page\",\"product_page\",\"login\",\"login\",\"login\",\"login\",\"login\",\"login\",\"login\",\"purchase\",\"login\",\"product_page\",\"product_page\",\"product_page\",\"login\",\"login\",\"login\",\"login\",\"login\",\"login\",\"login\",\"purchase\",\"purchase\",\"product_page\",\"product_page\",\"login\",\"login\",\"purchase\",\"purchase\",\"purchase\",\"purchase\",\"product_page\",\"product_page\",\"product_page\",\"product_page\",\"login\",\"login\",\"login\",\"login\",\"product_cart\",\"product_cart\",\"product_cart\",\"login\",\"login\",\"login\",\"purchase\",\"purchase\",\"product_cart\",\"product_cart\",\"product_page\",\"product_page\",\"login\",\"login\",\"product_page\",\"product_page\",\"product_page\",\"product_page\",\"login\",\"login\",\"login\",\"login\",\"product_page\",\"product_page\",\"product_page\",\"login\",\"login\",\"login\",\"product_page\",\"product_page\",\"product_page\",\"product_page\",\"login\",\"login\",\"login\",\"login\",\"login\",\"login\",\"login\",\"purchase\",\"purchase\",\"purchase\",\"purchase\",\"product_page\",\"product_page\",\"product_page\",\"product_page\",\"login\",\"login\",\"login\",\"login\",\"login\",\"login\",\"login\",\"login\",\"product_page\",\"product_page\",\"login\",\"login\",\"purchase\",\"purchase\",\"purchase\",\"product_page\",\"product_page\",\"product_page\",\"login\",\"login\",\"login\",\"purchase\",\"purchase\",\"purchase\",\"product_cart\",\"product_cart\",\"product_cart\",\"product_page\",\"product_page\",\"product_page\",\"login\",\"login\",\"login\",\"purchase\",\"purchase\",\"purchase\",\"purchase\",\"purchase\",\"product_cart\",\"product_cart\",\"product_cart\",\"product_cart\",\"product_cart\",\"product_page\",\"product_page\",\"product_page\",\"product_page\",\"product_page\",\"login\",\"login\",\"login\",\"login\",\"login\",\"purchase\",\"purchase\",\"login\",\"login\",\"purchase\",\"purchase\",\"purchase\",\"purchase\",\"purchase\",\"product_page\",\"product_page\",\"product_page\",\"product_page\",\"product_page\",\"login\",\"login\",\"login\",\"login\",\"login\",\"purchase\",\"purchase\",\"purchase\",\"purchase\",\"login\",\"login\",\"login\",\"login\",\"login\",\"login\",\"login\",\"login\",\"purchase\",\"purchase\",\"purchase\",\"purchase\",\"purchase\",\"login\",\"login\",\"login\",\"login\",\"login\",\"product_page\",\"product_page\",\"login\",\"login\",\"purchase\",\"purchase\",\"product_cart\",\"product_cart\",\"product_page\",\"product_page\",\"login\",\"login\",\"product_cart\",\"product_cart\",\"product_cart\",\"product_page\",\"product_page\",\"product_page\",\"login\",\"login\",\"login\",\"product_cart\",\"product_page\",\"login\",\"purchase\",\"purchase\",\"purchase\",\"purchase\",\"product_cart\",\"product_cart\",\"product_cart\",\"product_cart\",\"product_page\",\"product_page\",\"product_page\",\"product_page\",\"login\",\"login\",\"login\",\"login\",\"product_page\",\"product_page\",\"product_page\",\"product_page\",\"login\",\"login\",\"login\",\"login\",\"purchase\",\"purchase\",\"purchase\",\"product_cart\",\"product_cart\",\"product_cart\",\"product_page\",\"product_page\",\"product_page\",\"login\",\"login\",\"login\",\"product_cart\",\"product_cart\",\"product_cart\",\"product_page\",\"product_page\",\"product_page\",\"login\",\"login\",\"login\",\"login\",\"login\",\"login\",\"login\",\"product_page\",\"product_page\",\"login\",\"login\",\"product_page\",\"product_page\",\"login\",\"login\",\"product_page\",\"product_page\",\"login\",\"login\",\"product_cart\",\"product_cart\",\"product_cart\",\"login\",\"login\",\"login\",\"product_cart\",\"product_cart\",\"product_cart\",\"product_cart\",\"product_page\",\"product_page\",\"product_page\",\"product_page\",\"login\",\"login\",\"login\",\"login\",\"product_page\",\"product_page\",\"product_page\",\"login\",\"login\",\"login\",\"purchase\",\"product_page\",\"login\",\"login\",\"login\",\"login\",\"login\",\"product_page\",\"product_page\",\"login\",\"login\",\"login\",\"login\",\"login\",\"login\",\"login\",\"login\",\"login\",\"product_page\",\"product_page\",\"login\",\"login\",\"product_cart\",\"product_cart\",\"product_cart\",\"product_cart\",\"product_cart\",\"login\",\"login\",\"login\",\"login\",\"login\",\"product_cart\",\"product_cart\",\"product_cart\",\"product_cart\",\"product_page\",\"product_page\",\"product_page\",\"product_page\",\"login\",\"login\",\"login\",\"login\",\"login\",\"login\",\"login\",\"login\",\"purchase\",\"login\",\"product_page\",\"login\",\"product_cart\",\"product_cart\",\"product_cart\",\"product_cart\",\"login\",\"login\",\"login\",\"login\",\"purchase\",\"product_page\",\"login\",\"product_page\",\"product_page\",\"product_page\",\"login\",\"login\",\"login\",\"product_cart\",\"login\",\"product_page\",\"product_page\",\"login\",\"login\",\"purchase\",\"product_cart\",\"login\",\"purchase\",\"product_page\",\"login\",\"login\",\"login\",\"login\",\"login\",\"login\",\"login\",\"login\",\"login\",\"login\",\"login\",\"login\",\"product_page\",\"product_page\",\"login\",\"login\",\"product_page\",\"product_page\",\"product_page\",\"login\",\"login\",\"login\",\"product_page\",\"product_page\",\"product_page\",\"login\",\"login\",\"login\",\"product_page\",\"product_page\",\"login\",\"login\",\"product_page\",\"login\",\"product_cart\",\"product_cart\",\"product_page\",\"product_page\",\"login\",\"login\",\"purchase\",\"purchase\",\"product_cart\",\"product_cart\",\"login\",\"login\",\"purchase\",\"purchase\",\"purchase\",\"purchase\",\"product_page\",\"product_page\",\"product_page\",\"product_page\",\"login\",\"login\",\"login\",\"login\",\"product_page\",\"product_page\",\"login\",\"login\",\"product_page\",\"login\",\"purchase\",\"purchase\",\"product_cart\",\"product_cart\",\"product_page\",\"product_page\",\"login\",\"login\",\"purchase\",\"purchase\",\"product_page\",\"product_page\",\"login\",\"login\",\"product_page\",\"product_page\",\"login\",\"login\",\"product_page\",\"product_page\",\"login\",\"login\",\"product_page\",\"product_page\",\"product_page\",\"product_page\",\"login\",\"login\",\"login\",\"login\",\"login\",\"login\",\"login\",\"login\",\"login\",\"login\",\"login\",\"login\",\"login\",\"login\",\"login\",\"login\",\"login\",\"login\",\"login\",\"login\",\"product_page\",\"product_page\",\"product_page\",\"login\",\"login\",\"login\",\"purchase\",\"purchase\",\"product_cart\",\"product_cart\",\"product_page\",\"product_page\",\"login\",\"login\",\"login\",\"login\",\"login\",\"purchase\",\"purchase\",\"purchase\",\"product_page\",\"product_page\",\"product_page\",\"login\",\"login\",\"login\",\"login\",\"login\",\"login\",\"product_page\",\"product_page\",\"product_page\",\"product_page\",\"login\",\"login\",\"login\",\"login\",\"purchase\",\"purchase\",\"purchase\",\"purchase\",\"login\",\"login\",\"login\",\"login\",\"purchase\",\"purchase\",\"product_page\",\"product_page\",\"login\",\"login\",\"product_page\",\"login\",\"product_cart\",\"login\",\"product_page\",\"product_page\",\"product_page\",\"login\",\"login\",\"login\",\"product_cart\",\"product_cart\",\"login\",\"login\",\"purchase\",\"purchase\",\"purchase\",\"purchase\",\"product_page\",\"product_page\",\"product_page\",\"product_page\",\"login\",\"login\",\"login\",\"login\",\"purchase\",\"purchase\",\"purchase\",\"purchase\",\"product_cart\",\"product_cart\",\"product_cart\",\"product_cart\",\"product_page\",\"product_page\",\"product_page\",\"product_page\",\"login\",\"login\",\"login\",\"login\",\"purchase\",\"product_cart\",\"login\",\"purchase\",\"purchase\",\"purchase\",\"product_page\",\"product_page\",\"product_page\",\"login\",\"login\",\"login\",\"login\",\"login\",\"purchase\",\"purchase\",\"purchase\",\"login\",\"login\",\"login\",\"login\",\"login\",\"login\",\"product_page\",\"product_page\",\"product_page\",\"product_page\",\"product_page\",\"login\",\"login\",\"login\",\"login\",\"login\",\"product_page\",\"product_page\",\"product_page\",\"product_page\",\"login\",\"login\",\"login\",\"login\",\"product_cart\",\"product_cart\",\"product_cart\",\"product_cart\",\"product_page\",\"product_page\",\"product_page\",\"product_page\",\"login\",\"login\",\"login\",\"login\",\"product_cart\",\"product_cart\",\"product_cart\",\"login\",\"login\",\"login\",\"purchase\",\"purchase\",\"purchase\",\"purchase\",\"purchase\",\"product_cart\",\"product_cart\",\"product_cart\",\"product_cart\",\"product_cart\",\"login\",\"login\",\"login\",\"login\",\"login\",\"login\",\"product_page\",\"product_page\",\"product_page\",\"login\",\"login\",\"login\",\"purchase\",\"purchase\",\"purchase\",\"product_page\",\"product_page\",\"product_page\",\"login\",\"login\",\"login\",\"login\",\"login\",\"product_page\",\"product_page\",\"product_page\",\"product_page\",\"login\",\"login\",\"login\",\"login\",\"product_cart\",\"product_cart\",\"product_cart\",\"product_cart\",\"product_cart\",\"product_page\",\"product_page\",\"product_page\",\"product_page\",\"product_page\",\"login\",\"login\",\"login\",\"login\",\"login\",\"product_cart\",\"product_cart\",\"product_page\",\"product_page\",\"login\",\"login\",\"product_page\",\"product_page\",\"login\",\"login\",\"product_cart\",\"product_cart\",\"product_cart\",\"product_page\",\"product_page\",\"product_page\",\"login\",\"login\",\"login\",\"product_page\",\"product_page\",\"product_page\",\"product_page\",\"product_page\",\"login\",\"login\",\"login\",\"login\",\"login\",\"purchase\",\"purchase\",\"login\",\"login\",\"product_page\",\"product_page\",\"login\",\"login\",\"purchase\",\"purchase\",\"product_page\",\"product_page\",\"login\",\"login\",\"purchase\",\"product_cart\",\"login\",\"product_page\",\"product_page\",\"product_page\",\"product_page\",\"product_page\",\"login\",\"login\",\"login\",\"login\",\"login\",\"login\",\"login\",\"login\",\"purchase\",\"purchase\",\"product_page\",\"product_page\",\"login\",\"login\",\"product_cart\",\"product_cart\",\"product_cart\",\"login\",\"login\",\"login\",\"product_page\",\"product_page\",\"product_page\",\"product_page\",\"login\",\"login\",\"login\",\"login\",\"purchase\",\"purchase\",\"product_cart\",\"product_cart\",\"product_page\",\"product_page\",\"login\",\"login\",\"product_page\",\"product_page\",\"product_page\",\"product_page\",\"login\",\"login\",\"login\",\"login\",\"product_page\",\"product_page\",\"login\",\"login\",\"purchase\",\"purchase\",\"product_page\",\"product_page\",\"login\",\"login\",\"purchase\",\"purchase\",\"purchase\",\"purchase\",\"product_page\",\"product_page\",\"product_page\",\"product_page\",\"login\",\"login\",\"login\",\"login\",\"product_page\",\"product_page\",\"login\",\"login\",\"login\",\"login\",\"login\",\"product_cart\",\"product_cart\",\"product_cart\",\"product_page\",\"product_page\",\"product_page\",\"login\",\"login\",\"login\",\"product_cart\",\"product_page\",\"login\",\"purchase\",\"purchase\",\"product_page\",\"product_page\",\"login\",\"login\",\"purchase\",\"purchase\",\"purchase\",\"purchase\",\"purchase\",\"product_page\",\"product_page\",\"product_page\",\"product_page\",\"product_page\",\"login\",\"login\",\"login\",\"login\",\"login\",\"purchase\",\"purchase\",\"purchase\",\"purchase\",\"product_page\",\"product_page\",\"product_page\",\"product_page\",\"login\",\"login\",\"login\",\"login\",\"purchase\",\"purchase\",\"purchase\",\"purchase\",\"login\",\"login\",\"login\",\"login\",\"product_cart\",\"product_cart\",\"product_cart\",\"product_cart\",\"product_cart\",\"product_cart\",\"product_page\",\"product_page\",\"product_page\",\"product_page\",\"product_page\",\"product_page\",\"login\",\"login\",\"login\",\"login\",\"login\",\"login\",\"product_cart\",\"product_cart\",\"product_cart\",\"product_page\",\"product_page\",\"product_page\",\"login\",\"login\",\"login\",\"product_page\",\"product_page\",\"product_page\",\"login\",\"login\",\"login\",\"product_page\",\"product_page\",\"login\",\"login\",\"login\",\"login\",\"login\",\"product_page\",\"product_page\",\"product_page\",\"product_page\",\"product_page\",\"login\",\"login\",\"login\",\"login\",\"login\",\"product_cart\",\"product_cart\",\"product_cart\",\"login\",\"login\",\"login\",\"login\",\"login\",\"purchase\",\"purchase\",\"login\",\"login\",\"purchase\",\"purchase\",\"purchase\",\"purchase\",\"product_cart\",\"product_cart\",\"product_cart\",\"product_cart\",\"login\",\"login\",\"login\",\"login\",\"purchase\",\"purchase\",\"purchase\",\"purchase\",\"product_page\",\"product_page\",\"product_page\",\"product_page\",\"login\",\"login\",\"login\",\"login\",\"product_cart\",\"product_cart\",\"product_cart\",\"product_page\",\"product_page\",\"product_page\",\"login\",\"login\",\"login\",\"purchase\",\"purchase\",\"product_page\",\"product_page\",\"login\",\"login\",\"purchase\",\"purchase\",\"purchase\",\"product_page\",\"product_page\",\"product_page\",\"login\",\"login\",\"login\",\"product_cart\",\"product_cart\",\"product_cart\",\"product_page\",\"product_page\",\"product_page\",\"login\",\"login\",\"login\",\"login\",\"login\",\"login\",\"login\",\"product_page\",\"product_page\",\"product_page\",\"login\",\"login\",\"login\",\"product_cart\",\"product_cart\",\"login\",\"login\",\"product_page\",\"login\",\"purchase\",\"purchase\",\"purchase\",\"product_cart\",\"product_cart\",\"product_cart\",\"product_page\",\"product_page\",\"product_page\",\"login\",\"login\",\"login\",\"product_cart\",\"product_cart\",\"product_cart\",\"product_page\",\"product_page\",\"product_page\",\"login\",\"login\",\"login\",\"product_page\",\"product_page\",\"product_page\",\"product_page\",\"product_page\",\"product_page\",\"login\",\"login\",\"login\",\"login\",\"login\",\"login\",\"login\",\"login\",\"login\",\"login\",\"product_page\",\"login\",\"login\",\"login\",\"login\",\"login\",\"product_page\",\"login\",\"product_page\",\"product_page\",\"product_page\",\"product_page\",\"login\",\"login\",\"login\",\"login\",\"purchase\",\"purchase\",\"purchase\",\"purchase\",\"login\",\"login\",\"login\",\"login\",\"product_page\",\"product_page\",\"login\",\"login\",\"product_page\",\"product_page\",\"product_page\",\"login\",\"login\",\"login\",\"login\",\"login\",\"login\",\"login\",\"login\",\"login\",\"product_page\",\"product_page\",\"product_page\",\"product_page\",\"login\",\"login\",\"login\",\"login\",\"purchase\",\"purchase\",\"purchase\",\"purchase\",\"product_page\",\"product_page\",\"product_page\",\"product_page\",\"login\",\"login\",\"login\",\"login\",\"product_cart\",\"product_cart\",\"product_cart\",\"login\",\"login\",\"login\",\"product_cart\",\"product_cart\",\"product_cart\",\"product_cart\",\"product_page\",\"product_page\",\"product_page\",\"product_page\",\"login\",\"login\",\"login\",\"login\",\"purchase\",\"purchase\",\"purchase\",\"purchase\",\"login\",\"login\",\"login\",\"login\",\"login\",\"login\",\"login\",\"login\",\"purchase\",\"purchase\",\"purchase\",\"purchase\",\"product_page\",\"product_page\",\"product_page\",\"product_page\",\"login\",\"login\",\"login\",\"login\",\"product_page\",\"product_page\",\"login\",\"login\",\"purchase\",\"purchase\",\"purchase\",\"login\",\"login\",\"login\",\"product_page\",\"product_page\",\"product_page\",\"login\",\"login\",\"login\",\"product_cart\",\"product_cart\",\"product_cart\",\"product_page\",\"product_page\",\"product_page\",\"login\",\"login\",\"login\",\"product_page\",\"product_page\",\"product_page\",\"product_page\",\"product_page\",\"login\",\"login\",\"login\",\"login\",\"login\",\"product_page\",\"login\",\"product_cart\",\"product_page\",\"login\",\"purchase\",\"purchase\",\"purchase\",\"product_cart\",\"product_cart\",\"product_cart\",\"product_page\",\"product_page\",\"product_page\",\"login\",\"login\",\"login\",\"login\",\"login\",\"login\",\"login\",\"purchase\",\"purchase\",\"product_page\",\"product_page\",\"login\",\"login\",\"purchase\",\"purchase\",\"purchase\",\"product_cart\",\"product_cart\",\"product_cart\",\"product_page\",\"product_page\",\"product_page\",\"login\",\"login\",\"login\",\"purchase\",\"purchase\",\"purchase\",\"product_cart\",\"product_cart\",\"product_cart\",\"product_page\",\"product_page\",\"product_page\",\"login\",\"login\",\"login\",\"product_page\",\"product_page\",\"login\",\"login\",\"purchase\",\"purchase\",\"product_page\",\"product_page\",\"login\",\"login\",\"purchase\",\"purchase\",\"product_page\",\"product_page\",\"login\",\"login\",\"purchase\",\"purchase\",\"purchase\",\"product_page\",\"product_page\",\"product_page\",\"login\",\"login\",\"login\",\"purchase\",\"purchase\",\"purchase\",\"product_page\",\"product_page\",\"product_page\",\"login\",\"login\",\"login\",\"purchase\",\"purchase\",\"purchase\",\"login\",\"login\",\"login\",\"product_cart\",\"product_cart\",\"product_cart\",\"product_cart\",\"product_page\",\"product_page\",\"product_page\",\"product_page\",\"login\",\"login\",\"login\",\"login\",\"product_page\",\"product_page\",\"login\",\"login\",\"login\",\"login\",\"login\",\"login\",\"product_page\",\"product_page\",\"product_page\",\"login\",\"login\",\"login\",\"purchase\",\"login\",\"purchase\",\"purchase\",\"login\",\"login\",\"login\",\"login\",\"login\",\"product_page\",\"product_page\",\"login\",\"login\",\"product_cart\",\"product_cart\",\"product_cart\",\"product_page\",\"product_page\",\"product_page\",\"login\",\"login\",\"login\",\"login\",\"purchase\",\"purchase\",\"product_page\",\"product_page\",\"login\",\"login\",\"product_page\",\"product_page\",\"product_page\",\"login\",\"login\",\"login\",\"product_cart\",\"product_cart\",\"product_cart\",\"product_cart\",\"product_page\",\"product_page\",\"product_page\",\"product_page\",\"login\",\"login\",\"login\",\"login\",\"purchase\",\"product_page\",\"login\",\"product_cart\",\"product_cart\",\"product_cart\",\"login\",\"login\",\"login\",\"login\",\"login\",\"login\",\"login\",\"login\",\"login\",\"purchase\",\"purchase\",\"purchase\",\"product_page\",\"product_page\",\"product_page\",\"login\",\"login\",\"login\",\"purchase\",\"purchase\",\"purchase\",\"purchase\",\"product_page\",\"product_page\",\"product_page\",\"product_page\",\"login\",\"login\",\"login\",\"login\",\"login\",\"login\",\"login\",\"login\",\"login\",\"login\",\"login\",\"login\",\"purchase\",\"purchase\",\"product_page\",\"product_page\",\"login\",\"login\",\"product_page\",\"product_page\",\"product_page\",\"login\",\"login\",\"login\",\"purchase\",\"purchase\",\"product_page\",\"product_page\",\"login\",\"login\",\"product_cart\",\"product_cart\",\"product_page\",\"product_page\",\"login\",\"login\",\"login\",\"login\",\"login\",\"product_cart\",\"product_cart\",\"product_page\",\"product_page\",\"login\",\"login\",\"login\",\"login\",\"purchase\",\"purchase\",\"product_cart\",\"product_cart\",\"login\",\"login\",\"product_page\",\"login\",\"login\",\"login\",\"login\",\"login\",\"login\",\"product_page\",\"product_page\",\"product_page\",\"product_page\",\"login\",\"login\",\"login\",\"login\",\"product_page\",\"product_page\",\"product_page\",\"login\",\"login\",\"login\",\"login\",\"login\",\"login\",\"login\",\"login\",\"product_cart\",\"product_cart\",\"login\",\"login\",\"login\",\"login\",\"login\",\"login\",\"product_cart\",\"product_cart\",\"login\",\"login\",\"product_cart\",\"product_cart\",\"product_cart\",\"product_cart\",\"product_cart\",\"product_page\",\"product_page\",\"product_page\",\"product_page\",\"product_page\",\"login\",\"login\",\"login\",\"login\",\"login\",\"purchase\",\"purchase\",\"purchase\",\"login\",\"login\",\"login\",\"login\",\"login\",\"purchase\",\"purchase\",\"purchase\",\"product_page\",\"product_page\",\"product_page\",\"login\",\"login\",\"login\",\"product_page\",\"product_page\",\"product_page\",\"login\",\"login\",\"login\",\"product_cart\",\"product_cart\",\"product_cart\",\"product_page\",\"product_page\",\"product_page\",\"login\",\"login\",\"login\",\"login\",\"login\",\"login\",\"login\",\"login\",\"login\",\"login\",\"product_cart\",\"product_cart\",\"product_page\",\"product_page\",\"login\",\"login\",\"purchase\",\"purchase\",\"product_cart\",\"product_cart\",\"login\",\"login\",\"purchase\",\"purchase\",\"product_cart\",\"product_cart\",\"login\",\"login\",\"purchase\",\"purchase\",\"product_cart\",\"product_cart\",\"product_page\",\"product_page\",\"login\",\"login\",\"purchase\",\"purchase\",\"purchase\",\"purchase\",\"product_page\",\"product_page\",\"product_page\",\"product_page\",\"login\",\"login\",\"login\",\"login\",\"product_page\",\"product_page\",\"product_page\",\"product_page\",\"login\",\"login\",\"login\",\"login\",\"product_page\",\"product_page\",\"login\",\"login\",\"purchase\",\"purchase\",\"purchase\",\"product_cart\",\"product_cart\",\"product_cart\",\"product_page\",\"product_page\",\"product_page\",\"login\",\"login\",\"login\",\"product_page\",\"product_page\",\"login\",\"login\",\"purchase\",\"purchase\",\"product_page\",\"product_page\",\"login\",\"login\",\"product_page\",\"product_page\",\"product_page\",\"login\",\"login\",\"login\",\"purchase\",\"product_page\",\"login\",\"product_page\",\"product_page\",\"product_page\",\"product_page\",\"login\",\"login\",\"login\",\"login\",\"login\",\"login\",\"login\",\"login\",\"purchase\",\"purchase\",\"purchase\",\"purchase\",\"product_page\",\"product_page\",\"product_page\",\"product_page\",\"login\",\"login\",\"login\",\"login\",\"login\",\"login\",\"login\",\"login\",\"login\",\"purchase\",\"purchase\",\"purchase\",\"product_page\",\"product_page\",\"product_page\",\"login\",\"login\",\"login\",\"purchase\",\"purchase\",\"purchase\",\"purchase\",\"login\",\"login\",\"login\",\"login\",\"product_cart\",\"product_cart\",\"product_page\",\"product_page\",\"login\",\"login\",\"login\",\"login\",\"login\",\"login\",\"product_page\",\"product_page\",\"product_page\",\"product_page\",\"product_page\",\"login\",\"login\",\"login\",\"login\",\"login\",\"purchase\",\"purchase\",\"purchase\",\"purchase\",\"product_cart\",\"product_cart\",\"product_cart\",\"product_cart\",\"product_cart\",\"login\",\"login\",\"login\",\"login\",\"login\",\"product_cart\",\"product_cart\",\"product_cart\",\"login\",\"login\",\"login\",\"purchase\",\"purchase\",\"purchase\",\"purchase\",\"product_cart\",\"product_cart\",\"product_cart\",\"product_cart\",\"product_page\",\"product_page\",\"product_page\",\"product_page\",\"login\",\"login\",\"login\",\"login\",\"purchase\",\"purchase\",\"product_page\",\"product_page\",\"login\",\"login\",\"login\",\"login\",\"login\",\"login\",\"login\",\"login\",\"login\",\"login\",\"product_page\",\"product_page\",\"product_page\",\"login\",\"login\",\"login\",\"purchase\",\"purchase\",\"purchase\",\"purchase\",\"purchase\",\"login\",\"login\",\"login\",\"login\",\"login\",\"product_cart\",\"product_cart\",\"product_cart\",\"product_cart\",\"login\",\"login\",\"login\",\"login\",\"purchase\",\"product_cart\",\"product_page\",\"login\",\"product_cart\",\"product_cart\",\"product_cart\",\"product_page\",\"product_page\",\"product_page\",\"login\",\"login\",\"login\",\"login\",\"login\",\"login\",\"login\",\"login\",\"purchase\",\"purchase\",\"purchase\",\"product_page\",\"product_page\",\"product_page\",\"login\",\"login\",\"login\",\"purchase\",\"purchase\",\"purchase\",\"purchase\",\"product_page\",\"product_page\",\"product_page\",\"product_page\",\"login\",\"login\",\"login\",\"login\",\"purchase\",\"product_page\",\"login\",\"login\",\"login\",\"login\",\"login\",\"product_cart\",\"product_cart\",\"product_cart\",\"login\",\"login\",\"login\",\"product_cart\",\"product_cart\",\"product_cart\",\"product_cart\",\"login\",\"login\",\"login\",\"login\",\"purchase\",\"purchase\",\"purchase\",\"purchase\",\"product_page\",\"product_page\",\"product_page\",\"product_page\",\"login\",\"login\",\"login\",\"login\",\"product_page\",\"product_page\",\"login\",\"login\",\"product_page\",\"login\",\"purchase\",\"purchase\",\"purchase\",\"login\",\"login\",\"login\",\"product_cart\",\"product_cart\",\"product_cart\",\"product_page\",\"product_page\",\"product_page\",\"login\",\"login\",\"login\",\"product_cart\",\"product_cart\",\"product_cart\",\"product_page\",\"product_page\",\"product_page\",\"login\",\"login\",\"login\",\"product_page\",\"product_page\",\"product_page\",\"product_page\",\"login\",\"login\",\"login\",\"login\",\"purchase\",\"purchase\",\"purchase\",\"product_page\",\"product_page\",\"product_page\",\"login\",\"login\",\"login\",\"login\",\"login\",\"login\",\"login\",\"product_page\",\"product_page\",\"product_page\",\"product_page\",\"product_page\",\"login\",\"login\",\"login\",\"login\",\"login\",\"purchase\",\"purchase\",\"purchase\",\"login\",\"login\",\"login\",\"product_cart\",\"product_cart\",\"product_cart\",\"product_cart\",\"product_cart\",\"login\",\"login\",\"login\",\"login\",\"login\",\"product_page\",\"product_page\",\"login\",\"login\",\"product_cart\",\"product_page\",\"login\",\"product_page\",\"product_page\",\"login\",\"login\",\"product_page\",\"product_page\",\"product_page\",\"product_page\",\"login\",\"login\",\"login\",\"login\",\"login\",\"login\",\"product_page\",\"product_page\",\"product_page\",\"login\",\"login\",\"login\",\"login\",\"login\",\"login\",\"product_page\",\"login\",\"product_cart\",\"product_cart\",\"product_cart\",\"login\",\"login\",\"login\",\"purchase\",\"purchase\",\"purchase\",\"product_cart\",\"product_cart\",\"product_cart\",\"login\",\"login\",\"login\",\"product_page\",\"product_page\",\"login\",\"login\",\"purchase\",\"product_cart\",\"login\",\"product_cart\",\"product_page\",\"login\",\"product_cart\",\"product_cart\",\"product_page\",\"product_page\",\"login\",\"login\",\"login\",\"login\",\"login\",\"purchase\",\"purchase\",\"purchase\",\"product_cart\",\"product_cart\",\"product_cart\",\"login\",\"login\",\"login\",\"product_page\",\"product_page\",\"login\",\"login\",\"product_page\",\"login\",\"login\",\"login\",\"login\",\"product_page\",\"product_page\",\"product_page\",\"product_page\",\"login\",\"login\",\"login\",\"login\",\"login\",\"login\",\"login\",\"login\",\"login\",\"purchase\",\"product_page\",\"login\",\"login\",\"login\",\"login\",\"login\",\"login\",\"login\",\"login\",\"product_cart\",\"product_cart\",\"login\",\"login\",\"login\",\"login\",\"login\",\"login\",\"product_page\",\"product_page\",\"login\",\"login\",\"product_page\",\"product_page\",\"login\",\"login\",\"login\",\"login\",\"login\",\"purchase\",\"product_page\",\"login\",\"login\",\"login\",\"login\",\"login\",\"login\",\"login\",\"login\",\"login\",\"login\",\"product_page\",\"product_page\",\"login\",\"login\",\"product_page\",\"product_page\",\"product_page\",\"login\",\"login\",\"login\",\"product_page\",\"login\",\"product_cart\",\"product_cart\",\"product_page\",\"product_page\",\"login\",\"login\",\"product_page\",\"product_page\",\"product_page\",\"login\",\"login\",\"login\",\"product_page\",\"product_page\",\"login\",\"login\",\"product_page\",\"product_page\",\"product_page\",\"product_page\",\"login\",\"login\",\"login\",\"login\",\"purchase\",\"purchase\",\"purchase\",\"product_page\",\"product_page\",\"product_page\",\"login\",\"login\",\"login\",\"product_page\",\"product_page\",\"login\",\"login\",\"product_page\",\"product_page\",\"product_page\",\"product_page\",\"login\",\"login\",\"login\",\"login\",\"purchase\",\"purchase\",\"product_page\",\"product_page\",\"product_page\",\"login\",\"login\",\"login\",\"product_page\",\"product_page\",\"product_page\",\"login\",\"login\",\"login\",\"product_cart\",\"product_cart\",\"product_cart\",\"product_page\",\"product_page\",\"product_page\",\"login\",\"login\",\"login\",\"purchase\",\"purchase\",\"purchase\",\"product_page\",\"product_page\",\"product_page\",\"login\",\"login\",\"login\",\"purchase\",\"purchase\",\"purchase\",\"purchase\",\"login\",\"login\",\"login\",\"login\",\"product_page\",\"product_page\",\"product_page\",\"product_page\",\"login\",\"login\",\"login\",\"login\",\"product_page\",\"product_page\",\"product_page\",\"product_page\",\"login\",\"login\",\"login\",\"login\",\"purchase\",\"purchase\",\"purchase\",\"purchase\",\"product_cart\",\"product_cart\",\"product_cart\",\"product_cart\",\"product_page\",\"product_page\",\"product_page\",\"product_page\",\"login\",\"login\",\"login\",\"login\",\"login\",\"product_page\",\"product_page\",\"product_page\",\"product_page\",\"login\",\"login\",\"login\",\"login\",\"product_cart\",\"product_cart\",\"product_cart\",\"product_page\",\"product_page\",\"product_page\",\"login\",\"login\",\"login\",\"purchase\",\"purchase\",\"purchase\",\"purchase\",\"product_page\",\"product_page\",\"product_page\",\"product_page\",\"login\",\"login\",\"login\",\"login\",\"purchase\",\"purchase\",\"product_page\",\"product_page\",\"login\",\"login\",\"login\",\"login\",\"login\",\"product_page\",\"product_page\",\"product_page\",\"login\",\"login\",\"login\",\"purchase\",\"purchase\",\"product_page\",\"product_page\",\"login\",\"login\",\"product_cart\",\"product_cart\",\"product_cart\",\"login\",\"login\",\"login\",\"product_page\",\"product_page\",\"product_page\",\"login\",\"login\",\"login\",\"login\",\"login\",\"login\",\"login\",\"login\",\"login\",\"product_cart\",\"product_page\",\"login\",\"product_page\",\"product_page\",\"product_page\",\"login\",\"login\",\"login\",\"purchase\",\"purchase\",\"purchase\",\"login\",\"login\",\"login\",\"purchase\",\"purchase\",\"purchase\",\"purchase\",\"purchase\",\"product_page\",\"product_page\",\"product_page\",\"product_page\",\"product_page\",\"login\",\"login\",\"login\",\"login\",\"login\",\"purchase\",\"purchase\",\"purchase\",\"purchase\",\"product_cart\",\"product_cart\",\"product_cart\",\"product_cart\",\"login\",\"login\",\"login\",\"login\",\"product_page\",\"product_page\",\"product_page\",\"product_page\",\"login\",\"login\",\"login\",\"login\",\"product_cart\",\"product_cart\",\"product_cart\",\"product_page\",\"product_page\",\"product_page\",\"login\",\"login\",\"login\",\"login\",\"login\",\"login\",\"purchase\",\"purchase\",\"purchase\",\"product_cart\",\"product_cart\",\"product_cart\",\"login\",\"login\",\"login\",\"purchase\",\"purchase\",\"product_page\",\"product_page\",\"login\",\"login\",\"purchase\",\"purchase\",\"product_page\",\"product_page\",\"login\",\"login\",\"purchase\",\"purchase\",\"product_page\",\"product_page\",\"login\",\"login\",\"purchase\",\"purchase\",\"purchase\",\"product_cart\",\"product_cart\",\"product_cart\",\"product_page\",\"product_page\",\"product_page\",\"login\",\"login\",\"login\",\"product_page\",\"product_page\",\"product_page\",\"login\",\"login\",\"login\",\"login\",\"login\",\"login\",\"login\",\"purchase\",\"purchase\",\"login\",\"login\",\"product_page\",\"product_page\",\"login\",\"login\",\"purchase\",\"purchase\",\"product_page\",\"product_page\",\"login\",\"login\",\"product_cart\",\"product_cart\",\"product_page\",\"product_page\",\"login\",\"login\",\"purchase\",\"purchase\",\"purchase\",\"product_page\",\"product_page\",\"product_page\",\"login\",\"login\",\"login\",\"purchase\",\"purchase\",\"purchase\",\"purchase\",\"purchase\",\"login\",\"login\",\"login\",\"login\",\"login\",\"product_page\",\"product_page\",\"login\",\"login\",\"product_page\",\"product_page\",\"product_page\",\"product_page\",\"login\",\"login\",\"login\",\"login\",\"purchase\",\"purchase\",\"purchase\",\"purchase\",\"purchase\",\"product_page\",\"product_page\",\"product_page\",\"product_page\",\"product_page\",\"login\",\"login\",\"login\",\"login\",\"login\",\"login\",\"login\",\"login\",\"product_page\",\"product_page\",\"login\",\"login\",\"product_page\",\"login\",\"purchase\",\"purchase\",\"product_cart\",\"product_cart\",\"login\",\"login\",\"product_page\",\"product_page\",\"product_page\",\"product_page\",\"login\",\"login\",\"login\",\"login\",\"product_cart\",\"product_cart\",\"product_cart\",\"product_page\",\"product_page\",\"product_page\",\"login\",\"login\",\"login\",\"product_page\",\"product_page\",\"product_page\",\"login\",\"login\",\"login\",\"purchase\",\"purchase\",\"purchase\",\"product_cart\",\"product_cart\",\"product_cart\",\"product_page\",\"product_page\",\"product_page\",\"login\",\"login\",\"login\",\"login\",\"product_page\",\"product_page\",\"product_page\",\"product_page\",\"login\",\"login\",\"login\",\"login\",\"product_page\",\"product_page\",\"login\",\"login\",\"login\",\"login\",\"login\",\"login\",\"purchase\",\"purchase\",\"purchase\",\"login\",\"login\",\"login\",\"login\",\"login\",\"login\",\"product_page\",\"product_page\",\"login\",\"login\",\"purchase\",\"purchase\",\"purchase\",\"product_page\",\"product_page\",\"product_page\",\"login\",\"login\",\"login\",\"purchase\",\"purchase\",\"purchase\",\"product_cart\",\"product_cart\",\"product_cart\",\"login\",\"login\",\"login\",\"product_cart\",\"product_page\",\"login\",\"login\",\"login\",\"login\",\"purchase\",\"purchase\",\"purchase\",\"purchase\",\"purchase\",\"product_cart\",\"product_cart\",\"product_cart\",\"product_cart\",\"product_cart\",\"login\",\"login\",\"login\",\"login\",\"login\",\"login\",\"login\",\"login\",\"login\",\"product_page\",\"product_page\",\"product_page\",\"product_page\",\"login\",\"login\",\"login\",\"login\",\"purchase\",\"purchase\",\"purchase\",\"product_page\",\"product_page\",\"product_page\",\"login\",\"login\",\"login\",\"purchase\",\"purchase\",\"product_cart\",\"product_cart\",\"product_page\",\"product_page\",\"login\",\"login\",\"purchase\",\"purchase\",\"purchase\",\"product_page\",\"product_page\",\"product_page\",\"login\",\"login\",\"login\",\"purchase\",\"purchase\",\"purchase\",\"purchase\",\"product_page\",\"product_page\",\"product_page\",\"product_page\",\"login\",\"login\",\"login\",\"login\",\"product_page\",\"product_page\",\"product_page\",\"product_page\",\"login\",\"login\",\"login\",\"login\",\"product_page\",\"product_page\",\"login\",\"login\",\"purchase\",\"purchase\",\"purchase\",\"login\",\"login\",\"login\",\"product_cart\",\"product_page\",\"login\",\"purchase\",\"purchase\",\"purchase\",\"login\",\"login\",\"login\",\"product_page\",\"product_page\",\"product_page\",\"login\",\"login\",\"login\",\"login\",\"login\",\"purchase\",\"purchase\",\"purchase\",\"product_page\",\"product_page\",\"product_page\",\"login\",\"login\",\"login\",\"purchase\",\"purchase\",\"purchase\",\"purchase\",\"product_page\",\"product_page\",\"product_page\",\"product_page\",\"login\",\"login\",\"login\",\"login\",\"product_page\",\"product_page\",\"product_page\",\"product_page\",\"login\",\"login\",\"login\",\"login\",\"product_page\",\"product_page\",\"product_page\",\"product_page\",\"product_page\",\"login\",\"login\",\"login\",\"login\",\"login\",\"product_page\",\"login\",\"product_page\",\"product_page\",\"login\",\"login\",\"purchase\",\"purchase\",\"product_cart\",\"product_cart\",\"product_page\",\"product_page\",\"login\",\"login\",\"product_page\",\"product_page\",\"product_page\",\"login\",\"login\",\"login\",\"purchase\",\"purchase\",\"purchase\",\"product_cart\",\"product_cart\",\"product_cart\",\"login\",\"login\",\"login\",\"purchase\",\"purchase\",\"product_cart\",\"product_cart\",\"login\",\"login\",\"purchase\",\"purchase\",\"purchase\",\"purchase\",\"product_page\",\"product_page\",\"product_page\",\"product_page\",\"login\",\"login\",\"login\",\"login\",\"purchase\",\"purchase\",\"login\",\"login\",\"login\",\"login\",\"login\",\"product_page\",\"product_page\",\"product_page\",\"login\",\"login\",\"login\",\"product_page\",\"product_page\",\"product_page\",\"login\",\"login\",\"login\",\"product_page\",\"product_page\",\"login\",\"login\",\"login\",\"login\",\"login\",\"login\",\"product_cart\",\"product_cart\",\"product_cart\",\"product_cart\",\"product_cart\",\"product_page\",\"product_page\",\"product_page\",\"product_page\",\"product_page\",\"login\",\"login\",\"login\",\"login\",\"login\",\"purchase\",\"purchase\",\"login\",\"login\",\"purchase\",\"purchase\",\"purchase\",\"purchase\",\"purchase\",\"purchase\",\"purchase\",\"product_page\",\"product_page\",\"product_page\",\"product_page\",\"product_page\",\"product_page\",\"product_page\",\"login\",\"login\",\"login\",\"login\",\"login\",\"login\",\"login\",\"product_cart\",\"product_cart\",\"login\",\"login\",\"product_cart\",\"product_cart\",\"product_cart\",\"product_cart\",\"product_page\",\"product_page\",\"product_page\",\"product_page\",\"login\",\"login\",\"login\",\"login\",\"purchase\",\"purchase\",\"purchase\",\"purchase\",\"login\",\"login\",\"login\",\"login\",\"product_page\",\"product_page\",\"product_page\",\"login\",\"login\",\"login\",\"product_cart\",\"product_cart\",\"product_page\",\"product_page\",\"login\",\"login\",\"product_page\",\"login\",\"product_cart\",\"product_cart\",\"product_cart\",\"product_cart\",\"login\",\"login\",\"login\",\"login\",\"login\",\"login\",\"purchase\",\"purchase\",\"product_page\",\"product_page\",\"login\",\"login\",\"product_page\",\"product_page\",\"product_page\",\"login\",\"login\",\"login\",\"purchase\",\"purchase\",\"product_page\",\"product_page\",\"login\",\"login\",\"product_cart\",\"product_cart\",\"product_page\",\"product_page\",\"login\",\"login\",\"product_cart\",\"product_cart\",\"product_cart\",\"product_page\",\"product_page\",\"product_page\",\"login\",\"login\",\"login\",\"product_page\",\"product_page\",\"login\",\"login\",\"product_page\",\"product_page\",\"product_page\",\"product_page\",\"login\",\"login\",\"login\",\"login\",\"product_cart\",\"product_cart\",\"login\",\"login\",\"login\",\"login\",\"login\",\"login\",\"product_page\",\"product_page\",\"product_page\",\"login\",\"login\",\"login\",\"purchase\",\"purchase\",\"purchase\",\"purchase\",\"product_cart\",\"product_cart\",\"product_cart\",\"product_cart\",\"product_page\",\"product_page\",\"product_page\",\"product_page\",\"login\",\"login\",\"login\",\"login\",\"product_cart\",\"product_cart\",\"product_cart\",\"product_cart\",\"product_page\",\"product_page\",\"product_page\",\"product_page\",\"login\",\"login\",\"login\",\"login\",\"purchase\",\"product_cart\",\"login\",\"purchase\",\"purchase\",\"purchase\",\"product_page\",\"product_page\",\"product_page\",\"login\",\"login\",\"login\",\"product_cart\",\"product_page\",\"login\",\"purchase\",\"purchase\",\"purchase\",\"product_cart\",\"product_cart\",\"product_cart\",\"product_page\",\"product_page\",\"product_page\",\"login\",\"login\",\"login\",\"product_page\",\"login\",\"login\",\"login\",\"login\",\"login\",\"purchase\",\"purchase\",\"purchase\",\"purchase\",\"purchase\",\"product_cart\",\"product_cart\",\"product_cart\",\"product_cart\",\"product_cart\",\"product_page\",\"product_page\",\"product_page\",\"product_page\",\"product_page\",\"login\",\"login\",\"login\",\"login\",\"login\",\"purchase\",\"purchase\",\"product_cart\",\"product_cart\",\"product_page\",\"product_page\",\"login\",\"login\",\"product_page\",\"product_page\",\"product_page\",\"login\",\"login\",\"login\",\"login\",\"login\",\"login\",\"login\",\"purchase\",\"purchase\",\"purchase\",\"product_page\",\"product_page\",\"product_page\",\"login\",\"login\",\"login\",\"product_page\",\"product_page\",\"product_page\",\"login\",\"login\",\"login\",\"purchase\",\"purchase\",\"login\",\"login\",\"purchase\",\"purchase\",\"product_cart\",\"product_cart\",\"product_page\",\"product_page\",\"login\",\"login\",\"product_cart\",\"product_cart\",\"product_cart\",\"product_cart\",\"product_cart\",\"login\",\"login\",\"login\",\"login\",\"login\",\"product_page\",\"product_page\",\"product_page\",\"login\",\"login\",\"login\",\"purchase\",\"product_page\",\"login\",\"purchase\",\"purchase\",\"product_cart\",\"product_cart\",\"product_page\",\"product_page\",\"login\",\"login\",\"login\",\"login\",\"login\",\"product_page\",\"product_page\",\"product_page\",\"product_page\",\"login\",\"login\",\"login\",\"login\",\"purchase\",\"purchase\",\"purchase\",\"product_page\",\"product_page\",\"product_page\",\"login\",\"login\",\"login\",\"login\",\"login\",\"login\",\"login\",\"login\",\"login\",\"product_page\",\"product_page\",\"product_page\",\"login\",\"login\",\"login\",\"login\",\"login\",\"login\",\"login\",\"product_cart\",\"product_cart\",\"product_cart\",\"product_page\",\"product_page\",\"product_page\",\"login\",\"login\",\"login\",\"purchase\",\"purchase\",\"purchase\",\"purchase\",\"login\",\"login\",\"login\",\"login\",\"login\",\"login\",\"login\",\"login\",\"product_page\",\"product_page\",\"product_page\",\"product_page\",\"login\",\"login\",\"login\",\"login\",\"product_cart\",\"login\",\"purchase\",\"purchase\",\"purchase\",\"product_page\",\"product_page\",\"product_page\",\"login\",\"login\",\"login\",\"purchase\",\"purchase\",\"purchase\",\"product_cart\",\"product_cart\",\"product_cart\",\"product_page\",\"product_page\",\"product_page\",\"login\",\"login\",\"login\",\"product_cart\",\"product_cart\",\"product_page\",\"product_page\",\"login\",\"login\",\"purchase\",\"product_page\",\"login\",\"product_cart\",\"product_page\",\"login\",\"login\",\"login\",\"login\",\"login\",\"product_page\",\"product_page\",\"product_page\",\"login\",\"login\",\"login\",\"product_cart\",\"product_cart\",\"product_cart\",\"product_cart\",\"product_cart\",\"product_page\",\"product_page\",\"product_page\",\"product_page\",\"product_page\",\"login\",\"login\",\"login\",\"login\",\"login\",\"purchase\",\"purchase\",\"purchase\",\"login\",\"login\",\"login\",\"product_page\",\"product_page\",\"login\",\"login\",\"product_page\",\"product_page\",\"product_page\",\"product_page\",\"product_page\",\"product_page\",\"login\",\"login\",\"login\",\"login\",\"login\",\"login\",\"purchase\",\"purchase\",\"purchase\",\"product_page\",\"product_page\",\"product_page\",\"login\",\"login\",\"login\",\"login\",\"login\",\"product_page\",\"product_page\",\"login\",\"login\",\"purchase\",\"purchase\",\"product_cart\",\"product_cart\",\"login\",\"login\",\"product_page\",\"product_page\",\"product_page\",\"login\",\"login\",\"login\",\"purchase\",\"purchase\",\"product_cart\",\"product_cart\",\"login\",\"login\",\"product_page\",\"product_page\",\"login\",\"login\",\"product_page\",\"product_page\",\"product_page\",\"product_page\",\"login\",\"login\",\"login\",\"login\",\"purchase\",\"purchase\",\"purchase\",\"purchase\",\"purchase\",\"product_cart\",\"product_cart\",\"product_cart\",\"product_cart\",\"product_cart\",\"product_page\",\"product_page\",\"product_page\",\"product_page\",\"product_page\",\"login\",\"login\",\"login\",\"login\",\"login\",\"login\",\"login\",\"login\",\"purchase\",\"purchase\",\"product_cart\",\"product_cart\",\"login\",\"login\",\"login\",\"login\",\"login\",\"login\",\"product_page\",\"product_page\",\"product_page\",\"product_page\",\"product_page\",\"product_page\",\"login\",\"login\",\"login\",\"login\",\"login\",\"login\",\"purchase\",\"purchase\",\"purchase\",\"product_page\",\"product_page\",\"product_page\",\"login\",\"login\",\"login\",\"purchase\",\"purchase\",\"purchase\",\"purchase\",\"product_page\",\"product_page\",\"product_page\",\"product_page\",\"login\",\"login\",\"login\",\"login\",\"purchase\",\"purchase\",\"purchase\",\"product_page\",\"product_page\",\"product_page\",\"login\",\"login\",\"login\",\"purchase\",\"purchase\",\"login\",\"login\",\"product_page\",\"product_page\",\"product_page\",\"login\",\"login\",\"login\",\"product_page\",\"product_page\",\"product_page\",\"product_page\",\"login\",\"login\",\"login\",\"login\",\"product_page\",\"product_page\",\"login\",\"login\",\"product_page\",\"product_page\",\"login\",\"login\",\"product_page\",\"product_page\",\"product_page\",\"login\",\"login\",\"login\",\"product_cart\",\"product_cart\",\"product_cart\",\"product_page\",\"product_page\",\"product_page\",\"login\",\"login\",\"login\",\"login\",\"purchase\",\"product_page\",\"login\",\"product_cart\",\"product_cart\",\"login\",\"login\",\"purchase\",\"purchase\",\"product_cart\",\"product_cart\",\"product_page\",\"product_page\",\"login\",\"login\",\"product_page\",\"product_page\",\"product_page\",\"login\",\"login\",\"login\",\"purchase\",\"purchase\",\"product_cart\",\"product_cart\",\"product_page\",\"product_page\",\"login\",\"login\",\"purchase\",\"purchase\",\"login\",\"login\",\"purchase\",\"purchase\",\"purchase\",\"purchase\",\"product_cart\",\"product_cart\",\"product_cart\",\"product_cart\",\"product_page\",\"product_page\",\"product_page\",\"product_page\",\"login\",\"login\",\"login\",\"login\",\"purchase\",\"purchase\",\"product_cart\",\"product_cart\",\"login\",\"login\",\"login\",\"login\",\"login\",\"login\",\"purchase\",\"purchase\",\"purchase\",\"product_page\",\"product_page\",\"product_page\",\"login\",\"login\",\"login\",\"product_cart\",\"product_cart\",\"product_cart\",\"product_cart\",\"product_cart\",\"product_page\",\"product_page\",\"product_page\",\"product_page\",\"product_page\",\"login\",\"login\",\"login\",\"login\",\"login\",\"product_page\",\"product_page\",\"login\",\"login\",\"purchase\",\"product_page\",\"login\",\"purchase\",\"purchase\",\"purchase\",\"product_page\",\"product_page\",\"product_page\",\"login\",\"login\",\"login\",\"purchase\",\"purchase\",\"purchase\",\"purchase\",\"product_cart\",\"product_cart\",\"product_cart\",\"product_cart\",\"product_page\",\"product_page\",\"product_page\",\"product_page\",\"login\",\"login\",\"login\",\"login\",\"product_cart\",\"product_cart\",\"login\",\"login\",\"login\",\"login\",\"login\",\"login\",\"login\",\"login\",\"login\",\"product_page\",\"product_page\",\"product_page\",\"login\",\"login\",\"login\",\"product_page\",\"product_page\",\"product_page\",\"login\",\"login\",\"login\",\"login\",\"login\",\"login\",\"product_page\",\"product_page\",\"product_page\",\"login\",\"login\",\"login\",\"product_page\",\"product_page\",\"product_page\",\"product_page\",\"login\",\"login\",\"login\",\"login\",\"product_page\",\"product_page\",\"product_page\",\"login\",\"login\",\"login\",\"login\",\"login\",\"login\",\"login\",\"login\",\"login\",\"purchase\",\"purchase\",\"product_page\",\"product_page\",\"login\",\"login\",\"product_page\",\"product_page\",\"product_page\",\"login\",\"login\",\"login\",\"product_page\",\"product_page\",\"product_page\",\"product_page\",\"login\",\"login\",\"login\",\"login\",\"product_page\",\"product_page\",\"product_page\",\"login\",\"login\",\"login\",\"product_page\",\"product_page\",\"product_page\",\"product_page\",\"login\",\"login\",\"login\",\"login\",\"product_page\",\"product_page\",\"product_page\",\"login\",\"login\",\"login\",\"product_cart\",\"product_cart\",\"login\",\"login\",\"product_page\",\"product_page\",\"product_page\",\"product_page\",\"login\",\"login\",\"login\",\"login\",\"purchase\",\"purchase\",\"purchase\",\"product_cart\",\"product_cart\",\"product_cart\",\"login\",\"login\",\"login\",\"login\",\"login\",\"login\",\"login\",\"login\",\"product_page\",\"product_page\",\"login\",\"login\",\"purchase\",\"purchase\",\"login\",\"login\",\"purchase\",\"purchase\",\"purchase\",\"product_cart\",\"product_cart\",\"product_cart\",\"product_page\",\"product_page\",\"product_page\",\"login\",\"login\",\"login\",\"login\",\"login\",\"purchase\",\"purchase\",\"purchase\",\"purchase\",\"purchase\",\"login\",\"login\",\"login\",\"login\",\"login\",\"product_cart\",\"product_cart\",\"product_page\",\"product_page\",\"login\",\"login\",\"product_cart\",\"product_cart\",\"product_page\",\"product_page\",\"login\",\"login\",\"product_page\",\"product_page\",\"login\",\"login\",\"login\",\"login\",\"login\",\"purchase\",\"purchase\",\"product_cart\",\"product_cart\",\"product_page\",\"product_page\",\"login\",\"login\",\"purchase\",\"purchase\",\"purchase\",\"product_page\",\"product_page\",\"product_page\",\"login\",\"login\",\"login\"],\"xaxis\":\"x\",\"yaxis\":\"y\",\"type\":\"histogram\"},{\"alignmentgroup\":\"True\",\"bingroup\":\"x\",\"hovertemplate\":\"group=B<br>event_name=%{x}<br>count=%{y}<extra></extra>\",\"legendgroup\":\"B\",\"marker\":{\"color\":\"#EF553B\",\"pattern\":{\"shape\":\"\"}},\"name\":\"B\",\"offsetgroup\":\"B\",\"orientation\":\"v\",\"showlegend\":true,\"texttemplate\":\"%{value}\",\"x\":[\"product_page\",\"product_page\",\"product_page\",\"product_page\",\"product_page\",\"login\",\"login\",\"login\",\"login\",\"login\",\"product_page\",\"product_page\",\"product_page\",\"login\",\"login\",\"login\",\"product_page\",\"product_page\",\"product_page\",\"product_page\",\"login\",\"login\",\"login\",\"login\",\"product_cart\",\"product_cart\",\"product_page\",\"product_page\",\"login\",\"login\",\"purchase\",\"purchase\",\"purchase\",\"purchase\",\"purchase\",\"product_page\",\"product_page\",\"product_page\",\"product_page\",\"product_page\",\"login\",\"login\",\"login\",\"login\",\"login\",\"product_cart\",\"product_cart\",\"product_cart\",\"login\",\"login\",\"login\",\"product_page\",\"product_page\",\"login\",\"login\",\"login\",\"login\",\"login\",\"login\",\"purchase\",\"purchase\",\"product_cart\",\"product_cart\",\"product_page\",\"product_page\",\"login\",\"login\",\"login\",\"login\",\"login\",\"login\",\"login\",\"login\",\"login\",\"purchase\",\"purchase\",\"purchase\",\"purchase\",\"product_cart\",\"product_cart\",\"product_cart\",\"product_cart\",\"product_page\",\"product_page\",\"product_page\",\"product_page\",\"login\",\"login\",\"login\",\"login\",\"purchase\",\"purchase\",\"purchase\",\"purchase\",\"login\",\"login\",\"login\",\"purchase\",\"purchase\",\"purchase\",\"purchase\",\"purchase\",\"product_cart\",\"product_cart\",\"product_cart\",\"product_cart\",\"login\",\"login\",\"login\",\"login\",\"product_page\",\"product_page\",\"product_page\",\"login\",\"login\",\"login\",\"login\",\"login\",\"purchase\",\"login\",\"login\",\"login\",\"login\",\"login\",\"login\",\"product_page\",\"product_page\",\"login\",\"login\",\"purchase\",\"purchase\",\"product_page\",\"product_page\",\"login\",\"login\",\"login\",\"login\",\"login\",\"login\",\"login\",\"login\",\"login\",\"purchase\",\"purchase\",\"purchase\",\"product_page\",\"product_page\",\"product_page\",\"login\",\"login\",\"login\",\"login\",\"login\",\"login\",\"product_page\",\"product_page\",\"login\",\"login\",\"purchase\",\"product_page\",\"login\",\"product_page\",\"product_page\",\"login\",\"login\",\"purchase\",\"purchase\",\"product_page\",\"product_page\",\"login\",\"login\",\"product_page\",\"product_page\",\"product_page\",\"login\",\"login\",\"login\",\"product_page\",\"product_page\",\"login\",\"login\",\"product_page\",\"product_page\",\"login\",\"login\",\"product_cart\",\"product_cart\",\"product_cart\",\"product_page\",\"product_page\",\"product_page\",\"login\",\"login\",\"login\",\"product_cart\",\"product_cart\",\"product_cart\",\"product_page\",\"product_page\",\"product_page\",\"login\",\"login\",\"login\",\"product_page\",\"product_page\",\"login\",\"login\",\"product_page\",\"login\",\"purchase\",\"purchase\",\"purchase\",\"purchase\",\"purchase\",\"login\",\"login\",\"login\",\"login\",\"login\",\"product_cart\",\"product_page\",\"login\",\"product_cart\",\"product_page\",\"login\",\"purchase\",\"purchase\",\"purchase\",\"purchase\",\"purchase\",\"product_cart\",\"product_cart\",\"product_cart\",\"product_cart\",\"product_cart\",\"product_page\",\"product_page\",\"product_page\",\"product_page\",\"product_page\",\"login\",\"login\",\"login\",\"login\",\"login\",\"product_cart\",\"product_cart\",\"product_page\",\"product_page\",\"login\",\"login\",\"product_page\",\"product_page\",\"product_page\",\"product_page\",\"product_page\",\"product_page\",\"login\",\"login\",\"login\",\"login\",\"login\",\"login\",\"purchase\",\"purchase\",\"purchase\",\"login\",\"login\",\"login\",\"purchase\",\"purchase\",\"login\",\"login\",\"login\",\"login\",\"product_page\",\"product_page\",\"product_page\",\"login\",\"login\",\"login\",\"purchase\",\"purchase\",\"purchase\",\"product_cart\",\"product_cart\",\"product_cart\",\"product_cart\",\"login\",\"login\",\"login\",\"login\",\"login\",\"login\",\"login\",\"product_page\",\"product_page\",\"product_page\",\"product_page\",\"login\",\"login\",\"login\",\"login\",\"product_cart\",\"product_cart\",\"login\",\"login\",\"product_page\",\"product_page\",\"login\",\"login\",\"purchase\",\"purchase\",\"purchase\",\"product_cart\",\"product_cart\",\"product_cart\",\"product_page\",\"product_page\",\"product_page\",\"login\",\"login\",\"login\",\"product_cart\",\"product_cart\",\"product_cart\",\"product_page\",\"product_page\",\"product_page\",\"login\",\"login\",\"login\",\"purchase\",\"purchase\",\"purchase\",\"purchase\",\"login\",\"login\",\"login\",\"login\",\"login\",\"login\",\"product_page\",\"product_page\",\"product_page\",\"login\",\"login\",\"login\",\"product_page\",\"product_page\",\"product_page\",\"product_page\",\"product_page\",\"product_page\",\"login\",\"login\",\"login\",\"login\",\"login\",\"login\",\"product_page\",\"product_page\",\"product_page\",\"login\",\"login\",\"login\",\"purchase\",\"purchase\",\"product_page\",\"product_page\",\"login\",\"login\",\"purchase\",\"purchase\",\"product_cart\",\"product_cart\",\"product_page\",\"product_page\",\"login\",\"login\",\"login\",\"product_page\",\"product_page\",\"product_page\",\"login\",\"login\",\"login\",\"login\",\"login\",\"product_cart\",\"login\",\"product_page\",\"product_page\",\"login\",\"login\",\"login\",\"login\",\"purchase\",\"purchase\",\"product_cart\",\"product_page\",\"login\",\"purchase\",\"purchase\",\"purchase\",\"product_page\",\"product_page\",\"login\",\"login\",\"purchase\",\"purchase\",\"purchase\",\"purchase\",\"product_page\",\"product_page\",\"product_page\",\"product_page\",\"login\",\"login\",\"login\",\"login\",\"purchase\",\"purchase\",\"purchase\",\"product_page\",\"product_page\",\"product_page\",\"login\",\"login\",\"login\",\"product_page\",\"product_page\",\"login\",\"login\",\"product_cart\",\"product_cart\",\"product_cart\",\"product_cart\",\"login\",\"login\",\"login\",\"login\",\"purchase\",\"purchase\",\"purchase\",\"product_page\",\"product_page\",\"product_page\",\"login\",\"login\",\"login\",\"product_page\",\"product_page\",\"login\",\"login\",\"product_page\",\"product_page\",\"login\",\"login\",\"purchase\",\"purchase\",\"product_page\",\"product_page\",\"login\",\"login\",\"product_page\",\"product_page\",\"product_page\",\"product_page\",\"login\",\"login\",\"login\",\"login\",\"product_page\",\"product_page\",\"login\",\"login\",\"purchase\",\"purchase\",\"purchase\",\"purchase\",\"purchase\",\"product_cart\",\"product_cart\",\"product_cart\",\"product_cart\",\"product_cart\",\"product_page\",\"product_page\",\"product_page\",\"product_page\",\"product_page\",\"login\",\"login\",\"login\",\"login\",\"login\",\"purchase\",\"purchase\",\"product_page\",\"product_page\",\"login\",\"login\",\"purchase\",\"purchase\",\"product_page\",\"product_page\",\"login\",\"login\",\"product_cart\",\"product_cart\",\"product_cart\",\"login\",\"login\",\"login\",\"login\",\"login\",\"login\",\"purchase\",\"purchase\",\"purchase\",\"purchase\",\"product_page\",\"product_page\",\"product_page\",\"product_page\",\"login\",\"login\",\"login\",\"login\",\"purchase\",\"purchase\",\"purchase\",\"purchase\",\"purchase\",\"login\",\"login\",\"login\",\"login\",\"login\",\"purchase\",\"purchase\",\"product_cart\",\"product_cart\",\"product_page\",\"product_page\",\"login\",\"login\",\"product_page\",\"product_page\",\"product_page\",\"product_page\",\"product_page\",\"login\",\"login\",\"login\",\"login\",\"login\",\"login\",\"login\",\"login\",\"login\",\"product_page\",\"product_page\",\"product_page\",\"product_page\",\"product_page\",\"login\",\"login\",\"login\",\"login\",\"login\",\"purchase\",\"purchase\",\"product_page\",\"product_page\",\"login\",\"login\",\"purchase\",\"purchase\",\"product_cart\",\"product_cart\",\"product_page\",\"product_page\",\"login\",\"login\",\"product_page\",\"product_page\",\"product_page\",\"login\",\"login\",\"login\",\"product_page\",\"product_page\",\"login\",\"login\",\"product_page\",\"login\",\"purchase\",\"purchase\",\"purchase\",\"login\",\"login\",\"login\",\"login\",\"login\",\"login\",\"login\",\"login\",\"login\",\"login\",\"login\",\"login\",\"login\",\"login\",\"login\",\"login\",\"product_page\",\"product_page\",\"login\",\"login\",\"product_cart\",\"product_cart\",\"product_cart\",\"product_page\",\"product_page\",\"product_page\",\"login\",\"login\",\"login\",\"purchase\",\"purchase\",\"purchase\",\"purchase\",\"purchase\",\"product_cart\",\"product_cart\",\"product_cart\",\"product_cart\",\"product_cart\",\"product_page\",\"product_page\",\"product_page\",\"product_page\",\"product_page\",\"login\",\"login\",\"login\",\"login\",\"login\",\"purchase\",\"product_page\",\"login\",\"product_cart\",\"product_cart\",\"product_cart\",\"product_cart\",\"login\",\"login\",\"login\",\"login\",\"product_page\",\"product_page\",\"product_page\",\"login\",\"login\",\"login\",\"login\",\"login\",\"login\",\"purchase\",\"product_page\",\"login\",\"purchase\",\"purchase\",\"login\",\"login\",\"product_page\",\"product_page\",\"product_page\",\"product_page\",\"login\",\"login\",\"login\",\"login\",\"product_page\",\"product_page\",\"login\",\"login\",\"purchase\",\"purchase\",\"purchase\",\"purchase\",\"purchase\",\"product_cart\",\"product_cart\",\"product_cart\",\"product_cart\",\"product_cart\",\"login\",\"login\",\"login\",\"login\",\"login\",\"product_page\",\"product_page\",\"login\",\"login\",\"purchase\",\"purchase\",\"purchase\",\"product_cart\",\"product_cart\",\"login\",\"login\",\"product_page\",\"product_page\",\"product_page\",\"product_page\",\"login\",\"login\",\"login\",\"login\",\"purchase\",\"purchase\",\"purchase\",\"login\",\"login\",\"purchase\",\"purchase\",\"product_cart\",\"product_cart\",\"login\",\"login\",\"product_cart\",\"product_cart\",\"product_cart\",\"login\",\"login\",\"login\",\"product_cart\",\"login\",\"purchase\",\"purchase\",\"purchase\",\"product_page\",\"product_page\",\"product_page\",\"login\",\"login\",\"login\",\"product_cart\",\"product_cart\",\"product_cart\",\"product_cart\",\"login\",\"login\",\"login\",\"login\",\"product_page\",\"product_page\",\"product_page\",\"login\",\"login\",\"login\",\"purchase\",\"purchase\",\"product_cart\",\"product_cart\",\"login\",\"login\",\"purchase\",\"product_page\",\"product_page\",\"product_page\",\"login\",\"login\",\"login\",\"product_page\",\"product_page\",\"product_page\",\"product_page\",\"product_page\",\"login\",\"login\",\"login\",\"login\",\"login\",\"login\",\"login\",\"login\",\"login\",\"login\",\"product_page\",\"product_page\",\"product_page\",\"login\",\"login\",\"login\",\"product_cart\",\"product_cart\",\"product_cart\",\"product_cart\",\"product_page\",\"product_page\",\"product_page\",\"product_page\",\"login\",\"login\",\"login\",\"login\",\"purchase\",\"purchase\",\"purchase\",\"product_page\",\"product_page\",\"product_page\",\"login\",\"login\",\"login\",\"purchase\",\"purchase\",\"purchase\",\"purchase\",\"purchase\",\"purchase\",\"product_cart\",\"product_cart\",\"product_cart\",\"product_cart\",\"product_cart\",\"product_cart\",\"product_page\",\"product_page\",\"product_page\",\"product_page\",\"product_page\",\"product_page\",\"login\",\"login\",\"login\",\"login\",\"login\",\"login\",\"purchase\",\"purchase\",\"product_cart\",\"product_cart\",\"login\",\"login\",\"product_page\",\"product_page\",\"product_page\",\"login\",\"login\",\"login\",\"product_cart\",\"product_cart\",\"product_cart\",\"product_page\",\"product_page\",\"product_page\",\"login\",\"login\",\"login\",\"purchase\",\"product_page\",\"login\",\"product_page\",\"product_page\",\"login\",\"login\",\"product_cart\",\"product_cart\",\"product_cart\",\"product_page\",\"product_page\",\"product_page\",\"login\",\"login\",\"login\",\"product_page\",\"login\",\"product_cart\",\"product_cart\",\"product_cart\",\"product_cart\",\"login\",\"login\",\"login\",\"login\",\"login\",\"login\",\"login\",\"login\",\"login\",\"login\",\"login\",\"login\",\"purchase\",\"product_cart\",\"product_page\",\"login\",\"purchase\",\"product_page\",\"product_page\",\"login\",\"login\",\"purchase\",\"purchase\",\"purchase\",\"purchase\",\"purchase\",\"purchase\",\"purchase\",\"product_page\",\"product_page\",\"product_page\",\"product_page\",\"product_page\",\"product_page\",\"product_page\",\"login\",\"login\",\"login\",\"login\",\"login\",\"login\",\"login\",\"product_page\",\"product_page\",\"product_page\",\"product_page\",\"login\",\"login\",\"login\",\"login\",\"product_page\",\"product_page\",\"product_page\",\"login\",\"login\",\"login\",\"product_cart\",\"product_cart\",\"product_cart\",\"product_cart\",\"product_cart\",\"product_cart\",\"product_cart\",\"product_cart\",\"product_page\",\"product_page\",\"product_page\",\"product_page\",\"product_page\",\"product_page\",\"product_page\",\"product_page\",\"login\",\"login\",\"login\",\"login\",\"login\",\"login\",\"login\",\"login\",\"purchase\",\"purchase\",\"purchase\",\"purchase\",\"login\",\"login\",\"login\",\"login\",\"purchase\",\"purchase\",\"product_page\",\"product_page\",\"login\",\"login\",\"product_page\",\"login\",\"product_page\",\"product_page\",\"login\",\"login\",\"product_cart\",\"product_page\",\"login\",\"purchase\",\"product_page\",\"login\",\"login\",\"login\",\"login\",\"login\",\"login\",\"login\",\"login\",\"product_cart\",\"product_cart\",\"product_cart\",\"product_cart\",\"login\",\"login\",\"login\",\"login\",\"login\",\"product_cart\",\"product_cart\",\"product_cart\",\"login\",\"login\",\"login\",\"purchase\",\"purchase\",\"product_cart\",\"product_cart\",\"login\",\"login\",\"product_cart\",\"product_cart\",\"product_cart\",\"login\",\"login\",\"login\",\"product_cart\",\"product_cart\",\"product_page\",\"product_page\",\"login\",\"login\",\"product_page\",\"product_page\",\"login\",\"login\",\"product_cart\",\"product_cart\",\"login\",\"login\",\"product_page\",\"product_page\",\"product_page\",\"product_page\",\"login\",\"login\",\"login\",\"login\",\"purchase\",\"purchase\",\"purchase\",\"product_cart\",\"product_cart\",\"product_cart\",\"product_page\",\"product_page\",\"product_page\",\"login\",\"login\",\"login\",\"product_cart\",\"product_cart\",\"login\",\"login\",\"product_cart\",\"product_cart\",\"product_cart\",\"product_cart\",\"product_page\",\"product_page\",\"product_page\",\"product_page\",\"login\",\"login\",\"login\",\"login\",\"product_page\",\"product_page\",\"login\",\"login\",\"login\",\"login\",\"product_page\",\"product_page\",\"product_page\",\"product_page\",\"product_page\",\"login\",\"login\",\"login\",\"login\",\"login\",\"product_page\",\"product_page\",\"product_page\",\"product_page\",\"login\",\"login\",\"login\",\"login\",\"product_page\",\"product_page\",\"login\",\"login\",\"login\",\"login\",\"login\",\"login\",\"login\",\"purchase\",\"product_page\",\"login\",\"purchase\",\"product_cart\",\"product_page\",\"login\",\"product_cart\",\"product_page\",\"login\",\"product_page\",\"product_page\",\"product_page\",\"login\",\"login\",\"login\",\"product_page\",\"login\",\"product_page\",\"product_page\",\"login\",\"login\",\"purchase\",\"purchase\",\"product_page\",\"product_page\",\"login\",\"login\",\"purchase\",\"purchase\",\"purchase\",\"login\",\"login\",\"login\",\"product_page\",\"product_page\",\"login\",\"login\",\"product_page\",\"product_page\",\"product_page\",\"product_page\",\"login\",\"login\",\"login\",\"login\",\"login\",\"login\",\"purchase\",\"purchase\",\"purchase\",\"purchase\",\"login\",\"login\",\"login\",\"login\",\"purchase\",\"purchase\",\"purchase\",\"product_cart\",\"product_cart\",\"product_cart\",\"login\",\"login\",\"login\",\"product_page\",\"login\",\"product_page\",\"login\",\"purchase\",\"purchase\",\"login\",\"login\",\"purchase\",\"purchase\",\"purchase\",\"purchase\",\"login\",\"login\",\"login\",\"login\",\"login\",\"login\",\"login\",\"login\",\"login\",\"login\",\"login\",\"login\",\"login\",\"login\",\"login\",\"login\",\"product_page\",\"product_page\",\"login\",\"login\",\"login\",\"login\",\"product_page\",\"login\",\"purchase\",\"purchase\",\"product_cart\",\"product_cart\",\"login\",\"login\",\"purchase\",\"product_page\",\"login\",\"product_cart\",\"product_cart\",\"login\",\"login\",\"login\",\"login\",\"login\",\"login\",\"login\",\"product_page\",\"product_page\",\"product_page\",\"login\",\"login\",\"login\",\"purchase\",\"purchase\",\"product_cart\",\"product_cart\",\"login\",\"login\",\"product_cart\",\"product_cart\",\"product_page\",\"product_page\",\"login\",\"login\",\"product_page\",\"product_page\",\"login\",\"login\",\"product_page\",\"product_page\",\"login\",\"login\",\"login\",\"login\",\"login\",\"product_cart\",\"product_cart\",\"login\",\"login\",\"purchase\",\"purchase\",\"login\",\"login\",\"product_page\",\"product_page\",\"login\",\"login\",\"product_cart\",\"product_cart\",\"product_cart\",\"login\",\"login\",\"login\",\"product_page\",\"product_page\",\"product_page\",\"login\",\"login\",\"login\",\"product_cart\",\"product_cart\",\"product_page\",\"product_page\",\"login\",\"login\",\"purchase\",\"purchase\",\"purchase\",\"purchase\",\"product_cart\",\"product_cart\",\"product_cart\",\"product_cart\",\"login\",\"login\",\"login\",\"login\",\"product_page\",\"login\",\"login\",\"login\",\"login\",\"product_page\",\"product_page\",\"product_page\",\"login\",\"login\",\"login\",\"product_page\",\"product_page\",\"login\",\"login\",\"product_cart\",\"product_page\",\"login\",\"login\",\"login\",\"login\",\"login\",\"login\",\"product_page\",\"product_page\",\"product_page\",\"login\",\"login\",\"login\",\"product_cart\",\"product_cart\",\"login\",\"login\",\"purchase\",\"purchase\",\"login\",\"login\",\"purchase\",\"purchase\",\"login\",\"login\",\"product_cart\",\"product_page\",\"login\",\"login\",\"login\",\"login\",\"product_page\",\"product_page\",\"product_page\",\"product_page\",\"login\",\"login\",\"login\",\"login\",\"purchase\",\"purchase\",\"login\",\"login\",\"purchase\",\"purchase\",\"purchase\",\"login\",\"login\",\"login\",\"purchase\",\"purchase\",\"login\",\"login\",\"product_page\",\"product_page\",\"login\",\"login\",\"product_page\",\"product_page\",\"login\",\"login\",\"product_page\",\"product_page\",\"product_page\",\"login\",\"login\",\"login\",\"purchase\",\"purchase\",\"product_page\",\"product_page\",\"login\",\"login\",\"product_cart\",\"product_cart\",\"login\",\"login\",\"purchase\",\"purchase\",\"purchase\",\"product_page\",\"product_page\",\"product_page\",\"login\",\"login\",\"login\",\"login\",\"login\",\"product_page\",\"product_page\",\"login\",\"login\",\"purchase\",\"purchase\",\"purchase\",\"purchase\",\"product_page\",\"product_page\",\"product_page\",\"product_page\",\"login\",\"login\",\"login\",\"login\",\"purchase\",\"product_page\",\"login\",\"product_page\",\"product_page\",\"product_page\",\"login\",\"login\",\"login\",\"purchase\",\"product_page\",\"login\",\"purchase\",\"product_cart\",\"product_page\",\"login\",\"purchase\",\"purchase\",\"purchase\",\"product_page\",\"product_page\",\"product_page\",\"login\",\"login\",\"login\",\"product_cart\",\"product_cart\",\"product_cart\",\"product_page\",\"product_page\",\"product_page\",\"login\",\"login\",\"login\",\"login\",\"login\",\"login\",\"product_page\",\"login\",\"purchase\",\"product_page\",\"login\",\"product_page\",\"product_page\",\"login\",\"login\",\"product_cart\",\"product_cart\",\"product_cart\",\"product_cart\",\"product_page\",\"product_page\",\"product_page\",\"product_page\",\"login\",\"login\",\"login\",\"login\",\"purchase\",\"purchase\",\"product_page\",\"product_page\",\"login\",\"login\",\"product_cart\",\"product_cart\",\"product_cart\",\"login\",\"login\",\"login\",\"purchase\",\"product_page\",\"login\",\"purchase\",\"product_cart\",\"product_page\",\"login\",\"product_page\",\"product_page\",\"product_page\",\"product_page\",\"login\",\"login\",\"login\",\"login\",\"purchase\",\"purchase\",\"purchase\",\"product_cart\",\"product_cart\",\"product_cart\",\"product_page\",\"product_page\",\"product_page\",\"login\",\"login\",\"login\",\"product_cart\",\"product_cart\",\"login\",\"login\",\"product_page\",\"product_page\",\"login\",\"login\",\"purchase\",\"purchase\",\"login\",\"login\",\"purchase\",\"purchase\",\"purchase\",\"product_page\",\"product_page\",\"product_page\",\"login\",\"login\",\"login\",\"product_page\",\"product_page\",\"product_page\",\"login\",\"login\",\"login\",\"login\",\"login\",\"purchase\",\"purchase\",\"purchase\",\"login\",\"login\",\"login\",\"product_page\",\"product_page\",\"login\",\"login\",\"login\",\"login\",\"product_page\",\"product_page\",\"product_page\",\"login\",\"login\",\"login\",\"login\",\"purchase\",\"purchase\",\"product_cart\",\"product_cart\",\"login\",\"login\",\"login\",\"login\",\"product_page\",\"product_page\",\"login\",\"login\",\"login\",\"login\",\"login\",\"login\",\"purchase\",\"purchase\",\"purchase\",\"product_page\",\"product_page\",\"product_page\",\"login\",\"login\",\"login\",\"purchase\",\"purchase\",\"purchase\",\"login\",\"login\",\"login\",\"login\",\"login\",\"product_page\",\"product_page\",\"login\",\"login\",\"product_page\",\"product_page\",\"login\",\"login\",\"product_cart\",\"product_cart\",\"product_cart\",\"login\",\"login\",\"login\",\"login\",\"login\",\"login\",\"product_page\",\"login\",\"product_page\",\"product_page\",\"login\",\"login\",\"login\",\"login\",\"purchase\",\"purchase\",\"product_page\",\"product_page\",\"login\",\"login\",\"product_cart\",\"product_cart\",\"product_page\",\"product_page\",\"login\",\"login\",\"product_cart\",\"product_page\",\"login\",\"login\",\"login\",\"login\",\"login\",\"login\",\"login\",\"product_page\",\"login\",\"login\",\"login\",\"login\",\"purchase\",\"login\",\"login\",\"purchase\",\"purchase\",\"login\",\"login\",\"purchase\",\"purchase\",\"login\",\"login\",\"login\",\"product_page\",\"product_page\",\"product_page\",\"product_page\",\"login\",\"login\",\"login\",\"login\",\"login\",\"login\",\"login\",\"login\",\"login\",\"login\",\"login\",\"product_cart\",\"product_cart\",\"product_cart\",\"product_cart\",\"login\",\"login\",\"login\",\"login\",\"product_page\",\"product_page\",\"product_page\",\"login\",\"login\",\"login\",\"product_page\",\"product_page\",\"product_page\",\"product_page\",\"login\",\"login\",\"login\",\"login\",\"login\",\"login\",\"login\",\"purchase\",\"purchase\",\"product_page\",\"product_page\",\"login\",\"login\",\"purchase\",\"purchase\",\"product_page\",\"product_page\",\"login\",\"login\",\"login\",\"login\",\"login\",\"login\",\"login\",\"login\",\"login\",\"login\",\"product_cart\",\"product_page\",\"login\",\"product_cart\",\"product_cart\",\"product_page\",\"product_page\",\"login\",\"login\",\"login\",\"login\",\"login\",\"product_cart\",\"product_cart\",\"product_cart\",\"login\",\"login\",\"login\",\"login\",\"login\",\"login\",\"login\",\"login\",\"product_cart\",\"product_cart\",\"product_cart\",\"product_cart\",\"login\",\"login\",\"login\",\"login\",\"purchase\",\"purchase\",\"product_cart\",\"product_cart\",\"login\",\"login\",\"product_cart\",\"product_cart\",\"product_cart\",\"product_cart\",\"product_page\",\"product_page\",\"product_page\",\"product_page\",\"login\",\"login\",\"login\",\"login\",\"product_cart\",\"product_cart\",\"product_cart\",\"product_page\",\"product_page\",\"product_page\",\"login\",\"login\",\"login\",\"product_page\",\"login\",\"login\",\"login\",\"login\",\"login\",\"product_page\",\"product_page\",\"product_page\",\"product_page\",\"login\",\"login\",\"login\",\"login\",\"purchase\",\"purchase\",\"product_page\",\"product_page\",\"login\",\"login\",\"login\",\"login\",\"login\",\"login\",\"login\",\"product_cart\",\"product_cart\",\"product_cart\",\"product_page\",\"product_page\",\"product_page\",\"login\",\"login\",\"login\",\"purchase\",\"login\",\"login\",\"purchase\",\"purchase\",\"product_page\",\"product_page\",\"login\",\"login\",\"product_cart\",\"product_cart\",\"login\",\"login\",\"purchase\",\"purchase\",\"product_cart\",\"product_cart\",\"product_cart\",\"product_page\",\"product_page\",\"product_page\",\"login\",\"login\",\"login\",\"purchase\",\"purchase\",\"purchase\",\"product_page\",\"product_page\",\"product_page\",\"login\",\"login\",\"login\",\"product_cart\",\"product_cart\",\"login\",\"login\",\"product_page\",\"product_page\",\"login\",\"login\",\"product_cart\",\"product_cart\",\"product_cart\",\"product_page\",\"product_page\",\"product_page\",\"login\",\"login\",\"login\",\"purchase\",\"purchase\",\"purchase\",\"login\",\"login\",\"login\",\"purchase\",\"purchase\",\"purchase\",\"login\",\"login\",\"login\",\"purchase\",\"purchase\",\"product_page\",\"product_page\",\"login\",\"login\",\"purchase\",\"purchase\",\"product_cart\",\"product_cart\",\"product_page\",\"product_page\",\"login\",\"login\",\"login\",\"login\",\"product_cart\",\"login\",\"purchase\",\"purchase\",\"product_page\",\"product_page\",\"login\",\"login\",\"login\",\"login\",\"login\",\"product_page\",\"product_page\",\"product_page\",\"login\",\"login\",\"login\",\"purchase\",\"purchase\",\"purchase\",\"purchase\",\"login\",\"login\",\"login\",\"login\",\"login\",\"login\",\"login\",\"login\",\"product_page\",\"product_page\",\"product_page\",\"product_page\",\"login\",\"login\",\"login\",\"login\",\"product_page\",\"login\",\"login\",\"login\",\"login\",\"login\",\"login\",\"login\",\"login\",\"product_page\",\"product_page\",\"product_page\",\"login\",\"login\",\"login\",\"product_page\",\"product_page\",\"product_page\",\"login\",\"login\",\"login\",\"login\",\"login\",\"purchase\",\"product_cart\",\"login\",\"login\",\"login\",\"login\",\"login\",\"login\",\"login\",\"product_cart\",\"product_cart\",\"login\",\"login\",\"product_page\",\"login\",\"product_cart\",\"product_cart\",\"product_cart\",\"product_cart\",\"product_page\",\"product_page\",\"product_page\",\"product_page\",\"login\",\"login\",\"login\",\"login\",\"purchase\",\"purchase\",\"purchase\",\"purchase\",\"purchase\",\"product_cart\",\"product_cart\",\"product_cart\",\"product_cart\",\"product_cart\",\"product_page\",\"product_page\",\"product_page\",\"product_page\",\"product_page\",\"login\",\"login\",\"login\",\"login\",\"login\",\"purchase\",\"login\",\"purchase\",\"product_page\",\"login\",\"product_cart\",\"product_cart\",\"product_cart\",\"product_cart\",\"product_cart\",\"product_page\",\"product_page\",\"product_page\",\"product_page\",\"product_page\",\"login\",\"login\",\"login\",\"login\",\"login\",\"product_page\",\"login\",\"product_page\",\"login\",\"login\",\"login\",\"login\",\"login\",\"login\",\"login\",\"login\",\"login\",\"product_cart\",\"login\",\"product_page\",\"product_page\",\"login\",\"login\",\"product_page\",\"product_page\",\"product_page\",\"product_page\",\"product_page\",\"login\",\"login\",\"login\",\"login\",\"login\",\"purchase\",\"purchase\",\"purchase\",\"purchase\",\"product_page\",\"product_page\",\"product_page\",\"product_page\",\"login\",\"login\",\"login\",\"login\",\"product_cart\",\"login\",\"purchase\",\"purchase\",\"login\",\"login\",\"product_cart\",\"product_cart\",\"product_cart\",\"login\",\"login\",\"login\",\"product_cart\",\"product_cart\",\"product_cart\",\"product_cart\",\"login\",\"login\",\"login\",\"login\",\"purchase\",\"purchase\",\"purchase\",\"purchase\",\"product_page\",\"product_page\",\"product_page\",\"product_page\",\"login\",\"login\",\"login\",\"login\",\"product_cart\",\"product_cart\",\"product_page\",\"product_page\",\"login\",\"login\",\"product_page\",\"product_page\",\"product_page\",\"login\",\"login\",\"login\",\"product_page\",\"product_page\",\"product_page\",\"product_page\",\"product_page\",\"login\",\"login\",\"login\",\"login\",\"login\",\"login\",\"login\",\"login\",\"login\",\"login\",\"product_page\",\"product_page\",\"login\",\"login\",\"product_cart\",\"product_cart\",\"product_cart\",\"product_page\",\"product_page\",\"product_page\",\"login\",\"login\",\"login\",\"purchase\",\"purchase\",\"purchase\",\"login\",\"login\",\"login\",\"login\",\"login\",\"product_page\",\"login\",\"product_page\",\"product_page\",\"product_page\",\"login\",\"login\",\"login\",\"login\",\"login\",\"product_page\",\"product_page\",\"login\",\"login\",\"login\",\"purchase\",\"purchase\",\"purchase\",\"product_cart\",\"product_cart\",\"product_cart\",\"login\",\"login\",\"login\",\"login\",\"login\",\"login\",\"login\",\"login\",\"login\",\"login\",\"product_cart\",\"product_page\",\"login\",\"product_cart\",\"product_cart\",\"product_cart\",\"product_page\",\"product_page\",\"product_page\",\"login\",\"login\",\"login\",\"login\",\"login\",\"product_page\",\"login\",\"product_cart\",\"product_cart\",\"product_cart\",\"login\",\"login\",\"login\",\"login\",\"login\",\"login\",\"product_page\",\"product_page\",\"login\",\"login\",\"product_cart\",\"product_cart\",\"product_page\",\"product_page\",\"login\",\"login\",\"login\",\"login\",\"login\",\"purchase\",\"purchase\",\"purchase\",\"purchase\",\"login\",\"login\",\"login\",\"login\",\"purchase\",\"login\",\"product_page\",\"product_page\",\"product_page\",\"login\",\"login\",\"login\",\"product_cart\",\"product_cart\",\"product_cart\",\"product_cart\",\"product_cart\",\"login\",\"login\",\"login\",\"login\",\"login\",\"product_cart\",\"product_page\",\"login\",\"product_page\",\"product_page\",\"product_page\",\"product_page\",\"login\",\"login\",\"login\",\"login\",\"product_page\",\"product_page\",\"product_page\",\"login\",\"login\",\"login\",\"purchase\",\"product_page\",\"login\",\"product_page\",\"login\",\"product_cart\",\"product_cart\",\"product_cart\",\"product_cart\",\"product_cart\",\"product_cart\",\"login\",\"login\",\"login\",\"login\",\"login\",\"login\",\"product_page\",\"product_page\",\"login\",\"login\",\"login\",\"login\",\"product_page\",\"product_page\",\"product_page\",\"login\",\"login\",\"login\",\"product_page\",\"product_page\",\"product_page\",\"login\",\"login\",\"login\",\"purchase\",\"purchase\",\"product_page\",\"product_page\",\"login\",\"login\",\"product_page\",\"product_page\",\"login\",\"login\",\"purchase\",\"purchase\",\"product_page\",\"product_page\",\"login\",\"login\",\"login\",\"login\",\"login\",\"product_page\",\"product_page\",\"product_page\",\"login\",\"login\",\"login\",\"product_page\",\"product_page\",\"product_page\",\"product_page\",\"product_page\",\"login\",\"login\",\"login\",\"login\",\"login\",\"product_page\",\"product_page\",\"product_page\",\"login\",\"login\",\"login\",\"login\",\"login\",\"login\",\"login\",\"login\",\"login\",\"login\",\"login\",\"product_cart\",\"product_page\",\"login\",\"login\",\"login\",\"login\",\"login\",\"login\",\"login\",\"product_cart\",\"product_cart\",\"product_cart\",\"product_page\",\"product_page\",\"product_page\",\"login\",\"login\",\"login\",\"login\",\"login\",\"login\",\"login\",\"product_page\",\"product_page\",\"login\",\"login\",\"purchase\",\"purchase\",\"purchase\",\"product_page\",\"product_page\",\"product_page\",\"login\",\"login\",\"login\",\"product_page\",\"product_page\",\"product_page\",\"product_page\",\"product_page\",\"product_page\",\"login\",\"login\",\"login\",\"login\",\"login\",\"login\",\"purchase\",\"purchase\",\"purchase\",\"product_cart\",\"product_cart\",\"product_cart\",\"login\",\"login\",\"login\",\"product_cart\",\"product_cart\",\"product_cart\",\"product_cart\",\"product_cart\",\"product_cart\",\"login\",\"login\",\"login\",\"login\",\"login\",\"login\",\"purchase\",\"purchase\",\"purchase\",\"product_cart\",\"product_cart\",\"product_cart\",\"login\",\"login\",\"login\",\"product_page\",\"product_page\",\"product_page\",\"login\",\"login\",\"login\",\"purchase\",\"purchase\",\"purchase\",\"product_cart\",\"product_cart\",\"product_cart\",\"product_page\",\"product_page\",\"product_page\",\"login\",\"login\",\"login\",\"purchase\",\"purchase\",\"purchase\",\"product_page\",\"product_page\",\"product_page\",\"login\",\"login\",\"login\",\"login\",\"login\",\"login\",\"product_page\",\"login\",\"product_cart\",\"product_cart\",\"product_cart\",\"product_cart\",\"login\",\"login\",\"login\",\"login\",\"purchase\",\"purchase\",\"product_cart\",\"product_cart\",\"product_page\",\"product_page\",\"login\",\"login\",\"product_page\",\"product_page\",\"login\",\"login\",\"product_cart\",\"product_cart\",\"product_cart\",\"product_page\",\"product_page\",\"product_page\",\"login\",\"login\",\"login\",\"product_cart\",\"product_cart\",\"product_page\",\"product_page\",\"login\",\"login\",\"product_page\",\"product_page\",\"product_page\",\"login\",\"login\",\"login\",\"product_cart\",\"product_cart\",\"product_cart\",\"product_page\",\"product_page\",\"product_page\",\"login\",\"login\",\"login\",\"product_page\",\"product_page\",\"login\",\"login\",\"product_cart\",\"product_cart\",\"product_cart\",\"product_cart\",\"product_page\",\"product_page\",\"product_page\",\"product_page\",\"login\",\"login\",\"login\",\"login\",\"product_cart\",\"product_cart\",\"product_cart\",\"product_page\",\"product_page\",\"product_page\",\"login\",\"login\",\"login\",\"purchase\",\"purchase\",\"purchase\",\"product_cart\",\"product_cart\",\"product_cart\",\"product_page\",\"product_page\",\"product_page\",\"login\",\"login\",\"login\",\"product_cart\",\"product_cart\",\"product_page\",\"product_page\",\"login\",\"login\",\"product_page\",\"product_page\",\"product_page\",\"login\",\"login\",\"login\",\"login\",\"login\",\"purchase\",\"purchase\",\"login\",\"login\",\"purchase\",\"purchase\",\"purchase\",\"purchase\",\"product_page\",\"product_page\",\"product_page\",\"product_page\",\"login\",\"login\",\"login\",\"login\",\"product_cart\",\"product_cart\",\"product_cart\",\"login\",\"login\",\"login\",\"login\",\"login\",\"login\",\"login\",\"product_cart\",\"product_cart\",\"product_cart\",\"product_page\",\"product_page\",\"product_page\",\"login\",\"login\",\"login\",\"product_page\",\"product_page\",\"product_page\",\"product_page\",\"product_page\",\"login\",\"login\",\"login\",\"login\",\"login\",\"product_page\",\"product_page\",\"product_page\",\"product_page\",\"login\",\"login\",\"login\",\"login\",\"purchase\",\"purchase\",\"purchase\",\"product_page\",\"product_page\",\"product_page\",\"login\",\"login\",\"login\",\"product_cart\",\"product_cart\",\"product_cart\",\"product_page\",\"product_page\",\"product_page\",\"login\",\"login\",\"login\",\"purchase\",\"purchase\",\"product_page\",\"product_page\",\"login\",\"login\",\"product_page\",\"product_page\",\"product_page\",\"login\",\"login\",\"login\",\"product_page\",\"product_page\",\"login\",\"login\",\"product_cart\",\"product_page\",\"login\",\"product_page\",\"login\",\"purchase\",\"purchase\",\"purchase\",\"login\",\"login\",\"login\",\"purchase\",\"purchase\",\"purchase\",\"product_page\",\"product_page\",\"product_page\",\"login\",\"login\",\"login\",\"product_cart\",\"product_cart\",\"product_cart\",\"product_cart\",\"login\",\"login\",\"login\",\"login\",\"product_cart\",\"product_cart\",\"login\",\"login\",\"product_page\",\"product_page\",\"product_page\",\"login\",\"login\",\"login\",\"purchase\",\"purchase\",\"product_cart\",\"product_cart\",\"product_page\",\"product_page\",\"login\",\"login\",\"purchase\",\"purchase\",\"product_cart\",\"product_cart\",\"login\",\"login\",\"login\",\"login\",\"login\",\"product_page\",\"product_page\",\"product_page\",\"product_page\",\"login\",\"login\",\"login\",\"login\",\"product_page\",\"product_page\",\"product_page\",\"product_page\",\"login\",\"login\",\"login\",\"login\",\"product_cart\",\"product_cart\",\"login\",\"login\",\"product_page\",\"product_page\",\"product_page\",\"product_page\",\"product_page\",\"login\",\"login\",\"login\",\"login\",\"login\",\"purchase\",\"purchase\",\"purchase\",\"product_page\",\"product_page\",\"product_page\",\"login\",\"login\",\"login\",\"purchase\",\"purchase\",\"purchase\",\"purchase\",\"login\",\"login\",\"login\",\"login\",\"product_cart\",\"product_cart\",\"product_cart\",\"product_cart\",\"product_cart\",\"product_page\",\"product_page\",\"product_page\",\"product_page\",\"product_page\",\"login\",\"login\",\"login\",\"login\",\"login\",\"product_cart\",\"product_cart\",\"product_cart\",\"product_page\",\"product_page\",\"product_page\",\"login\",\"login\",\"login\",\"product_page\",\"product_page\",\"product_page\",\"product_page\",\"login\",\"login\",\"login\",\"login\",\"product_page\",\"product_page\",\"product_page\",\"product_page\",\"product_page\",\"product_page\",\"login\",\"login\",\"login\",\"login\",\"login\",\"login\",\"product_cart\",\"product_page\",\"login\",\"purchase\",\"purchase\",\"purchase\",\"login\",\"login\",\"login\",\"product_cart\",\"login\",\"purchase\",\"product_cart\",\"login\",\"purchase\",\"purchase\",\"product_page\",\"product_page\",\"login\",\"login\",\"product_page\",\"product_page\",\"product_page\",\"product_page\",\"product_page\",\"product_page\",\"product_page\",\"login\",\"login\",\"login\",\"login\",\"login\",\"login\",\"login\",\"product_cart\",\"product_cart\",\"product_cart\",\"product_cart\",\"product_cart\",\"login\",\"login\",\"login\",\"login\",\"login\",\"purchase\",\"purchase\",\"purchase\",\"product_page\",\"product_page\",\"product_page\",\"login\",\"login\",\"login\",\"product_page\",\"product_page\",\"product_page\",\"product_page\",\"product_page\",\"login\",\"login\",\"login\",\"login\",\"login\",\"product_page\",\"product_page\",\"product_page\",\"login\",\"login\",\"login\",\"login\",\"login\",\"product_page\",\"product_page\",\"product_page\",\"login\",\"login\",\"login\",\"purchase\",\"purchase\",\"purchase\",\"product_page\",\"product_page\",\"product_page\",\"login\",\"login\",\"login\",\"purchase\",\"purchase\",\"purchase\",\"product_page\",\"product_page\",\"product_page\",\"login\",\"login\",\"login\",\"login\",\"login\",\"login\",\"login\",\"login\",\"login\",\"product_page\",\"product_page\",\"login\",\"login\",\"purchase\",\"purchase\",\"purchase\",\"product_cart\",\"product_cart\",\"product_cart\",\"product_page\",\"product_page\",\"product_page\",\"login\",\"login\",\"login\",\"product_cart\",\"product_cart\",\"product_cart\",\"login\",\"login\",\"login\",\"product_cart\",\"product_cart\",\"product_cart\",\"product_page\",\"product_page\",\"product_page\",\"login\",\"login\",\"login\",\"purchase\",\"purchase\",\"purchase\",\"purchase\",\"product_cart\",\"product_cart\",\"product_cart\",\"product_cart\",\"login\",\"login\",\"login\",\"login\",\"product_page\",\"product_page\",\"product_page\",\"product_page\",\"product_page\",\"login\",\"login\",\"login\",\"login\",\"login\",\"purchase\",\"purchase\",\"purchase\",\"product_cart\",\"product_cart\",\"product_cart\",\"login\",\"login\",\"login\",\"product_cart\",\"product_cart\",\"product_cart\",\"login\",\"login\",\"login\",\"purchase\",\"product_cart\",\"login\",\"product_cart\",\"product_cart\",\"product_cart\",\"product_page\",\"product_page\",\"product_page\",\"login\",\"login\",\"login\",\"login\",\"login\",\"login\",\"login\",\"login\",\"login\",\"login\",\"login\",\"login\",\"login\",\"login\",\"login\",\"product_page\",\"product_page\",\"login\",\"login\",\"purchase\",\"login\",\"purchase\",\"purchase\",\"product_cart\",\"product_cart\",\"product_page\",\"product_page\",\"login\",\"login\",\"login\",\"login\",\"login\",\"login\",\"login\",\"login\",\"product_cart\",\"product_cart\",\"product_cart\",\"login\",\"login\",\"login\",\"login\",\"product_cart\",\"product_cart\",\"product_page\",\"product_page\",\"login\",\"login\",\"login\",\"login\",\"login\",\"login\",\"login\",\"login\",\"login\",\"login\",\"login\",\"purchase\",\"purchase\",\"product_page\",\"product_page\",\"login\",\"login\",\"product_page\",\"product_page\",\"login\",\"login\",\"purchase\",\"purchase\",\"login\",\"login\",\"login\",\"login\",\"login\",\"product_page\",\"login\",\"login\",\"login\",\"login\",\"login\",\"login\",\"login\",\"login\",\"login\",\"login\",\"login\",\"product_page\",\"product_page\",\"product_page\",\"product_page\",\"login\",\"login\",\"login\",\"login\",\"login\",\"login\",\"product_page\",\"product_page\",\"product_page\",\"login\",\"login\",\"login\",\"purchase\",\"purchase\",\"purchase\",\"product_page\",\"product_page\",\"product_page\",\"login\",\"login\",\"login\",\"login\",\"login\",\"login\",\"purchase\",\"purchase\",\"product_cart\",\"product_cart\",\"login\",\"login\",\"purchase\",\"product_cart\",\"product_page\",\"login\",\"purchase\",\"product_page\",\"login\",\"login\",\"login\",\"login\",\"login\",\"product_cart\",\"product_page\",\"login\",\"product_page\",\"product_page\",\"product_page\",\"login\",\"login\",\"login\",\"product_cart\",\"product_page\",\"login\",\"product_cart\",\"product_cart\",\"login\",\"login\",\"purchase\",\"product_page\",\"login\",\"login\",\"login\",\"login\",\"login\",\"login\",\"purchase\",\"product_cart\",\"product_page\",\"login\",\"login\",\"login\",\"login\",\"login\",\"login\",\"login\",\"login\",\"product_cart\",\"product_cart\",\"login\",\"login\",\"product_cart\",\"product_cart\",\"login\",\"login\",\"product_cart\",\"product_cart\",\"product_cart\",\"login\",\"login\",\"login\",\"product_cart\",\"product_cart\",\"login\",\"login\",\"purchase\",\"product_page\",\"login\",\"purchase\",\"purchase\",\"product_cart\",\"product_cart\",\"login\",\"login\",\"purchase\",\"purchase\",\"login\",\"login\",\"purchase\",\"purchase\",\"purchase\",\"product_cart\",\"product_cart\",\"product_cart\",\"product_page\",\"product_page\",\"product_page\",\"login\",\"login\",\"login\",\"product_cart\",\"product_cart\",\"product_page\",\"product_page\",\"login\",\"login\",\"product_cart\",\"product_page\",\"login\",\"product_cart\",\"product_cart\",\"product_cart\",\"product_cart\",\"login\",\"login\",\"login\",\"login\",\"login\",\"login\",\"login\",\"login\",\"login\",\"login\",\"product_cart\",\"product_cart\",\"product_cart\",\"product_page\",\"product_page\",\"product_page\",\"login\",\"login\",\"login\",\"product_page\",\"login\",\"purchase\",\"purchase\",\"product_page\",\"product_page\",\"login\",\"login\",\"login\",\"login\",\"login\",\"product_page\",\"product_page\",\"login\",\"login\",\"product_cart\",\"product_cart\",\"product_page\",\"product_page\",\"login\",\"login\",\"login\",\"login\",\"product_page\",\"product_page\",\"login\",\"login\",\"login\",\"login\",\"login\",\"login\",\"login\",\"purchase\",\"product_cart\",\"login\",\"product_page\",\"product_page\",\"login\",\"login\",\"product_page\",\"product_page\",\"product_page\",\"product_page\",\"login\",\"login\",\"login\",\"login\",\"purchase\",\"product_page\",\"login\",\"login\",\"login\",\"login\",\"login\",\"login\",\"product_page\",\"product_page\",\"login\",\"login\",\"product_cart\",\"product_cart\",\"product_page\",\"product_page\",\"login\",\"login\",\"login\",\"login\",\"product_page\",\"product_page\",\"login\",\"login\",\"product_cart\",\"product_cart\",\"product_page\",\"product_page\",\"login\",\"login\",\"login\",\"purchase\",\"purchase\",\"product_page\",\"product_page\",\"login\",\"login\",\"product_page\",\"product_page\",\"login\",\"login\",\"purchase\",\"purchase\",\"purchase\",\"product_page\",\"product_page\",\"product_page\",\"login\",\"login\",\"login\",\"login\",\"login\",\"login\",\"product_page\",\"product_page\",\"login\",\"login\",\"login\",\"login\",\"login\",\"product_cart\",\"product_cart\",\"product_cart\",\"login\",\"login\",\"login\",\"product_cart\",\"login\",\"product_cart\",\"product_cart\",\"product_page\",\"product_page\",\"login\",\"login\",\"product_page\",\"product_page\",\"product_page\",\"product_page\",\"login\",\"login\",\"login\",\"login\",\"product_page\",\"login\",\"product_cart\",\"product_cart\",\"product_cart\",\"product_page\",\"product_page\",\"product_page\",\"login\",\"login\",\"login\",\"login\",\"login\",\"login\",\"purchase\",\"purchase\",\"product_cart\",\"product_cart\",\"product_page\",\"product_page\",\"login\",\"login\",\"product_cart\",\"product_cart\",\"product_cart\",\"login\",\"login\",\"login\",\"login\",\"login\",\"product_page\",\"login\",\"purchase\",\"purchase\",\"purchase\",\"product_cart\",\"product_cart\",\"product_cart\",\"product_page\",\"product_page\",\"product_page\",\"login\",\"login\",\"login\",\"product_page\",\"product_page\",\"login\",\"login\",\"purchase\",\"purchase\",\"purchase\",\"product_page\",\"product_page\",\"product_page\",\"login\",\"login\",\"login\",\"purchase\",\"product_cart\",\"product_page\",\"login\",\"login\",\"login\",\"login\",\"login\",\"purchase\",\"login\",\"login\",\"login\",\"product_page\",\"product_page\",\"login\",\"login\",\"login\",\"login\",\"login\",\"login\",\"purchase\",\"product_cart\",\"login\",\"login\",\"login\",\"login\",\"login\",\"login\",\"login\",\"login\",\"login\",\"login\",\"purchase\",\"purchase\",\"purchase\",\"purchase\",\"login\",\"login\",\"login\",\"login\",\"product_cart\",\"login\",\"product_page\",\"product_page\",\"product_page\",\"product_page\",\"product_page\",\"login\",\"login\",\"login\",\"login\",\"login\",\"login\",\"login\",\"product_cart\",\"login\",\"product_cart\",\"product_cart\",\"product_cart\",\"product_cart\",\"product_page\",\"product_page\",\"product_page\",\"product_page\",\"login\",\"login\",\"login\",\"login\",\"purchase\",\"purchase\",\"purchase\",\"product_page\",\"product_page\",\"product_page\",\"login\",\"login\",\"login\",\"purchase\",\"purchase\",\"product_page\",\"product_page\",\"login\",\"login\",\"product_cart\",\"product_cart\",\"product_cart\",\"login\",\"login\",\"login\",\"product_page\",\"product_page\",\"login\",\"login\",\"product_cart\",\"product_cart\",\"product_page\",\"product_page\",\"login\",\"login\",\"login\",\"login\",\"login\",\"login\",\"login\",\"product_page\",\"product_page\",\"product_page\",\"product_page\",\"login\",\"login\",\"login\",\"login\",\"login\",\"login\",\"login\",\"login\",\"login\",\"login\",\"purchase\",\"purchase\",\"purchase\",\"product_page\",\"product_page\",\"product_page\",\"login\",\"login\",\"login\",\"login\",\"login\",\"login\",\"purchase\",\"product_page\",\"login\",\"login\",\"login\",\"login\",\"login\",\"login\",\"login\",\"product_page\",\"product_page\",\"product_page\",\"product_page\",\"login\",\"login\",\"login\",\"login\",\"product_page\",\"product_page\",\"login\",\"login\",\"purchase\",\"purchase\",\"product_cart\",\"product_cart\",\"product_page\",\"product_page\",\"login\",\"login\",\"product_page\",\"product_page\",\"product_page\",\"login\",\"login\",\"login\",\"login\",\"login\",\"login\",\"product_page\",\"product_page\",\"product_page\",\"product_page\",\"login\",\"login\",\"login\",\"login\",\"product_cart\",\"login\",\"product_page\",\"product_page\",\"product_page\",\"login\",\"login\",\"login\",\"purchase\",\"product_page\",\"login\",\"purchase\",\"purchase\",\"purchase\",\"product_page\",\"product_page\",\"product_page\",\"login\",\"login\",\"login\",\"login\",\"login\",\"login\",\"login\",\"product_page\",\"product_page\",\"login\",\"login\",\"purchase\",\"purchase\",\"purchase\",\"product_page\",\"product_page\",\"product_page\",\"login\",\"login\",\"login\",\"login\",\"login\",\"login\",\"product_cart\",\"product_page\",\"login\",\"product_page\",\"product_page\",\"login\",\"login\",\"purchase\",\"purchase\",\"purchase\",\"purchase\",\"product_page\",\"product_page\",\"product_page\",\"product_page\",\"login\",\"login\",\"login\",\"login\",\"login\",\"login\",\"login\",\"product_cart\",\"product_cart\",\"product_page\",\"product_page\",\"login\",\"login\",\"login\",\"login\",\"product_page\",\"product_page\",\"login\",\"login\",\"product_cart\",\"product_cart\",\"login\",\"login\",\"purchase\",\"purchase\",\"login\",\"login\",\"product_cart\",\"product_cart\",\"product_cart\",\"product_cart\",\"login\",\"login\",\"login\",\"login\",\"product_page\",\"product_page\",\"login\",\"login\",\"purchase\",\"purchase\",\"purchase\",\"purchase\",\"purchase\",\"login\",\"login\",\"login\",\"login\",\"login\",\"product_page\",\"product_page\",\"product_page\",\"login\",\"login\",\"login\",\"product_page\",\"product_page\",\"login\",\"login\",\"login\",\"login\",\"login\",\"login\",\"login\",\"product_cart\",\"product_cart\",\"product_cart\",\"product_page\",\"product_page\",\"product_page\",\"login\",\"login\",\"login\",\"login\",\"login\",\"login\",\"product_page\",\"product_page\",\"login\",\"login\",\"purchase\",\"product_page\",\"login\",\"product_page\",\"product_page\",\"login\",\"login\",\"login\",\"login\",\"login\",\"login\",\"login\",\"login\",\"login\",\"login\",\"login\",\"login\",\"login\",\"login\",\"login\",\"login\",\"login\",\"login\",\"login\",\"login\",\"purchase\",\"purchase\",\"login\",\"login\",\"login\",\"login\",\"login\",\"login\",\"product_page\",\"login\",\"product_cart\",\"product_cart\",\"product_cart\",\"login\",\"login\",\"login\",\"login\",\"login\",\"login\",\"purchase\",\"purchase\",\"purchase\",\"product_cart\",\"product_cart\",\"product_cart\",\"product_page\",\"product_page\",\"product_page\",\"login\",\"login\",\"login\",\"purchase\",\"purchase\",\"purchase\",\"login\",\"login\",\"login\",\"product_page\",\"product_page\",\"login\",\"login\",\"product_cart\",\"product_page\",\"login\",\"product_cart\",\"product_cart\",\"product_cart\",\"login\",\"login\",\"login\",\"login\",\"login\",\"login\",\"login\",\"login\",\"product_page\",\"product_page\",\"product_page\",\"login\",\"login\",\"login\",\"product_cart\",\"product_cart\",\"product_page\",\"product_page\",\"login\",\"login\",\"login\",\"login\",\"login\",\"login\",\"login\",\"login\",\"login\",\"login\",\"login\",\"login\",\"product_page\",\"product_page\",\"login\",\"login\",\"product_page\",\"product_page\",\"login\",\"login\",\"product_page\",\"product_page\",\"login\",\"login\",\"purchase\",\"purchase\",\"purchase\",\"product_cart\",\"product_cart\",\"product_cart\",\"login\",\"login\",\"login\",\"product_page\",\"product_page\",\"login\",\"login\",\"product_cart\",\"product_cart\",\"product_cart\",\"product_page\",\"product_page\",\"product_page\",\"login\",\"login\",\"login\",\"product_cart\",\"product_page\",\"login\",\"purchase\",\"purchase\",\"product_page\",\"product_page\",\"login\",\"login\",\"product_page\",\"product_page\",\"product_page\",\"login\",\"login\",\"login\",\"product_page\",\"product_page\",\"login\",\"login\",\"product_cart\",\"product_cart\",\"product_page\",\"product_page\",\"login\",\"login\",\"product_cart\",\"product_cart\",\"product_page\",\"product_page\",\"login\",\"login\",\"product_page\",\"product_page\",\"login\",\"login\",\"purchase\",\"purchase\",\"login\",\"login\",\"purchase\",\"purchase\",\"product_page\",\"product_page\",\"login\",\"login\",\"login\",\"login\",\"login\",\"login\",\"product_page\",\"product_page\",\"product_page\",\"login\",\"login\",\"login\",\"product_page\",\"product_page\",\"login\",\"login\",\"login\",\"login\",\"login\",\"login\",\"login\",\"login\",\"login\",\"purchase\",\"product_page\",\"login\",\"login\",\"login\",\"login\",\"login\",\"login\",\"product_cart\",\"login\",\"login\",\"login\",\"purchase\",\"product_page\",\"login\",\"purchase\",\"purchase\",\"login\",\"login\",\"product_page\",\"login\",\"purchase\",\"purchase\",\"purchase\",\"purchase\",\"product_page\",\"product_page\",\"product_page\",\"product_page\",\"login\",\"login\",\"login\",\"login\",\"product_cart\",\"product_cart\",\"login\",\"login\",\"purchase\",\"purchase\",\"product_cart\",\"product_cart\",\"product_page\",\"product_page\",\"login\",\"login\",\"product_cart\",\"product_cart\",\"product_page\",\"product_page\",\"login\",\"login\",\"purchase\",\"login\",\"login\",\"login\",\"login\",\"login\",\"purchase\",\"product_page\",\"login\",\"purchase\",\"purchase\",\"purchase\",\"purchase\",\"purchase\",\"login\",\"login\",\"login\",\"login\",\"login\",\"purchase\",\"purchase\",\"product_page\",\"product_page\",\"login\",\"login\",\"login\",\"login\",\"login\",\"login\",\"login\",\"login\",\"login\",\"purchase\",\"purchase\",\"purchase\",\"product_cart\",\"product_cart\",\"product_cart\",\"product_page\",\"product_page\",\"product_page\",\"login\",\"login\",\"login\",\"purchase\",\"purchase\",\"purchase\",\"product_page\",\"product_page\",\"product_page\",\"login\",\"login\",\"login\",\"purchase\",\"product_page\",\"login\",\"login\",\"login\",\"login\",\"product_cart\",\"product_cart\",\"product_cart\",\"product_page\",\"product_page\",\"product_page\",\"login\",\"login\",\"login\",\"purchase\",\"purchase\",\"purchase\",\"product_page\",\"product_page\",\"product_page\",\"login\",\"login\",\"login\",\"product_page\",\"product_page\",\"login\",\"login\",\"product_page\",\"product_page\",\"product_page\",\"product_page\",\"login\",\"login\",\"login\",\"login\",\"login\",\"login\",\"login\",\"login\",\"login\",\"login\",\"login\",\"login\",\"login\",\"product_page\",\"product_page\",\"login\",\"login\",\"purchase\",\"purchase\",\"purchase\",\"product_page\",\"product_page\",\"product_page\",\"login\",\"login\",\"login\",\"login\",\"login\",\"login\",\"login\",\"login\",\"login\",\"purchase\",\"purchase\",\"purchase\",\"login\",\"login\",\"login\",\"login\",\"login\",\"login\",\"product_page\",\"product_page\",\"product_page\",\"product_page\",\"login\",\"login\",\"login\",\"login\",\"login\",\"login\",\"login\",\"login\",\"product_cart\",\"product_cart\",\"product_page\",\"product_page\",\"login\",\"login\",\"purchase\",\"login\",\"login\",\"login\",\"login\",\"login\",\"product_cart\",\"product_cart\",\"product_page\",\"product_page\",\"login\",\"login\",\"product_page\",\"product_page\",\"login\",\"login\",\"purchase\",\"product_page\",\"login\",\"login\",\"login\",\"product_cart\",\"product_cart\",\"product_cart\",\"login\",\"login\",\"login\",\"product_page\",\"login\",\"login\",\"login\",\"login\",\"purchase\",\"product_page\",\"login\",\"purchase\",\"product_cart\",\"login\",\"purchase\",\"product_page\",\"login\",\"product_page\",\"product_page\",\"login\",\"login\",\"purchase\",\"purchase\",\"product_cart\",\"product_cart\",\"product_page\",\"product_page\",\"login\",\"login\",\"purchase\",\"purchase\",\"purchase\",\"login\",\"login\",\"login\",\"product_page\",\"product_page\",\"product_page\",\"product_page\",\"login\",\"login\",\"login\",\"login\",\"product_page\",\"product_page\",\"product_page\",\"login\",\"login\",\"login\",\"product_page\",\"login\",\"login\",\"login\",\"product_page\",\"product_page\",\"login\",\"login\",\"product_page\",\"login\",\"product_page\",\"login\",\"product_page\",\"login\",\"product_page\",\"product_page\",\"product_page\",\"login\",\"login\",\"login\"],\"xaxis\":\"x\",\"yaxis\":\"y\",\"type\":\"histogram\"}],                        {\"template\":{\"data\":{\"histogram2dcontour\":[{\"type\":\"histogram2dcontour\",\"colorbar\":{\"outlinewidth\":0,\"ticks\":\"\"},\"colorscale\":[[0.0,\"#0d0887\"],[0.1111111111111111,\"#46039f\"],[0.2222222222222222,\"#7201a8\"],[0.3333333333333333,\"#9c179e\"],[0.4444444444444444,\"#bd3786\"],[0.5555555555555556,\"#d8576b\"],[0.6666666666666666,\"#ed7953\"],[0.7777777777777778,\"#fb9f3a\"],[0.8888888888888888,\"#fdca26\"],[1.0,\"#f0f921\"]]}],\"choropleth\":[{\"type\":\"choropleth\",\"colorbar\":{\"outlinewidth\":0,\"ticks\":\"\"}}],\"histogram2d\":[{\"type\":\"histogram2d\",\"colorbar\":{\"outlinewidth\":0,\"ticks\":\"\"},\"colorscale\":[[0.0,\"#0d0887\"],[0.1111111111111111,\"#46039f\"],[0.2222222222222222,\"#7201a8\"],[0.3333333333333333,\"#9c179e\"],[0.4444444444444444,\"#bd3786\"],[0.5555555555555556,\"#d8576b\"],[0.6666666666666666,\"#ed7953\"],[0.7777777777777778,\"#fb9f3a\"],[0.8888888888888888,\"#fdca26\"],[1.0,\"#f0f921\"]]}],\"heatmap\":[{\"type\":\"heatmap\",\"colorbar\":{\"outlinewidth\":0,\"ticks\":\"\"},\"colorscale\":[[0.0,\"#0d0887\"],[0.1111111111111111,\"#46039f\"],[0.2222222222222222,\"#7201a8\"],[0.3333333333333333,\"#9c179e\"],[0.4444444444444444,\"#bd3786\"],[0.5555555555555556,\"#d8576b\"],[0.6666666666666666,\"#ed7953\"],[0.7777777777777778,\"#fb9f3a\"],[0.8888888888888888,\"#fdca26\"],[1.0,\"#f0f921\"]]}],\"heatmapgl\":[{\"type\":\"heatmapgl\",\"colorbar\":{\"outlinewidth\":0,\"ticks\":\"\"},\"colorscale\":[[0.0,\"#0d0887\"],[0.1111111111111111,\"#46039f\"],[0.2222222222222222,\"#7201a8\"],[0.3333333333333333,\"#9c179e\"],[0.4444444444444444,\"#bd3786\"],[0.5555555555555556,\"#d8576b\"],[0.6666666666666666,\"#ed7953\"],[0.7777777777777778,\"#fb9f3a\"],[0.8888888888888888,\"#fdca26\"],[1.0,\"#f0f921\"]]}],\"contourcarpet\":[{\"type\":\"contourcarpet\",\"colorbar\":{\"outlinewidth\":0,\"ticks\":\"\"}}],\"contour\":[{\"type\":\"contour\",\"colorbar\":{\"outlinewidth\":0,\"ticks\":\"\"},\"colorscale\":[[0.0,\"#0d0887\"],[0.1111111111111111,\"#46039f\"],[0.2222222222222222,\"#7201a8\"],[0.3333333333333333,\"#9c179e\"],[0.4444444444444444,\"#bd3786\"],[0.5555555555555556,\"#d8576b\"],[0.6666666666666666,\"#ed7953\"],[0.7777777777777778,\"#fb9f3a\"],[0.8888888888888888,\"#fdca26\"],[1.0,\"#f0f921\"]]}],\"surface\":[{\"type\":\"surface\",\"colorbar\":{\"outlinewidth\":0,\"ticks\":\"\"},\"colorscale\":[[0.0,\"#0d0887\"],[0.1111111111111111,\"#46039f\"],[0.2222222222222222,\"#7201a8\"],[0.3333333333333333,\"#9c179e\"],[0.4444444444444444,\"#bd3786\"],[0.5555555555555556,\"#d8576b\"],[0.6666666666666666,\"#ed7953\"],[0.7777777777777778,\"#fb9f3a\"],[0.8888888888888888,\"#fdca26\"],[1.0,\"#f0f921\"]]}],\"mesh3d\":[{\"type\":\"mesh3d\",\"colorbar\":{\"outlinewidth\":0,\"ticks\":\"\"}}],\"scatter\":[{\"fillpattern\":{\"fillmode\":\"overlay\",\"size\":10,\"solidity\":0.2},\"type\":\"scatter\"}],\"parcoords\":[{\"type\":\"parcoords\",\"line\":{\"colorbar\":{\"outlinewidth\":0,\"ticks\":\"\"}}}],\"scatterpolargl\":[{\"type\":\"scatterpolargl\",\"marker\":{\"colorbar\":{\"outlinewidth\":0,\"ticks\":\"\"}}}],\"bar\":[{\"error_x\":{\"color\":\"#2a3f5f\"},\"error_y\":{\"color\":\"#2a3f5f\"},\"marker\":{\"line\":{\"color\":\"#E5ECF6\",\"width\":0.5},\"pattern\":{\"fillmode\":\"overlay\",\"size\":10,\"solidity\":0.2}},\"type\":\"bar\"}],\"scattergeo\":[{\"type\":\"scattergeo\",\"marker\":{\"colorbar\":{\"outlinewidth\":0,\"ticks\":\"\"}}}],\"scatterpolar\":[{\"type\":\"scatterpolar\",\"marker\":{\"colorbar\":{\"outlinewidth\":0,\"ticks\":\"\"}}}],\"histogram\":[{\"marker\":{\"pattern\":{\"fillmode\":\"overlay\",\"size\":10,\"solidity\":0.2}},\"type\":\"histogram\"}],\"scattergl\":[{\"type\":\"scattergl\",\"marker\":{\"colorbar\":{\"outlinewidth\":0,\"ticks\":\"\"}}}],\"scatter3d\":[{\"type\":\"scatter3d\",\"line\":{\"colorbar\":{\"outlinewidth\":0,\"ticks\":\"\"}},\"marker\":{\"colorbar\":{\"outlinewidth\":0,\"ticks\":\"\"}}}],\"scattermapbox\":[{\"type\":\"scattermapbox\",\"marker\":{\"colorbar\":{\"outlinewidth\":0,\"ticks\":\"\"}}}],\"scatterternary\":[{\"type\":\"scatterternary\",\"marker\":{\"colorbar\":{\"outlinewidth\":0,\"ticks\":\"\"}}}],\"scattercarpet\":[{\"type\":\"scattercarpet\",\"marker\":{\"colorbar\":{\"outlinewidth\":0,\"ticks\":\"\"}}}],\"carpet\":[{\"aaxis\":{\"endlinecolor\":\"#2a3f5f\",\"gridcolor\":\"white\",\"linecolor\":\"white\",\"minorgridcolor\":\"white\",\"startlinecolor\":\"#2a3f5f\"},\"baxis\":{\"endlinecolor\":\"#2a3f5f\",\"gridcolor\":\"white\",\"linecolor\":\"white\",\"minorgridcolor\":\"white\",\"startlinecolor\":\"#2a3f5f\"},\"type\":\"carpet\"}],\"table\":[{\"cells\":{\"fill\":{\"color\":\"#EBF0F8\"},\"line\":{\"color\":\"white\"}},\"header\":{\"fill\":{\"color\":\"#C8D4E3\"},\"line\":{\"color\":\"white\"}},\"type\":\"table\"}],\"barpolar\":[{\"marker\":{\"line\":{\"color\":\"#E5ECF6\",\"width\":0.5},\"pattern\":{\"fillmode\":\"overlay\",\"size\":10,\"solidity\":0.2}},\"type\":\"barpolar\"}],\"pie\":[{\"automargin\":true,\"type\":\"pie\"}]},\"layout\":{\"autotypenumbers\":\"strict\",\"colorway\":[\"#636efa\",\"#EF553B\",\"#00cc96\",\"#ab63fa\",\"#FFA15A\",\"#19d3f3\",\"#FF6692\",\"#B6E880\",\"#FF97FF\",\"#FECB52\"],\"font\":{\"color\":\"#2a3f5f\"},\"hovermode\":\"closest\",\"hoverlabel\":{\"align\":\"left\"},\"paper_bgcolor\":\"white\",\"plot_bgcolor\":\"#E5ECF6\",\"polar\":{\"bgcolor\":\"#E5ECF6\",\"angularaxis\":{\"gridcolor\":\"white\",\"linecolor\":\"white\",\"ticks\":\"\"},\"radialaxis\":{\"gridcolor\":\"white\",\"linecolor\":\"white\",\"ticks\":\"\"}},\"ternary\":{\"bgcolor\":\"#E5ECF6\",\"aaxis\":{\"gridcolor\":\"white\",\"linecolor\":\"white\",\"ticks\":\"\"},\"baxis\":{\"gridcolor\":\"white\",\"linecolor\":\"white\",\"ticks\":\"\"},\"caxis\":{\"gridcolor\":\"white\",\"linecolor\":\"white\",\"ticks\":\"\"}},\"coloraxis\":{\"colorbar\":{\"outlinewidth\":0,\"ticks\":\"\"}},\"colorscale\":{\"sequential\":[[0.0,\"#0d0887\"],[0.1111111111111111,\"#46039f\"],[0.2222222222222222,\"#7201a8\"],[0.3333333333333333,\"#9c179e\"],[0.4444444444444444,\"#bd3786\"],[0.5555555555555556,\"#d8576b\"],[0.6666666666666666,\"#ed7953\"],[0.7777777777777778,\"#fb9f3a\"],[0.8888888888888888,\"#fdca26\"],[1.0,\"#f0f921\"]],\"sequentialminus\":[[0.0,\"#0d0887\"],[0.1111111111111111,\"#46039f\"],[0.2222222222222222,\"#7201a8\"],[0.3333333333333333,\"#9c179e\"],[0.4444444444444444,\"#bd3786\"],[0.5555555555555556,\"#d8576b\"],[0.6666666666666666,\"#ed7953\"],[0.7777777777777778,\"#fb9f3a\"],[0.8888888888888888,\"#fdca26\"],[1.0,\"#f0f921\"]],\"diverging\":[[0,\"#8e0152\"],[0.1,\"#c51b7d\"],[0.2,\"#de77ae\"],[0.3,\"#f1b6da\"],[0.4,\"#fde0ef\"],[0.5,\"#f7f7f7\"],[0.6,\"#e6f5d0\"],[0.7,\"#b8e186\"],[0.8,\"#7fbc41\"],[0.9,\"#4d9221\"],[1,\"#276419\"]]},\"xaxis\":{\"gridcolor\":\"white\",\"linecolor\":\"white\",\"ticks\":\"\",\"title\":{\"standoff\":15},\"zerolinecolor\":\"white\",\"automargin\":true,\"zerolinewidth\":2},\"yaxis\":{\"gridcolor\":\"white\",\"linecolor\":\"white\",\"ticks\":\"\",\"title\":{\"standoff\":15},\"zerolinecolor\":\"white\",\"automargin\":true,\"zerolinewidth\":2},\"scene\":{\"xaxis\":{\"backgroundcolor\":\"#E5ECF6\",\"gridcolor\":\"white\",\"linecolor\":\"white\",\"showbackground\":true,\"ticks\":\"\",\"zerolinecolor\":\"white\",\"gridwidth\":2},\"yaxis\":{\"backgroundcolor\":\"#E5ECF6\",\"gridcolor\":\"white\",\"linecolor\":\"white\",\"showbackground\":true,\"ticks\":\"\",\"zerolinecolor\":\"white\",\"gridwidth\":2},\"zaxis\":{\"backgroundcolor\":\"#E5ECF6\",\"gridcolor\":\"white\",\"linecolor\":\"white\",\"showbackground\":true,\"ticks\":\"\",\"zerolinecolor\":\"white\",\"gridwidth\":2}},\"shapedefaults\":{\"line\":{\"color\":\"#2a3f5f\"}},\"annotationdefaults\":{\"arrowcolor\":\"#2a3f5f\",\"arrowhead\":0,\"arrowwidth\":1},\"geo\":{\"bgcolor\":\"white\",\"landcolor\":\"#E5ECF6\",\"subunitcolor\":\"white\",\"showland\":true,\"showlakes\":true,\"lakecolor\":\"white\"},\"title\":{\"x\":0.05},\"mapbox\":{\"style\":\"light\"}}},\"xaxis\":{\"anchor\":\"y\",\"domain\":[0.0,1.0],\"title\":{\"text\":\"\\u0421\\u043e\\u0431\\u044b\\u0442\\u0438\\u0435\"},\"categoryorder\":\"total descending\"},\"yaxis\":{\"anchor\":\"x\",\"domain\":[0.0,1.0],\"title\":{\"text\":\"\\u041a\\u043e\\u043b\\u0438\\u0447\\u0435\\u0441\\u0442\\u0432\\u043e\"}},\"legend\":{\"title\":{\"text\":\"group\"},\"tracegroupgap\":0},\"margin\":{\"t\":60},\"barmode\":\"relative\",\"title\":{\"text\":\"\\u041a\\u043e\\u043b\\u0438\\u0447\\u0435\\u0441\\u0442\\u0432\\u043e \\u0441\\u043e\\u0431\\u044b\\u0442\\u0438\\u0439 \\u043f\\u043e \\u044d\\u0442\\u0430\\u043f\\u0430\\u043c \\u0438 \\u043f\\u043e \\u0433\\u0440\\u0443\\u043f\\u043f\\u0430\\u043c\"}},                        {\"responsive\": true}                    ).then(function(){\n",
              "                            \n",
              "var gd = document.getElementById('8e0b050c-4ee2-452c-bf7c-237065063364');\n",
              "var x = new MutationObserver(function (mutations, observer) {{\n",
              "        var display = window.getComputedStyle(gd).display;\n",
              "        if (!display || display === 'none') {{\n",
              "            console.log([gd, 'removed!']);\n",
              "            Plotly.purge(gd);\n",
              "            observer.disconnect();\n",
              "        }}\n",
              "}});\n",
              "\n",
              "// Listen for the removal of the full notebook cells\n",
              "var notebookContainer = gd.closest('#notebook-container');\n",
              "if (notebookContainer) {{\n",
              "    x.observe(notebookContainer, {childList: true});\n",
              "}}\n",
              "\n",
              "// Listen for the clearing of the current output cell\n",
              "var outputEl = gd.closest('.output');\n",
              "if (outputEl) {{\n",
              "    x.observe(outputEl, {childList: true});\n",
              "}}\n",
              "\n",
              "                        })                };                            </script>        </div>\n",
              "</body>\n",
              "</html>"
            ]
          },
          "metadata": {}
        }
      ],
      "source": [
        "# строим график\n",
        "fig = px.histogram(df, x=\"event_name\", color=\"group\", text_auto=True).update_xaxes(categoryorder='total descending')\n",
        "fig.update_layout(title=\"Количество событий по этапам и по группам\",\n",
        "                  xaxis_title=\"Событие\",\n",
        "                  yaxis_title=\"Количество\")\n",
        "\n",
        "fig.show()"
      ]
    },
    {
      "cell_type": "markdown",
      "metadata": {
        "id": "fSJlM1BVdd6J"
      },
      "source": [
        "На всех этапах лидирует группа А. В обеих группах: лидирует событие login. Далее, с резким падением в количестве пользователей, следует событие product page -просмотр карточек товаров. Покупок в группе А больше, чем добалений в корзину, а в группе B немного меньше. Корзина может быть уже, чем покупки, так как есть функция покупки в один клик, без перехода в корзину."
      ]
    },
    {
      "cell_type": "markdown",
      "metadata": {
        "id": "D1_mv9x6WM_-"
      },
      "source": [
        "### Число событий в выборках по дням"
      ]
    },
    {
      "cell_type": "code",
      "execution_count": 47,
      "metadata": {
        "id": "LPTOA4YOBLMa"
      },
      "outputs": [],
      "source": [
        "# добавим отдельный столбец с датой\n",
        "df['date'] = pd.to_datetime(df['event_dt'].dt.date)"
      ]
    },
    {
      "cell_type": "code",
      "execution_count": 48,
      "metadata": {
        "id": "GFM1gweO_60G"
      },
      "outputs": [],
      "source": [
        "# группируем данные по группам и датам\n",
        "dist = df.groupby([ 'group', 'date'])['event_name'].count().reset_index()"
      ]
    },
    {
      "cell_type": "code",
      "execution_count": 49,
      "metadata": {
        "colab": {
          "base_uri": "https://localhost:8080/",
          "height": 542
        },
        "id": "7LvV9pHeHiR2",
        "outputId": "5fa9eee6-bff6-4915-cfd0-d22203e06441"
      },
      "outputs": [
        {
          "output_type": "display_data",
          "data": {
            "text/html": [
              "<html>\n",
              "<head><meta charset=\"utf-8\" /></head>\n",
              "<body>\n",
              "    <div>            <script src=\"https://cdnjs.cloudflare.com/ajax/libs/mathjax/2.7.5/MathJax.js?config=TeX-AMS-MML_SVG\"></script><script type=\"text/javascript\">if (window.MathJax) {MathJax.Hub.Config({SVG: {font: \"STIX-Web\"}});}</script>                <script type=\"text/javascript\">window.PlotlyConfig = {MathJaxConfig: 'local'};</script>\n",
              "        <script src=\"https://cdn.plot.ly/plotly-2.11.1.min.js\"></script>                <div id=\"f6516e2b-39af-40bf-aa68-1a9f2217fe31\" class=\"plotly-graph-div\" style=\"height:525px; width:100%;\"></div>            <script type=\"text/javascript\">                                    window.PLOTLYENV=window.PLOTLYENV || {};                                    if (document.getElementById(\"f6516e2b-39af-40bf-aa68-1a9f2217fe31\")) {                    Plotly.newPlot(                        \"f6516e2b-39af-40bf-aa68-1a9f2217fe31\",                        [{\"alignmentgroup\":\"True\",\"bingroup\":\"x\",\"histfunc\":\"sum\",\"hovertemplate\":\"group=A<br>date=%{x}<br>sum of event_name=%{y}<extra></extra>\",\"legendgroup\":\"A\",\"marker\":{\"color\":\"#636efa\",\"pattern\":{\"shape\":\"\"}},\"name\":\"A\",\"nbinsx\":24,\"offsetgroup\":\"A\",\"orientation\":\"v\",\"showlegend\":true,\"texttemplate\":\"%{value}\",\"x\":[\"2020-12-07T00:00:00\",\"2020-12-08T00:00:00\",\"2020-12-09T00:00:00\",\"2020-12-10T00:00:00\",\"2020-12-11T00:00:00\",\"2020-12-12T00:00:00\",\"2020-12-13T00:00:00\",\"2020-12-14T00:00:00\",\"2020-12-15T00:00:00\",\"2020-12-16T00:00:00\",\"2020-12-17T00:00:00\",\"2020-12-18T00:00:00\",\"2020-12-19T00:00:00\",\"2020-12-20T00:00:00\",\"2020-12-21T00:00:00\",\"2020-12-22T00:00:00\",\"2020-12-23T00:00:00\",\"2020-12-24T00:00:00\",\"2020-12-25T00:00:00\",\"2020-12-26T00:00:00\",\"2020-12-27T00:00:00\",\"2020-12-28T00:00:00\",\"2020-12-29T00:00:00\"],\"xaxis\":\"x\",\"y\":[263,283,331,294,309,319,273,880,915,870,1046,1085,1262,1298,1690,1095,829,708,528,471,451,389,262],\"yaxis\":\"y\",\"type\":\"histogram\"},{\"alignmentgroup\":\"True\",\"bingroup\":\"x\",\"histfunc\":\"sum\",\"hovertemplate\":\"group=B<br>date=%{x}<br>sum of event_name=%{y}<extra></extra>\",\"legendgroup\":\"B\",\"marker\":{\"color\":\"#EF553B\",\"pattern\":{\"shape\":\"\"}},\"name\":\"B\",\"nbinsx\":24,\"offsetgroup\":\"B\",\"orientation\":\"v\",\"showlegend\":true,\"texttemplate\":\"%{value}\",\"x\":[\"2020-12-07T00:00:00\",\"2020-12-08T00:00:00\",\"2020-12-09T00:00:00\",\"2020-12-10T00:00:00\",\"2020-12-11T00:00:00\",\"2020-12-12T00:00:00\",\"2020-12-13T00:00:00\",\"2020-12-14T00:00:00\",\"2020-12-15T00:00:00\",\"2020-12-16T00:00:00\",\"2020-12-17T00:00:00\",\"2020-12-18T00:00:00\",\"2020-12-19T00:00:00\",\"2020-12-20T00:00:00\",\"2020-12-21T00:00:00\",\"2020-12-22T00:00:00\",\"2020-12-23T00:00:00\",\"2020-12-24T00:00:00\",\"2020-12-25T00:00:00\",\"2020-12-26T00:00:00\",\"2020-12-27T00:00:00\",\"2020-12-28T00:00:00\",\"2020-12-29T00:00:00\"],\"xaxis\":\"x\",\"y\":[315,207,289,218,137,169,122,227,187,322,230,224,235,273,358,145,143,103,70,53,62,58,36],\"yaxis\":\"y\",\"type\":\"histogram\"}],                        {\"template\":{\"data\":{\"histogram2dcontour\":[{\"type\":\"histogram2dcontour\",\"colorbar\":{\"outlinewidth\":0,\"ticks\":\"\"},\"colorscale\":[[0.0,\"#0d0887\"],[0.1111111111111111,\"#46039f\"],[0.2222222222222222,\"#7201a8\"],[0.3333333333333333,\"#9c179e\"],[0.4444444444444444,\"#bd3786\"],[0.5555555555555556,\"#d8576b\"],[0.6666666666666666,\"#ed7953\"],[0.7777777777777778,\"#fb9f3a\"],[0.8888888888888888,\"#fdca26\"],[1.0,\"#f0f921\"]]}],\"choropleth\":[{\"type\":\"choropleth\",\"colorbar\":{\"outlinewidth\":0,\"ticks\":\"\"}}],\"histogram2d\":[{\"type\":\"histogram2d\",\"colorbar\":{\"outlinewidth\":0,\"ticks\":\"\"},\"colorscale\":[[0.0,\"#0d0887\"],[0.1111111111111111,\"#46039f\"],[0.2222222222222222,\"#7201a8\"],[0.3333333333333333,\"#9c179e\"],[0.4444444444444444,\"#bd3786\"],[0.5555555555555556,\"#d8576b\"],[0.6666666666666666,\"#ed7953\"],[0.7777777777777778,\"#fb9f3a\"],[0.8888888888888888,\"#fdca26\"],[1.0,\"#f0f921\"]]}],\"heatmap\":[{\"type\":\"heatmap\",\"colorbar\":{\"outlinewidth\":0,\"ticks\":\"\"},\"colorscale\":[[0.0,\"#0d0887\"],[0.1111111111111111,\"#46039f\"],[0.2222222222222222,\"#7201a8\"],[0.3333333333333333,\"#9c179e\"],[0.4444444444444444,\"#bd3786\"],[0.5555555555555556,\"#d8576b\"],[0.6666666666666666,\"#ed7953\"],[0.7777777777777778,\"#fb9f3a\"],[0.8888888888888888,\"#fdca26\"],[1.0,\"#f0f921\"]]}],\"heatmapgl\":[{\"type\":\"heatmapgl\",\"colorbar\":{\"outlinewidth\":0,\"ticks\":\"\"},\"colorscale\":[[0.0,\"#0d0887\"],[0.1111111111111111,\"#46039f\"],[0.2222222222222222,\"#7201a8\"],[0.3333333333333333,\"#9c179e\"],[0.4444444444444444,\"#bd3786\"],[0.5555555555555556,\"#d8576b\"],[0.6666666666666666,\"#ed7953\"],[0.7777777777777778,\"#fb9f3a\"],[0.8888888888888888,\"#fdca26\"],[1.0,\"#f0f921\"]]}],\"contourcarpet\":[{\"type\":\"contourcarpet\",\"colorbar\":{\"outlinewidth\":0,\"ticks\":\"\"}}],\"contour\":[{\"type\":\"contour\",\"colorbar\":{\"outlinewidth\":0,\"ticks\":\"\"},\"colorscale\":[[0.0,\"#0d0887\"],[0.1111111111111111,\"#46039f\"],[0.2222222222222222,\"#7201a8\"],[0.3333333333333333,\"#9c179e\"],[0.4444444444444444,\"#bd3786\"],[0.5555555555555556,\"#d8576b\"],[0.6666666666666666,\"#ed7953\"],[0.7777777777777778,\"#fb9f3a\"],[0.8888888888888888,\"#fdca26\"],[1.0,\"#f0f921\"]]}],\"surface\":[{\"type\":\"surface\",\"colorbar\":{\"outlinewidth\":0,\"ticks\":\"\"},\"colorscale\":[[0.0,\"#0d0887\"],[0.1111111111111111,\"#46039f\"],[0.2222222222222222,\"#7201a8\"],[0.3333333333333333,\"#9c179e\"],[0.4444444444444444,\"#bd3786\"],[0.5555555555555556,\"#d8576b\"],[0.6666666666666666,\"#ed7953\"],[0.7777777777777778,\"#fb9f3a\"],[0.8888888888888888,\"#fdca26\"],[1.0,\"#f0f921\"]]}],\"mesh3d\":[{\"type\":\"mesh3d\",\"colorbar\":{\"outlinewidth\":0,\"ticks\":\"\"}}],\"scatter\":[{\"fillpattern\":{\"fillmode\":\"overlay\",\"size\":10,\"solidity\":0.2},\"type\":\"scatter\"}],\"parcoords\":[{\"type\":\"parcoords\",\"line\":{\"colorbar\":{\"outlinewidth\":0,\"ticks\":\"\"}}}],\"scatterpolargl\":[{\"type\":\"scatterpolargl\",\"marker\":{\"colorbar\":{\"outlinewidth\":0,\"ticks\":\"\"}}}],\"bar\":[{\"error_x\":{\"color\":\"#2a3f5f\"},\"error_y\":{\"color\":\"#2a3f5f\"},\"marker\":{\"line\":{\"color\":\"#E5ECF6\",\"width\":0.5},\"pattern\":{\"fillmode\":\"overlay\",\"size\":10,\"solidity\":0.2}},\"type\":\"bar\"}],\"scattergeo\":[{\"type\":\"scattergeo\",\"marker\":{\"colorbar\":{\"outlinewidth\":0,\"ticks\":\"\"}}}],\"scatterpolar\":[{\"type\":\"scatterpolar\",\"marker\":{\"colorbar\":{\"outlinewidth\":0,\"ticks\":\"\"}}}],\"histogram\":[{\"marker\":{\"pattern\":{\"fillmode\":\"overlay\",\"size\":10,\"solidity\":0.2}},\"type\":\"histogram\"}],\"scattergl\":[{\"type\":\"scattergl\",\"marker\":{\"colorbar\":{\"outlinewidth\":0,\"ticks\":\"\"}}}],\"scatter3d\":[{\"type\":\"scatter3d\",\"line\":{\"colorbar\":{\"outlinewidth\":0,\"ticks\":\"\"}},\"marker\":{\"colorbar\":{\"outlinewidth\":0,\"ticks\":\"\"}}}],\"scattermapbox\":[{\"type\":\"scattermapbox\",\"marker\":{\"colorbar\":{\"outlinewidth\":0,\"ticks\":\"\"}}}],\"scatterternary\":[{\"type\":\"scatterternary\",\"marker\":{\"colorbar\":{\"outlinewidth\":0,\"ticks\":\"\"}}}],\"scattercarpet\":[{\"type\":\"scattercarpet\",\"marker\":{\"colorbar\":{\"outlinewidth\":0,\"ticks\":\"\"}}}],\"carpet\":[{\"aaxis\":{\"endlinecolor\":\"#2a3f5f\",\"gridcolor\":\"white\",\"linecolor\":\"white\",\"minorgridcolor\":\"white\",\"startlinecolor\":\"#2a3f5f\"},\"baxis\":{\"endlinecolor\":\"#2a3f5f\",\"gridcolor\":\"white\",\"linecolor\":\"white\",\"minorgridcolor\":\"white\",\"startlinecolor\":\"#2a3f5f\"},\"type\":\"carpet\"}],\"table\":[{\"cells\":{\"fill\":{\"color\":\"#EBF0F8\"},\"line\":{\"color\":\"white\"}},\"header\":{\"fill\":{\"color\":\"#C8D4E3\"},\"line\":{\"color\":\"white\"}},\"type\":\"table\"}],\"barpolar\":[{\"marker\":{\"line\":{\"color\":\"#E5ECF6\",\"width\":0.5},\"pattern\":{\"fillmode\":\"overlay\",\"size\":10,\"solidity\":0.2}},\"type\":\"barpolar\"}],\"pie\":[{\"automargin\":true,\"type\":\"pie\"}]},\"layout\":{\"autotypenumbers\":\"strict\",\"colorway\":[\"#636efa\",\"#EF553B\",\"#00cc96\",\"#ab63fa\",\"#FFA15A\",\"#19d3f3\",\"#FF6692\",\"#B6E880\",\"#FF97FF\",\"#FECB52\"],\"font\":{\"color\":\"#2a3f5f\"},\"hovermode\":\"closest\",\"hoverlabel\":{\"align\":\"left\"},\"paper_bgcolor\":\"white\",\"plot_bgcolor\":\"#E5ECF6\",\"polar\":{\"bgcolor\":\"#E5ECF6\",\"angularaxis\":{\"gridcolor\":\"white\",\"linecolor\":\"white\",\"ticks\":\"\"},\"radialaxis\":{\"gridcolor\":\"white\",\"linecolor\":\"white\",\"ticks\":\"\"}},\"ternary\":{\"bgcolor\":\"#E5ECF6\",\"aaxis\":{\"gridcolor\":\"white\",\"linecolor\":\"white\",\"ticks\":\"\"},\"baxis\":{\"gridcolor\":\"white\",\"linecolor\":\"white\",\"ticks\":\"\"},\"caxis\":{\"gridcolor\":\"white\",\"linecolor\":\"white\",\"ticks\":\"\"}},\"coloraxis\":{\"colorbar\":{\"outlinewidth\":0,\"ticks\":\"\"}},\"colorscale\":{\"sequential\":[[0.0,\"#0d0887\"],[0.1111111111111111,\"#46039f\"],[0.2222222222222222,\"#7201a8\"],[0.3333333333333333,\"#9c179e\"],[0.4444444444444444,\"#bd3786\"],[0.5555555555555556,\"#d8576b\"],[0.6666666666666666,\"#ed7953\"],[0.7777777777777778,\"#fb9f3a\"],[0.8888888888888888,\"#fdca26\"],[1.0,\"#f0f921\"]],\"sequentialminus\":[[0.0,\"#0d0887\"],[0.1111111111111111,\"#46039f\"],[0.2222222222222222,\"#7201a8\"],[0.3333333333333333,\"#9c179e\"],[0.4444444444444444,\"#bd3786\"],[0.5555555555555556,\"#d8576b\"],[0.6666666666666666,\"#ed7953\"],[0.7777777777777778,\"#fb9f3a\"],[0.8888888888888888,\"#fdca26\"],[1.0,\"#f0f921\"]],\"diverging\":[[0,\"#8e0152\"],[0.1,\"#c51b7d\"],[0.2,\"#de77ae\"],[0.3,\"#f1b6da\"],[0.4,\"#fde0ef\"],[0.5,\"#f7f7f7\"],[0.6,\"#e6f5d0\"],[0.7,\"#b8e186\"],[0.8,\"#7fbc41\"],[0.9,\"#4d9221\"],[1,\"#276419\"]]},\"xaxis\":{\"gridcolor\":\"white\",\"linecolor\":\"white\",\"ticks\":\"\",\"title\":{\"standoff\":15},\"zerolinecolor\":\"white\",\"automargin\":true,\"zerolinewidth\":2},\"yaxis\":{\"gridcolor\":\"white\",\"linecolor\":\"white\",\"ticks\":\"\",\"title\":{\"standoff\":15},\"zerolinecolor\":\"white\",\"automargin\":true,\"zerolinewidth\":2},\"scene\":{\"xaxis\":{\"backgroundcolor\":\"#E5ECF6\",\"gridcolor\":\"white\",\"linecolor\":\"white\",\"showbackground\":true,\"ticks\":\"\",\"zerolinecolor\":\"white\",\"gridwidth\":2},\"yaxis\":{\"backgroundcolor\":\"#E5ECF6\",\"gridcolor\":\"white\",\"linecolor\":\"white\",\"showbackground\":true,\"ticks\":\"\",\"zerolinecolor\":\"white\",\"gridwidth\":2},\"zaxis\":{\"backgroundcolor\":\"#E5ECF6\",\"gridcolor\":\"white\",\"linecolor\":\"white\",\"showbackground\":true,\"ticks\":\"\",\"zerolinecolor\":\"white\",\"gridwidth\":2}},\"shapedefaults\":{\"line\":{\"color\":\"#2a3f5f\"}},\"annotationdefaults\":{\"arrowcolor\":\"#2a3f5f\",\"arrowhead\":0,\"arrowwidth\":1},\"geo\":{\"bgcolor\":\"white\",\"landcolor\":\"#E5ECF6\",\"subunitcolor\":\"white\",\"showland\":true,\"showlakes\":true,\"lakecolor\":\"white\"},\"title\":{\"x\":0.05},\"mapbox\":{\"style\":\"light\"}}},\"xaxis\":{\"anchor\":\"y\",\"domain\":[0.0,1.0],\"title\":{\"text\":\"\\u0414\\u0430\\u0442\\u0430\"}},\"yaxis\":{\"anchor\":\"x\",\"domain\":[0.0,1.0],\"title\":{\"text\":\"\\u041a\\u043e\\u043b\\u0438\\u0447\\u0435\\u0441\\u0442\\u0432\\u043e \\u0441\\u043e\\u0431\\u044b\\u0442\\u0438\\u0439\"}},\"legend\":{\"title\":{\"text\":\"group\"},\"tracegroupgap\":0},\"margin\":{\"t\":60},\"barmode\":\"group\",\"title\":{\"text\":\"\\u0420\\u0430\\u0441\\u043f\\u0440\\u0435\\u0434\\u0435\\u043b\\u0435\\u043d\\u0438\\u0435 \\u0441\\u043e\\u0431\\u044b\\u0442\\u0438\\u0439 \\u0432 \\u0432\\u044b\\u0431\\u043e\\u0440\\u043a\\u0430\\u0445 \\u043f\\u043e \\u0434\\u043d\\u044f\\u043c\"}},                        {\"responsive\": true}                    ).then(function(){\n",
              "                            \n",
              "var gd = document.getElementById('f6516e2b-39af-40bf-aa68-1a9f2217fe31');\n",
              "var x = new MutationObserver(function (mutations, observer) {{\n",
              "        var display = window.getComputedStyle(gd).display;\n",
              "        if (!display || display === 'none') {{\n",
              "            console.log([gd, 'removed!']);\n",
              "            Plotly.purge(gd);\n",
              "            observer.disconnect();\n",
              "        }}\n",
              "}});\n",
              "\n",
              "// Listen for the removal of the full notebook cells\n",
              "var notebookContainer = gd.closest('#notebook-container');\n",
              "if (notebookContainer) {{\n",
              "    x.observe(notebookContainer, {childList: true});\n",
              "}}\n",
              "\n",
              "// Listen for the clearing of the current output cell\n",
              "var outputEl = gd.closest('.output');\n",
              "if (outputEl) {{\n",
              "    x.observe(outputEl, {childList: true});\n",
              "}}\n",
              "\n",
              "                        })                };                            </script>        </div>\n",
              "</body>\n",
              "</html>"
            ]
          },
          "metadata": {}
        }
      ],
      "source": [
        "# строим график\n",
        "fig = px.histogram(dist, x=\"date\", y=\"event_name\",\n",
        "             color='group', barmode='group',text_auto=True, nbins=24)\n",
        "fig.update_layout(title=\"Распределение событий в выборках по дням\",\n",
        "                  xaxis_title=\"Дата\",\n",
        "                  yaxis_title=\"Количество событий\")\n",
        "fig.show()"
      ]
    },
    {
      "cell_type": "markdown",
      "metadata": {
        "id": "KXMoQWpNbV9W"
      },
      "source": [
        "До 14 декабря события распределялись между группами довольно равномерно. Однако, 14 декабря в группе А произошел резкий скачок.\n",
        "Далее в группе А количество событий стремительно растет. Пик 21 декабря может быть обусловлен тем, что это последня дата набора в тест, то есть на эту дату приходится ниабольшее количество пользователей. Далее набор пользователей был остановлен (причем раньше времени), и количество событий стало снижаться. Между группами А и В прослеживается существенная разница, что, скорее всего, обусловлено тем, что распределение пользователей по группам неравномерно. Возможно также, что произошла какая-то техническая ошибка"
      ]
    },
    {
      "cell_type": "code",
      "execution_count": 50,
      "metadata": {
        "id": "zaf21dDtXaH9"
      },
      "outputs": [],
      "source": [
        "# кол-во пользователей по группам и событиям\n",
        "fnl_group = (df\n",
        "             .pivot_table(index='event_name', columns='group', values='user_id', aggfunc='nunique')\n",
        "             .reset_index()\n",
        "             .reindex([0, 2, 1, 3])\n",
        ")"
      ]
    },
    {
      "cell_type": "code",
      "execution_count": 51,
      "metadata": {
        "colab": {
          "base_uri": "https://localhost:8080/",
          "height": 175
        },
        "id": "RjUZnQNpfgk5",
        "outputId": "6739bd2b-9304-4551-9bdf-a6738af0a3d2"
      },
      "outputs": [
        {
          "output_type": "execute_result",
          "data": {
            "text/plain": [
              "group    event_name     A    B\n",
              "0             login  2279  770\n",
              "2      product_page  1476  429\n",
              "1      product_cart   686  214\n",
              "3          purchase   734  219"
            ],
            "text/html": [
              "\n",
              "  <div id=\"df-432c6ea0-e522-48b9-b307-98dec6c88021\" class=\"colab-df-container\">\n",
              "    <div>\n",
              "<style scoped>\n",
              "    .dataframe tbody tr th:only-of-type {\n",
              "        vertical-align: middle;\n",
              "    }\n",
              "\n",
              "    .dataframe tbody tr th {\n",
              "        vertical-align: top;\n",
              "    }\n",
              "\n",
              "    .dataframe thead th {\n",
              "        text-align: right;\n",
              "    }\n",
              "</style>\n",
              "<table border=\"1\" class=\"dataframe\">\n",
              "  <thead>\n",
              "    <tr style=\"text-align: right;\">\n",
              "      <th>group</th>\n",
              "      <th>event_name</th>\n",
              "      <th>A</th>\n",
              "      <th>B</th>\n",
              "    </tr>\n",
              "  </thead>\n",
              "  <tbody>\n",
              "    <tr>\n",
              "      <th>0</th>\n",
              "      <td>login</td>\n",
              "      <td>2279</td>\n",
              "      <td>770</td>\n",
              "    </tr>\n",
              "    <tr>\n",
              "      <th>2</th>\n",
              "      <td>product_page</td>\n",
              "      <td>1476</td>\n",
              "      <td>429</td>\n",
              "    </tr>\n",
              "    <tr>\n",
              "      <th>1</th>\n",
              "      <td>product_cart</td>\n",
              "      <td>686</td>\n",
              "      <td>214</td>\n",
              "    </tr>\n",
              "    <tr>\n",
              "      <th>3</th>\n",
              "      <td>purchase</td>\n",
              "      <td>734</td>\n",
              "      <td>219</td>\n",
              "    </tr>\n",
              "  </tbody>\n",
              "</table>\n",
              "</div>\n",
              "    <div class=\"colab-df-buttons\">\n",
              "\n",
              "  <div class=\"colab-df-container\">\n",
              "    <button class=\"colab-df-convert\" onclick=\"convertToInteractive('df-432c6ea0-e522-48b9-b307-98dec6c88021')\"\n",
              "            title=\"Convert this dataframe to an interactive table.\"\n",
              "            style=\"display:none;\">\n",
              "\n",
              "  <svg xmlns=\"http://www.w3.org/2000/svg\" height=\"24px\" viewBox=\"0 -960 960 960\">\n",
              "    <path d=\"M120-120v-720h720v720H120Zm60-500h600v-160H180v160Zm220 220h160v-160H400v160Zm0 220h160v-160H400v160ZM180-400h160v-160H180v160Zm440 0h160v-160H620v160ZM180-180h160v-160H180v160Zm440 0h160v-160H620v160Z\"/>\n",
              "  </svg>\n",
              "    </button>\n",
              "\n",
              "  <style>\n",
              "    .colab-df-container {\n",
              "      display:flex;\n",
              "      gap: 12px;\n",
              "    }\n",
              "\n",
              "    .colab-df-convert {\n",
              "      background-color: #E8F0FE;\n",
              "      border: none;\n",
              "      border-radius: 50%;\n",
              "      cursor: pointer;\n",
              "      display: none;\n",
              "      fill: #1967D2;\n",
              "      height: 32px;\n",
              "      padding: 0 0 0 0;\n",
              "      width: 32px;\n",
              "    }\n",
              "\n",
              "    .colab-df-convert:hover {\n",
              "      background-color: #E2EBFA;\n",
              "      box-shadow: 0px 1px 2px rgba(60, 64, 67, 0.3), 0px 1px 3px 1px rgba(60, 64, 67, 0.15);\n",
              "      fill: #174EA6;\n",
              "    }\n",
              "\n",
              "    .colab-df-buttons div {\n",
              "      margin-bottom: 4px;\n",
              "    }\n",
              "\n",
              "    [theme=dark] .colab-df-convert {\n",
              "      background-color: #3B4455;\n",
              "      fill: #D2E3FC;\n",
              "    }\n",
              "\n",
              "    [theme=dark] .colab-df-convert:hover {\n",
              "      background-color: #434B5C;\n",
              "      box-shadow: 0px 1px 3px 1px rgba(0, 0, 0, 0.15);\n",
              "      filter: drop-shadow(0px 1px 2px rgba(0, 0, 0, 0.3));\n",
              "      fill: #FFFFFF;\n",
              "    }\n",
              "  </style>\n",
              "\n",
              "    <script>\n",
              "      const buttonEl =\n",
              "        document.querySelector('#df-432c6ea0-e522-48b9-b307-98dec6c88021 button.colab-df-convert');\n",
              "      buttonEl.style.display =\n",
              "        google.colab.kernel.accessAllowed ? 'block' : 'none';\n",
              "\n",
              "      async function convertToInteractive(key) {\n",
              "        const element = document.querySelector('#df-432c6ea0-e522-48b9-b307-98dec6c88021');\n",
              "        const dataTable =\n",
              "          await google.colab.kernel.invokeFunction('convertToInteractive',\n",
              "                                                    [key], {});\n",
              "        if (!dataTable) return;\n",
              "\n",
              "        const docLinkHtml = 'Like what you see? Visit the ' +\n",
              "          '<a target=\"_blank\" href=https://colab.research.google.com/notebooks/data_table.ipynb>data table notebook</a>'\n",
              "          + ' to learn more about interactive tables.';\n",
              "        element.innerHTML = '';\n",
              "        dataTable['output_type'] = 'display_data';\n",
              "        await google.colab.output.renderOutput(dataTable, element);\n",
              "        const docLink = document.createElement('div');\n",
              "        docLink.innerHTML = docLinkHtml;\n",
              "        element.appendChild(docLink);\n",
              "      }\n",
              "    </script>\n",
              "  </div>\n",
              "\n",
              "\n",
              "<div id=\"df-5bb4cff3-d71c-449e-9b66-f47dc9270661\">\n",
              "  <button class=\"colab-df-quickchart\" onclick=\"quickchart('df-5bb4cff3-d71c-449e-9b66-f47dc9270661')\"\n",
              "            title=\"Suggest charts.\"\n",
              "            style=\"display:none;\">\n",
              "\n",
              "<svg xmlns=\"http://www.w3.org/2000/svg\" height=\"24px\"viewBox=\"0 0 24 24\"\n",
              "     width=\"24px\">\n",
              "    <g>\n",
              "        <path d=\"M19 3H5c-1.1 0-2 .9-2 2v14c0 1.1.9 2 2 2h14c1.1 0 2-.9 2-2V5c0-1.1-.9-2-2-2zM9 17H7v-7h2v7zm4 0h-2V7h2v10zm4 0h-2v-4h2v4z\"/>\n",
              "    </g>\n",
              "</svg>\n",
              "  </button>\n",
              "\n",
              "<style>\n",
              "  .colab-df-quickchart {\n",
              "    background-color: #E8F0FE;\n",
              "    border: none;\n",
              "    border-radius: 50%;\n",
              "    cursor: pointer;\n",
              "    display: none;\n",
              "    fill: #1967D2;\n",
              "    height: 32px;\n",
              "    padding: 0 0 0 0;\n",
              "    width: 32px;\n",
              "  }\n",
              "\n",
              "  .colab-df-quickchart:hover {\n",
              "    background-color: #E2EBFA;\n",
              "    box-shadow: 0px 1px 2px rgba(60, 64, 67, 0.3), 0px 1px 3px 1px rgba(60, 64, 67, 0.15);\n",
              "    fill: #174EA6;\n",
              "  }\n",
              "\n",
              "  [theme=dark] .colab-df-quickchart {\n",
              "    background-color: #3B4455;\n",
              "    fill: #D2E3FC;\n",
              "  }\n",
              "\n",
              "  [theme=dark] .colab-df-quickchart:hover {\n",
              "    background-color: #434B5C;\n",
              "    box-shadow: 0px 1px 3px 1px rgba(0, 0, 0, 0.15);\n",
              "    filter: drop-shadow(0px 1px 2px rgba(0, 0, 0, 0.3));\n",
              "    fill: #FFFFFF;\n",
              "  }\n",
              "</style>\n",
              "\n",
              "  <script>\n",
              "    async function quickchart(key) {\n",
              "      const charts = await google.colab.kernel.invokeFunction(\n",
              "          'suggestCharts', [key], {});\n",
              "    }\n",
              "    (() => {\n",
              "      let quickchartButtonEl =\n",
              "        document.querySelector('#df-5bb4cff3-d71c-449e-9b66-f47dc9270661 button');\n",
              "      quickchartButtonEl.style.display =\n",
              "        google.colab.kernel.accessAllowed ? 'block' : 'none';\n",
              "    })();\n",
              "  </script>\n",
              "</div>\n",
              "    </div>\n",
              "  </div>\n"
            ]
          },
          "metadata": {},
          "execution_count": 51
        }
      ],
      "source": [
        "fnl_group"
      ]
    },
    {
      "cell_type": "code",
      "execution_count": 52,
      "metadata": {
        "colab": {
          "base_uri": "https://localhost:8080/",
          "height": 542
        },
        "id": "uJhqDWeAvks1",
        "outputId": "820a7182-e09e-4e9c-cfe6-747ee1c70b93"
      },
      "outputs": [
        {
          "output_type": "display_data",
          "data": {
            "text/html": [
              "<html>\n",
              "<head><meta charset=\"utf-8\" /></head>\n",
              "<body>\n",
              "    <div>            <script src=\"https://cdnjs.cloudflare.com/ajax/libs/mathjax/2.7.5/MathJax.js?config=TeX-AMS-MML_SVG\"></script><script type=\"text/javascript\">if (window.MathJax) {MathJax.Hub.Config({SVG: {font: \"STIX-Web\"}});}</script>                <script type=\"text/javascript\">window.PlotlyConfig = {MathJaxConfig: 'local'};</script>\n",
              "        <script src=\"https://cdn.plot.ly/plotly-2.11.1.min.js\"></script>                <div id=\"00c3ec54-88ec-40d2-aaa2-7d2c434b754a\" class=\"plotly-graph-div\" style=\"height:525px; width:100%;\"></div>            <script type=\"text/javascript\">                                    window.PLOTLYENV=window.PLOTLYENV || {};                                    if (document.getElementById(\"00c3ec54-88ec-40d2-aaa2-7d2c434b754a\")) {                    Plotly.newPlot(                        \"00c3ec54-88ec-40d2-aaa2-7d2c434b754a\",                        [{\"name\":\"Group A\",\"textinfo\":\"value+percent previous\",\"x\":[2279,1476,686,734],\"y\":[\"login\",\"product_page\",\"product_cart\",\"purchase\"],\"type\":\"funnel\"},{\"name\":\"Group B\",\"orientation\":\"h\",\"textinfo\":\"value+percent previous\",\"textposition\":\"inside\",\"x\":[770,429,214,219],\"y\":[\"login\",\"product_page\",\"product_cart\",\"purchase\"],\"type\":\"funnel\"}],                        {\"template\":{\"data\":{\"histogram2dcontour\":[{\"type\":\"histogram2dcontour\",\"colorbar\":{\"outlinewidth\":0,\"ticks\":\"\"},\"colorscale\":[[0.0,\"#0d0887\"],[0.1111111111111111,\"#46039f\"],[0.2222222222222222,\"#7201a8\"],[0.3333333333333333,\"#9c179e\"],[0.4444444444444444,\"#bd3786\"],[0.5555555555555556,\"#d8576b\"],[0.6666666666666666,\"#ed7953\"],[0.7777777777777778,\"#fb9f3a\"],[0.8888888888888888,\"#fdca26\"],[1.0,\"#f0f921\"]]}],\"choropleth\":[{\"type\":\"choropleth\",\"colorbar\":{\"outlinewidth\":0,\"ticks\":\"\"}}],\"histogram2d\":[{\"type\":\"histogram2d\",\"colorbar\":{\"outlinewidth\":0,\"ticks\":\"\"},\"colorscale\":[[0.0,\"#0d0887\"],[0.1111111111111111,\"#46039f\"],[0.2222222222222222,\"#7201a8\"],[0.3333333333333333,\"#9c179e\"],[0.4444444444444444,\"#bd3786\"],[0.5555555555555556,\"#d8576b\"],[0.6666666666666666,\"#ed7953\"],[0.7777777777777778,\"#fb9f3a\"],[0.8888888888888888,\"#fdca26\"],[1.0,\"#f0f921\"]]}],\"heatmap\":[{\"type\":\"heatmap\",\"colorbar\":{\"outlinewidth\":0,\"ticks\":\"\"},\"colorscale\":[[0.0,\"#0d0887\"],[0.1111111111111111,\"#46039f\"],[0.2222222222222222,\"#7201a8\"],[0.3333333333333333,\"#9c179e\"],[0.4444444444444444,\"#bd3786\"],[0.5555555555555556,\"#d8576b\"],[0.6666666666666666,\"#ed7953\"],[0.7777777777777778,\"#fb9f3a\"],[0.8888888888888888,\"#fdca26\"],[1.0,\"#f0f921\"]]}],\"heatmapgl\":[{\"type\":\"heatmapgl\",\"colorbar\":{\"outlinewidth\":0,\"ticks\":\"\"},\"colorscale\":[[0.0,\"#0d0887\"],[0.1111111111111111,\"#46039f\"],[0.2222222222222222,\"#7201a8\"],[0.3333333333333333,\"#9c179e\"],[0.4444444444444444,\"#bd3786\"],[0.5555555555555556,\"#d8576b\"],[0.6666666666666666,\"#ed7953\"],[0.7777777777777778,\"#fb9f3a\"],[0.8888888888888888,\"#fdca26\"],[1.0,\"#f0f921\"]]}],\"contourcarpet\":[{\"type\":\"contourcarpet\",\"colorbar\":{\"outlinewidth\":0,\"ticks\":\"\"}}],\"contour\":[{\"type\":\"contour\",\"colorbar\":{\"outlinewidth\":0,\"ticks\":\"\"},\"colorscale\":[[0.0,\"#0d0887\"],[0.1111111111111111,\"#46039f\"],[0.2222222222222222,\"#7201a8\"],[0.3333333333333333,\"#9c179e\"],[0.4444444444444444,\"#bd3786\"],[0.5555555555555556,\"#d8576b\"],[0.6666666666666666,\"#ed7953\"],[0.7777777777777778,\"#fb9f3a\"],[0.8888888888888888,\"#fdca26\"],[1.0,\"#f0f921\"]]}],\"surface\":[{\"type\":\"surface\",\"colorbar\":{\"outlinewidth\":0,\"ticks\":\"\"},\"colorscale\":[[0.0,\"#0d0887\"],[0.1111111111111111,\"#46039f\"],[0.2222222222222222,\"#7201a8\"],[0.3333333333333333,\"#9c179e\"],[0.4444444444444444,\"#bd3786\"],[0.5555555555555556,\"#d8576b\"],[0.6666666666666666,\"#ed7953\"],[0.7777777777777778,\"#fb9f3a\"],[0.8888888888888888,\"#fdca26\"],[1.0,\"#f0f921\"]]}],\"mesh3d\":[{\"type\":\"mesh3d\",\"colorbar\":{\"outlinewidth\":0,\"ticks\":\"\"}}],\"scatter\":[{\"fillpattern\":{\"fillmode\":\"overlay\",\"size\":10,\"solidity\":0.2},\"type\":\"scatter\"}],\"parcoords\":[{\"type\":\"parcoords\",\"line\":{\"colorbar\":{\"outlinewidth\":0,\"ticks\":\"\"}}}],\"scatterpolargl\":[{\"type\":\"scatterpolargl\",\"marker\":{\"colorbar\":{\"outlinewidth\":0,\"ticks\":\"\"}}}],\"bar\":[{\"error_x\":{\"color\":\"#2a3f5f\"},\"error_y\":{\"color\":\"#2a3f5f\"},\"marker\":{\"line\":{\"color\":\"#E5ECF6\",\"width\":0.5},\"pattern\":{\"fillmode\":\"overlay\",\"size\":10,\"solidity\":0.2}},\"type\":\"bar\"}],\"scattergeo\":[{\"type\":\"scattergeo\",\"marker\":{\"colorbar\":{\"outlinewidth\":0,\"ticks\":\"\"}}}],\"scatterpolar\":[{\"type\":\"scatterpolar\",\"marker\":{\"colorbar\":{\"outlinewidth\":0,\"ticks\":\"\"}}}],\"histogram\":[{\"marker\":{\"pattern\":{\"fillmode\":\"overlay\",\"size\":10,\"solidity\":0.2}},\"type\":\"histogram\"}],\"scattergl\":[{\"type\":\"scattergl\",\"marker\":{\"colorbar\":{\"outlinewidth\":0,\"ticks\":\"\"}}}],\"scatter3d\":[{\"type\":\"scatter3d\",\"line\":{\"colorbar\":{\"outlinewidth\":0,\"ticks\":\"\"}},\"marker\":{\"colorbar\":{\"outlinewidth\":0,\"ticks\":\"\"}}}],\"scattermapbox\":[{\"type\":\"scattermapbox\",\"marker\":{\"colorbar\":{\"outlinewidth\":0,\"ticks\":\"\"}}}],\"scatterternary\":[{\"type\":\"scatterternary\",\"marker\":{\"colorbar\":{\"outlinewidth\":0,\"ticks\":\"\"}}}],\"scattercarpet\":[{\"type\":\"scattercarpet\",\"marker\":{\"colorbar\":{\"outlinewidth\":0,\"ticks\":\"\"}}}],\"carpet\":[{\"aaxis\":{\"endlinecolor\":\"#2a3f5f\",\"gridcolor\":\"white\",\"linecolor\":\"white\",\"minorgridcolor\":\"white\",\"startlinecolor\":\"#2a3f5f\"},\"baxis\":{\"endlinecolor\":\"#2a3f5f\",\"gridcolor\":\"white\",\"linecolor\":\"white\",\"minorgridcolor\":\"white\",\"startlinecolor\":\"#2a3f5f\"},\"type\":\"carpet\"}],\"table\":[{\"cells\":{\"fill\":{\"color\":\"#EBF0F8\"},\"line\":{\"color\":\"white\"}},\"header\":{\"fill\":{\"color\":\"#C8D4E3\"},\"line\":{\"color\":\"white\"}},\"type\":\"table\"}],\"barpolar\":[{\"marker\":{\"line\":{\"color\":\"#E5ECF6\",\"width\":0.5},\"pattern\":{\"fillmode\":\"overlay\",\"size\":10,\"solidity\":0.2}},\"type\":\"barpolar\"}],\"pie\":[{\"automargin\":true,\"type\":\"pie\"}]},\"layout\":{\"autotypenumbers\":\"strict\",\"colorway\":[\"#636efa\",\"#EF553B\",\"#00cc96\",\"#ab63fa\",\"#FFA15A\",\"#19d3f3\",\"#FF6692\",\"#B6E880\",\"#FF97FF\",\"#FECB52\"],\"font\":{\"color\":\"#2a3f5f\"},\"hovermode\":\"closest\",\"hoverlabel\":{\"align\":\"left\"},\"paper_bgcolor\":\"white\",\"plot_bgcolor\":\"#E5ECF6\",\"polar\":{\"bgcolor\":\"#E5ECF6\",\"angularaxis\":{\"gridcolor\":\"white\",\"linecolor\":\"white\",\"ticks\":\"\"},\"radialaxis\":{\"gridcolor\":\"white\",\"linecolor\":\"white\",\"ticks\":\"\"}},\"ternary\":{\"bgcolor\":\"#E5ECF6\",\"aaxis\":{\"gridcolor\":\"white\",\"linecolor\":\"white\",\"ticks\":\"\"},\"baxis\":{\"gridcolor\":\"white\",\"linecolor\":\"white\",\"ticks\":\"\"},\"caxis\":{\"gridcolor\":\"white\",\"linecolor\":\"white\",\"ticks\":\"\"}},\"coloraxis\":{\"colorbar\":{\"outlinewidth\":0,\"ticks\":\"\"}},\"colorscale\":{\"sequential\":[[0.0,\"#0d0887\"],[0.1111111111111111,\"#46039f\"],[0.2222222222222222,\"#7201a8\"],[0.3333333333333333,\"#9c179e\"],[0.4444444444444444,\"#bd3786\"],[0.5555555555555556,\"#d8576b\"],[0.6666666666666666,\"#ed7953\"],[0.7777777777777778,\"#fb9f3a\"],[0.8888888888888888,\"#fdca26\"],[1.0,\"#f0f921\"]],\"sequentialminus\":[[0.0,\"#0d0887\"],[0.1111111111111111,\"#46039f\"],[0.2222222222222222,\"#7201a8\"],[0.3333333333333333,\"#9c179e\"],[0.4444444444444444,\"#bd3786\"],[0.5555555555555556,\"#d8576b\"],[0.6666666666666666,\"#ed7953\"],[0.7777777777777778,\"#fb9f3a\"],[0.8888888888888888,\"#fdca26\"],[1.0,\"#f0f921\"]],\"diverging\":[[0,\"#8e0152\"],[0.1,\"#c51b7d\"],[0.2,\"#de77ae\"],[0.3,\"#f1b6da\"],[0.4,\"#fde0ef\"],[0.5,\"#f7f7f7\"],[0.6,\"#e6f5d0\"],[0.7,\"#b8e186\"],[0.8,\"#7fbc41\"],[0.9,\"#4d9221\"],[1,\"#276419\"]]},\"xaxis\":{\"gridcolor\":\"white\",\"linecolor\":\"white\",\"ticks\":\"\",\"title\":{\"standoff\":15},\"zerolinecolor\":\"white\",\"automargin\":true,\"zerolinewidth\":2},\"yaxis\":{\"gridcolor\":\"white\",\"linecolor\":\"white\",\"ticks\":\"\",\"title\":{\"standoff\":15},\"zerolinecolor\":\"white\",\"automargin\":true,\"zerolinewidth\":2},\"scene\":{\"xaxis\":{\"backgroundcolor\":\"#E5ECF6\",\"gridcolor\":\"white\",\"linecolor\":\"white\",\"showbackground\":true,\"ticks\":\"\",\"zerolinecolor\":\"white\",\"gridwidth\":2},\"yaxis\":{\"backgroundcolor\":\"#E5ECF6\",\"gridcolor\":\"white\",\"linecolor\":\"white\",\"showbackground\":true,\"ticks\":\"\",\"zerolinecolor\":\"white\",\"gridwidth\":2},\"zaxis\":{\"backgroundcolor\":\"#E5ECF6\",\"gridcolor\":\"white\",\"linecolor\":\"white\",\"showbackground\":true,\"ticks\":\"\",\"zerolinecolor\":\"white\",\"gridwidth\":2}},\"shapedefaults\":{\"line\":{\"color\":\"#2a3f5f\"}},\"annotationdefaults\":{\"arrowcolor\":\"#2a3f5f\",\"arrowhead\":0,\"arrowwidth\":1},\"geo\":{\"bgcolor\":\"white\",\"landcolor\":\"#E5ECF6\",\"subunitcolor\":\"white\",\"showland\":true,\"showlakes\":true,\"lakecolor\":\"white\"},\"title\":{\"x\":0.05},\"mapbox\":{\"style\":\"light\"}}},\"title\":{\"text\":\"\\u0412\\u043e\\u0440\\u043e\\u043d\\u043a\\u0430 \\u0441\\u043e\\u0431\\u044b\\u0442\\u0438\\u0439 \\u043f\\u043e \\u0442\\u0435\\u0441\\u0442\\u043e\\u0432\\u044b\\u043c \\u0433\\u0440\\u0443\\u043f\\u043f\\u0430\\u043c\"}},                        {\"responsive\": true}                    ).then(function(){\n",
              "                            \n",
              "var gd = document.getElementById('00c3ec54-88ec-40d2-aaa2-7d2c434b754a');\n",
              "var x = new MutationObserver(function (mutations, observer) {{\n",
              "        var display = window.getComputedStyle(gd).display;\n",
              "        if (!display || display === 'none') {{\n",
              "            console.log([gd, 'removed!']);\n",
              "            Plotly.purge(gd);\n",
              "            observer.disconnect();\n",
              "        }}\n",
              "}});\n",
              "\n",
              "// Listen for the removal of the full notebook cells\n",
              "var notebookContainer = gd.closest('#notebook-container');\n",
              "if (notebookContainer) {{\n",
              "    x.observe(notebookContainer, {childList: true});\n",
              "}}\n",
              "\n",
              "// Listen for the clearing of the current output cell\n",
              "var outputEl = gd.closest('.output');\n",
              "if (outputEl) {{\n",
              "    x.observe(outputEl, {childList: true});\n",
              "}}\n",
              "\n",
              "                        })                };                            </script>        </div>\n",
              "</body>\n",
              "</html>"
            ]
          },
          "metadata": {}
        }
      ],
      "source": [
        "# строим воронку событий по группам\n",
        "fig = go.Figure()\n",
        "\n",
        "fig.add_trace(go.Funnel(\n",
        "    name = 'Group A',\n",
        "    y = fnl_group['event_name'],\n",
        "    x = fnl_group['A'],\n",
        "    textinfo = \"value + percent previous\"))\n",
        "\n",
        "fig.add_trace(go.Funnel(\n",
        "    name = 'Group B',\n",
        "    orientation = \"h\",\n",
        "    y = fnl_group['event_name'],\n",
        "    x = fnl_group['B'],\n",
        "    textposition = \"inside\",\n",
        "    textinfo = \"value+percent previous\"))\n",
        "\n",
        "\n",
        "\n",
        "fig.update_layout(title_text='Воронка событий по тестовым группам')\n",
        "fig.show()"
      ]
    },
    {
      "cell_type": "markdown",
      "source": [
        "По воронке можно отметить нюанс: \"покупок\" больше, чем \"корзин\". Это может говорить о том, что на платформе нестрогая воронка продаж, и можно приобрести продукт, минуя некоторые этапы"
      ],
      "metadata": {
        "id": "NFK0ZtOrJa79"
      }
    },
    {
      "cell_type": "markdown",
      "metadata": {
        "id": "cXR8FNMWZqLW"
      },
      "source": [
        "Как видим, улучшения конверсии в группе В по сравнению с группой А нет. Планируемый результат не достигнут\n",
        "\n"
      ]
    },
    {
      "cell_type": "markdown",
      "metadata": {
        "id": "zNc2AXIshGHF"
      },
      "source": [
        "Распределение пользователей по группам изначально неравномерно. Динамика событий в группе А сильно отличается от группы В. Ожидаемое увеличение конверсии на 10% после изменения рекомендательной системы не наблюдается."
      ]
    },
    {
      "cell_type": "code",
      "execution_count": 53,
      "metadata": {
        "colab": {
          "base_uri": "https://localhost:8080/",
          "height": 175
        },
        "id": "dPXJRPR-ZbQY",
        "outputId": "7acf7459-2fca-4926-8844-d8b21abb37b9"
      },
      "outputs": [
        {
          "output_type": "execute_result",
          "data": {
            "text/plain": [
              "group   device     A    B  share_a  share_b\n",
              "0      Android  1003  360     0.44     0.47\n",
              "1          Mac   211   67     0.09     0.09\n",
              "2           PC   593  185     0.26     0.24\n",
              "3       iPhone   472  159     0.21     0.21"
            ],
            "text/html": [
              "\n",
              "  <div id=\"df-9027c90f-7bc5-4adf-8e63-68632b5cb4fb\" class=\"colab-df-container\">\n",
              "    <div>\n",
              "<style scoped>\n",
              "    .dataframe tbody tr th:only-of-type {\n",
              "        vertical-align: middle;\n",
              "    }\n",
              "\n",
              "    .dataframe tbody tr th {\n",
              "        vertical-align: top;\n",
              "    }\n",
              "\n",
              "    .dataframe thead th {\n",
              "        text-align: right;\n",
              "    }\n",
              "</style>\n",
              "<table border=\"1\" class=\"dataframe\">\n",
              "  <thead>\n",
              "    <tr style=\"text-align: right;\">\n",
              "      <th>group</th>\n",
              "      <th>device</th>\n",
              "      <th>A</th>\n",
              "      <th>B</th>\n",
              "      <th>share_a</th>\n",
              "      <th>share_b</th>\n",
              "    </tr>\n",
              "  </thead>\n",
              "  <tbody>\n",
              "    <tr>\n",
              "      <th>0</th>\n",
              "      <td>Android</td>\n",
              "      <td>1003</td>\n",
              "      <td>360</td>\n",
              "      <td>0.44</td>\n",
              "      <td>0.47</td>\n",
              "    </tr>\n",
              "    <tr>\n",
              "      <th>1</th>\n",
              "      <td>Mac</td>\n",
              "      <td>211</td>\n",
              "      <td>67</td>\n",
              "      <td>0.09</td>\n",
              "      <td>0.09</td>\n",
              "    </tr>\n",
              "    <tr>\n",
              "      <th>2</th>\n",
              "      <td>PC</td>\n",
              "      <td>593</td>\n",
              "      <td>185</td>\n",
              "      <td>0.26</td>\n",
              "      <td>0.24</td>\n",
              "    </tr>\n",
              "    <tr>\n",
              "      <th>3</th>\n",
              "      <td>iPhone</td>\n",
              "      <td>472</td>\n",
              "      <td>159</td>\n",
              "      <td>0.21</td>\n",
              "      <td>0.21</td>\n",
              "    </tr>\n",
              "  </tbody>\n",
              "</table>\n",
              "</div>\n",
              "    <div class=\"colab-df-buttons\">\n",
              "\n",
              "  <div class=\"colab-df-container\">\n",
              "    <button class=\"colab-df-convert\" onclick=\"convertToInteractive('df-9027c90f-7bc5-4adf-8e63-68632b5cb4fb')\"\n",
              "            title=\"Convert this dataframe to an interactive table.\"\n",
              "            style=\"display:none;\">\n",
              "\n",
              "  <svg xmlns=\"http://www.w3.org/2000/svg\" height=\"24px\" viewBox=\"0 -960 960 960\">\n",
              "    <path d=\"M120-120v-720h720v720H120Zm60-500h600v-160H180v160Zm220 220h160v-160H400v160Zm0 220h160v-160H400v160ZM180-400h160v-160H180v160Zm440 0h160v-160H620v160ZM180-180h160v-160H180v160Zm440 0h160v-160H620v160Z\"/>\n",
              "  </svg>\n",
              "    </button>\n",
              "\n",
              "  <style>\n",
              "    .colab-df-container {\n",
              "      display:flex;\n",
              "      gap: 12px;\n",
              "    }\n",
              "\n",
              "    .colab-df-convert {\n",
              "      background-color: #E8F0FE;\n",
              "      border: none;\n",
              "      border-radius: 50%;\n",
              "      cursor: pointer;\n",
              "      display: none;\n",
              "      fill: #1967D2;\n",
              "      height: 32px;\n",
              "      padding: 0 0 0 0;\n",
              "      width: 32px;\n",
              "    }\n",
              "\n",
              "    .colab-df-convert:hover {\n",
              "      background-color: #E2EBFA;\n",
              "      box-shadow: 0px 1px 2px rgba(60, 64, 67, 0.3), 0px 1px 3px 1px rgba(60, 64, 67, 0.15);\n",
              "      fill: #174EA6;\n",
              "    }\n",
              "\n",
              "    .colab-df-buttons div {\n",
              "      margin-bottom: 4px;\n",
              "    }\n",
              "\n",
              "    [theme=dark] .colab-df-convert {\n",
              "      background-color: #3B4455;\n",
              "      fill: #D2E3FC;\n",
              "    }\n",
              "\n",
              "    [theme=dark] .colab-df-convert:hover {\n",
              "      background-color: #434B5C;\n",
              "      box-shadow: 0px 1px 3px 1px rgba(0, 0, 0, 0.15);\n",
              "      filter: drop-shadow(0px 1px 2px rgba(0, 0, 0, 0.3));\n",
              "      fill: #FFFFFF;\n",
              "    }\n",
              "  </style>\n",
              "\n",
              "    <script>\n",
              "      const buttonEl =\n",
              "        document.querySelector('#df-9027c90f-7bc5-4adf-8e63-68632b5cb4fb button.colab-df-convert');\n",
              "      buttonEl.style.display =\n",
              "        google.colab.kernel.accessAllowed ? 'block' : 'none';\n",
              "\n",
              "      async function convertToInteractive(key) {\n",
              "        const element = document.querySelector('#df-9027c90f-7bc5-4adf-8e63-68632b5cb4fb');\n",
              "        const dataTable =\n",
              "          await google.colab.kernel.invokeFunction('convertToInteractive',\n",
              "                                                    [key], {});\n",
              "        if (!dataTable) return;\n",
              "\n",
              "        const docLinkHtml = 'Like what you see? Visit the ' +\n",
              "          '<a target=\"_blank\" href=https://colab.research.google.com/notebooks/data_table.ipynb>data table notebook</a>'\n",
              "          + ' to learn more about interactive tables.';\n",
              "        element.innerHTML = '';\n",
              "        dataTable['output_type'] = 'display_data';\n",
              "        await google.colab.output.renderOutput(dataTable, element);\n",
              "        const docLink = document.createElement('div');\n",
              "        docLink.innerHTML = docLinkHtml;\n",
              "        element.appendChild(docLink);\n",
              "      }\n",
              "    </script>\n",
              "  </div>\n",
              "\n",
              "\n",
              "<div id=\"df-904d5c8d-5d88-4d0f-afde-e70d77f602ab\">\n",
              "  <button class=\"colab-df-quickchart\" onclick=\"quickchart('df-904d5c8d-5d88-4d0f-afde-e70d77f602ab')\"\n",
              "            title=\"Suggest charts.\"\n",
              "            style=\"display:none;\">\n",
              "\n",
              "<svg xmlns=\"http://www.w3.org/2000/svg\" height=\"24px\"viewBox=\"0 0 24 24\"\n",
              "     width=\"24px\">\n",
              "    <g>\n",
              "        <path d=\"M19 3H5c-1.1 0-2 .9-2 2v14c0 1.1.9 2 2 2h14c1.1 0 2-.9 2-2V5c0-1.1-.9-2-2-2zM9 17H7v-7h2v7zm4 0h-2V7h2v10zm4 0h-2v-4h2v4z\"/>\n",
              "    </g>\n",
              "</svg>\n",
              "  </button>\n",
              "\n",
              "<style>\n",
              "  .colab-df-quickchart {\n",
              "    background-color: #E8F0FE;\n",
              "    border: none;\n",
              "    border-radius: 50%;\n",
              "    cursor: pointer;\n",
              "    display: none;\n",
              "    fill: #1967D2;\n",
              "    height: 32px;\n",
              "    padding: 0 0 0 0;\n",
              "    width: 32px;\n",
              "  }\n",
              "\n",
              "  .colab-df-quickchart:hover {\n",
              "    background-color: #E2EBFA;\n",
              "    box-shadow: 0px 1px 2px rgba(60, 64, 67, 0.3), 0px 1px 3px 1px rgba(60, 64, 67, 0.15);\n",
              "    fill: #174EA6;\n",
              "  }\n",
              "\n",
              "  [theme=dark] .colab-df-quickchart {\n",
              "    background-color: #3B4455;\n",
              "    fill: #D2E3FC;\n",
              "  }\n",
              "\n",
              "  [theme=dark] .colab-df-quickchart:hover {\n",
              "    background-color: #434B5C;\n",
              "    box-shadow: 0px 1px 3px 1px rgba(0, 0, 0, 0.15);\n",
              "    filter: drop-shadow(0px 1px 2px rgba(0, 0, 0, 0.3));\n",
              "    fill: #FFFFFF;\n",
              "  }\n",
              "</style>\n",
              "\n",
              "  <script>\n",
              "    async function quickchart(key) {\n",
              "      const charts = await google.colab.kernel.invokeFunction(\n",
              "          'suggestCharts', [key], {});\n",
              "    }\n",
              "    (() => {\n",
              "      let quickchartButtonEl =\n",
              "        document.querySelector('#df-904d5c8d-5d88-4d0f-afde-e70d77f602ab button');\n",
              "      quickchartButtonEl.style.display =\n",
              "        google.colab.kernel.accessAllowed ? 'block' : 'none';\n",
              "    })();\n",
              "  </script>\n",
              "</div>\n",
              "    </div>\n",
              "  </div>\n"
            ]
          },
          "metadata": {},
          "execution_count": 53
        }
      ],
      "source": [
        "# распределение пользователей по утройствам\n",
        "device = df.pivot_table(index='device', columns='group', values='user_id', aggfunc='nunique').reset_index()\n",
        "device['share_a'] = round(device['A'] / device['A'].sum(), 2)\n",
        "device['share_b'] = round(device['B'] / device['B'].sum(), 2)\n",
        "device"
      ]
    },
    {
      "cell_type": "markdown",
      "metadata": {
        "id": "Y_ceGhjeZbQZ"
      },
      "source": [
        "Стоит отметить, что по устройствам (то есть доля, использующих определенное устройство в группе А и в группе В) пользователи распределены довольно равномерно по группам,"
      ]
    },
    {
      "cell_type": "markdown",
      "metadata": {
        "id": "lo_oCzneZbQZ"
      },
      "source": [
        "## Особенности данных для А/В тестирования"
      ]
    },
    {
      "cell_type": "markdown",
      "metadata": {
        "id": "zP5O1fjVZbQZ"
      },
      "source": [
        "\n",
        "\n",
        "*   выборка должна быть достаточно большой для достижения желаемых результатов. У нас после очистки данных размер выборки сократился почти в 2 раза\n",
        "\n",
        "*  следует избегать несоответствия соотношения выборок, у нас выборка А почти в 3 раза больше\n",
        "*   необходимо выдерживать запланированную продолжительность теста, у нас тест был остановлен на 5 дней раньше\n",
        "\n",
        "\n",
        "*  при делении трафика необходимо учитывать устройства, с которых пользователи используют продукт. В данном случае у нас распределение корректно\n",
        "\n",
        "\n",
        "*   при проведении теста стоит избегать влияния сезонности, акций и праздников. У нас период проведения теста совпадает с Рождеством и акцией\n",
        "*   стоит избегать влияния других тестов, аудитория не должна пересекаться. У нас были пересечения с другим тестом, таких пользователей пришлось удалить\n",
        "\n",
        "\n",
        "*   следует избегать аномалий и выбросов, у нас есть резкие скачки в данных и, в целом, поведение группы А не стабильно\n",
        "*   при множественном тестировании увеличивается риск ложноположительного результата, необходимо применять корректировку стат. значимости\n",
        "\n",
        "\n",
        "\n",
        "\n",
        "\n"
      ]
    },
    {
      "cell_type": "markdown",
      "metadata": {
        "id": "SKTjmodIZbQa"
      },
      "source": [
        "Таким образом, на имеющихся данных нельзя рассчитывать на высокую точность и качество результатов проведенного теста"
      ]
    },
    {
      "cell_type": "markdown",
      "metadata": {
        "id": "vTLEgyeY1vXD"
      },
      "source": [
        "## Оценка результатов А/Б тестирования"
      ]
    },
    {
      "cell_type": "code",
      "execution_count": 54,
      "metadata": {
        "id": "9E5IfMn8yVr9"
      },
      "outputs": [],
      "source": [
        "# список для P-value\n",
        "p_list = []"
      ]
    },
    {
      "cell_type": "code",
      "execution_count": 55,
      "metadata": {
        "id": "4gdPz23szZpW"
      },
      "outputs": [],
      "source": [
        "# создаем функцию для теста\n",
        "def z_test(gr1, gr2, event_name, alpha):\n",
        "    tr1 = fnl_group.loc[event_name, gr1]\n",
        "    tr2 = fnl_group.loc[event_name, gr2]\n",
        "    su1 = group_users.loc[gr1, 'user_id']\n",
        "    su2 = group_users.loc[gr2, 'user_id']\n",
        "    # пропорция успехов в первой группе:\n",
        "    p1 = tr1 / su1\n",
        "    # пропорция успехов во второй группе:\n",
        "    p2 = tr2 / su2\n",
        "    # пропорция успехов в комбинированном датасете:\n",
        "    p_combined = (tr1 + tr2) / (su1 + su2)\n",
        "    # разница пропорций в датасетах\n",
        "    difference = p1 - p2\n",
        "    # считаем статистику в ст.отклонениях стандартного нормального распределения\n",
        "    z_value = difference / mth.sqrt(p_combined * (1 - p_combined) * (1 / su1 + 1 / su2))\n",
        "    # задаем стандартное нормальное распределение (среднее 0, ст.отклонение 1)\n",
        "    distr = st.norm(0, 1)\n",
        "    p_value = (1 - distr.cdf(abs(z_value))) * 2\n",
        "    p_list.append(p_value)\n",
        "    print('Сравниваемые группы: {} и {}, событие: {}, P-value: {p_value:.6f}'\n",
        "          .format(gr1, gr2, event_name, p_value=p_value))\n",
        "    if (p_value < alpha):\n",
        "        print('Отвергаем нулевую гипотезу: между долями есть значимая разница')\n",
        "    else:\n",
        "        print('Не получилось отвергнуть нулевую гипотезу, нет оснований считать доли разными')"
      ]
    },
    {
      "cell_type": "code",
      "execution_count": 56,
      "metadata": {
        "colab": {
          "base_uri": "https://localhost:8080/",
          "height": 143
        },
        "id": "ySgzOZU00T6D",
        "outputId": "2a3d301a-4d87-447a-abf8-bca031cdd3c6"
      },
      "outputs": [
        {
          "output_type": "execute_result",
          "data": {
            "text/plain": [
              "       user_id\n",
              "group         \n",
              "A         2279\n",
              "B          771"
            ],
            "text/html": [
              "\n",
              "  <div id=\"df-906a1ffc-95d1-4cf3-89ec-7e49b11e33e3\" class=\"colab-df-container\">\n",
              "    <div>\n",
              "<style scoped>\n",
              "    .dataframe tbody tr th:only-of-type {\n",
              "        vertical-align: middle;\n",
              "    }\n",
              "\n",
              "    .dataframe tbody tr th {\n",
              "        vertical-align: top;\n",
              "    }\n",
              "\n",
              "    .dataframe thead th {\n",
              "        text-align: right;\n",
              "    }\n",
              "</style>\n",
              "<table border=\"1\" class=\"dataframe\">\n",
              "  <thead>\n",
              "    <tr style=\"text-align: right;\">\n",
              "      <th></th>\n",
              "      <th>user_id</th>\n",
              "    </tr>\n",
              "    <tr>\n",
              "      <th>group</th>\n",
              "      <th></th>\n",
              "    </tr>\n",
              "  </thead>\n",
              "  <tbody>\n",
              "    <tr>\n",
              "      <th>A</th>\n",
              "      <td>2279</td>\n",
              "    </tr>\n",
              "    <tr>\n",
              "      <th>B</th>\n",
              "      <td>771</td>\n",
              "    </tr>\n",
              "  </tbody>\n",
              "</table>\n",
              "</div>\n",
              "    <div class=\"colab-df-buttons\">\n",
              "\n",
              "  <div class=\"colab-df-container\">\n",
              "    <button class=\"colab-df-convert\" onclick=\"convertToInteractive('df-906a1ffc-95d1-4cf3-89ec-7e49b11e33e3')\"\n",
              "            title=\"Convert this dataframe to an interactive table.\"\n",
              "            style=\"display:none;\">\n",
              "\n",
              "  <svg xmlns=\"http://www.w3.org/2000/svg\" height=\"24px\" viewBox=\"0 -960 960 960\">\n",
              "    <path d=\"M120-120v-720h720v720H120Zm60-500h600v-160H180v160Zm220 220h160v-160H400v160Zm0 220h160v-160H400v160ZM180-400h160v-160H180v160Zm440 0h160v-160H620v160ZM180-180h160v-160H180v160Zm440 0h160v-160H620v160Z\"/>\n",
              "  </svg>\n",
              "    </button>\n",
              "\n",
              "  <style>\n",
              "    .colab-df-container {\n",
              "      display:flex;\n",
              "      gap: 12px;\n",
              "    }\n",
              "\n",
              "    .colab-df-convert {\n",
              "      background-color: #E8F0FE;\n",
              "      border: none;\n",
              "      border-radius: 50%;\n",
              "      cursor: pointer;\n",
              "      display: none;\n",
              "      fill: #1967D2;\n",
              "      height: 32px;\n",
              "      padding: 0 0 0 0;\n",
              "      width: 32px;\n",
              "    }\n",
              "\n",
              "    .colab-df-convert:hover {\n",
              "      background-color: #E2EBFA;\n",
              "      box-shadow: 0px 1px 2px rgba(60, 64, 67, 0.3), 0px 1px 3px 1px rgba(60, 64, 67, 0.15);\n",
              "      fill: #174EA6;\n",
              "    }\n",
              "\n",
              "    .colab-df-buttons div {\n",
              "      margin-bottom: 4px;\n",
              "    }\n",
              "\n",
              "    [theme=dark] .colab-df-convert {\n",
              "      background-color: #3B4455;\n",
              "      fill: #D2E3FC;\n",
              "    }\n",
              "\n",
              "    [theme=dark] .colab-df-convert:hover {\n",
              "      background-color: #434B5C;\n",
              "      box-shadow: 0px 1px 3px 1px rgba(0, 0, 0, 0.15);\n",
              "      filter: drop-shadow(0px 1px 2px rgba(0, 0, 0, 0.3));\n",
              "      fill: #FFFFFF;\n",
              "    }\n",
              "  </style>\n",
              "\n",
              "    <script>\n",
              "      const buttonEl =\n",
              "        document.querySelector('#df-906a1ffc-95d1-4cf3-89ec-7e49b11e33e3 button.colab-df-convert');\n",
              "      buttonEl.style.display =\n",
              "        google.colab.kernel.accessAllowed ? 'block' : 'none';\n",
              "\n",
              "      async function convertToInteractive(key) {\n",
              "        const element = document.querySelector('#df-906a1ffc-95d1-4cf3-89ec-7e49b11e33e3');\n",
              "        const dataTable =\n",
              "          await google.colab.kernel.invokeFunction('convertToInteractive',\n",
              "                                                    [key], {});\n",
              "        if (!dataTable) return;\n",
              "\n",
              "        const docLinkHtml = 'Like what you see? Visit the ' +\n",
              "          '<a target=\"_blank\" href=https://colab.research.google.com/notebooks/data_table.ipynb>data table notebook</a>'\n",
              "          + ' to learn more about interactive tables.';\n",
              "        element.innerHTML = '';\n",
              "        dataTable['output_type'] = 'display_data';\n",
              "        await google.colab.output.renderOutput(dataTable, element);\n",
              "        const docLink = document.createElement('div');\n",
              "        docLink.innerHTML = docLinkHtml;\n",
              "        element.appendChild(docLink);\n",
              "      }\n",
              "    </script>\n",
              "  </div>\n",
              "\n",
              "\n",
              "<div id=\"df-7c8f1027-1bc0-4dee-95c7-b41ad2dca2f5\">\n",
              "  <button class=\"colab-df-quickchart\" onclick=\"quickchart('df-7c8f1027-1bc0-4dee-95c7-b41ad2dca2f5')\"\n",
              "            title=\"Suggest charts.\"\n",
              "            style=\"display:none;\">\n",
              "\n",
              "<svg xmlns=\"http://www.w3.org/2000/svg\" height=\"24px\"viewBox=\"0 0 24 24\"\n",
              "     width=\"24px\">\n",
              "    <g>\n",
              "        <path d=\"M19 3H5c-1.1 0-2 .9-2 2v14c0 1.1.9 2 2 2h14c1.1 0 2-.9 2-2V5c0-1.1-.9-2-2-2zM9 17H7v-7h2v7zm4 0h-2V7h2v10zm4 0h-2v-4h2v4z\"/>\n",
              "    </g>\n",
              "</svg>\n",
              "  </button>\n",
              "\n",
              "<style>\n",
              "  .colab-df-quickchart {\n",
              "    background-color: #E8F0FE;\n",
              "    border: none;\n",
              "    border-radius: 50%;\n",
              "    cursor: pointer;\n",
              "    display: none;\n",
              "    fill: #1967D2;\n",
              "    height: 32px;\n",
              "    padding: 0 0 0 0;\n",
              "    width: 32px;\n",
              "  }\n",
              "\n",
              "  .colab-df-quickchart:hover {\n",
              "    background-color: #E2EBFA;\n",
              "    box-shadow: 0px 1px 2px rgba(60, 64, 67, 0.3), 0px 1px 3px 1px rgba(60, 64, 67, 0.15);\n",
              "    fill: #174EA6;\n",
              "  }\n",
              "\n",
              "  [theme=dark] .colab-df-quickchart {\n",
              "    background-color: #3B4455;\n",
              "    fill: #D2E3FC;\n",
              "  }\n",
              "\n",
              "  [theme=dark] .colab-df-quickchart:hover {\n",
              "    background-color: #434B5C;\n",
              "    box-shadow: 0px 1px 3px 1px rgba(0, 0, 0, 0.15);\n",
              "    filter: drop-shadow(0px 1px 2px rgba(0, 0, 0, 0.3));\n",
              "    fill: #FFFFFF;\n",
              "  }\n",
              "</style>\n",
              "\n",
              "  <script>\n",
              "    async function quickchart(key) {\n",
              "      const charts = await google.colab.kernel.invokeFunction(\n",
              "          'suggestCharts', [key], {});\n",
              "    }\n",
              "    (() => {\n",
              "      let quickchartButtonEl =\n",
              "        document.querySelector('#df-7c8f1027-1bc0-4dee-95c7-b41ad2dca2f5 button');\n",
              "      quickchartButtonEl.style.display =\n",
              "        google.colab.kernel.accessAllowed ? 'block' : 'none';\n",
              "    })();\n",
              "  </script>\n",
              "</div>\n",
              "    </div>\n",
              "  </div>\n"
            ]
          },
          "metadata": {},
          "execution_count": 56
        }
      ],
      "source": [
        "# сколько пользователей в каждой группе\n",
        "group_users = df.groupby('group').agg({'user_id':'nunique'})\n",
        "group_users"
      ]
    },
    {
      "cell_type": "code",
      "execution_count": 57,
      "metadata": {
        "id": "pWJq7O5E4Bfp"
      },
      "outputs": [],
      "source": [
        "# вернем названия событий в индексы\n",
        "fnl_group = fnl_group.set_index(fnl_group.columns[0])"
      ]
    },
    {
      "cell_type": "code",
      "execution_count": 58,
      "metadata": {
        "colab": {
          "base_uri": "https://localhost:8080/",
          "height": 206
        },
        "id": "ndA-Qeeq4T3x",
        "outputId": "68c3b184-63af-4345-8734-6ba3e2b90e07"
      },
      "outputs": [
        {
          "output_type": "execute_result",
          "data": {
            "text/plain": [
              "group            A    B\n",
              "event_name             \n",
              "login         2279  770\n",
              "product_page  1476  429\n",
              "product_cart   686  214\n",
              "purchase       734  219"
            ],
            "text/html": [
              "\n",
              "  <div id=\"df-f5dc299f-c988-4acf-9c53-120a5c8b9245\" class=\"colab-df-container\">\n",
              "    <div>\n",
              "<style scoped>\n",
              "    .dataframe tbody tr th:only-of-type {\n",
              "        vertical-align: middle;\n",
              "    }\n",
              "\n",
              "    .dataframe tbody tr th {\n",
              "        vertical-align: top;\n",
              "    }\n",
              "\n",
              "    .dataframe thead th {\n",
              "        text-align: right;\n",
              "    }\n",
              "</style>\n",
              "<table border=\"1\" class=\"dataframe\">\n",
              "  <thead>\n",
              "    <tr style=\"text-align: right;\">\n",
              "      <th>group</th>\n",
              "      <th>A</th>\n",
              "      <th>B</th>\n",
              "    </tr>\n",
              "    <tr>\n",
              "      <th>event_name</th>\n",
              "      <th></th>\n",
              "      <th></th>\n",
              "    </tr>\n",
              "  </thead>\n",
              "  <tbody>\n",
              "    <tr>\n",
              "      <th>login</th>\n",
              "      <td>2279</td>\n",
              "      <td>770</td>\n",
              "    </tr>\n",
              "    <tr>\n",
              "      <th>product_page</th>\n",
              "      <td>1476</td>\n",
              "      <td>429</td>\n",
              "    </tr>\n",
              "    <tr>\n",
              "      <th>product_cart</th>\n",
              "      <td>686</td>\n",
              "      <td>214</td>\n",
              "    </tr>\n",
              "    <tr>\n",
              "      <th>purchase</th>\n",
              "      <td>734</td>\n",
              "      <td>219</td>\n",
              "    </tr>\n",
              "  </tbody>\n",
              "</table>\n",
              "</div>\n",
              "    <div class=\"colab-df-buttons\">\n",
              "\n",
              "  <div class=\"colab-df-container\">\n",
              "    <button class=\"colab-df-convert\" onclick=\"convertToInteractive('df-f5dc299f-c988-4acf-9c53-120a5c8b9245')\"\n",
              "            title=\"Convert this dataframe to an interactive table.\"\n",
              "            style=\"display:none;\">\n",
              "\n",
              "  <svg xmlns=\"http://www.w3.org/2000/svg\" height=\"24px\" viewBox=\"0 -960 960 960\">\n",
              "    <path d=\"M120-120v-720h720v720H120Zm60-500h600v-160H180v160Zm220 220h160v-160H400v160Zm0 220h160v-160H400v160ZM180-400h160v-160H180v160Zm440 0h160v-160H620v160ZM180-180h160v-160H180v160Zm440 0h160v-160H620v160Z\"/>\n",
              "  </svg>\n",
              "    </button>\n",
              "\n",
              "  <style>\n",
              "    .colab-df-container {\n",
              "      display:flex;\n",
              "      gap: 12px;\n",
              "    }\n",
              "\n",
              "    .colab-df-convert {\n",
              "      background-color: #E8F0FE;\n",
              "      border: none;\n",
              "      border-radius: 50%;\n",
              "      cursor: pointer;\n",
              "      display: none;\n",
              "      fill: #1967D2;\n",
              "      height: 32px;\n",
              "      padding: 0 0 0 0;\n",
              "      width: 32px;\n",
              "    }\n",
              "\n",
              "    .colab-df-convert:hover {\n",
              "      background-color: #E2EBFA;\n",
              "      box-shadow: 0px 1px 2px rgba(60, 64, 67, 0.3), 0px 1px 3px 1px rgba(60, 64, 67, 0.15);\n",
              "      fill: #174EA6;\n",
              "    }\n",
              "\n",
              "    .colab-df-buttons div {\n",
              "      margin-bottom: 4px;\n",
              "    }\n",
              "\n",
              "    [theme=dark] .colab-df-convert {\n",
              "      background-color: #3B4455;\n",
              "      fill: #D2E3FC;\n",
              "    }\n",
              "\n",
              "    [theme=dark] .colab-df-convert:hover {\n",
              "      background-color: #434B5C;\n",
              "      box-shadow: 0px 1px 3px 1px rgba(0, 0, 0, 0.15);\n",
              "      filter: drop-shadow(0px 1px 2px rgba(0, 0, 0, 0.3));\n",
              "      fill: #FFFFFF;\n",
              "    }\n",
              "  </style>\n",
              "\n",
              "    <script>\n",
              "      const buttonEl =\n",
              "        document.querySelector('#df-f5dc299f-c988-4acf-9c53-120a5c8b9245 button.colab-df-convert');\n",
              "      buttonEl.style.display =\n",
              "        google.colab.kernel.accessAllowed ? 'block' : 'none';\n",
              "\n",
              "      async function convertToInteractive(key) {\n",
              "        const element = document.querySelector('#df-f5dc299f-c988-4acf-9c53-120a5c8b9245');\n",
              "        const dataTable =\n",
              "          await google.colab.kernel.invokeFunction('convertToInteractive',\n",
              "                                                    [key], {});\n",
              "        if (!dataTable) return;\n",
              "\n",
              "        const docLinkHtml = 'Like what you see? Visit the ' +\n",
              "          '<a target=\"_blank\" href=https://colab.research.google.com/notebooks/data_table.ipynb>data table notebook</a>'\n",
              "          + ' to learn more about interactive tables.';\n",
              "        element.innerHTML = '';\n",
              "        dataTable['output_type'] = 'display_data';\n",
              "        await google.colab.output.renderOutput(dataTable, element);\n",
              "        const docLink = document.createElement('div');\n",
              "        docLink.innerHTML = docLinkHtml;\n",
              "        element.appendChild(docLink);\n",
              "      }\n",
              "    </script>\n",
              "  </div>\n",
              "\n",
              "\n",
              "<div id=\"df-b5844c73-bd61-47a2-9f05-53fb88571e53\">\n",
              "  <button class=\"colab-df-quickchart\" onclick=\"quickchart('df-b5844c73-bd61-47a2-9f05-53fb88571e53')\"\n",
              "            title=\"Suggest charts.\"\n",
              "            style=\"display:none;\">\n",
              "\n",
              "<svg xmlns=\"http://www.w3.org/2000/svg\" height=\"24px\"viewBox=\"0 0 24 24\"\n",
              "     width=\"24px\">\n",
              "    <g>\n",
              "        <path d=\"M19 3H5c-1.1 0-2 .9-2 2v14c0 1.1.9 2 2 2h14c1.1 0 2-.9 2-2V5c0-1.1-.9-2-2-2zM9 17H7v-7h2v7zm4 0h-2V7h2v10zm4 0h-2v-4h2v4z\"/>\n",
              "    </g>\n",
              "</svg>\n",
              "  </button>\n",
              "\n",
              "<style>\n",
              "  .colab-df-quickchart {\n",
              "    background-color: #E8F0FE;\n",
              "    border: none;\n",
              "    border-radius: 50%;\n",
              "    cursor: pointer;\n",
              "    display: none;\n",
              "    fill: #1967D2;\n",
              "    height: 32px;\n",
              "    padding: 0 0 0 0;\n",
              "    width: 32px;\n",
              "  }\n",
              "\n",
              "  .colab-df-quickchart:hover {\n",
              "    background-color: #E2EBFA;\n",
              "    box-shadow: 0px 1px 2px rgba(60, 64, 67, 0.3), 0px 1px 3px 1px rgba(60, 64, 67, 0.15);\n",
              "    fill: #174EA6;\n",
              "  }\n",
              "\n",
              "  [theme=dark] .colab-df-quickchart {\n",
              "    background-color: #3B4455;\n",
              "    fill: #D2E3FC;\n",
              "  }\n",
              "\n",
              "  [theme=dark] .colab-df-quickchart:hover {\n",
              "    background-color: #434B5C;\n",
              "    box-shadow: 0px 1px 3px 1px rgba(0, 0, 0, 0.15);\n",
              "    filter: drop-shadow(0px 1px 2px rgba(0, 0, 0, 0.3));\n",
              "    fill: #FFFFFF;\n",
              "  }\n",
              "</style>\n",
              "\n",
              "  <script>\n",
              "    async function quickchart(key) {\n",
              "      const charts = await google.colab.kernel.invokeFunction(\n",
              "          'suggestCharts', [key], {});\n",
              "    }\n",
              "    (() => {\n",
              "      let quickchartButtonEl =\n",
              "        document.querySelector('#df-b5844c73-bd61-47a2-9f05-53fb88571e53 button');\n",
              "      quickchartButtonEl.style.display =\n",
              "        google.colab.kernel.accessAllowed ? 'block' : 'none';\n",
              "    })();\n",
              "  </script>\n",
              "</div>\n",
              "    </div>\n",
              "  </div>\n"
            ]
          },
          "metadata": {},
          "execution_count": 58
        }
      ],
      "source": [
        "fnl_group"
      ]
    },
    {
      "cell_type": "markdown",
      "metadata": {
        "id": "ek30Ejnc2DdJ"
      },
      "source": [
        "Проверим, находят ли статистические критерии разницу между группами А и В.\n",
        "> Сформулируем гипотезы:\n",
        "\n",
        "> Нулевая: доли пользователей, совершивших события по группам, равны.\n",
        "\n",
        "> Альтернативная: доли пользователей, совершивших события по группам, неравны.\n",
        "\n",
        "> Установим уровень статистической значимости 0.05.\n",
        "> Применим z-test для проверки гипотезы о равенстве долей."
      ]
    },
    {
      "cell_type": "code",
      "execution_count": 59,
      "metadata": {
        "colab": {
          "base_uri": "https://localhost:8080/"
        },
        "id": "kx_1mODY05s-",
        "outputId": "eb3f8b99-2120-4115-fedc-d6e3f6e48722"
      },
      "outputs": [
        {
          "output_type": "stream",
          "name": "stdout",
          "text": [
            "Сравниваемые группы: A и B, событие: login, P-value: 0.085513\n",
            "Не получилось отвергнуть нулевую гипотезу, нет оснований считать доли разными\n",
            "\n",
            "Сравниваемые группы: A и B, событие: product_page, P-value: 0.000006\n",
            "Отвергаем нулевую гипотезу: между долями есть значимая разница\n",
            "\n",
            "Сравниваемые группы: A и B, событие: product_cart, P-value: 0.217211\n",
            "Не получилось отвергнуть нулевую гипотезу, нет оснований считать доли разными\n",
            "\n",
            "Сравниваемые группы: A и B, событие: purchase, P-value: 0.048943\n",
            "Отвергаем нулевую гипотезу: между долями есть значимая разница\n",
            "\n"
          ]
        }
      ],
      "source": [
        "for event_name in fnl_group.index:\n",
        "    z_test('A', 'B', event_name, 0.05)\n",
        "    print()"
      ]
    },
    {
      "cell_type": "markdown",
      "metadata": {
        "id": "m-b8yW8oT-gm"
      },
      "source": [
        "При множественной проверке гипотез увеличивается риск ложноположительного результата, найти различия там, где их на самом деле нет. Применим корректировку по методу Шидака (чтобы не снижать значительно мощность тестов), для корректировки уровня значимости."
      ]
    },
    {
      "cell_type": "code",
      "execution_count": 60,
      "metadata": {
        "colab": {
          "base_uri": "https://localhost:8080/"
        },
        "id": "yR4bpa302qDl",
        "outputId": "5c8098dc-bec3-4200-8df5-225831a409a4"
      },
      "outputs": [
        {
          "output_type": "execute_result",
          "data": {
            "text/plain": [
              "(array([False,  True, False, False]),\n",
              " array([3.00625800e-01, 2.44826977e-05, 6.24527310e-01, 1.81861325e-01]),\n",
              " 0.012741455098566168,\n",
              " 0.0125)"
            ]
          },
          "metadata": {},
          "execution_count": 60
        }
      ],
      "source": [
        "# применим корректировку по методу Шидака\n",
        "corr_sidak = multipletests(p_list, alpha=0.05, method='sidak')\n",
        "corr_sidak"
      ]
    },
    {
      "cell_type": "markdown",
      "metadata": {
        "id": "Lwc8zjS6UkmC"
      },
      "source": [
        "На имеющихся данных, на уровне значимости 5% и при применении корректировки Шидака для множественного теста нет оснований отвергнуть нулевую гипотезу о равенстве между группами в трех случаях:\n",
        "\n",
        ">сравниваемые группы А и В, событие login\n",
        "\n",
        ">сравниваемые группы А и В, событие product cart\n",
        "\n",
        ">сравниваемые группы А и В, событие purchase\n",
        "\n",
        ">Вывод: в этих трех случаях различий между группами нет.\n",
        "\n",
        ">В случае с событием product page есть основания отвергнуть нулевую гипотезу, следовательно различия между группами есть"
      ]
    },
    {
      "cell_type": "markdown",
      "metadata": {
        "id": "aYTNF984h4XD"
      },
      "source": [
        "## Выводы"
      ]
    },
    {
      "cell_type": "markdown",
      "metadata": {
        "id": "zN9I8EJ1h87t"
      },
      "source": [
        "\n",
        "\n",
        "*   данные для теста были собраны с нарушением ТЗ\n",
        "\n",
        "\n",
        "*   на результаты теста могли повлиять маркетинговые мероприятия и праздники\n",
        "\n",
        "\n",
        "*   во время набора пользователей в группы, очевидно, были какие-то технические ошибки\n",
        "*   ожидаемый результат увеличения конверсии не достигнут\n",
        "\n",
        "\n",
        "*  при проверке гипотезы о равенстве долей различия между группами обнаружены только на этапе product page. На этапах login, product cart и, главное, purchase различий между группами нет\n",
        "\n",
        "---\n",
        "Таким образом, на имеющихся данных нет оснований сделать вывод о том, что изменение рекомендательной системы улучшило целевые показатели\n",
        "\n",
        "\n"
      ]
    },
    {
      "cell_type": "markdown",
      "metadata": {
        "id": "cRUGza7BlHvB"
      },
      "source": [
        "## Рекомендации"
      ]
    },
    {
      "cell_type": "markdown",
      "metadata": {
        "id": "0CnABj76lNNa"
      },
      "source": [
        "\n",
        "\n",
        "*   необходимо провести тест заново с соблюдением ТЗ\n",
        "*   учитывать при проведении теста сезонные события и маркетинговые мероприятия\n",
        "\n"
      ]
    }
  ],
  "metadata": {
    "ExecuteTimeLog": [
      {
        "duration": 1370,
        "start_time": "2023-04-04T06:40:17.754Z"
      },
      {
        "duration": 4,
        "start_time": "2023-04-04T06:40:19.126Z"
      },
      {
        "duration": 1351,
        "start_time": "2023-04-04T06:40:19.132Z"
      },
      {
        "duration": 4,
        "start_time": "2023-04-04T06:40:20.485Z"
      },
      {
        "duration": 650,
        "start_time": "2023-04-04T06:40:20.490Z"
      },
      {
        "duration": 45,
        "start_time": "2023-04-04T06:40:21.142Z"
      },
      {
        "duration": 17,
        "start_time": "2023-04-04T06:40:21.190Z"
      },
      {
        "duration": 101,
        "start_time": "2023-04-04T06:40:21.218Z"
      },
      {
        "duration": 37,
        "start_time": "2023-04-04T06:40:21.320Z"
      },
      {
        "duration": 118,
        "start_time": "2023-04-04T06:40:21.358Z"
      },
      {
        "duration": 12,
        "start_time": "2023-04-04T06:40:21.478Z"
      },
      {
        "duration": 39,
        "start_time": "2023-04-04T06:40:21.491Z"
      },
      {
        "duration": 12,
        "start_time": "2023-04-04T06:40:21.532Z"
      },
      {
        "duration": 220,
        "start_time": "2023-04-04T06:40:21.546Z"
      },
      {
        "duration": 19,
        "start_time": "2023-04-04T06:40:21.767Z"
      },
      {
        "duration": 120,
        "start_time": "2023-04-04T06:40:21.788Z"
      },
      {
        "duration": 33,
        "start_time": "2023-04-04T06:40:21.911Z"
      },
      {
        "duration": 13,
        "start_time": "2023-04-04T06:40:21.946Z"
      },
      {
        "duration": 124,
        "start_time": "2023-04-04T06:40:21.960Z"
      },
      {
        "duration": 106,
        "start_time": "2023-04-04T06:40:22.086Z"
      },
      {
        "duration": 40,
        "start_time": "2023-04-04T06:40:22.195Z"
      },
      {
        "duration": 23,
        "start_time": "2023-04-04T06:40:22.237Z"
      },
      {
        "duration": 53,
        "start_time": "2023-04-04T06:40:22.261Z"
      },
      {
        "duration": 9,
        "start_time": "2023-04-04T06:40:22.317Z"
      },
      {
        "duration": 35,
        "start_time": "2023-04-04T06:40:22.328Z"
      },
      {
        "duration": 21,
        "start_time": "2023-04-04T06:40:22.367Z"
      },
      {
        "duration": 33,
        "start_time": "2023-04-04T06:40:22.390Z"
      },
      {
        "duration": 49,
        "start_time": "2023-04-04T06:40:22.428Z"
      },
      {
        "duration": 36,
        "start_time": "2023-04-04T06:40:22.480Z"
      },
      {
        "duration": 32,
        "start_time": "2023-04-04T06:40:22.517Z"
      },
      {
        "duration": 39,
        "start_time": "2023-04-04T06:40:22.551Z"
      },
      {
        "duration": 13,
        "start_time": "2023-04-04T06:40:22.592Z"
      },
      {
        "duration": 20,
        "start_time": "2023-04-04T06:40:22.607Z"
      },
      {
        "duration": 29,
        "start_time": "2023-04-04T06:40:22.629Z"
      },
      {
        "duration": 23,
        "start_time": "2023-04-04T06:40:22.660Z"
      },
      {
        "duration": 19,
        "start_time": "2023-04-04T06:40:22.685Z"
      },
      {
        "duration": 17,
        "start_time": "2023-04-04T06:40:22.705Z"
      },
      {
        "duration": 4,
        "start_time": "2023-04-04T06:40:22.724Z"
      },
      {
        "duration": 22,
        "start_time": "2023-04-04T06:40:22.730Z"
      },
      {
        "duration": 131,
        "start_time": "2023-04-04T06:40:22.754Z"
      },
      {
        "duration": 0,
        "start_time": "2023-04-04T06:40:22.887Z"
      },
      {
        "duration": 0,
        "start_time": "2023-04-04T06:40:22.888Z"
      },
      {
        "duration": 0,
        "start_time": "2023-04-04T06:40:22.889Z"
      },
      {
        "duration": 0,
        "start_time": "2023-04-04T06:40:22.890Z"
      },
      {
        "duration": 0,
        "start_time": "2023-04-04T06:40:22.892Z"
      },
      {
        "duration": 0,
        "start_time": "2023-04-04T06:40:22.893Z"
      },
      {
        "duration": 0,
        "start_time": "2023-04-04T06:40:22.894Z"
      },
      {
        "duration": 0,
        "start_time": "2023-04-04T06:40:22.895Z"
      },
      {
        "duration": 0,
        "start_time": "2023-04-04T06:40:22.896Z"
      },
      {
        "duration": 0,
        "start_time": "2023-04-04T06:40:22.897Z"
      },
      {
        "duration": 0,
        "start_time": "2023-04-04T06:40:22.918Z"
      },
      {
        "duration": 0,
        "start_time": "2023-04-04T06:40:22.918Z"
      },
      {
        "duration": 0,
        "start_time": "2023-04-04T06:40:22.920Z"
      },
      {
        "duration": 0,
        "start_time": "2023-04-04T06:40:22.921Z"
      },
      {
        "duration": 16,
        "start_time": "2023-04-04T06:49:31.755Z"
      },
      {
        "duration": 16,
        "start_time": "2023-04-04T06:49:31.934Z"
      },
      {
        "duration": 11,
        "start_time": "2023-04-04T06:49:32.100Z"
      },
      {
        "duration": 212,
        "start_time": "2023-04-04T06:49:32.407Z"
      },
      {
        "duration": 28,
        "start_time": "2023-04-04T06:49:32.736Z"
      },
      {
        "duration": 8,
        "start_time": "2023-04-04T06:49:32.883Z"
      },
      {
        "duration": 472,
        "start_time": "2023-04-04T06:49:33.054Z"
      },
      {
        "duration": 3,
        "start_time": "2023-04-04T06:49:33.703Z"
      },
      {
        "duration": 6,
        "start_time": "2023-04-04T06:49:33.885Z"
      },
      {
        "duration": 13,
        "start_time": "2023-04-04T06:49:34.219Z"
      },
      {
        "duration": 4,
        "start_time": "2023-04-04T06:49:34.248Z"
      },
      {
        "duration": 7,
        "start_time": "2023-04-04T06:49:34.413Z"
      },
      {
        "duration": 11,
        "start_time": "2023-04-04T06:49:34.717Z"
      },
      {
        "duration": 6,
        "start_time": "2023-04-04T06:49:35.124Z"
      },
      {
        "duration": 467,
        "start_time": "2023-04-04T13:00:16.840Z"
      },
      {
        "duration": 17,
        "start_time": "2023-04-04T13:02:43.318Z"
      },
      {
        "duration": 7405,
        "start_time": "2023-04-04T13:30:47.675Z"
      },
      {
        "duration": 69,
        "start_time": "2023-04-04T13:31:37.725Z"
      },
      {
        "duration": 1476,
        "start_time": "2023-04-04T13:32:20.858Z"
      },
      {
        "duration": 7,
        "start_time": "2023-04-04T13:32:22.337Z"
      },
      {
        "duration": 2601,
        "start_time": "2023-04-04T13:32:22.346Z"
      },
      {
        "duration": 5,
        "start_time": "2023-04-04T13:32:24.950Z"
      },
      {
        "duration": 1233,
        "start_time": "2023-04-04T13:32:24.957Z"
      },
      {
        "duration": 3,
        "start_time": "2023-04-04T13:32:26.192Z"
      },
      {
        "duration": 518,
        "start_time": "2023-04-04T13:32:26.197Z"
      },
      {
        "duration": 41,
        "start_time": "2023-04-04T13:32:26.717Z"
      },
      {
        "duration": 69,
        "start_time": "2023-04-04T13:32:26.760Z"
      },
      {
        "duration": 139,
        "start_time": "2023-04-04T13:32:26.832Z"
      },
      {
        "duration": 79,
        "start_time": "2023-04-04T13:32:26.973Z"
      },
      {
        "duration": 119,
        "start_time": "2023-04-04T13:32:27.054Z"
      },
      {
        "duration": 13,
        "start_time": "2023-04-04T13:32:27.175Z"
      },
      {
        "duration": 77,
        "start_time": "2023-04-04T13:32:27.190Z"
      },
      {
        "duration": 33,
        "start_time": "2023-04-04T13:32:27.270Z"
      },
      {
        "duration": 253,
        "start_time": "2023-04-04T13:32:27.305Z"
      },
      {
        "duration": 17,
        "start_time": "2023-04-04T13:32:27.560Z"
      },
      {
        "duration": 135,
        "start_time": "2023-04-04T13:32:27.579Z"
      },
      {
        "duration": 19,
        "start_time": "2023-04-04T13:32:27.715Z"
      },
      {
        "duration": 38,
        "start_time": "2023-04-04T13:32:27.736Z"
      },
      {
        "duration": 95,
        "start_time": "2023-04-04T13:32:27.776Z"
      },
      {
        "duration": 104,
        "start_time": "2023-04-04T13:32:27.872Z"
      },
      {
        "duration": 31,
        "start_time": "2023-04-04T13:32:27.978Z"
      },
      {
        "duration": 54,
        "start_time": "2023-04-04T13:32:28.011Z"
      },
      {
        "duration": 62,
        "start_time": "2023-04-04T13:32:28.067Z"
      },
      {
        "duration": 19,
        "start_time": "2023-04-04T13:32:28.131Z"
      },
      {
        "duration": 23,
        "start_time": "2023-04-04T13:32:28.152Z"
      },
      {
        "duration": 21,
        "start_time": "2023-04-04T13:32:28.179Z"
      },
      {
        "duration": 23,
        "start_time": "2023-04-04T13:32:28.201Z"
      },
      {
        "duration": 37,
        "start_time": "2023-04-04T13:32:28.227Z"
      },
      {
        "duration": 23,
        "start_time": "2023-04-04T13:32:28.265Z"
      },
      {
        "duration": 6,
        "start_time": "2023-04-04T13:32:28.290Z"
      },
      {
        "duration": 29,
        "start_time": "2023-04-04T13:32:28.298Z"
      },
      {
        "duration": 28,
        "start_time": "2023-04-04T13:32:28.329Z"
      },
      {
        "duration": 19,
        "start_time": "2023-04-04T13:32:28.359Z"
      },
      {
        "duration": 8,
        "start_time": "2023-04-04T13:32:28.380Z"
      },
      {
        "duration": 10,
        "start_time": "2023-04-04T13:32:28.390Z"
      },
      {
        "duration": 13,
        "start_time": "2023-04-04T13:32:28.401Z"
      },
      {
        "duration": 27,
        "start_time": "2023-04-04T13:32:28.416Z"
      },
      {
        "duration": 12,
        "start_time": "2023-04-04T13:32:28.445Z"
      },
      {
        "duration": 35,
        "start_time": "2023-04-04T13:32:28.458Z"
      },
      {
        "duration": 161,
        "start_time": "2023-04-04T13:32:28.495Z"
      },
      {
        "duration": 0,
        "start_time": "2023-04-04T13:32:28.658Z"
      },
      {
        "duration": 0,
        "start_time": "2023-04-04T13:32:28.659Z"
      },
      {
        "duration": 0,
        "start_time": "2023-04-04T13:32:28.660Z"
      },
      {
        "duration": 0,
        "start_time": "2023-04-04T13:32:28.662Z"
      },
      {
        "duration": 0,
        "start_time": "2023-04-04T13:32:28.663Z"
      },
      {
        "duration": 0,
        "start_time": "2023-04-04T13:32:28.665Z"
      },
      {
        "duration": 0,
        "start_time": "2023-04-04T13:32:28.666Z"
      },
      {
        "duration": 1,
        "start_time": "2023-04-04T13:32:28.667Z"
      },
      {
        "duration": 0,
        "start_time": "2023-04-04T13:32:28.668Z"
      },
      {
        "duration": 0,
        "start_time": "2023-04-04T13:32:28.670Z"
      },
      {
        "duration": 0,
        "start_time": "2023-04-04T13:32:28.671Z"
      },
      {
        "duration": 0,
        "start_time": "2023-04-04T13:32:28.672Z"
      },
      {
        "duration": 0,
        "start_time": "2023-04-04T13:32:28.674Z"
      },
      {
        "duration": 0,
        "start_time": "2023-04-04T13:32:28.675Z"
      },
      {
        "duration": 820,
        "start_time": "2023-04-04T13:34:05.580Z"
      },
      {
        "duration": 589,
        "start_time": "2023-04-04T13:40:53.761Z"
      },
      {
        "duration": 58830,
        "start_time": "2023-04-04T13:41:02.974Z"
      },
      {
        "duration": 2181,
        "start_time": "2023-04-04T13:42:29.972Z"
      },
      {
        "duration": 1248,
        "start_time": "2023-04-04T13:42:32.155Z"
      },
      {
        "duration": 6,
        "start_time": "2023-04-04T13:42:33.405Z"
      },
      {
        "duration": 11,
        "start_time": "2023-04-04T13:42:33.413Z"
      },
      {
        "duration": 1215,
        "start_time": "2023-04-04T13:42:33.425Z"
      },
      {
        "duration": 4,
        "start_time": "2023-04-04T13:42:34.641Z"
      },
      {
        "duration": 531,
        "start_time": "2023-04-04T13:42:34.646Z"
      },
      {
        "duration": 42,
        "start_time": "2023-04-04T13:42:35.178Z"
      },
      {
        "duration": 28,
        "start_time": "2023-04-04T13:42:35.222Z"
      },
      {
        "duration": 121,
        "start_time": "2023-04-04T13:42:35.253Z"
      },
      {
        "duration": 44,
        "start_time": "2023-04-04T13:42:35.376Z"
      },
      {
        "duration": 90,
        "start_time": "2023-04-04T13:42:35.422Z"
      },
      {
        "duration": 11,
        "start_time": "2023-04-04T13:42:35.513Z"
      },
      {
        "duration": 46,
        "start_time": "2023-04-04T13:42:35.526Z"
      },
      {
        "duration": 23,
        "start_time": "2023-04-04T13:42:35.574Z"
      },
      {
        "duration": 171,
        "start_time": "2023-04-04T13:42:35.599Z"
      },
      {
        "duration": 15,
        "start_time": "2023-04-04T13:42:35.771Z"
      },
      {
        "duration": 118,
        "start_time": "2023-04-04T13:42:35.788Z"
      },
      {
        "duration": 17,
        "start_time": "2023-04-04T13:42:35.907Z"
      },
      {
        "duration": 35,
        "start_time": "2023-04-04T13:42:35.926Z"
      },
      {
        "duration": 91,
        "start_time": "2023-04-04T13:42:35.962Z"
      },
      {
        "duration": 103,
        "start_time": "2023-04-04T13:42:36.055Z"
      },
      {
        "duration": 27,
        "start_time": "2023-04-04T13:42:36.160Z"
      },
      {
        "duration": 18,
        "start_time": "2023-04-04T13:42:36.189Z"
      },
      {
        "duration": 52,
        "start_time": "2023-04-04T13:42:36.209Z"
      },
      {
        "duration": 8,
        "start_time": "2023-04-04T13:42:36.262Z"
      },
      {
        "duration": 16,
        "start_time": "2023-04-04T13:42:36.271Z"
      },
      {
        "duration": 14,
        "start_time": "2023-04-04T13:42:36.291Z"
      },
      {
        "duration": 14,
        "start_time": "2023-04-04T13:42:36.307Z"
      },
      {
        "duration": 45,
        "start_time": "2023-04-04T13:42:36.322Z"
      },
      {
        "duration": 8,
        "start_time": "2023-04-04T13:42:36.369Z"
      },
      {
        "duration": 4,
        "start_time": "2023-04-04T13:42:36.378Z"
      },
      {
        "duration": 9,
        "start_time": "2023-04-04T13:42:36.383Z"
      },
      {
        "duration": 11,
        "start_time": "2023-04-04T13:42:36.394Z"
      },
      {
        "duration": 6,
        "start_time": "2023-04-04T13:42:36.406Z"
      },
      {
        "duration": 11,
        "start_time": "2023-04-04T13:42:36.414Z"
      },
      {
        "duration": 24,
        "start_time": "2023-04-04T13:42:36.426Z"
      },
      {
        "duration": 6,
        "start_time": "2023-04-04T13:42:36.452Z"
      },
      {
        "duration": 20,
        "start_time": "2023-04-04T13:42:36.460Z"
      },
      {
        "duration": 6,
        "start_time": "2023-04-04T13:42:36.481Z"
      },
      {
        "duration": 25,
        "start_time": "2023-04-04T13:42:36.489Z"
      },
      {
        "duration": 539,
        "start_time": "2023-04-04T13:42:36.516Z"
      },
      {
        "duration": 18,
        "start_time": "2023-04-04T13:42:37.057Z"
      },
      {
        "duration": 72,
        "start_time": "2023-04-04T13:42:37.077Z"
      },
      {
        "duration": 114,
        "start_time": "2023-04-04T13:42:37.151Z"
      },
      {
        "duration": 151,
        "start_time": "2023-04-04T13:42:37.267Z"
      },
      {
        "duration": 29,
        "start_time": "2023-04-04T13:42:37.420Z"
      },
      {
        "duration": 6,
        "start_time": "2023-04-04T13:42:37.451Z"
      },
      {
        "duration": 21,
        "start_time": "2023-04-04T13:42:37.459Z"
      },
      {
        "duration": 3,
        "start_time": "2023-04-04T13:42:37.481Z"
      },
      {
        "duration": 10,
        "start_time": "2023-04-04T13:42:37.485Z"
      },
      {
        "duration": 20,
        "start_time": "2023-04-04T13:42:37.496Z"
      },
      {
        "duration": 3,
        "start_time": "2023-04-04T13:42:37.518Z"
      },
      {
        "duration": 9,
        "start_time": "2023-04-04T13:42:37.522Z"
      },
      {
        "duration": 22,
        "start_time": "2023-04-04T13:42:37.533Z"
      },
      {
        "duration": 11,
        "start_time": "2023-04-04T13:42:37.557Z"
      },
      {
        "duration": 2690,
        "start_time": "2023-04-04T13:55:18.061Z"
      },
      {
        "duration": 1266,
        "start_time": "2023-04-04T13:55:20.754Z"
      },
      {
        "duration": 6,
        "start_time": "2023-04-04T13:55:22.022Z"
      },
      {
        "duration": 8,
        "start_time": "2023-04-04T13:55:22.030Z"
      },
      {
        "duration": 844,
        "start_time": "2023-04-04T13:55:22.048Z"
      },
      {
        "duration": 4,
        "start_time": "2023-04-04T13:55:22.894Z"
      },
      {
        "duration": 557,
        "start_time": "2023-04-04T13:55:22.900Z"
      },
      {
        "duration": 32,
        "start_time": "2023-04-04T13:55:23.459Z"
      },
      {
        "duration": 12,
        "start_time": "2023-04-04T13:55:23.493Z"
      },
      {
        "duration": 108,
        "start_time": "2023-04-04T13:55:23.507Z"
      },
      {
        "duration": 57,
        "start_time": "2023-04-04T13:55:23.616Z"
      },
      {
        "duration": 140,
        "start_time": "2023-04-04T13:55:23.675Z"
      },
      {
        "duration": 13,
        "start_time": "2023-04-04T13:55:23.817Z"
      },
      {
        "duration": 41,
        "start_time": "2023-04-04T13:55:23.833Z"
      },
      {
        "duration": 6,
        "start_time": "2023-04-04T13:55:23.876Z"
      },
      {
        "duration": 210,
        "start_time": "2023-04-04T13:55:23.884Z"
      },
      {
        "duration": 18,
        "start_time": "2023-04-04T13:55:24.096Z"
      },
      {
        "duration": 109,
        "start_time": "2023-04-04T13:55:24.116Z"
      },
      {
        "duration": 26,
        "start_time": "2023-04-04T13:55:24.227Z"
      },
      {
        "duration": 12,
        "start_time": "2023-04-04T13:55:24.254Z"
      },
      {
        "duration": 117,
        "start_time": "2023-04-04T13:55:24.268Z"
      },
      {
        "duration": 116,
        "start_time": "2023-04-04T13:55:24.387Z"
      },
      {
        "duration": 31,
        "start_time": "2023-04-04T13:55:24.505Z"
      },
      {
        "duration": 22,
        "start_time": "2023-04-04T13:55:24.548Z"
      },
      {
        "duration": 49,
        "start_time": "2023-04-04T13:55:24.572Z"
      },
      {
        "duration": 28,
        "start_time": "2023-04-04T13:55:24.623Z"
      },
      {
        "duration": 29,
        "start_time": "2023-04-04T13:55:24.655Z"
      },
      {
        "duration": 45,
        "start_time": "2023-04-04T13:55:24.686Z"
      },
      {
        "duration": 37,
        "start_time": "2023-04-04T13:55:24.733Z"
      },
      {
        "duration": 17,
        "start_time": "2023-04-04T13:55:24.772Z"
      },
      {
        "duration": 52,
        "start_time": "2023-04-04T13:55:24.791Z"
      },
      {
        "duration": 12,
        "start_time": "2023-04-04T13:55:24.845Z"
      },
      {
        "duration": 14,
        "start_time": "2023-04-04T13:55:24.858Z"
      },
      {
        "duration": 14,
        "start_time": "2023-04-04T13:55:24.874Z"
      },
      {
        "duration": 26,
        "start_time": "2023-04-04T13:55:24.890Z"
      },
      {
        "duration": 38,
        "start_time": "2023-04-04T13:55:24.918Z"
      },
      {
        "duration": 26,
        "start_time": "2023-04-04T13:55:24.960Z"
      },
      {
        "duration": 37,
        "start_time": "2023-04-04T13:55:24.988Z"
      },
      {
        "duration": 30,
        "start_time": "2023-04-04T13:55:25.027Z"
      },
      {
        "duration": 28,
        "start_time": "2023-04-04T13:55:25.059Z"
      },
      {
        "duration": 15,
        "start_time": "2023-04-04T13:55:25.092Z"
      },
      {
        "duration": 29,
        "start_time": "2023-04-04T13:55:25.109Z"
      },
      {
        "duration": 617,
        "start_time": "2023-04-04T13:55:25.139Z"
      },
      {
        "duration": 18,
        "start_time": "2023-04-04T13:55:25.758Z"
      },
      {
        "duration": 22,
        "start_time": "2023-04-04T13:55:25.778Z"
      },
      {
        "duration": 103,
        "start_time": "2023-04-04T13:55:25.849Z"
      },
      {
        "duration": 169,
        "start_time": "2023-04-04T13:55:25.954Z"
      },
      {
        "duration": 32,
        "start_time": "2023-04-04T13:55:26.125Z"
      },
      {
        "duration": 8,
        "start_time": "2023-04-04T13:55:26.158Z"
      },
      {
        "duration": 32,
        "start_time": "2023-04-04T13:55:26.168Z"
      },
      {
        "duration": 3,
        "start_time": "2023-04-04T13:55:26.202Z"
      },
      {
        "duration": 21,
        "start_time": "2023-04-04T13:55:26.207Z"
      },
      {
        "duration": 45,
        "start_time": "2023-04-04T13:55:26.229Z"
      },
      {
        "duration": 20,
        "start_time": "2023-04-04T13:55:26.276Z"
      },
      {
        "duration": 9,
        "start_time": "2023-04-04T13:55:26.298Z"
      },
      {
        "duration": 12,
        "start_time": "2023-04-04T13:55:26.309Z"
      },
      {
        "duration": 9,
        "start_time": "2023-04-04T13:55:26.323Z"
      },
      {
        "duration": 59,
        "start_time": "2023-04-04T13:59:09.185Z"
      },
      {
        "duration": 75,
        "start_time": "2023-04-04T14:00:58.126Z"
      },
      {
        "duration": 13,
        "start_time": "2023-04-04T14:20:56.399Z"
      },
      {
        "duration": 40,
        "start_time": "2023-04-04T15:29:13.577Z"
      },
      {
        "duration": 2139,
        "start_time": "2023-04-04T16:06:02.923Z"
      },
      {
        "duration": 1207,
        "start_time": "2023-04-04T16:06:05.064Z"
      },
      {
        "duration": 6,
        "start_time": "2023-04-04T16:06:06.272Z"
      },
      {
        "duration": 11,
        "start_time": "2023-04-04T16:06:06.281Z"
      },
      {
        "duration": 1225,
        "start_time": "2023-04-04T16:06:06.293Z"
      },
      {
        "duration": 5,
        "start_time": "2023-04-04T16:06:07.519Z"
      },
      {
        "duration": 561,
        "start_time": "2023-04-04T16:06:07.525Z"
      },
      {
        "duration": 32,
        "start_time": "2023-04-04T16:06:08.088Z"
      },
      {
        "duration": 15,
        "start_time": "2023-04-04T16:06:08.122Z"
      },
      {
        "duration": 90,
        "start_time": "2023-04-04T16:06:08.156Z"
      },
      {
        "duration": 32,
        "start_time": "2023-04-04T16:06:08.260Z"
      },
      {
        "duration": 100,
        "start_time": "2023-04-04T16:06:08.293Z"
      },
      {
        "duration": 13,
        "start_time": "2023-04-04T16:06:08.395Z"
      },
      {
        "duration": 19,
        "start_time": "2023-04-04T16:06:08.410Z"
      },
      {
        "duration": 25,
        "start_time": "2023-04-04T16:06:08.430Z"
      },
      {
        "duration": 203,
        "start_time": "2023-04-04T16:06:08.456Z"
      },
      {
        "duration": 17,
        "start_time": "2023-04-04T16:06:08.661Z"
      },
      {
        "duration": 104,
        "start_time": "2023-04-04T16:06:08.680Z"
      },
      {
        "duration": 19,
        "start_time": "2023-04-04T16:06:08.786Z"
      },
      {
        "duration": 17,
        "start_time": "2023-04-04T16:06:08.806Z"
      },
      {
        "duration": 105,
        "start_time": "2023-04-04T16:06:08.825Z"
      },
      {
        "duration": 105,
        "start_time": "2023-04-04T16:06:08.932Z"
      },
      {
        "duration": 40,
        "start_time": "2023-04-04T16:06:09.038Z"
      },
      {
        "duration": 19,
        "start_time": "2023-04-04T16:06:09.079Z"
      },
      {
        "duration": 45,
        "start_time": "2023-04-04T16:06:09.100Z"
      },
      {
        "duration": 19,
        "start_time": "2023-04-04T16:06:09.146Z"
      },
      {
        "duration": 16,
        "start_time": "2023-04-04T16:06:09.167Z"
      },
      {
        "duration": 15,
        "start_time": "2023-04-04T16:06:09.187Z"
      },
      {
        "duration": 38,
        "start_time": "2023-04-04T16:06:09.203Z"
      },
      {
        "duration": 17,
        "start_time": "2023-04-04T16:06:09.242Z"
      },
      {
        "duration": 33,
        "start_time": "2023-04-04T16:06:09.261Z"
      },
      {
        "duration": 7,
        "start_time": "2023-04-04T16:06:09.295Z"
      },
      {
        "duration": 22,
        "start_time": "2023-04-04T16:06:09.304Z"
      },
      {
        "duration": 12,
        "start_time": "2023-04-04T16:06:09.328Z"
      },
      {
        "duration": 29,
        "start_time": "2023-04-04T16:06:09.341Z"
      },
      {
        "duration": 16,
        "start_time": "2023-04-04T16:06:09.372Z"
      },
      {
        "duration": 5,
        "start_time": "2023-04-04T16:06:09.390Z"
      },
      {
        "duration": 10,
        "start_time": "2023-04-04T16:06:09.396Z"
      },
      {
        "duration": 10,
        "start_time": "2023-04-04T16:06:09.407Z"
      },
      {
        "duration": 25,
        "start_time": "2023-04-04T16:06:09.418Z"
      },
      {
        "duration": 20,
        "start_time": "2023-04-04T16:06:09.445Z"
      },
      {
        "duration": 16,
        "start_time": "2023-04-04T16:06:09.467Z"
      },
      {
        "duration": 16,
        "start_time": "2023-04-04T16:06:09.484Z"
      },
      {
        "duration": 492,
        "start_time": "2023-04-04T16:06:09.501Z"
      },
      {
        "duration": 12,
        "start_time": "2023-04-04T16:06:09.994Z"
      },
      {
        "duration": 16,
        "start_time": "2023-04-04T16:06:10.051Z"
      },
      {
        "duration": 97,
        "start_time": "2023-04-04T16:06:10.069Z"
      },
      {
        "duration": 17,
        "start_time": "2023-04-04T16:06:10.168Z"
      },
      {
        "duration": 6,
        "start_time": "2023-04-04T16:06:10.187Z"
      },
      {
        "duration": 20,
        "start_time": "2023-04-04T16:06:10.194Z"
      },
      {
        "duration": 31,
        "start_time": "2023-04-04T16:06:10.215Z"
      },
      {
        "duration": 3,
        "start_time": "2023-04-04T16:06:10.256Z"
      },
      {
        "duration": 15,
        "start_time": "2023-04-04T16:06:10.260Z"
      },
      {
        "duration": 18,
        "start_time": "2023-04-04T16:06:10.276Z"
      },
      {
        "duration": 9,
        "start_time": "2023-04-04T16:06:10.295Z"
      },
      {
        "duration": 37,
        "start_time": "2023-04-04T16:06:10.305Z"
      },
      {
        "duration": 41,
        "start_time": "2023-04-04T16:06:10.343Z"
      },
      {
        "duration": 17,
        "start_time": "2023-04-04T16:06:10.386Z"
      },
      {
        "duration": 22130,
        "start_time": "2023-04-05T07:02:37.797Z"
      },
      {
        "duration": 1388,
        "start_time": "2023-04-05T07:02:59.929Z"
      },
      {
        "duration": 6,
        "start_time": "2023-04-05T07:03:01.318Z"
      },
      {
        "duration": 37,
        "start_time": "2023-04-05T07:03:01.326Z"
      },
      {
        "duration": 1097,
        "start_time": "2023-04-05T07:03:01.365Z"
      },
      {
        "duration": 4,
        "start_time": "2023-04-05T07:03:02.464Z"
      },
      {
        "duration": 526,
        "start_time": "2023-04-05T07:03:02.469Z"
      },
      {
        "duration": 34,
        "start_time": "2023-04-05T07:03:02.997Z"
      },
      {
        "duration": 39,
        "start_time": "2023-04-05T07:03:03.033Z"
      },
      {
        "duration": 132,
        "start_time": "2023-04-05T07:03:03.076Z"
      },
      {
        "duration": 33,
        "start_time": "2023-04-05T07:03:03.210Z"
      },
      {
        "duration": 75,
        "start_time": "2023-04-05T07:03:03.249Z"
      },
      {
        "duration": 23,
        "start_time": "2023-04-05T07:03:03.326Z"
      },
      {
        "duration": 33,
        "start_time": "2023-04-05T07:03:03.350Z"
      },
      {
        "duration": 18,
        "start_time": "2023-04-05T07:03:03.385Z"
      },
      {
        "duration": 153,
        "start_time": "2023-04-05T07:03:03.404Z"
      },
      {
        "duration": 18,
        "start_time": "2023-04-05T07:03:03.558Z"
      },
      {
        "duration": 99,
        "start_time": "2023-04-05T07:03:03.577Z"
      },
      {
        "duration": 20,
        "start_time": "2023-04-05T07:03:03.677Z"
      },
      {
        "duration": 11,
        "start_time": "2023-04-05T07:03:03.699Z"
      },
      {
        "duration": 123,
        "start_time": "2023-04-05T07:03:03.712Z"
      },
      {
        "duration": 112,
        "start_time": "2023-04-05T07:03:03.837Z"
      },
      {
        "duration": 37,
        "start_time": "2023-04-05T07:03:03.951Z"
      },
      {
        "duration": 38,
        "start_time": "2023-04-05T07:03:03.990Z"
      },
      {
        "duration": 78,
        "start_time": "2023-04-05T07:03:04.029Z"
      },
      {
        "duration": 8,
        "start_time": "2023-04-05T07:03:04.108Z"
      },
      {
        "duration": 47,
        "start_time": "2023-04-05T07:03:04.118Z"
      },
      {
        "duration": 31,
        "start_time": "2023-04-05T07:03:04.169Z"
      },
      {
        "duration": 22,
        "start_time": "2023-04-05T07:03:04.201Z"
      },
      {
        "duration": 35,
        "start_time": "2023-04-05T07:03:04.225Z"
      },
      {
        "duration": 41,
        "start_time": "2023-04-05T07:03:04.262Z"
      },
      {
        "duration": 8,
        "start_time": "2023-04-05T07:03:04.305Z"
      },
      {
        "duration": 19,
        "start_time": "2023-04-05T07:03:04.314Z"
      },
      {
        "duration": 17,
        "start_time": "2023-04-05T07:03:04.335Z"
      },
      {
        "duration": 19,
        "start_time": "2023-04-05T07:03:04.354Z"
      },
      {
        "duration": 26,
        "start_time": "2023-04-05T07:03:04.375Z"
      },
      {
        "duration": 21,
        "start_time": "2023-04-05T07:03:04.403Z"
      },
      {
        "duration": 31,
        "start_time": "2023-04-05T07:03:04.427Z"
      },
      {
        "duration": 32,
        "start_time": "2023-04-05T07:03:04.460Z"
      },
      {
        "duration": 33,
        "start_time": "2023-04-05T07:03:04.494Z"
      },
      {
        "duration": 16,
        "start_time": "2023-04-05T07:03:04.529Z"
      },
      {
        "duration": 28,
        "start_time": "2023-04-05T07:03:04.547Z"
      },
      {
        "duration": 28,
        "start_time": "2023-04-05T07:03:04.577Z"
      },
      {
        "duration": 140,
        "start_time": "2023-04-05T07:03:04.607Z"
      },
      {
        "duration": 0,
        "start_time": "2023-04-05T07:03:04.749Z"
      },
      {
        "duration": 0,
        "start_time": "2023-04-05T07:03:04.750Z"
      },
      {
        "duration": 0,
        "start_time": "2023-04-05T07:03:04.751Z"
      },
      {
        "duration": 0,
        "start_time": "2023-04-05T07:03:04.752Z"
      },
      {
        "duration": 0,
        "start_time": "2023-04-05T07:03:04.753Z"
      },
      {
        "duration": 0,
        "start_time": "2023-04-05T07:03:04.754Z"
      },
      {
        "duration": 0,
        "start_time": "2023-04-05T07:03:04.754Z"
      },
      {
        "duration": 0,
        "start_time": "2023-04-05T07:03:04.756Z"
      },
      {
        "duration": 0,
        "start_time": "2023-04-05T07:03:04.757Z"
      },
      {
        "duration": 0,
        "start_time": "2023-04-05T07:03:04.758Z"
      },
      {
        "duration": 0,
        "start_time": "2023-04-05T07:03:04.759Z"
      },
      {
        "duration": 0,
        "start_time": "2023-04-05T07:03:04.760Z"
      },
      {
        "duration": 0,
        "start_time": "2023-04-05T07:03:04.760Z"
      },
      {
        "duration": 0,
        "start_time": "2023-04-05T07:03:04.761Z"
      },
      {
        "duration": 4,
        "start_time": "2023-04-05T07:03:47.775Z"
      },
      {
        "duration": 3,
        "start_time": "2023-04-05T07:03:55.929Z"
      },
      {
        "duration": 14,
        "start_time": "2023-04-05T07:04:45.568Z"
      },
      {
        "duration": 18516,
        "start_time": "2023-04-05T07:04:53.472Z"
      },
      {
        "duration": 1147,
        "start_time": "2023-04-05T07:05:11.989Z"
      },
      {
        "duration": 5,
        "start_time": "2023-04-05T07:05:13.137Z"
      },
      {
        "duration": 9,
        "start_time": "2023-04-05T07:05:13.143Z"
      },
      {
        "duration": 967,
        "start_time": "2023-04-05T07:05:13.153Z"
      },
      {
        "duration": 4,
        "start_time": "2023-04-05T07:05:14.121Z"
      },
      {
        "duration": 498,
        "start_time": "2023-04-05T07:05:14.126Z"
      },
      {
        "duration": 36,
        "start_time": "2023-04-05T07:05:14.626Z"
      },
      {
        "duration": 19,
        "start_time": "2023-04-05T07:05:14.663Z"
      },
      {
        "duration": 78,
        "start_time": "2023-04-05T07:05:14.684Z"
      },
      {
        "duration": 29,
        "start_time": "2023-04-05T07:05:14.764Z"
      },
      {
        "duration": 84,
        "start_time": "2023-04-05T07:05:14.794Z"
      },
      {
        "duration": 11,
        "start_time": "2023-04-05T07:05:14.880Z"
      },
      {
        "duration": 32,
        "start_time": "2023-04-05T07:05:14.892Z"
      },
      {
        "duration": 3,
        "start_time": "2023-04-05T07:05:14.925Z"
      },
      {
        "duration": 149,
        "start_time": "2023-04-05T07:05:14.930Z"
      },
      {
        "duration": 15,
        "start_time": "2023-04-05T07:05:15.081Z"
      },
      {
        "duration": 87,
        "start_time": "2023-04-05T07:05:15.097Z"
      },
      {
        "duration": 16,
        "start_time": "2023-04-05T07:05:15.186Z"
      },
      {
        "duration": 22,
        "start_time": "2023-04-05T07:05:15.203Z"
      },
      {
        "duration": 86,
        "start_time": "2023-04-05T07:05:15.227Z"
      },
      {
        "duration": 87,
        "start_time": "2023-04-05T07:05:15.314Z"
      },
      {
        "duration": 25,
        "start_time": "2023-04-05T07:05:15.403Z"
      },
      {
        "duration": 29,
        "start_time": "2023-04-05T07:05:15.430Z"
      },
      {
        "duration": 49,
        "start_time": "2023-04-05T07:05:15.460Z"
      },
      {
        "duration": 7,
        "start_time": "2023-04-05T07:05:15.511Z"
      },
      {
        "duration": 25,
        "start_time": "2023-04-05T07:05:15.520Z"
      },
      {
        "duration": 14,
        "start_time": "2023-04-05T07:05:15.548Z"
      },
      {
        "duration": 74,
        "start_time": "2023-04-05T07:05:15.563Z"
      },
      {
        "duration": 0,
        "start_time": "2023-04-05T07:05:15.638Z"
      },
      {
        "duration": 0,
        "start_time": "2023-04-05T07:05:15.640Z"
      },
      {
        "duration": 0,
        "start_time": "2023-04-05T07:05:15.641Z"
      },
      {
        "duration": 0,
        "start_time": "2023-04-05T07:05:15.642Z"
      },
      {
        "duration": 0,
        "start_time": "2023-04-05T07:05:15.643Z"
      },
      {
        "duration": 0,
        "start_time": "2023-04-05T07:05:15.643Z"
      },
      {
        "duration": 0,
        "start_time": "2023-04-05T07:05:15.644Z"
      },
      {
        "duration": 0,
        "start_time": "2023-04-05T07:05:15.645Z"
      },
      {
        "duration": 0,
        "start_time": "2023-04-05T07:05:15.646Z"
      },
      {
        "duration": 0,
        "start_time": "2023-04-05T07:05:15.647Z"
      },
      {
        "duration": 0,
        "start_time": "2023-04-05T07:05:15.648Z"
      },
      {
        "duration": 0,
        "start_time": "2023-04-05T07:05:15.649Z"
      },
      {
        "duration": 0,
        "start_time": "2023-04-05T07:05:15.650Z"
      },
      {
        "duration": 0,
        "start_time": "2023-04-05T07:05:15.651Z"
      },
      {
        "duration": 0,
        "start_time": "2023-04-05T07:05:15.652Z"
      },
      {
        "duration": 0,
        "start_time": "2023-04-05T07:05:15.652Z"
      },
      {
        "duration": 0,
        "start_time": "2023-04-05T07:05:15.653Z"
      },
      {
        "duration": 0,
        "start_time": "2023-04-05T07:05:15.654Z"
      },
      {
        "duration": 0,
        "start_time": "2023-04-05T07:05:15.655Z"
      },
      {
        "duration": 0,
        "start_time": "2023-04-05T07:05:15.656Z"
      },
      {
        "duration": 0,
        "start_time": "2023-04-05T07:05:15.657Z"
      },
      {
        "duration": 0,
        "start_time": "2023-04-05T07:05:15.658Z"
      },
      {
        "duration": 0,
        "start_time": "2023-04-05T07:05:15.659Z"
      },
      {
        "duration": 0,
        "start_time": "2023-04-05T07:05:15.660Z"
      },
      {
        "duration": 0,
        "start_time": "2023-04-05T07:05:15.661Z"
      },
      {
        "duration": 0,
        "start_time": "2023-04-05T07:05:15.661Z"
      },
      {
        "duration": 0,
        "start_time": "2023-04-05T07:05:15.662Z"
      },
      {
        "duration": 0,
        "start_time": "2023-04-05T07:05:15.663Z"
      },
      {
        "duration": 0,
        "start_time": "2023-04-05T07:05:15.664Z"
      },
      {
        "duration": 0,
        "start_time": "2023-04-05T07:05:15.665Z"
      },
      {
        "duration": 0,
        "start_time": "2023-04-05T07:05:15.665Z"
      },
      {
        "duration": 15,
        "start_time": "2023-04-05T07:05:19.815Z"
      },
      {
        "duration": 4,
        "start_time": "2023-04-05T07:05:25.625Z"
      },
      {
        "duration": 11,
        "start_time": "2023-04-05T07:05:54.845Z"
      },
      {
        "duration": 5,
        "start_time": "2023-04-05T07:06:19.999Z"
      },
      {
        "duration": 5,
        "start_time": "2023-04-05T07:08:28.129Z"
      },
      {
        "duration": 6,
        "start_time": "2023-04-05T07:08:52.123Z"
      },
      {
        "duration": 22,
        "start_time": "2023-04-05T07:10:01.901Z"
      },
      {
        "duration": 22,
        "start_time": "2023-04-05T07:10:20.048Z"
      },
      {
        "duration": 29,
        "start_time": "2023-04-05T07:10:38.836Z"
      },
      {
        "duration": 14,
        "start_time": "2023-04-05T07:11:57.139Z"
      },
      {
        "duration": 11,
        "start_time": "2023-04-05T07:11:57.603Z"
      },
      {
        "duration": 18,
        "start_time": "2023-04-05T07:11:57.817Z"
      },
      {
        "duration": 8,
        "start_time": "2023-04-05T07:11:58.117Z"
      },
      {
        "duration": 4,
        "start_time": "2023-04-05T07:11:58.669Z"
      },
      {
        "duration": 4,
        "start_time": "2023-04-05T07:11:59.173Z"
      },
      {
        "duration": 4,
        "start_time": "2023-04-05T07:11:59.341Z"
      },
      {
        "duration": 8,
        "start_time": "2023-04-05T07:11:59.516Z"
      },
      {
        "duration": 6,
        "start_time": "2023-04-05T07:11:59.849Z"
      },
      {
        "duration": 6,
        "start_time": "2023-04-05T07:12:00.197Z"
      },
      {
        "duration": 6,
        "start_time": "2023-04-05T07:12:00.390Z"
      },
      {
        "duration": 7,
        "start_time": "2023-04-05T07:12:00.539Z"
      },
      {
        "duration": 4,
        "start_time": "2023-04-05T07:12:01.077Z"
      },
      {
        "duration": 9,
        "start_time": "2023-04-05T07:12:01.279Z"
      },
      {
        "duration": 10,
        "start_time": "2023-04-05T07:12:02.526Z"
      },
      {
        "duration": 913,
        "start_time": "2023-04-05T07:12:02.854Z"
      },
      {
        "duration": 12,
        "start_time": "2023-04-05T07:12:29.566Z"
      },
      {
        "duration": 10,
        "start_time": "2023-04-05T07:12:29.761Z"
      },
      {
        "duration": 44,
        "start_time": "2023-04-05T07:12:29.963Z"
      },
      {
        "duration": 16,
        "start_time": "2023-04-05T07:12:55.923Z"
      },
      {
        "duration": 6,
        "start_time": "2023-04-05T07:12:56.170Z"
      },
      {
        "duration": 12,
        "start_time": "2023-04-05T07:12:56.396Z"
      },
      {
        "duration": 24,
        "start_time": "2023-04-05T07:13:04.295Z"
      },
      {
        "duration": 2,
        "start_time": "2023-04-05T07:15:39.883Z"
      },
      {
        "duration": 5,
        "start_time": "2023-04-05T07:15:40.032Z"
      },
      {
        "duration": 10,
        "start_time": "2023-04-05T07:15:40.178Z"
      },
      {
        "duration": 3,
        "start_time": "2023-04-05T07:15:40.317Z"
      },
      {
        "duration": 6,
        "start_time": "2023-04-05T07:15:40.454Z"
      },
      {
        "duration": 8,
        "start_time": "2023-04-05T07:15:40.721Z"
      },
      {
        "duration": 3,
        "start_time": "2023-04-05T07:15:41.316Z"
      },
      {
        "duration": 73997,
        "start_time": "2023-04-05T12:59:28.582Z"
      },
      {
        "duration": 1636,
        "start_time": "2023-04-05T13:00:42.581Z"
      },
      {
        "duration": 7,
        "start_time": "2023-04-05T13:00:44.219Z"
      },
      {
        "duration": 22,
        "start_time": "2023-04-05T13:00:44.228Z"
      },
      {
        "duration": 1662,
        "start_time": "2023-04-05T13:00:44.253Z"
      },
      {
        "duration": 4,
        "start_time": "2023-04-05T13:00:45.917Z"
      },
      {
        "duration": 777,
        "start_time": "2023-04-05T13:00:45.922Z"
      },
      {
        "duration": 66,
        "start_time": "2023-04-05T13:00:46.702Z"
      },
      {
        "duration": 21,
        "start_time": "2023-04-05T13:00:46.770Z"
      },
      {
        "duration": 114,
        "start_time": "2023-04-05T13:00:46.795Z"
      },
      {
        "duration": 58,
        "start_time": "2023-04-05T13:00:46.911Z"
      },
      {
        "duration": 104,
        "start_time": "2023-04-05T13:00:46.971Z"
      },
      {
        "duration": 13,
        "start_time": "2023-04-05T13:00:47.077Z"
      },
      {
        "duration": 37,
        "start_time": "2023-04-05T13:00:47.092Z"
      },
      {
        "duration": 11,
        "start_time": "2023-04-05T13:00:47.131Z"
      },
      {
        "duration": 287,
        "start_time": "2023-04-05T13:00:47.145Z"
      },
      {
        "duration": 25,
        "start_time": "2023-04-05T13:00:47.434Z"
      },
      {
        "duration": 133,
        "start_time": "2023-04-05T13:00:47.461Z"
      },
      {
        "duration": 23,
        "start_time": "2023-04-05T13:00:47.597Z"
      },
      {
        "duration": 27,
        "start_time": "2023-04-05T13:00:47.622Z"
      },
      {
        "duration": 110,
        "start_time": "2023-04-05T13:00:47.651Z"
      },
      {
        "duration": 110,
        "start_time": "2023-04-05T13:00:47.763Z"
      },
      {
        "duration": 34,
        "start_time": "2023-04-05T13:00:47.874Z"
      },
      {
        "duration": 57,
        "start_time": "2023-04-05T13:00:47.910Z"
      },
      {
        "duration": 32,
        "start_time": "2023-04-05T13:00:47.968Z"
      },
      {
        "duration": 9,
        "start_time": "2023-04-05T13:00:48.002Z"
      },
      {
        "duration": 45,
        "start_time": "2023-04-05T13:00:48.013Z"
      },
      {
        "duration": 19,
        "start_time": "2023-04-05T13:00:48.062Z"
      },
      {
        "duration": 6,
        "start_time": "2023-04-05T13:00:48.083Z"
      },
      {
        "duration": 21,
        "start_time": "2023-04-05T13:00:48.091Z"
      },
      {
        "duration": 8,
        "start_time": "2023-04-05T13:00:48.114Z"
      },
      {
        "duration": 52,
        "start_time": "2023-04-05T13:00:48.123Z"
      },
      {
        "duration": 21,
        "start_time": "2023-04-05T13:00:48.176Z"
      },
      {
        "duration": 24,
        "start_time": "2023-04-05T13:00:48.199Z"
      },
      {
        "duration": 40,
        "start_time": "2023-04-05T13:00:48.225Z"
      },
      {
        "duration": 9,
        "start_time": "2023-04-05T13:00:48.266Z"
      },
      {
        "duration": 40,
        "start_time": "2023-04-05T13:00:48.277Z"
      },
      {
        "duration": 15,
        "start_time": "2023-04-05T13:00:48.319Z"
      },
      {
        "duration": 51,
        "start_time": "2023-04-05T13:00:48.335Z"
      },
      {
        "duration": 14,
        "start_time": "2023-04-05T13:00:48.388Z"
      },
      {
        "duration": 18,
        "start_time": "2023-04-05T13:00:48.404Z"
      },
      {
        "duration": 14,
        "start_time": "2023-04-05T13:00:48.423Z"
      },
      {
        "duration": 32,
        "start_time": "2023-04-05T13:00:48.438Z"
      },
      {
        "duration": 18,
        "start_time": "2023-04-05T13:00:48.472Z"
      },
      {
        "duration": 17,
        "start_time": "2023-04-05T13:00:48.492Z"
      },
      {
        "duration": 20,
        "start_time": "2023-04-05T13:00:48.511Z"
      },
      {
        "duration": 29,
        "start_time": "2023-04-05T13:00:48.533Z"
      },
      {
        "duration": 268,
        "start_time": "2023-04-05T13:00:48.565Z"
      },
      {
        "duration": 23,
        "start_time": "2023-04-05T13:00:48.835Z"
      },
      {
        "duration": 649,
        "start_time": "2023-04-05T13:00:48.862Z"
      },
      {
        "duration": 31,
        "start_time": "2023-04-05T13:00:49.513Z"
      },
      {
        "duration": 36,
        "start_time": "2023-04-05T13:00:49.550Z"
      },
      {
        "duration": 109,
        "start_time": "2023-04-05T13:00:49.589Z"
      },
      {
        "duration": 21,
        "start_time": "2023-04-05T13:00:49.700Z"
      },
      {
        "duration": 7,
        "start_time": "2023-04-05T13:00:49.723Z"
      },
      {
        "duration": 43,
        "start_time": "2023-04-05T13:00:49.732Z"
      },
      {
        "duration": 27,
        "start_time": "2023-04-05T13:00:49.777Z"
      },
      {
        "duration": 3,
        "start_time": "2023-04-05T13:00:49.806Z"
      },
      {
        "duration": 10,
        "start_time": "2023-04-05T13:00:49.810Z"
      },
      {
        "duration": 23,
        "start_time": "2023-04-05T13:00:49.822Z"
      },
      {
        "duration": 6,
        "start_time": "2023-04-05T13:00:49.848Z"
      },
      {
        "duration": 28,
        "start_time": "2023-04-05T13:00:49.857Z"
      },
      {
        "duration": 21,
        "start_time": "2023-04-05T13:00:49.887Z"
      },
      {
        "duration": 23,
        "start_time": "2023-04-05T13:00:49.910Z"
      }
    ],
    "colab": {
      "provenance": []
    },
    "kernelspec": {
      "display_name": "Python 3 (ipykernel)",
      "language": "python",
      "name": "python3"
    },
    "language_info": {
      "codemirror_mode": {
        "name": "ipython",
        "version": 3
      },
      "file_extension": ".py",
      "mimetype": "text/x-python",
      "name": "python",
      "nbconvert_exporter": "python",
      "pygments_lexer": "ipython3",
      "version": "3.9.5"
    },
    "toc": {
      "base_numbering": 1,
      "nav_menu": {},
      "number_sections": true,
      "sideBar": true,
      "skip_h1_title": true,
      "title_cell": "Table of Contents",
      "title_sidebar": "Contents",
      "toc_cell": false,
      "toc_position": {},
      "toc_section_display": true,
      "toc_window_display": false
    }
  },
  "nbformat": 4,
  "nbformat_minor": 0
}
